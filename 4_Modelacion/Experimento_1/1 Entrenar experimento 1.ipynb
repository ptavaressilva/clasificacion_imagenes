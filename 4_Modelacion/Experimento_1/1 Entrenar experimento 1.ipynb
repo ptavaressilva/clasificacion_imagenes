{
 "cells": [
  {
   "cell_type": "markdown",
   "metadata": {
    "id": "ey_KBlielNXM"
   },
   "source": [
    "**Función:** Entrenamiento de la CNN línea base (con dataset 10k desbalanceado).\n",
    "\n",
    "**Requiere:**\n",
    "- ../../datasets/X_train_DATASET10K224_x_float.pkl\n",
    "- ../../datasets/X_test_DATASET10K224_x_float.pkl\n",
    "- ../../datasets/y_train_DATASET10K224.pkl\n",
    "- ../../datasets/y_test_DATASET10K224.pkl\n",
    "\n",
    "**Crea:** Fichero con el modelo entrenado (epoch con menor val_loss).\n",
    "- modelos/tf_model_\\<run_id\\>"
   ]
  },
  {
   "cell_type": "code",
   "execution_count": 12,
   "metadata": {},
   "outputs": [],
   "source": [
    "ejecutadoEnGoogleDrive = False # True si se ejecuta en Google Drive"
   ]
  },
  {
   "cell_type": "code",
   "execution_count": null,
   "metadata": {
    "id": "F9aseRNKml3g",
    "scrolled": true
   },
   "outputs": [],
   "source": [
    "if ejecutadoEnGoogleDrive:\n",
    "    from google.colab import drive\n",
    "    drive.mount('/content/drive')\n",
    "    PATH = '/content/drive/clasificacion_imagenes/'\n",
    "    ruta_datasets = '/content/drive/clasificacion_imagenes/datasets/'\n",
    "else:\n",
    "    PATH = '../../1_Setup_MLOps'\n",
    "    ruta_datasets = '../../datasets/'\n",
    "%cd {PATH}"
   ]
  },
  {
   "cell_type": "code",
   "execution_count": null,
   "metadata": {
    "id": "e9UpSOpbk9Iq"
   },
   "outputs": [],
   "source": [
    "# !pip install mlflow\n",
    "import mlflow\n",
    "#from google.colab import drive\n",
    "import numpy as np\n",
    "from numpy.random import seed\n",
    "import matplotlib.pyplot as plt\n",
    "import pandas as pd\n",
    "import pickle\n",
    "from keras import backend as K\n",
    "from keras.utils import np_utils\n",
    "from keras.models import Sequential\n",
    "from keras.layers import Dense, Dropout, Activation, Flatten, Convolution2D, Conv2D, MaxPooling2D\n",
    "from tensorflow import keras\n",
    "from tensorflow.random import set_seed\n",
    "import time"
   ]
  },
  {
   "cell_type": "code",
   "execution_count": null,
   "metadata": {
    "id": "CEe_FflTIDBM"
   },
   "outputs": [],
   "source": [
    "seed(42) # So long and thanks for all the fish\n",
    "set_seed(42)"
   ]
  },
  {
   "cell_type": "code",
   "execution_count": null,
   "metadata": {
    "id": "HxujRP5MokEY"
   },
   "outputs": [],
   "source": [
    "# el experimento 1 tiene el id \"0\" (string)\n",
    "experiment_id = \"0\""
   ]
  },
  {
   "cell_type": "code",
   "execution_count": null,
   "metadata": {
    "colab": {
     "base_uri": "https://localhost:8080/"
    },
    "executionInfo": {
     "elapsed": 239,
     "status": "ok",
     "timestamp": 1663101981504,
     "user": {
      "displayName": "Pedro Tavares Silva",
      "userId": "15176343071283963792"
     },
     "user_tz": -120
    },
    "id": "nTeKmHwFlXM3",
    "outputId": "40e9674a-5498-4151-f350-933337f858f7"
   },
   "outputs": [
    {
     "name": "stdout",
     "output_type": "stream",
     "text": [
      "Notebook ejecutado por Pedro_T\n"
     ]
    }
   ],
   "source": [
    "# Definir quién está ejecutando (para no machacar el MLflow de los compañeros)\n",
    "# Descomentar la linea que aplique\n",
    "# yo = 'Pedro_T'\n",
    "# yo = 'Toni_V'\n",
    "# yo = 'Carlos_H'\n",
    "# yo = 'Carlos_C'\n",
    "print('Notebook ejecutado por {}'.format(yo))"
   ]
  },
  {
   "cell_type": "code",
   "execution_count": null,
   "metadata": {
    "colab": {
     "base_uri": "https://localhost:8080/"
    },
    "executionInfo": {
     "elapsed": 218,
     "status": "ok",
     "timestamp": 1663101989136,
     "user": {
      "displayName": "Pedro Tavares Silva",
      "userId": "15176343071283963792"
     },
     "user_tz": -120
    },
    "id": "yApMM8dQllc-",
    "outputId": "e9f7fcdc-6300-4a92-dc2d-4277be80f6cd"
   },
   "outputs": [
    {
     "data": {
      "text/plain": [
       "<Experiment: artifact_location='mlruns', experiment_id='0', lifecycle_stage='active', name='Entrenamiento de CNN', tags={'Dataset': 'DATASET 10K 224',\n",
       " 'Experimento': '1',\n",
       " 'Modelo': 'CNN basica (baseline)',\n",
       " 'mlflow.note.content': 'En este experimento entrenamos una CNN con el '\n",
       "                        'DATASET10K224 de cara a establecer la línea base del '\n",
       "                        'trabajo final del Máster en Data Science (MDS) en The '\n",
       "                        'Valley Business School.'}>"
      ]
     },
     "execution_count": 5,
     "metadata": {},
     "output_type": "execute_result"
    }
   ],
   "source": [
    "mlflow.set_experiment(experiment_id = experiment_id) "
   ]
  },
  {
   "cell_type": "code",
   "execution_count": null,
   "metadata": {
    "id": "dweKZW2TIDBQ"
   },
   "outputs": [],
   "source": [
    "# reanudad run 2eb65387888c4bde8a458c9fc544bbb2\n",
    "run_id = # por ej. \"69bfdf296f384a75ada2ae55f9dc7672\" (ver en la carpeta mlruns/0)\n",
    "run = mlflow.start_run(run_id=run_id)"
   ]
  },
  {
   "cell_type": "code",
   "execution_count": null,
   "metadata": {
    "executionInfo": {
     "elapsed": 590,
     "status": "ok",
     "timestamp": 1663101993112,
     "user": {
      "displayName": "Pedro Tavares Silva",
      "userId": "15176343071283963792"
     },
     "user_tz": -120
    },
    "id": "WXCoFIaxneg2",
    "outputId": "c66abbe6-e177-4d0b-a8c0-04eb015c04dd"
   },
   "outputs": [
    {
     "name": "stdout",
     "output_type": "stream",
     "text": [
      "Run creado\n"
     ]
    }
   ],
   "source": [
    "# crear run\n",
    "solo si aplica! (comentar esta linea > ejecutar > descomentar)\n",
    "run = mlflow.start_run(\n",
    "  experiment_id=experiment_id,\n",
    "  tags={\"Autor\": yo}\n",
    ")\n",
    "print('Run creado')"
   ]
  },
  {
   "cell_type": "code",
   "execution_count": null,
   "metadata": {
    "colab": {
     "base_uri": "https://localhost:8080/"
    },
    "executionInfo": {
     "elapsed": 224,
     "status": "ok",
     "timestamp": 1663102001274,
     "user": {
      "displayName": "Pedro Tavares Silva",
      "userId": "15176343071283963792"
     },
     "user_tz": -120
    },
    "id": "zYRK9d2flraa",
    "outputId": "f1db9345-dfc3-4f3b-b093-6668209854bc"
   },
   "outputs": [
    {
     "name": "stdout",
     "output_type": "stream",
     "text": [
      "Vamos empezar el run 2eb65387888c4bde8a458c9fc544bbb2 en el experimento 0. Este run está RUNNING.\n"
     ]
    }
   ],
   "source": [
    "# ver id de este run\n",
    "print('Vamos empezar el run {} en el experimento {}. Este run está {}.'.format(run.info.run_id, experiment_id, run.info.status))"
   ]
  },
  {
   "cell_type": "code",
   "execution_count": null,
   "metadata": {
    "id": "TErw_vCKm19V"
   },
   "outputs": [],
   "source": [
    "# activar auto logging\n",
    "mlflow.tensorflow.autolog()"
   ]
  },
  {
   "cell_type": "markdown",
   "metadata": {
    "id": "7ieOPCyurVJm"
   },
   "source": [
    "Formato esperado:\n",
    "- X_train: (N, 224, 224, 3) float32 (entre 0. y 1.)\n",
    "- y_train: (N, 5) float32 (0. o 1.)\n",
    "- X_test: (P, 224, 224, 3) float32 (entre 0. y 1.)\n",
    "- y_test: (P, 5) float32 (0. o 1.)"
   ]
  },
  {
   "cell_type": "code",
   "execution_count": null,
   "metadata": {
    "id": "8nG1WcpKpdWk"
   },
   "outputs": [],
   "source": [
    "X_train = pickle.load(open(ruta_datasets + 'X_train_DATASET10K224_x_float.pkl','rb'))\n",
    "X_test = pickle.load(open(ruta_datasets + 'X_test_DATASET10K224_x_float.pkl','rb'))\n",
    "y_train = pickle.load(open(ruta_datasets + 'y_train_DATASET10K224.pkl','rb'))\n",
    "y_test = pickle.load(open(ruta_datasets + 'y_test_DATASET10K224.pkl','rb'))"
   ]
  },
  {
   "cell_type": "code",
   "execution_count": null,
   "metadata": {
    "id": "GFl4zMF_kZeG"
   },
   "outputs": [],
   "source": [
    "categories = ['food', 'inside', 'outside', 'drink', 'menu']"
   ]
  },
  {
   "cell_type": "code",
   "execution_count": null,
   "metadata": {
    "id": "NY6K5J3kq2iV",
    "outputId": "d86cface-62e1-42ce-8c20-769c0c519ddf"
   },
   "outputs": [
    {
     "name": "stdout",
     "output_type": "stream",
     "text": [
      "X_train: (6650, 224, 224, 3) float32\n",
      "y_train: (6650, 5) float32\n",
      "X_test: (1662, 224, 224, 3) float32\n",
      "y_test: (1662, 5) float32\n"
     ]
    }
   ],
   "source": [
    "print(\"X_train: {} {}\".format(X_train.shape, X_train.dtype))\n",
    "print(\"y_train: {} {}\".format(y_train.shape, y_train.dtype))\n",
    "print(\"X_test: {} {}\".format(X_test.shape, X_test.dtype))\n",
    "print(\"y_test: {} {}\".format(y_test.shape, y_test.dtype))"
   ]
  },
  {
   "cell_type": "code",
   "execution_count": null,
   "metadata": {
    "id": "0kPdcNeWtMaW"
   },
   "outputs": [],
   "source": [
    "# Dimensiones de la imagen de entrada\n",
    "img_rows, img_cols, img_ch = 224, 224, 3\n",
    "num_labels = 5"
   ]
  },
  {
   "cell_type": "code",
   "execution_count": null,
   "metadata": {
    "colab": {
     "base_uri": "https://localhost:8080/"
    },
    "executionInfo": {
     "elapsed": 375,
     "status": "ok",
     "timestamp": 1663087323390,
     "user": {
      "displayName": "Pedro Tavares Silva",
      "userId": "15176343071283963792"
     },
     "user_tz": -120
    },
    "id": "IZm9F-NbrU0v",
    "outputId": "8fad23e4-c001-45d2-e55b-d9fa5425c647"
   },
   "outputs": [
    {
     "name": "stdout",
     "output_type": "stream",
     "text": [
      "El dataset tiene las dimensiones esperadas\n"
     ]
    }
   ],
   "source": [
    "# test de los datos de entrada\n",
    "if   (X_train.shape[1] != img_rows) \\\n",
    "  or (X_train.shape[2] != img_cols)\\\n",
    "  or (X_train.shape[3] != img_ch)\\\n",
    "  or (y_train.shape[1] != num_labels)\\\n",
    "  or (X_train.dtype != 'float32')\\\n",
    "  or (X_test.shape[1] != img_rows) \\\n",
    "  or (X_test.shape[2] != img_cols)\\\n",
    "  or (X_test.shape[3] != img_ch)\\\n",
    "  or (y_test.shape[1] != num_labels)\\\n",
    "  or (X_test.dtype != 'float32')\\\n",
    "  or (y_train.dtype != 'float32')\\\n",
    "  or (y_test.dtype != 'float32')\\\n",
    "  or (X_train.shape[0] != y_train.shape[0])\\\n",
    "  or (X_test.shape[0] != y_test.shape[0]\\\n",
    "  or type(X_train) != np.ndarray\\\n",
    "  or type(X_test) != np.ndarray\\\n",
    "  or type(y_train) != np.ndarray\\\n",
    "  or type(y_test) != np.ndarray):\n",
    "  raise Exception(\"El dataset no tiene las dimensiones esperadas!\")\n",
    "else:\n",
    "  print('El dataset tiene las dimensiones esperadas')"
   ]
  },
  {
   "cell_type": "code",
   "execution_count": null,
   "metadata": {
    "id": "oUOH1ASXv7Pu"
   },
   "outputs": [],
   "source": [
    "# función de Javier de la Rosa\n",
    "def plot_hist(history, title=\"Model Accuracy\"):\n",
    "    \"\"\"Imprime una gráfica mostrando la accuracy por epoch obtenida en un entrenamiento\"\"\"\n",
    "    f, (ax1, ax2) = plt.subplots(nrows=1, ncols=2)\n",
    "    ax1.plot(history.history['accuracy'])\n",
    "    ax1.set_title(\"Model Accuracy\")\n",
    "    ax1.set_ylabel('Accuracy')\n",
    "    ax1.set_xlabel('Epoch')\n",
    "    \n",
    "    ax2.plot(history.history['loss'])\n",
    "    ax2.set_title(\"Model Loss\")\n",
    "    ax2.set_ylabel('Loss')\n",
    "    ax2.set_xlabel('Epoch')"
   ]
  },
  {
   "cell_type": "code",
   "execution_count": null,
   "metadata": {
    "id": "SJ04WQHdwDnp"
   },
   "outputs": [],
   "source": [
    "IMG_SIZE=224\n",
    "epochs = 40\n",
    "batch_size=64\n",
    "validation_split = 0.2"
   ]
  },
  {
   "cell_type": "code",
   "execution_count": null,
   "metadata": {
    "colab": {
     "base_uri": "https://localhost:8080/"
    },
    "executionInfo": {
     "elapsed": 614,
     "status": "ok",
     "timestamp": 1663087916306,
     "user": {
      "displayName": "Pedro Tavares Silva",
      "userId": "15176343071283963792"
     },
     "user_tz": -120
    },
    "id": "D9ryTnm0vw7z",
    "outputId": "e5bbb4d7-a418-4298-e15e-6a56223ee707"
   },
   "outputs": [
    {
     "name": "stderr",
     "output_type": "stream",
     "text": [
      "/usr/local/lib/python3.8/dist-packages/keras/optimizers/optimizer_v2/nadam.py:78: UserWarning: The `lr` argument is deprecated, use `learning_rate` instead.\n",
      "  super(Nadam, self).__init__(name, **kwargs)\n"
     ]
    }
   ],
   "source": [
    "model2 = Sequential()\n",
    "model2.add(Conv2D(10, (12, 12), padding='same', input_shape=(IMG_SIZE,IMG_SIZE,3)))\n",
    "model2.add(Activation('relu'))\n",
    "model2.add(Conv2D(IMG_SIZE, (3, 3)))\n",
    "model2.add(Activation('relu'))\n",
    "model2.add(MaxPooling2D(pool_size=(4, 4)))\n",
    "model2.add(Dropout(0.25))\n",
    "\n",
    "model2.add(Conv2D(IMG_SIZE, (3, 3), padding='same'))\n",
    "model2.add(Activation('relu'))\n",
    "model2.add(Conv2D(IMG_SIZE, (3, 3)))\n",
    "model2.add(Activation('relu'))\n",
    "model2.add(MaxPooling2D(pool_size=(2, 2)))\n",
    "model2.add(Dropout(0.25))\n",
    "\n",
    "model2.add(Flatten())\n",
    "model2.add(Dense(512))\n",
    "model2.add(Activation('relu'))\n",
    "model2.add(Dropout(0.5))\n",
    "model2.add(Dense(5))\n",
    "model2.add(Activation('softmax'))\n",
    "opt = keras.optimizers.Nadam(lr=0.0001, schedule_decay=1e-6)"
   ]
  },
  {
   "cell_type": "code",
   "execution_count": null,
   "metadata": {
    "id": "vSxTR0skIDBY"
   },
   "outputs": [],
   "source": [
    "# las métricas han sido quitadas de Keras en 2.0\n",
    "def recall_m(y_true, y_pred):\n",
    "    true_positives = K.sum(K.round(K.clip(y_true * y_pred, 0, 1)))\n",
    "    possible_positives = K.sum(K.round(K.clip(y_true, 0, 1)))\n",
    "    recall = true_positives / (possible_positives + K.epsilon())\n",
    "    return recall\n",
    "\n",
    "def precision_m(y_true, y_pred):\n",
    "    true_positives = K.sum(K.round(K.clip(y_true * y_pred, 0, 1)))\n",
    "    predicted_positives = K.sum(K.round(K.clip(y_pred, 0, 1)))\n",
    "    precision = true_positives / (predicted_positives + K.epsilon())\n",
    "    return precision\n",
    "\n",
    "def f1_m(y_true, y_pred):\n",
    "    precision = precision_m(y_true, y_pred)\n",
    "    recall = recall_m(y_true, y_pred)\n",
    "    return 2*((precision*recall)/(precision+recall+K.epsilon()))"
   ]
  },
  {
   "cell_type": "code",
   "execution_count": null,
   "metadata": {
    "id": "Jfpgpc_Ew0SR"
   },
   "outputs": [],
   "source": [
    "model2.compile(loss='categorical_crossentropy',\n",
    "              optimizer=opt,\n",
    "              metrics=['acc', f1_m, precision_m, recall_m])"
   ]
  },
  {
   "cell_type": "code",
   "execution_count": null,
   "metadata": {
    "colab": {
     "base_uri": "https://localhost:8080/"
    },
    "executionInfo": {
     "elapsed": 253,
     "status": "ok",
     "timestamp": 1663087920664,
     "user": {
      "displayName": "Pedro Tavares Silva",
      "userId": "15176343071283963792"
     },
     "user_tz": -120
    },
    "id": "H6p7K4kIv8y3",
    "outputId": "2d1203a8-2705-478f-c6cc-e807fcbe603c",
    "scrolled": false
   },
   "outputs": [
    {
     "name": "stdout",
     "output_type": "stream",
     "text": [
      "Model: \"sequential_1\"\n",
      "_________________________________________________________________\n",
      " Layer (type)                Output Shape              Param #   \n",
      "=================================================================\n",
      " conv2d_4 (Conv2D)           (None, 224, 224, 10)      4330      \n",
      "                                                                 \n",
      " activation_6 (Activation)   (None, 224, 224, 10)      0         \n",
      "                                                                 \n",
      " conv2d_5 (Conv2D)           (None, 222, 222, 224)     20384     \n",
      "                                                                 \n",
      " activation_7 (Activation)   (None, 222, 222, 224)     0         \n",
      "                                                                 \n",
      " max_pooling2d_2 (MaxPooling  (None, 55, 55, 224)      0         \n",
      " 2D)                                                             \n",
      "                                                                 \n",
      " dropout_3 (Dropout)         (None, 55, 55, 224)       0         \n",
      "                                                                 \n",
      " conv2d_6 (Conv2D)           (None, 55, 55, 224)       451808    \n",
      "                                                                 \n",
      " activation_8 (Activation)   (None, 55, 55, 224)       0         \n",
      "                                                                 \n",
      " conv2d_7 (Conv2D)           (None, 53, 53, 224)       451808    \n",
      "                                                                 \n",
      " activation_9 (Activation)   (None, 53, 53, 224)       0         \n",
      "                                                                 \n",
      " max_pooling2d_3 (MaxPooling  (None, 26, 26, 224)      0         \n",
      " 2D)                                                             \n",
      "                                                                 \n",
      " dropout_4 (Dropout)         (None, 26, 26, 224)       0         \n",
      "                                                                 \n",
      " flatten_1 (Flatten)         (None, 151424)            0         \n",
      "                                                                 \n",
      " dense_2 (Dense)             (None, 512)               77529600  \n",
      "                                                                 \n",
      " activation_10 (Activation)  (None, 512)               0         \n",
      "                                                                 \n",
      " dropout_5 (Dropout)         (None, 512)               0         \n",
      "                                                                 \n",
      " dense_3 (Dense)             (None, 5)                 2565      \n",
      "                                                                 \n",
      " activation_11 (Activation)  (None, 5)                 0         \n",
      "                                                                 \n",
      "=================================================================\n",
      "Total params: 78,460,495\n",
      "Trainable params: 78,460,495\n",
      "Non-trainable params: 0\n",
      "_________________________________________________________________\n"
     ]
    }
   ],
   "source": [
    "model2.summary()"
   ]
  },
  {
   "cell_type": "code",
   "execution_count": null,
   "metadata": {
    "id": "DT8x0uTGIDBZ"
   },
   "outputs": [],
   "source": [
    "callback = keras.callbacks.EarlyStopping(monitor='val_loss',\n",
    "                                         patience=8,\n",
    "                                         restore_best_weights=True)"
   ]
  },
  {
   "cell_type": "code",
   "execution_count": null,
   "metadata": {
    "id": "rg_SLrK0IDBZ",
    "outputId": "b2520664-fb79-4694-c866-ae8dfb7c02f3"
   },
   "outputs": [
    {
     "name": "stdout",
     "output_type": "stream",
     "text": [
      "Epoch 1/40\n",
      "104/104 [==============================] - 1537s 15s/step - loss: 0.9551 - acc: 0.6486 - f1_m: 0.6004 - precision_m: 0.7239 - recall_m: 0.5255 - val_loss: 0.8668 - val_acc: 0.7178 - val_f1_m: 0.5964 - val_precision_m: 0.7290 - val_recall_m: 0.5204\n",
      "Epoch 2/40\n",
      "104/104 [==============================] - 1571s 15s/step - loss: 0.8120 - acc: 0.7180 - f1_m: 0.6918 - precision_m: 0.7783 - recall_m: 0.6260 - val_loss: 0.7860 - val_acc: 0.7335 - val_f1_m: 0.6805 - val_precision_m: 0.7633 - val_recall_m: 0.6184\n",
      "Epoch 3/40\n",
      "104/104 [==============================] - 1405s 14s/step - loss: 0.7411 - acc: 0.7415 - f1_m: 0.7268 - precision_m: 0.7973 - recall_m: 0.6695 - val_loss: 0.8194 - val_acc: 0.7527 - val_f1_m: 0.6595 - val_precision_m: 0.8020 - val_recall_m: 0.5613\n",
      "Epoch 4/40\n",
      "104/104 [==============================] - 1444s 14s/step - loss: 0.6773 - acc: 0.7627 - f1_m: 0.7496 - precision_m: 0.8132 - recall_m: 0.6968 - val_loss: 0.6436 - val_acc: 0.7780 - val_f1_m: 0.7327 - val_precision_m: 0.8040 - val_recall_m: 0.6779\n",
      "Epoch 5/40\n",
      "104/104 [==============================] - 1440s 14s/step - loss: 0.5923 - acc: 0.7838 - f1_m: 0.7765 - precision_m: 0.8345 - recall_m: 0.7271 - val_loss: 0.5421 - val_acc: 0.8026 - val_f1_m: 0.7860 - val_precision_m: 0.8275 - val_recall_m: 0.7513\n",
      "Epoch 6/40\n",
      "104/104 [==============================] - 1450s 14s/step - loss: 0.5379 - acc: 0.8078 - f1_m: 0.7997 - precision_m: 0.8510 - recall_m: 0.7552 - val_loss: 0.5405 - val_acc: 0.8051 - val_f1_m: 0.7901 - val_precision_m: 0.8193 - val_recall_m: 0.7664\n",
      "Epoch 7/40\n",
      "104/104 [==============================] - 1440s 14s/step - loss: 0.4738 - acc: 0.8278 - f1_m: 0.8194 - precision_m: 0.8652 - recall_m: 0.7794 - val_loss: 0.4866 - val_acc: 0.8339 - val_f1_m: 0.8120 - val_precision_m: 0.8474 - val_recall_m: 0.7832\n",
      "Epoch 8/40\n",
      "104/104 [==============================] - 1435s 14s/step - loss: 0.3873 - acc: 0.8598 - f1_m: 0.8582 - precision_m: 0.8907 - recall_m: 0.8286 - val_loss: 0.6187 - val_acc: 0.7978 - val_f1_m: 0.7866 - val_precision_m: 0.8015 - val_recall_m: 0.7737\n",
      "Epoch 9/40\n",
      "104/104 [==============================] - 1459s 14s/step - loss: 0.3286 - acc: 0.8838 - f1_m: 0.8824 - precision_m: 0.9064 - recall_m: 0.8601 - val_loss: 0.3975 - val_acc: 0.8857 - val_f1_m: 0.8770 - val_precision_m: 0.8973 - val_recall_m: 0.8588\n",
      "Epoch 10/40\n",
      "104/104 [==============================] - 1515s 15s/step - loss: 0.2685 - acc: 0.9048 - f1_m: 0.9028 - precision_m: 0.9209 - recall_m: 0.8855 - val_loss: 0.6488 - val_acc: 0.7804 - val_f1_m: 0.7755 - val_precision_m: 0.7892 - val_recall_m: 0.7636\n",
      "Epoch 11/40\n",
      "104/104 [==============================] - 1723s 17s/step - loss: 0.1996 - acc: 0.9326 - f1_m: 0.9311 - precision_m: 0.9449 - recall_m: 0.9178 - val_loss: 0.3471 - val_acc: 0.9116 - val_f1_m: 0.9110 - val_precision_m: 0.9163 - val_recall_m: 0.9059\n",
      "Epoch 12/40\n",
      "104/104 [==============================] - 1484s 14s/step - loss: 0.2509 - acc: 0.9180 - f1_m: 0.9166 - precision_m: 0.9304 - recall_m: 0.9049 - val_loss: 0.5679 - val_acc: 0.7954 - val_f1_m: 0.7736 - val_precision_m: 0.8103 - val_recall_m: 0.7417\n",
      "Epoch 13/40\n",
      "104/104 [==============================] - 1485s 14s/step - loss: 0.2412 - acc: 0.9192 - f1_m: 0.9167 - precision_m: 0.9365 - recall_m: 0.8984 - val_loss: 0.3660 - val_acc: 0.9188 - val_f1_m: 0.9181 - val_precision_m: 0.9252 - val_recall_m: 0.9113\n",
      "Epoch 14/40\n",
      "104/104 [==============================] - 1493s 14s/step - loss: 0.0945 - acc: 0.9714 - f1_m: 0.9715 - precision_m: 0.9757 - recall_m: 0.9675 - val_loss: 0.3846 - val_acc: 0.9272 - val_f1_m: 0.9279 - val_precision_m: 0.9305 - val_recall_m: 0.9253\n",
      "Epoch 15/40\n",
      "104/104 [==============================] - 1594s 15s/step - loss: 0.0686 - acc: 0.9800 - f1_m: 0.9801 - precision_m: 0.9829 - recall_m: 0.9775 - val_loss: 0.3568 - val_acc: 0.9320 - val_f1_m: 0.9323 - val_precision_m: 0.9345 - val_recall_m: 0.9301\n",
      "Epoch 16/40\n",
      "104/104 [==============================] - 1540s 15s/step - loss: 0.0502 - acc: 0.9860 - f1_m: 0.9861 - precision_m: 0.9873 - recall_m: 0.9849 - val_loss: 0.4324 - val_acc: 0.9326 - val_f1_m: 0.9329 - val_precision_m: 0.9340 - val_recall_m: 0.9319\n",
      "Epoch 17/40\n",
      "104/104 [==============================] - 1527s 15s/step - loss: 0.0516 - acc: 0.9845 - f1_m: 0.9844 - precision_m: 0.9857 - recall_m: 0.9832 - val_loss: 0.4611 - val_acc: 0.9326 - val_f1_m: 0.9334 - val_precision_m: 0.9342 - val_recall_m: 0.9325\n",
      "Epoch 18/40\n",
      "104/104 [==============================] - 1522s 15s/step - loss: 0.0415 - acc: 0.9886 - f1_m: 0.9880 - precision_m: 0.9896 - recall_m: 0.9865 - val_loss: 0.4899 - val_acc: 0.9344 - val_f1_m: 0.9330 - val_precision_m: 0.9341 - val_recall_m: 0.9319\n",
      "Epoch 19/40\n",
      "104/104 [==============================] - 1576s 15s/step - loss: 0.0281 - acc: 0.9916 - f1_m: 0.9918 - precision_m: 0.9922 - recall_m: 0.9914 - val_loss: 0.4882 - val_acc: 0.9350 - val_f1_m: 0.9348 - val_precision_m: 0.9360 - val_recall_m: 0.9337\n"
     ]
    },
    {
     "name": "stderr",
     "output_type": "stream",
     "text": [
      "WARNING:absl:Found untraced functions such as _jit_compiled_convolution_op, _jit_compiled_convolution_op, _jit_compiled_convolution_op, _jit_compiled_convolution_op while saving (showing 4 of 4). These functions will not be directly callable after loading.\n"
     ]
    },
    {
     "name": "stdout",
     "output_type": "stream",
     "text": [
      "INFO:tensorflow:Assets written to: /tmp/tmpvc94y6aj/model/data/model/assets\n"
     ]
    },
    {
     "name": "stderr",
     "output_type": "stream",
     "text": [
      "INFO:tensorflow:Assets written to: /tmp/tmpvc94y6aj/model/data/model/assets\n",
      "2022/09/16 16:07:35 WARNING mlflow.utils.environment: Encountered an unexpected error while inferring pip requirements (model URI: /tmp/tmpvc94y6aj/model, flavor: keras), fall back to return ['tensorflow==2.9.1', 'keras==2.9.0']. Set logging level to DEBUG to see the full traceback.\n"
     ]
    }
   ],
   "source": [
    "start_time = time.time()\n",
    "history = model2.fit(X_train, y_train,\n",
    "                    epochs = epochs,\n",
    "                    batch_size=batch_size,\n",
    "                    validation_data=(X_test, y_test),\n",
    "                    callbacks=[callback],\n",
    "                    verbose=1)\n",
    "end_time = time.time()"
   ]
  },
  {
   "cell_type": "code",
   "execution_count": null,
   "metadata": {
    "id": "YEvEpljXIDBZ",
    "outputId": "b0eaece9-c788-4314-8745-a91e4e4a99da"
   },
   "outputs": [
    {
     "name": "stdout",
     "output_type": "stream",
     "text": [
      "{'verbose': 1, 'epochs': 40, 'steps': 104}\n"
     ]
    }
   ],
   "source": [
    "print(history.params)"
   ]
  },
  {
   "cell_type": "code",
   "execution_count": null,
   "metadata": {
    "id": "iXIXoWgzIDBc",
    "outputId": "8e80f60e-428b-4cbb-8916-e95b5aa50e63"
   },
   "outputs": [
    {
     "data": {
      "text/plain": [
       "{'loss': [0.955109715461731,\n",
       "  0.8119623064994812,\n",
       "  0.7411442399024963,\n",
       "  0.6772661209106445,\n",
       "  0.5923296809196472,\n",
       "  0.5379163026809692,\n",
       "  0.4737958610057831,\n",
       "  0.38729074597358704,\n",
       "  0.32863783836364746,\n",
       "  0.26847633719444275,\n",
       "  0.19956795871257782,\n",
       "  0.25088316202163696,\n",
       "  0.24121803045272827,\n",
       "  0.0945020392537117,\n",
       "  0.06864945590496063,\n",
       "  0.05016828700900078,\n",
       "  0.05161503702402115,\n",
       "  0.041540127247571945,\n",
       "  0.02806752920150757],\n",
       " 'acc': [0.6485714316368103,\n",
       "  0.7180451154708862,\n",
       "  0.7415037751197815,\n",
       "  0.7627067565917969,\n",
       "  0.7837594151496887,\n",
       "  0.8078195452690125,\n",
       "  0.8278195261955261,\n",
       "  0.8598496317863464,\n",
       "  0.8837593793869019,\n",
       "  0.9048120379447937,\n",
       "  0.9326315522193909,\n",
       "  0.9180451035499573,\n",
       "  0.919248104095459,\n",
       "  0.9714285731315613,\n",
       "  0.9800000190734863,\n",
       "  0.9860150218009949,\n",
       "  0.9845112562179565,\n",
       "  0.9885714054107666,\n",
       "  0.9915789365768433],\n",
       " 'f1_m': [0.6004496812820435,\n",
       "  0.6918430328369141,\n",
       "  0.7267724275588989,\n",
       "  0.7496023774147034,\n",
       "  0.7765404582023621,\n",
       "  0.7996648550033569,\n",
       "  0.8194468021392822,\n",
       "  0.8582168817520142,\n",
       "  0.8824225664138794,\n",
       "  0.9027560353279114,\n",
       "  0.9310595989227295,\n",
       "  0.9166430830955505,\n",
       "  0.9166688323020935,\n",
       "  0.9715427160263062,\n",
       "  0.9801454544067383,\n",
       "  0.9860909581184387,\n",
       "  0.9844222664833069,\n",
       "  0.9880000352859497,\n",
       "  0.9918066263198853],\n",
       " 'precision_m': [0.7238632440567017,\n",
       "  0.7783157825469971,\n",
       "  0.7973480224609375,\n",
       "  0.8132015466690063,\n",
       "  0.8344671726226807,\n",
       "  0.8510088324546814,\n",
       "  0.8651862740516663,\n",
       "  0.8906903862953186,\n",
       "  0.9063555598258972,\n",
       "  0.9209286570549011,\n",
       "  0.94493567943573,\n",
       "  0.9304199814796448,\n",
       "  0.9365186095237732,\n",
       "  0.9756906032562256,\n",
       "  0.9828934073448181,\n",
       "  0.9872865676879883,\n",
       "  0.9856981635093689,\n",
       "  0.9895617365837097,\n",
       "  0.992182731628418],\n",
       " 'recall_m': [0.5254838466644287,\n",
       "  0.6259532570838928,\n",
       "  0.6694763898849487,\n",
       "  0.696789026260376,\n",
       "  0.7270961403846741,\n",
       "  0.7551755309104919,\n",
       "  0.779395341873169,\n",
       "  0.8285550475120544,\n",
       "  0.8601055145263672,\n",
       "  0.8855375051498413,\n",
       "  0.9178029298782349,\n",
       "  0.9049081802368164,\n",
       "  0.8984219431877136,\n",
       "  0.9675014019012451,\n",
       "  0.977463960647583,\n",
       "  0.9849138259887695,\n",
       "  0.9831730723381042,\n",
       "  0.9864783883094788,\n",
       "  0.9914363026618958],\n",
       " 'val_loss': [0.8668384552001953,\n",
       "  0.7860156893730164,\n",
       "  0.8194095492362976,\n",
       "  0.643648624420166,\n",
       "  0.5421342849731445,\n",
       "  0.5405421853065491,\n",
       "  0.4866073727607727,\n",
       "  0.6186726689338684,\n",
       "  0.3974914252758026,\n",
       "  0.6487571001052856,\n",
       "  0.3471164107322693,\n",
       "  0.5679416060447693,\n",
       "  0.3660373389720917,\n",
       "  0.3846282362937927,\n",
       "  0.3568195700645447,\n",
       "  0.4323856830596924,\n",
       "  0.46107423305511475,\n",
       "  0.4899007976055145,\n",
       "  0.4882023334503174],\n",
       " 'val_acc': [0.7178098559379578,\n",
       "  0.7334536910057068,\n",
       "  0.7527076005935669,\n",
       "  0.7779783606529236,\n",
       "  0.8026474118232727,\n",
       "  0.8050541281700134,\n",
       "  0.833935022354126,\n",
       "  0.7978339195251465,\n",
       "  0.8856799006462097,\n",
       "  0.7803850769996643,\n",
       "  0.911552369594574,\n",
       "  0.7954272031784058,\n",
       "  0.9187725782394409,\n",
       "  0.9271961450576782,\n",
       "  0.9320096373558044,\n",
       "  0.9326112866401672,\n",
       "  0.9326112866401672,\n",
       "  0.9344163537025452,\n",
       "  0.9350180625915527],\n",
       " 'val_f1_m': [0.596449077129364,\n",
       "  0.680473268032074,\n",
       "  0.6594765782356262,\n",
       "  0.7326523661613464,\n",
       "  0.7859899997711182,\n",
       "  0.7901052236557007,\n",
       "  0.8119922280311584,\n",
       "  0.7865779399871826,\n",
       "  0.8769817352294922,\n",
       "  0.775534987449646,\n",
       "  0.9109916090965271,\n",
       "  0.7735608816146851,\n",
       "  0.9180896282196045,\n",
       "  0.9278644323348999,\n",
       "  0.9322710037231445,\n",
       "  0.9329332709312439,\n",
       "  0.933367133140564,\n",
       "  0.932975172996521,\n",
       "  0.934840738773346],\n",
       " 'val_precision_m': [0.7289754152297974,\n",
       "  0.763316810131073,\n",
       "  0.8020451664924622,\n",
       "  0.8039819002151489,\n",
       "  0.8274635076522827,\n",
       "  0.8192712068557739,\n",
       "  0.84743332862854,\n",
       "  0.8015273213386536,\n",
       "  0.8973066806793213,\n",
       "  0.7891913652420044,\n",
       "  0.9162982702255249,\n",
       "  0.8103405833244324,\n",
       "  0.9251618981361389,\n",
       "  0.9304999113082886,\n",
       "  0.9344707131385803,\n",
       "  0.9340053796768188,\n",
       "  0.9342301487922668,\n",
       "  0.9340792894363403,\n",
       "  0.9359992742538452],\n",
       " 'val_recall_m': [0.520432710647583,\n",
       "  0.6183894276618958,\n",
       "  0.5612980723381042,\n",
       "  0.6779040098190308,\n",
       "  0.7512794733047485,\n",
       "  0.766361653804779,\n",
       "  0.7832273244857788,\n",
       "  0.7736701369285583,\n",
       "  0.8587740659713745,\n",
       "  0.7636476755142212,\n",
       "  0.9058816432952881,\n",
       "  0.7417029142379761,\n",
       "  0.9113291501998901,\n",
       "  0.9252868890762329,\n",
       "  0.9301140308380127,\n",
       "  0.9318780899047852,\n",
       "  0.9325178861618042,\n",
       "  0.9318974614143372,\n",
       "  0.9337003231048584]}"
      ]
     },
     "execution_count": 50,
     "metadata": {},
     "output_type": "execute_result"
    }
   ],
   "source": [
    "history.history"
   ]
  },
  {
   "cell_type": "code",
   "execution_count": null,
   "metadata": {
    "id": "ORCUZ1pUIDBZ",
    "outputId": "f20bcb3e-0665-4293-faf6-e8f9bc140e72"
   },
   "outputs": [
    {
     "name": "stdout",
     "output_type": "stream",
     "text": [
      "dict_keys(['loss', 'acc', 'f1_m', 'precision_m', 'recall_m', 'val_loss', 'val_acc', 'val_f1_m', 'val_precision_m', 'val_recall_m'])\n"
     ]
    }
   ],
   "source": [
    "print(history.history.keys())"
   ]
  },
  {
   "cell_type": "code",
   "execution_count": null,
   "metadata": {},
   "outputs": [],
   "source": [
    "% ir de PATH a Experimento_1/modelos\n",
    "%cd ../4_Modelacion/Experimento_1/modelos/"
   ]
  },
  {
   "cell_type": "code",
   "execution_count": null,
   "metadata": {
    "id": "lmNnKj8-IDBb",
    "outputId": "12f6e1a0-b2cc-4162-878c-57f2bc797c50"
   },
   "outputs": [
    {
     "name": "stderr",
     "output_type": "stream",
     "text": [
      "WARNING:absl:Found untraced functions such as _jit_compiled_convolution_op, _jit_compiled_convolution_op, _jit_compiled_convolution_op, _jit_compiled_convolution_op while saving (showing 4 of 4). These functions will not be directly callable after loading.\n"
     ]
    },
    {
     "name": "stdout",
     "output_type": "stream",
     "text": [
      "INFO:tensorflow:Assets written to: Experimento_1/tf_model_2eb65387888c4bde8a458c9fc544bbb2/assets\n"
     ]
    },
    {
     "name": "stderr",
     "output_type": "stream",
     "text": [
      "INFO:tensorflow:Assets written to: Experimento_1/tf_model_2eb65387888c4bde8a458c9fc544bbb2/assets\n"
     ]
    }
   ],
   "source": [
    "model2.save(PATH + 'tf_model_{}'.format(run.info.run_id))"
   ]
  },
  {
   "cell_type": "code",
   "execution_count": null,
   "metadata": {
    "id": "jNvYcVG_IDBb",
    "outputId": "765c4a7b-128b-4084-a80a-23c5b24378b3"
   },
   "outputs": [
    {
     "name": "stdout",
     "output_type": "stream",
     "text": [
      "Guardado: Experimento_1/tf_model_2eb65387888c4bde8a458c9fc544bbb2\n"
     ]
    }
   ],
   "source": [
    "print('Guardado: Experimento_1/modelos/tf_model_{}'.format(run.info.run_id))"
   ]
  },
  {
   "cell_type": "code",
   "execution_count": null,
   "metadata": {
    "id": "IgY4sv9NkDSq"
   },
   "outputs": [],
   "source": [
    "mlflow.end_run()"
   ]
  }
 ],
 "metadata": {
  "colab": {
   "collapsed_sections": [],
   "provenance": []
  },
  "kernelspec": {
   "display_name": "Python 3 (ipykernel)",
   "language": "python",
   "name": "python3"
  },
  "language_info": {
   "codemirror_mode": {
    "name": "ipython",
    "version": 3
   },
   "file_extension": ".py",
   "mimetype": "text/x-python",
   "name": "python",
   "nbconvert_exporter": "python",
   "pygments_lexer": "ipython3",
   "version": "3.8.10"
  }
 },
 "nbformat": 4,
 "nbformat_minor": 1
}
