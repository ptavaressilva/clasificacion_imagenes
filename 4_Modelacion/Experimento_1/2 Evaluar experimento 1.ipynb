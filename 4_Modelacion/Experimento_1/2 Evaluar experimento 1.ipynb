{
 "cells": [
  {
   "cell_type": "markdown",
   "id": "91f12f17",
   "metadata": {},
   "source": [
    "**Función:** evalua resultado del experimento 1.\n",
    "\n",
    "**Requiere:**\n",
    "- ../../datasets/X_test_DATASET10K224_x_float.pkl\n",
    "- ../../datasets/y_test_DATASET10K224.pkl\n",
    "- ./modelos/tf_model_\\<run_id\\>\n",
    "\n",
    "**Crea:**\n"
   ]
  },
  {
   "cell_type": "code",
   "execution_count": null,
   "id": "bc0ca3d5",
   "metadata": {},
   "outputs": [],
   "source": [
    "ejecutadoEnGoogleDrive = False # True si se ejecuta en Google Drive"
   ]
  },
  {
   "cell_type": "code",
   "execution_count": null,
   "id": "8ca716b9",
   "metadata": {
    "id": "8ca716b9",
    "outputId": "30a62948-fa2d-4523-fc53-a43ca92d6f6f"
   },
   "outputs": [],
   "source": [
    "import tensorflow as tf\n",
    "import pickle\n",
    "from keras import backend as K\n",
    "import pandas as pd\n",
    "import numpy as np\n",
    "import matplotlib.pyplot as plt\n",
    "from sklearn.metrics import confusion_matrix, classification_report"
   ]
  },
  {
   "cell_type": "code",
   "execution_count": null,
   "id": "brX6C5CM026T",
   "metadata": {
    "colab": {
     "base_uri": "https://localhost:8080/"
    },
    "executionInfo": {
     "elapsed": 23669,
     "status": "ok",
     "timestamp": 1663256744949,
     "user": {
      "displayName": "Pedro Tavares Silva",
      "userId": "15176343071283963792"
     },
     "user_tz": -120
    },
    "id": "brX6C5CM026T",
    "outputId": "181b1124-2cca-4a4b-a673-7313b7af2d30"
   },
   "outputs": [
    {
     "name": "stdout",
     "output_type": "stream",
     "text": [
      "Mounted at /content/drive\n"
     ]
    }
   ],
   "source": [
    "if ejecutadoEnGoogleDrive:\n",
    "    from google.colab import drive\n",
    "    drive.mount('/content/drive')\n",
    "    PATH = '/content/drive/clasificacion_imagenes/4_Modelacion/Experimento_1/\n",
    "    ruta_datasets = '/content/drive/clasificacion_imagenes/datasets/'\n",
    "else:\n",
    "    PATH = './'\n",
    "    ruta_datasets = '../..//datasets/'\n",
    "\n",
    "%cd {PATH}"
   ]
  },
  {
   "cell_type": "code",
   "execution_count": null,
   "id": "09b7f277",
   "metadata": {
    "id": "09b7f277"
   },
   "outputs": [],
   "source": [
    "X_test = pickle.load(open(ruta_datasets + 'X_test_DATASET10K224_x_float.pkl','rb'))\n",
    "y_test = pickle.load(open(ruta_datasets + 'y_test_DATASET10K224.pkl','rb'))"
   ]
  },
  {
   "cell_type": "code",
   "execution_count": null,
   "id": "02780d2c",
   "metadata": {
    "id": "02780d2c"
   },
   "outputs": [],
   "source": [
    "# las métricas han sido quitadas de Keras en 2.0\n",
    "def recall_m(y_true, y_pred):\n",
    "    true_positives = K.sum(K.round(K.clip(y_true * y_pred, 0, 1)))\n",
    "    possible_positives = K.sum(K.round(K.clip(y_true, 0, 1)))\n",
    "    recall = true_positives / (possible_positives + K.epsilon())\n",
    "    return recall\n",
    "\n",
    "def precision_m(y_true, y_pred):\n",
    "    true_positives = K.sum(K.round(K.clip(y_true * y_pred, 0, 1)))\n",
    "    predicted_positives = K.sum(K.round(K.clip(y_pred, 0, 1)))\n",
    "    precision = true_positives / (predicted_positives + K.epsilon())\n",
    "    return precision\n",
    "\n",
    "def f1_m(y_true, y_pred):\n",
    "    precision = precision_m(y_true, y_pred)\n",
    "    recall = recall_m(y_true, y_pred)\n",
    "    return 2*((precision*recall)/(precision+recall+K.epsilon()))"
   ]
  },
  {
   "cell_type": "code",
   "execution_count": null,
   "id": "29747740",
   "metadata": {
    "id": "29747740",
    "outputId": "d91c1727-cd9b-43d0-c417-8fb13a6bdddb"
   },
   "outputs": [],
   "source": [
    "modelo = tf.keras.models.load_model(PATH + 'modelos/tf_model_2eb65387888c4bde8a458c9fc544bbb2', custom_objects={'f1_m':f1_m,\n",
    "                                                                                                                'recall_m' : recall_m,\n",
    "                                                                                                                'precision_m' : precision_m})"
   ]
  },
  {
   "cell_type": "code",
   "execution_count": null,
   "id": "3cc440ac",
   "metadata": {
    "colab": {
     "base_uri": "https://localhost:8080/"
    },
    "executionInfo": {
     "elapsed": 22,
     "status": "ok",
     "timestamp": 1663259071444,
     "user": {
      "displayName": "Pedro Tavares Silva",
      "userId": "15176343071283963792"
     },
     "user_tz": -120
    },
    "id": "3cc440ac",
    "outputId": "fd34a998-1419-40bf-b0d5-21a01168c041"
   },
   "outputs": [
    {
     "name": "stdout",
     "output_type": "stream",
     "text": [
      "Model: \"sequential_1\"\n",
      "_________________________________________________________________\n",
      " Layer (type)                Output Shape              Param #   \n",
      "=================================================================\n",
      " conv2d_4 (Conv2D)           (None, 224, 224, 10)      4330      \n",
      "                                                                 \n",
      " activation_6 (Activation)   (None, 224, 224, 10)      0         \n",
      "                                                                 \n",
      " conv2d_5 (Conv2D)           (None, 222, 222, 224)     20384     \n",
      "                                                                 \n",
      " activation_7 (Activation)   (None, 222, 222, 224)     0         \n",
      "                                                                 \n",
      " max_pooling2d_2 (MaxPooling  (None, 55, 55, 224)      0         \n",
      " 2D)                                                             \n",
      "                                                                 \n",
      " dropout_3 (Dropout)         (None, 55, 55, 224)       0         \n",
      "                                                                 \n",
      " conv2d_6 (Conv2D)           (None, 55, 55, 224)       451808    \n",
      "                                                                 \n",
      " activation_8 (Activation)   (None, 55, 55, 224)       0         \n",
      "                                                                 \n",
      " conv2d_7 (Conv2D)           (None, 53, 53, 224)       451808    \n",
      "                                                                 \n",
      " activation_9 (Activation)   (None, 53, 53, 224)       0         \n",
      "                                                                 \n",
      " max_pooling2d_3 (MaxPooling  (None, 26, 26, 224)      0         \n",
      " 2D)                                                             \n",
      "                                                                 \n",
      " dropout_4 (Dropout)         (None, 26, 26, 224)       0         \n",
      "                                                                 \n",
      " flatten_1 (Flatten)         (None, 151424)            0         \n",
      "                                                                 \n",
      " dense_2 (Dense)             (None, 512)               77529600  \n",
      "                                                                 \n",
      " activation_10 (Activation)  (None, 512)               0         \n",
      "                                                                 \n",
      " dropout_5 (Dropout)         (None, 512)               0         \n",
      "                                                                 \n",
      " dense_3 (Dense)             (None, 5)                 2565      \n",
      "                                                                 \n",
      " activation_11 (Activation)  (None, 5)                 0         \n",
      "                                                                 \n",
      "=================================================================\n",
      "Total params: 78,460,495\n",
      "Trainable params: 78,460,495\n",
      "Non-trainable params: 0\n",
      "_________________________________________________________________\n"
     ]
    }
   ],
   "source": [
    "modelo.summary()"
   ]
  },
  {
   "cell_type": "code",
   "execution_count": null,
   "id": "efb27937",
   "metadata": {
    "colab": {
     "base_uri": "https://localhost:8080/"
    },
    "executionInfo": {
     "elapsed": 269859,
     "status": "ok",
     "timestamp": 1663259048270,
     "user": {
      "displayName": "Pedro Tavares Silva",
      "userId": "15176343071283963792"
     },
     "user_tz": -120
    },
    "id": "efb27937",
    "outputId": "8443869f-b026-48b5-bc7d-900b8e9cdc1e"
   },
   "outputs": [
    {
     "name": "stdout",
     "output_type": "stream",
     "text": [
      "52/52 [==============================] - 77s 1s/step - loss: 0.3471 - acc: 0.9116 - f1_m: 0.9109 - precision_m: 0.9162 - recall_m: 0.9059\n"
     ]
    },
    {
     "data": {
      "text/plain": [
       "[0.3471164107322693,\n",
       " 0.911552369594574,\n",
       " 0.910916268825531,\n",
       " 0.9162396192550659,\n",
       " 0.9059295058250427]"
      ]
     },
     "execution_count": 7,
     "metadata": {},
     "output_type": "execute_result"
    }
   ],
   "source": [
    "modelo.evaluate(x=X_test, y=y_test)"
   ]
  },
  {
   "cell_type": "code",
   "execution_count": null,
   "id": "xM4ouCgIC1PL",
   "metadata": {
    "id": "xM4ouCgIC1PL",
    "outputId": "5d9c8659-ce64-459b-a9f0-574d221566d8"
   },
   "outputs": [
    {
     "name": "stdout",
     "output_type": "stream",
     "text": [
      "52/52 [==============================] - 80s 1s/step\n"
     ]
    }
   ],
   "source": [
    "y_pred = modelo.predict(X_test)"
   ]
  },
  {
   "cell_type": "code",
   "execution_count": null,
   "id": "eecca739",
   "metadata": {
    "id": "eecca739",
    "outputId": "10eb693a-acfa-4f48-df95-823f4ad7fa4b"
   },
   "outputs": [
    {
     "data": {
      "text/plain": [
       "array([[9.9999827e-01, 4.4845640e-07, 1.1802369e-06, 1.4377851e-08,\n",
       "        2.1832136e-08],\n",
       "       [9.9999982e-01, 5.7896983e-08, 6.1430804e-08, 2.6158268e-11,\n",
       "        6.0442135e-10],\n",
       "       [9.9555993e-01, 6.5705506e-04, 3.7751999e-03, 7.6382858e-06,\n",
       "        2.0843085e-07],\n",
       "       ...,\n",
       "       [2.4619941e-03, 4.2241598e-03, 3.2440275e-05, 2.4995855e-03,\n",
       "        9.9078184e-01],\n",
       "       [2.9207086e-02, 7.7163681e-02, 2.5713649e-02, 4.6140794e-03,\n",
       "        8.6330158e-01],\n",
       "       [2.5161844e-01, 1.2787803e-01, 1.3615528e-02, 7.9475485e-02,\n",
       "        5.2741253e-01]], dtype=float32)"
      ]
     },
     "execution_count": 9,
     "metadata": {},
     "output_type": "execute_result"
    }
   ],
   "source": [
    "y_pred"
   ]
  },
  {
   "cell_type": "code",
   "execution_count": null,
   "id": "cf5439b4",
   "metadata": {
    "id": "cf5439b4"
   },
   "outputs": [],
   "source": [
    "categories = ['food', 'inside', 'outside', 'drink', 'menu']"
   ]
  },
  {
   "cell_type": "code",
   "execution_count": null,
   "id": "135cf2b3",
   "metadata": {
    "id": "135cf2b3"
   },
   "outputs": [],
   "source": [
    "y_pred_2 = pd.DataFrame(np.argmax(y_pred, axis=1), columns=['label'])"
   ]
  },
  {
   "cell_type": "code",
   "execution_count": null,
   "id": "94ed0bdc",
   "metadata": {
    "id": "94ed0bdc",
    "scrolled": true
   },
   "outputs": [],
   "source": [
    "y_pred_labels = y_pred_2.label.apply(lambda x: categories[x])"
   ]
  },
  {
   "cell_type": "code",
   "execution_count": null,
   "id": "68fc2fb1",
   "metadata": {
    "id": "68fc2fb1"
   },
   "outputs": [],
   "source": [
    "y_test_2 = pd.DataFrame(np.argmax(y_test, axis=1), columns=['label'])"
   ]
  },
  {
   "cell_type": "code",
   "execution_count": null,
   "id": "ab5b1ca0",
   "metadata": {
    "id": "ab5b1ca0"
   },
   "outputs": [],
   "source": [
    "y_test_labels = y_test_2.label.apply(lambda x: categories[x])"
   ]
  },
  {
   "cell_type": "code",
   "execution_count": null,
   "id": "8iQJlqVS9sxR",
   "metadata": {
    "colab": {
     "base_uri": "https://localhost:8080/",
     "height": 329
    },
    "executionInfo": {
     "elapsed": 889,
     "status": "error",
     "timestamp": 1663261190114,
     "user": {
      "displayName": "Pedro Tavares Silva",
      "userId": "15176343071283963792"
     },
     "user_tz": -120
    },
    "id": "8iQJlqVS9sxR",
    "outputId": "a282edbb-2e92-4124-879a-4270060ed29c"
   },
   "outputs": [
    {
     "data": {
      "text/plain": [
       "array([[930,  23,   4,   0,   0],\n",
       "       [ 30, 389,   2,   8,   1],\n",
       "       [ 35,  15,  83,   1,   1],\n",
       "       [  5,  17,   2,  98,   0],\n",
       "       [  1,   1,   1,   0,  15]])"
      ]
     },
     "execution_count": 15,
     "metadata": {},
     "output_type": "execute_result"
    }
   ],
   "source": [
    "confusion_matrix(y_test_labels, y_pred_labels, labels=['food', 'inside', 'outside', 'drink', 'menu'])"
   ]
  },
  {
   "cell_type": "code",
   "execution_count": null,
   "id": "fUjcEfJp9sur",
   "metadata": {
    "id": "fUjcEfJp9sur"
   },
   "outputs": [],
   "source": [
    "cm = confusion_matrix(y_test_labels, y_pred_labels, labels=categories)\n",
    "disp = ConfusionMatrixDisplay(confusion_matrix=cm, display_labels=categories)"
   ]
  },
  {
   "cell_type": "code",
   "execution_count": null,
   "id": "UJGnjZWb9srR",
   "metadata": {
    "id": "UJGnjZWb9srR",
    "outputId": "ccaec18e-36fd-49f8-8f07-eaf0157b5610"
   },
   "outputs": [
    {
     "data": {
      "image/png": "[encoded data removed]",
      "text/plain": [
       "<Figure size 640x480 with 2 Axes>"
      ]
     },
     "metadata": {},
     "output_type": "display_data"
    }
   ],
   "source": [
    "disp.plot()\n",
    "plt.show()"
   ]
  },
  {
   "cell_type": "code",
   "execution_count": null,
   "id": "59deea94",
   "metadata": {
    "id": "59deea94"
   },
   "outputs": [],
   "source": [
    "from sklearn.metrics import ConfusionMatrixDisplay, accuracy_score, balanced_accuracy_score"
   ]
  },
  {
   "cell_type": "code",
   "execution_count": null,
   "id": "cae260d5",
   "metadata": {
    "id": "cae260d5",
    "outputId": "70546d3d-974a-4a66-f346-4fd22a165349",
    "scrolled": true
   },
   "outputs": [
    {
     "name": "stdout",
     "output_type": "stream",
     "text": [
      "              precision    recall  f1-score   support\n",
      "\n",
      "       drink      0.916     0.803     0.856       122\n",
      "        food      0.929     0.972     0.950       957\n",
      "      inside      0.874     0.905     0.889       430\n",
      "        menu      0.882     0.833     0.857        18\n",
      "     outside      0.902     0.615     0.731       135\n",
      "\n",
      "    accuracy                          0.912      1662\n",
      "   macro avg      0.901     0.826     0.857      1662\n",
      "weighted avg      0.911     0.912     0.909      1662\n",
      "\n"
     ]
    }
   ],
   "source": [
    "print(classification_report(y_test_labels, y_pred_labels, digits=3))"
   ]
  },
  {
   "cell_type": "code",
   "execution_count": null,
   "id": "2cd7f063",
   "metadata": {
    "id": "2cd7f063",
    "outputId": "31e261dc-8a89-4c9b-c696-472a012b827e"
   },
   "outputs": [
    {
     "name": "stdout",
     "output_type": "stream",
     "text": [
      "0.8255729666638472\n"
     ]
    }
   ],
   "source": [
    "# To deal with imbalanced datasets. It is defined as the average of recall obtained on each class.\n",
    "print(balanced_accuracy_score(y_test_labels, y_pred_labels))"
   ]
  }
 ],
 "metadata": {
  "colab": {
   "collapsed_sections": [],
   "provenance": []
  },
  "kernelspec": {
   "display_name": "Python 3 (ipykernel)",
   "language": "python",
   "name": "python3"
  },
  "language_info": {
   "codemirror_mode": {
    "name": "ipython",
    "version": 3
   },
   "file_extension": ".py",
   "mimetype": "text/x-python",
   "name": "python",
   "nbconvert_exporter": "python",
   "pygments_lexer": "ipython3",
   "version": "3.8.10"
  }
 },
 "nbformat": 4,
 "nbformat_minor": 5
}
