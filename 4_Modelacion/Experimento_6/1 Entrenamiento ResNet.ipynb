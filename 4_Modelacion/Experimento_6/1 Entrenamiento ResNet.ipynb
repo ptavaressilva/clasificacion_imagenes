{
 "cells": [
  {
   "cell_type": "markdown",
   "metadata": {},
   "source": [
    "**Función:** entrenamiento de arquitectura ResNet152V2, con el dataset 10k desbalanceado.\n",
    "\n",
    "**Requiere:**\n",
    "- ../../datasets/DATASET10K/ (con una carpeta por label y las fotos sin recortar)\n",
    "\n",
    "**Crea:** Fichero con el modelo entrenado (epoch con menor val_loss).\n",
    "- modelos/tf_model_\\<run_id\\>"
   ]
  },
  {
   "cell_type": "code",
   "execution_count": null,
   "metadata": {},
   "outputs": [],
   "source": [
    "ejecutadoEnGoogleDrive = True # True si se ejecuta en Google Drive"
   ]
  },
  {
   "cell_type": "code",
   "execution_count": null,
   "metadata": {},
   "outputs": [],
   "source": [
    "if ejecutadoEnGoogleDrive:\n",
    "    from google.colab import drive\n",
    "    drive.mount('/content/drive')\n",
    "    PATH = '/content/drive/clasificacion_imagenes/'\n",
    "    ruta_dataset = '/content/drive/clasificacion_imagenes/datasets/flat_10k/'\n",
    "else:\n",
    "    PATH = '../../1_Setup_MLOps'\n",
    "    ruta_dataset = '../../datasets/flat_10k/'\n",
    "\n",
    "%cd {PATH}"
   ]
  },
  {
   "cell_type": "code",
   "execution_count": null,
   "metadata": {
    "id": "Qv0z_LGHBcUL"
   },
   "outputs": [],
   "source": [
    "# Common\n",
    "import keras\n",
    "import numpy as np\n",
    "import pandas as pd\n",
    "from glob import glob\n",
    "from tqdm import tqdm\n",
    "\n",
    "# Data\n",
    "from tensorflow.image import resize\n",
    "from sklearn.model_selection import StratifiedShuffleSplit\n",
    "from keras.preprocessing.image import load_img, img_to_array\n",
    "\n",
    "# Data Viz\n",
    "import seaborn as sns\n",
    "import matplotlib.pyplot as plt\n",
    "\n",
    "# TL Model\n",
    "from tensorflow.keras.applications import ResNet50, ResNet50V2, InceptionV3, Xception, ResNet152, ResNet152V2, EfficientNetB0\n",
    "\n",
    "# Model\n",
    "from keras import Sequential\n",
    "from keras.layers import Dense, GlobalAvgPool2D, Dropout\n",
    "from keras.models import load_model\n",
    "\n",
    "# Callbacks \n",
    "from keras.callbacks import EarlyStopping, ModelCheckpoint\n",
    "\n",
    "# Model Performance\n",
    "from sklearn.metrics import classification_report\n",
    "\n",
    "# Model Viz\n",
    "from tensorflow.keras.utils import plot_model\n",
    "\n",
    "# OTHER MODEL\n",
    "# !pip install mlflow\n",
    "import mlflow\n",
    "from tensorflow.random import set_seed\n",
    "from numpy.random import seed\n",
    "from tensorflow import keras\n",
    "from tensorflow.keras.utils import image_dataset_from_directory\n",
    "from keras.layers import Dense, Dropout, Activation, Flatten, Convolution2D, Conv2D, MaxPooling2D\n",
    "from keras.models import Sequential\n",
    "#from keras.optimizers import Nadam\n",
    "from keras.callbacks import EarlyStopping\n",
    "from keras.layers import Rescaling\n",
    "from tensorflow.data import AUTOTUNE\n",
    "from tensorflow import one_hot\n",
    "from keras import backend as K\n",
    "import pickle"
   ]
  },
  {
   "cell_type": "code",
   "execution_count": null,
   "metadata": {},
   "outputs": [],
   "source": [
    "# Definir quién está ejecutando (para no machacar el MLflow de los compañeros)\n",
    "# Descomentar la linea que aplique\n",
    "# yo = 'Pedro_T'\n",
    "# yo = 'Toni_V'\n",
    "# yo = 'Carlos_H'\n",
    "# yo = 'Carlos_C'\n",
    "print('Notebook ejecutado por {}'.format(yo))"
   ]
  },
  {
   "cell_type": "code",
   "execution_count": null,
   "metadata": {
    "colab": {
     "base_uri": "https://localhost:8080/"
    },
    "executionInfo": {
     "elapsed": 538,
     "status": "ok",
     "timestamp": 1664115640083,
     "user": {
      "displayName": "Toni Vila",
      "userId": "14215444251346678979"
     },
     "user_tz": -120
    },
    "id": "6oP_dIjnGwaK",
    "outputId": "f29e79d5-03fa-4c26-eef9-5dc26885346f"
   },
   "outputs": [
    {
     "name": "stdout",
     "output_type": "stream",
     "text": [
      "Vamos empezar el run 903e3a35c0d74dcb9b7abba094306cb4 en el experimento 3. Este run está RUNNING.\n"
     ]
    }
   ],
   "source": [
    "# Este run pertenence al experimento 6, que tiene el id \"5\" (string)\n",
    "experiment_id = \"5\"\n",
    "mlflow.set_experiment(experiment_id = experiment_id) \n",
    "run = mlflow.start_run( # crear run en MLflow\n",
    "    experiment_id=experiment_id,\n",
    "    tags={\"Autor\": yo, \"Computer\": \"Colab\", \"params\":'ResNet152V2'}\n",
    ")\n",
    "# activar auto logging\n",
    "mlflow.tensorflow.autolog()\n",
    "print('Vamos empezar el run {} en el experimento {}. Este run está {}.'.format(run.info.run_id, experiment_id, run.info.status))"
   ]
  },
  {
   "cell_type": "code",
   "execution_count": null,
   "metadata": {
    "id": "-vmr-ZJNDd5B"
   },
   "outputs": [],
   "source": [
    "class_names = ['drink', 'food', 'inside', 'menu', 'outside']"
   ]
  },
  {
   "cell_type": "code",
   "execution_count": null,
   "metadata": {
    "id": "SE4XmgWMEx-j"
   },
   "outputs": [],
   "source": [
    "IMG_SIZE = 224\n",
    "epochs = 100 # máximo de epochs (si no dispara el early stopping)\n",
    "validation_split = 0.2\n",
    "# Fijar random state para obtener resultados reproductibles\n",
    "seed(42) # So long and thanks for all the fish\n",
    "set_seed(42)"
   ]
  },
  {
   "cell_type": "code",
   "execution_count": null,
   "metadata": {
    "colab": {
     "base_uri": "https://localhost:8080/"
    },
    "executionInfo": {
     "elapsed": 32460,
     "status": "ok",
     "timestamp": 1664111663901,
     "user": {
      "displayName": "Toni Vila",
      "userId": "14215444251346678979"
     },
     "user_tz": -120
    },
    "id": "F13vvzAqEokV",
    "outputId": "28fb891a-4a1e-4c08-e4a4-137b17d8b991"
   },
   "outputs": [
    {
     "name": "stdout",
     "output_type": "stream",
     "text": [
      "Found 8312 files belonging to 5 classes.\n",
      "Using 6650 files for training.\n"
     ]
    }
   ],
   "source": [
    "train_ds = image_dataset_from_directory(\n",
    "  ruta_dataset,\n",
    "  validation_split=validation_split,\n",
    "  subset=\"training\",\n",
    "  seed=42,\n",
    "  image_size=(IMG_SIZE,IMG_SIZE),\n",
    "  batch_size=50)\\\n",
    ".cache()\\\n",
    ".prefetch(buffer_size=AUTOTUNE).map(lambda x, y:\n",
    "                                    (Rescaling(1./255)(x),\n",
    "                                     one_hot(y, 5)))"
   ]
  },
  {
   "cell_type": "code",
   "execution_count": null,
   "metadata": {
    "colab": {
     "base_uri": "https://localhost:8080/"
    },
    "executionInfo": {
     "elapsed": 516,
     "status": "ok",
     "timestamp": 1664111664410,
     "user": {
      "displayName": "Toni Vila",
      "userId": "14215444251346678979"
     },
     "user_tz": -120
    },
    "id": "4qol8fYnEsPw",
    "outputId": "47e322ae-8d9f-430b-f7c6-e9533c23aa9e"
   },
   "outputs": [
    {
     "name": "stdout",
     "output_type": "stream",
     "text": [
      "Found 8312 files belonging to 5 classes.\n",
      "Using 1662 files for validation.\n"
     ]
    }
   ],
   "source": [
    "test_ds = image_dataset_from_directory(\n",
    "  ruta_dataset,\n",
    "  validation_split=validation_split,\n",
    "  subset=\"validation\",\n",
    "  seed=42,\n",
    "  image_size=(IMG_SIZE,IMG_SIZE),\n",
    "  batch_size=50)\\\n",
    ".cache()\\\n",
    ".prefetch(buffer_size=AUTOTUNE).map(lambda x, y:\n",
    "                                    (Rescaling(1./255)(x),\n",
    "                                     one_hot(y, 5)))"
   ]
  },
  {
   "cell_type": "code",
   "execution_count": null,
   "metadata": {
    "id": "xTf7SYPABo22"
   },
   "outputs": [],
   "source": [
    "# ResNet Model\n",
    "name = 'ResNet152V2'\n",
    "\n",
    "base_model = ResNet152V2(include_top=False, weights='imagenet', input_shape=(224,224,3))\n",
    "base_model.trainable = False\n",
    "\n",
    "# # Model\n",
    "model = Sequential([\n",
    "    base_model,\n",
    "    GlobalAvgPool2D(),\n",
    "    Dense(224, activation='relu'),\n",
    "    Dropout(0.5),                   # 0.5\n",
    "    Dense(len(class_names), activation='softmax')\n",
    "], name=name)"
   ]
  },
  {
   "cell_type": "code",
   "execution_count": null,
   "metadata": {
    "id": "a52HZTAaOslU"
   },
   "outputs": [],
   "source": [
    "def recall_m(y_true, y_pred):\n",
    "    true_positives = K.sum(K.round(K.clip(y_true * y_pred, 0, 1)))\n",
    "    possible_positives = K.sum(K.round(K.clip(y_true, 0, 1)))\n",
    "    recall = true_positives / (possible_positives + K.epsilon())\n",
    "    return recall\n",
    "\n",
    "def precision_m(y_true, y_pred):\n",
    "    true_positives = K.sum(K.round(K.clip(y_true * y_pred, 0, 1)))\n",
    "    predicted_positives = K.sum(K.round(K.clip(y_pred, 0, 1)))\n",
    "    precision = true_positives / (predicted_positives + K.epsilon())\n",
    "    return precision\n",
    "\n",
    "def f1_m(y_true, y_pred):\n",
    "    precision = precision_m(y_true, y_pred)\n",
    "    recall = recall_m(y_true, y_pred)\n",
    "    return 2*((precision*recall)/(precision+recall+K.epsilon()))"
   ]
  },
  {
   "cell_type": "code",
   "execution_count": null,
   "metadata": {
    "colab": {
     "base_uri": "https://localhost:8080/"
    },
    "executionInfo": {
     "elapsed": 368,
     "status": "ok",
     "timestamp": 1664115697804,
     "user": {
      "displayName": "Toni Vila",
      "userId": "14215444251346678979"
     },
     "user_tz": -120
    },
    "id": "YAdsfvuHFAyc",
    "outputId": "3fb64b0a-ce71-4b93-931f-2a24b2f3fc7b"
   },
   "outputs": [
    {
     "name": "stdout",
     "output_type": "stream",
     "text": [
      "Model: \"ResNet152V2\"\n",
      "_________________________________________________________________\n",
      " Layer (type)                Output Shape              Param #   \n",
      "=================================================================\n",
      " resnet152v2 (Functional)    (None, 7, 7, 2048)        58331648  \n",
      "                                                                 \n",
      " global_average_pooling2d_2   (None, 2048)             0         \n",
      " (GlobalAveragePooling2D)                                        \n",
      "                                                                 \n",
      " dense_4 (Dense)             (None, 250)               512250    \n",
      "                                                                 \n",
      " dropout_2 (Dropout)         (None, 250)               0         \n",
      "                                                                 \n",
      " dense_5 (Dense)             (None, 5)                 1255      \n",
      "                                                                 \n",
      "=================================================================\n",
      "Total params: 58,845,153\n",
      "Trainable params: 513,505\n",
      "Non-trainable params: 58,331,648\n",
      "_________________________________________________________________\n"
     ]
    }
   ],
   "source": [
    "model.summary()"
   ]
  },
  {
   "cell_type": "code",
   "execution_count": null,
   "metadata": {
    "id": "QHPDUZRdO5Bv"
   },
   "outputs": [],
   "source": [
    "model.compile(loss='categorical_crossentropy',\n",
    "              optimizer='adam',\n",
    "              metrics=['acc', f1_m, precision_m, recall_m])"
   ]
  },
  {
   "cell_type": "code",
   "execution_count": null,
   "metadata": {
    "id": "dKfMbbLhPEER"
   },
   "outputs": [],
   "source": [
    "callback = EarlyStopping(monitor='val_loss',\n",
    "                         patience=30,\n",
    "                         restore_best_weights=True)"
   ]
  },
  {
   "cell_type": "code",
   "execution_count": null,
   "metadata": {
    "id": "jmf07nK-FMDE"
   },
   "outputs": [],
   "source": [
    "history = model.fit(train_ds,\n",
    "                    validation_data=test_ds,\n",
    "                    epochs=100,\n",
    "                    batch_size=64,\n",
    "                    callbacks=[callback],\n",
    "                    verbose=1)"
   ]
  },
  {
   "cell_type": "code",
   "execution_count": null,
   "metadata": {
    "id": "pAQ7FenrDERY"
   },
   "outputs": [],
   "source": [
    "def guardar(artefacto, fichero):\n",
    "    pickle.dump(artefacto,open(fichero,'wb'))\n",
    "    print('Guardado: {}'.format(fichero))"
   ]
  },
  {
   "cell_type": "code",
   "execution_count": null,
   "metadata": {
    "id": "eK4UN08gHEcC"
   },
   "outputs": [],
   "source": [
    "model.save('../4_Modelacion/Experimento_6/modelos/tf_model_exp1_{}'.format(run.info.run_id))"
   ]
  },
  {
   "cell_type": "code",
   "execution_count": null,
   "metadata": {
    "id": "VOmBloBdHF60"
   },
   "outputs": [],
   "source": [
    "mlflow.end_run()"
   ]
  }
 ],
 "metadata": {
  "accelerator": "GPU",
  "colab": {
   "collapsed_sections": [],
   "machine_shape": "hm",
   "provenance": []
  },
  "kernelspec": {
   "display_name": "Python 3 (ipykernel)",
   "language": "python",
   "name": "python3"
  },
  "language_info": {
   "codemirror_mode": {
    "name": "ipython",
    "version": 3
   },
   "file_extension": ".py",
   "mimetype": "text/x-python",
   "name": "python",
   "nbconvert_exporter": "python",
   "pygments_lexer": "ipython3",
   "version": "3.8.10"
  }
 },
 "nbformat": 4,
 "nbformat_minor": 1
}
