{
 "cells": [
  {
   "cell_type": "markdown",
   "metadata": {},
   "source": [
    "**Función:** crea experimentos en MLflow Tracking, para poder registrar los runs.\n",
    "\n",
    "**Requiere:** no requiere ficheros.\n",
    "\n",
    "**Crea:** no crea ficheros."
   ]
  },
  {
   "cell_type": "code",
   "execution_count": null,
   "metadata": {},
   "outputs": [],
   "source": [
    "ejecutadoEnGoogleDrive = False # True si se ejecuta en Google Drive"
   ]
  },
  {
   "cell_type": "code",
   "execution_count": null,
   "metadata": {},
   "outputs": [],
   "source": [
    "!pwd"
   ]
  },
  {
   "cell_type": "code",
   "execution_count": null,
   "metadata": {},
   "outputs": [],
   "source": [
    "if ejecutadoEnGoogleDrive:\n",
    "    from google.colab import drive\n",
    "    drive.mount('/content/drive')\n",
    "    PATH = '/content/drive/clasificacion_imagenes'\n",
    "else:\n",
    "    PATH = '../1_Setup_MLOps/'\n",
    "%cd {PATH}"
   ]
  },
  {
   "cell_type": "code",
   "execution_count": null,
   "metadata": {
    "executionInfo": {
     "elapsed": 847,
     "status": "ok",
     "timestamp": 1663084464420,
     "user": {
      "displayName": "Pedro Tavares Silva",
      "userId": "15176343071283963792"
     },
     "user_tz": -120
    },
    "id": "Sr0yOhRtWhUH"
   },
   "outputs": [],
   "source": [
    "# !pip install mlflow\n",
    "import mlflow"
   ]
  },
  {
   "cell_type": "code",
   "execution_count": null,
   "metadata": {
    "executionInfo": {
     "elapsed": 307,
     "status": "ok",
     "timestamp": 1663084516116,
     "user": {
      "displayName": "Pedro Tavares Silva",
      "userId": "15176343071283963792"
     },
     "user_tz": -120
    },
    "id": "2NXOFd5dWf6d"
   },
   "outputs": [],
   "source": [
    "experiment_id = mlflow.create_experiment(\n",
    "    \"Experimento 1 - CNN línea base\",\n",
    "    artifact_location='mlruns',\n",
    "    tags = {\n",
    "        'Experimento':1,\n",
    "        'Modelo':'CNN basica (baseline)',\n",
    "        'Dataset': 'DATASET 10K 224'}\n",
    ")"
   ]
  },
  {
   "cell_type": "code",
   "execution_count": null,
   "metadata": {
    "executionInfo": {
     "elapsed": 202,
     "status": "ok",
     "timestamp": 1663084618655,
     "user": {
      "displayName": "Pedro Tavares Silva",
      "userId": "15176343071283963792"
     },
     "user_tz": -120
    },
    "id": "_RzEG6TSjSct"
   },
   "outputs": [],
   "source": [
    "experiment_id = mlflow.create_experiment(\n",
    "    \"Experimento 2 - evaluar impacto del balanceo\",\n",
    "    artifact_location='mlruns',\n",
    "    tags = {\n",
    "        'Experimento':2,\n",
    "        'Modelo':'CNN basica (baseline)',\n",
    "        'Dataset': 'DATASET 10K BAL 224'}\n",
    ")"
   ]
  },
  {
   "cell_type": "code",
   "execution_count": null,
   "metadata": {
    "executionInfo": {
     "elapsed": 351,
     "status": "ok",
     "timestamp": 1663084681590,
     "user": {
      "displayName": "Pedro Tavares Silva",
      "userId": "15176343071283963792"
     },
     "user_tz": -120
    },
    "id": "gFYsXMN4kWCi"
   },
   "outputs": [],
   "source": [
    "experiment_id = mlflow.create_experiment(\n",
    "    \"Experimento 3 - evaluar impacto de los canales\",\n",
    "    artifact_location='mlruns',\n",
    "    tags = {\n",
    "        'Experimento':3,\n",
    "        'Modelo':'CNN basica (baseline)',\n",
    "        'Dataset': 'DATASET 10K 224 GRIS'}\n",
    ")"
   ]
  },
  {
   "cell_type": "code",
   "execution_count": null,
   "metadata": {
    "executionInfo": {
     "elapsed": 351,
     "status": "ok",
     "timestamp": 1663084681590,
     "user": {
      "displayName": "Pedro Tavares Silva",
      "userId": "15176343071283963792"
     },
     "user_tz": -120
    },
    "id": "gFYsXMN4kWCi"
   },
   "outputs": [],
   "source": [
    "experiment_id = mlflow.create_experiment(\n",
    "    \"Experimento 4 - tuneo CNN\",\n",
    "    artifact_location='mlruns',\n",
    "    tags = {\n",
    "        'Experimento':4,\n",
    "        'Modelo':'CNN basica (baseline)',\n",
    "        'Dataset': 'DATASET 10K'}\n",
    ")"
   ]
  },
  {
   "cell_type": "code",
   "execution_count": null,
   "metadata": {
    "executionInfo": {
     "elapsed": 351,
     "status": "ok",
     "timestamp": 1663084681590,
     "user": {
      "displayName": "Pedro Tavares Silva",
      "userId": "15176343071283963792"
     },
     "user_tz": -120
    },
    "id": "gFYsXMN4kWCi"
   },
   "outputs": [],
   "source": [
    "experiment_id = mlflow.create_experiment(\n",
    "    \"Experimento 5 - Vision Transformer (ViT)\",\n",
    "    artifact_location='mlruns',\n",
    "    tags = {\n",
    "        'Experimento':5,\n",
    "        'Modelo':'google/vit-base-patch16-224-in21k',\n",
    "        'Dataset': 'flat DATASET 10K 224'}\n",
    ")"
   ]
  },
  {
   "cell_type": "code",
   "execution_count": null,
   "metadata": {
    "executionInfo": {
     "elapsed": 351,
     "status": "ok",
     "timestamp": 1663084681590,
     "user": {
      "displayName": "Pedro Tavares Silva",
      "userId": "15176343071283963792"
     },
     "user_tz": -120
    },
    "id": "gFYsXMN4kWCi"
   },
   "outputs": [],
   "source": [
    "experiment_id = mlflow.create_experiment(\n",
    "    \"Experimento 6 - ResNet\",\n",
    "    artifact_location='mlruns',\n",
    "    tags = {\n",
    "        'Experimento':6,\n",
    "        'Modelo':'ResNet',\n",
    "        'Dataset': 'flat DATASET 10K 224'}\n",
    ")"
   ]
  },
  {
   "cell_type": "code",
   "execution_count": null,
   "metadata": {
    "colab": {
     "base_uri": "https://localhost:8080/"
    },
    "executionInfo": {
     "elapsed": 293,
     "status": "ok",
     "timestamp": 1663084698863,
     "user": {
      "displayName": "Pedro Tavares Silva",
      "userId": "15176343071283963792"
     },
     "user_tz": -120
    },
    "id": "1xxKkkNrWPa6",
    "outputId": "917aabd3-63cd-4de0-ded0-841f23011a92"
   },
   "outputs": [],
   "source": [
    "mlflow.list_experiments()"
   ]
  }
 ],
 "metadata": {
  "colab": {
   "authorship_tag": "ABX9TyOiFRvR1Bd5VkK86t2ps0CW",
   "collapsed_sections": [],
   "provenance": []
  },
  "kernelspec": {
   "display_name": "Python 3 (ipykernel)",
   "language": "python",
   "name": "python3"
  },
  "language_info": {
   "codemirror_mode": {
    "name": "ipython",
    "version": 3
   },
   "file_extension": ".py",
   "mimetype": "text/x-python",
   "name": "python",
   "nbconvert_exporter": "python",
   "pygments_lexer": "ipython3",
   "version": "3.8.10"
  }
 },
 "nbformat": 4,
 "nbformat_minor": 1
}
