{
 "cells": [
  {
   "cell_type": "markdown",
   "metadata": {
    "id": "trTozeQr6Jjg"
   },
   "source": [
    "**Función:** entrenamiento de arquitectura CNN alternativa (Kaggle, etc.), con el dataset 10k desbalanceado.\n",
    "\n",
    "**Requiere:**\n",
    "- ../../datasets/DATASET10K/ (con una carpeta por label y las fotos sin recortar)\n",
    "\n",
    "**Crea:** Fichero con el modelo entrenado (epoch con menor val_loss).\n",
    "- modelos/tf_model_\\<run_id\\>"
   ]
  },
  {
   "cell_type": "code",
   "execution_count": null,
   "metadata": {
    "executionInfo": {
     "elapsed": 3586,
     "status": "ok",
     "timestamp": 1664222630577,
     "user": {
      "displayName": "Toni Vila",
      "userId": "14215444251346678979"
     },
     "user_tz": -120
    },
    "id": "e9UpSOpbk9Iq"
   },
   "outputs": [],
   "source": [
    "# !pip install mlflow\n",
    "import mlflow\n",
    "from tensorflow.random import set_seed\n",
    "from numpy.random import seed\n",
    "from tensorflow import keras\n",
    "from tensorflow.keras.utils import image_dataset_from_directory\n",
    "from keras.layers import Dense, Dropout, Activation, Flatten, Convolution2D, Conv2D, MaxPooling2D\n",
    "from keras.models import Sequential\n",
    "#from keras.optimizers import Nadam\n",
    "from keras.callbacks import EarlyStopping\n",
    "from keras.layers import Rescaling\n",
    "from tensorflow.data import AUTOTUNE\n",
    "from tensorflow import one_hot\n",
    "from keras import backend as K\n",
    "import pickle"
   ]
  },
  {
   "cell_type": "code",
   "execution_count": null,
   "metadata": {},
   "outputs": [],
   "source": [
    "ejecutadoEnGoogleDrive = True # True si se ejecuta en Google Drive"
   ]
  },
  {
   "cell_type": "code",
   "execution_count": 4,
   "metadata": {
    "colab": {
     "base_uri": "https://localhost:8080/"
    },
    "executionInfo": {
     "elapsed": 26417,
     "status": "ok",
     "timestamp": 1664222656989,
     "user": {
      "displayName": "Toni Vila",
      "userId": "14215444251346678979"
     },
     "user_tz": -120
    },
    "id": "58pCTjBuwR_P",
    "outputId": "f6c88cb6-5cf2-47e6-9b83-68f14c3e7f57"
   },
   "outputs": [
    {
     "name": "stdout",
     "output_type": "stream",
     "text": [
      "Mounted at /content/drive\n"
     ]
    }
   ],
   "source": [
    "if ejecutadoEnGoogleDrive:\n",
    "    from google.colab import drive\n",
    "    drive.mount('/content/drive')\n",
    "    PATH = '/content/drive/clasificacion_imagenes/'\n",
    "    ruta_dataset = '/content/drive/clasificacion_imagenes/datasets/DATASET10K/'\n",
    "else:\n",
    "    PATH = '../../1_Setup_MLOps'\n",
    "    ruta_dataset = '../../datasets/DATASET10K/'\n",
    "\n",
    "%cd {PATH}"
   ]
  },
  {
   "cell_type": "code",
   "execution_count": 9,
   "metadata": {
    "executionInfo": {
     "elapsed": 473,
     "status": "ok",
     "timestamp": 1664222739472,
     "user": {
      "displayName": "Toni Vila",
      "userId": "14215444251346678979"
     },
     "user_tz": -120
    },
    "id": "SJ04WQHdwDnp"
   },
   "outputs": [],
   "source": [
    "IMG_SIZE = 224\n",
    "epochs = 100 # máximo de epochs (si no dispara el early stopping)\n",
    "validation_split = 0.2\n",
    "batch_size=64\n",
    "\n",
    "# Fijar random state para obtener resultados reproductibles\n",
    "seed(42) # So long and thanks for all the fish\n",
    "set_seed(42)"
   ]
  },
  {
   "cell_type": "markdown",
   "metadata": {
    "id": "b_X33WVAwR_T"
   },
   "source": [
    "# Definir experimento y run (MLflow)"
   ]
  },
  {
   "cell_type": "code",
   "execution_count": 7,
   "metadata": {
    "colab": {
     "base_uri": "https://localhost:8080/"
    },
    "executionInfo": {
     "elapsed": 226,
     "status": "ok",
     "timestamp": 1664222708159,
     "user": {
      "displayName": "Toni Vila",
      "userId": "14215444251346678979"
     },
     "user_tz": -120
    },
    "id": "gUKdzjnNnHcK",
    "outputId": "924db889-fb5c-4aa7-ab4d-15a1e598eff8"
   },
   "outputs": [
    {
     "name": "stdout",
     "output_type": "stream",
     "text": [
      "/content/drive/Shareddrives/The Valley - TFM\n"
     ]
    }
   ],
   "source": [
    "# ir a la carpeta raiz del proyecto (donde se encuentra mlruns)\n",
    "%cd 'drive/Shareddrives/The Valley - TFM'"
   ]
  },
  {
   "cell_type": "code",
   "execution_count": 8,
   "metadata": {
    "colab": {
     "base_uri": "https://localhost:8080/"
    },
    "executionInfo": {
     "elapsed": 7324,
     "status": "ok",
     "timestamp": 1664222716995,
     "user": {
      "displayName": "Toni Vila",
      "userId": "14215444251346678979"
     },
     "user_tz": -120
    },
    "id": "WXCoFIaxneg2",
    "outputId": "9275b949-7fd2-446c-91a3-d0409e54286d"
   },
   "outputs": [
    {
     "name": "stdout",
     "output_type": "stream",
     "text": [
      "Vamos empezar el run 1741e2a698b84fbcaac36a4b33ea44c0 en el experimento 3. Este run está RUNNING.\n"
     ]
    }
   ],
   "source": [
    "# Este run pertenence al experimento 4, que tiene el id \"3\" (string)\n",
    "experiment_id = \"3\"\n",
    "mlflow.set_experiment(experiment_id = experiment_id) \n",
    "run = mlflow.start_run( # crear run en MLflow\n",
    "    experiment_id=experiment_id,\n",
    "    tags={\"Autor\": 'Toni_V', \"Computer\": \"Colab\", \"params\":\"arq exp1 - 64 batch\"}\n",
    ")\n",
    "# activar auto logging\n",
    "mlflow.tensorflow.autolog()\n",
    "print('Vamos empezar el run {} en el experimento {}. Este run está {}.'.format(run.info.run_id, experiment_id, run.info.status))"
   ]
  },
  {
   "cell_type": "markdown",
   "metadata": {
    "id": "XafAhAScwR_U"
   },
   "source": [
    "# Definir carga del dataset y preprocesado"
   ]
  },
  {
   "cell_type": "code",
   "execution_count": 11,
   "metadata": {
    "colab": {
     "base_uri": "https://localhost:8080/"
    },
    "executionInfo": {
     "elapsed": 30020,
     "status": "ok",
     "timestamp": 1664222780291,
     "user": {
      "displayName": "Toni Vila",
      "userId": "14215444251346678979"
     },
     "user_tz": -120
    },
    "id": "jC_96b45wR_V",
    "outputId": "9c9e0aa1-6f34-4aa7-e514-3998b834b23d"
   },
   "outputs": [
    {
     "name": "stdout",
     "output_type": "stream",
     "text": [
      "Found 8312 files belonging to 5 classes.\n",
      "Using 6650 files for training.\n"
     ]
    }
   ],
   "source": [
    "train_ds = image_dataset_from_directory(\n",
    "  ruta_dataset,\n",
    "  validation_split=validation_split,\n",
    "  subset=\"training\",\n",
    "  seed=42,\n",
    "  image_size=(IMG_SIZE,IMG_SIZE),\n",
    "  batch_size=batch_size)\\\n",
    ".cache()\\\n",
    ".prefetch(buffer_size=AUTOTUNE).map(lambda x, y:\n",
    "                                    (Rescaling(1./255)(x),\n",
    "                                     one_hot(y, 5)))"
   ]
  },
  {
   "cell_type": "code",
   "execution_count": 12,
   "metadata": {
    "colab": {
     "base_uri": "https://localhost:8080/"
    },
    "executionInfo": {
     "elapsed": 957,
     "status": "ok",
     "timestamp": 1664222781244,
     "user": {
      "displayName": "Toni Vila",
      "userId": "14215444251346678979"
     },
     "user_tz": -120
    },
    "id": "C-EcrGm2wR_V",
    "outputId": "39699b0b-164a-44ce-c6ad-d0335c156d78"
   },
   "outputs": [
    {
     "name": "stdout",
     "output_type": "stream",
     "text": [
      "Found 8312 files belonging to 5 classes.\n",
      "Using 1662 files for validation.\n"
     ]
    }
   ],
   "source": [
    "test_ds = image_dataset_from_directory(\n",
    "  ruta_dataset,\n",
    "  validation_split=validation_split,\n",
    "  subset=\"validation\",\n",
    "  seed=42,\n",
    "  image_size=(IMG_SIZE,IMG_SIZE),\n",
    "  batch_size=batch_size)\\\n",
    ".cache()\\\n",
    ".prefetch(buffer_size=AUTOTUNE).map(lambda x, y:\n",
    "                                    (Rescaling(1./255)(x),\n",
    "                                     one_hot(y, 5)))"
   ]
  },
  {
   "cell_type": "code",
   "execution_count": 13,
   "metadata": {
    "executionInfo": {
     "elapsed": 3,
     "status": "ok",
     "timestamp": 1664222781244,
     "user": {
      "displayName": "Toni Vila",
      "userId": "14215444251346678979"
     },
     "user_tz": -120
    },
    "id": "tl0TPwPxwR_V"
   },
   "outputs": [],
   "source": [
    "categories = ['drink', 'food', 'inside', 'menu', 'outside'] # train_ds.class_names\n",
    "num_labels = len(categories)"
   ]
  },
  {
   "cell_type": "code",
   "execution_count": 14,
   "metadata": {
    "colab": {
     "base_uri": "https://localhost:8080/"
    },
    "executionInfo": {
     "elapsed": 318,
     "status": "ok",
     "timestamp": 1664222781560,
     "user": {
      "displayName": "Toni Vila",
      "userId": "14215444251346678979"
     },
     "user_tz": -120
    },
    "id": "D9ryTnm0vw7z",
    "outputId": "5a9e0f6f-4aa5-400b-bdcf-d9d6a54291f7"
   },
   "outputs": [
    {
     "name": "stderr",
     "output_type": "stream",
     "text": [
      "/usr/local/lib/python3.7/dist-packages/keras/optimizer_v2/nadam.py:73: UserWarning: The `lr` argument is deprecated, use `learning_rate` instead.\n",
      "  super(Nadam, self).__init__(name, **kwargs)\n"
     ]
    }
   ],
   "source": [
    "model = Sequential()\n",
    "model.add(Conv2D(10, (12, 12), padding='same', input_shape=(IMG_SIZE,IMG_SIZE,3)))\n",
    "model.add(Activation('relu'))\n",
    "model.add(Conv2D(IMG_SIZE, (3, 3)))\n",
    "model.add(Activation('relu'))\n",
    "model.add(MaxPooling2D(pool_size=(4, 4)))\n",
    "model.add(Dropout(0.25))\n",
    "\n",
    "model.add(Conv2D(IMG_SIZE, (3, 3), padding='same'))\n",
    "model.add(Activation('relu'))\n",
    "model.add(Conv2D(IMG_SIZE, (3, 3)))\n",
    "model.add(Activation('relu'))\n",
    "model.add(MaxPooling2D(pool_size=(2, 2)))\n",
    "model.add(Dropout(0.25))\n",
    "\n",
    "model.add(Flatten())\n",
    "model.add(Dense(512))\n",
    "model.add(Activation('relu'))\n",
    "model.add(Dropout(0.5))\n",
    "model.add(Dense(5))\n",
    "model.add(Activation('softmax'))\n",
    "opt = keras.optimizers.Nadam(lr=0.0001, schedule_decay=1e-6)\n"
   ]
  },
  {
   "cell_type": "code",
   "execution_count": null,
   "metadata": {},
   "outputs": [],
   "source": [
    "\"\"\" ORIGINAL ARCH.\n",
    "model = Sequential()\n",
    "model.add(Conv2D(params['param_A'],\n",
    "                 (12, 12),\n",
    "                 padding='same',\n",
    "                 input_shape=(IMG_SIZE,IMG_SIZE,3)))\n",
    "model.add(Activation('relu'))\n",
    "model.add(Conv2D(params['param_A']+10,\n",
    "                 (3, 3)))\n",
    "model.add(Activation('relu'))\n",
    "model.add(MaxPooling2D(pool_size=params['param_B'][0]))\n",
    "model.add(Dropout(0.25))\n",
    "\n",
    "model.add(Conv2D(params['param_A']+20,\n",
    "                 (3, 3),\n",
    "                 padding='same'))\n",
    "model.add(Activation('relu'))\n",
    "model.add(Conv2D(params['param_A']+30,\n",
    "                 (3, 3)))\n",
    "model.add(Activation('relu'))\n",
    "model.add(MaxPooling2D(pool_size=params['param_B'][1]))\n",
    "model.add(Dropout(0.25))\n",
    "\n",
    "model.add(Flatten())\n",
    "model.add(Dense(512))\n",
    "model.add(Activation('relu'))\n",
    "model.add(Dropout(0.5))\n",
    "model.add(Dense(num_labels))\n",
    "model.add(Activation('softmax'))\n",
    "opt = keras.optimizers.Nadam(learning_rate=0.0001, schedule_decay=1e-6)\n",
    "\n",
    "\"\"\""
   ]
  },
  {
   "cell_type": "code",
   "execution_count": null,
   "metadata": {},
   "outputs": [],
   "source": [
    "\"\"\"\n",
    "# PRUEBA ARQUITECTURA  KAGGLE\n",
    "model = Sequential()\n",
    "model.add(Conv2D(32,\n",
    "                 (3, 3),\n",
    "                 activation='tanh',\n",
    "                 padding='same',\n",
    "                 input_shape=(IMG_SIZE,IMG_SIZE,3)))\n",
    "\n",
    "model.add(Conv2D(30,\n",
    "                 (3, 3),\n",
    "                 activation='tanh',\n",
    "                 padding='same'))\n",
    "\n",
    "model.add(MaxPooling2D(2, 2))\n",
    "\n",
    "model.add(Conv2D(30,\n",
    "                 (3, 3),\n",
    "                 activation='tanh',\n",
    "                 padding='same'))\n",
    "\n",
    "model.add(MaxPooling2D(2, 2))\n",
    "\n",
    "model.add(Conv2D(30,\n",
    "                 (3, 3),\n",
    "                 activation='tanh',\n",
    "                 padding='same'))\n",
    "\n",
    "model.add(Flatten())\n",
    "model.add(Dense(20))\n",
    "model.add(Activation('relu'))\n",
    "\n",
    "model.add(Dense(14))\n",
    "model.add(Activation('relu'))\n",
    "\n",
    "model.add(Dense(num_labels))\n",
    "model.add(Activation('softmax'))\n",
    "opt = keras.optimizers.Nadam(learning_rate=0.0001, schedule_decay=1e-6)\n",
    "\"\"\""
   ]
  },
  {
   "cell_type": "code",
   "execution_count": 15,
   "metadata": {
    "executionInfo": {
     "elapsed": 20,
     "status": "ok",
     "timestamp": 1664222781560,
     "user": {
      "displayName": "Toni Vila",
      "userId": "14215444251346678979"
     },
     "user_tz": -120
    },
    "id": "Pk0CLwvzwR_W"
   },
   "outputs": [],
   "source": [
    "def recall_m(y_true, y_pred):\n",
    "    true_positives = K.sum(K.round(K.clip(y_true * y_pred, 0, 1)))\n",
    "    possible_positives = K.sum(K.round(K.clip(y_true, 0, 1)))\n",
    "    recall = true_positives / (possible_positives + K.epsilon())\n",
    "    return recall\n",
    "\n",
    "def precision_m(y_true, y_pred):\n",
    "    true_positives = K.sum(K.round(K.clip(y_true * y_pred, 0, 1)))\n",
    "    predicted_positives = K.sum(K.round(K.clip(y_pred, 0, 1)))\n",
    "    precision = true_positives / (predicted_positives + K.epsilon())\n",
    "    return precision\n",
    "\n",
    "def f1_m(y_true, y_pred):\n",
    "    precision = precision_m(y_true, y_pred)\n",
    "    recall = recall_m(y_true, y_pred)\n",
    "    return 2*((precision*recall)/(precision+recall+K.epsilon()))"
   ]
  },
  {
   "cell_type": "code",
   "execution_count": 16,
   "metadata": {
    "executionInfo": {
     "elapsed": 20,
     "status": "ok",
     "timestamp": 1664222781561,
     "user": {
      "displayName": "Toni Vila",
      "userId": "14215444251346678979"
     },
     "user_tz": -120
    },
    "id": "Jfpgpc_Ew0SR"
   },
   "outputs": [],
   "source": [
    "model.compile(loss='categorical_crossentropy',\n",
    "              optimizer=opt,\n",
    "              metrics=['acc', f1_m, precision_m, recall_m])"
   ]
  },
  {
   "cell_type": "code",
   "execution_count": 17,
   "metadata": {
    "colab": {
     "base_uri": "https://localhost:8080/"
    },
    "executionInfo": {
     "elapsed": 20,
     "status": "ok",
     "timestamp": 1664222781561,
     "user": {
      "displayName": "Toni Vila",
      "userId": "14215444251346678979"
     },
     "user_tz": -120
    },
    "id": "H6p7K4kIv8y3",
    "outputId": "8ba2a67b-7db5-4fd6-c42d-845cc1406b6f",
    "scrolled": true
   },
   "outputs": [
    {
     "name": "stdout",
     "output_type": "stream",
     "text": [
      "Model: \"sequential\"\n",
      "_________________________________________________________________\n",
      " Layer (type)                Output Shape              Param #   \n",
      "=================================================================\n",
      " conv2d (Conv2D)             (None, 224, 224, 10)      4330      \n",
      "                                                                 \n",
      " activation (Activation)     (None, 224, 224, 10)      0         \n",
      "                                                                 \n",
      " conv2d_1 (Conv2D)           (None, 222, 222, 224)     20384     \n",
      "                                                                 \n",
      " activation_1 (Activation)   (None, 222, 222, 224)     0         \n",
      "                                                                 \n",
      " max_pooling2d (MaxPooling2D  (None, 55, 55, 224)      0         \n",
      " )                                                               \n",
      "                                                                 \n",
      " dropout (Dropout)           (None, 55, 55, 224)       0         \n",
      "                                                                 \n",
      " conv2d_2 (Conv2D)           (None, 55, 55, 224)       451808    \n",
      "                                                                 \n",
      " activation_2 (Activation)   (None, 55, 55, 224)       0         \n",
      "                                                                 \n",
      " conv2d_3 (Conv2D)           (None, 53, 53, 224)       451808    \n",
      "                                                                 \n",
      " activation_3 (Activation)   (None, 53, 53, 224)       0         \n",
      "                                                                 \n",
      " max_pooling2d_1 (MaxPooling  (None, 26, 26, 224)      0         \n",
      " 2D)                                                             \n",
      "                                                                 \n",
      " dropout_1 (Dropout)         (None, 26, 26, 224)       0         \n",
      "                                                                 \n",
      " flatten (Flatten)           (None, 151424)            0         \n",
      "                                                                 \n",
      " dense (Dense)               (None, 512)               77529600  \n",
      "                                                                 \n",
      " activation_4 (Activation)   (None, 512)               0         \n",
      "                                                                 \n",
      " dropout_2 (Dropout)         (None, 512)               0         \n",
      "                                                                 \n",
      " dense_1 (Dense)             (None, 5)                 2565      \n",
      "                                                                 \n",
      " activation_5 (Activation)   (None, 5)                 0         \n",
      "                                                                 \n",
      "=================================================================\n",
      "Total params: 78,460,495\n",
      "Trainable params: 78,460,495\n",
      "Non-trainable params: 0\n",
      "_________________________________________________________________\n"
     ]
    }
   ],
   "source": [
    "model.summary()"
   ]
  },
  {
   "cell_type": "code",
   "execution_count": 18,
   "metadata": {
    "executionInfo": {
     "elapsed": 6,
     "status": "ok",
     "timestamp": 1664222781562,
     "user": {
      "displayName": "Toni Vila",
      "userId": "14215444251346678979"
     },
     "user_tz": -120
    },
    "id": "mnK5bkdUwR_X"
   },
   "outputs": [],
   "source": [
    "callback = EarlyStopping(monitor='val_loss',\n",
    "                         patience=10,\n",
    "                         restore_best_weights=True)"
   ]
  },
  {
   "cell_type": "code",
   "execution_count": 20,
   "metadata": {
    "colab": {
     "base_uri": "https://localhost:8080/"
    },
    "executionInfo": {
     "elapsed": 16352593,
     "status": "ok",
     "timestamp": 1664239134150,
     "user": {
      "displayName": "Toni Vila",
      "userId": "14215444251346678979"
     },
     "user_tz": -120
    },
    "id": "jVOmRWZq1dcR",
    "outputId": "99bb3a23-e1c7-4c50-ee71-0ab55b43e085",
    "scrolled": true
   },
   "outputs": [
    {
     "name": "stdout",
     "output_type": "stream",
     "text": [
      "Epoch 1/100\n",
      "104/104 [==============================] - 817s 8s/step - loss: 0.9310 - acc: 0.6710 - f1_m: 0.6328 - precision_m: 0.7405 - recall_m: 0.5642 - val_loss: 0.8004 - val_acc: 0.7810 - val_f1_m: 0.6503 - val_precision_m: 0.8948 - val_recall_m: 0.5126\n",
      "Epoch 2/100\n",
      "104/104 [==============================] - 912s 9s/step - loss: 0.6980 - acc: 0.7617 - f1_m: 0.7461 - precision_m: 0.8113 - recall_m: 0.6928 - val_loss: 0.8892 - val_acc: 0.7034 - val_f1_m: 0.6217 - val_precision_m: 0.8581 - val_recall_m: 0.4892\n",
      "Epoch 3/100\n",
      "104/104 [==============================] - 918s 9s/step - loss: 0.6269 - acc: 0.7808 - f1_m: 0.7717 - precision_m: 0.8289 - recall_m: 0.7235 - val_loss: 0.7902 - val_acc: 0.7184 - val_f1_m: 0.6911 - val_precision_m: 0.8427 - val_recall_m: 0.5872\n",
      "Epoch 4/100\n",
      "104/104 [==============================] - 920s 9s/step - loss: 0.5690 - acc: 0.8018 - f1_m: 0.7921 - precision_m: 0.8447 - recall_m: 0.7470 - val_loss: 0.6407 - val_acc: 0.7804 - val_f1_m: 0.7587 - val_precision_m: 0.8688 - val_recall_m: 0.6745\n",
      "Epoch 5/100\n",
      "104/104 [==============================] - 914s 9s/step - loss: 0.4982 - acc: 0.8251 - f1_m: 0.8211 - precision_m: 0.8653 - recall_m: 0.7823 - val_loss: 0.5836 - val_acc: 0.7810 - val_f1_m: 0.7741 - val_precision_m: 0.8557 - val_recall_m: 0.7076\n",
      "Epoch 6/100\n",
      "104/104 [==============================] - 911s 9s/step - loss: 0.4502 - acc: 0.8417 - f1_m: 0.8378 - precision_m: 0.8765 - recall_m: 0.8032 - val_loss: 0.5220 - val_acc: 0.8075 - val_f1_m: 0.8027 - val_precision_m: 0.8700 - val_recall_m: 0.7455\n",
      "Epoch 7/100\n",
      "104/104 [==============================] - 915s 9s/step - loss: 0.3807 - acc: 0.8695 - f1_m: 0.8660 - precision_m: 0.8961 - recall_m: 0.8385 - val_loss: 0.4445 - val_acc: 0.8538 - val_f1_m: 0.8414 - val_precision_m: 0.8833 - val_recall_m: 0.8039\n",
      "Epoch 8/100\n",
      "104/104 [==============================] - 914s 9s/step - loss: 0.3265 - acc: 0.8859 - f1_m: 0.8829 - precision_m: 0.9089 - recall_m: 0.8590 - val_loss: 0.4359 - val_acc: 0.8580 - val_f1_m: 0.8516 - val_precision_m: 0.8806 - val_recall_m: 0.8249\n",
      "Epoch 9/100\n",
      "104/104 [==============================] - 911s 9s/step - loss: 0.2650 - acc: 0.9080 - f1_m: 0.9063 - precision_m: 0.9253 - recall_m: 0.8886 - val_loss: 0.4500 - val_acc: 0.8562 - val_f1_m: 0.8530 - val_precision_m: 0.8744 - val_recall_m: 0.8328\n",
      "Epoch 10/100\n",
      "104/104 [==============================] - 908s 9s/step - loss: 0.2204 - acc: 0.9229 - f1_m: 0.9237 - precision_m: 0.9374 - recall_m: 0.9106 - val_loss: 0.4649 - val_acc: 0.8532 - val_f1_m: 0.8510 - val_precision_m: 0.8677 - val_recall_m: 0.8352\n",
      "Epoch 11/100\n",
      "104/104 [==============================] - 906s 9s/step - loss: 0.1693 - acc: 0.9406 - f1_m: 0.9400 - precision_m: 0.9508 - recall_m: 0.9296 - val_loss: 0.5040 - val_acc: 0.8508 - val_f1_m: 0.8518 - val_precision_m: 0.8649 - val_recall_m: 0.8394\n",
      "Epoch 12/100\n",
      "104/104 [==============================] - 909s 9s/step - loss: 0.1810 - acc: 0.9423 - f1_m: 0.9413 - precision_m: 0.9505 - recall_m: 0.9325 - val_loss: 0.5459 - val_acc: 0.8442 - val_f1_m: 0.8446 - val_precision_m: 0.8570 - val_recall_m: 0.8327\n",
      "Epoch 13/100\n",
      "104/104 [==============================] - 906s 9s/step - loss: 0.0983 - acc: 0.9666 - f1_m: 0.9670 - precision_m: 0.9719 - recall_m: 0.9621 - val_loss: 0.5871 - val_acc: 0.8460 - val_f1_m: 0.8493 - val_precision_m: 0.8595 - val_recall_m: 0.8393\n",
      "Epoch 14/100\n",
      "104/104 [==============================] - 917s 9s/step - loss: 0.0776 - acc: 0.9741 - f1_m: 0.9746 - precision_m: 0.9777 - recall_m: 0.9716 - val_loss: 0.6211 - val_acc: 0.8526 - val_f1_m: 0.8535 - val_precision_m: 0.8614 - val_recall_m: 0.8460\n",
      "Epoch 15/100\n",
      "104/104 [==============================] - 912s 9s/step - loss: 0.0500 - acc: 0.9863 - f1_m: 0.9858 - precision_m: 0.9876 - recall_m: 0.9841 - val_loss: 0.6675 - val_acc: 0.8502 - val_f1_m: 0.8515 - val_precision_m: 0.8560 - val_recall_m: 0.8472\n",
      "Epoch 16/100\n",
      "104/104 [==============================] - 914s 9s/step - loss: 0.2584 - acc: 0.9340 - f1_m: 0.9313 - precision_m: 0.9430 - recall_m: 0.9209 - val_loss: 0.6250 - val_acc: 0.8592 - val_f1_m: 0.8590 - val_precision_m: 0.8680 - val_recall_m: 0.8502\n",
      "Epoch 17/100\n",
      "104/104 [==============================] - 914s 9s/step - loss: 0.0509 - acc: 0.9851 - f1_m: 0.9847 - precision_m: 0.9858 - recall_m: 0.9836 - val_loss: 0.6397 - val_acc: 0.8514 - val_f1_m: 0.8542 - val_precision_m: 0.8609 - val_recall_m: 0.8478\n",
      "Epoch 18/100\n",
      "104/104 [==============================] - 912s 9s/step - loss: 0.0407 - acc: 0.9890 - f1_m: 0.9888 - precision_m: 0.9898 - recall_m: 0.9878 - val_loss: 0.6324 - val_acc: 0.8532 - val_f1_m: 0.8541 - val_precision_m: 0.8631 - val_recall_m: 0.8454\n"
     ]
    },
    {
     "name": "stderr",
     "output_type": "stream",
     "text": [
      "2022/09/27 00:38:38 WARNING mlflow.utils.requirements_utils: Found tensorflow version (2.8.2+zzzcolab20220719082949) contains a local version label (+zzzcolab20220719082949). MLflow logged a pip requirement for this package as 'tensorflow==2.8.2' without the local version label to make it installable from PyPI. To specify pip requirements containing local version labels, please use `conda_env` or `pip_requirements`.\n",
      "2022/09/27 00:38:47 WARNING mlflow.utils.environment: Encountered an unexpected error while inferring pip requirements (model URI: /tmp/tmptbk41syf/model, flavor: keras), fall back to return ['tensorflow==2.8.2', 'keras==2.8.0']. Set logging level to DEBUG to see the full traceback.\n"
     ]
    }
   ],
   "source": [
    "history = model.fit(train_ds,\n",
    "                    validation_data=test_ds,\n",
    "                    epochs = epochs,\n",
    "                    batch_size=batch_size,\n",
    "                    callbacks=[callback],\n",
    "                    verbose=1)"
   ]
  },
  {
   "cell_type": "markdown",
   "metadata": {
    "id": "fwY9ODGfwR_X"
   },
   "source": [
    "# Guardar modelo entrenado"
   ]
  },
  {
   "cell_type": "code",
   "execution_count": 25,
   "metadata": {
    "executionInfo": {
     "elapsed": 10664,
     "status": "ok",
     "timestamp": 1664239167524,
     "user": {
      "displayName": "Toni Vila",
      "userId": "14215444251346678979"
     },
     "user_tz": -120
    },
    "id": "hp-6MgdNwR_Y"
   },
   "outputs": [],
   "source": [
    "model.save('../4_Modelacion/Experimento_4/modelos/tf_model_exp1_{}'.format(run.info.run_id))"
   ]
  },
  {
   "cell_type": "code",
   "execution_count": 26,
   "metadata": {
    "executionInfo": {
     "elapsed": 25,
     "status": "ok",
     "timestamp": 1664239167524,
     "user": {
      "displayName": "Toni Vila",
      "userId": "14215444251346678979"
     },
     "user_tz": -120
    },
    "id": "xu8vkTDJwR_Y"
   },
   "outputs": [],
   "source": [
    "mlflow.end_run()"
   ]
  }
 ],
 "metadata": {
  "accelerator": "TPU",
  "colab": {
   "collapsed_sections": [],
   "machine_shape": "hm",
   "provenance": []
  },
  "kernelspec": {
   "display_name": "Python 3 (ipykernel)",
   "language": "python",
   "name": "python3"
  },
  "language_info": {
   "codemirror_mode": {
    "name": "ipython",
    "version": 3
   },
   "file_extension": ".py",
   "mimetype": "text/x-python",
   "name": "python",
   "nbconvert_exporter": "python",
   "pygments_lexer": "ipython3",
   "version": "3.8.10"
  }
 },
 "nbformat": 4,
 "nbformat_minor": 1
}
