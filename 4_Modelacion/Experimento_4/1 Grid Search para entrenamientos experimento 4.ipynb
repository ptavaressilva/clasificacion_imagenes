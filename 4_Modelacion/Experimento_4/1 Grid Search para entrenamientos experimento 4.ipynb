{
 "cells": [
  {
   "cell_type": "markdown",
   "metadata": {
    "id": "k2myBs4vwR_J"
   },
   "source": [
    "**Función:** grid search y entrenamiento de arquitecturas CNN alternativas, con el dataset 10k desbalanceado.\n",
    "\n",
    "**Requiere:**\n",
    "- ../../datasets/DATASET10K/ (con una carpeta por label y las fotos sin recortar)\n",
    "\n",
    "**Crea:** Fichero con el modelo entrenado (epoch con menor val_loss).\n",
    "- modelos/tf_model_\\<run_id\\>"
   ]
  },
  {
   "cell_type": "code",
   "execution_count": 1,
   "metadata": {},
   "outputs": [],
   "source": [
    "ejecutadoEnGoogleDrive = True # True si se ejecuta en Google Drive"
   ]
  },
  {
   "cell_type": "code",
   "execution_count": 2,
   "metadata": {},
   "outputs": [
    {
     "name": "stdout",
     "output_type": "stream",
     "text": [
      "/Projetos_dev/projetos/clasificacion_imagenes/1_Setup_MLOps\n"
     ]
    }
   ],
   "source": [
    "if ejecutadoEnGoogleDrive:\n",
    "    from google.colab import drive\n",
    "    drive.mount('/content/drive')\n",
    "    PATH = '/content/drive/clasificacion_imagenes/'\n",
    "    ruta_dataset = '/content/drive/clasificacion_imagenes/datasets/DATASET10K/'\n",
    "else:\n",
    "    PATH = '../../1_Setup_MLOps'\n",
    "    ruta_dataset = '../../datasets/DATASET10K/'\n",
    "\n",
    "%cd {PATH}"
   ]
  },
  {
   "cell_type": "code",
   "execution_count": 3,
   "metadata": {
    "executionInfo": {
     "elapsed": 2890,
     "status": "ok",
     "timestamp": 1664205845930,
     "user": {
      "displayName": "Carlos Huguet Soriano",
      "userId": "02773419815299509321"
     },
     "user_tz": -120
    },
    "id": "e9UpSOpbk9Iq"
   },
   "outputs": [],
   "source": [
    "# !pip install mlflow\n",
    "import mlflow\n",
    "from tensorflow.random import set_seed\n",
    "from numpy.random import seed\n",
    "from tensorflow import keras\n",
    "from tensorflow.keras.utils import image_dataset_from_directory\n",
    "from keras.layers import Dense, Dropout, Activation, Flatten, Convolution2D, Conv2D, MaxPooling2D\n",
    "from keras.models import Sequential\n",
    "#from keras.optimizers import Nadam\n",
    "from keras.callbacks import EarlyStopping\n",
    "from keras.layers import Rescaling\n",
    "from tensorflow.data import AUTOTUNE\n",
    "from tensorflow import one_hot\n",
    "from keras import backend as K\n",
    "import pickle"
   ]
  },
  {
   "cell_type": "code",
   "execution_count": 5,
   "metadata": {
    "executionInfo": {
     "elapsed": 535,
     "status": "ok",
     "timestamp": 1664205886837,
     "user": {
      "displayName": "Carlos Huguet Soriano",
      "userId": "02773419815299509321"
     },
     "user_tz": -120
    },
    "id": "mEUspbV2wR_Q"
   },
   "outputs": [],
   "source": [
    "# definir parámetros para grid search\n",
    "RUN = [{'param_A':10, 'param_B':[(5,5), (3,3)], 'batch_size':64},  # RUN 1\n",
    "       {'param_A':10, 'param_B':[(5,5), (3,3)], 'batch_size':128}, # RUN 2\n",
    "       {'param_A':10, 'param_B':[(5,5), (3,3)], 'batch_size':256}, # RUN 3\n",
    "       {'param_A':10, 'param_B':[(3,3), (3,3)], 'batch_size':128}, # RUN 4\n",
    "       {'param_A':10, 'param_B':[(3,3), (3,3)], 'batch_size':256}, # RUN 5\n",
    "       {'param_A':20, 'param_B':[(5,5), (5,5)], 'batch_size':64},  # RUN 6\n",
    "       {'param_A':20, 'param_B':[(5,5), (5,5)], 'batch_size':128}, # RUN 7\n",
    "       {'param_A':20, 'param_B':[(5,5), (5,5)], 'batch_size':256}, # RUN 8\n",
    "       {'param_A':20, 'param_B':[(5,5), (3,3)], 'batch_size':64},  # RUN 9\n",
    "       {'param_A':20, 'param_B':[(5,5), (3,3)], 'batch_size':128}, # RUN 10\n",
    "       {'param_A':20, 'param_B':[(5,5), (3,3)], 'batch_size':256}, # RUN 11\n",
    "       {'param_A':20, 'param_B':[(3,3), (3,3)], 'batch_size':64},  # RUN 12\n",
    "       {'param_A':20, 'param_B':[(3,3), (3,3)], 'batch_size':128}, # RUN 13\n",
    "       {'param_A':20, 'param_B':[(3,3), (3,3)], 'batch_size':256}, # RUN 14\n",
    "       {'param_A':10, 'param_B':[(5,5), (5,5)], 'batch_size':64},  # RUN 15\n",
    "       {'param_A':10, 'param_B':[(5,5), (5,5)], 'batch_size':128}, # RUN 16\n",
    "       {'param_A':10, 'param_B':[(5,5), (5,5)], 'batch_size':256}, # RUN 17\n",
    "# ...\n",
    "       {'param_A':10, 'param_B':[(3,3), (3,3)], 'batch_size':64}]  # RUN 30"
   ]
  },
  {
   "cell_type": "markdown",
   "metadata": {
    "id": "-cCrO8XcwR_R"
   },
   "source": [
    "### Instrucciones\n",
    "\n",
    "Por limitaciones de tiempo en Colab no se encadenan los runs (ciclo for, p. ej.)\n",
    "\n",
    "Cuando se termina un run, reiniciar kernel e incrementar manualmente el valor de RUN_NUMERO\n",
    "\n",
    "Si un run da error, ejecutar la última celda del notebook para cerrar el run en MLflow"
   ]
  },
  {
   "cell_type": "code",
   "execution_count": 6,
   "metadata": {
    "executionInfo": {
     "elapsed": 11,
     "status": "ok",
     "timestamp": 1664205896101,
     "user": {
      "displayName": "Carlos Huguet Soriano",
      "userId": "02773419815299509321"
     },
     "user_tz": -120
    },
    "id": "oqRDzMPzwR_R"
   },
   "outputs": [],
   "source": [
    "RUN_NUMERO = 1 # cuando se termina y vuelve a abrir, se cambia a 2, después 3"
   ]
  },
  {
   "cell_type": "code",
   "execution_count": 7,
   "metadata": {
    "executionInfo": {
     "elapsed": 9,
     "status": "ok",
     "timestamp": 1664205898420,
     "user": {
      "displayName": "Carlos Huguet Soriano",
      "userId": "02773419815299509321"
     },
     "user_tz": -120
    },
    "id": "79mI6WjcwR_R"
   },
   "outputs": [],
   "source": [
    "params = RUN[RUN_NUMERO-1]"
   ]
  },
  {
   "cell_type": "code",
   "execution_count": 8,
   "metadata": {
    "colab": {
     "base_uri": "https://localhost:8080/"
    },
    "executionInfo": {
     "elapsed": 468,
     "status": "ok",
     "timestamp": 1664205905661,
     "user": {
      "displayName": "Carlos Huguet Soriano",
      "userId": "02773419815299509321"
     },
     "user_tz": -120
    },
    "id": "8v8qbR20wR_S",
    "outputId": "c1e785e1-4714-4c2d-c8be-da2a88196e0a"
   },
   "outputs": [
    {
     "name": "stdout",
     "output_type": "stream",
     "text": [
      "En este run se van a usar estos parámetros: {'param_A': 10, 'param_B': [(5, 5), (3, 3)], 'batch_size': 64}\n"
     ]
    }
   ],
   "source": [
    "print('En este run se van a usar estos parámetros: {}'.format(params))"
   ]
  },
  {
   "cell_type": "code",
   "execution_count": 9,
   "metadata": {
    "executionInfo": {
     "elapsed": 440,
     "status": "ok",
     "timestamp": 1664205915066,
     "user": {
      "displayName": "Carlos Huguet Soriano",
      "userId": "02773419815299509321"
     },
     "user_tz": -120
    },
    "id": "SJ04WQHdwDnp"
   },
   "outputs": [],
   "source": [
    "IMG_SIZE = 224\n",
    "epochs = 100 # máximo de epochs (si no dispara el early stopping)\n",
    "validation_split = 0.2\n",
    "# Fijar random state para obtener resultados reproductibles\n",
    "seed(42) # So long and thanks for all the fish\n",
    "set_seed(42)"
   ]
  },
  {
   "cell_type": "code",
   "execution_count": null,
   "metadata": {},
   "outputs": [],
   "source": [
    "# Definir quién está ejecutando (para no machacar el MLflow de los compañeros)\n",
    "# Descomentar la linea que aplique\n",
    "# yo = 'Pedro_T'\n",
    "# yo = 'Toni_V'\n",
    "# yo = 'Carlos_H'\n",
    "# yo = 'Carlos_C'\n",
    "print('Notebook ejecutado por {}'.format(yo))"
   ]
  },
  {
   "cell_type": "markdown",
   "metadata": {
    "id": "b_X33WVAwR_T"
   },
   "source": [
    "# Definir experimento y run (MLflow)"
   ]
  },
  {
   "cell_type": "code",
   "execution_count": 11,
   "metadata": {
    "colab": {
     "base_uri": "https://localhost:8080/"
    },
    "executionInfo": {
     "elapsed": 13643,
     "status": "ok",
     "timestamp": 1664205936489,
     "user": {
      "displayName": "Carlos Huguet Soriano",
      "userId": "02773419815299509321"
     },
     "user_tz": -120
    },
    "id": "WXCoFIaxneg2",
    "outputId": "73ed3837-af6c-4cdb-d35a-8cad976238be"
   },
   "outputs": [
    {
     "name": "stdout",
     "output_type": "stream",
     "text": [
      "Vamos empezar el run f8bc25969081441881710bf5ec8ba2cc en el experimento 3. Este run está RUNNING.\n"
     ]
    }
   ],
   "source": [
    "# Este run pertenence al experimento 4, que tiene el id \"3\" (string)\n",
    "experiment_id = \"3\"\n",
    "mlflow.set_experiment(experiment_id = experiment_id) \n",
    "run = mlflow.start_run( # crear run en MLflow\n",
    "    experiment_id=experiment_id,\n",
    "    tags={\"Autor\": yo, \"params\":params}\n",
    ")\n",
    "# activar auto logging\n",
    "mlflow.tensorflow.autolog()\n",
    "print('Vamos empezar el run {} en el experimento {}. Este run está {}.'.format(run.info.run_id, experiment_id, run.info.status))"
   ]
  },
  {
   "cell_type": "markdown",
   "metadata": {
    "id": "XafAhAScwR_U"
   },
   "source": [
    "# Definir carga del dataset (con prefetch) y preprocesado"
   ]
  },
  {
   "cell_type": "code",
   "execution_count": 13,
   "metadata": {
    "colab": {
     "base_uri": "https://localhost:8080/"
    },
    "executionInfo": {
     "elapsed": 31915,
     "status": "ok",
     "timestamp": 1664205975708,
     "user": {
      "displayName": "Carlos Huguet Soriano",
      "userId": "02773419815299509321"
     },
     "user_tz": -120
    },
    "id": "jC_96b45wR_V",
    "outputId": "f5d733cc-b79e-4bf2-f1ac-635cb7d81f61"
   },
   "outputs": [
    {
     "name": "stdout",
     "output_type": "stream",
     "text": [
      "Found 8312 files belonging to 5 classes.\n",
      "Using 6650 files for training.\n"
     ]
    }
   ],
   "source": [
    "train_ds = image_dataset_from_directory(\n",
    "  ruta_dataset,\n",
    "  validation_split=validation_split,\n",
    "  subset=\"training\",\n",
    "  seed=42,\n",
    "  image_size=(IMG_SIZE,IMG_SIZE),\n",
    "  batch_size=params['batch_size'])\\\n",
    ".cache()\\\n",
    ".prefetch(buffer_size=AUTOTUNE).map(lambda x, y:\n",
    "                                    (Rescaling(1./255)(x),\n",
    "                                     one_hot(y, 5)))"
   ]
  },
  {
   "cell_type": "code",
   "execution_count": 14,
   "metadata": {
    "colab": {
     "base_uri": "https://localhost:8080/"
    },
    "executionInfo": {
     "elapsed": 1152,
     "status": "ok",
     "timestamp": 1664205979561,
     "user": {
      "displayName": "Carlos Huguet Soriano",
      "userId": "02773419815299509321"
     },
     "user_tz": -120
    },
    "id": "C-EcrGm2wR_V",
    "outputId": "ed3a67eb-2443-405f-9c78-d44badb4901b"
   },
   "outputs": [
    {
     "name": "stdout",
     "output_type": "stream",
     "text": [
      "Found 8312 files belonging to 5 classes.\n",
      "Using 1662 files for validation.\n"
     ]
    }
   ],
   "source": [
    "test_ds = image_dataset_from_directory(\n",
    "  ruta_dataset,\n",
    "  validation_split=validation_split,\n",
    "  subset=\"validation\",\n",
    "  seed=42,\n",
    "  image_size=(IMG_SIZE,IMG_SIZE),\n",
    "  batch_size=params['batch_size'])\\\n",
    ".cache()\\\n",
    ".prefetch(buffer_size=AUTOTUNE).map(lambda x, y:\n",
    "                                    (Rescaling(1./255)(x),\n",
    "                                     one_hot(y, 5)))"
   ]
  },
  {
   "cell_type": "code",
   "execution_count": 15,
   "metadata": {
    "executionInfo": {
     "elapsed": 436,
     "status": "ok",
     "timestamp": 1664205982757,
     "user": {
      "displayName": "Carlos Huguet Soriano",
      "userId": "02773419815299509321"
     },
     "user_tz": -120
    },
    "id": "tl0TPwPxwR_V"
   },
   "outputs": [],
   "source": [
    "categories = ['drink', 'food', 'inside', 'menu', 'outside'] # train_ds.class_names\n",
    "num_labels = len(categories)"
   ]
  },
  {
   "cell_type": "code",
   "execution_count": 16,
   "metadata": {
    "executionInfo": {
     "elapsed": 500,
     "status": "ok",
     "timestamp": 1664205985845,
     "user": {
      "displayName": "Carlos Huguet Soriano",
      "userId": "02773419815299509321"
     },
     "user_tz": -120
    },
    "id": "D9ryTnm0vw7z"
   },
   "outputs": [],
   "source": [
    "model = Sequential()\n",
    "model.add(Conv2D(params['param_A'],\n",
    "                 (12, 12),\n",
    "                 padding='same',\n",
    "                 input_shape=(IMG_SIZE,IMG_SIZE,3)))\n",
    "model.add(Activation('relu'))\n",
    "model.add(Conv2D(params['param_A']+10,\n",
    "                 (3, 3)))\n",
    "model.add(Activation('relu'))\n",
    "model.add(MaxPooling2D(pool_size=params['param_B'][0]))\n",
    "model.add(Dropout(0.25))\n",
    "\n",
    "model.add(Conv2D(params['param_A']+20,\n",
    "                 (3, 3),\n",
    "                 padding='same'))\n",
    "model.add(Activation('relu'))\n",
    "model.add(Conv2D(params['param_A']+30,\n",
    "                 (3, 3)))\n",
    "model.add(Activation('relu'))\n",
    "model.add(MaxPooling2D(pool_size=params['param_B'][1]))\n",
    "model.add(Dropout(0.25))\n",
    "\n",
    "model.add(Flatten())\n",
    "model.add(Dense(512))\n",
    "model.add(Activation('relu'))\n",
    "model.add(Dropout(0.5))\n",
    "model.add(Dense(num_labels))\n",
    "model.add(Activation('softmax'))\n",
    "opt = keras.optimizers.Nadam(learning_rate=0.0001, schedule_decay=1e-6)"
   ]
  },
  {
   "cell_type": "code",
   "execution_count": 17,
   "metadata": {
    "executionInfo": {
     "elapsed": 565,
     "status": "ok",
     "timestamp": 1664205988686,
     "user": {
      "displayName": "Carlos Huguet Soriano",
      "userId": "02773419815299509321"
     },
     "user_tz": -120
    },
    "id": "Pk0CLwvzwR_W"
   },
   "outputs": [],
   "source": [
    "def recall_m(y_true, y_pred):\n",
    "    true_positives = K.sum(K.round(K.clip(y_true * y_pred, 0, 1)))\n",
    "    possible_positives = K.sum(K.round(K.clip(y_true, 0, 1)))\n",
    "    recall = true_positives / (possible_positives + K.epsilon())\n",
    "    return recall\n",
    "\n",
    "def precision_m(y_true, y_pred):\n",
    "    true_positives = K.sum(K.round(K.clip(y_true * y_pred, 0, 1)))\n",
    "    predicted_positives = K.sum(K.round(K.clip(y_pred, 0, 1)))\n",
    "    precision = true_positives / (predicted_positives + K.epsilon())\n",
    "    return precision\n",
    "\n",
    "def f1_m(y_true, y_pred):\n",
    "    precision = precision_m(y_true, y_pred)\n",
    "    recall = recall_m(y_true, y_pred)\n",
    "    return 2*((precision*recall)/(precision+recall+K.epsilon()))"
   ]
  },
  {
   "cell_type": "code",
   "execution_count": 18,
   "metadata": {
    "executionInfo": {
     "elapsed": 462,
     "status": "ok",
     "timestamp": 1664205993146,
     "user": {
      "displayName": "Carlos Huguet Soriano",
      "userId": "02773419815299509321"
     },
     "user_tz": -120
    },
    "id": "Jfpgpc_Ew0SR"
   },
   "outputs": [],
   "source": [
    "model.compile(loss='categorical_crossentropy',\n",
    "              optimizer=opt,\n",
    "              metrics=['acc', f1_m, precision_m, recall_m])"
   ]
  },
  {
   "cell_type": "code",
   "execution_count": 19,
   "metadata": {
    "colab": {
     "base_uri": "https://localhost:8080/"
    },
    "executionInfo": {
     "elapsed": 493,
     "status": "ok",
     "timestamp": 1664205995680,
     "user": {
      "displayName": "Carlos Huguet Soriano",
      "userId": "02773419815299509321"
     },
     "user_tz": -120
    },
    "id": "H6p7K4kIv8y3",
    "outputId": "c271270a-3aad-462d-e4d6-eebec897d417",
    "scrolled": true
   },
   "outputs": [
    {
     "name": "stdout",
     "output_type": "stream",
     "text": [
      "Model: \"sequential\"\n",
      "_________________________________________________________________\n",
      " Layer (type)                Output Shape              Param #   \n",
      "=================================================================\n",
      " conv2d (Conv2D)             (None, 224, 224, 10)      4330      \n",
      "                                                                 \n",
      " activation (Activation)     (None, 224, 224, 10)      0         \n",
      "                                                                 \n",
      " conv2d_1 (Conv2D)           (None, 222, 222, 20)      1820      \n",
      "                                                                 \n",
      " activation_1 (Activation)   (None, 222, 222, 20)      0         \n",
      "                                                                 \n",
      " max_pooling2d (MaxPooling2D  (None, 44, 44, 20)       0         \n",
      " )                                                               \n",
      "                                                                 \n",
      " dropout (Dropout)           (None, 44, 44, 20)        0         \n",
      "                                                                 \n",
      " conv2d_2 (Conv2D)           (None, 44, 44, 30)        5430      \n",
      "                                                                 \n",
      " activation_2 (Activation)   (None, 44, 44, 30)        0         \n",
      "                                                                 \n",
      " conv2d_3 (Conv2D)           (None, 42, 42, 40)        10840     \n",
      "                                                                 \n",
      " activation_3 (Activation)   (None, 42, 42, 40)        0         \n",
      "                                                                 \n",
      " max_pooling2d_1 (MaxPooling  (None, 14, 14, 40)       0         \n",
      " 2D)                                                             \n",
      "                                                                 \n",
      " dropout_1 (Dropout)         (None, 14, 14, 40)        0         \n",
      "                                                                 \n",
      " flatten (Flatten)           (None, 7840)              0         \n",
      "                                                                 \n",
      " dense (Dense)               (None, 512)               4014592   \n",
      "                                                                 \n",
      " activation_4 (Activation)   (None, 512)               0         \n",
      "                                                                 \n",
      " dropout_2 (Dropout)         (None, 512)               0         \n",
      "                                                                 \n",
      " dense_1 (Dense)             (None, 5)                 2565      \n",
      "                                                                 \n",
      " activation_5 (Activation)   (None, 5)                 0         \n",
      "                                                                 \n",
      "=================================================================\n",
      "Total params: 4,039,577\n",
      "Trainable params: 4,039,577\n",
      "Non-trainable params: 0\n",
      "_________________________________________________________________\n"
     ]
    }
   ],
   "source": [
    "model.summary()"
   ]
  },
  {
   "cell_type": "code",
   "execution_count": 20,
   "metadata": {
    "executionInfo": {
     "elapsed": 447,
     "status": "ok",
     "timestamp": 1664205999925,
     "user": {
      "displayName": "Carlos Huguet Soriano",
      "userId": "02773419815299509321"
     },
     "user_tz": -120
    },
    "id": "mnK5bkdUwR_X"
   },
   "outputs": [],
   "source": [
    "callback = EarlyStopping(monitor='val_loss',\n",
    "                         patience=10,\n",
    "                         restore_best_weights=True)"
   ]
  },
  {
   "cell_type": "code",
   "execution_count": null,
   "metadata": {
    "colab": {
     "base_uri": "https://localhost:8080/"
    },
    "id": "jVOmRWZq1dcR",
    "outputId": "9d8c7fce-e14f-426a-a9df-8809856a1b1f",
    "scrolled": true
   },
   "outputs": [
    {
     "name": "stdout",
     "output_type": "stream",
     "text": [
      "Epoch 1/100\n",
      "104/104 [==============================] - 3122s 28s/step - loss: 0.9884 - acc: 0.6353 - f1_m: 0.5968 - precision_m: 0.7109 - recall_m: 0.5203 - val_loss: 0.8806 - val_acc: 0.7551 - val_f1_m: 0.5846 - val_precision_m: 0.9180 - val_recall_m: 0.4302\n",
      "Epoch 2/100\n",
      "104/104 [==============================] - 11s 101ms/step - loss: 0.7671 - acc: 0.7391 - f1_m: 0.7222 - precision_m: 0.7964 - recall_m: 0.6626 - val_loss: 0.8330 - val_acc: 0.7605 - val_f1_m: 0.6583 - val_precision_m: 0.8948 - val_recall_m: 0.5228\n",
      "Epoch 3/100\n",
      "104/104 [==============================] - 11s 104ms/step - loss: 0.6972 - acc: 0.7650 - f1_m: 0.7580 - precision_m: 0.8154 - recall_m: 0.7094 - val_loss: 0.8161 - val_acc: 0.7515 - val_f1_m: 0.6770 - val_precision_m: 0.8751 - val_recall_m: 0.5542\n",
      "Epoch 4/100\n",
      "104/104 [==============================] - 11s 102ms/step - loss: 0.6622 - acc: 0.7728 - f1_m: 0.7653 - precision_m: 0.8204 - recall_m: 0.7182 - val_loss: 0.8114 - val_acc: 0.7413 - val_f1_m: 0.6848 - val_precision_m: 0.8741 - val_recall_m: 0.5644\n",
      "Epoch 5/100\n",
      "104/104 [==============================] - 11s 104ms/step - loss: 0.6373 - acc: 0.7792 - f1_m: 0.7739 - precision_m: 0.8262 - recall_m: 0.7288 - val_loss: 0.8200 - val_acc: 0.7310 - val_f1_m: 0.6781 - val_precision_m: 0.8644 - val_recall_m: 0.5596\n",
      "Epoch 6/100\n",
      "104/104 [==============================] - 11s 102ms/step - loss: 0.6055 - acc: 0.7938 - f1_m: 0.7875 - precision_m: 0.8384 - recall_m: 0.7435 - val_loss: 0.8315 - val_acc: 0.7154 - val_f1_m: 0.6823 - val_precision_m: 0.8594 - val_recall_m: 0.5674\n",
      "Epoch 7/100\n",
      "104/104 [==============================] - 11s 105ms/step - loss: 0.5759 - acc: 0.8057 - f1_m: 0.7980 - precision_m: 0.8470 - recall_m: 0.7552 - val_loss: 0.7985 - val_acc: 0.7316 - val_f1_m: 0.6960 - val_precision_m: 0.8692 - val_recall_m: 0.5818\n",
      "Epoch 8/100\n",
      "104/104 [==============================] - 11s 104ms/step - loss: 0.5469 - acc: 0.8119 - f1_m: 0.8046 - precision_m: 0.8512 - recall_m: 0.7636 - val_loss: 0.8349 - val_acc: 0.7106 - val_f1_m: 0.6778 - val_precision_m: 0.8447 - val_recall_m: 0.5673\n",
      "Epoch 9/100\n",
      "104/104 [==============================] - 11s 105ms/step - loss: 0.5218 - acc: 0.8241 - f1_m: 0.8156 - precision_m: 0.8612 - recall_m: 0.7754 - val_loss: 0.8049 - val_acc: 0.7220 - val_f1_m: 0.6986 - val_precision_m: 0.8501 - val_recall_m: 0.5944\n",
      "Epoch 10/100\n",
      "104/104 [==============================] - 11s 105ms/step - loss: 0.5012 - acc: 0.8278 - f1_m: 0.8244 - precision_m: 0.8670 - recall_m: 0.7863 - val_loss: 0.7573 - val_acc: 0.7455 - val_f1_m: 0.7193 - val_precision_m: 0.8676 - val_recall_m: 0.6155\n",
      "Epoch 11/100\n",
      "104/104 [==============================] - 11s 105ms/step - loss: 0.4769 - acc: 0.8353 - f1_m: 0.8291 - precision_m: 0.8698 - recall_m: 0.7927 - val_loss: 0.8041 - val_acc: 0.7154 - val_f1_m: 0.7030 - val_precision_m: 0.8403 - val_recall_m: 0.6058\n",
      "Epoch 12/100\n",
      "104/104 [==============================] - 11s 105ms/step - loss: 0.4606 - acc: 0.8442 - f1_m: 0.8395 - precision_m: 0.8766 - recall_m: 0.8060 - val_loss: 0.7688 - val_acc: 0.7329 - val_f1_m: 0.7186 - val_precision_m: 0.8476 - val_recall_m: 0.6252\n",
      "Epoch 13/100\n",
      "104/104 [==============================] - 11s 104ms/step - loss: 0.4409 - acc: 0.8471 - f1_m: 0.8431 - precision_m: 0.8802 - recall_m: 0.8095 - val_loss: 0.8561 - val_acc: 0.6974 - val_f1_m: 0.6824 - val_precision_m: 0.8137 - val_recall_m: 0.5891\n",
      "Epoch 14/100\n",
      "104/104 [==============================] - 11s 103ms/step - loss: 0.4285 - acc: 0.8528 - f1_m: 0.8506 - precision_m: 0.8845 - recall_m: 0.8196 - val_loss: 0.7645 - val_acc: 0.7335 - val_f1_m: 0.7218 - val_precision_m: 0.8351 - val_recall_m: 0.6366\n",
      "Epoch 15/100\n",
      "104/104 [==============================] - 11s 106ms/step - loss: 0.4110 - acc: 0.8597 - f1_m: 0.8561 - precision_m: 0.8864 - recall_m: 0.8283 - val_loss: 0.7218 - val_acc: 0.7473 - val_f1_m: 0.7367 - val_precision_m: 0.8453 - val_recall_m: 0.6540\n",
      "Epoch 16/100\n",
      "104/104 [==============================] - 11s 106ms/step - loss: 0.3977 - acc: 0.8623 - f1_m: 0.8598 - precision_m: 0.8911 - recall_m: 0.8312 - val_loss: 0.7401 - val_acc: 0.7419 - val_f1_m: 0.7343 - val_precision_m: 0.8343 - val_recall_m: 0.6565\n",
      "Epoch 17/100\n",
      " 77/104 [=====================>........] - ETA: 2s - loss: 0.3745 - acc: 0.8718 - f1_m: 0.8697 - precision_m: 0.8961 - recall_m: 0.8452"
     ]
    }
   ],
   "source": [
    "history = model.fit(train_ds,\n",
    "                    validation_data=test_ds,\n",
    "                    epochs = epochs,\n",
    "                    batch_size=params['batch_size'],\n",
    "                    callbacks=[callback],\n",
    "                    verbose=1)"
   ]
  },
  {
   "cell_type": "markdown",
   "metadata": {
    "id": "fwY9ODGfwR_X"
   },
   "source": [
    "# Guardar modelo entrenado"
   ]
  },
  {
   "cell_type": "code",
   "execution_count": null,
   "metadata": {
    "id": "hp-6MgdNwR_Y"
   },
   "outputs": [],
   "source": [
    "model.save('../4_Modelacion/Experimento_4/modelos/tf_model_exp1_{}'.format(run.info.run_id))"
   ]
  },
  {
   "cell_type": "code",
   "execution_count": null,
   "metadata": {
    "id": "xu8vkTDJwR_Y"
   },
   "outputs": [],
   "source": [
    "mlflow.end_run()"
   ]
  }
 ],
 "metadata": {
  "accelerator": "GPU",
  "colab": {
   "collapsed_sections": [],
   "provenance": []
  },
  "kernelspec": {
   "display_name": "Python 3 (ipykernel)",
   "language": "python",
   "name": "python3"
  },
  "language_info": {
   "codemirror_mode": {
    "name": "ipython",
    "version": 3
   },
   "file_extension": ".py",
   "mimetype": "text/x-python",
   "name": "python",
   "nbconvert_exporter": "python",
   "pygments_lexer": "ipython3",
   "version": "3.8.10"
  }
 },
 "nbformat": 4,
 "nbformat_minor": 1
}
