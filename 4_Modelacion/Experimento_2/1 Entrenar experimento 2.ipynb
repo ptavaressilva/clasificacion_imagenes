{
 "cells": [
  {
   "cell_type": "markdown",
   "metadata": {
    "id": "ey_KBlielNXM"
   },
   "source": [
    "**Función:** Entrenamiento de la CNN línea base con el dataset 10k balanceado.\n",
    "\n",
    "**Requiere:**\n",
    "- ../../datasets/X_train_DATASET10K224BAL_x_float.pkl\n",
    "- ../../datasets/X_test_DATASET10K224BAL_x_float.pkl\n",
    "- ../../datasets/y_train_DATASET10K224BAL.pkl\n",
    "- ../../datasets/y_test_DATASET10K224BAL.pkl\n",
    "\n",
    "**Crea:** Fichero con el modelo entrenado (epoch con menor val_loss).\n",
    "- modelos/tf_model_\\<run_id\\>"
   ]
  },
  {
   "cell_type": "code",
   "execution_count": null,
   "metadata": {},
   "outputs": [],
   "source": [
    "ejecutadoEnGoogleDrive = False # True si se ejecuta en Google Drive"
   ]
  },
  {
   "cell_type": "code",
   "execution_count": null,
   "metadata": {},
   "outputs": [],
   "source": [
    "if ejecutadoEnGoogleDrive:\n",
    "    from google.colab import drive\n",
    "    drive.mount('/content/drive')\n",
    "    PATH = '/content/drive/clasificacion_imagenes/'\n",
    "    ruta_datasets = '/content/drive/clasificacion_imagenes/datasets/'\n",
    "else:\n",
    "    PATH = '../../1_Setup_MLOps'\n",
    "    ruta_datasets = '../../datasets/'\n",
    "\n",
    "%cd {PATH}"
   ]
  },
  {
   "cell_type": "code",
   "execution_count": null,
   "metadata": {
    "executionInfo": {
     "elapsed": 10560,
     "status": "ok",
     "timestamp": 1663101975956,
     "user": {
      "displayName": "Pedro Tavares Silva",
      "userId": "15176343071283963792"
     },
     "user_tz": -120
    },
    "id": "e9UpSOpbk9Iq"
   },
   "outputs": [],
   "source": [
    "# !pip install mlflow\n",
    "import mlflow\n",
    "import numpy as np\n",
    "from numpy.random import seed\n",
    "import matplotlib.pyplot as plt\n",
    "import pandas as pd\n",
    "import pickle\n",
    "from keras import backend as K\n",
    "from keras.utils import np_utils\n",
    "from keras.models import Sequential\n",
    "from keras.layers import Dense, Dropout, Activation, Flatten, Convolution2D, Conv2D, MaxPooling2D\n",
    "from tensorflow import keras\n",
    "from tensorflow.random import set_seed\n",
    "import time"
   ]
  },
  {
   "cell_type": "code",
   "execution_count": 2,
   "metadata": {},
   "outputs": [],
   "source": [
    "# Fijar random state para obtener resultados reproductibles\n",
    "seed(42) # So long and thanks for all the fish\n",
    "set_seed(42)"
   ]
  },
  {
   "cell_type": "code",
   "execution_count": null,
   "metadata": {
    "colab": {
     "base_uri": "https://localhost:8080/"
    },
    "executionInfo": {
     "elapsed": 239,
     "status": "ok",
     "timestamp": 1663101981504,
     "user": {
      "displayName": "Pedro Tavares Silva",
      "userId": "15176343071283963792"
     },
     "user_tz": -120
    },
    "id": "nTeKmHwFlXM3",
    "outputId": "40e9674a-5498-4151-f350-933337f858f7"
   },
   "outputs": [],
   "source": [
    "# Definir quién está ejecutando (para no machacar el MLflow de los compañeros)\n",
    "# Descomentar la linea que aplique\n",
    "# yo = 'Pedro_T'\n",
    "# yo = 'Toni_V'\n",
    "# yo = 'Carlos_H'\n",
    "# yo = 'Carlos_C'\n",
    "print('Notebook ejecutado por {}'.format(yo))"
   ]
  },
  {
   "cell_type": "code",
   "execution_count": 6,
   "metadata": {
    "colab": {
     "base_uri": "https://localhost:8080/"
    },
    "executionInfo": {
     "elapsed": 218,
     "status": "ok",
     "timestamp": 1663101989136,
     "user": {
      "displayName": "Pedro Tavares Silva",
      "userId": "15176343071283963792"
     },
     "user_tz": -120
    },
    "id": "yApMM8dQllc-",
    "outputId": "e9f7fcdc-6300-4a92-dc2d-4277be80f6cd"
   },
   "outputs": [
    {
     "data": {
      "text/plain": [
       "<Experiment: artifact_location='mlruns', experiment_id='1', lifecycle_stage='active', name='Experimento 2 - evaluar impacto del balanceo', tags={'Dataset': 'DATASET 10K BAL 224',\n",
       " 'Experimento': '2',\n",
       " 'Modelo': 'CNN basica (baseline)'}>"
      ]
     },
     "execution_count": 6,
     "metadata": {},
     "output_type": "execute_result"
    }
   ],
   "source": [
    "# Este run pertenence al experimento 2, que tiene el id \"1\" (string)\n",
    "experiment_id = \"1\"\n",
    "mlflow.set_experiment(experiment_id = experiment_id) "
   ]
  },
  {
   "cell_type": "code",
   "execution_count": null,
   "metadata": {
    "executionInfo": {
     "elapsed": 590,
     "status": "ok",
     "timestamp": 1663101993112,
     "user": {
      "displayName": "Pedro Tavares Silva",
      "userId": "15176343071283963792"
     },
     "user_tz": -120
    },
    "id": "WXCoFIaxneg2"
   },
   "outputs": [],
   "source": [
    "# OPCIÓN 1: crear run\n",
    "Este texto garantiza que no creamos accidentalmente un nuevo run\n",
    "run = mlflow.start_run(\n",
    "  experiment_id=experiment_id,\n",
    "  tags={\"Autor\": yo}\n",
    ")\n",
    "print('Vamos empezar el run {} en el experimento {}. Este run está {}.'.format(run.info.run_id, experiment_id, run.info.status))"
   ]
  },
  {
   "cell_type": "code",
   "execution_count": 7,
   "metadata": {},
   "outputs": [
    {
     "name": "stdout",
     "output_type": "stream",
     "text": [
      "Vamos empezar el run 6b6eff59143148e78dfe1a10efc7f71e en el experimento id_1. Este run está RUNNING.\n"
     ]
    }
   ],
   "source": [
    "# OPCIÓN 2: reanudar run\n",
    "run_id = '6b6eff59143148e78dfe1a10efc7f71e' # por ej. \"69bfdf296f384a75ada2ae55f9dc7672\" (ver en la carpeta mlruns/0)\n",
    "run = mlflow.start_run(run_id=run_id)\n",
    "print('Vamos empezar el run {} en el experimento id_{}. Este run está {}.'.format(run.info.run_id, experiment_id, run.info.status))"
   ]
  },
  {
   "cell_type": "code",
   "execution_count": 8,
   "metadata": {
    "executionInfo": {
     "elapsed": 596,
     "status": "ok",
     "timestamp": 1663102011536,
     "user": {
      "displayName": "Pedro Tavares Silva",
      "userId": "15176343071283963792"
     },
     "user_tz": -120
    },
    "id": "TErw_vCKm19V"
   },
   "outputs": [],
   "source": [
    "# activar auto logging\n",
    "mlflow.tensorflow.autolog()"
   ]
  },
  {
   "cell_type": "markdown",
   "metadata": {
    "id": "7ieOPCyurVJm"
   },
   "source": [
    "Formato esperado:\n",
    "- X_train: (N, 224, 224, 3) float32 (entre 0. y 1.)\n",
    "- y_train: (N, 5) float32 (0. o 1.)\n",
    "- X_test: (P, 224, 224, 3) float32 (entre 0. y 1.)\n",
    "- y_test: (P, 5) float32 (0. o 1.)"
   ]
  },
  {
   "cell_type": "code",
   "execution_count": 11,
   "metadata": {
    "id": "8nG1WcpKpdWk"
   },
   "outputs": [],
   "source": [
    "X_train = pickle.load(open(PATH + 'X_train_DATASET10KBAL.pkl'.format(ruta_datasets),'rb'))\n",
    "X_test = pickle.load(open(PATH + 'X_test_DATASET10KBAL.pkl'.format(ruta_datasets),'rb'))\n",
    "y_train = pickle.load(open(PATH + 'y_train_DATASET10KBAL.pkl'.format(ruta_datasets),'rb'))\n",
    "y_test = pickle.load(open(PATH + 'y_test_DATASET10KBAL.pkl'.format(ruta_datasets),'rb'))"
   ]
  },
  {
   "cell_type": "code",
   "execution_count": 12,
   "metadata": {
    "id": "GFl4zMF_kZeG"
   },
   "outputs": [],
   "source": [
    "categories = ['food', 'inside', 'outside', 'drink', 'menu']"
   ]
  },
  {
   "cell_type": "code",
   "execution_count": 13,
   "metadata": {
    "id": "NY6K5J3kq2iV"
   },
   "outputs": [
    {
     "name": "stdout",
     "output_type": "stream",
     "text": [
      "X_train: (5500, 224, 224, 3) float32\n",
      "y_train: (5500, 5) float32\n",
      "X_test: (1375, 224, 224, 3) float32\n",
      "y_test: (1375, 5) float32\n"
     ]
    }
   ],
   "source": [
    "print(\"X_train: {} {}\".format(X_train.shape, X_train.dtype))\n",
    "print(\"y_train: {} {}\".format(y_train.shape, y_train.dtype))\n",
    "print(\"X_test: {} {}\".format(X_test.shape, X_test.dtype))\n",
    "print(\"y_test: {} {}\".format(y_test.shape, y_test.dtype))"
   ]
  },
  {
   "cell_type": "code",
   "execution_count": 15,
   "metadata": {
    "id": "0kPdcNeWtMaW"
   },
   "outputs": [],
   "source": [
    "# Dimensiones de la imagen de entrada\n",
    "img_rows, img_cols, img_ch = 224, 224, 3\n",
    "num_labels = 5"
   ]
  },
  {
   "cell_type": "code",
   "execution_count": 16,
   "metadata": {
    "colab": {
     "base_uri": "https://localhost:8080/"
    },
    "executionInfo": {
     "elapsed": 375,
     "status": "ok",
     "timestamp": 1663087323390,
     "user": {
      "displayName": "Pedro Tavares Silva",
      "userId": "15176343071283963792"
     },
     "user_tz": -120
    },
    "id": "IZm9F-NbrU0v",
    "outputId": "8fad23e4-c001-45d2-e55b-d9fa5425c647"
   },
   "outputs": [
    {
     "name": "stdout",
     "output_type": "stream",
     "text": [
      "El dataset tiene las dimensiones esperadas\n"
     ]
    }
   ],
   "source": [
    "# test de los datos de entrada\n",
    "if   (X_train.shape[1] != img_rows) \\\n",
    "  or (X_train.shape[2] != img_cols)\\\n",
    "  or (X_train.shape[3] != img_ch)\\\n",
    "  or (y_train.shape[1] != num_labels)\\\n",
    "  or (X_train.dtype != 'float32')\\\n",
    "  or (X_test.shape[1] != img_rows) \\\n",
    "  or (X_test.shape[2] != img_cols)\\\n",
    "  or (X_test.shape[3] != img_ch)\\\n",
    "  or (y_test.shape[1] != num_labels)\\\n",
    "  or (X_test.dtype != 'float32')\\\n",
    "  or (y_train.dtype != 'float32')\\\n",
    "  or (y_test.dtype != 'float32')\\\n",
    "  or (X_train.shape[0] != y_train.shape[0])\\\n",
    "  or (X_test.shape[0] != y_test.shape[0]\\\n",
    "  or type(X_train) != np.ndarray\\\n",
    "  or type(X_test) != np.ndarray\\\n",
    "  or type(y_train) != np.ndarray\\\n",
    "  or type(y_test) != np.ndarray):\n",
    "  raise Exception(\"El dataset no tiene las dimensiones esperadas!\")\n",
    "else:\n",
    "  print('El dataset tiene las dimensiones esperadas')"
   ]
  },
  {
   "cell_type": "code",
   "execution_count": 17,
   "metadata": {
    "id": "SJ04WQHdwDnp"
   },
   "outputs": [],
   "source": [
    "IMG_SIZE = 224\n",
    "epochs = 40\n",
    "batch_size=64\n",
    "validation_split = 0.2"
   ]
  },
  {
   "cell_type": "code",
   "execution_count": null,
   "metadata": {
    "colab": {
     "base_uri": "https://localhost:8080/"
    },
    "executionInfo": {
     "elapsed": 614,
     "status": "ok",
     "timestamp": 1663087916306,
     "user": {
      "displayName": "Pedro Tavares Silva",
      "userId": "15176343071283963792"
     },
     "user_tz": -120
    },
    "id": "D9ryTnm0vw7z",
    "outputId": "e5bbb4d7-a418-4298-e15e-6a56223ee707"
   },
   "outputs": [],
   "source": [
    "model = Sequential()\n",
    "model.add(Conv2D(10, (12, 12), padding='same', input_shape=(IMG_SIZE,IMG_SIZE,3)))\n",
    "model.add(Activation('relu'))\n",
    "model.add(Conv2D(IMG_SIZE, (3, 3)))\n",
    "model.add(Activation('relu'))\n",
    "model.add(MaxPooling2D(pool_size=(4, 4)))\n",
    "model.add(Dropout(0.25))\n",
    "\n",
    "model.add(Conv2D(IMG_SIZE, (3, 3), padding='same'))\n",
    "model.add(Activation('relu'))\n",
    "model.add(Conv2D(IMG_SIZE, (3, 3)))\n",
    "model.add(Activation('relu'))\n",
    "model.add(MaxPooling2D(pool_size=(2, 2)))\n",
    "model.add(Dropout(0.25))\n",
    "\n",
    "model.add(Flatten())\n",
    "model.add(Dense(512))\n",
    "model.add(Activation('relu'))\n",
    "model.add(Dropout(0.5))\n",
    "model.add(Dense(5))\n",
    "model.add(Activation('softmax'))\n",
    "opt = keras.optimizers.Nadam(learning_rate=0.0001, schedule_decay=1e-6)"
   ]
  },
  {
   "cell_type": "code",
   "execution_count": 19,
   "metadata": {},
   "outputs": [],
   "source": [
    "# las métricas han sido quitadas de Keras en 2.0\n",
    "def recall_m(y_true, y_pred):\n",
    "    true_positives = K.sum(K.round(K.clip(y_true * y_pred, 0, 1)))\n",
    "    possible_positives = K.sum(K.round(K.clip(y_true, 0, 1)))\n",
    "    recall = true_positives / (possible_positives + K.epsilon())\n",
    "    return recall\n",
    "\n",
    "def precision_m(y_true, y_pred):\n",
    "    true_positives = K.sum(K.round(K.clip(y_true * y_pred, 0, 1)))\n",
    "    predicted_positives = K.sum(K.round(K.clip(y_pred, 0, 1)))\n",
    "    precision = true_positives / (predicted_positives + K.epsilon())\n",
    "    return precision\n",
    "\n",
    "def f1_m(y_true, y_pred):\n",
    "    precision = precision_m(y_true, y_pred)\n",
    "    recall = recall_m(y_true, y_pred)\n",
    "    return 2*((precision*recall)/(precision+recall+K.epsilon()))"
   ]
  },
  {
   "cell_type": "code",
   "execution_count": 20,
   "metadata": {
    "id": "Jfpgpc_Ew0SR"
   },
   "outputs": [],
   "source": [
    "model.compile(loss='categorical_crossentropy',\n",
    "              optimizer=opt,\n",
    "              metrics=['acc', f1_m, precision_m, recall_m])"
   ]
  },
  {
   "cell_type": "code",
   "execution_count": 21,
   "metadata": {
    "colab": {
     "base_uri": "https://localhost:8080/"
    },
    "executionInfo": {
     "elapsed": 253,
     "status": "ok",
     "timestamp": 1663087920664,
     "user": {
      "displayName": "Pedro Tavares Silva",
      "userId": "15176343071283963792"
     },
     "user_tz": -120
    },
    "id": "H6p7K4kIv8y3",
    "outputId": "2d1203a8-2705-478f-c6cc-e807fcbe603c",
    "scrolled": true
   },
   "outputs": [
    {
     "name": "stdout",
     "output_type": "stream",
     "text": [
      "Model: \"sequential\"\n",
      "_________________________________________________________________\n",
      " Layer (type)                Output Shape              Param #   \n",
      "=================================================================\n",
      " conv2d (Conv2D)             (None, 224, 224, 10)      4330      \n",
      "                                                                 \n",
      " activation (Activation)     (None, 224, 224, 10)      0         \n",
      "                                                                 \n",
      " conv2d_1 (Conv2D)           (None, 222, 222, 224)     20384     \n",
      "                                                                 \n",
      " activation_1 (Activation)   (None, 222, 222, 224)     0         \n",
      "                                                                 \n",
      " max_pooling2d (MaxPooling2D  (None, 55, 55, 224)      0         \n",
      " )                                                               \n",
      "                                                                 \n",
      " dropout (Dropout)           (None, 55, 55, 224)       0         \n",
      "                                                                 \n",
      " conv2d_2 (Conv2D)           (None, 55, 55, 224)       451808    \n",
      "                                                                 \n",
      " activation_2 (Activation)   (None, 55, 55, 224)       0         \n",
      "                                                                 \n",
      " conv2d_3 (Conv2D)           (None, 53, 53, 224)       451808    \n",
      "                                                                 \n",
      " activation_3 (Activation)   (None, 53, 53, 224)       0         \n",
      "                                                                 \n",
      " max_pooling2d_1 (MaxPooling  (None, 26, 26, 224)      0         \n",
      " 2D)                                                             \n",
      "                                                                 \n",
      " dropout_1 (Dropout)         (None, 26, 26, 224)       0         \n",
      "                                                                 \n",
      " flatten (Flatten)           (None, 151424)            0         \n",
      "                                                                 \n",
      " dense (Dense)               (None, 512)               77529600  \n",
      "                                                                 \n",
      " activation_4 (Activation)   (None, 512)               0         \n",
      "                                                                 \n",
      " dropout_2 (Dropout)         (None, 512)               0         \n",
      "                                                                 \n",
      " dense_1 (Dense)             (None, 5)                 2565      \n",
      "                                                                 \n",
      " activation_5 (Activation)   (None, 5)                 0         \n",
      "                                                                 \n",
      "=================================================================\n",
      "Total params: 78,460,495\n",
      "Trainable params: 78,460,495\n",
      "Non-trainable params: 0\n",
      "_________________________________________________________________\n"
     ]
    }
   ],
   "source": [
    "model.summary()"
   ]
  },
  {
   "cell_type": "code",
   "execution_count": 22,
   "metadata": {},
   "outputs": [],
   "source": [
    "callback = keras.callbacks.EarlyStopping(monitor='val_loss',\n",
    "                                         patience=8,\n",
    "                                         restore_best_weights=True)"
   ]
  },
  {
   "cell_type": "code",
   "execution_count": 23,
   "metadata": {
    "id": "jVOmRWZq1dcR",
    "scrolled": true
   },
   "outputs": [
    {
     "name": "stderr",
     "output_type": "stream",
     "text": [
      "2022-09-17 09:57:31.417425: W tensorflow/core/framework/cpu_allocator_impl.cc:82] Allocation of 3311616000 exceeds 10% of free system memory.\n",
      "2022-09-17 09:57:52.888277: W tensorflow/core/framework/cpu_allocator_impl.cc:82] Allocation of 2826141696 exceeds 10% of free system memory.\n",
      "2022-09-17 09:58:26.640456: W tensorflow/core/framework/cpu_allocator_impl.cc:82] Allocation of 2826141696 exceeds 10% of free system memory.\n",
      "2022-09-17 09:58:38.717125: W tensorflow/core/framework/cpu_allocator_impl.cc:82] Allocation of 2826141696 exceeds 10% of free system memory.\n",
      "2022-09-17 09:58:47.275614: W tensorflow/core/framework/cpu_allocator_impl.cc:82] Allocation of 2826141696 exceeds 10% of free system memory.\n",
      "WARNING:absl:Found untraced functions such as _jit_compiled_convolution_op, _jit_compiled_convolution_op, _jit_compiled_convolution_op, _jit_compiled_convolution_op while saving (showing 4 of 4). These functions will not be directly callable after loading.\n"
     ]
    },
    {
     "name": "stdout",
     "output_type": "stream",
     "text": [
      "INFO:tensorflow:Assets written to: /tmp/tmpodz21d5g/model/data/model/assets\n"
     ]
    },
    {
     "name": "stderr",
     "output_type": "stream",
     "text": [
      "INFO:tensorflow:Assets written to: /tmp/tmpodz21d5g/model/data/model/assets\n",
      "2022/09/17 14:59:51 WARNING mlflow.utils.environment: Encountered an unexpected error while inferring pip requirements (model URI: /tmp/tmpodz21d5g/model, flavor: keras), fall back to return ['tensorflow==2.9.1', 'keras==2.9.0']. Set logging level to DEBUG to see the full traceback.\n"
     ]
    }
   ],
   "source": [
    "start_time = time.time()\n",
    "history = model.fit(X_train, y_train,\n",
    "                    epochs = epochs,\n",
    "                    batch_size=batch_size,\n",
    "                    validation_data=(X_test, y_test),\n",
    "                    callbacks=[callback],\n",
    "                    verbose=1)\n",
    "end_time = time.time()"
   ]
  },
  {
   "cell_type": "code",
   "execution_count": 30,
   "metadata": {},
   "outputs": [
    {
     "name": "stderr",
     "output_type": "stream",
     "text": [
      "WARNING:absl:Found untraced functions such as _jit_compiled_convolution_op, _jit_compiled_convolution_op, _jit_compiled_convolution_op, _jit_compiled_convolution_op while saving (showing 4 of 4). These functions will not be directly callable after loading.\n"
     ]
    },
    {
     "name": "stdout",
     "output_type": "stream",
     "text": [
      "INFO:tensorflow:Assets written to: Experimento_2/modelos/tf_model_exp1_6b6eff59143148e78dfe1a10efc7f71e/assets\n"
     ]
    },
    {
     "name": "stderr",
     "output_type": "stream",
     "text": [
      "INFO:tensorflow:Assets written to: Experimento_2/modelos/tf_model_exp1_6b6eff59143148e78dfe1a10efc7f71e/assets\n"
     ]
    }
   ],
   "source": [
    "model.save(PATH + 'modelos/tf_model_exp1_{}'.format(run.info.run_id))"
   ]
  },
  {
   "cell_type": "code",
   "execution_count": 31,
   "metadata": {
    "id": "IgY4sv9NkDSq"
   },
   "outputs": [],
   "source": [
    "mlflow.end_run()"
   ]
  }
 ],
 "metadata": {
  "colab": {
   "authorship_tag": "ABX9TyP034pRRtazrEXnryAJtpka",
   "collapsed_sections": [],
   "provenance": []
  },
  "kernelspec": {
   "display_name": "Python 3 (ipykernel)",
   "language": "python",
   "name": "python3"
  },
  "language_info": {
   "codemirror_mode": {
    "name": "ipython",
    "version": 3
   },
   "file_extension": ".py",
   "mimetype": "text/x-python",
   "name": "python",
   "nbconvert_exporter": "python",
   "pygments_lexer": "ipython3",
   "version": "3.8.10"
  }
 },
 "nbformat": 4,
 "nbformat_minor": 1
}
