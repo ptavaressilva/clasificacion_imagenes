{
 "cells": [
  {
   "cell_type": "markdown",
   "metadata": {
    "id": "ey_KBlielNXM"
   },
   "source": [
    "**Función:** Entrenamiento de la CNN línea base con dataset 10k con 1 canal (gris).\n",
    "\n",
    "**Requiere:**\n",
    "- ../../datasets/X_train_DATASET10KGRIS_x_float.pkl\n",
    "- ../../datasets/X_test_DATASET10KGRIS_x_float.pkl\n",
    "- ../../datasets/y_train_DATASET10KGRIS.pkl\n",
    "- ../../datasets/y_test_DATASET10KGRIS.pkl\n",
    "\n",
    "**Crea:** Fichero con el modelo entrenado (epoch con menor val_loss).\n",
    "- modelos/tf_model_\\<run_id\\>"
   ]
  },
  {
   "cell_type": "code",
   "execution_count": null,
   "metadata": {},
   "outputs": [],
   "source": [
    "ejecutadoEnGoogleDrive = False # True si se ejecuta en Google Drive"
   ]
  },
  {
   "cell_type": "code",
   "execution_count": null,
   "metadata": {},
   "outputs": [],
   "source": [
    "if ejecutadoEnGoogleDrive:\n",
    "    from google.colab import drive\n",
    "    drive.mount('/content/drive')\n",
    "    PATH = '/content/drive/clasificacion_imagenes/'\n",
    "    ruta_datasets = '/content/drive/clasificacion_imagenes/datasets/'\n",
    "else:\n",
    "    PATH = '../../1_Setup_MLOps'\n",
    "    ruta_datasets = '../../datasets/'\n",
    "\n",
    "%cd {PATH}"
   ]
  },
  {
   "cell_type": "code",
   "execution_count": 2,
   "metadata": {
    "executionInfo": {
     "elapsed": 10560,
     "status": "ok",
     "timestamp": 1663101975956,
     "user": {
      "displayName": "Pedro Tavares Silva",
      "userId": "15176343071283963792"
     },
     "user_tz": -120
    },
    "id": "e9UpSOpbk9Iq"
   },
   "outputs": [
    {
     "name": "stderr",
     "output_type": "stream",
     "text": [
      "2022-09-17 18:02:24.556091: W tensorflow/stream_executor/platform/default/dso_loader.cc:64] Could not load dynamic library 'libcudart.so.11.0'; dlerror: libcudart.so.11.0: cannot open shared object file: No such file or directory\n",
      "2022-09-17 18:02:24.556232: I tensorflow/stream_executor/cuda/cudart_stub.cc:29] Ignore above cudart dlerror if you do not have a GPU set up on your machine.\n"
     ]
    }
   ],
   "source": [
    "# !pip install mlflow\n",
    "import mlflow\n",
    "#from google.colab import drive\n",
    "import numpy as np\n",
    "from numpy.random import seed\n",
    "import matplotlib.pyplot as plt\n",
    "import pandas as pd\n",
    "import pickle\n",
    "from keras import backend as K\n",
    "from keras.utils import np_utils\n",
    "from keras.models import Sequential\n",
    "from keras.layers import Dense, Dropout, Activation, Flatten, Convolution2D, Conv2D, MaxPooling2D\n",
    "from tensorflow import keras\n",
    "from tensorflow.random import set_seed\n",
    "import time"
   ]
  },
  {
   "cell_type": "code",
   "execution_count": 3,
   "metadata": {},
   "outputs": [],
   "source": [
    "# Fijar random state para obtener resultados reproductibles\n",
    "seed(42) # So long and thanks for all the fish\n",
    "set_seed(42)"
   ]
  },
  {
   "cell_type": "code",
   "execution_count": 4,
   "metadata": {},
   "outputs": [
    {
     "name": "stdout",
     "output_type": "stream",
     "text": [
      "/drive/Experimento_3\r\n"
     ]
    }
   ],
   "source": [
    "!pwd"
   ]
  },
  {
   "cell_type": "code",
   "execution_count": 5,
   "metadata": {
    "colab": {
     "base_uri": "https://localhost:8080/"
    },
    "executionInfo": {
     "elapsed": 4,
     "status": "ok",
     "timestamp": 1663101977824,
     "user": {
      "displayName": "Pedro Tavares Silva",
      "userId": "15176343071283963792"
     },
     "user_tz": -120
    },
    "id": "gUKdzjnNnHcK",
    "outputId": "48f42e28-7c33-4ca7-8da9-74d045ae3c1c"
   },
   "outputs": [
    {
     "name": "stdout",
     "output_type": "stream",
     "text": [
      "/drive\n"
     ]
    }
   ],
   "source": [
    "# ir a la carpeta raiz del proyecto (donde se encuentra mlruns)\n",
    "%cd .."
   ]
  },
  {
   "cell_type": "code",
   "execution_count": 1,
   "metadata": {
    "colab": {
     "base_uri": "https://localhost:8080/"
    },
    "executionInfo": {
     "elapsed": 239,
     "status": "ok",
     "timestamp": 1663101981504,
     "user": {
      "displayName": "Pedro Tavares Silva",
      "userId": "15176343071283963792"
     },
     "user_tz": -120
    },
    "id": "nTeKmHwFlXM3",
    "outputId": "40e9674a-5498-4151-f350-933337f858f7"
   },
   "outputs": [
    {
     "name": "stdout",
     "output_type": "stream",
     "text": [
      "Notebook ejecutado por Carlos_H\n"
     ]
    }
   ],
   "source": [
    "# Definir quién está ejecutando (para no machacar el MLflow de los compañeros)\n",
    "# Descomentar la linea que aplique\n",
    "# yo = 'Pedro_T'\n",
    "# yo = 'Toni_V'\n",
    "# yo = 'Carlos_H'\n",
    "# yo = 'Carlos_C'\n",
    "print('Notebook ejecutado por {}'.format(yo))"
   ]
  },
  {
   "cell_type": "code",
   "execution_count": 7,
   "metadata": {
    "colab": {
     "base_uri": "https://localhost:8080/"
    },
    "executionInfo": {
     "elapsed": 218,
     "status": "ok",
     "timestamp": 1663101989136,
     "user": {
      "displayName": "Pedro Tavares Silva",
      "userId": "15176343071283963792"
     },
     "user_tz": -120
    },
    "id": "yApMM8dQllc-",
    "outputId": "e9f7fcdc-6300-4a92-dc2d-4277be80f6cd"
   },
   "outputs": [
    {
     "data": {
      "text/plain": [
       "<Experiment: artifact_location='mlruns', experiment_id='2', lifecycle_stage='active', name='Experimento 3 - evaluar impacto de los canales', tags={'Dataset': 'DATASET 10K 224 GRIS',\n",
       " 'Experimento': '3',\n",
       " 'Modelo': 'CNN basica (baseline)'}>"
      ]
     },
     "execution_count": 7,
     "metadata": {},
     "output_type": "execute_result"
    }
   ],
   "source": [
    "# Este run pertenence al experimento 2, que tiene el id \"1\" (string)\n",
    "experiment_id = \"2\"\n",
    "mlflow.set_experiment(experiment_id = experiment_id) "
   ]
  },
  {
   "cell_type": "code",
   "execution_count": 8,
   "metadata": {
    "executionInfo": {
     "elapsed": 590,
     "status": "ok",
     "timestamp": 1663101993112,
     "user": {
      "displayName": "Pedro Tavares Silva",
      "userId": "15176343071283963792"
     },
     "user_tz": -120
    },
    "id": "WXCoFIaxneg2"
   },
   "outputs": [
    {
     "name": "stdout",
     "output_type": "stream",
     "text": [
      "Vamos empezar el run 43e9f8094e20474d8d136c1276ec82a6 en el experimento 2. Este run está RUNNING.\n"
     ]
    }
   ],
   "source": [
    "# OPCIÓN 1: crear run\n",
    "Este texto garantiza que no creamos accidentalmente un nuevo run\n",
    "run = mlflow.start_run(\n",
    "  experiment_id=experiment_id,\n",
    "  tags={\"Autor\": yo}\n",
    ")\n",
    "print('Vamos empezar el run {} en el experimento {}. Este run está {}.'.format(run.info.run_id, experiment_id, run.info.status))"
   ]
  },
  {
   "cell_type": "code",
   "execution_count": 7,
   "metadata": {},
   "outputs": [
    {
     "name": "stdout",
     "output_type": "stream",
     "text": [
      "Vamos empezar el run 6b6eff59143148e78dfe1a10efc7f71e en el experimento id_1. Este run está RUNNING.\n"
     ]
    }
   ],
   "source": [
    "# OPCIÓN 2: reanudar run\n",
    "run_id = '43e9f8094e20474d8d136c1276ec82a6' # por ej. \"69bfdf296f384a75ada2ae55f9dc7672\" (ver en la carpeta mlruns/0)\n",
    "run = mlflow.start_run(run_id=run_id)\n",
    "print('Vamos empezar el run {} en el experimento id_{}. Este run está {}.'.format(run.info.run_id, experiment_id, run.info.status))"
   ]
  },
  {
   "cell_type": "code",
   "execution_count": 9,
   "metadata": {
    "executionInfo": {
     "elapsed": 596,
     "status": "ok",
     "timestamp": 1663102011536,
     "user": {
      "displayName": "Pedro Tavares Silva",
      "userId": "15176343071283963792"
     },
     "user_tz": -120
    },
    "id": "TErw_vCKm19V"
   },
   "outputs": [],
   "source": [
    "# activar auto logging\n",
    "mlflow.tensorflow.autolog()"
   ]
  },
  {
   "cell_type": "markdown",
   "metadata": {
    "id": "7ieOPCyurVJm"
   },
   "source": [
    "Formato esperado:\n",
    "- X_train: (N, 224, 224, 3) float32 (entre 0. y 1.)\n",
    "- y_train: (N, 5) float32 (0. o 1.)\n",
    "- X_test: (P, 224, 224, 3) float32 (entre 0. y 1.)\n",
    "- y_test: (P, 5) float32 (0. o 1.)"
   ]
  },
  {
   "cell_type": "code",
   "execution_count": 10,
   "metadata": {},
   "outputs": [
    {
     "name": "stdout",
     "output_type": "stream",
     "text": [
      "X_test.pkl  X_train.pkl  y_test.pkl  y_train.pkl\r\n"
     ]
    }
   ],
   "source": [
    "!ls datasets/DATASET10KGRIS"
   ]
  },
  {
   "cell_type": "code",
   "execution_count": 12,
   "metadata": {
    "id": "8nG1WcpKpdWk"
   },
   "outputs": [],
   "source": [
    "X_train = pickle.load(open(PATH + 'X_train_DATASET10KGRIS.pkl'.format(ruta_datasets),'rb'))\n",
    "X_test = pickle.load(open(PATH + 'X_test_DATASET10KGRIS.pkl'.format(ruta_datasets),'rb'))\n",
    "y_train = pickle.load(open(PATH + 'y_train_DATASET10KGRIS.pkl'.format(ruta_datasets),'rb'))\n",
    "y_test = pickle.load(open(PATH + 'y_test_DATASET10KGRIS.pkl'.format(ruta_datasets),'rb'))"
   ]
  },
  {
   "cell_type": "code",
   "execution_count": 13,
   "metadata": {
    "id": "GFl4zMF_kZeG"
   },
   "outputs": [],
   "source": [
    "categories = ['food', 'inside', 'outside', 'drink', 'menu']"
   ]
  },
  {
   "cell_type": "code",
   "execution_count": 14,
   "metadata": {
    "id": "NY6K5J3kq2iV"
   },
   "outputs": [
    {
     "name": "stdout",
     "output_type": "stream",
     "text": [
      "X_train: (6650, 224, 224) float32\n",
      "y_train: (6650, 5) float32\n",
      "X_test: (1662, 224, 224) float32\n",
      "y_test: (1662, 5) float32\n"
     ]
    }
   ],
   "source": [
    "print(\"X_train: {} {}\".format(X_train.shape, X_train.dtype))\n",
    "print(\"y_train: {} {}\".format(y_train.shape, y_train.dtype))\n",
    "print(\"X_test: {} {}\".format(X_test.shape, X_test.dtype))\n",
    "print(\"y_test: {} {}\".format(y_test.shape, y_test.dtype))"
   ]
  },
  {
   "cell_type": "code",
   "execution_count": 15,
   "metadata": {
    "id": "0kPdcNeWtMaW"
   },
   "outputs": [],
   "source": [
    "# Dimensiones de la imagen de entrada\n",
    "img_rows, img_cols, img_ch = 224, 224, 3\n",
    "num_labels = 5"
   ]
  },
  {
   "cell_type": "code",
   "execution_count": 16,
   "metadata": {
    "colab": {
     "base_uri": "https://localhost:8080/"
    },
    "executionInfo": {
     "elapsed": 375,
     "status": "ok",
     "timestamp": 1663087323390,
     "user": {
      "displayName": "Pedro Tavares Silva",
      "userId": "15176343071283963792"
     },
     "user_tz": -120
    },
    "id": "IZm9F-NbrU0v",
    "outputId": "8fad23e4-c001-45d2-e55b-d9fa5425c647"
   },
   "outputs": [
    {
     "name": "stdout",
     "output_type": "stream",
     "text": [
      "El dataset tiene las dimensiones esperadas\n"
     ]
    }
   ],
   "source": [
    "# test de los datos de entrada\n",
    "if   (X_train.shape[1] != img_rows) \\\n",
    "  or (X_train.shape[2] != img_cols)\\\n",
    "  or (y_train.shape[1] != num_labels)\\\n",
    "  or (X_train.dtype != 'float32')\\\n",
    "  or (X_test.shape[1] != img_rows) \\\n",
    "  or (X_test.shape[2] != img_cols)\\\n",
    "  or (y_test.shape[1] != num_labels)\\\n",
    "  or (X_test.dtype != 'float32')\\\n",
    "  or (y_train.dtype != 'float32')\\\n",
    "  or (y_test.dtype != 'float32')\\\n",
    "  or (X_train.shape[0] != y_train.shape[0])\\\n",
    "  or (X_test.shape[0] != y_test.shape[0]\\\n",
    "  or type(X_train) != np.ndarray\\\n",
    "  or type(X_test) != np.ndarray\\\n",
    "  or type(y_train) != np.ndarray\\\n",
    "  or type(y_test) != np.ndarray):\n",
    "  raise Exception(\"El dataset no tiene las dimensiones esperadas!\")\n",
    "else:\n",
    "  print('El dataset tiene las dimensiones esperadas')"
   ]
  },
  {
   "cell_type": "code",
   "execution_count": 17,
   "metadata": {
    "id": "SJ04WQHdwDnp"
   },
   "outputs": [],
   "source": [
    "IMG_SIZE = 224\n",
    "epochs = 40\n",
    "batch_size=64\n",
    "validation_split = 0.2"
   ]
  },
  {
   "cell_type": "code",
   "execution_count": 25,
   "metadata": {
    "colab": {
     "base_uri": "https://localhost:8080/"
    },
    "executionInfo": {
     "elapsed": 614,
     "status": "ok",
     "timestamp": 1663087916306,
     "user": {
      "displayName": "Pedro Tavares Silva",
      "userId": "15176343071283963792"
     },
     "user_tz": -120
    },
    "id": "D9ryTnm0vw7z",
    "outputId": "e5bbb4d7-a418-4298-e15e-6a56223ee707"
   },
   "outputs": [],
   "source": [
    "model = Sequential()\n",
    "model.add(Conv2D(10, (12, 12), padding='same', input_shape=(IMG_SIZE,IMG_SIZE,1)))\n",
    "model.add(Activation('relu'))\n",
    "model.add(Conv2D(IMG_SIZE, (3, 3)))\n",
    "model.add(Activation('relu'))\n",
    "model.add(MaxPooling2D(pool_size=(4, 4)))\n",
    "model.add(Dropout(0.25))\n",
    "\n",
    "model.add(Conv2D(IMG_SIZE, (3, 3), padding='same'))\n",
    "model.add(Activation('relu'))\n",
    "model.add(Conv2D(IMG_SIZE, (3, 3)))\n",
    "model.add(Activation('relu'))\n",
    "model.add(MaxPooling2D(pool_size=(2, 2)))\n",
    "model.add(Dropout(0.25))\n",
    "\n",
    "model.add(Flatten())\n",
    "model.add(Dense(512))\n",
    "model.add(Activation('relu'))\n",
    "model.add(Dropout(0.5))\n",
    "model.add(Dense(5))\n",
    "model.add(Activation('softmax'))\n",
    "opt = keras.optimizers.Nadam(learning_rate=0.0001, schedule_decay=1e-6)"
   ]
  },
  {
   "cell_type": "code",
   "execution_count": 26,
   "metadata": {},
   "outputs": [],
   "source": [
    "# las métricas han sido quitadas de Keras en 2.0\n",
    "def recall_m(y_true, y_pred):\n",
    "    true_positives = K.sum(K.round(K.clip(y_true * y_pred, 0, 1)))\n",
    "    possible_positives = K.sum(K.round(K.clip(y_true, 0, 1)))\n",
    "    recall = true_positives / (possible_positives + K.epsilon())\n",
    "    return recall\n",
    "\n",
    "def precision_m(y_true, y_pred):\n",
    "    true_positives = K.sum(K.round(K.clip(y_true * y_pred, 0, 1)))\n",
    "    predicted_positives = K.sum(K.round(K.clip(y_pred, 0, 1)))\n",
    "    precision = true_positives / (predicted_positives + K.epsilon())\n",
    "    return precision\n",
    "\n",
    "def f1_m(y_true, y_pred):\n",
    "    precision = precision_m(y_true, y_pred)\n",
    "    recall = recall_m(y_true, y_pred)\n",
    "    return 2*((precision*recall)/(precision+recall+K.epsilon()))"
   ]
  },
  {
   "cell_type": "code",
   "execution_count": 27,
   "metadata": {
    "id": "Jfpgpc_Ew0SR"
   },
   "outputs": [],
   "source": [
    "model.compile(loss='categorical_crossentropy',\n",
    "              optimizer=opt,\n",
    "              metrics=['acc', f1_m, precision_m, recall_m])"
   ]
  },
  {
   "cell_type": "code",
   "execution_count": 28,
   "metadata": {
    "colab": {
     "base_uri": "https://localhost:8080/"
    },
    "executionInfo": {
     "elapsed": 253,
     "status": "ok",
     "timestamp": 1663087920664,
     "user": {
      "displayName": "Pedro Tavares Silva",
      "userId": "15176343071283963792"
     },
     "user_tz": -120
    },
    "id": "H6p7K4kIv8y3",
    "outputId": "2d1203a8-2705-478f-c6cc-e807fcbe603c",
    "scrolled": true
   },
   "outputs": [
    {
     "name": "stdout",
     "output_type": "stream",
     "text": [
      "Model: \"sequential_2\"\n",
      "_________________________________________________________________\n",
      " Layer (type)                Output Shape              Param #   \n",
      "=================================================================\n",
      " conv2d_5 (Conv2D)           (None, 224, 224, 10)      1450      \n",
      "                                                                 \n",
      " activation_6 (Activation)   (None, 224, 224, 10)      0         \n",
      "                                                                 \n",
      " conv2d_6 (Conv2D)           (None, 222, 222, 224)     20384     \n",
      "                                                                 \n",
      " activation_7 (Activation)   (None, 222, 222, 224)     0         \n",
      "                                                                 \n",
      " max_pooling2d_2 (MaxPooling  (None, 55, 55, 224)      0         \n",
      " 2D)                                                             \n",
      "                                                                 \n",
      " dropout_3 (Dropout)         (None, 55, 55, 224)       0         \n",
      "                                                                 \n",
      " conv2d_7 (Conv2D)           (None, 55, 55, 224)       451808    \n",
      "                                                                 \n",
      " activation_8 (Activation)   (None, 55, 55, 224)       0         \n",
      "                                                                 \n",
      " conv2d_8 (Conv2D)           (None, 53, 53, 224)       451808    \n",
      "                                                                 \n",
      " activation_9 (Activation)   (None, 53, 53, 224)       0         \n",
      "                                                                 \n",
      " max_pooling2d_3 (MaxPooling  (None, 26, 26, 224)      0         \n",
      " 2D)                                                             \n",
      "                                                                 \n",
      " dropout_4 (Dropout)         (None, 26, 26, 224)       0         \n",
      "                                                                 \n",
      " flatten_1 (Flatten)         (None, 151424)            0         \n",
      "                                                                 \n",
      " dense_2 (Dense)             (None, 512)               77529600  \n",
      "                                                                 \n",
      " activation_10 (Activation)  (None, 512)               0         \n",
      "                                                                 \n",
      " dropout_5 (Dropout)         (None, 512)               0         \n",
      "                                                                 \n",
      " dense_3 (Dense)             (None, 5)                 2565      \n",
      "                                                                 \n",
      " activation_11 (Activation)  (None, 5)                 0         \n",
      "                                                                 \n",
      "=================================================================\n",
      "Total params: 78,457,615\n",
      "Trainable params: 78,457,615\n",
      "Non-trainable params: 0\n",
      "_________________________________________________________________\n"
     ]
    }
   ],
   "source": [
    "model.summary()"
   ]
  },
  {
   "cell_type": "code",
   "execution_count": 29,
   "metadata": {},
   "outputs": [],
   "source": [
    "callback = keras.callbacks.EarlyStopping(monitor='val_loss',\n",
    "                                         patience=8,\n",
    "                                         restore_best_weights=True)"
   ]
  },
  {
   "cell_type": "code",
   "execution_count": 30,
   "metadata": {
    "id": "jVOmRWZq1dcR",
    "scrolled": true
   },
   "outputs": [
    {
     "name": "stdout",
     "output_type": "stream",
     "text": [
      "Epoch 1/40\n"
     ]
    },
    {
     "name": "stderr",
     "output_type": "stream",
     "text": [
      "2022-09-17 18:05:02.474179: W tensorflow/core/framework/cpu_allocator_impl.cc:82] Allocation of 2826141696 exceeds 10% of free system memory.\n",
      "2022-09-17 18:05:41.076590: W tensorflow/core/framework/cpu_allocator_impl.cc:82] Allocation of 2826141696 exceeds 10% of free system memory.\n"
     ]
    },
    {
     "name": "stdout",
     "output_type": "stream",
     "text": [
      "\r",
      "  1/104 [..............................] - ETA: 1:38:46 - loss: 1.6313 - acc: 0.0625 - f1_m: 0.0000e+00 - precision_m: 0.0000e+00 - recall_m: 0.0000e+00"
     ]
    },
    {
     "name": "stderr",
     "output_type": "stream",
     "text": [
      "2022-09-17 18:05:56.931555: W tensorflow/core/framework/cpu_allocator_impl.cc:82] Allocation of 2826141696 exceeds 10% of free system memory.\n",
      "2022-09-17 18:06:05.933243: W tensorflow/core/framework/cpu_allocator_impl.cc:82] Allocation of 2826141696 exceeds 10% of free system memory.\n"
     ]
    },
    {
     "name": "stdout",
     "output_type": "stream",
     "text": [
      "\b\b\b\b\b\b\b\b\b\b\b\b\b\b\b\b\b\b\b\b\b\b\b\b\b\b\b\b\b\b\b\b\b\b\b\b\b\b\b\b\b\b\b\b\b\b\b\b\b\b\b\b\b\b\b\b\b\b\b\b\b\b\b\b\b\b\b\b\b\b\b\b\b\b\b\b\b\b\b\b\b\b\b\b\b\b\b\b\b\b\b\b\b\b\b\b\b\b\b\b\b\b\b\b\b\b\b\b\b\b\b\b\b\b\b\b\b\b\b\b\b\b\b\b\b\b\b\b\b\b\b\b\b\b\b\b\b\b\b\b\b\b\b\b\b\b\b\b\b\b\b\b\r",
      "  2/104 [..............................] - ETA: 29:20 - loss: 1.4988 - acc: 0.2891 - f1_m: 0.2578 - precision_m: 0.2578 - recall_m: 0.2578              "
     ]
    },
    {
     "name": "stderr",
     "output_type": "stream",
     "text": [
      "2022-09-17 18:06:13.439633: W tensorflow/core/framework/cpu_allocator_impl.cc:82] Allocation of 2826141696 exceeds 10% of free system memory.\n"
     ]
    },
    {
     "name": "stdout",
     "output_type": "stream",
     "text": [
      "104/104 [==============================] - 1680s 16s/step - loss: 1.0438 - acc: 0.6217 - f1_m: 0.5654 - precision_m: 0.6823 - recall_m: 0.4908 - val_loss: 1.1115 - val_acc: 0.5969 - val_f1_m: 0.4419 - val_precision_m: 0.6491 - val_recall_m: 0.3438\n",
      "Epoch 2/40\n",
      "104/104 [==============================] - 1518s 15s/step - loss: 0.9461 - acc: 0.6720 - f1_m: 0.6360 - precision_m: 0.7289 - recall_m: 0.5672 - val_loss: 0.9360 - val_acc: 0.6865 - val_f1_m: 0.6325 - val_precision_m: 0.7411 - val_recall_m: 0.5523\n",
      "Epoch 3/40\n",
      "104/104 [==============================] - 1522s 15s/step - loss: 0.8692 - acc: 0.6887 - f1_m: 0.6670 - precision_m: 0.7503 - recall_m: 0.6035 - val_loss: 0.7663 - val_acc: 0.7232 - val_f1_m: 0.6961 - val_precision_m: 0.7380 - val_recall_m: 0.6641\n",
      "Epoch 4/40\n",
      "104/104 [==============================] - 1511s 15s/step - loss: 0.7997 - acc: 0.7153 - f1_m: 0.6961 - precision_m: 0.7757 - recall_m: 0.6353 - val_loss: 0.6855 - val_acc: 0.7527 - val_f1_m: 0.7176 - val_precision_m: 0.7851 - val_recall_m: 0.6689\n",
      "Epoch 5/40\n",
      "104/104 [==============================] - 1597s 15s/step - loss: 0.6867 - acc: 0.7463 - f1_m: 0.7381 - precision_m: 0.8088 - recall_m: 0.6811 - val_loss: 0.6708 - val_acc: 0.7401 - val_f1_m: 0.6967 - val_precision_m: 0.7512 - val_recall_m: 0.6593\n",
      "Epoch 6/40\n",
      "104/104 [==============================] - 1579s 15s/step - loss: 0.5932 - acc: 0.7791 - f1_m: 0.7677 - precision_m: 0.8279 - recall_m: 0.7170 - val_loss: 0.6391 - val_acc: 0.7774 - val_f1_m: 0.7187 - val_precision_m: 0.8006 - val_recall_m: 0.6587\n",
      "Epoch 7/40\n",
      "104/104 [==============================] - 1508s 15s/step - loss: 0.5210 - acc: 0.7997 - f1_m: 0.7963 - precision_m: 0.8497 - recall_m: 0.7504 - val_loss: 0.6313 - val_acc: 0.7822 - val_f1_m: 0.7637 - val_precision_m: 0.7879 - val_recall_m: 0.7429\n",
      "Epoch 8/40\n",
      "104/104 [==============================] - 1474s 14s/step - loss: 0.4672 - acc: 0.8227 - f1_m: 0.8189 - precision_m: 0.8632 - recall_m: 0.7796 - val_loss: 0.6291 - val_acc: 0.7876 - val_f1_m: 0.7781 - val_precision_m: 0.7966 - val_recall_m: 0.7610\n",
      "Epoch 9/40\n",
      "104/104 [==============================] - 1445s 14s/step - loss: 0.4011 - acc: 0.8519 - f1_m: 0.8468 - precision_m: 0.8842 - recall_m: 0.8130 - val_loss: 0.6165 - val_acc: 0.7864 - val_f1_m: 0.7793 - val_precision_m: 0.8046 - val_recall_m: 0.7568\n",
      "Epoch 10/40\n",
      "104/104 [==============================] - 1526s 15s/step - loss: 0.3661 - acc: 0.8647 - f1_m: 0.8624 - precision_m: 0.8929 - recall_m: 0.8352 - val_loss: 0.6280 - val_acc: 0.7876 - val_f1_m: 0.7767 - val_precision_m: 0.8012 - val_recall_m: 0.7551\n",
      "Epoch 11/40\n",
      "104/104 [==============================] - 1424s 14s/step - loss: 0.2625 - acc: 0.9090 - f1_m: 0.9050 - precision_m: 0.9246 - recall_m: 0.8866 - val_loss: 0.7560 - val_acc: 0.7786 - val_f1_m: 0.7755 - val_precision_m: 0.7872 - val_recall_m: 0.7647\n",
      "Epoch 12/40\n",
      "104/104 [==============================] - 1414s 14s/step - loss: 0.2321 - acc: 0.9197 - f1_m: 0.9179 - precision_m: 0.9338 - recall_m: 0.9028 - val_loss: 0.6955 - val_acc: 0.7756 - val_f1_m: 0.7718 - val_precision_m: 0.7885 - val_recall_m: 0.7564\n",
      "Epoch 13/40\n",
      "104/104 [==============================] - 1419s 14s/step - loss: 0.1679 - acc: 0.9454 - f1_m: 0.9445 - precision_m: 0.9530 - recall_m: 0.9364 - val_loss: 0.8888 - val_acc: 0.7744 - val_f1_m: 0.7700 - val_precision_m: 0.7770 - val_recall_m: 0.7635\n",
      "Epoch 14/40\n",
      "104/104 [==============================] - 1400s 13s/step - loss: 0.1001 - acc: 0.9686 - f1_m: 0.9680 - precision_m: 0.9732 - recall_m: 0.9628 - val_loss: 0.8705 - val_acc: 0.7792 - val_f1_m: 0.7786 - val_precision_m: 0.7854 - val_recall_m: 0.7720\n",
      "Epoch 15/40\n",
      "104/104 [==============================] - 1403s 13s/step - loss: 0.2843 - acc: 0.9111 - f1_m: 0.9065 - precision_m: 0.9272 - recall_m: 0.8890 - val_loss: 0.8972 - val_acc: 0.7696 - val_f1_m: 0.7667 - val_precision_m: 0.7758 - val_recall_m: 0.7581\n",
      "Epoch 16/40\n",
      "104/104 [==============================] - 1396s 13s/step - loss: 0.0754 - acc: 0.9800 - f1_m: 0.9793 - precision_m: 0.9817 - recall_m: 0.9768 - val_loss: 0.9730 - val_acc: 0.7738 - val_f1_m: 0.7700 - val_precision_m: 0.7793 - val_recall_m: 0.7612\n",
      "Epoch 17/40\n",
      "104/104 [==============================] - 1399s 13s/step - loss: 0.0676 - acc: 0.9821 - f1_m: 0.9814 - precision_m: 0.9836 - recall_m: 0.9792 - val_loss: 0.9023 - val_acc: 0.7762 - val_f1_m: 0.7746 - val_precision_m: 0.7838 - val_recall_m: 0.7659\n"
     ]
    },
    {
     "name": "stderr",
     "output_type": "stream",
     "text": [
      "WARNING:absl:Found untraced functions such as _jit_compiled_convolution_op, _jit_compiled_convolution_op, _jit_compiled_convolution_op, _jit_compiled_convolution_op while saving (showing 4 of 4). These functions will not be directly callable after loading.\n"
     ]
    },
    {
     "name": "stdout",
     "output_type": "stream",
     "text": [
      "INFO:tensorflow:Assets written to: /tmp/tmpfergpo19/model/data/model/assets\n"
     ]
    },
    {
     "name": "stderr",
     "output_type": "stream",
     "text": [
      "INFO:tensorflow:Assets written to: /tmp/tmpfergpo19/model/data/model/assets\n",
      "2022/09/18 01:05:56 WARNING mlflow.utils.environment: Encountered an unexpected error while inferring pip requirements (model URI: /tmp/tmpfergpo19/model, flavor: keras), fall back to return ['tensorflow==2.9.1', 'keras==2.9.0']. Set logging level to DEBUG to see the full traceback.\n"
     ]
    }
   ],
   "source": [
    "start_time = time.time()\n",
    "history = model.fit(X_train, y_train,\n",
    "                    epochs = epochs,\n",
    "                    batch_size=batch_size,\n",
    "                    validation_data=(X_test, y_test),\n",
    "                    callbacks=[callback],\n",
    "                    verbose=1)\n",
    "end_time = time.time()"
   ]
  },
  {
   "cell_type": "code",
   "execution_count": 35,
   "metadata": {},
   "outputs": [
    {
     "name": "stderr",
     "output_type": "stream",
     "text": [
      "WARNING:absl:Found untraced functions such as _jit_compiled_convolution_op, _jit_compiled_convolution_op, _jit_compiled_convolution_op, _jit_compiled_convolution_op while saving (showing 4 of 4). These functions will not be directly callable after loading.\n"
     ]
    },
    {
     "name": "stdout",
     "output_type": "stream",
     "text": [
      "INFO:tensorflow:Assets written to: Experimento_3/modelos/tf_model_exp1_43e9f8094e20474d8d136c1276ec82a6/assets\n"
     ]
    },
    {
     "name": "stderr",
     "output_type": "stream",
     "text": [
      "INFO:tensorflow:Assets written to: Experimento_3/modelos/tf_model_exp1_43e9f8094e20474d8d136c1276ec82a6/assets\n"
     ]
    }
   ],
   "source": [
    "model.save(model_path + 'tf_model_exp1_{}'.format(run.info.run_id))"
   ]
  },
  {
   "cell_type": "code",
   "execution_count": null,
   "metadata": {},
   "outputs": [],
   "source": [
    "mlflow.end_run()"
   ]
  }
 ],
 "metadata": {
  "colab": {
   "authorship_tag": "ABX9TyP034pRRtazrEXnryAJtpka",
   "collapsed_sections": [],
   "provenance": []
  },
  "kernelspec": {
   "display_name": "Python 3 (ipykernel)",
   "language": "python",
   "name": "python3"
  },
  "language_info": {
   "codemirror_mode": {
    "name": "ipython",
    "version": 3
   },
   "file_extension": ".py",
   "mimetype": "text/x-python",
   "name": "python",
   "nbconvert_exporter": "python",
   "pygments_lexer": "ipython3",
   "version": "3.8.10"
  }
 },
 "nbformat": 4,
 "nbformat_minor": 1
}
