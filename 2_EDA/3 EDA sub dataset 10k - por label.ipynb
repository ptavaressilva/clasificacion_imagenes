{
 "cells": [
  {
   "cell_type": "markdown",
   "metadata": {},
   "source": [
    "**Función:** análisis exploratório (EDA) del sub dataset de 10.000 imágenes (10k)\n",
    "\n",
    "**Requiere:**\n",
    "- ../datasets/food.json\n",
    "- ../datasets/inside.json\n",
    "- ../datasets/outside.json\n",
    "- ../datasets/drink.json\n",
    "- ../datasets/menu.json\n",
    "- ../datasets/df_clean.json\n",
    "- ../datasets/df_info_img.pkl\n",
    "\n",
    "**Crea:** (no crea ficheros)"
   ]
  },
  {
   "cell_type": "code",
   "execution_count": null,
   "metadata": {
    "id": "L8HXdKSXeOys"
   },
   "outputs": [],
   "source": [
    "import pandas as pd\n",
    "import json\n",
    "import matplotlib.pyplot as plt"
   ]
  },
  {
   "cell_type": "code",
   "execution_count": null,
   "metadata": {},
   "outputs": [],
   "source": [
    "ejecutadoEnGoogleDrive = False # True si se ejecuta en Google Drive"
   ]
  },
  {
   "cell_type": "code",
   "execution_count": null,
   "metadata": {},
   "outputs": [],
   "source": [
    "if ejecutadoEnGoogleDrive:\n",
    "    from google.colab import drive\n",
    "    drive.mount('/content/drive')\n",
    "    PATH = '/content/drive/clasificacion_imagenes'\n",
    "else:\n",
    "    PATH = '../'"
   ]
  },
  {
   "cell_type": "code",
   "execution_count": null,
   "metadata": {
    "colab": {
     "base_uri": "https://localhost:8080/",
     "height": 206
    },
    "executionInfo": {
     "elapsed": 3026,
     "status": "ok",
     "timestamp": 1663011260570,
     "user": {
      "displayName": "Carlos Cejas",
      "userId": "14504320149228723836"
     },
     "user_tz": -120
    },
    "id": "D_H4_sAcitwc",
    "outputId": "77b28ed9-c821-46d1-ec80-a8925fbad222"
   },
   "outputs": [
    {
     "data": {
      "text/html": [
       "\n",
       "  <div id=\"df-8ad5ff20-9b5c-4f9b-ad48-d998b210fc0e\">\n",
       "    <div class=\"colab-df-container\">\n",
       "      <div>\n",
       "<style scoped>\n",
       "    .dataframe tbody tr th:only-of-type {\n",
       "        vertical-align: middle;\n",
       "    }\n",
       "\n",
       "    .dataframe tbody tr th {\n",
       "        vertical-align: top;\n",
       "    }\n",
       "\n",
       "    .dataframe thead th {\n",
       "        text-align: right;\n",
       "    }\n",
       "</style>\n",
       "<table border=\"1\" class=\"dataframe\">\n",
       "  <thead>\n",
       "    <tr style=\"text-align: right;\">\n",
       "      <th></th>\n",
       "      <th>photo_id</th>\n",
       "      <th>original_label</th>\n",
       "      <th>reclass_label</th>\n",
       "      <th>status</th>\n",
       "    </tr>\n",
       "  </thead>\n",
       "  <tbody>\n",
       "    <tr>\n",
       "      <th>9449</th>\n",
       "      <td>6dFTuMn4DCaMFslCGzRkJw</td>\n",
       "      <td>menu</td>\n",
       "      <td>menu</td>\n",
       "      <td>OK</td>\n",
       "    </tr>\n",
       "    <tr>\n",
       "      <th>9450</th>\n",
       "      <td>pYrAKf1qGlgoFnJ_3xqoSw</td>\n",
       "      <td>menu</td>\n",
       "      <td>menu</td>\n",
       "      <td>OK</td>\n",
       "    </tr>\n",
       "    <tr>\n",
       "      <th>9451</th>\n",
       "      <td>w8rX2hgdiYF0LSGLx5n6GQ</td>\n",
       "      <td>menu</td>\n",
       "      <td>menu</td>\n",
       "      <td>OK</td>\n",
       "    </tr>\n",
       "    <tr>\n",
       "      <th>9452</th>\n",
       "      <td>RhJXvYqAbeM5ELIzvYJSYQ</td>\n",
       "      <td>menu</td>\n",
       "      <td>menu</td>\n",
       "      <td>OK</td>\n",
       "    </tr>\n",
       "    <tr>\n",
       "      <th>9453</th>\n",
       "      <td>1QOJhbOLw_Df4VCEx8ALFg</td>\n",
       "      <td>menu</td>\n",
       "      <td>menu</td>\n",
       "      <td>OK</td>\n",
       "    </tr>\n",
       "  </tbody>\n",
       "</table>\n",
       "</div>\n",
       "      <button class=\"colab-df-convert\" onclick=\"convertToInteractive('df-8ad5ff20-9b5c-4f9b-ad48-d998b210fc0e')\"\n",
       "              title=\"Convert this dataframe to an interactive table.\"\n",
       "              style=\"display:none;\">\n",
       "        \n",
       "  <svg xmlns=\"http://www.w3.org/2000/svg\" height=\"24px\"viewBox=\"0 0 24 24\"\n",
       "       width=\"24px\">\n",
       "    <path d=\"M0 0h24v24H0V0z\" fill=\"none\"/>\n",
       "    <path d=\"M18.56 5.44l.94 2.06.94-2.06 2.06-.94-2.06-.94-.94-2.06-.94 2.06-2.06.94zm-11 1L8.5 8.5l.94-2.06 2.06-.94-2.06-.94L8.5 2.5l-.94 2.06-2.06.94zm10 10l.94 2.06.94-2.06 2.06-.94-2.06-.94-.94-2.06-.94 2.06-2.06.94z\"/><path d=\"M17.41 7.96l-1.37-1.37c-.4-.4-.92-.59-1.43-.59-.52 0-1.04.2-1.43.59L10.3 9.45l-7.72 7.72c-.78.78-.78 2.05 0 2.83L4 21.41c.39.39.9.59 1.41.59.51 0 1.02-.2 1.41-.59l7.78-7.78 2.81-2.81c.8-.78.8-2.07 0-2.86zM5.41 20L4 18.59l7.72-7.72 1.47 1.35L5.41 20z\"/>\n",
       "  </svg>\n",
       "      </button>\n",
       "      \n",
       "  <style>\n",
       "    .colab-df-container {\n",
       "      display:flex;\n",
       "      flex-wrap:wrap;\n",
       "      gap: 12px;\n",
       "    }\n",
       "\n",
       "    .colab-df-convert {\n",
       "      background-color: #E8F0FE;\n",
       "      border: none;\n",
       "      border-radius: 50%;\n",
       "      cursor: pointer;\n",
       "      display: none;\n",
       "      fill: #1967D2;\n",
       "      height: 32px;\n",
       "      padding: 0 0 0 0;\n",
       "      width: 32px;\n",
       "    }\n",
       "\n",
       "    .colab-df-convert:hover {\n",
       "      background-color: #E2EBFA;\n",
       "      box-shadow: 0px 1px 2px rgba(60, 64, 67, 0.3), 0px 1px 3px 1px rgba(60, 64, 67, 0.15);\n",
       "      fill: #174EA6;\n",
       "    }\n",
       "\n",
       "    [theme=dark] .colab-df-convert {\n",
       "      background-color: #3B4455;\n",
       "      fill: #D2E3FC;\n",
       "    }\n",
       "\n",
       "    [theme=dark] .colab-df-convert:hover {\n",
       "      background-color: #434B5C;\n",
       "      box-shadow: 0px 1px 3px 1px rgba(0, 0, 0, 0.15);\n",
       "      filter: drop-shadow(0px 1px 2px rgba(0, 0, 0, 0.3));\n",
       "      fill: #FFFFFF;\n",
       "    }\n",
       "  </style>\n",
       "\n",
       "      <script>\n",
       "        const buttonEl =\n",
       "          document.querySelector('#df-8ad5ff20-9b5c-4f9b-ad48-d998b210fc0e button.colab-df-convert');\n",
       "        buttonEl.style.display =\n",
       "          google.colab.kernel.accessAllowed ? 'block' : 'none';\n",
       "\n",
       "        async function convertToInteractive(key) {\n",
       "          const element = document.querySelector('#df-8ad5ff20-9b5c-4f9b-ad48-d998b210fc0e');\n",
       "          const dataTable =\n",
       "            await google.colab.kernel.invokeFunction('convertToInteractive',\n",
       "                                                     [key], {});\n",
       "          if (!dataTable) return;\n",
       "\n",
       "          const docLinkHtml = 'Like what you see? Visit the ' +\n",
       "            '<a target=\"_blank\" href=https://colab.research.google.com/notebooks/data_table.ipynb>data table notebook</a>'\n",
       "            + ' to learn more about interactive tables.';\n",
       "          element.innerHTML = '';\n",
       "          dataTable['output_type'] = 'display_data';\n",
       "          await google.colab.output.renderOutput(dataTable, element);\n",
       "          const docLink = document.createElement('div');\n",
       "          docLink.innerHTML = docLinkHtml;\n",
       "          element.appendChild(docLink);\n",
       "        }\n",
       "      </script>\n",
       "    </div>\n",
       "  </div>\n",
       "  "
      ],
      "text/plain": [
       "                    photo_id original_label reclass_label status\n",
       "9449  6dFTuMn4DCaMFslCGzRkJw           menu          menu     OK\n",
       "9450  pYrAKf1qGlgoFnJ_3xqoSw           menu          menu     OK\n",
       "9451  w8rX2hgdiYF0LSGLx5n6GQ           menu          menu     OK\n",
       "9452  RhJXvYqAbeM5ELIzvYJSYQ           menu          menu     OK\n",
       "9453  1QOJhbOLw_Df4VCEx8ALFg           menu          menu     OK"
      ]
     },
     "execution_count": 4,
     "metadata": {},
     "output_type": "execute_result"
    }
   ],
   "source": [
    "df_food = pd.read_json(PATH + 'datasets/food.json')\n",
    "df_inside = pd.read_json(PATH + 'datasets/inside.json')\n",
    "df_outside = pd.read_json(PATH + 'datasets/outside.json')\n",
    "df_drink = pd.read_json(PATH + 'datasets/drink.json')\n",
    "df_menu = pd.read_json(PATH + 'datasets/menu.json')\n",
    "df_revisado = pd.concat([df_food, df_inside, df_outside, df_drink, df_menu], axis=0)\n",
    "df_revisado.reset_index(inplace=True, drop=True)\n",
    "df_revisado.tail()"
   ]
  },
  {
   "cell_type": "code",
   "execution_count": null,
   "metadata": {
    "colab": {
     "base_uri": "https://localhost:8080/"
    },
    "executionInfo": {
     "elapsed": 531,
     "status": "ok",
     "timestamp": 1662984984454,
     "user": {
      "displayName": "Carlos Cejas",
      "userId": "14504320149228723836"
     },
     "user_tz": -120
    },
    "id": "Ghfub1xZi0Md",
    "outputId": "1409fbf1-d91a-469a-cd97-0397b2404e97"
   },
   "outputs": [
    {
     "data": {
      "text/plain": [
       "food       4786\n",
       "inside     2150\n",
       "KO         1142\n",
       "drink       677\n",
       "outside     611\n",
       "menu         88\n",
       "Name: reclass_label, dtype: int64"
      ]
     },
     "execution_count": 8,
     "metadata": {},
     "output_type": "execute_result"
    }
   ],
   "source": [
    "df_revisado.reclass_label.value_counts()"
   ]
  },
  {
   "cell_type": "code",
   "execution_count": null,
   "metadata": {
    "colab": {
     "base_uri": "https://localhost:8080/",
     "height": 206
    },
    "executionInfo": {
     "elapsed": 664,
     "status": "ok",
     "timestamp": 1662986708335,
     "user": {
      "displayName": "Carlos Cejas",
      "userId": "14504320149228723836"
     },
     "user_tz": -120
    },
    "id": "_x7pX-bGkfyp",
    "outputId": "2657bdd7-2ca7-441a-fa9e-431203973e04"
   },
   "outputs": [
    {
     "data": {
      "text/html": [
       "\n",
       "  <div id=\"df-22574d53-212d-4097-a5a3-40ab4bcc784a\">\n",
       "    <div class=\"colab-df-container\">\n",
       "      <div>\n",
       "<style scoped>\n",
       "    .dataframe tbody tr th:only-of-type {\n",
       "        vertical-align: middle;\n",
       "    }\n",
       "\n",
       "    .dataframe tbody tr th {\n",
       "        vertical-align: top;\n",
       "    }\n",
       "\n",
       "    .dataframe thead th {\n",
       "        text-align: right;\n",
       "    }\n",
       "</style>\n",
       "<table border=\"1\" class=\"dataframe\">\n",
       "  <thead>\n",
       "    <tr style=\"text-align: right;\">\n",
       "      <th></th>\n",
       "      <th>photo_id</th>\n",
       "      <th>original_label</th>\n",
       "      <th>reclass_label</th>\n",
       "      <th>status</th>\n",
       "    </tr>\n",
       "  </thead>\n",
       "  <tbody>\n",
       "    <tr>\n",
       "      <th>8200</th>\n",
       "      <td>6dFTuMn4DCaMFslCGzRkJw</td>\n",
       "      <td>menu</td>\n",
       "      <td>menu</td>\n",
       "      <td>OK</td>\n",
       "    </tr>\n",
       "    <tr>\n",
       "      <th>8201</th>\n",
       "      <td>pYrAKf1qGlgoFnJ_3xqoSw</td>\n",
       "      <td>menu</td>\n",
       "      <td>menu</td>\n",
       "      <td>OK</td>\n",
       "    </tr>\n",
       "    <tr>\n",
       "      <th>8202</th>\n",
       "      <td>w8rX2hgdiYF0LSGLx5n6GQ</td>\n",
       "      <td>menu</td>\n",
       "      <td>menu</td>\n",
       "      <td>OK</td>\n",
       "    </tr>\n",
       "    <tr>\n",
       "      <th>8203</th>\n",
       "      <td>RhJXvYqAbeM5ELIzvYJSYQ</td>\n",
       "      <td>menu</td>\n",
       "      <td>menu</td>\n",
       "      <td>OK</td>\n",
       "    </tr>\n",
       "    <tr>\n",
       "      <th>8204</th>\n",
       "      <td>1QOJhbOLw_Df4VCEx8ALFg</td>\n",
       "      <td>menu</td>\n",
       "      <td>menu</td>\n",
       "      <td>OK</td>\n",
       "    </tr>\n",
       "  </tbody>\n",
       "</table>\n",
       "</div>\n",
       "      <button class=\"colab-df-convert\" onclick=\"convertToInteractive('df-22574d53-212d-4097-a5a3-40ab4bcc784a')\"\n",
       "              title=\"Convert this dataframe to an interactive table.\"\n",
       "              style=\"display:none;\">\n",
       "        \n",
       "  <svg xmlns=\"http://www.w3.org/2000/svg\" height=\"24px\"viewBox=\"0 0 24 24\"\n",
       "       width=\"24px\">\n",
       "    <path d=\"M0 0h24v24H0V0z\" fill=\"none\"/>\n",
       "    <path d=\"M18.56 5.44l.94 2.06.94-2.06 2.06-.94-2.06-.94-.94-2.06-.94 2.06-2.06.94zm-11 1L8.5 8.5l.94-2.06 2.06-.94-2.06-.94L8.5 2.5l-.94 2.06-2.06.94zm10 10l.94 2.06.94-2.06 2.06-.94-2.06-.94-.94-2.06-.94 2.06-2.06.94z\"/><path d=\"M17.41 7.96l-1.37-1.37c-.4-.4-.92-.59-1.43-.59-.52 0-1.04.2-1.43.59L10.3 9.45l-7.72 7.72c-.78.78-.78 2.05 0 2.83L4 21.41c.39.39.9.59 1.41.59.51 0 1.02-.2 1.41-.59l7.78-7.78 2.81-2.81c.8-.78.8-2.07 0-2.86zM5.41 20L4 18.59l7.72-7.72 1.47 1.35L5.41 20z\"/>\n",
       "  </svg>\n",
       "      </button>\n",
       "      \n",
       "  <style>\n",
       "    .colab-df-container {\n",
       "      display:flex;\n",
       "      flex-wrap:wrap;\n",
       "      gap: 12px;\n",
       "    }\n",
       "\n",
       "    .colab-df-convert {\n",
       "      background-color: #E8F0FE;\n",
       "      border: none;\n",
       "      border-radius: 50%;\n",
       "      cursor: pointer;\n",
       "      display: none;\n",
       "      fill: #1967D2;\n",
       "      height: 32px;\n",
       "      padding: 0 0 0 0;\n",
       "      width: 32px;\n",
       "    }\n",
       "\n",
       "    .colab-df-convert:hover {\n",
       "      background-color: #E2EBFA;\n",
       "      box-shadow: 0px 1px 2px rgba(60, 64, 67, 0.3), 0px 1px 3px 1px rgba(60, 64, 67, 0.15);\n",
       "      fill: #174EA6;\n",
       "    }\n",
       "\n",
       "    [theme=dark] .colab-df-convert {\n",
       "      background-color: #3B4455;\n",
       "      fill: #D2E3FC;\n",
       "    }\n",
       "\n",
       "    [theme=dark] .colab-df-convert:hover {\n",
       "      background-color: #434B5C;\n",
       "      box-shadow: 0px 1px 3px 1px rgba(0, 0, 0, 0.15);\n",
       "      filter: drop-shadow(0px 1px 2px rgba(0, 0, 0, 0.3));\n",
       "      fill: #FFFFFF;\n",
       "    }\n",
       "  </style>\n",
       "\n",
       "      <script>\n",
       "        const buttonEl =\n",
       "          document.querySelector('#df-22574d53-212d-4097-a5a3-40ab4bcc784a button.colab-df-convert');\n",
       "        buttonEl.style.display =\n",
       "          google.colab.kernel.accessAllowed ? 'block' : 'none';\n",
       "\n",
       "        async function convertToInteractive(key) {\n",
       "          const element = document.querySelector('#df-22574d53-212d-4097-a5a3-40ab4bcc784a');\n",
       "          const dataTable =\n",
       "            await google.colab.kernel.invokeFunction('convertToInteractive',\n",
       "                                                     [key], {});\n",
       "          if (!dataTable) return;\n",
       "\n",
       "          const docLinkHtml = 'Like what you see? Visit the ' +\n",
       "            '<a target=\"_blank\" href=https://colab.research.google.com/notebooks/data_table.ipynb>data table notebook</a>'\n",
       "            + ' to learn more about interactive tables.';\n",
       "          element.innerHTML = '';\n",
       "          dataTable['output_type'] = 'display_data';\n",
       "          await google.colab.output.renderOutput(dataTable, element);\n",
       "          const docLink = document.createElement('div');\n",
       "          docLink.innerHTML = docLinkHtml;\n",
       "          element.appendChild(docLink);\n",
       "        }\n",
       "      </script>\n",
       "    </div>\n",
       "  </div>\n",
       "  "
      ],
      "text/plain": [
       "                    photo_id original_label reclass_label status\n",
       "8200  6dFTuMn4DCaMFslCGzRkJw           menu          menu     OK\n",
       "8201  pYrAKf1qGlgoFnJ_3xqoSw           menu          menu     OK\n",
       "8202  w8rX2hgdiYF0LSGLx5n6GQ           menu          menu     OK\n",
       "8203  RhJXvYqAbeM5ELIzvYJSYQ           menu          menu     OK\n",
       "8204  1QOJhbOLw_Df4VCEx8ALFg           menu          menu     OK"
      ]
     },
     "execution_count": 9,
     "metadata": {},
     "output_type": "execute_result"
    }
   ],
   "source": [
    "df_final = df_revisado[df_revisado['status'] == 'OK']\n",
    "df_final.reset_index(inplace=True, drop=True)\n",
    "df_final.tail()"
   ]
  },
  {
   "cell_type": "code",
   "execution_count": null,
   "metadata": {
    "id": "RuKi_Oktk3Dd"
   },
   "outputs": [],
   "source": [
    "df_final = df_final[['photo_id', 'reclass_label']]"
   ]
  },
  {
   "cell_type": "code",
   "execution_count": null,
   "metadata": {
    "colab": {
     "base_uri": "https://localhost:8080/",
     "height": 424
    },
    "executionInfo": {
     "elapsed": 4,
     "status": "ok",
     "timestamp": 1662986716066,
     "user": {
      "displayName": "Carlos Cejas",
      "userId": "14504320149228723836"
     },
     "user_tz": -120
    },
    "id": "qzra6jSUktKE",
    "outputId": "bbc7d995-0dab-43c1-a3a3-5baebf4029f6"
   },
   "outputs": [
    {
     "data": {
      "text/html": [
       "\n",
       "  <div id=\"df-1952f954-ec1a-4026-be4b-02990e73a6d2\">\n",
       "    <div class=\"colab-df-container\">\n",
       "      <div>\n",
       "<style scoped>\n",
       "    .dataframe tbody tr th:only-of-type {\n",
       "        vertical-align: middle;\n",
       "    }\n",
       "\n",
       "    .dataframe tbody tr th {\n",
       "        vertical-align: top;\n",
       "    }\n",
       "\n",
       "    .dataframe thead th {\n",
       "        text-align: right;\n",
       "    }\n",
       "</style>\n",
       "<table border=\"1\" class=\"dataframe\">\n",
       "  <thead>\n",
       "    <tr style=\"text-align: right;\">\n",
       "      <th></th>\n",
       "      <th>photo_id</th>\n",
       "      <th>reclass_label</th>\n",
       "    </tr>\n",
       "  </thead>\n",
       "  <tbody>\n",
       "    <tr>\n",
       "      <th>0</th>\n",
       "      <td>fB-J1F60DgMRoc8eI0z0Ew</td>\n",
       "      <td>food</td>\n",
       "    </tr>\n",
       "    <tr>\n",
       "      <th>1</th>\n",
       "      <td>n2hdfzYgxL0twgfSDbro1w</td>\n",
       "      <td>food</td>\n",
       "    </tr>\n",
       "    <tr>\n",
       "      <th>2</th>\n",
       "      <td>Z77aLYI_SvAl7PaJ62umJQ</td>\n",
       "      <td>food</td>\n",
       "    </tr>\n",
       "    <tr>\n",
       "      <th>3</th>\n",
       "      <td>tBdw-FR8aNZcJLa5bX-SdA</td>\n",
       "      <td>food</td>\n",
       "    </tr>\n",
       "    <tr>\n",
       "      <th>4</th>\n",
       "      <td>z-ftfswcyAAERjoMzKFJ5A</td>\n",
       "      <td>food</td>\n",
       "    </tr>\n",
       "    <tr>\n",
       "      <th>...</th>\n",
       "      <td>...</td>\n",
       "      <td>...</td>\n",
       "    </tr>\n",
       "    <tr>\n",
       "      <th>8200</th>\n",
       "      <td>6dFTuMn4DCaMFslCGzRkJw</td>\n",
       "      <td>menu</td>\n",
       "    </tr>\n",
       "    <tr>\n",
       "      <th>8201</th>\n",
       "      <td>pYrAKf1qGlgoFnJ_3xqoSw</td>\n",
       "      <td>menu</td>\n",
       "    </tr>\n",
       "    <tr>\n",
       "      <th>8202</th>\n",
       "      <td>w8rX2hgdiYF0LSGLx5n6GQ</td>\n",
       "      <td>menu</td>\n",
       "    </tr>\n",
       "    <tr>\n",
       "      <th>8203</th>\n",
       "      <td>RhJXvYqAbeM5ELIzvYJSYQ</td>\n",
       "      <td>menu</td>\n",
       "    </tr>\n",
       "    <tr>\n",
       "      <th>8204</th>\n",
       "      <td>1QOJhbOLw_Df4VCEx8ALFg</td>\n",
       "      <td>menu</td>\n",
       "    </tr>\n",
       "  </tbody>\n",
       "</table>\n",
       "<p>8205 rows × 2 columns</p>\n",
       "</div>\n",
       "      <button class=\"colab-df-convert\" onclick=\"convertToInteractive('df-1952f954-ec1a-4026-be4b-02990e73a6d2')\"\n",
       "              title=\"Convert this dataframe to an interactive table.\"\n",
       "              style=\"display:none;\">\n",
       "        \n",
       "  <svg xmlns=\"http://www.w3.org/2000/svg\" height=\"24px\"viewBox=\"0 0 24 24\"\n",
       "       width=\"24px\">\n",
       "    <path d=\"M0 0h24v24H0V0z\" fill=\"none\"/>\n",
       "    <path d=\"M18.56 5.44l.94 2.06.94-2.06 2.06-.94-2.06-.94-.94-2.06-.94 2.06-2.06.94zm-11 1L8.5 8.5l.94-2.06 2.06-.94-2.06-.94L8.5 2.5l-.94 2.06-2.06.94zm10 10l.94 2.06.94-2.06 2.06-.94-2.06-.94-.94-2.06-.94 2.06-2.06.94z\"/><path d=\"M17.41 7.96l-1.37-1.37c-.4-.4-.92-.59-1.43-.59-.52 0-1.04.2-1.43.59L10.3 9.45l-7.72 7.72c-.78.78-.78 2.05 0 2.83L4 21.41c.39.39.9.59 1.41.59.51 0 1.02-.2 1.41-.59l7.78-7.78 2.81-2.81c.8-.78.8-2.07 0-2.86zM5.41 20L4 18.59l7.72-7.72 1.47 1.35L5.41 20z\"/>\n",
       "  </svg>\n",
       "      </button>\n",
       "      \n",
       "  <style>\n",
       "    .colab-df-container {\n",
       "      display:flex;\n",
       "      flex-wrap:wrap;\n",
       "      gap: 12px;\n",
       "    }\n",
       "\n",
       "    .colab-df-convert {\n",
       "      background-color: #E8F0FE;\n",
       "      border: none;\n",
       "      border-radius: 50%;\n",
       "      cursor: pointer;\n",
       "      display: none;\n",
       "      fill: #1967D2;\n",
       "      height: 32px;\n",
       "      padding: 0 0 0 0;\n",
       "      width: 32px;\n",
       "    }\n",
       "\n",
       "    .colab-df-convert:hover {\n",
       "      background-color: #E2EBFA;\n",
       "      box-shadow: 0px 1px 2px rgba(60, 64, 67, 0.3), 0px 1px 3px 1px rgba(60, 64, 67, 0.15);\n",
       "      fill: #174EA6;\n",
       "    }\n",
       "\n",
       "    [theme=dark] .colab-df-convert {\n",
       "      background-color: #3B4455;\n",
       "      fill: #D2E3FC;\n",
       "    }\n",
       "\n",
       "    [theme=dark] .colab-df-convert:hover {\n",
       "      background-color: #434B5C;\n",
       "      box-shadow: 0px 1px 3px 1px rgba(0, 0, 0, 0.15);\n",
       "      filter: drop-shadow(0px 1px 2px rgba(0, 0, 0, 0.3));\n",
       "      fill: #FFFFFF;\n",
       "    }\n",
       "  </style>\n",
       "\n",
       "      <script>\n",
       "        const buttonEl =\n",
       "          document.querySelector('#df-1952f954-ec1a-4026-be4b-02990e73a6d2 button.colab-df-convert');\n",
       "        buttonEl.style.display =\n",
       "          google.colab.kernel.accessAllowed ? 'block' : 'none';\n",
       "\n",
       "        async function convertToInteractive(key) {\n",
       "          const element = document.querySelector('#df-1952f954-ec1a-4026-be4b-02990e73a6d2');\n",
       "          const dataTable =\n",
       "            await google.colab.kernel.invokeFunction('convertToInteractive',\n",
       "                                                     [key], {});\n",
       "          if (!dataTable) return;\n",
       "\n",
       "          const docLinkHtml = 'Like what you see? Visit the ' +\n",
       "            '<a target=\"_blank\" href=https://colab.research.google.com/notebooks/data_table.ipynb>data table notebook</a>'\n",
       "            + ' to learn more about interactive tables.';\n",
       "          element.innerHTML = '';\n",
       "          dataTable['output_type'] = 'display_data';\n",
       "          await google.colab.output.renderOutput(dataTable, element);\n",
       "          const docLink = document.createElement('div');\n",
       "          docLink.innerHTML = docLinkHtml;\n",
       "          element.appendChild(docLink);\n",
       "        }\n",
       "      </script>\n",
       "    </div>\n",
       "  </div>\n",
       "  "
      ],
      "text/plain": [
       "                    photo_id reclass_label\n",
       "0     fB-J1F60DgMRoc8eI0z0Ew          food\n",
       "1     n2hdfzYgxL0twgfSDbro1w          food\n",
       "2     Z77aLYI_SvAl7PaJ62umJQ          food\n",
       "3     tBdw-FR8aNZcJLa5bX-SdA          food\n",
       "4     z-ftfswcyAAERjoMzKFJ5A          food\n",
       "...                      ...           ...\n",
       "8200  6dFTuMn4DCaMFslCGzRkJw          menu\n",
       "8201  pYrAKf1qGlgoFnJ_3xqoSw          menu\n",
       "8202  w8rX2hgdiYF0LSGLx5n6GQ          menu\n",
       "8203  RhJXvYqAbeM5ELIzvYJSYQ          menu\n",
       "8204  1QOJhbOLw_Df4VCEx8ALFg          menu\n",
       "\n",
       "[8205 rows x 2 columns]"
      ]
     },
     "execution_count": 11,
     "metadata": {},
     "output_type": "execute_result"
    }
   ],
   "source": [
    "df_final"
   ]
  },
  {
   "cell_type": "code",
   "execution_count": null,
   "metadata": {
    "id": "d9tP9Lesnzba"
   },
   "outputs": [],
   "source": [
    "df_final = pd.read_json(PATH + \"/datasets/df_clean.json\")"
   ]
  },
  {
   "cell_type": "code",
   "execution_count": null,
   "metadata": {
    "colab": {
     "base_uri": "https://localhost:8080/",
     "height": 206
    },
    "executionInfo": {
     "elapsed": 4,
     "status": "ok",
     "timestamp": 1662986726457,
     "user": {
      "displayName": "Carlos Cejas",
      "userId": "14504320149228723836"
     },
     "user_tz": -120
    },
    "id": "Tl7LrMvum0KD",
    "outputId": "421ede75-9963-48ed-d448-0079a220bd3d"
   },
   "outputs": [
    {
     "data": {
      "text/html": [
       "\n",
       "  <div id=\"df-15e11acc-f544-428b-9468-f2e6cdb4a8b1\">\n",
       "    <div class=\"colab-df-container\">\n",
       "      <div>\n",
       "<style scoped>\n",
       "    .dataframe tbody tr th:only-of-type {\n",
       "        vertical-align: middle;\n",
       "    }\n",
       "\n",
       "    .dataframe tbody tr th {\n",
       "        vertical-align: top;\n",
       "    }\n",
       "\n",
       "    .dataframe thead th {\n",
       "        text-align: right;\n",
       "    }\n",
       "</style>\n",
       "<table border=\"1\" class=\"dataframe\">\n",
       "  <thead>\n",
       "    <tr style=\"text-align: right;\">\n",
       "      <th></th>\n",
       "      <th>photo_id</th>\n",
       "      <th>reclass_label</th>\n",
       "    </tr>\n",
       "  </thead>\n",
       "  <tbody>\n",
       "    <tr>\n",
       "      <th>0</th>\n",
       "      <td>fB-J1F60DgMRoc8eI0z0Ew</td>\n",
       "      <td>food</td>\n",
       "    </tr>\n",
       "    <tr>\n",
       "      <th>1</th>\n",
       "      <td>n2hdfzYgxL0twgfSDbro1w</td>\n",
       "      <td>food</td>\n",
       "    </tr>\n",
       "    <tr>\n",
       "      <th>2</th>\n",
       "      <td>Z77aLYI_SvAl7PaJ62umJQ</td>\n",
       "      <td>food</td>\n",
       "    </tr>\n",
       "    <tr>\n",
       "      <th>3</th>\n",
       "      <td>tBdw-FR8aNZcJLa5bX-SdA</td>\n",
       "      <td>food</td>\n",
       "    </tr>\n",
       "    <tr>\n",
       "      <th>4</th>\n",
       "      <td>z-ftfswcyAAERjoMzKFJ5A</td>\n",
       "      <td>food</td>\n",
       "    </tr>\n",
       "  </tbody>\n",
       "</table>\n",
       "</div>\n",
       "      <button class=\"colab-df-convert\" onclick=\"convertToInteractive('df-15e11acc-f544-428b-9468-f2e6cdb4a8b1')\"\n",
       "              title=\"Convert this dataframe to an interactive table.\"\n",
       "              style=\"display:none;\">\n",
       "        \n",
       "  <svg xmlns=\"http://www.w3.org/2000/svg\" height=\"24px\"viewBox=\"0 0 24 24\"\n",
       "       width=\"24px\">\n",
       "    <path d=\"M0 0h24v24H0V0z\" fill=\"none\"/>\n",
       "    <path d=\"M18.56 5.44l.94 2.06.94-2.06 2.06-.94-2.06-.94-.94-2.06-.94 2.06-2.06.94zm-11 1L8.5 8.5l.94-2.06 2.06-.94-2.06-.94L8.5 2.5l-.94 2.06-2.06.94zm10 10l.94 2.06.94-2.06 2.06-.94-2.06-.94-.94-2.06-.94 2.06-2.06.94z\"/><path d=\"M17.41 7.96l-1.37-1.37c-.4-.4-.92-.59-1.43-.59-.52 0-1.04.2-1.43.59L10.3 9.45l-7.72 7.72c-.78.78-.78 2.05 0 2.83L4 21.41c.39.39.9.59 1.41.59.51 0 1.02-.2 1.41-.59l7.78-7.78 2.81-2.81c.8-.78.8-2.07 0-2.86zM5.41 20L4 18.59l7.72-7.72 1.47 1.35L5.41 20z\"/>\n",
       "  </svg>\n",
       "      </button>\n",
       "      \n",
       "  <style>\n",
       "    .colab-df-container {\n",
       "      display:flex;\n",
       "      flex-wrap:wrap;\n",
       "      gap: 12px;\n",
       "    }\n",
       "\n",
       "    .colab-df-convert {\n",
       "      background-color: #E8F0FE;\n",
       "      border: none;\n",
       "      border-radius: 50%;\n",
       "      cursor: pointer;\n",
       "      display: none;\n",
       "      fill: #1967D2;\n",
       "      height: 32px;\n",
       "      padding: 0 0 0 0;\n",
       "      width: 32px;\n",
       "    }\n",
       "\n",
       "    .colab-df-convert:hover {\n",
       "      background-color: #E2EBFA;\n",
       "      box-shadow: 0px 1px 2px rgba(60, 64, 67, 0.3), 0px 1px 3px 1px rgba(60, 64, 67, 0.15);\n",
       "      fill: #174EA6;\n",
       "    }\n",
       "\n",
       "    [theme=dark] .colab-df-convert {\n",
       "      background-color: #3B4455;\n",
       "      fill: #D2E3FC;\n",
       "    }\n",
       "\n",
       "    [theme=dark] .colab-df-convert:hover {\n",
       "      background-color: #434B5C;\n",
       "      box-shadow: 0px 1px 3px 1px rgba(0, 0, 0, 0.15);\n",
       "      filter: drop-shadow(0px 1px 2px rgba(0, 0, 0, 0.3));\n",
       "      fill: #FFFFFF;\n",
       "    }\n",
       "  </style>\n",
       "\n",
       "      <script>\n",
       "        const buttonEl =\n",
       "          document.querySelector('#df-15e11acc-f544-428b-9468-f2e6cdb4a8b1 button.colab-df-convert');\n",
       "        buttonEl.style.display =\n",
       "          google.colab.kernel.accessAllowed ? 'block' : 'none';\n",
       "\n",
       "        async function convertToInteractive(key) {\n",
       "          const element = document.querySelector('#df-15e11acc-f544-428b-9468-f2e6cdb4a8b1');\n",
       "          const dataTable =\n",
       "            await google.colab.kernel.invokeFunction('convertToInteractive',\n",
       "                                                     [key], {});\n",
       "          if (!dataTable) return;\n",
       "\n",
       "          const docLinkHtml = 'Like what you see? Visit the ' +\n",
       "            '<a target=\"_blank\" href=https://colab.research.google.com/notebooks/data_table.ipynb>data table notebook</a>'\n",
       "            + ' to learn more about interactive tables.';\n",
       "          element.innerHTML = '';\n",
       "          dataTable['output_type'] = 'display_data';\n",
       "          await google.colab.output.renderOutput(dataTable, element);\n",
       "          const docLink = document.createElement('div');\n",
       "          docLink.innerHTML = docLinkHtml;\n",
       "          element.appendChild(docLink);\n",
       "        }\n",
       "      </script>\n",
       "    </div>\n",
       "  </div>\n",
       "  "
      ],
      "text/plain": [
       "                 photo_id reclass_label\n",
       "0  fB-J1F60DgMRoc8eI0z0Ew          food\n",
       "1  n2hdfzYgxL0twgfSDbro1w          food\n",
       "2  Z77aLYI_SvAl7PaJ62umJQ          food\n",
       "3  tBdw-FR8aNZcJLa5bX-SdA          food\n",
       "4  z-ftfswcyAAERjoMzKFJ5A          food"
      ]
     },
     "execution_count": 14,
     "metadata": {},
     "output_type": "execute_result"
    }
   ],
   "source": [
    "df_final.head()"
   ]
  },
  {
   "cell_type": "code",
   "execution_count": null,
   "metadata": {
    "colab": {
     "base_uri": "https://localhost:8080/"
    },
    "executionInfo": {
     "elapsed": 388,
     "status": "ok",
     "timestamp": 1662986738110,
     "user": {
      "displayName": "Carlos Cejas",
      "userId": "14504320149228723836"
     },
     "user_tz": -120
    },
    "id": "iV2gbxCGrsto",
    "outputId": "9c04bbd3-b6bb-4cb8-cf03-776e270f900e"
   },
   "outputs": [
    {
     "data": {
      "text/plain": [
       "(8205, 2)"
      ]
     },
     "execution_count": 16,
     "metadata": {},
     "output_type": "execute_result"
    }
   ],
   "source": [
    "df_final.shape"
   ]
  },
  {
   "cell_type": "code",
   "execution_count": null,
   "metadata": {
    "colab": {
     "base_uri": "https://localhost:8080/"
    },
    "executionInfo": {
     "elapsed": 343,
     "status": "ok",
     "timestamp": 1662986741428,
     "user": {
      "displayName": "Carlos Cejas",
      "userId": "14504320149228723836"
     },
     "user_tz": -120
    },
    "id": "z_VCtStirv-I",
    "outputId": "4fd8a3c8-68e8-42fd-d7d7-a6bde937a522"
   },
   "outputs": [
    {
     "name": "stdout",
     "output_type": "stream",
     "text": [
      "<class 'pandas.core.frame.DataFrame'>\n",
      "RangeIndex: 8205 entries, 0 to 8204\n",
      "Data columns (total 2 columns):\n",
      " #   Column         Non-Null Count  Dtype \n",
      "---  ------         --------------  ----- \n",
      " 0   photo_id       8205 non-null   object\n",
      " 1   reclass_label  8205 non-null   object\n",
      "dtypes: object(2)\n",
      "memory usage: 128.3+ KB\n"
     ]
    }
   ],
   "source": [
    "df_final.info()"
   ]
  },
  {
   "cell_type": "code",
   "execution_count": null,
   "metadata": {
    "colab": {
     "base_uri": "https://localhost:8080/",
     "height": 175
    },
    "executionInfo": {
     "elapsed": 391,
     "status": "ok",
     "timestamp": 1662986749786,
     "user": {
      "displayName": "Carlos Cejas",
      "userId": "14504320149228723836"
     },
     "user_tz": -120
    },
    "id": "WDB4Wp4MrzgY",
    "outputId": "d5fdf0ef-345f-4e0c-c8c8-7a92c9035acd"
   },
   "outputs": [
    {
     "data": {
      "text/html": [
       "\n",
       "  <div id=\"df-3f82b24e-95db-403e-826b-7976b7c8fb12\">\n",
       "    <div class=\"colab-df-container\">\n",
       "      <div>\n",
       "<style scoped>\n",
       "    .dataframe tbody tr th:only-of-type {\n",
       "        vertical-align: middle;\n",
       "    }\n",
       "\n",
       "    .dataframe tbody tr th {\n",
       "        vertical-align: top;\n",
       "    }\n",
       "\n",
       "    .dataframe thead th {\n",
       "        text-align: right;\n",
       "    }\n",
       "</style>\n",
       "<table border=\"1\" class=\"dataframe\">\n",
       "  <thead>\n",
       "    <tr style=\"text-align: right;\">\n",
       "      <th></th>\n",
       "      <th>photo_id</th>\n",
       "      <th>reclass_label</th>\n",
       "    </tr>\n",
       "  </thead>\n",
       "  <tbody>\n",
       "    <tr>\n",
       "      <th>count</th>\n",
       "      <td>8205</td>\n",
       "      <td>8205</td>\n",
       "    </tr>\n",
       "    <tr>\n",
       "      <th>unique</th>\n",
       "      <td>8205</td>\n",
       "      <td>5</td>\n",
       "    </tr>\n",
       "    <tr>\n",
       "      <th>top</th>\n",
       "      <td>fB-J1F60DgMRoc8eI0z0Ew</td>\n",
       "      <td>food</td>\n",
       "    </tr>\n",
       "    <tr>\n",
       "      <th>freq</th>\n",
       "      <td>1</td>\n",
       "      <td>4712</td>\n",
       "    </tr>\n",
       "  </tbody>\n",
       "</table>\n",
       "</div>\n",
       "      <button class=\"colab-df-convert\" onclick=\"convertToInteractive('df-3f82b24e-95db-403e-826b-7976b7c8fb12')\"\n",
       "              title=\"Convert this dataframe to an interactive table.\"\n",
       "              style=\"display:none;\">\n",
       "        \n",
       "  <svg xmlns=\"http://www.w3.org/2000/svg\" height=\"24px\"viewBox=\"0 0 24 24\"\n",
       "       width=\"24px\">\n",
       "    <path d=\"M0 0h24v24H0V0z\" fill=\"none\"/>\n",
       "    <path d=\"M18.56 5.44l.94 2.06.94-2.06 2.06-.94-2.06-.94-.94-2.06-.94 2.06-2.06.94zm-11 1L8.5 8.5l.94-2.06 2.06-.94-2.06-.94L8.5 2.5l-.94 2.06-2.06.94zm10 10l.94 2.06.94-2.06 2.06-.94-2.06-.94-.94-2.06-.94 2.06-2.06.94z\"/><path d=\"M17.41 7.96l-1.37-1.37c-.4-.4-.92-.59-1.43-.59-.52 0-1.04.2-1.43.59L10.3 9.45l-7.72 7.72c-.78.78-.78 2.05 0 2.83L4 21.41c.39.39.9.59 1.41.59.51 0 1.02-.2 1.41-.59l7.78-7.78 2.81-2.81c.8-.78.8-2.07 0-2.86zM5.41 20L4 18.59l7.72-7.72 1.47 1.35L5.41 20z\"/>\n",
       "  </svg>\n",
       "      </button>\n",
       "      \n",
       "  <style>\n",
       "    .colab-df-container {\n",
       "      display:flex;\n",
       "      flex-wrap:wrap;\n",
       "      gap: 12px;\n",
       "    }\n",
       "\n",
       "    .colab-df-convert {\n",
       "      background-color: #E8F0FE;\n",
       "      border: none;\n",
       "      border-radius: 50%;\n",
       "      cursor: pointer;\n",
       "      display: none;\n",
       "      fill: #1967D2;\n",
       "      height: 32px;\n",
       "      padding: 0 0 0 0;\n",
       "      width: 32px;\n",
       "    }\n",
       "\n",
       "    .colab-df-convert:hover {\n",
       "      background-color: #E2EBFA;\n",
       "      box-shadow: 0px 1px 2px rgba(60, 64, 67, 0.3), 0px 1px 3px 1px rgba(60, 64, 67, 0.15);\n",
       "      fill: #174EA6;\n",
       "    }\n",
       "\n",
       "    [theme=dark] .colab-df-convert {\n",
       "      background-color: #3B4455;\n",
       "      fill: #D2E3FC;\n",
       "    }\n",
       "\n",
       "    [theme=dark] .colab-df-convert:hover {\n",
       "      background-color: #434B5C;\n",
       "      box-shadow: 0px 1px 3px 1px rgba(0, 0, 0, 0.15);\n",
       "      filter: drop-shadow(0px 1px 2px rgba(0, 0, 0, 0.3));\n",
       "      fill: #FFFFFF;\n",
       "    }\n",
       "  </style>\n",
       "\n",
       "      <script>\n",
       "        const buttonEl =\n",
       "          document.querySelector('#df-3f82b24e-95db-403e-826b-7976b7c8fb12 button.colab-df-convert');\n",
       "        buttonEl.style.display =\n",
       "          google.colab.kernel.accessAllowed ? 'block' : 'none';\n",
       "\n",
       "        async function convertToInteractive(key) {\n",
       "          const element = document.querySelector('#df-3f82b24e-95db-403e-826b-7976b7c8fb12');\n",
       "          const dataTable =\n",
       "            await google.colab.kernel.invokeFunction('convertToInteractive',\n",
       "                                                     [key], {});\n",
       "          if (!dataTable) return;\n",
       "\n",
       "          const docLinkHtml = 'Like what you see? Visit the ' +\n",
       "            '<a target=\"_blank\" href=https://colab.research.google.com/notebooks/data_table.ipynb>data table notebook</a>'\n",
       "            + ' to learn more about interactive tables.';\n",
       "          element.innerHTML = '';\n",
       "          dataTable['output_type'] = 'display_data';\n",
       "          await google.colab.output.renderOutput(dataTable, element);\n",
       "          const docLink = document.createElement('div');\n",
       "          docLink.innerHTML = docLinkHtml;\n",
       "          element.appendChild(docLink);\n",
       "        }\n",
       "      </script>\n",
       "    </div>\n",
       "  </div>\n",
       "  "
      ],
      "text/plain": [
       "                      photo_id reclass_label\n",
       "count                     8205          8205\n",
       "unique                    8205             5\n",
       "top     fB-J1F60DgMRoc8eI0z0Ew          food\n",
       "freq                         1          4712"
      ]
     },
     "execution_count": 18,
     "metadata": {},
     "output_type": "execute_result"
    }
   ],
   "source": [
    "df_final.describe()"
   ]
  },
  {
   "cell_type": "code",
   "execution_count": null,
   "metadata": {
    "colab": {
     "base_uri": "https://localhost:8080/",
     "height": 206
    },
    "executionInfo": {
     "elapsed": 224,
     "status": "ok",
     "timestamp": 1662986774465,
     "user": {
      "displayName": "Carlos Cejas",
      "userId": "14504320149228723836"
     },
     "user_tz": -120
    },
    "id": "u48pXN8avDID",
    "outputId": "7d8a644b-8171-4fc1-d09c-536477779ae9"
   },
   "outputs": [
    {
     "data": {
      "text/html": [
       "\n",
       "  <div id=\"df-d4970976-0be4-465c-b2c5-905874a47a1e\">\n",
       "    <div class=\"colab-df-container\">\n",
       "      <div>\n",
       "<style scoped>\n",
       "    .dataframe tbody tr th:only-of-type {\n",
       "        vertical-align: middle;\n",
       "    }\n",
       "\n",
       "    .dataframe tbody tr th {\n",
       "        vertical-align: top;\n",
       "    }\n",
       "\n",
       "    .dataframe thead th {\n",
       "        text-align: right;\n",
       "    }\n",
       "</style>\n",
       "<table border=\"1\" class=\"dataframe\">\n",
       "  <thead>\n",
       "    <tr style=\"text-align: right;\">\n",
       "      <th></th>\n",
       "      <th>photo_id</th>\n",
       "      <th>original_label</th>\n",
       "      <th>reclass_label</th>\n",
       "      <th>status</th>\n",
       "    </tr>\n",
       "  </thead>\n",
       "  <tbody>\n",
       "    <tr>\n",
       "      <th>0</th>\n",
       "      <td>fB-J1F60DgMRoc8eI0z0Ew</td>\n",
       "      <td>food</td>\n",
       "      <td>food</td>\n",
       "      <td>OK</td>\n",
       "    </tr>\n",
       "    <tr>\n",
       "      <th>1</th>\n",
       "      <td>n2hdfzYgxL0twgfSDbro1w</td>\n",
       "      <td>food</td>\n",
       "      <td>food</td>\n",
       "      <td>OK</td>\n",
       "    </tr>\n",
       "    <tr>\n",
       "      <th>2</th>\n",
       "      <td>Z77aLYI_SvAl7PaJ62umJQ</td>\n",
       "      <td>food</td>\n",
       "      <td>food</td>\n",
       "      <td>OK</td>\n",
       "    </tr>\n",
       "    <tr>\n",
       "      <th>3</th>\n",
       "      <td>tBdw-FR8aNZcJLa5bX-SdA</td>\n",
       "      <td>food</td>\n",
       "      <td>food</td>\n",
       "      <td>OK</td>\n",
       "    </tr>\n",
       "    <tr>\n",
       "      <th>4</th>\n",
       "      <td>z-ftfswcyAAERjoMzKFJ5A</td>\n",
       "      <td>food</td>\n",
       "      <td>food</td>\n",
       "      <td>OK</td>\n",
       "    </tr>\n",
       "  </tbody>\n",
       "</table>\n",
       "</div>\n",
       "      <button class=\"colab-df-convert\" onclick=\"convertToInteractive('df-d4970976-0be4-465c-b2c5-905874a47a1e')\"\n",
       "              title=\"Convert this dataframe to an interactive table.\"\n",
       "              style=\"display:none;\">\n",
       "        \n",
       "  <svg xmlns=\"http://www.w3.org/2000/svg\" height=\"24px\"viewBox=\"0 0 24 24\"\n",
       "       width=\"24px\">\n",
       "    <path d=\"M0 0h24v24H0V0z\" fill=\"none\"/>\n",
       "    <path d=\"M18.56 5.44l.94 2.06.94-2.06 2.06-.94-2.06-.94-.94-2.06-.94 2.06-2.06.94zm-11 1L8.5 8.5l.94-2.06 2.06-.94-2.06-.94L8.5 2.5l-.94 2.06-2.06.94zm10 10l.94 2.06.94-2.06 2.06-.94-2.06-.94-.94-2.06-.94 2.06-2.06.94z\"/><path d=\"M17.41 7.96l-1.37-1.37c-.4-.4-.92-.59-1.43-.59-.52 0-1.04.2-1.43.59L10.3 9.45l-7.72 7.72c-.78.78-.78 2.05 0 2.83L4 21.41c.39.39.9.59 1.41.59.51 0 1.02-.2 1.41-.59l7.78-7.78 2.81-2.81c.8-.78.8-2.07 0-2.86zM5.41 20L4 18.59l7.72-7.72 1.47 1.35L5.41 20z\"/>\n",
       "  </svg>\n",
       "      </button>\n",
       "      \n",
       "  <style>\n",
       "    .colab-df-container {\n",
       "      display:flex;\n",
       "      flex-wrap:wrap;\n",
       "      gap: 12px;\n",
       "    }\n",
       "\n",
       "    .colab-df-convert {\n",
       "      background-color: #E8F0FE;\n",
       "      border: none;\n",
       "      border-radius: 50%;\n",
       "      cursor: pointer;\n",
       "      display: none;\n",
       "      fill: #1967D2;\n",
       "      height: 32px;\n",
       "      padding: 0 0 0 0;\n",
       "      width: 32px;\n",
       "    }\n",
       "\n",
       "    .colab-df-convert:hover {\n",
       "      background-color: #E2EBFA;\n",
       "      box-shadow: 0px 1px 2px rgba(60, 64, 67, 0.3), 0px 1px 3px 1px rgba(60, 64, 67, 0.15);\n",
       "      fill: #174EA6;\n",
       "    }\n",
       "\n",
       "    [theme=dark] .colab-df-convert {\n",
       "      background-color: #3B4455;\n",
       "      fill: #D2E3FC;\n",
       "    }\n",
       "\n",
       "    [theme=dark] .colab-df-convert:hover {\n",
       "      background-color: #434B5C;\n",
       "      box-shadow: 0px 1px 3px 1px rgba(0, 0, 0, 0.15);\n",
       "      filter: drop-shadow(0px 1px 2px rgba(0, 0, 0, 0.3));\n",
       "      fill: #FFFFFF;\n",
       "    }\n",
       "  </style>\n",
       "\n",
       "      <script>\n",
       "        const buttonEl =\n",
       "          document.querySelector('#df-d4970976-0be4-465c-b2c5-905874a47a1e button.colab-df-convert');\n",
       "        buttonEl.style.display =\n",
       "          google.colab.kernel.accessAllowed ? 'block' : 'none';\n",
       "\n",
       "        async function convertToInteractive(key) {\n",
       "          const element = document.querySelector('#df-d4970976-0be4-465c-b2c5-905874a47a1e');\n",
       "          const dataTable =\n",
       "            await google.colab.kernel.invokeFunction('convertToInteractive',\n",
       "                                                     [key], {});\n",
       "          if (!dataTable) return;\n",
       "\n",
       "          const docLinkHtml = 'Like what you see? Visit the ' +\n",
       "            '<a target=\"_blank\" href=https://colab.research.google.com/notebooks/data_table.ipynb>data table notebook</a>'\n",
       "            + ' to learn more about interactive tables.';\n",
       "          element.innerHTML = '';\n",
       "          dataTable['output_type'] = 'display_data';\n",
       "          await google.colab.output.renderOutput(dataTable, element);\n",
       "          const docLink = document.createElement('div');\n",
       "          docLink.innerHTML = docLinkHtml;\n",
       "          element.appendChild(docLink);\n",
       "        }\n",
       "      </script>\n",
       "    </div>\n",
       "  </div>\n",
       "  "
      ],
      "text/plain": [
       "                 photo_id original_label reclass_label status\n",
       "0  fB-J1F60DgMRoc8eI0z0Ew           food          food     OK\n",
       "1  n2hdfzYgxL0twgfSDbro1w           food          food     OK\n",
       "2  Z77aLYI_SvAl7PaJ62umJQ           food          food     OK\n",
       "3  tBdw-FR8aNZcJLa5bX-SdA           food          food     OK\n",
       "4  z-ftfswcyAAERjoMzKFJ5A           food          food     OK"
      ]
     },
     "execution_count": 19,
     "metadata": {},
     "output_type": "execute_result"
    }
   ],
   "source": [
    "df_revisado.head()"
   ]
  },
  {
   "cell_type": "code",
   "execution_count": null,
   "metadata": {
    "colab": {
     "base_uri": "https://localhost:8080/"
    },
    "executionInfo": {
     "elapsed": 265,
     "status": "ok",
     "timestamp": 1662987487217,
     "user": {
      "displayName": "Carlos Cejas",
      "userId": "14504320149228723836"
     },
     "user_tz": -120
    },
    "id": "q4HKNkBGxxF6",
    "outputId": "3e302f10-5259-4cb8-c57d-3a88b9761643"
   },
   "outputs": [
    {
     "name": "stdout",
     "output_type": "stream",
     "text": [
      "<class 'pandas.core.frame.DataFrame'>\n",
      "RangeIndex: 9454 entries, 0 to 9453\n",
      "Data columns (total 4 columns):\n",
      " #   Column          Non-Null Count  Dtype \n",
      "---  ------          --------------  ----- \n",
      " 0   photo_id        9454 non-null   object\n",
      " 1   original_label  9454 non-null   object\n",
      " 2   reclass_label   9454 non-null   object\n",
      " 3   status          9454 non-null   object\n",
      "dtypes: object(4)\n",
      "memory usage: 295.6+ KB\n"
     ]
    }
   ],
   "source": [
    "df_revisado.info()"
   ]
  },
  {
   "cell_type": "code",
   "execution_count": null,
   "metadata": {
    "colab": {
     "base_uri": "https://localhost:8080/"
    },
    "executionInfo": {
     "elapsed": 223,
     "status": "ok",
     "timestamp": 1662987573605,
     "user": {
      "displayName": "Carlos Cejas",
      "userId": "14504320149228723836"
     },
     "user_tz": -120
    },
    "id": "dOif8HF1yHMB",
    "outputId": "eafa9f90-cf83-4945-d560-9a10bc0ca746"
   },
   "outputs": [
    {
     "name": "stdout",
     "output_type": "stream",
     "text": [
      "<class 'pandas.core.frame.DataFrame'>\n",
      "RangeIndex: 8205 entries, 0 to 8204\n",
      "Data columns (total 2 columns):\n",
      " #   Column         Non-Null Count  Dtype \n",
      "---  ------         --------------  ----- \n",
      " 0   photo_id       8205 non-null   object\n",
      " 1   reclass_label  8205 non-null   object\n",
      "dtypes: object(2)\n",
      "memory usage: 128.3+ KB\n"
     ]
    }
   ],
   "source": [
    "df_final.info()"
   ]
  },
  {
   "cell_type": "code",
   "execution_count": null,
   "metadata": {
    "colab": {
     "base_uri": "https://localhost:8080/",
     "height": 309
    },
    "executionInfo": {
     "elapsed": 650,
     "status": "ok",
     "timestamp": 1662988041020,
     "user": {
      "displayName": "Carlos Cejas",
      "userId": "14504320149228723836"
     },
     "user_tz": -120
    },
    "id": "kjoLuaySzt5S",
    "outputId": "78d1688a-5b18-4456-ba13-0a8a4f015d58"
   },
   "outputs": [
    {
     "data": {
      "text/plain": [
       "<matplotlib.axes._subplots.AxesSubplot at 0x7fbd7d4f7650>"
      ]
     },
     "execution_count": 23,
     "metadata": {},
     "output_type": "execute_result"
    },
    {
     "data": {
      "image/png": "[encoded data removed]",
      "text/plain": [
       "<Figure size 432x288 with 1 Axes>"
      ]
     },
     "metadata": {
      "needs_background": "light"
     },
     "output_type": "display_data"
    }
   ],
   "source": [
    "df_final.reclass_label.value_counts().plot(kind='bar')"
   ]
  },
  {
   "cell_type": "code",
   "execution_count": null,
   "metadata": {
    "colab": {
     "base_uri": "https://localhost:8080/",
     "height": 312
    },
    "executionInfo": {
     "elapsed": 605,
     "status": "ok",
     "timestamp": 1662988186429,
     "user": {
      "displayName": "Carlos Cejas",
      "userId": "14504320149228723836"
     },
     "user_tz": -120
    },
    "id": "ev69uPNJ0Zrp",
    "outputId": "f63fbb75-26cf-4171-f79f-2a056478bc6a"
   },
   "outputs": [
    {
     "data": {
      "text/plain": [
       "<matplotlib.axes._subplots.AxesSubplot at 0x7fbd7d4d1290>"
      ]
     },
     "execution_count": 24,
     "metadata": {},
     "output_type": "execute_result"
    },
    {
     "data": {
      "image/png": "[encoded data removed]",
      "text/plain": [
       "<Figure size 432x288 with 1 Axes>"
      ]
     },
     "metadata": {
      "needs_background": "light"
     },
     "output_type": "display_data"
    }
   ],
   "source": [
    "df_revisado.reclass_label.value_counts().plot(kind='bar')"
   ]
  },
  {
   "cell_type": "code",
   "execution_count": null,
   "metadata": {
    "colab": {
     "base_uri": "https://localhost:8080/",
     "height": 265
    },
    "executionInfo": {
     "elapsed": 264,
     "status": "ok",
     "timestamp": 1662989191675,
     "user": {
      "displayName": "Carlos Cejas",
      "userId": "14504320149228723836"
     },
     "user_tz": -120
    },
    "id": "CoOAifwL0qy4",
    "outputId": "3188264b-beaa-406b-d2f2-692247c37ac6"
   },
   "outputs": [
    {
     "data": {
      "text/plain": [
       "<matplotlib.axes._subplots.AxesSubplot at 0x7fbd7d32cfd0>"
      ]
     },
     "execution_count": 33,
     "metadata": {},
     "output_type": "execute_result"
    },
    {
     "data": {
      "image/png": "[encoded data removed]",
      "text/plain": [
       "<Figure size 432x288 with 1 Axes>"
      ]
     },
     "metadata": {},
     "output_type": "display_data"
    }
   ],
   "source": [
    "df_revisado.reclass_label.value_counts().plot(kind='pie')"
   ]
  },
  {
   "cell_type": "code",
   "execution_count": null,
   "metadata": {
    "id": "QqI77J4C4OOE"
   },
   "outputs": [],
   "source": [
    "df_revisado.original_label.value_counts().plot(kind='pie')"
   ]
  },
  {
   "cell_type": "code",
   "execution_count": null,
   "metadata": {
    "colab": {
     "base_uri": "https://localhost:8080/",
     "height": 265
    },
    "executionInfo": {
     "elapsed": 278,
     "status": "ok",
     "timestamp": 1662989118843,
     "user": {
      "displayName": "Carlos Cejas",
      "userId": "14504320149228723836"
     },
     "user_tz": -120
    },
    "id": "4HmWZM3J0yM2",
    "outputId": "9b20d7ab-48d2-4153-e040-6e2b9e32caa0"
   },
   "outputs": [
    {
     "data": {
      "text/plain": [
       "<matplotlib.axes._subplots.AxesSubplot at 0x7fbd7d370490>"
      ]
     },
     "execution_count": 32,
     "metadata": {},
     "output_type": "execute_result"
    },
    {
     "data": {
      "image/png": "[encoded data removed]",
      "text/plain": [
       "<Figure size 432x288 with 1 Axes>"
      ]
     },
     "metadata": {},
     "output_type": "display_data"
    }
   ],
   "source": [
    "df_revisado.original_label.value_counts().plot(kind='pie')"
   ]
  },
  {
   "cell_type": "code",
   "execution_count": null,
   "metadata": {
    "colab": {
     "base_uri": "https://localhost:8080/",
     "height": 265
    },
    "executionInfo": {
     "elapsed": 327,
     "status": "ok",
     "timestamp": 1662989729418,
     "user": {
      "displayName": "Carlos Cejas",
      "userId": "14504320149228723836"
     },
     "user_tz": -120
    },
    "id": "rXo3wHkd39xH",
    "outputId": "a423d850-b159-46f3-aa40-2526766c94f4"
   },
   "outputs": [
    {
     "data": {
      "text/plain": [
       "<matplotlib.axes._subplots.AxesSubplot at 0x7fbd7d2fc550>"
      ]
     },
     "execution_count": 36,
     "metadata": {},
     "output_type": "execute_result"
    },
    {
     "data": {
      "image/png": "[encoded data removed]",
      "text/plain": [
       "<Figure size 432x288 with 1 Axes>"
      ]
     },
     "metadata": {},
     "output_type": "display_data"
    }
   ],
   "source": [
    "df_final.reclass_label.value_counts().plot(kind='pie')"
   ]
  },
  {
   "cell_type": "code",
   "execution_count": null,
   "metadata": {
    "colab": {
     "base_uri": "https://localhost:8080/"
    },
    "executionInfo": {
     "elapsed": 280,
     "status": "ok",
     "timestamp": 1662988386145,
     "user": {
      "displayName": "Carlos Cejas",
      "userId": "14504320149228723836"
     },
     "user_tz": -120
    },
    "id": "CxF2VDgf0-j-",
    "outputId": "98981044-c846-4ad6-ca02-d25ff07632eb"
   },
   "outputs": [
    {
     "data": {
      "text/plain": [
       "food       57.43\n",
       "inside     26.20\n",
       "drink       8.04\n",
       "outside     7.36\n",
       "menu        0.96\n",
       "Name: reclass_label, dtype: float64"
      ]
     },
     "execution_count": 28,
     "metadata": {},
     "output_type": "execute_result"
    }
   ],
   "source": [
    "round((df_final.reclass_label.value_counts() / df_final.shape[0]) * 100, 2)"
   ]
  },
  {
   "cell_type": "code",
   "execution_count": null,
   "metadata": {
    "colab": {
     "base_uri": "https://localhost:8080/"
    },
    "executionInfo": {
     "elapsed": 233,
     "status": "ok",
     "timestamp": 1662988430724,
     "user": {
      "displayName": "Carlos Cejas",
      "userId": "14504320149228723836"
     },
     "user_tz": -120
    },
    "id": "GfAQFn_k1Ty-",
    "outputId": "3dc2be70-39cd-4eee-9c9a-644a7ec51edf"
   },
   "outputs": [
    {
     "data": {
      "text/plain": [
       "food       50.62\n",
       "inside     22.74\n",
       "KO         12.08\n",
       "drink       7.16\n",
       "outside     6.46\n",
       "menu        0.93\n",
       "Name: reclass_label, dtype: float64"
      ]
     },
     "execution_count": 30,
     "metadata": {},
     "output_type": "execute_result"
    }
   ],
   "source": [
    "round((df_revisado.reclass_label.value_counts() / df_revisado.shape[0]) * 100, 2)"
   ]
  },
  {
   "cell_type": "code",
   "execution_count": null,
   "metadata": {
    "colab": {
     "base_uri": "https://localhost:8080/"
    },
    "executionInfo": {
     "elapsed": 522,
     "status": "ok",
     "timestamp": 1662989027126,
     "user": {
      "displayName": "Carlos Cejas",
      "userId": "14504320149228723836"
     },
     "user_tz": -120
    },
    "id": "Maq4Uk8S3jt9",
    "outputId": "db230c10-831f-46e4-e8ef-4e12628c04db"
   },
   "outputs": [
    {
     "data": {
      "text/plain": [
       "food       52.90\n",
       "inside     29.19\n",
       "outside     9.73\n",
       "drink       7.29\n",
       "menu        0.89\n",
       "Name: original_label, dtype: float64"
      ]
     },
     "execution_count": 31,
     "metadata": {},
     "output_type": "execute_result"
    }
   ],
   "source": [
    "round((df_revisado.original_label.value_counts() / df_revisado.shape[0]) * 100, 2)"
   ]
  },
  {
   "cell_type": "code",
   "execution_count": null,
   "metadata": {
    "colab": {
     "base_uri": "https://localhost:8080/"
    },
    "executionInfo": {
     "elapsed": 563,
     "status": "ok",
     "timestamp": 1662991717296,
     "user": {
      "displayName": "Carlos Cejas",
      "userId": "14504320149228723836"
     },
     "user_tz": -120
    },
    "id": "fKG34UacBxFt",
    "outputId": "3af7cd8c-9e33-46b2-ca70-daf4ecf5d844"
   },
   "outputs": [
    {
     "data": {
      "text/plain": [
       "food       5001\n",
       "inside     2760\n",
       "outside     920\n",
       "drink       689\n",
       "menu         84\n",
       "Name: original_label, dtype: int64"
      ]
     },
     "execution_count": 39,
     "metadata": {},
     "output_type": "execute_result"
    }
   ],
   "source": [
    "df_revisado.original_label.value_counts()"
   ]
  },
  {
   "cell_type": "code",
   "execution_count": null,
   "metadata": {
    "colab": {
     "base_uri": "https://localhost:8080/"
    },
    "executionInfo": {
     "elapsed": 332,
     "status": "ok",
     "timestamp": 1662991743488,
     "user": {
      "displayName": "Carlos Cejas",
      "userId": "14504320149228723836"
     },
     "user_tz": -120
    },
    "id": "w2YL0-5OB_MN",
    "outputId": "19338edb-6e15-4450-9963-f2f035bb9741"
   },
   "outputs": [
    {
     "data": {
      "text/plain": [
       "food       4786\n",
       "inside     2150\n",
       "KO         1142\n",
       "drink       677\n",
       "outside     611\n",
       "menu         88\n",
       "Name: reclass_label, dtype: int64"
      ]
     },
     "execution_count": 40,
     "metadata": {},
     "output_type": "execute_result"
    }
   ],
   "source": [
    "df_revisado.reclass_label.value_counts()"
   ]
  },
  {
   "cell_type": "code",
   "execution_count": null,
   "metadata": {
    "colab": {
     "base_uri": "https://localhost:8080/"
    },
    "executionInfo": {
     "elapsed": 294,
     "status": "ok",
     "timestamp": 1662991773275,
     "user": {
      "displayName": "Carlos Cejas",
      "userId": "14504320149228723836"
     },
     "user_tz": -120
    },
    "id": "VF1eQgW6CGkW",
    "outputId": "f9e72c1b-a856-4c84-d0d6-6e4e583d45e1"
   },
   "outputs": [
    {
     "data": {
      "text/plain": [
       "food       4712\n",
       "inside     2150\n",
       "drink       660\n",
       "outside     604\n",
       "menu         79\n",
       "Name: reclass_label, dtype: int64"
      ]
     },
     "execution_count": 41,
     "metadata": {},
     "output_type": "execute_result"
    }
   ],
   "source": [
    "df_final.reclass_label.value_counts()"
   ]
  },
  {
   "cell_type": "markdown",
   "metadata": {
    "id": "9gNKsBPv_37A"
   },
   "source": [
    "## IMAGEN EDA"
   ]
  },
  {
   "cell_type": "code",
   "execution_count": null,
   "metadata": {
    "id": "j4L4IzfPRXU6"
   },
   "outputs": [],
   "source": [
    "df_info = pd.read_pickle (PATH + \"/datasets/df_info_img.pkl\")"
   ]
  },
  {
   "cell_type": "code",
   "execution_count": null,
   "metadata": {
    "colab": {
     "base_uri": "https://localhost:8080/",
     "height": 206
    },
    "executionInfo": {
     "elapsed": 696,
     "status": "ok",
     "timestamp": 1662995815808,
     "user": {
      "displayName": "Carlos Cejas",
      "userId": "14504320149228723836"
     },
     "user_tz": -120
    },
    "id": "L5XS2Cr_Ri9M",
    "outputId": "d0890839-4022-43dc-9189-afeed937e27f"
   },
   "outputs": [
    {
     "data": {
      "text/html": [
       "\n",
       "  <div id=\"df-8a8064f4-8c33-4e34-a154-49a2868601dd\">\n",
       "    <div class=\"colab-df-container\">\n",
       "      <div>\n",
       "<style scoped>\n",
       "    .dataframe tbody tr th:only-of-type {\n",
       "        vertical-align: middle;\n",
       "    }\n",
       "\n",
       "    .dataframe tbody tr th {\n",
       "        vertical-align: top;\n",
       "    }\n",
       "\n",
       "    .dataframe thead th {\n",
       "        text-align: right;\n",
       "    }\n",
       "</style>\n",
       "<table border=\"1\" class=\"dataframe\">\n",
       "  <thead>\n",
       "    <tr style=\"text-align: right;\">\n",
       "      <th></th>\n",
       "      <th>photo_id</th>\n",
       "      <th>x_size</th>\n",
       "      <th>y_size</th>\n",
       "      <th>mode</th>\n",
       "      <th>pixels</th>\n",
       "    </tr>\n",
       "  </thead>\n",
       "  <tbody>\n",
       "    <tr>\n",
       "      <th>0</th>\n",
       "      <td>AYF3oJKZ4aipjd-6tniimQ</td>\n",
       "      <td>600</td>\n",
       "      <td>400</td>\n",
       "      <td>RGB</td>\n",
       "      <td>240000.0</td>\n",
       "    </tr>\n",
       "    <tr>\n",
       "      <th>1</th>\n",
       "      <td>eOhxTaulzuEf02R4H9Cabg</td>\n",
       "      <td>256</td>\n",
       "      <td>256</td>\n",
       "      <td>RGB</td>\n",
       "      <td>65536.0</td>\n",
       "    </tr>\n",
       "    <tr>\n",
       "      <th>2</th>\n",
       "      <td>JJj0_KIxxYHS2ueNjjinAg</td>\n",
       "      <td>300</td>\n",
       "      <td>400</td>\n",
       "      <td>RGB</td>\n",
       "      <td>120000.0</td>\n",
       "    </tr>\n",
       "    <tr>\n",
       "      <th>3</th>\n",
       "      <td>I33wZSlX__oPJCF7BdUs7A</td>\n",
       "      <td>600</td>\n",
       "      <td>399</td>\n",
       "      <td>RGB</td>\n",
       "      <td>239400.0</td>\n",
       "    </tr>\n",
       "    <tr>\n",
       "      <th>4</th>\n",
       "      <td>0cO1N0oLIM0tyyo2ERD-Qg</td>\n",
       "      <td>300</td>\n",
       "      <td>400</td>\n",
       "      <td>RGB</td>\n",
       "      <td>120000.0</td>\n",
       "    </tr>\n",
       "  </tbody>\n",
       "</table>\n",
       "</div>\n",
       "      <button class=\"colab-df-convert\" onclick=\"convertToInteractive('df-8a8064f4-8c33-4e34-a154-49a2868601dd')\"\n",
       "              title=\"Convert this dataframe to an interactive table.\"\n",
       "              style=\"display:none;\">\n",
       "        \n",
       "  <svg xmlns=\"http://www.w3.org/2000/svg\" height=\"24px\"viewBox=\"0 0 24 24\"\n",
       "       width=\"24px\">\n",
       "    <path d=\"M0 0h24v24H0V0z\" fill=\"none\"/>\n",
       "    <path d=\"M18.56 5.44l.94 2.06.94-2.06 2.06-.94-2.06-.94-.94-2.06-.94 2.06-2.06.94zm-11 1L8.5 8.5l.94-2.06 2.06-.94-2.06-.94L8.5 2.5l-.94 2.06-2.06.94zm10 10l.94 2.06.94-2.06 2.06-.94-2.06-.94-.94-2.06-.94 2.06-2.06.94z\"/><path d=\"M17.41 7.96l-1.37-1.37c-.4-.4-.92-.59-1.43-.59-.52 0-1.04.2-1.43.59L10.3 9.45l-7.72 7.72c-.78.78-.78 2.05 0 2.83L4 21.41c.39.39.9.59 1.41.59.51 0 1.02-.2 1.41-.59l7.78-7.78 2.81-2.81c.8-.78.8-2.07 0-2.86zM5.41 20L4 18.59l7.72-7.72 1.47 1.35L5.41 20z\"/>\n",
       "  </svg>\n",
       "      </button>\n",
       "      \n",
       "  <style>\n",
       "    .colab-df-container {\n",
       "      display:flex;\n",
       "      flex-wrap:wrap;\n",
       "      gap: 12px;\n",
       "    }\n",
       "\n",
       "    .colab-df-convert {\n",
       "      background-color: #E8F0FE;\n",
       "      border: none;\n",
       "      border-radius: 50%;\n",
       "      cursor: pointer;\n",
       "      display: none;\n",
       "      fill: #1967D2;\n",
       "      height: 32px;\n",
       "      padding: 0 0 0 0;\n",
       "      width: 32px;\n",
       "    }\n",
       "\n",
       "    .colab-df-convert:hover {\n",
       "      background-color: #E2EBFA;\n",
       "      box-shadow: 0px 1px 2px rgba(60, 64, 67, 0.3), 0px 1px 3px 1px rgba(60, 64, 67, 0.15);\n",
       "      fill: #174EA6;\n",
       "    }\n",
       "\n",
       "    [theme=dark] .colab-df-convert {\n",
       "      background-color: #3B4455;\n",
       "      fill: #D2E3FC;\n",
       "    }\n",
       "\n",
       "    [theme=dark] .colab-df-convert:hover {\n",
       "      background-color: #434B5C;\n",
       "      box-shadow: 0px 1px 3px 1px rgba(0, 0, 0, 0.15);\n",
       "      filter: drop-shadow(0px 1px 2px rgba(0, 0, 0, 0.3));\n",
       "      fill: #FFFFFF;\n",
       "    }\n",
       "  </style>\n",
       "\n",
       "      <script>\n",
       "        const buttonEl =\n",
       "          document.querySelector('#df-8a8064f4-8c33-4e34-a154-49a2868601dd button.colab-df-convert');\n",
       "        buttonEl.style.display =\n",
       "          google.colab.kernel.accessAllowed ? 'block' : 'none';\n",
       "\n",
       "        async function convertToInteractive(key) {\n",
       "          const element = document.querySelector('#df-8a8064f4-8c33-4e34-a154-49a2868601dd');\n",
       "          const dataTable =\n",
       "            await google.colab.kernel.invokeFunction('convertToInteractive',\n",
       "                                                     [key], {});\n",
       "          if (!dataTable) return;\n",
       "\n",
       "          const docLinkHtml = 'Like what you see? Visit the ' +\n",
       "            '<a target=\"_blank\" href=https://colab.research.google.com/notebooks/data_table.ipynb>data table notebook</a>'\n",
       "            + ' to learn more about interactive tables.';\n",
       "          element.innerHTML = '';\n",
       "          dataTable['output_type'] = 'display_data';\n",
       "          await google.colab.output.renderOutput(dataTable, element);\n",
       "          const docLink = document.createElement('div');\n",
       "          docLink.innerHTML = docLinkHtml;\n",
       "          element.appendChild(docLink);\n",
       "        }\n",
       "      </script>\n",
       "    </div>\n",
       "  </div>\n",
       "  "
      ],
      "text/plain": [
       "                 photo_id x_size y_size mode    pixels\n",
       "0  AYF3oJKZ4aipjd-6tniimQ    600    400  RGB  240000.0\n",
       "1  eOhxTaulzuEf02R4H9Cabg    256    256  RGB   65536.0\n",
       "2  JJj0_KIxxYHS2ueNjjinAg    300    400  RGB  120000.0\n",
       "3  I33wZSlX__oPJCF7BdUs7A    600    399  RGB  239400.0\n",
       "4  0cO1N0oLIM0tyyo2ERD-Qg    300    400  RGB  120000.0"
      ]
     },
     "execution_count": 49,
     "metadata": {},
     "output_type": "execute_result"
    }
   ],
   "source": [
    "df_info.head()"
   ]
  },
  {
   "cell_type": "code",
   "execution_count": null,
   "metadata": {
    "id": "lSbP5x7FPZpk"
   },
   "outputs": [],
   "source": [
    "df_final = df_final.merge(df_info,\n",
    "                               how=\"inner\",\n",
    "                               on=\"photo_id\")"
   ]
  },
  {
   "cell_type": "code",
   "execution_count": null,
   "metadata": {
    "colab": {
     "base_uri": "https://localhost:8080/",
     "height": 206
    },
    "executionInfo": {
     "elapsed": 666,
     "status": "ok",
     "timestamp": 1662995874806,
     "user": {
      "displayName": "Carlos Cejas",
      "userId": "14504320149228723836"
     },
     "user_tz": -120
    },
    "id": "l2emIQOeRyDm",
    "outputId": "c670033b-1136-4d9d-c846-2401fd9c938f"
   },
   "outputs": [
    {
     "data": {
      "text/html": [
       "\n",
       "  <div id=\"df-df1e46e9-a781-4023-a2fe-a395f36c5424\">\n",
       "    <div class=\"colab-df-container\">\n",
       "      <div>\n",
       "<style scoped>\n",
       "    .dataframe tbody tr th:only-of-type {\n",
       "        vertical-align: middle;\n",
       "    }\n",
       "\n",
       "    .dataframe tbody tr th {\n",
       "        vertical-align: top;\n",
       "    }\n",
       "\n",
       "    .dataframe thead th {\n",
       "        text-align: right;\n",
       "    }\n",
       "</style>\n",
       "<table border=\"1\" class=\"dataframe\">\n",
       "  <thead>\n",
       "    <tr style=\"text-align: right;\">\n",
       "      <th></th>\n",
       "      <th>photo_id</th>\n",
       "      <th>reclass_label</th>\n",
       "      <th>x_size</th>\n",
       "      <th>y_size</th>\n",
       "      <th>mode</th>\n",
       "      <th>pixels</th>\n",
       "    </tr>\n",
       "  </thead>\n",
       "  <tbody>\n",
       "    <tr>\n",
       "      <th>0</th>\n",
       "      <td>fB-J1F60DgMRoc8eI0z0Ew</td>\n",
       "      <td>food</td>\n",
       "      <td>533</td>\n",
       "      <td>400</td>\n",
       "      <td>RGB</td>\n",
       "      <td>213200.0</td>\n",
       "    </tr>\n",
       "    <tr>\n",
       "      <th>1</th>\n",
       "      <td>n2hdfzYgxL0twgfSDbro1w</td>\n",
       "      <td>food</td>\n",
       "      <td>425</td>\n",
       "      <td>282</td>\n",
       "      <td>RGB</td>\n",
       "      <td>119850.0</td>\n",
       "    </tr>\n",
       "    <tr>\n",
       "      <th>2</th>\n",
       "      <td>Z77aLYI_SvAl7PaJ62umJQ</td>\n",
       "      <td>food</td>\n",
       "      <td>300</td>\n",
       "      <td>400</td>\n",
       "      <td>RGB</td>\n",
       "      <td>120000.0</td>\n",
       "    </tr>\n",
       "    <tr>\n",
       "      <th>3</th>\n",
       "      <td>tBdw-FR8aNZcJLa5bX-SdA</td>\n",
       "      <td>food</td>\n",
       "      <td>300</td>\n",
       "      <td>400</td>\n",
       "      <td>RGB</td>\n",
       "      <td>120000.0</td>\n",
       "    </tr>\n",
       "    <tr>\n",
       "      <th>4</th>\n",
       "      <td>z-ftfswcyAAERjoMzKFJ5A</td>\n",
       "      <td>food</td>\n",
       "      <td>470</td>\n",
       "      <td>295</td>\n",
       "      <td>RGB</td>\n",
       "      <td>138650.0</td>\n",
       "    </tr>\n",
       "  </tbody>\n",
       "</table>\n",
       "</div>\n",
       "      <button class=\"colab-df-convert\" onclick=\"convertToInteractive('df-df1e46e9-a781-4023-a2fe-a395f36c5424')\"\n",
       "              title=\"Convert this dataframe to an interactive table.\"\n",
       "              style=\"display:none;\">\n",
       "        \n",
       "  <svg xmlns=\"http://www.w3.org/2000/svg\" height=\"24px\"viewBox=\"0 0 24 24\"\n",
       "       width=\"24px\">\n",
       "    <path d=\"M0 0h24v24H0V0z\" fill=\"none\"/>\n",
       "    <path d=\"M18.56 5.44l.94 2.06.94-2.06 2.06-.94-2.06-.94-.94-2.06-.94 2.06-2.06.94zm-11 1L8.5 8.5l.94-2.06 2.06-.94-2.06-.94L8.5 2.5l-.94 2.06-2.06.94zm10 10l.94 2.06.94-2.06 2.06-.94-2.06-.94-.94-2.06-.94 2.06-2.06.94z\"/><path d=\"M17.41 7.96l-1.37-1.37c-.4-.4-.92-.59-1.43-.59-.52 0-1.04.2-1.43.59L10.3 9.45l-7.72 7.72c-.78.78-.78 2.05 0 2.83L4 21.41c.39.39.9.59 1.41.59.51 0 1.02-.2 1.41-.59l7.78-7.78 2.81-2.81c.8-.78.8-2.07 0-2.86zM5.41 20L4 18.59l7.72-7.72 1.47 1.35L5.41 20z\"/>\n",
       "  </svg>\n",
       "      </button>\n",
       "      \n",
       "  <style>\n",
       "    .colab-df-container {\n",
       "      display:flex;\n",
       "      flex-wrap:wrap;\n",
       "      gap: 12px;\n",
       "    }\n",
       "\n",
       "    .colab-df-convert {\n",
       "      background-color: #E8F0FE;\n",
       "      border: none;\n",
       "      border-radius: 50%;\n",
       "      cursor: pointer;\n",
       "      display: none;\n",
       "      fill: #1967D2;\n",
       "      height: 32px;\n",
       "      padding: 0 0 0 0;\n",
       "      width: 32px;\n",
       "    }\n",
       "\n",
       "    .colab-df-convert:hover {\n",
       "      background-color: #E2EBFA;\n",
       "      box-shadow: 0px 1px 2px rgba(60, 64, 67, 0.3), 0px 1px 3px 1px rgba(60, 64, 67, 0.15);\n",
       "      fill: #174EA6;\n",
       "    }\n",
       "\n",
       "    [theme=dark] .colab-df-convert {\n",
       "      background-color: #3B4455;\n",
       "      fill: #D2E3FC;\n",
       "    }\n",
       "\n",
       "    [theme=dark] .colab-df-convert:hover {\n",
       "      background-color: #434B5C;\n",
       "      box-shadow: 0px 1px 3px 1px rgba(0, 0, 0, 0.15);\n",
       "      filter: drop-shadow(0px 1px 2px rgba(0, 0, 0, 0.3));\n",
       "      fill: #FFFFFF;\n",
       "    }\n",
       "  </style>\n",
       "\n",
       "      <script>\n",
       "        const buttonEl =\n",
       "          document.querySelector('#df-df1e46e9-a781-4023-a2fe-a395f36c5424 button.colab-df-convert');\n",
       "        buttonEl.style.display =\n",
       "          google.colab.kernel.accessAllowed ? 'block' : 'none';\n",
       "\n",
       "        async function convertToInteractive(key) {\n",
       "          const element = document.querySelector('#df-df1e46e9-a781-4023-a2fe-a395f36c5424');\n",
       "          const dataTable =\n",
       "            await google.colab.kernel.invokeFunction('convertToInteractive',\n",
       "                                                     [key], {});\n",
       "          if (!dataTable) return;\n",
       "\n",
       "          const docLinkHtml = 'Like what you see? Visit the ' +\n",
       "            '<a target=\"_blank\" href=https://colab.research.google.com/notebooks/data_table.ipynb>data table notebook</a>'\n",
       "            + ' to learn more about interactive tables.';\n",
       "          element.innerHTML = '';\n",
       "          dataTable['output_type'] = 'display_data';\n",
       "          await google.colab.output.renderOutput(dataTable, element);\n",
       "          const docLink = document.createElement('div');\n",
       "          docLink.innerHTML = docLinkHtml;\n",
       "          element.appendChild(docLink);\n",
       "        }\n",
       "      </script>\n",
       "    </div>\n",
       "  </div>\n",
       "  "
      ],
      "text/plain": [
       "                 photo_id reclass_label x_size y_size mode    pixels\n",
       "0  fB-J1F60DgMRoc8eI0z0Ew          food    533    400  RGB  213200.0\n",
       "1  n2hdfzYgxL0twgfSDbro1w          food    425    282  RGB  119850.0\n",
       "2  Z77aLYI_SvAl7PaJ62umJQ          food    300    400  RGB  120000.0\n",
       "3  tBdw-FR8aNZcJLa5bX-SdA          food    300    400  RGB  120000.0\n",
       "4  z-ftfswcyAAERjoMzKFJ5A          food    470    295  RGB  138650.0"
      ]
     },
     "execution_count": 51,
     "metadata": {},
     "output_type": "execute_result"
    }
   ],
   "source": [
    "df_final.head()"
   ]
  },
  {
   "cell_type": "code",
   "execution_count": null,
   "metadata": {
    "colab": {
     "base_uri": "https://localhost:8080/",
     "height": 300
    },
    "executionInfo": {
     "elapsed": 336,
     "status": "ok",
     "timestamp": 1662999940856,
     "user": {
      "displayName": "Carlos Cejas",
      "userId": "14504320149228723836"
     },
     "user_tz": -120
    },
    "id": "ItXBgbcqhSpQ",
    "outputId": "2ba33385-d229-4826-f0fc-e60ebfbb5c8f"
   },
   "outputs": [
    {
     "data": {
      "text/html": [
       "\n",
       "  <div id=\"df-440afbb8-b6c9-41d9-9589-89b3677b8b81\">\n",
       "    <div class=\"colab-df-container\">\n",
       "      <div>\n",
       "<style scoped>\n",
       "    .dataframe tbody tr th:only-of-type {\n",
       "        vertical-align: middle;\n",
       "    }\n",
       "\n",
       "    .dataframe tbody tr th {\n",
       "        vertical-align: top;\n",
       "    }\n",
       "\n",
       "    .dataframe thead th {\n",
       "        text-align: right;\n",
       "    }\n",
       "</style>\n",
       "<table border=\"1\" class=\"dataframe\">\n",
       "  <thead>\n",
       "    <tr style=\"text-align: right;\">\n",
       "      <th></th>\n",
       "      <th>pixels</th>\n",
       "    </tr>\n",
       "  </thead>\n",
       "  <tbody>\n",
       "    <tr>\n",
       "      <th>count</th>\n",
       "      <td>8205.000000</td>\n",
       "    </tr>\n",
       "    <tr>\n",
       "      <th>mean</th>\n",
       "      <td>180526.751859</td>\n",
       "    </tr>\n",
       "    <tr>\n",
       "      <th>std</th>\n",
       "      <td>50126.884536</td>\n",
       "    </tr>\n",
       "    <tr>\n",
       "      <th>min</th>\n",
       "      <td>13536.000000</td>\n",
       "    </tr>\n",
       "    <tr>\n",
       "      <th>25%</th>\n",
       "      <td>120000.000000</td>\n",
       "    </tr>\n",
       "    <tr>\n",
       "      <th>50%</th>\n",
       "      <td>202200.000000</td>\n",
       "    </tr>\n",
       "    <tr>\n",
       "      <th>75%</th>\n",
       "      <td>213600.000000</td>\n",
       "    </tr>\n",
       "    <tr>\n",
       "      <th>max</th>\n",
       "      <td>240000.000000</td>\n",
       "    </tr>\n",
       "  </tbody>\n",
       "</table>\n",
       "</div>\n",
       "      <button class=\"colab-df-convert\" onclick=\"convertToInteractive('df-440afbb8-b6c9-41d9-9589-89b3677b8b81')\"\n",
       "              title=\"Convert this dataframe to an interactive table.\"\n",
       "              style=\"display:none;\">\n",
       "        \n",
       "  <svg xmlns=\"http://www.w3.org/2000/svg\" height=\"24px\"viewBox=\"0 0 24 24\"\n",
       "       width=\"24px\">\n",
       "    <path d=\"M0 0h24v24H0V0z\" fill=\"none\"/>\n",
       "    <path d=\"M18.56 5.44l.94 2.06.94-2.06 2.06-.94-2.06-.94-.94-2.06-.94 2.06-2.06.94zm-11 1L8.5 8.5l.94-2.06 2.06-.94-2.06-.94L8.5 2.5l-.94 2.06-2.06.94zm10 10l.94 2.06.94-2.06 2.06-.94-2.06-.94-.94-2.06-.94 2.06-2.06.94z\"/><path d=\"M17.41 7.96l-1.37-1.37c-.4-.4-.92-.59-1.43-.59-.52 0-1.04.2-1.43.59L10.3 9.45l-7.72 7.72c-.78.78-.78 2.05 0 2.83L4 21.41c.39.39.9.59 1.41.59.51 0 1.02-.2 1.41-.59l7.78-7.78 2.81-2.81c.8-.78.8-2.07 0-2.86zM5.41 20L4 18.59l7.72-7.72 1.47 1.35L5.41 20z\"/>\n",
       "  </svg>\n",
       "      </button>\n",
       "      \n",
       "  <style>\n",
       "    .colab-df-container {\n",
       "      display:flex;\n",
       "      flex-wrap:wrap;\n",
       "      gap: 12px;\n",
       "    }\n",
       "\n",
       "    .colab-df-convert {\n",
       "      background-color: #E8F0FE;\n",
       "      border: none;\n",
       "      border-radius: 50%;\n",
       "      cursor: pointer;\n",
       "      display: none;\n",
       "      fill: #1967D2;\n",
       "      height: 32px;\n",
       "      padding: 0 0 0 0;\n",
       "      width: 32px;\n",
       "    }\n",
       "\n",
       "    .colab-df-convert:hover {\n",
       "      background-color: #E2EBFA;\n",
       "      box-shadow: 0px 1px 2px rgba(60, 64, 67, 0.3), 0px 1px 3px 1px rgba(60, 64, 67, 0.15);\n",
       "      fill: #174EA6;\n",
       "    }\n",
       "\n",
       "    [theme=dark] .colab-df-convert {\n",
       "      background-color: #3B4455;\n",
       "      fill: #D2E3FC;\n",
       "    }\n",
       "\n",
       "    [theme=dark] .colab-df-convert:hover {\n",
       "      background-color: #434B5C;\n",
       "      box-shadow: 0px 1px 3px 1px rgba(0, 0, 0, 0.15);\n",
       "      filter: drop-shadow(0px 1px 2px rgba(0, 0, 0, 0.3));\n",
       "      fill: #FFFFFF;\n",
       "    }\n",
       "  </style>\n",
       "\n",
       "      <script>\n",
       "        const buttonEl =\n",
       "          document.querySelector('#df-440afbb8-b6c9-41d9-9589-89b3677b8b81 button.colab-df-convert');\n",
       "        buttonEl.style.display =\n",
       "          google.colab.kernel.accessAllowed ? 'block' : 'none';\n",
       "\n",
       "        async function convertToInteractive(key) {\n",
       "          const element = document.querySelector('#df-440afbb8-b6c9-41d9-9589-89b3677b8b81');\n",
       "          const dataTable =\n",
       "            await google.colab.kernel.invokeFunction('convertToInteractive',\n",
       "                                                     [key], {});\n",
       "          if (!dataTable) return;\n",
       "\n",
       "          const docLinkHtml = 'Like what you see? Visit the ' +\n",
       "            '<a target=\"_blank\" href=https://colab.research.google.com/notebooks/data_table.ipynb>data table notebook</a>'\n",
       "            + ' to learn more about interactive tables.';\n",
       "          element.innerHTML = '';\n",
       "          dataTable['output_type'] = 'display_data';\n",
       "          await google.colab.output.renderOutput(dataTable, element);\n",
       "          const docLink = document.createElement('div');\n",
       "          docLink.innerHTML = docLinkHtml;\n",
       "          element.appendChild(docLink);\n",
       "        }\n",
       "      </script>\n",
       "    </div>\n",
       "  </div>\n",
       "  "
      ],
      "text/plain": [
       "              pixels\n",
       "count    8205.000000\n",
       "mean   180526.751859\n",
       "std     50126.884536\n",
       "min     13536.000000\n",
       "25%    120000.000000\n",
       "50%    202200.000000\n",
       "75%    213600.000000\n",
       "max    240000.000000"
      ]
     },
     "execution_count": 81,
     "metadata": {},
     "output_type": "execute_result"
    }
   ],
   "source": [
    "df_final.describe()"
   ]
  },
  {
   "cell_type": "code",
   "execution_count": null,
   "metadata": {
    "colab": {
     "base_uri": "https://localhost:8080/"
    },
    "executionInfo": {
     "elapsed": 227,
     "status": "ok",
     "timestamp": 1662995965824,
     "user": {
      "displayName": "Carlos Cejas",
      "userId": "14504320149228723836"
     },
     "user_tz": -120
    },
    "id": "GD0pLCVQSFxx",
    "outputId": "cb4b0915-c258-4ba3-a394-6650ac72e933"
   },
   "outputs": [
    {
     "name": "stdout",
     "output_type": "stream",
     "text": [
      "<class 'pandas.core.frame.DataFrame'>\n",
      "Int64Index: 8205 entries, 0 to 8204\n",
      "Data columns (total 6 columns):\n",
      " #   Column         Non-Null Count  Dtype  \n",
      "---  ------         --------------  -----  \n",
      " 0   photo_id       8205 non-null   object \n",
      " 1   reclass_label  8205 non-null   object \n",
      " 2   x_size         8205 non-null   object \n",
      " 3   y_size         8205 non-null   object \n",
      " 4   mode           8205 non-null   object \n",
      " 5   pixels         8205 non-null   float64\n",
      "dtypes: float64(1), object(5)\n",
      "memory usage: 448.7+ KB\n"
     ]
    }
   ],
   "source": [
    "df_final.info()"
   ]
  },
  {
   "cell_type": "code",
   "execution_count": null,
   "metadata": {
    "colab": {
     "base_uri": "https://localhost:8080/"
    },
    "executionInfo": {
     "elapsed": 245,
     "status": "ok",
     "timestamp": 1662996193441,
     "user": {
      "displayName": "Carlos Cejas",
      "userId": "14504320149228723836"
     },
     "user_tz": -120
    },
    "id": "-jQiGOYCTAs7",
    "outputId": "b5ad6745-81ce-43cc-cdb8-7e32f01c187e"
   },
   "outputs": [
    {
     "name": "stdout",
     "output_type": "stream",
     "text": [
      "<class 'pandas.core.frame.DataFrame'>\n",
      "RangeIndex: 199992 entries, 0 to 199991\n",
      "Data columns (total 5 columns):\n",
      " #   Column    Non-Null Count   Dtype \n",
      "---  ------    --------------   ----- \n",
      " 0   photo_id  199992 non-null  object\n",
      " 1   x_size    199992 non-null  int64 \n",
      " 2   y_size    199992 non-null  int64 \n",
      " 3   mode      199992 non-null  object\n",
      " 4   pixels    199992 non-null  int64 \n",
      "dtypes: int64(3), object(2)\n",
      "memory usage: 7.6+ MB\n"
     ]
    }
   ],
   "source": [
    "df_info = df_info.astype({'x_size':'int', 'y_size': 'int', 'pixels': 'int'})\n",
    "df_info.info()"
   ]
  },
  {
   "cell_type": "code",
   "execution_count": null,
   "metadata": {
    "colab": {
     "base_uri": "https://localhost:8080/",
     "height": 282
    },
    "executionInfo": {
     "elapsed": 357,
     "status": "ok",
     "timestamp": 1662996476441,
     "user": {
      "displayName": "Carlos Cejas",
      "userId": "14504320149228723836"
     },
     "user_tz": -120
    },
    "id": "3nDxh-UXTQio",
    "outputId": "b9c0a128-27cf-4bfe-d2a4-a321908fef4c"
   },
   "outputs": [
    {
     "data": {
      "text/plain": [
       "<matplotlib.axes._subplots.AxesSubplot at 0x7fbd7c55cb50>"
      ]
     },
     "execution_count": 54,
     "metadata": {},
     "output_type": "execute_result"
    },
    {
     "data": {
      "image/png": "[encoded data removed]",
      "text/plain": [
       "<Figure size 432x288 with 1 Axes>"
      ]
     },
     "metadata": {
      "needs_background": "light"
     },
     "output_type": "display_data"
    }
   ],
   "source": [
    "df_final.pixels.plot(kind='hist')"
   ]
  },
  {
   "cell_type": "code",
   "execution_count": null,
   "metadata": {
    "colab": {
     "base_uri": "https://localhost:8080/"
    },
    "executionInfo": {
     "elapsed": 243,
     "status": "ok",
     "timestamp": 1662996547708,
     "user": {
      "displayName": "Carlos Cejas",
      "userId": "14504320149228723836"
     },
     "user_tz": -120
    },
    "id": "BVjwV-yFUNiY",
    "outputId": "611f76ef-0c6a-441b-81a1-782672bffe11"
   },
   "outputs": [
    {
     "data": {
      "text/plain": [
       "(600, 400)"
      ]
     },
     "execution_count": 56,
     "metadata": {},
     "output_type": "execute_result"
    }
   ],
   "source": [
    "df_final.x_size.max(), df_final.y_size.max() "
   ]
  },
  {
   "cell_type": "code",
   "execution_count": null,
   "metadata": {
    "colab": {
     "base_uri": "https://localhost:8080/"
    },
    "executionInfo": {
     "elapsed": 576,
     "status": "ok",
     "timestamp": 1662996791896,
     "user": {
      "displayName": "Carlos Cejas",
      "userId": "14504320149228723836"
     },
     "user_tz": -120
    },
    "id": "P3hc2QO7VIA3",
    "outputId": "f20cf102-cc21-4463-ed1b-4c9bdd717e00"
   },
   "outputs": [
    {
     "name": "stdout",
     "output_type": "stream",
     "text": [
      "['fB-J1F60DgMRoc8eI0z0Ew', 'n2hdfzYgxL0twgfSDbro1w', 'Z77aLYI_SvAl7PaJ62umJQ', 'tBdw-FR8aNZcJLa5bX-SdA', 'z-ftfswcyAAERjoMzKFJ5A', 'YGlog6DHj-euhTuLxsoIcw', 'YoyuwwgGkQkDgrRfV3EDOA', 'Pb1bW49aZ8xp85TmXP-jqQ', '02-vIdIn6dFjtMEasEV0qQ', 'ORemw5FJEiVOr0x9LlRBqw', 'VPy-kQC46v1f0U25fhg3lQ', 'KDA-QCbVeD9MGhox3zd2GA', 'v5ibiEyFSUDu37lmc2rG2w', '8n-Mm7zRXx7Qjq29d14Aiw', 'kQfVaOcNvO0MsYdffS9aCQ', 'tIcSSvblugK4Ajeew8GgRQ', 'FV7i18U97M71gF7wZFJxbw', '-PalNDmCnBNO3lo-kAm-1w', '_f6LRy21W07KL4urx2xxMw', 'bPe--D76jAiBcjBvcHoxMA', '-DwULbTje0JK7GC6wbXn_Q', 'RCy9as4FSHFwq98pViBMKQ', '71m7eB9NBtG3_vJ-3YrCeQ', 'PelSOijELLLHADVzOBH-ag', 'k8pQhHoLdpjk3X0WUblbfQ', '-kkimVdK_J2fxSHEalAs2w', 'uRyWHMOqCzimW7dFR636Rg', 'ngR2AOvLHw_G9PBJePuoYQ', '2EQNB-rt9et9ZKu6AgXBVA', '-VECfmIB9g5UrxmzZiyXvg', 'VXKozIbB2b6gdF6UU9v0iQ', 'WKa9q3_sBIJeq_xoqAGjIw', 'XlkdKYDep92B4SH3DdPJQQ', 'wVqgTotmq2oVgX39CHGoLA', 'WpIjpjVh0pyvodz8ziSrQQ', 'M5ybnvvOcNtLdC8I64ZRsw', 'X2qxpWuhENqR-QgOQIpMPQ', 'VqX3u7446rqhpEjjCXX97w', 'hJ1VrBsQeOe2aEt9LuxN1A', '6uD5FqlwMmidMZeMPxUBPQ', 'Sd01wKizKUbEBebZQdskuQ', 'juSR8oD0lhvPtIMP-V4Q6w', 'iO_UhJVZ-UYTxO-l6v1GlQ', 'dCsvHWVk5h-OWVlTW6MBlg', 'AMLThhHzXs-xvzHzny7_6A', 'ZKO5gKiXcUYgx0dPo9JADQ', 'bA1dMhITfRKWmpiPfaBQYw', 'dWuw3O-IkYs4qV4VKoD46Q', 'h3xVuOCa5wx6xRD4WMLKZQ', 'ZWg-4tG-Tv4F2qrEYu1rrA', 'okYcdVlJvNSPwPcENLGvDg', 'xsHf7-WBkiGIyVS5xn1C-A', '0k6gzoh30ue-Xb8dKUHwJg', '6ErRcJnTHLa3wKTLmeDt0Q', 'QkiczcefVuMlgBYThHOXcw', 'zNNkxnLDflnRNknPMB2YZA', 'ds7PTynPpaT72NK4m6lK0A', 'JlJY-euAV6lhf6BNyeXg4Q', 't5aEATPJzFSl-630vJ3jKw', 'EaBiw7_mgEUltdFFkviFjg', '-reBWpQuxw9dcIJy6V-T2Q', 'fqfl7QzBdcc6HULE0fvoRw', 'e6k3tuh-mcXDDUy1Qsa4mA', '6fq2-4fbn0q6vk7hV_PFXA', 'L7DbVxBHp6GbODtDu3vlIw', '-f9Typer-jUPSf0emrHzOg', 'Vn0IfuL4BvfiMHFFecK2xQ', 'xaZlt8rJanu8DcY9hNrP9g', '2BauxEa26mRjhtHchwaQYw', 'fnpM_QvtxiKID8twzCPfaQ', 'xKvYoDMdEfrEHMsHssPLGA', 'in5kDueFI28UOe4wOT7_7Q', '3x9Y0KDOvZGYaqckPi3IJQ', 'fjYvuXeZCPoUxJC4Ga2hOg', 'jmVeIjWHb2nW6SQPYnEVLg', 'szRUzGOTb24GJR7X7R-iEA', 'npuYsryOyZkAawGqY3Vz-w', 'OZTjESWAk0mu_OCOI7zuHg', 'eGAaQ6EaudCzIP1JSDpHEg', 'BOOEtmVybB_RcfEU34LTiQ', 'ddScKkqlX85egRrJyZgNrg', 'W13JULEiPzgUr9YDhazu_g', 'Rhxjv7RcvyKnGDDqkS-w0A', 'moEcRsXKarnuDJHb0-2giw', '0zxqnmPvmBfG-7EM_8cnKw', 'OsZJJITSW2jcOg2I_d1BVg', 'AHdERIEZTfKzqOBdd3cwqg', 'XV-uNyX4c_5SGvgIIizyBw', 'BykDOCDVYgTjbWWWf2JLAg', 'HSXxBUDVJimldprApXPQ_g', 'EmmNQrzC5QM1UqE8WbtNUw', 'rmfvsHKUjNKvQjp0F2Bb8A', 'OWjdNdYBwkCmOgZmzmPq9Q', 'dGG0X_AQwX4Z8d_ruhA3ng', 'R-sA3Vr27Y9GgOJLetIK-Q', 'CWGKflh0WUmTXdpxh_Qgow', 'sGFStTPl7XiEWkXKWmqdrw', '8QNIE7Vw0G-SmdauZ8Yo_Q', 'tYr4HnP8hoRWtdfWDsKhRQ', 'eLiods1vhdwCyjTebtC4GA', 'SLv7oqjb--lvbsZD_R2p5Q', 'y9aUGjlJ5_nxWad26bFJJA', 'ON2YwFYA9qZWBMOdwtg4GA', 'o_kM3cepWVhVJ70RZcESCw', 'vwbWXnUNJnIdQItIRPKaZQ', 'm_WMxp4Z9H8NZ4Cxc5tO0A', '9IV_4dMVMLCfPDVk4zmXyA', '0wqJxI0-5ZYTGJWgAzdGVw', 'av7_34ZgoBj5O6BgJIsJtQ', 't0xENyNKW5gpt1-t-1s18Q', 'RK2meU8ubOTYGL6zlUxRLw', 'jgOdtTre7ie7aSFEs4tluA', '5m36xtGlawLBI5zzXAkoYA', 'HxaedyyEDA-Vpu7DWmuX2Q', 'uauKKOdqeTNs0YuPAOHbXg', 'zBc3z5Co45x-7NwPyCU9gw', 'nLxYhwngJ_VhIoKcmrYK3Q', '4SGHzIDFqneNz28xY2QDIg', 'To7-J14Zq2teaXwMKQmAaA', 'nlI9UOP8VzJP3mlVfvAnvg', 'rRXbk7vNw5gPuUKYE421mw', 'Y87K6bZdKyeMPJkZ8QfjZg', 'TO_hVmVbAe4slURj4tI0tg', '0PBazu-1FyYOUjNV7E2ZEg', 'Ttg3lDNjLLfvkWzK2GuwCA', 'nIZLvcZW7oaqxXTlS-4sBw', 'xuyW90lrif2o8-jDWbgRRQ', 'qKQbUuALrgW2PQ5ZPGpSjA', '5G3VHIAIYCmFPht4Wcf3xg', 'Qpkgtvl1zMwhPpFYo_Qagw', 'SKTKbBUBHC7Snmk8-ARnCw', 'dIx2oZNFwrmIo66vi1LTSg', 'NdJLA3wFe-7BjJ9fks25Yw', 'ayoJS4T3FPnB49gKGXrgxA', 'TPFOUPEblKeHIy32zl25dA', 'eYTrOQNVlMiuDgUMoumFMA', 'CFIagT2qtscl_HOcH7f0ug', 'pqgnHdDWeiYGBDvFepq8eg', '1Rv4s3oFCZC3qI7czNjWmA', 'O-pYG7a3Dwbfm9yIH7QOoA', 'DbcaMNl_0NyvJ4GvE5GjfQ', 'uJ1mi5OUSmk2sik-AzQejA', 'eGL3El616UV9fjGc2bsjEw', '7I6jNM2kk5sq5LxOzRHUhg', 'l0FU8fOL7jRDCv6Vk033Ng', 'mWkWpuF7X06x5n2mErzMvw', 'Wz1bws5oYvVMsmMV0E3Lcw', 'O3H9Wfm4KOzcPnaksLPnMw', 'NvxenkFWUYrx9GmEUZfiTQ', 'Snv69TnBW9DeFi_AFZBjMA', 'PnJRR8OIy67SFHJgZEJaUw', 'Xf912j-RY3VImM9B3NXW0A', 'xL_Id66JkOd8KbdCSwcN5w', '56xko65soAjEk-SroVBg-w', 'XPWmR6rt98Q2DHJMmo1tvA', '4Sg1y2fQWbVKy-o_b7QgEg', 'UAtPjqE-Fbv2hzibO7Az8w', 'tMalQ_J-Am00tWWDi4WlwQ', 'EIDne482dEYNtqYhKG00Ew', 'jeEOsHEtYQ3t0bbpsLs9oQ', 'QWhjKEg0-5eCZANIlWcUgA', '6T5Ar4vg0Jv672zA7VmQIA', '1bB7eLIUvFISGRnIaNrPHQ', 'VVnLwfDqyKL1vCFsEERSgg', 'k5XXTDV_5twHxVSpZYqpEA', 'RVnE7JPCf-au-K4VEFczvA', 'KTDZmQ68oMFuFW2SHqOIng', 'ezG8BtG1IjHWPTs0zGLCbg', '3ZiC4KIdpbasT_56H6FwCg', '4XKkQU21w62Z-Vy1TVm3Ug', 'eXKv1ge-KHeKBhPncL8_cA', 'Sarmo_rvlLFZhqfOgYi58g', 'HnznSNhoq_Vz9JK4jdDV1g', 'ZWQ4171eNSFTnrEQe_A76w', 'aC8FpZK3hqu1fC7J1GcUzQ', '_CEp-Sv3YG-4WGdTB8oHlQ', 'UgHKQYIJHEcWojgDCVJZew', '0npIzrZ1N96tYJNC6sPKAA', 'CFKCCTkfcg_AEJxLsJwbLQ', 'H0y6I91t5jkv7GSYbo_eXQ', 'UezfX0AhdWrEG6LmyK9x-A', 'b0DFEDAtEhjYJaKujUQ_5g', '_CDhRGOy9_rVlaKTXplDVw', '4q4Zst1NPGKFuaszvu7WyA', 'FpkA3YpoJAJW2UPdHovpnA', 'QMhK5VLnpaszbKoOYW2uxQ', 'sMvguAvA-PiXJ-wMYLu_gQ', '5RwAmMhiK1zUhsUq25Fblg', 'cUGkz0LWQGzJ1qDBMpumlw', 'f9dfVowXMFInIMGq3DAwTA', '4N2jJUajtMS6q4Lgi29x_w', 'b0EZ1ixIAErAxs7X4M0y1w', 'xvb5eP1VZoWZHS7yro9wBg', 'yJaZTbFXEVsSPdTzI1MSNw', 'NmTJ5Z72O5hwHlo9vQK_6g', 'BYJPcaKKIYMSqCmqv9ZsDg', 'HlosHjp_WobPtaHSdkhBaA', 'UWuQfA5s8KWAugv9ikpuCg', 'Sx-2XKRDHsDeBp0qEI8ldA', 'QzH617Tx5WMm0pr8sLT9XA', 'N0x00czb4WClVlKzTwQldQ', 'FXFPqI3bp47KXFFRg1TwQw', 'PBfI_P3JB4EflNydcv1MrA', 'zsbaPrpQNqqEK5b-nZE9-A', 'T_FXIRHKYE1_0h2cYW_b4Q', 'ZMENfFo1BAf5stHlCv098w', '-qkgY2BgU3pgsZYd55jCpg', 'tbb-bn__yl_Pof59Gg2fKg', 'OaNaibX5O14X7SYGV-caLA', 'vMuFuVdfErCcbAdOXt67dg', 'ebEfCsLExSbkXt43xP9sXQ', 'Iri3_lDMFu6CGoaKI1wc2g', 'rqnr_jJkiN79c87ZNma_zA', 'sN-a2Q5Y6RF-qKIA5tNgnA', 'kV5l1iOpLQJn2mkowqvgdw', 'WVkGB6JhFK6CMew5hktChQ', 'ViRK5IM5AEknyf7nQfs0Mw', 'qvyPCdVGhxqt9rNKfJFNCg', 'LBNiwyPeOtQ-tmljO1pM8w', 'qjvBgrCeJfyUyvipWG7BIQ', 'hbHQHUPTpg_4oSHrOAZV3Q', 'qb17VX63XGpIsL0mIc4uTg', '-QiVg6NTfN21sXdQ_F_2og', 'UPxA6GPbLo1cjrZkYByV7g', 'og38neB-1xmFFEUyqRe4Kg', 'r5_Tg_w08xRQWspzqUAOWg', 'QzKQjnazwjxn0Rro_G0KGA', 'OX9pUgAMYqm30ZMW-U27Rg', 'nyHVHMTWBpwUZL5j58z_yQ', 'wl0sBCGmcMUal8raYGTdRQ', 'bV4rErC0MFzTPIwPA-Whng', 'g2luY-l8pA_yZ48poJFr1w', 'mkY1dTS6QV2NYKErOOiIqQ', 'cwuzp7DOhL6uh70FN0iJAA', '-EQTPPVuQxWMjRHutOMrAg', 'qIfoZ7C-uCxDdfBvQBzejQ', 'bNHqJunKcpn8ISCB-1flUQ', 'xRBa0to4wOuRmZQ0ExPgZw', 'NxlSP5POMRPCv_LVmqdksw', 'FblmA503vGhKMfbvmusIjg', 'ZBWZ_6y5fl0E90SRrK9WOw', 'VwaNMfL0oMfHWJ-WsyeDPA', 'MgTU8Th9U07DZnodTGWW7Q', '3_H5BEXtjXufjhnNO8CHig', 'kIPD4cjK9KZXUb0QUwufDQ', 'leYgaHj4n_Z6AFtOJLmVZg', 'Obsy1tVqNGk2Q-RRfbnJLw', '-UwN4CfYvHgespC9HqnIfg', 'MAFCY_riQZPwqyAWImN2uA', 'v3PjV32T4ExBS7AODKFllQ', 'd9YWEKf2z_XE2G39M4y9jw', 'eZtTww3OeBAC2XtE8yYGCA', '4vayrKHU7wlyXrBPjcxBTg', 'VvB47P8EaMRzmnqmyhDY1w', 'tQJ-Hm8d402fCjLmGGSr1Q', 'q_05uHxhlE4uF1RzbgZ5Qw', 'dqb66oBTRaa7goYP77gyig', 'PdncdowfyZVmyJuPWkEd3A', '9Q36ylJvbi-ckSsnjZZNfA', 'L_H1sZf3_fMqMPdDNYWFlA', 'I3_XOAk6HUVM_iqJVeDtAw', 'tfdib2wlpCD_DGnaxRAVnw', 'r2XtVb8koRexPEu8oc-9vQ', 'TrqRypJyHrlfbENBs-P5_w', 'XfaVAS_LHlvheGxPUrg5Bg', 'DZMqMNXXPlGvxbAhMr8qsA', 'WNQCGi9M_IxH81Tyk14t7A', 'rvWkpD6L0OCoS9bCyqQfZA', 'aCm428BN-sWXV4R8O79Bww', 'FBz2I7fsUiLV-VPTnDIBxQ', 'qhfWU14zPs19KLCpatUdYQ', '0mruTPqb0PopevM7v4pTmA', '58TtCAPGc5dOJQGi9N2Omg', 'l34FmXzFbYPFO8PMDauBtw', '30iD7z_GN5XPDW7-ttDV3w', 'drFtxjc30Run7tP0zhT-hw', 'pqhM1PZqrzByUxD6w7hxgQ', 'BI-W8Wv728q4TmYwGpg7SA', 'gHkKDyOLmy1yhRlzL8dXUw', 'Y3qitEPXt9F52jpUTV9R9w', 'oVeeyohFK1GVkLbYtfF1sg', '7bE1eg9esY0G3ZNwbmRTrQ', 'aaRq-QWm_sNt7JrVwlsHFg', '9H1OQYQ5WSrN2u4yStsnOg', '3xOW5PSwRSM2yDp7pAZcYA', 'vp1nAKlPOsiP-B1S58efrQ', 'xfoNj0HzkW_ENDhRDKtz2g', '3NFitg4XuIH7ZbfwjyeUrA', 'a2aNeHA-a3FKnOxRpPNA9g', 'TK1dC1e8QqVWi4kkiLkj-A', 'zU3AwLy80pgIDxhXwu8VFA', 'rhKA3TBTUDwp4WBLZJ4-RA', 'jGPZAJBn839Yboeu2TPJBA', '9BNa3SqcizwRnIpKOEQfBw', 'Ut1hwpm2DkBYJoTfWytChg', 'E4JuHMzxvj0LMr3Bmh17Kw', '1aqYUCprrqvaLPcTYq9x6w', '6J5GpxW8ySU1Fbi4jjhBJQ', 'xycRi0aCK3Acf8ihSeiJtg', '3HVJasUvP6xMamGnoE-r-A', '6NYniae-NGmsb4Me94M6bw', 'Q1UlZTKc0MEEbAgB4cKBPA', '1-9GkP2WVTmueX98m83Jsw', 'Z1e5Lbn9mAPHpe_nbGLM_A', 'rpwXCF4jL4hK62Mewh9-Ug', 'ySo_bLRnoKtGlLZ56nUr9A', 'NukJMBn54hSY6884Gv3gUA', 'KLFiNi5_DnPQY07CzdPxcg', 'bcapULgJjOddKbDsQZ4LZg', 'hWLnJNRosoLQTMOrN0yViA', 'LWvJOgUJmjCGnkrOCgEImQ', 'Jy89Pjsd9Eq0BVKNZtUZZg', 'oYhVDbmjQVWCEDbg0vlR1Q', 'elXjVNmzmiIKVjZ8PInnXw', 'AmTN5-rMA-yeSCYiUSCRLw', 'idiVowKujJbh_4Ius9btSQ', '9x2d_N-EIXK8aKo97n6kKA', 'ZQiDJVW6hYu3015rsGHesg', 'LpE2ll0_08q1w3FJAO0ntQ', '74eXhB6gE_e6kIKOJAubQw', '7cVnNSjn7UHlcsdBgAfjSA', 'N0uEsCJz8AeiMisb3q5VJg', 'i5B3CGZbylvpKBcb6AYefQ', 'D0h9nqH2T1PFjdyESa_cFQ', 'UVvWwcy0lZX9OJ6dryA2VQ', 'aH7z2Cy6vy8yT0GPZRLmJg', '88JMCwpT8pdMDcqoHV33mw', 'OMa1lUv5Dtiooy9HZoI3AQ', 'FBDrM8qZ0IN_EPpuqliH3A', '1i4nK-40Up5m6HHii83MRg', 'VJaKn8PgfPS47LZ4vHpiKA', 'LH8VD5GhUkzUMsuVca2S-w', 'BezWNAlVoc2FjT1fQYIJaA', '00IwNKer5iEw6hgwlitcmQ', 'NdcF7i8Xm2d-FIYcKT3uug', '0bJOHnB6kOwAA8dhFK5J_g', 'sejEkpspvWAIfnIae6w_Zw', 'bX-KW7QF0yinBkfEPIkwmg', 'JPFmq4_cXQLbgPUcV5RdxQ', 'NmnlP0j5CpG3SwXw62kI9Q', 'X6EcQOAPzA7n4hGumT870A', 'V8L7TmYApW4Qt_tUqfn2jg', 'al_Cdp-Psg97JtuZxowE8g', 'AcsuSfsxbMQ75TtM1APdAw', 'FvvAGHmtvB32sLNFBuFuWg', 'VKUrCXiE9pOBiaUnyPuSeQ', 'fhHnLJLfubnAlx0yL--JwA', 'Y01tG_EMVCeqwUPrSdEQrA', 'XQhv6xymLpa1jLNnMiTkcw', 'nUcJNd6G3SHZ3A2yCcGoJA', '86N99T-_kRZvTMbHudNO6g', '7XCHKOMLd45tmCjqscghbg', '76kTZMO6Cpvmm-WWXWvp_A', 'KmSNap0RUp31Pgo1zWlXMQ', 'c_F4_Dql5gj4mobJ5FDpVg', 'YV4jqq9B28cecrklGb5Dyw', 'NDtkl6AY2P7vWqv82wEYog', '6AXc_pVgGGH41NDf7RuAgA', 'bQV8OOcq4Bm-WtOGiA4nYA', 'jA4ID-5--BVbhzfPSDQLrA', 'BSpOzZAOu_4q12hOiujG1Q', 'Q5HXCqbW87cDwL0XtnXJ8Q', 'WnwzuZyc7xxRUpjJFL6E3g', '16gQKQKWUb-HaIIuqo9sdw', 'd-5BaUxztV9rH9spFxVFPg', 'WR9Pel6nCQaeoRFZFzjwBw', '3HQNPlakdPdOY5Kbo68_VQ', 'NScfWPe7CPhVSeBIqAjxfg', 'eh3v-xyu3AxpEq4_L9tRFQ', 'fbkfU-hc7ZJXXce5Wmc5ZA', '5uKZ07mqKPzUDfFff7sXXg', 'iDMUOtGumL0Ree71TfZpNA', 'xXclQ2JPVQEQyZjAf1Di2Q', 'Y6_TLblDL1VMgemyFEA-sg', 'lyjlZP3lJ675P2vXKLpEfg', '0HPNP9psF_LfA6sFOPxYBg', 'aPGE-uZ6eEl6uKnIVLkLZw', 'Gqu1SV-IlCSFY37rTW2xyw', 'DRB_ibjlue5jnf0LqYAQDg', 'ZHvVrwmpg9w71RVA4qktRA', 'KvNhWk2RaXM3d1WSPbfrAg', 'nRj1BNrbT3uGVQ-kVIKABw', 'DzjjbO4XlAodBL46BO2_sA', '06dVD8hQrsFR3heUr1vUJw', '4gNwb9ZC4QAutLny5vfc5Q', 'PBWiHCTWLb34NTO6rOgtfQ', 'J6ErPkgSOk1erYd9StNoyA', 'nmv_ADjGaG5mQlfQkgrSKw', 'ICTAEmLTtlsswBMM8wKPRw', 'BlsFf81Kn7wwfeW20LEYng', '_m1kZxcvPSDHZ-zd5pfL-A', '69kwFDY-cUKUW68_R3VkPQ', '3pp_EcoM3GR2vkHHFqBN8w', 'oDZ7uVpYldv7A69wy9cceQ', 'gmyg_vxjKv0OR2oUjJJ3Vg', 'HNVuOR4ApPsh52CnWghqyQ', 'T0sA31VKD3Gglk0gcRYigg', '14brvVlW5331WBuh3T3Dsw', '8NElRZyZeuISc74IIHuOrQ', 'HeDa6Ng7rEmXaBeLzZzQeA', 'Kbs8bF7HGfaTFLbrkSOiRw', '9JbYQ64tu6DOCUGRwq5ImA', '18QFn1dGhZQyLulgv_Vf0g', 'DLNnog5BlQNqIa0_8BtiEw', 'x9KP3N8AyrvC7m7gvl2cRw', 'emPuIFqMyyQD-LrRf0d75A', 'MS1sUy5v8GFbX7SPT99v2Q', 'j68aiEEZEJuOTr_egW8nVA', 'F97VCsyDkjJmjBsqQm1vzQ', 'D4vriBP7c7IpK_JtsTq2lA', 'OoYNtCnAeeLQFAofSVnx3w', 'QgSCxWycKXZlqpd9_Ye7OA', 'KkIkkL7vQ5WVF6AhY0V6fQ', 'jQjnindg3uKEEHnx0-Wh9Q', 'ZhiOXbcvwqJQMHzkAzabFA', 'y5p2bH0_9UVEuTtSYkKPyg', 'y5y-CcPV8EAUIfhdP-I43g', 'kJHio7iXzI1desF_Ynr17Q', 'AyWqnDLIhzQocGyg1QORSA', 'IAwT3pRxqv9259mOPrknXg', 'tAYLoyQSo9NVu91FTcK8Tg', 'twA_Jb1nVaRPvF7sZ-9K1A', 'u55oXTdLS8Ny6tIUckG2pw', 'OSa4kLxJcT05AuEde3nhRg', 'e2wlflsoeWl5LMjJlGZ1Tg', 'bl5dE5ImGXCRFoj7Z155_w', 'dc1WJXrPirVlk6H8wzlXgw', 'I9e4sg58crHkW1ly3F8Dng', 'iXm2_qx5_DwfuwKwlehENQ', '5eETDT7uxCCyYxw8HVoFHA', '_HVzAzWx5kDmJlxl5UpTEw', 'EkL8hnM2bixvDM11Uta2Ng', 'BhnrKYLxB-Cs9PlK-IBang', '6zZPBj-GvzS_2vELpj8Vlg', 'O4EmidF2DZKjAvCoRSan3w', 'gyb4bxB8mU9gUdN3TaUsSA', 'dLO9WY9s7_hg25qBeeXodg', '_zgyNQkQMNCFhKi84kjjeQ', 'xXwv6w2kCOyYja7jqhPf4A', 'L9tVJ05rMCBzzZbeShJ-Pg', 'nWakQNeaO-O33YqLkzCxKQ', 'YCVtwseGlGFqPWmG2ziGsQ', 'K8dAFqKZLVuPauOE0fopkA', 'r9xg5cuYiQwd58FnekJ-Fg', 'VF0Z4dxhlPE1OikfXronTg', 'xGJsNOrlSQh4x9UqnKhE5Q', 'Y40r7vetTT4Hj4wRDAqU_A', 'd4xxOlfPPXJCloRl-THwKw', 'Lqma9aohiTSd2fpHOdtdSA', 'R0pC1fXUkD1Xic7Faxl4wg', 'D0KKcBhp303dePinzVXYCA', '6V1kdOVUkP2KIfxHXrXykQ', 'PvaJPTPFXnuC0XxKoPQOhA', '0Pef3BtpCwqSzN358PNf2A', 'Q1HmaahT-YHNmNbe10L5Eg', 'kDRw2Xd8Qse5SxDcSXLNFA', '0sk56i4WdMRAGpUMHVbg9Q', 'x69Z_NYhxtHAX8cEnjdRVw', 'zaqW2EAC1Gwj6H-7uJDUMA', 'cS0XHftBk1_hBoYyG1aROA', 'Ak2AKGbXIe1uJvWsvYVPUw', 'jkaZjDLlZw6O6IOUwN9PyQ', 'jXK3H8xvKZlNjb9l1bfNZA', '9UpdG4imaG5BPXqqNdILrA', 'rrUEOymYMlt3xETY9-KyWQ', 'LyDX7v6xI6jPCDIeKAtjHA', 'ehCmH4CgpjHTJzGxDVN58g', '8nQFyeJUHx4oaKfeucjO2A', 'PVFBKlrAKgeMHvtjkMRQqg', 'FEq13NHembVJgi0ZNNh0zA', 'D-EDLl9-WnhUFZkkM3uPcw', 'rq_umVVW8i0EZdCxwP4MJA', 'jY8HFv2IbMvomO5ihhENcw', 'US9Ut7owGXnuD4KLLbuRag', 'YtOpIBOo7-lzyWrMGe4QzA', 'IW9A-ZjVOwuOhxt1fnMT-g', 'XpkdrvAOPW-EZ19swpQXFQ', 'EX15x2CD5VAeSDZ8k-4TvA', '7amZn1qsWJ8wVuxAbZckZg', 'xIfw-wplN8uNIopQXBdDnQ', 'TTfcZd6wiDguiOw68z8vfw', 'VtiBm3b32nfQr3_Prwzqgg', 'DoQN1PBsZfjauLSCIidnVQ', 'o4ShISq7T1ICfeaRsxVRyg', 'NoplHrPLA7hvXzJpYV-Aiw', 'zMrHxPnh3Nl5wBnENHM2VQ', 'N8i3K8uRiHjeUrLCkA7Ixw', 'Z9AGpzh1BrMKk1BaQMnDAw', '9boMh5JSeJDTzS-X801sQQ', 'kU7eDS4z53wR1gzI8jkOkg', '3Zr3plNB35L69ILtaz7s9A', '_hTsDVmBqGjLObmWcP0P9w', '5SS5pW_aUDUxoO_UO9s45g', '8OAa9KNAtnv1PxpY3skv6g', 'Jlzgmrr5oAbWBsNinwuLGA', 'PMsYJhDkKTXmzMtTXxrM1g', 'kukXtNi725xJC8vC5cXbtA', 'CaQnLLL8XpWwYYyxQdiGzQ', 'F5X8ftrdGDDZA3ReKCuAYw', 'q84FzTxeVFZPwvEQoxA3zA', 'wdd3IaO4-vIWHQLu1ksG4Q', '1A0tPwrT0Wz0gk2YfEArew', 'b1UCNeumuxZAr3nR3IOgNA', 'tKVFtt4FuTpUR7Tm1-gxKg', 'An6pW6ouPC4C1xOGJinb2Q', 'QlSO01oXl4M_-eAs5-1t1g', 'LE1ALRC7yrE5iZsj1IDJKQ', 'u4hLVUbvTolJt185lAc5Zw', 'Mka1aYv6ywtMztS2CHI-5w', '1pvLqCg4UXBPgDJ5GIS0Ng', 'ZkQBzuhimfQC2WaDvvhpMQ', 'qtRYpTVOf7Ww6CxUux51OQ', 'mybnxRHji4S0TEgDEDVs6g', 'fK-hOf-SKrHVddufVcjXHw', 'trbLnVVeLglur-k6yf4vPg', 'TJZ3uM-K1IEreefdjE5UyA', '7PjdjX8xYH0l-LTbeTWQFw', 'O3_OKPuxSYUuiDDK0Nwbmg', 'DpnuPeJwvqe3sCCAraSmmA', 'Wg9-HMKfffoG0-iTKJb-FQ', 'uLcXDhXhMEpFpeKcXYyiOQ', 'EwhEdCdZpuPRgOhYaZZuBQ', 'DPl_SGVABU_CHcA0guI-tw', 'o9_OgpkwmevJ4_IeB2SuhQ', 'pfEGbD01R-jyiLGWvR9B3A', '4zmRByp7rdzAg3EekrNZ2w', 'EF0F31jofOpZQq-FIe8iyA', '1EdP7OJvuETo3P-5fu8zEA', '3z_EpoYbDUsWtp4cOtB9zg', 'UCAdNyCFgT_TJkmepXQugQ', '3D7x8hk6Zte0mvV7t0snKg', '-a6M9O6dtvYOkvUPb2aB-Q', 'Np3sUgrXm1mPYSuuGldOPA', 'ssd6sL2vKEHoZbY06dIkLw', 'iuXIZZlbQchXQxTpr2bD3A', '0G8Fcb1xXz_p60hTargmpQ', '3UkWGJk9LRT3TqqxzPIyrQ', 'zUPeNnT5HyHg_KY2Dy4BIw', 'n2m6qZr2lxUpuBBsq7JAVw', 'r6-ONR5ERjjuN80sPeoptQ', 'fjq7a6o5_HxIzgZCctg6MA', 'eVWiU5FDtoIz06diJOubLA', 'elBz1E_tkwy9SB1SQ3dxAA', 'CmqTPctr5w64LEPZBxiHAw', 'UV-KaJBQq7LD5aOOsy8LUQ', 'JrpmuSbvJ9ZarXVsaKaFIA', '9a0ASmOZ4JPqkmUfHODHpQ', '4AGq-1MAxvZMj1Q1pYIdIw', '83jq81UTt8a9jkv6FwfLsA', 'PhWARVNsDH6wbYdfQPcMfw', 'F9OmbSClqbIzwpJr7GZhNQ', 'vI4kSaVnL2zZECiOZ4KNFw', '0Dl-rWmtjzM8bAElwFC3Gg', 'lmnCvwknZqOUL0K6aUUCNw', 'Cbm9SPNLkrVFTYZeS_eQaQ', 'GsPvxqN0D2-MhtuswqO7zw', 'bAS98jdwPXEaMbqrPVls0g', 'QlACQwSCF4w78r3UNakIDw', 'X0dhfDEKFH3E4PMI5dT_oQ', 'gC4JvSeBECM6DbP5V17Vig', '09CTYDBN0BPf4UjhctWghg', 'h2K4pGToQxW3YpKkY3ayag', '5bxSrZ4xle7nctYkm1x19g', 'Ms34YJO6jkpwceR8mFutrw', 'b6DJeDoBAdbdXK9hVwI6tw', 'SblKEknTTDtJ9ca_vrcwxw', 'HUAuk_ltLRwwtXiPw-EnAw', 'pu4-xKia79PNrmz5WsYFLg', 'iwndOLESzY-DhUOO7zs9ZA', 'NE6dZCjs0vylFgShWeXyEA', 'VTyaMr9bytjmlY53BlJ4sw', '2T9APxfd79f78cVO7hEt-g', 'C_q1qESwvedUWZ9OdZk_mg', 'pW8f4G5qHrMH2aebjaeC_A', 'gfRLlWy7q0xQnEUiqCB5RQ', 'vLKnODSx_rn7lQ2tWTCpzw', 'JVSAdAO9EgPliexpm9c3mQ', 'qGPZeWsucu1f77nZ1cK6ag', 'K_vRmofzBl-HaxihFQpWcA', 'ZlG6B-W4V2bXr8Qxe7I6wQ', 'B6lOehDeoGsxgKctvFrCZw', 'vsIge895Il-QGwKQfhn09A', 'R--B6lqpnjyhxbyVaZ53ww', 'blkg1egfhrS8ipRB_rTMFQ', '5Oky3jGTORC9nM8FXVp8cw', 'meR-f4md9p50saxqaelWpQ', 'MEzLpdqMfsaloLbKGA-vFw', 'OH2QhsG8nPkJp6YnluSaxA', '-ZpkLkxWyuthHOLlVpJf-w', '9a4xr1WSLpjXOrQlgKhrzA', 'St4qcdpXJRR4YGZCCj3CGg', 'aTnCpBUqM6acx71VppJ_Xg', '72XrLG02ufR9eQCQr4ipag', 'mlyMdLBzYF_XbSAlW7dc3g', '3zGmrlmC33uh1JQOMwbHkA', 'pcPr7Lh8AUd-AL2a4IfzGw', 'jq7nL0HGrSxmiaBWQCWjhQ', 'Ccbl0Pph8xXMiG9f33AZKg', 'liz6CM762RKBX-7N9swJtg', 'x5LW2bnCU-H9LneYwzM6bw', 'ParmbTReuX3bS2NJmRFMuA', '00FHtwGl5wm3Zz_uDwBWKg', 'eYwlhJPS-Z8jtZhwh9IfuQ', 'KkoZJ4clAitnFN4yTTtWXw', 'Xha_tZRJiaOki0dTP-hJfg', '5IvT1pXSFFMQXisAkzEZOA', 'J3NF_czTrvEAWaYjUrWoxA', 'blcHlE3lebF1Vbmtfdnd5g', 'Y_5hAqAErtdbwr2zuc3z6Q', 'mgfMshk97O6C-awKxB8oyA', 'v9kBz9AP2HAruxIhQ4h2mw', 'R_5O0h6Nozw-bnse2KEQ3Q', 'eS9lTBLv3aphRO3jfSkNiA', 'jJjgDBq3HU2zdwWqARc-gg', 'NiJN6wgicuTUQ9Id11f6ow', 'lD1g8N74AmIBULi1EBb1xA', 'wyxvWuVbG-WRGs7qV-Jcxw', 'SLecrTtnvzl3lWHyttNN1A', 'kOYUW49oQ38CNTQheecwow', 'x-dPmrZVw93KBoMbOGN3LA', 'AZ9wl1FtY4t24tG7HAMiXw', '3V8us6bM2TmBIvi_xtMsOQ', '0-tgg_PDsC62Gpe_Rz3pOQ', 'R4w5j8NZRxY2QeK6RCxzww', 'L8jf3wdaoGJ6z9ScYG74GA', 'wGY-rNSwRXO_mHDrIkTSTg', '9y9yDGVs1Tw4XQNL1hEOEg', 'AzvnlftFm4DtZ06GdE9bHg', 'ZYhvsJ9pGCvEXQ_N7espzg', '2uVX4E9hY7wQ20F6BhK7_Q', 'Tockktp2my0Ed0nr57pbVA', 'E3_0sVf0LvB5at26izY4PA', 'DMazn2HOuHXywIuSThJtbg', 'O966Wg4zuVnpkDVAX0tYAA', 'NruqPzixxyLILSlTKls6gg', 'V4jOhcKS3V6X-45_DsGabw', '3Vwk8i-CItIMUHo7Eh7OBw', 'yoBks95ZsIte0tQFdvEooQ', 'arQXyskcz80UNekHUIm6vw', 'lOIMPZGTZFp2bnc96nR1aA', 'YlTJoNY-5rEUnHmV4F_LQA', '8K1dWqP3c7KbUGfnyN0TRg', 'V9h8DxwGrWZ0kVG_nBNPkA', 'jOCJYHw-9doRz51vXgsSNg', 'LrG1DVoTXAFo2gq-YmqJqw', 'IYcil1BluLdDEcBTssEjFw', 'K1yOdbrWAnqKWNK3WkD17Q', 'bPPQlwFvx1ozVp6rQJLg_Q', 'OLCes1cKt8Aa8oVYc634Sg', '4nztENbDiR68vkQrVTu9gg', 'Bvjp4ZinQBuvghaHoFzQGA', 'Lpjovk5nlAwnizPgCO5P_w', 'iqJA3sMeEVzGzni6f0jH7A', 'pvSBrf_3Faq8Xw0YrQNuwA', 'yT7k34ymkfWHzcrn8PWb1g', 'BDRrm9WCdPCR-hKfZFk8Iw', 'ZlacWqzvfKaCo8ZuM3RNoQ', 'tBCIgjnw4nRBoQqZmIY7Qg', 'UQk6odiV4eUJJxVi6o_mPA', 'TT39BLg3umTJAFlqHqG35g', 'ipwxXmjjay6Xv0GMHLLPeg', 'NWInwfMGuFnfSjc4wLGWvA', 'CTEs8YdeOrrA-BB88SSDzw', 'Ba820GHL8e62SdemNN3qHA', '_rTosmWSa7BOqPnT_2gxaQ', '5Wn8ECSFnbEZAqhPGZFX4Q', 'K-Yf6VVFarwivJ0CCKEFzQ', '6Qe63qfpL4S5O09NUl31LA', '12HVxbPgOT6X3MCp7yDo9w', 'Byhef2--ZA2PU9r1kqRCtg', '_sarm2NBRtWljYEwLVlkLA', 'waJfVSjqShPL9Rx4bNdyCg', '8IXZUm9kk4bpvDXQJxnQlA', 'Saz4o0tkX5nQgIS0LhhuIQ', 'iDprd7QOrzoFvzDysn2tcQ', 'ahmgbQbplXwbPaCk9dpNCw', 'RMmtTPgevOI-kiABgLpt8Q', 'GY6mVs_qiZLyxpikoAr5RA', 'pyc5Snsq_rBiFbdgn2qbpA', 'AqGI3Al4eFbWn-j5eUQmKw', 'M7kFk6YGYW8EBKHj-x0e0w', '1yYxDEsr6bKEdxo6aq35zA', 'G9ZvyvPmgB_giXM1g0IvIw', '-LqzrLSWyLWrFXa8QaXfUw', '3qLJBIVMXNlOLcIOdNxrLA', 'Uy1czbR2P2gcQ1dIvLauzw', '6spucSxxIgOjxEcYaeEpTQ', 's7kBrTMNvfpySihdYI-maQ', 'E_mfp2qv6jklYPG_KxTb-w', '9_BslP8QhfNw0DMFkJCTpQ', '4bdlIovwTLtqxWbWy2ebCA', 'y9ouG7YhWsrPeCUsMBwgng', 'Tgmq-rlrw_os_wmqU9UQTA', '3ZtMuD2FC6mgo45gADLvWQ', '0PDd9Q1naJ5eRelE_VN-iA', 'n8wuFaZRAjDhC1PBwFslFA', 'HUBK8iIQ4ZTVX2wxn5TLZw', 'KIDRGLGq1bYKUcNArDWAXQ', 'Hn1xOs14-ZIJgXr5QnqLGQ', 'Bib5t1fFnfue8vmszP93TA', 'D15eJU5xyNBS-GnogHV_fA', 'x-iCH9MttS_Lmu7JlkWRFQ', 'z4FlRasTIejS9ucGPgu4cQ', 'fqDVAQadMSLI9I3wI3V3Tw', 'zNABV85V-SpMGbBBbEK3LQ', '1GHN4E-uRSDlLJH0_WUGfA', 'lpVGbwQD1eUl5S0m6tZ3sQ', 'qFlQWCKHdkbd_bFHxeC77g', 'K3zc4KuCUvQ84kYWAm7ZDA', '3tRdinbWsIurMb2IG8upPg', 'urW9o8FESlMTKHHIU7s-OQ', 'dRaehEe4r7D_jCylppJQQg', 'jZ4IL2Bc97p3z6LIiBAIoQ', 'hPlGRFJFWpe50f-NcSSf4A', 'ocmW2d6oXycOkJwoG2cX8g', 'cnDF3wX0lzCA2jxzUWfd8w', 'vm9UP1ER0v_1Ikmj4wSWNw', 'j_x2C24PgL94PaRCyJBgkw', 'JOf-OTthnnVX76vbTOhz_g', 'jyBTj0zVpALMaYLMGlr0YA', 'eHGkN3ysA87AZ12SjoJ4Dg', 'IFCLs4lJ6DLC0-JNZaHKBQ', 'swm2-m_i4iUY27p_7DqpeA', 's0QeJop7_uoOrVnlb5jOag', 'ecICg-dxYiWyBMHxA2rXoQ', 'Z7Nl7UQbYdAsuGiwF6tC4w', '0xxuTMvSl58I9eIp9SesFw', 'yDbDrqP8oh9wAQdpqRMPCg', 'dfcjlOHVL8fipjmEu1gnMQ', 'XAvLwnKqxMbZPV4MH-XDZg', 'CF1_utR8KCrEpoJLu-GkTA', 'NX_VKASsU59RXiPOUio0Lw', '5V3sgbQbOo0PcNWlnJzyCA', 'i-07Go-Eop5La5jK1AwceA', 'r5Kf1PhVTd6xXdkFiVTNGg', '8sp2uwLn7oePal-pNY_N3A', '-mX-tOBwocZ__wRtqurUIg', 'CJASQ4qezVxqqo9u-MeFCg', 'Ti97-dEQr7tRvzC5w1mi3g', '7OC6SPjfkkxWB5vuLW2ZlA', 'PHMCJLGkVGpr70vnfodWqw', '3EEYWU6IvHWVjrcJGZKsdg', 'pY1ax8g_N63ZLp_nDEP50Q', '7dY1_RiyHbZf3H3_Jar0Iw', 'RQH0BejffnQCS5CfGsG_8w', 'fO8tmyx9oMgiGJgJ3ciyfA', 'bM1G6ZEnuc_KPUNgiVPU3Q', 'Ve86QIdteEhLu-zgMKNp-A', '3fwMeu_Q5OZ_c-0cqSvzrA', 'enP96Dtr6Ahx9Bsbq_vhFg', 'drF5KQyVikojIuRwv69R-g', 'kYtTJdHyX-A7G-VW1R0XzQ', 'eivISEc828Q8tgyILnaNEg', '025FUZpXEwwkj9WbMbgYOQ', 'iWUeU54QrnBTJcaDGJi7zg', 'E-pL9M8OSJWij2QGApBgDA', '8ZK4tMapPArg3zZeybvaAA', 's1febwy4AVpv6_V2DrCkUA', 'JnCK8iDlgopRwbXeSRCIug', '7ZR1zKDUBK2Y-vaTLFXHCw', 'ZNNHcqY2B5AgUB945k3CRQ', 'Q8wYefHlXobHEa1u-8Popw', '-SF3dcZb6VBxX2yysKsTRw', 'LfvCqNecQEYN11eRu-V-PQ', 'WftX3nRqFRJ6GMoZ6jjg-A', 'k_0uNYJTY2IRqXgm2eJ8vw', 'vnR0SlHsi3Lo9U4m5S8dkA', 'ktogpKsJNxP5Syq7dhrmXA', 'UukY99ctDZ1pwkZQp-Y6ig', 'mHZ_1NQzthTiz3pi3NXgew', 'hUS73SEVW7_ag5p4bnNkog', 'xZ83ZfS_MNAVPzrNUopBRQ', 'HMcJ7lW9xas1bKLHaM-Csw', 'HYS3moEC0cA8WvHnj7_dyQ', 'PeOkGDeaqrAH0jO4RjyRtw', 'k5Akp8fyNkb8N0rZ4sQ70A', 'stVQw0h5yrrxae2NVca1SA', 'H14vy5XvR3P2CJ4IqywqMA', 'JxdCbS_wjTsyS6zO8b_C5g', 'vni9KcfvZvJTcLTPJbA-fA', 'MiinKO500EbZ-s5rplcLug', 'cTfCovKw4ULGylO8Z7HtrA', 'dCaYNZuUQ6G2J6Z2G84BnA', 'nSgfXNtkgHDiwf18PFqdgQ', 'b3ihYhfXvmMExrYOEFUzSg', 'H6j-pYk8M2s3vRlgsdWmzg', 'EZcTEA8Z26XWQRKPtmmCkw', 'TRoGFfbcu0SVuTCMVMk8QA', 'DYPhyt8EsIzo0_zgw8pjSQ', 'BxRFyuE2rsTkmHj2wa0TDg', 'RNfjcnr5G0V3tUmPaWnnyw', 'sAalak1nc8_ofCwunjLgyg', 'IMLHFRrR_G7txQk0FJGonA', '4rfiskF0s2v0YKfmodx7dA', 'ZL4FQ824ykR51Am1HAkrkw', 'vOn3uP2i9q0nGm3rm5mgQA', 'iIvedCrsZKSZylyUF0ovUA', 'xSWVlSu7TVvWs9wcZxA6QA', 'tCfLQljsDM2-XUxmQKJLAQ', 'V8SKwX-ChXzlCzQ6qX_I6A', 'dPbTVp_mBGSePQmlGdnh1Q', 'oLyA57dQ32Yokn7gP0z_eQ', 'tPsAj1UwW14Cp-rIwj_tkQ', 'bgxzcmbqW60AGHwC3dGnPg', 'SPiCgX4vf1_6ejBJQT8uIA', 'FRAv-E7noAp3WpbbNoFltg', 'g2UrkbDt-gm3tfVLRcggQA', 'eYoVl2osivqAe0GNZXdCvA', '63DIH8RUBuyyt10rG80LYw', 'Q-i9e8O9EXhJthWZvOXAwA', 'EZ1DH2iR42iPdhrfvnT7Rw', 'oSRw7IdncWOzc6DOro8dPA', 'sONLDB2piZeaJbScJF0q2w', 'uKHc57WW1m4fj-2fJu22qA', '7BtdPY6NEI5RmZ2hIqmw9Q', 'fm4IuIQh5LetSyRE8giasw', 'aeC0YdJzmQOit0c5q0ym_A', 'jaj_g-pkyVgvOS-Q-ffAeQ', '3ptB4UkjPEvP9Dn0_mKi6A', 'W_mDER6v2vpxzW9Uiiczgw', '54PuNZRD5psJCDUz3O-O4g', 'UCVrKzBtifjt3K65o2bKAw', 'bGLtoilU2IQxLAMOky4uig', '4fpBBedrSRDKKJTb1kR8mA', 'cGHmWozavX9XQB00ZYx59g', 'SeopfRH_Izqug3ByxsUarw', 'bVQhyjhRqnaE863r8y6kSQ', 'hTGps7zgmwf9JH3O7pgEsA', 'sBuEclrZxR4uzS_88bFBAA', 'JpH3J_i9hR08e4imnXoY4A', 'y52SclZxYwoCRMh_c2S48w', 'h_MkVw_VNos7WC-GLg0h5A', 'gi30BaT4ej1eCmdOVa-SFA', 'MhyvQdTygS7ugT_mrbtSug', 'MMBELkaJHzbeyzLk3Sq7eA', 'xdMzLG9uOF_iKsJd0VwzAA', 'NIvWgAuJJsChJlTYIQK_yw', 'Owedp2TQYuxKN7WHi-On3Q', 'TZYkKL-BQDiPfph1TBUCSA', 'p5-MXsoG6Ffh59ism9z6nA', 'qQY92wf6x6W4Z1DqcUKbOw', 'vv-cIlLQDx-qM25j-KFhhQ', 'pMMrsaI2bAxr4J4IcbMzLg', '-79vbghTI4zviHi1aG9H6A', 'roDVymnJyYKAjDLTTASPFQ', '1eBoOfL2khlIfDIfawimDQ', 'Dm08XIjd5KXlFqTgGfR6qg', 'cOpkWtOlY7na581MQR092A', 'r_MWXt40Jur6xgP2mhcV_Q', 'OMxrFlkpYt41eR4KAVaoHQ', 'SYfKt298HnWW_bn_tFl5cw', 'PUK3TbJw7bjbL6PRpp7Z1A', 'PJLPVcZrwUufIKcff8ijhQ', 'LrEaQMew_JQUGUVR_FPN3Q', '5EvHQKw78jFySV_w3Dnpyg', 'ClF4lMC1YE0wRb2hEYSDRg', 'Yv8gbBMMN_o_siNjTssWDg', 'ybF-rvImPD8fp1_u6V5cpA', 'QY4JakSZy1JqncAbQSeRBg', 'hLfzGyAw6qMBqE7FTFXWCA', 'KeMF571c6_ABKoVV17HJlA', '0lVdra83jERXOrPlxZlmSQ', 'i5iWuScFY5HvdSs9eWX50w', 'vHmgIfiCNFBG4Z81-ODtEw', 'QYNGO0Nyi_qPRonJBpXc2A', 'Vms3XM7YaKyJT5pAU9rTWw', 'tsFCxiLCuxrLFnIN9mdhHg', 'VvZxrbRNp9BjzzsFlTeeJg', 'Y7BgLQEGLToVALSI8NQ0KA', 'IU2PhFyS_NgLQfSpuJK9Ow', '80dqqaLE2Hgq20Bb5BwavA', 'S5PyYk3JHrH2i_aVIgUghA', '1onuNBJkDKANHKVSaHpMjw', '8Y-EETY0cCxw8WZSS5wkwg', 'qdScaBi7sQs3A2huni5mAA', 'Vpr1Tu0Vh8pFzf5tD4AQFg', 'Ny7zbTnG-XxwZntIRBJLww', 'EbCnkgISbX9Rpg0X5XmidQ', 'MGTNtRUnZ8_eplrDr4l2Ug', 'lzIjTj7qzscY9jZQARFx0w', 'Bu9AsSeUWaJHv3MGHeMVZw', 'oe00Z7yfnd0rqJHVmDw9Rw', 'lQ_iK-hn0QrbxGGwjy1B9Q', 'i7Rj81TJUs2kG0RntSwWNA', '4iLrS3ZObzge32UW5rjo_w', '1BCuVpYk6MU-5EFuXNG5yg', 'fNVNi6e9fVT1WLKMZ2ZTvw', 'Jt--0JssdN981UrRskIfCg', 'qBoTS9A8awVQV7md04kQGg', '6LHEDPjCYW4wWbAZzEyhmw', '22xWQ1n_PXyNSQmxQPDESA', 'G43ArKYu6imtH8CuHB_2sA', 'AA1esucMuhE4MPtTe8kHtg', 'Y1Q75Mr53Fbs3dOfkjhTLg', 'T-KMmT0bH8JkQ9bB9xDp1g', 'jghaWGfzlQBg0UoTGlRkoA', 'rc8pG238Yu9Mh2HWPZJ44g', 'yniKbqoXucqXLYP2vVBIQg', '9yYSxpD1S1ohOksQLRi6lA', 'Ke1tLaly_9xNqv9AVfI1zA', 'JY0RDCQpHyMxiVxuWRiuZg', 'wesvi-M8-k4UbACCxfPhLg', 'rEtShkgqgBTfZ0GifvH6bQ', 'YpQz04L6FIeepAQwHBUqgQ', 'hYmo9MmnXKh4b08uwgT4Fg', 'XFtDfTmMtFluQ-4U2xj5qg', 'T5WWkyeMSYKiBmXGwVgb0A', 'dT5fCPCjkDSxJLTxOubKEw', 'jHIexmH9lLkk93o7aNvhwQ', 'QMcf7vbvOPPA2fkpdhl28w', 'jHnhOpwVPN4OIPsAQcp55w', 'R3Wvf3qCio1FvQU7CY7fkA', '5upo6jZHzyxJ0lobwd4Lgw', '5ZPrLAa9tbQtZmowt7Bf0w', 'qO_o_x1ashCG9yFcvhW94Q', 'HwU8GsFcAuOolOVyOczAaA', '30ZUqAJlLFiz0llr9qm4kw', '57lDSeDzsg6Qt3WO99TZ7w', 'TNa1Ft9Nf19RVNJPMlruPQ', 'atRtZMOWUnqGgI2CLa8czw', '_LPmIyA5b1bQoEMQLQmKxw', 'FPV3jRdIGUAoW51-9zErvQ', 'fgYu0ukpG48CEzFUDFy5Xw', 'oTJym99W2vzFjtSuycJgVg', 'mgAx1C8OkkC2mXQ2Jh0ZPQ', 'IIKlWkqebQ8TqHUcaaE6ww', '4L0fUjfJSY8GNhEO_3bA6Q', '91CodABk5GyRty8JURaO6Q', '3TcuF1p0zRZjcUl746zIzw', 'vMOtoHrO9qCJJIOISVWXAg', 'jo1LrQXhSYDxUgvftAbP4A', 'a__Ycgh8l_Zk-H4QDiIA8g', 'UvqKUtiN5A0Gg9Dh2JUjZg', 'tguImH2pgplIUrKPe4ED6w', 'qHT8yEqZaEt8cP_CgkcPRw', 'vVBWOHZEARdnF1ObqLHlZw', 'AfNPhu0wN0AWNQq_YyeYow', 'TtpHvSFKFW3ETqc7zZcwZw', '3NqjSpMSITGhrkHPREmIrg', 'YwyYPo3pF4CCvWmpufm-JA', 'ScxWM1V4HgH22on6wNOlXA', 'hny7T8Y9XGQ6QuhEpXY87Q', 'OtBJYaaFnKLCXnkLU-ItAA', 'geSNARpL1AhGWXSmhY1A3g', 'Ho4WtQKr2jHmQbR7kQ65VQ', 'ASJZoIQd7yYKKDJBrySAqg', 'tcCQScl6TNp-oWyafO0oHA', 'xgs01-DlbqxTQKLugkop5w', 'yrG-elRjWl03W8nK9pCBbQ', 'D_YqChCh5Kna85GZFVV6Fg', 'wkc32IP_ITWJ5ZC2cUlvlg', 'sNmNtyO5a8jGwTNWdtXPlA', 'qryTdQicH2MQVEWUEwCtvA', 'i-Edb683Qrk63s0SWn7I_A', 'L5Aa7sAn1AZVcyqJYwcdMw', 'C-d-pGLDxaqoN-1NRfFdwA', '-CmlJ_7zbEA85t2KHSE7TA', 'Nz_W52cPbZ8dRHLKTj6tAQ', 'qPxJaZAJLlrgTK1MUKE9Aw', 'NBF4LzPbhY81B50vngZP2g', 'FbSo8R5VqzmcH7MEKeqJdg', '2Y5cCt-BKavsBngs2dXiZw', 'Dni5R_nbhZ3-RmNKB3nAcQ', 'HfSMVLFeUpBlnYEtpmvDyA', '8xoBQPX2naw8XrDVW9ACTg', 'KbHr0j9VERHyB4g7UNQCuw', 'Zu3ueuYT0416HvWau5XJ8g', 'jXooK_-nvkEL3U33vVEuQw', 'M4o0aVOfViCnWy8-5iYg8Q', 'H_3RcHGMTIhXHr8XShQ7XA', 'J_ZT6_WwWpAYqvuMp0DMrw', 'RGgynpfzMIokz--mTAdbiw', 'YdP0MofnSYLK8J5Al_hzGQ', 'xW6d7vui-j8sJfYby6ko2w', 'HzsxfNMQITBlqzkxJVYIug', 'mazvgbIO_7CYx8EtKjp1kA', 'l1CsWK4kBrVoQV4eb1IThQ', '2x2zsSUZbpigSjJ_zvhGig', '_1fKJ20KVgdyimohft94Yw', 'P3WaYIapXaHNXbea7owMSw', '6XkUi8rYA20kGog5PxOE7w', 'tYhdqiDoXfcw5b5PE8QvwA', 'GMdZiqdjCOYnoBzQ-S7sQg', 'JXqo-OYoe874798auc22hA', 'SuWiylTQuLxx6VbBm4B2yA', 'MzMooJm9Qv16leNPU2rUAA', '5j9Noj06FJXGU4LLbkO8XQ', 'u6_WeGHtYwiGysYrfAiDCA', 'IvV5ptcGUSpbw8IcrCHMfw', 'gaIhnxUbU4nsRnGqicuzvg', 'VUA62n7KtayIaloGmuSchA', 'sTTH8i-Vzm-zTthuJh5omw', 'J4LQB413uwLcWZoapwprfA', 'z9y7DdnK-Emdc_r6rX9gLw', 'AEk4ZD0R5noeK6hCjeQNIw', 'eujQtaqxe-ELvsdH4ghgYQ', 'ac92cZ7oGB36Am2NfAZ_2A', 'FrIDvATUJzRqO_9sXdQH-w', '0zIASjSHq7XLue3p0h3SHw', 'btVmKLbbaq5bKAF4Qvs5lw', 'uqsS1pVWvD-9ngTkg7kEZg', 'uux0Nh2fgoDTrl1OO0aAwA', 'WrSmMlA8nTTl1vVG_gDa9g', 'VL97XbJWu6AuM-Kh00BM5A', '-PPhb7RSb1zf1WZ20VHxFg', 'sM-LGpIiu-RwM8ppShAFSQ', 'xPB6SUN5BKhTxmNKIgbIZw', 'gDepm9uEIxC6OXF6ISFLiw', '95bSVbY1FtKfqAYAxJKf9w', 'XVzV6LMu7vkZb9cmEZP9sA', 'FiJmsepQTI_SmHiUD3CCYA', 'j_fjCB5McdXNWflx3WCNXQ', 'V_teEKp-SsWPo4tUbbhtug', 'SjzD-smwgizkZBgIprz0Gg', '4EmchuAiTzOlHNf2FH8F0Q', 'YAjeKSyM0uEjfUNWnvv9_Q', '9qugllrHGYbx5uwLI-UEFg', 'DT_o-On5g43GU4AcbGCaUw', '7_85Rx4z9agrRxfGCMVBPA', 'yoSagdkwfbE_YlM5wqdQWg', 'QJmzxwJOj-qyhYO2Wb9X_w', 'ie5IVnQJsOroIvUIttLoPA', '4fDBHlvvXD9EIeSQIR9lHg', '4eDzwSuAi_gHSCaXyS2fkg', 'bW_tQgwBsWmq_bLy_mD5Iw', 'zSUdfaGQ9oZc5mDnMcfE1Q', 'LjIXwR-tmWRHHD1Vf8ZPJQ', 'XsUMWbFboGTCd-DAacujJw', 'FMO7XxSFP3D3qPqdOf2nRA', 'i6UhSe7ktzu25TwboDS9nw', '27mCQcFbb7xcueEegEmBpQ', 'LYHvO2q2o7LrcQ-bEmW2ag', 'wvAFQnPdTky0BYNal8DdXQ', '-bdOahUmzaI2v4gPc9lA0Q', '4poCz0ea9c2j15tJG8mSVQ', 'yPi6ah2Inu8BlKJ1r1usPw', 'pcNlw_pRGi0YTZxvzq9rTg', '0oM5r4OI7cplTSaSCzTmNw', 'O_ix-dcLzX91TtXv83NWlg', 'O_WlffI-fKi7ecvAel9SgA', 'neSDOnw2dJa_Pm18sn6C6g', 'dU7wiWoasrfG_M52yIKC0A', 'ywpGbEONgzLNHb-8agKiEg', '3zpi3o8pjIbrTWCLMTtu1w', 'C1S9OsobDZK6FAHDHuwvgQ', 'yZY99QQS5_gqPc8KonwwTg', 'Mf5MopDA1Djx3vPUgcA9pg', '3NKXEzsAMb05GdsPro7BMQ', '5POqIrJ7N5X3pxYCwIvGqQ', 'bP0lQEGnp9Xd9CGcWOSxYg', '81idhkeS7-Bh5gdImZDKqA', 'ScT6yETrts9jh7oAMlg8xg', 'qTT5As4B7eaj06_TLbl3GQ', 'TLjdgo__UT9rve4zTacbFQ', 'bYVCG_M51tuyBXVNqIqn8g', 'nGoEcjGWcNqHPG-SNQ75bQ', 'U1_6jEbsNX0lbQzCOKFIFQ', 'RmIgzMB-DR1XFoU4j5jL6A', 's_n2ZEynZJAtOigMXfz1eg', 'BDyk0a6jEbqksXDQXXppJg', 'RAsleFWoEEhtC2PCneM6mg', '5i6Rw_9JMcW9VtQClyRFgg', 'Px5UShscj6VrD1DyaHYUUQ', 'BB1EsIXaGxI9Kj8slnz27Q', 'w9_6F3dbq_2OF1D8r3ic6g', 'nAxb_yNZdnH4YaZ3CEGm-g', '4k86CBb6Q4e8XfznDKfd5g', 'Xja1qODeGWG5wzv7SBfkNg', '2QasB7EagfELN1UY3HqnWA', 'myNC7fnaHYxLGWuVPKMVUQ', 'oOqTyNPbVEGjIdr7a22lfA', 'SG_EjoSh3m1zhKly8d1cvQ', 'OLEcilLk5whgdu3Y6QLg7Q', 'NDuEn_6mycX1nrMLq4qNvA', 'jerq9lSGM7x5xMCcTp4A-Q', '3gcoSYICW0L1t7bJ_Dy99Q', '16EpElotJX-10qKM6ss7kA', 'yBI54WUPbCExthf5NgC-Sw', 'NiC1XDcMpNgRFvFc5GHN0w', 'mKwefXGSTAqmYE8C9hvQTg', 'eK8myBatW_2lykjvYXBf8g', 'ttYvR1UFNE7qEQA90R2r5g', '7N9ktlSryOe58bXbufEJ1Q', 'PpUmdzoAJnvXhwYuLtKfGA', 'E9BxMckmhcoWTDUBmqw4yA', 'I3FVR-Os3Gjmkar_V6IlnQ', 'EToRtaY9ZJDaKSfg_GGUEQ', 'CdmMUVfCd_QgQMAwCmi9Kw', 'liHNzUQOhnFIVSaFadOmYQ', 'gw4f1l-PFQy_MDveqkso1A', '5ujk8Nso1pxNDro8GfuRUg', 'yy2HSDIYPYZAyl_yYGGJVQ', 'YqXOomLBFoB9v5xR94eyCA', 'uysp4lreHUvUuLbINnTvrg', 'YYIlgzs0SQ4J8IbRcqsMaA', '2bZnFbxXH3s57rV-rPvDUg', 'IneqLyxzogkmdTxNfrQoPg', 'VP5bTcz35PC7Uiek3mjUhA', 'iVedVBvpN1JPATKO-5flWg', 'pQwFsJLN8Tad-ivqkpIjcg', 'jmowV8RmbyMs12kkwOF0Sw', 'S-pA2Uk-HAyOlkJHI6UAPQ', '6ppz6NzOyaWEd9mjLINV4g', 'YiJ7fGXkHPZ3NQrgOZBcjg', 'KWzV50vfln0_ag5qs989OQ', 'gwCYWWr77uRZl4fPQHW3zg', 'Gjc30IHgGm4byYEkIcJ8xg', 'Nroz-phrBw1-TjaWIRBbMA', 'x4sok3yOLBku54ZB9OruHA', 'kf9Oenh99wJknkP8GvHYJg', 'jVsBStKuyXIrxF1ivodw6g', 's2hv3gU--3mqARx6b3n1_g', 'XFyO1OKPVk5wEaCXJGDb3w', 'XSd8qvbHrkeZF4gJ9rSLHw', 'ZiV0gfaXfr1b5TG1cfFPnw', 'BC4jTHsVaYckkG9Cual5Yw', 'JUsqqC6hcd-c16UKDOLaDg', 'RHWbBS3odvsBtPRCYZ1ZQA', 'phOTnI4RNBcUQeUkYpGORA', 'dPiPwyPDvwlx7SDv90w8FA', 'neGu9bGs-iXyTJlzH9KQTA', 'DuRflYkP2atQuNLim1OpYA', 'lbXpD4dM5G21YOIMJQQ1AQ', 'oU35rSaHuDzwn8ifk0BgKw', 'r9i-Xhaquh1rcYVCyVkeWA', 'dskUJxraN_Y73E_zu-ZTFw', 'Fp379h-DkTnJyww6S5GXUA', 'YSsB2oGsboPjpBZq4FosaA', 'wp4KoKqzCrjJnGrDnPbHag', 'O-DbWGKamQS5y0aFQn_q2A', 'nQ31__A0FsFSeQuiaGQI4A', 'Sl924vjICdXkOTfwUeL1lw', 'gTiC2xbvHZJxpzUVS897Fw', 'uEFykMLeKCjz4y5sLBoG9w', '5SoxR6c3Mo0dTqAHsjCYIg', '5DuNUIq52rHG73b1xqagKA', '0-o7598KclfjtgKEGneU2Q', 'GVjmMash0QdBm0PZiG8FDg', 'XqYdjJ6Y4wtfOZksZeAo7w', 'JJZINjXPcL7ZefQpx4q5Bg', 'YCcjRRQEZn0Ce7aPMYTYFw', '-FpqJGzR4y3W_-ZKXhzibw', 'V73HecKqQr_FA5227_O7dA', 'GeHIT-pO4amXf56WBo0a9g', 'jg7siWwPBaT7MOx619eXzg', 'jTc7IinplzuOccwF3i6WIQ', '_jHIvpak46QP3NlefYEqiQ', 'bUWshYR03EoUXY4SCrq5UQ', 'IPx9fMfh_PirbcDG-YLWJQ', 'tB2AEGTzjDyIcLtjRirm4g', 'nlmggqVIrlDi3TQgRRmN9A', 'WfhxmCyKU9Yu_jO12MDknw', '_pqukuwQt58z_1T_6E0ZTQ', 'yx7-w94nUOdK8JvCBp6pxA', 'chxVhDjAJdG1bS1kiEyKTA', '3RaaWVwvdeMrJ_OllfZLDw', 'xt1iejg8f59le5fIDtyCeg', 'zo6_N56gClnM3FI0hPG8UQ', 'HHP56w4X_3DbTqp9i42fTA', 'KS4YAOhkah6-KDQ2MStubg', 'w10rnii7GNkQo7kifHjBEQ', '1UkHFeIx0P0kR0htVwPpPg', 'bI6PcR98GMMgyv00WSVyZQ', 'ZNt9WPbV0cDh2nuWE23zCQ', 'Lq0gcYwjckiyb59ztb-9iw', 'd6lH-CepqOvq2NtphsNWmA', '9Ew1nbkMBlXDHB17id_Mgw', '-n9oateloLp4zKYY1bCfLw', 'XBOPJJsOScguxL7F-a471A', '9HtDiWkCKLJTeByuND8gnA', '13AJ0lxoMZZSr3WmJCGpug', 'Hhb1T-O1d3v-9sXkQDLTTw', 'inTK_ApttCnU7C3X213fsQ', 'u8RnEWPmIFzd4CL15B-XHQ', 'IIpCBcJtgPM--SB1p9ivEA', 'DOPl-hDZ2dDMxXov6xlj4w', '7D74C1MaqY5hvzxc1y4A-Q', 'rfRPNaQDLfSMZAWdHRtwLg', 'n99CZPAPS_Z5J_2-KGgtgg', 'zJzxgmgMeKSubuJJYT_rLQ', 'hWm6WUBniQ0_UlsabHg-Ow', 'bAvTdm6KUsG1k5NTmm3MTg', 'jvOCJhOtyt2azFkZNdvDdg', 'dTN-zcqlDYE55j794yvyaw', 'a-YlsTqwX5KB_etEVTkxew', 'p6_pdWCQnoqcpALOfgIdzQ', '6185N-nr0d0uWItnWi1uXw', 'ZqeeGTvvwzLtDkoGQbuqYA', 'hNh57N8WG5LDq5BbkJ8tYg', 'du6_hi02534MNPpQF5czGw', 'ypBUShNbvs6QWHzhzcr5Aw', 'zY21TIi_bva95aXtWb23AA', 'L_H97-0HypC7Dlk-ln3Rzg', 'mq9ORTVHBOXY5VoDLgFgRA', 'ZGb3h-7_Reji1yLf26EgNA', 'vSbJ5JLuaLjUVG22aQna_Q', '_8JfooaK9ycbHq-usWVkyQ', 'oIVU22Bat6S14Gy_xiVp2Q', 'kIkFn4b1RpvL7hN6lOcw7A', 'IaWsQB-Ed65-Fx-KXiaxLg', 'DfajJJF-QNhIa019psK5bQ', 'RYe8fjDjWQGGEouhgfWLIQ', '_gotPrVOj3xJndOkb2Uyjg', 'OKMnD02RPprMWIx99pZdiw', 'hosgGf3A4BEtN-QXHAweZA', 'LNb-vlkSKoGVcmHcR2nrtA', '5jj_cWq6FXrxIsln-_4Jmg', 'OK3uhJLAUSjEErv77dISvw', 'ME4oyABN8Xo6yNw3VlsXaQ', 'Tr-l6tuv-tjnL3ghtnNN4w', 'c0L72hmv6ErFCi37a62iJA', 'Xi0o5-O6awM_RDJ08TYMtg', 'VtVScXj4OH_D_E9EIkBMnQ', 'a2sd9w2gTtVwz4JMvVF6bg', 'QHnW28RXkEoVVps9fIdUxQ', 'a9tM74E0ePxlyj2YMGa7-A', 'Al7VEHZjl4IuzGkKSTmIzw', 'OB3J2UB6Of2G31oM_C-K0w', '5tKl5SKOZrBseXTkl4QEdA', '2QTYu3_T1IcEXPY0yGHyhA', 'A7JEJA-pFi42lX88n1exog', '7Br3zEdX-EwtSnJF9M-Zjw', 'gqqfpf8YhCoiAIgJFQkqsw', '_Ac5215jLReBu-qE5H6t0A', 'lrugBgpJlwKGFDfkkm3gag', 'B1EIE5pzw5BGspZV3wTGqg', 's7BQRnkWOkoo6ClHYtTyRQ', 'XgWlamZQ68Ves2cUHyPRZQ', 'FRk8iOvLic71gewkttFSlQ', 'caRIp9_hc9Tsrzu7cF_HEQ', 'oJ77s3ysyQkjyyrUCxJDug', 'sJ_6vzFDx_u9WxRakQhVdQ', 'VEVCIKW_vN-Wmf5cd6Gs1w', 'XO_cLZjL0v9GMymVuH9QKg', '0pFg1D22MKeWOLO6J0A5RA', 'DVt99As5YrmLqQoN6uAeTA', 'QIPou22TfoIpYT7VzO9BIw', 'H2g5S1qQjMsno7pTS9rEbg', '-cWjI2heWmLszz-oPHbnyg', 'WNNivmykVsi68hxXCRi1Vg', 'q5ghNz4UHbOwd_TqUSa8Eg', 'XQJ0zhDHzd8i4yNLdKE9gQ', 'oGqnvoONJvHjUCI-YZCvPw', 'AKfLoMZysesDLBiMPPUB2g', 'EPhQVEMpb2WaL6iEDMLhag', 'dzLsP3yQF2ZeeNviepy7Fg', 'frZ_FJDVOVTjGaZCtIkXOg', '9Gu3e0nkkDxsKIFcuctvMA', '6ysTjxXYgHiEj9IuSVJZ2w', 'tP_xu7o1jikbbDxMI8pJLg', 'An_K-F7o8V8eIReeB2e84w', '3cSVHVXTKfwNg-Ua8NjYNA', 'N3S-z5wUCXxw4h_29y8XjA', 'L4SEXbbDHNtnnUkoElbSgQ', 'hxz1ZsBx6PgRgXTCvEtR3g', '9Ed2bLy9yKmRIaLpMbpqWw', 'sdWHsQ5LoPIkLZ-e5D-hIQ', 'RPCd2wxgl8RvyXEC6TJuHA', '3FiuN9Byq8khYCbBEVYU9A', 'f748Q3gnSXkaHnz8iIOdjA', 'q905zwBFo1b5_JrHGSTfSA', 'TfzHaIX6HIa6cz3iEuUoeg', 'WJvN7RCUvhVKNdNex_P0Tg', 'r_w3sS2FWD34SAQF7HFYag', 'hfkxhtZjRDUOEYQb4Gk3tA', 'PiUN4orFvIMKiBOLgMMVLw', '0_hm0ClgwDtO0dGczBoe8A', 'ouuaGwy7Dze8f9IPuXw2TA', '7CAkgZIf0ii11H5OYB6ldQ', '-nXqtjhyYbyIwJW99KG0TQ', '856OzVx-WdhQOgY3wNcYfA', 'ISo5pDL4H_csiOGkIaFRPg', '5VAMD51lJ5YeCPjQharK5w', 'FoHWMqzO23BqXyWr_20aDQ', 'YKjUuUa_hGMJ0TxZcAkkqA', 'wgQp3Ec5sM2jcF6TfzUj1g', 'PQG-428-_El7ZAJXRIthYA', 'GqddXKJZ-K6dPBl_jRiAgw', 'OenTCDtvu7gxv6ntJSuiWQ', 'P-erh3AaSgC5n86ztiKWpg', 'aCZ3jHtq_BXLHn2UpyWDSw', 'uXUbIlybPU2ZAABFRygeww', 'ME3fGS5knKLngnHLl5a1kQ', '4GkFhJfbDgmEcj6bFiE4-g', 'TPdP24SjQ4UqG7y1lK7xuw', '3ep7mCfnY_xH2Ua7cnhIKg', 'LrdDQdTFmezVzH38oniGKg', 'i5we18U7tm2Sv-ndSa2djg', 'suLwPHWy7H-acGuXbUjDzg', '9Hgylh66NfJXo8ICKVm4rQ', 'h8knX_Z3mPm47G7QPlaeZA', 'MVkzTakvYK0ypQjxoCsUkw', 'Zw3P27_SngxtyeZxE345-Q', 'JHl0iPlNfoa6vkuIU35PiQ', '6VJRyOIjrHxUCGqK-OGZDw', 'hJCDdKV4o2uCpMQGgIgQDA', 'lQW3vBGBeIgSmP3-kkML3w', 'FBwI2UE7hydOA_aEJhevQA', 'VShqTI1GPMmCcs15PjH2gQ', 'wFoAs9IhxWHNwVz17hOYEQ', 'WO5-bbKc5968nIrCMxb5AQ', '5d40YBgINxPkNAoaGQkQeA', 'IKKTvONozsLhP1v8RgJ_hQ', 'DuAVelrNAloij_uL9UD5OQ', 'IkvB4tIr5c7VWXj0XIDeyg', 'm8gzFvj0cAWnoDxLdytIRA', 'FsKtJwQjmQ2DLWCN1EnoRQ', 'Muxs8fQ3b9SDkTE6IJyUag', '9VgivNozn89_7xMr1KRJaw', 'OjE8f3mbiIfPPqLTA9Ucgg', 'Nv4K3DEhJ8JKDDA5cTX9OQ', 'bFEhcoVhifP1gZc6r4Wbmw', 'hCV3uYNpQGgH6wjCaplpFg', '1pOohUtupoUjGFVLSkgr-g', 'Uu2tpEoQB2MCJ8zyFpL8oA', 'Jsrtn-pByBF_tesdPCofuw', 'bGCs-VJi6DAtbMwWrplyZA', 'dhh5H8bKLgvHA1C52xucpA', 'JyFBjyrip-sMtAxKSpt3Kw', 'NVoFlNS1jXJ8uqs8NTa6yA', 'czujeAbDXoTf_Su78QtdYA', 'pUvZ8nDGTyKk4EnuQFBDzQ', 'IuDQ5zWxkTHAygKz48g7Sg', 'd9eBc9n9YymrqbKWcHMRsQ', 'U25KZe34Mk8NWN4HWycT0A', 'PYyJz0_BW5eW_eN6EuGTvg', '67Y-h17niWywDRZ7QxpC_g', 'F3PjpsT2ycmA3w7WE1pS-Q', 'mS1FnowZs7YOG1LKlipzMA', 'XFFmHTi5GWlj2O3z_wKVfA', 't0SGbu9alBupphNgH0NcVg', 'qq1CxyPBKyOs_fwUTxUtpg', '9aO86MDeJQlHzq7uAhPmRQ', '3z57ZbbyBcw4M1NSj9V8EQ', '8YI9fd-Pi1aeaiqjpyqIXg', '7sxClnStI4y6dOCX0glDsA', 'H6FQPgHXsaFvOFZsVfQbwQ', 'YcRTbdNHjb-zJa36xfRi4g', 'ArreE-gb03yKEoK3gm14bg', 'CUxeMFptxNtV-oNLvnnXEg', 'FJ-TfxJ16gcIpB2wwQiOMg', 'hiR9kLi2x6_WeK1KIXlcDw', '3Fqkb2gNm-3yoSphzG-TnQ', '0_4YLHgVikRvRQQScyQEmg', 'tfh-PA94Lp00Kd2gVhrX3w', 'aC0EVb1J-7CSnOkmv3b0yA', 'V2APMCAzodIGU-q9ZftO-Q', 'nlTC9jZK5vQUSm5WazcliQ', 'N6fW8Zr2qDQtmKhHG8_RFQ', '1N9tE5m3sfEhQIlWgPilpw', '490DLmGwACqw_a8b2uoP8w', 'dsULT84cqQmTB0SmXUbIUg', 'NKb7zpteyUQU8Myvao8tDQ', 'R-LRRvwFrZVKcBOBAi-mCA', 'PBLOR1dEJtrU3sYX6PsuVg', 'GAvbQEBziOuC7tM1iWI7Wg', 'Wuz8ICQx5OXsOP1cTzmqmw', 'AGsfLfBVraZ02QZHfOc50A', 'ehkb5eel_C-qLc2aXwFsVw', '4SiPUpXuT58Mm8W71CFR0w', 'gny17geFmDVmKnniVxQpnA', 'qxqGU14MHsG2D_vRkfIvnw', '9vu-7YtUQgg166Ulj2-Hug', 'C05QB--oDgwy1G85Bhgnsw', 'Zk7EeF2tPB8vlwuMbrxLvg', 'S4m3d9PKdCAEtEHzgz50Bw', 'sMkJ-CnhZi0BL0Ix5y5dCg', '-AuJxPaxgRRPg6AZXzP52g', 'aAh5RRoFU7TeHvAX6ECx4g', 'GCd0IN30JOu-_bkBaskleg', '22LuFrbqzIzVZfiDCDKbPw', 'umCChsy62zHjWnm26OaQAA', 'PuyKV5K2eNJpCmA2sLcIow', 'rlq__AC1UO7uMjtZBN_63g', '_8o42Z4SyrAtI_bAYW4TIQ', 'gM1gChXW8pWIEJpc_atdNw', 'HocAUZaSdU8nWAb4PCqMUw', 'HeiZqWqlfikGYoO8GaMDjQ', 'fvKI3eaTWaU9VD5O4PLuPw', 'asfV5pGqxIVZSsizDU7L_Q', 'uQj2RpdEpjFJj72NuBXcuA', 'yPxEld4fnPcgBbWqYbcj4w', '3cvV6JZwFc9Htleds4MM1Q', 'z5vGSHnaB7JGO6jBITRQRQ', 'jIL4jcCJeUOJa9YUDDSxlQ', 'D81A9E6VpQow4sUMSPacPA', 'y9L19Dp2OAfJOITNjtg9Rw', 'P61DMIluHFe6v12JwOthMA', 'DbAzaojtxKrZw5Pq2lK0gg', 'Hekq6CMSCfp-e-X6zYCeVQ', 'AyPMhi2tijYiv92aOk2CNw', 'p-zzuQVoZ2uPu_abBoH65A', 'tEYD9BckqQh2sHAMkAZUUg', 'vNUBmxHzM97kBSRjnzM3Ow', '9XbwMJX6jXBycpOYBbsOZA', '-lAEXr7Dzit9xOqao0CReg', 'BtnOu1FJZkxCUhsMmO8bEg', 'WiQBUIW7X05r4tjuXmIEfQ', 'dMNWwxm4M2fQ1PKEeP-owQ', 'CTDJ_OXjUIYY7ZoG-nfqeQ', 'jMjsFc0CmlTOUQuwV6M1ww', 'Gm3fa4-9TA51-NLRgfCRwg', 'ta-gKFpquI_5XtTkCPVDEw', 'rcTULoCtcUNOHSt2KtxEmQ', '3T1R__vZv-R1_Db_gdBHmw', 'oWDSnNCu-xhP9Kzt46oA6w', 'PHY-bx9fW0DwLdiY2CH-PQ', 'TJuJkTMCJDRc932YpG4YLw', 'V46OwHpqy5atmRFlrQAmUQ', 'stU2ePNWx6LqgizZHsAtWQ', 'XBcz0qwcTB2M5ztkHFEfUg', 'Zt73re2gH6gaPdAd5k0Mog', 'cQkohCq2k-5LbO4_2TLefg', 'RRARjJqIGU0Y_sI64Qi6cQ', '3EHk8AEaHE3adVN53XCuXw', 'OA9yjA5SJRmgd6yl_Belaw', 'nu0NKOpjrPOepnZV21H7Fw', 'L8uUATRIcfcGe8_XseOUYQ', 'uwH3aiJf351dcEnbYpgLvw', 'tdBgCG_y3k4H6r2bSsCN1g', 'TGjIKpZWOT-nGaylXZSLlg', 'FIbWYr4WN19ly9T2MXLwHQ', 'tygy_eLJCsjs3aqMOP4Y4w', 'vi38Xdlx1lklugoDLoj_QQ', 'wo1dU7PqAlc2R3LRwZAKKQ', 'Fna9KPI_TYst9DWFBLg6GQ', 'NlC-E4XTuflVgxkYzMxNGg', 'Hhe9qRgElpkqVQph59uh6g', 'HgNPRWizYgTeoKjzDS1Y5Q', 'w-BC3tIrVcF7CqEYlTnQsQ', 'aBx8OmEln8OBfitGlC5siA', '_LwJhGch0WhIhS4goRxayw', 'fr6yVcMkg-uvBVW6Cz1Qzg', 'iR6CgIrfxB4AhZeDNs-vWA', 'QdtIjrMD9ek-FtS5gryr1g', 'aQ4kESdUX7TQmd04Yj-GFw', 'KNXVDntzW_EA2vWBYJaVWw', 'JlYJ2TEd-n6t-_ypikARBA', 'SbFpA7Jfu8GI63HIK6UpWA', 'cSxIKgTXvmlnx2kDSpvLTA', 'hrBH9yDvLkuMxmj26Y7HNg', 'PDDPPKUmhFGjf9IbQORTBA', 'fPm3R0H5JrPeDpote84YWA', 'i3WEVjC2o4l7-JfrLY2V2A', '3QSZJF7_vZOZpfCZUfYzXw', 'vUmnDD4EiWKVmqpfAyoZ_Q', 'aU45F0t1nAxtlBGMb4De-w', 'WtyE9GudKDrfSQBHSsI_rA', '1SAIMR2Le5sjh5BAbMlFmQ', 'SPscw47dJvslecqQuLMWaQ', 'kWE3SQB1feIWadxnb2zukg', 'bgeB019jrjtFObtzPCrDtw', 'v7wnVfWeD-ZR0XkQX625TA', 'k2qBkvEACsQFlKB1kdte0A', 'lAy9wVWBm754rkro_R4fKg', 'NmwJ2jSlsZFc2_P20bXtwg', '-HSrcDQo4naofyvJrYYMBg', 'rCDulfgcDl6-O2KdBLWsdw', 'z0HmqPz8FJ_HOEHnlMdEFQ', 'H9OADHKIqersnLZVYFqBzA', '9cF0UG1cPk9A6QuZt-rZmg', 'wDUbXb2hT42ljX8RAUjQFg', 'ZS9mgtmqGJ1zpBIbxvfRhg', '4tH0fMB_hYWN058nPKd7mg', 'VxSjakkkOrqglyPzCS2Hlw', 'LaJyAui5eR71BP2EsfnJJA', 'voMvM9dpdW5zgaHLjOYwMQ', 'srFDMjxYm2vvO-oBF78wMw', 'UOTwywSPzPTyJhQVvitkag', 'GDaDlXppJtHI0dz7YfFxXQ', 'c5vxKWjmADfufJkaWrOw1w', 'GaRA1nNmbjnA_jSEwwWOLQ', 'cZGbHvZiti7rhEnOIMTobQ', 'oCohiHiKyXarhiltVxrvew', '-aMSs0chJKkdi7f_qN4eCw', 'kvDw3Hw-SZ-MxjNyyFdrbQ', 'c21Jxht4y8r5y8I2PEBoQQ', 'sHzq4IYjthf_4h0v47mf-g', 'Tyqdr7R3MOur34Q_r2x31A', 's9H15esiMWJ18EIl2jCbIw', 'b39I27RaL2MPM8i4Asl8Ew', 'vYGqePN9pFlZ9_kbeiRmpg', 'Of2fpibK3qjY9bpUaREpbA', 'fRC-ej6K1k_IdwjGxZLg7w', 'BjXGAVnYVytxcUQ17cdwUg', 'GYeyKLx2cDtkA29AcLJQig', 'IPqHB6rFyI1NOyRt0cJoTQ', 'gihTVrpngd3kScFZAiBZVg', 'DlH-oI5t4QP4mF5bvhhmyg', 'TukThvPk4EXaXJBCu1EApQ', 'zT1UhEddXtvmtsqhZSi5vg', 'ftyLrzgfrPEcfFFXwev2xQ', 'oYmsOxGjrlin5Z82102xKQ', 'SVN6bNn2UqTGWYNXyvGdIA', 'I1rMYwfVglxG7-ZQsdIPUQ', 'pg8qfoAL8oDa0Fee7WY7ag', 'aVOMlSY9-6Ec3EZfbh7nIA', 'pyqPLOQuYmwbVQWXZebweg', 'BC3rGUdGfjMOluvN0M1Z_A', 'G53tYwZnmV-m7mJMe70GGQ', 'Kja6e-V9TWWQ7ibCu090CQ', 'yIN0AT3gCTSE_PLNGdt2tQ', 'b0InW4DbzvmbE4lE4prVCg', 'nAOS1KTxIMckW1yS4ug3IQ', '7Yi5kmPIixFoPiuAD3C-5g', 'UKLhydrQt7AEhWgr05ygxg', 'bUBeVevgBIfUzSp5ZltlFw', 'pc-3CAPuX-blqQVKKNznSA', 'oUT7vew0O0YSrMGHrFY3Bg', 'Z2weug2ECL2jpU7k4bIGWg', 'cvS2GH7gqfFb2U1kHMN36Q', 'E8lkIVi9WGZz8TTeUObw7A', '3ONMTR07AN42oBOoevWztA', '84B7ZqgyGhwFzRngR6eu-A', 'POSgH5MrDTb_ieZi_Pk97g', '5rBqWm-Uc-zjPQUABTmQHA', 'IoxviqN8vfLM6x3pKsuVkQ', 'zGWs_m9gos6RhgG2alBcIA', 'BBTQiyBnq2i6XUyGy7YBFg', '3t1TGDUM-b_8HbmQY3-C-Q', 'SIcf4NceGgKJsdTCY0VJ7g', '9MEF-KnqSRHoTPTItlXwEg', 'jKjsaKBJ6kYfBi6DDra2Cw', 'XJ54mCydJ6dJS5irRADDtA', '-POC3Jknsac0ummGQ6Z6gw', 'YHaW8m_jM4I5wbJqqmxdig', 'cXW7d24n6pUQ-srNCD_nmA', 'R7cbQGZuAxjgQoVNGClz5w', 'VhGLupRB9K1HXiXHVIN5rQ', 't3YOgnJ-L0cM7RYGAWan2A', 'bTgcvUJPAk2xSu_zjBcXxg', 'pzbgZWP0ArPOa2Gac99eFw', 'CV_itLOkCZPe4uiqHISBxQ', 'cudPY7bAvE1SriQV4-H_rA', 'Spiq94aTD7Qs3hDW2XhLqQ', 'Z6eGYXv2mmo66ERWzJdYUw', 'X9hJkd_Kh5fyRVGvC2PH9g', 'cwJXWbQF3DVeajHvmY2qXw', '9JLAksuCGlpJBkBwA58ggQ', 'GQ7TXUftE1e4ghie-p-Gfw', '2yCJbR6H2VpeJMl10YRXuQ', '6iVQ9_yW4XFmo3wGTObGlw', 'SowcbWHaoz_RmmaPq9kCeA', 'AjeLNuOxakaTncvRiz1dAw', '7NjxCmFttMmb73haYqEa0A', 'zxFRP5TMeC0Nb8Kzf5od4w', 'dA1bnwwZX3qw08SgBmBM7w', '1I_CJlaRYYsG846wUfjFZg', 'riXqRCv0RW3f7s6MDCt-Gg', 'WTJjNYE3Fg7p8hkxeemOTQ', 'CO2KTShStyK7i5pJsx3RZA', 'qapB_gHD3k-tjZmQh5k1Sg', 'bW0hYBsQ4Iz5BC-MDAE6uA', 'ilA-qujdTGAcEXRvqLFkSA', 'POqFIoitwjc4SkxuLtwoXg', 'KAzi0spEROsJR8aWKM5-Rw', '511eTRMC6F8DE_rQoC4B8w', 'X9qj60pDql9OlawCzEE0Hw', 'NGCBfFNYgA0zCuVC6Qm1Jg', 'Ps4ids03JSopKLxzniOkCw', 'b89Ue1rptwlxWXuAFfDL3g', 'DjrebnQ4ryttV7aVqSJl2A', 'PWW2CQcvnllLJKF3uWw4zw', 'G4m7TEiSwBCOYFe18laWmA', 'SFfJFGqyDo9cKrsQFuO3zQ', 'HVnHy4GuuxF5-ehPUtrswA', 'hN9MKpuFQ50pjoz7P7-4-Q', 'AR42fwodAT9GD8AI3gSgDA', 'Bv0IO1NQu7VawdqxRb5rhg', 'hinNoK2t9WiL1nIkag0rBQ', 'f-3a2hJ7qHJGsLXNjAdybw', 'EuwhoX1V2n2pkyJQ2ofHUQ', 'rtVLwiW2fVPvMjA2P0TDHA', 'lRyzVlW9lN5AczeyQPzDhg', 'uecwM7-vRDg-W7gSaMT4OA', 'kKTR8MZ0AnBdAjYyFrvCUw', 'GKfmn9yu7cvOuUjTZXQj3A', 'PAXtyekWt4J5OaRBOgKZRA', 'jMq3kxu4TJytAeBhwTIaVA', 'myVS0xwPdXavN1YQ3fzAmQ', 'emFV9RjBm1kNOuZeyDedKw', 'zZZIec_b-snhzb3ZU3Os_g', 'nIzXU2Aes-snBCgQWV3JRA', 'oFeAQsD1j6peJFXsS6-Klw', '1NlmrlbDAe98vAtiRkVVAQ', 'jqRXH38PtAWvHI87OgbhZw', 'lx6wDlhYgBxLwt7-AZ1RaA', 'erK4nboppPNth3GzIHRpzw', 'X8KR9DBOVBQOQsC2wbeYyA', 'cW4XhDn_em4LO0SlOfULFQ', 'qvOdVXcQhtS08KItYeug6g', 'UtSDM_ngYcJ7t-9rC8yEog', 'fV_TXshTmf7rtvXS6osnYw', 't42M_m27kJHl02isXLbcuQ', 'HXyaTBI4kPtB8PRpvBP2PA', 'RkTekz4EieZpO7qB7_QSeg', 'v2epYxgdi_5-Xy4sWOeZqw', '1pBgZW6NQDmSUXXl9AXAIw', 'Go7PO1F4ABh_4F_ZqPAbUg', 'ICBN6SW0W2Et8qKRqmS2ow', 'kOQX3tiH-d-Dg15RXbOgvw', 'glKEUO1eAWHaoyCuACAkUg', 'EhHG2mYgENhneiVgBFb5Gw', 'W_T_uDNYDMmXdw3PmLqGdg', 'kWW3aX4caIzDRNusZTBmMw', 'YEe1hIJEVs0trTvreSSdkA', 'sBaC-Knww3kxddU3bIPwvg', 'InVnClBEvxSLxnF3YAh0HQ', 'uxu7Cq6y9NKnuKmK7_CxDQ', 'yPU28ByjEgo4BfebxnDh8A', 'jq-gT1iaPFD1wkDK6PEO0Q', '1G3aZLPkE5k3sJ2xTpa4zw', '4Br-EQRb-CYJWdBr_sr4Hw', 'lX7_iWKqYU6_FNJMfRrszw', 'JzpVbwzMeRtEZ2LWboETfg', '1N18ahqQLvUcd4aPwbJ3CA', 'wrI0BDdItlHHE1gH72uzAw', 'EqRo7MQ8nG5o1R4qoLTLow', 'SRtEZ-DxbjZM1OhwCp_zUQ', '8VoRRZ8Eg9E0sxB1wZpktA', 'V5aa_eyaAJGnfD07HKdQlg', 'aju0LMGSrcaYh7KfbNqH3w', '_XUkDbat1LseIyGyrujsRA', 'Ob21Faqvy67oLuNX93GYGQ', 'liZgYbZo0yIFqerQmo2LQQ', '9ZM7QfNI411pgyFEFvzNDQ', 'cCzZjvtQ1byxgepWI9026w', 'DmIJ7f_XoACPLYwuXR7IMw', 'zAJHM5PPm3WmunCLHWb-jA', 'SHkvUopC7692dXrmDYQPJA', 'G1YYf5pXsmZp0SAbxexw0w', '7jn-9Q-qAPvepGJNWOcrLw', 'ZFtvhzzdjPz6DMSsSBvINA', 'FZwvqaQoqn82uv8qdFerUA', 'NoqpZQBr4XUGtC4hYo96Ag', 'pj1csZ03vwrTpKJy4kKXMA', 'DXHC2RIO3IZssxxhk_k9XQ', 'K7Z1-xrHkGq_PBvkn0jJsQ', '5IjCF6x1lvCmIgT5ykpJKQ', 'NkWpiLJZwrZlXefqBafhVA', 'qxKOSXMpIksL04pf5nCV-w', 'fUm1-8bqKuEMeKliM91OXg', '5LRj9zq94mtZM3BrCJ0zYQ', 'gzsQjD4m-myeiJwJVhWhjA', 'y_0TA1YRkVgQvGQARM29gg', 'D7ePe3RmMHIVGNP1sGifiw', 'dbYyM6wSYiYtDvajNl2CZw', 'aA2MQ4R14w3Kn-2kSBjQSw', 'vAH1qw0cyWyhIXy02Yppjw', 'mUyh2s_-sSNW-KUHh6fSZg', 'x4XcxXr_KWJHf1RJcYSkrQ', 'Li28p8E1KaiEL8ZS_ybszQ', 'K_KCThH5O0s7csj-doFodA', 'QhLWrbkGQXyyhbBccH8rzQ', '-vnqCCBU2v-e996dtU-KHw', 'J3GuHHPmWfVjgudnFZSBzQ', 'vUJ8feJwcB09bRUGYZ8akA', 'UxNzsculkfl-eao9DTZSgw', 'aFLJoVMpESb2dp8TgIaQ4A', 'fASQ9USbH7vrtgZRSYIQqA', 'NzlUf6u54HbGWK3gWKvZFg', 'Rb_eXa8wfUp_7c-yn6t5MQ', 'I3LgXP2Op66obezY5oiQpg', 'CaDrQzUZ3WcWU_BxqYwXyg', 'sn0Vo5XkzozTvluz7OsowA', 'VWYifBVioWV6hnGUbW1KvQ', 'FzvGCsY6mkXiH2W2_OEoCw', 'YTzAyOKk2FhIqITJRIz25A', '9Ax7lDOZ4geSDjOm8JfAGQ', 'ydnsOMx4cRyPfJnvijL8iw', 'y4KGXoc1X2-dIHKA_8wEZA', '_eo6tpAu6U8VbwO3hxncgw', 'GjsTj_63Ay4_WTg1H0R1yA', 'R_w6w_8CEDjfK028X7Mb1Q', '9K52KLdJ5sPvv0w_ZBCheA', 'TSR_hrn6J1Hzb_BzeNFBAA', 'Pyd4IsrirJ98zamwIYkZow', '5WusShcpkHosnh1jyZW8Sg', 'c3ruW2AtlAOnKMCvbbtmHA', 'MFuWhPeFk4upJ6JMesWWBQ', 'm9UTnsr5mRCMSQfo_2FYAQ', 'ogYvKTlcWlMBXYYzZEKn5Q', '93_3fB1maOwriYQgfggCXQ', 'FjFyk0_3fOxR5i_Xee0e6Q', 'BmZNiDjzQtq53W0QiMT-GQ', 'D_i_olPTzJHLDjiagqiCTg', 'Urb-uH0lt4tpGyrI4urtlg', 'E5cQW3LYmsATAMzIj2rlZg', 'UA7psBgUtnvOGKGtevgyvw', 'xPyt2Vkrne31xRoR89Bs6w', '8AgxlSuD0TKLEWD3-ROA9w', '2AldoOvcOh8N-DiJnoV15A', 'bstBsNb-I1qcC6e4vadBRg', 'My0gNv62YFadhzJU7EYoeQ', 'dZL7UEJ6PsJRqVWtJctlGA', 'M_ZE3rVkpyD-0ELsNnpUyg', 'IWuhBilP3P3V3PykiAIcKw', 'ISCpy-BIetoonXN2YOd8Ww', 'wP6iY-APCQHPaK_QS5LDtQ', 'NAy6u45DjcKD8MpHvuXtGg', 'ZuiT89DoMS4Idxxkdl6UEQ', 'GzaXUA5n2lzuFkBAuBmzNg', 'L8bpyxmKXv3tfdT4wj4t_g', 'MzMeltNWGlKKYAtZyiXrqA', '9nyO8Xz2L6jc1TxEmK5VCw', 'XHeogORinC4F70b3PHhwxQ', 'SxZzx5f5sdmRf7kCRfzD5Q', 'da2L-Dgci_Y23tHf02PUrg', 'UdshSEfHnAO9Dq8DN1KT3g', 'ciKdJEyTFLEqiN-T9X-PDQ', 'GZYU2uR0eAkKXkaLpaC3tw', 'xefQCP0PO7QIrA4lu6Nk-g', '5insyKB4HcJrMMoayKUw-Q', 'dll2K0UG1PHMIjvvXTRLZw', 'fRBo0mCoctQPpaw4Us-N7w', 'CqQ8OUFnCK1THvK4ettvyg', 'j0XR9lG6bfaq12KAx1qRhw', 'ODMZ93OnLS1KHhDMEni-Vg', 'HW9AlPwsV8RRRUH2sXxM6A', 'fjUO2iuiU7DxgPpVImp4ZQ', '9LQIAQAX5eskOHDZkoWATQ', 'pFjvCsW2_6u3pVC14A6yiw', 'UVO6t1mMaK_HLCduAR62OA', 'JP9UyTFx_MrTO0FAopwyrA', 'fj6By9q1PVpbx-OC4Hf6dw', '82nC-8cjiNne3HTbgbSF2A', '5-E_YMVPaiR4wlnAWgL3fg', 'flGgkXM2_4GxzlT5yelj6A', 'ykL0r6UAOrPYL1UWhE9rgg', 'c7zH7fTOo0DRome8SzyOGw', 'VVVadHoPtH6gX3OkiEwcpw', 'AKrNXAKIpMQdiZKSqkrgeQ', 'igIgjZqGz5Czpryfy83w7A', 'NQQoPz85Z2UJB6Z2oxF5sQ', '_J9gZ0pfE1wLatLJlypO1w', 'lmhH4HjjUW26Dt8lCnSryw', 'X0N7VcjFt-TC3VCe0X7txA', 'ewnEcidBSbR0QInd86BkCg', 'kQ8OqPrkoyy2Lwf2jukjmw', '_PHj2K1YJGiuQbq-9F7l5A', '6ngMeNSCeIpPgbyTyBNoDw', 'YPel4LCqeX6dkW7lfjjHZg', 'uzrDo6zzQ3xYVvbVujrQQg', 'hSNYi8ug-lNxvVd5yL9rLQ', 'tA4JNulwMiDRtpJxcJyndg', 'grJCDGiW1Q9Q5QINrRcf5w', 'fqSqhILHO9po5xmOL8HsZQ', 'uYQPXjmhcRLsOk454FFExw', 'ud0ArppWrcj_A7a7OzoOvQ', 'lv1hbiQ5TUDtTjYZ0hk6GQ', 'yfPTunRvAC2xbNOez1VDYQ', 'o-UQfBY7QlQC10b3o_fM0A', '3xxEcm6-samiljL-iv5VWQ', 'L6U4poxFGrHVXVnWMMKQnw', '8dsHr6IWBYCbL9FR6cZHwg', 't5UFTMmWS4Aq_Euxu8wQNw', 'x0FSM9cj-k_lG2sNMJg10Q', '5MaecWEa-ycBIq9mxZ7C5w', 'tcFeDbr_rkAy6y24XONhlg', 'duUxDsCCRw3z1VcJS1pvhg', 'xUZw25xGlSaDX9mVLIpMfA', 'fvHIl1shIrvj8kHQZgsRXw', 'lQgwu8jf-QSUQnAmDyiCPw', 'LGsxuEHJLzmi50k2XGpokA', 'bm8nVYHHx84As2couexefw', '834n1q-sCYfuOZnxIqPPPQ', 'e3u3THsTeCj75m8B4q--gA', 'cbuU15gZDB8T9u5joMW5BA', 'chgGdJZEq9596ImRedzAHw', 'mIKvA4hWyzNiqjLoDeKQHQ', 'nhb7t5ZHCd4P9qM6v_oUwA', 'YnsY0AXroiClyPUOwESEJA', 'mgQzaywu3ZG9RFLpCAAltw', 'KW1NUws_PzqI7741LgP8IQ', '8PRWkr7u2RR_mSsAOpqjjQ', 'm-ATzw6DQKAfikMvIO8MaQ', 'E0pnjLdAeFsDw3uidfHHmg', 'pG-PdMVem9nmJeOgct336A', 'AU5bVrIhrQHRUkts99HWqA', 'DHuqYqaJqii5FH7a-PEbLg', 'z4j3j7iCVEQ7SiC5AUGdMg', 'Sw0X97JK4XQsgphEcs3V9Q', 'YVuxI1x5EMwO7twqNNrCyA', '523QBrDq5rykI2ISOd-A9Q', '2QOhCsT_FJJfSr87AJxy3A', 'KhGCU015xwKqGkPT5LQzfg', 'JDAcAu6iIgdBdrpZYK7l1Q', 'XWPVLs1j0Rpu50YLbS0rug', 'jKHULntyTt6Zq-CS9t_vnA', 'tbdDI96lA1e9P4B39ZQ4ZA', 'j92apEygHhM8c132AMzz4A', 'nE5xLY-5EAEv8wwSJj2-iQ', 'st53KH24GQgcZz2T-UeB9w', 'WGPoFw_y7jd9q71E4yDNEw', 'BIWRBoclJFA-G6orCnHCkw', 'biJuoAwNmnqN6OzZ8Ex8pA', 'oMCmTfR-tFdcPp8IzTH8tA', 'PMLRf--RXPHpFlPJ7nU4kg', '-ECj5u97pC_8fPTisg6Wig', 'cy0vv8M1OStdsdDkhYrmmQ', 'OeWHZtgm7QdLNkABvsEGLw', 'RNX8RpkhNtkmtms5XMLi_Q', '3TUeWQojTXy1YCXpsgPTcQ', 'PZvz_s8dwrH3nGLzFfbUFA', 'lZl9CYskhhZJBg7wcKDRog', 'gdlITlAENgAaA6IQaZaUgA', 'hNav3CxiaK5BsG-uSBYRug', '6bfxihonpQlIWfgBzJ6V0w', 'gVwtqAWjS9Sw3OKOJ5QRhw', '6rHamJQxGsBNB4F4uDkV1g', '-sHcVTlgT4pXMazU4upksA', 'SjEDaNOpXNNsod0-aRJrWg', 'LagnZ42XF8Gy0mqP4Uw-IA', 'BCMjyap8MkFWi8DVn2zCPA', 'YMI_P777nGAUug-KDvnGiw', 'SrJ3zISAKWCFO2gtnR-U3A', 'qbxJR2EB5JpjKXE3_pexGQ', '7x-rAldlqUvbXxKEAOojPQ', 'mcFM9HO8KVi9tpdv_ibiSg', 'lRs6gnZh1f1f-CK4uGwmFA', 'igBJ08Nqq9LlBnYPEbPJWA', 'vSdDj4BnpRTIbkdeNouDfw', 'KvNxErbSBOy0Qo6_95IxTA', 'H1YUkn-j0jSHzO47xg_b-Q', 'Ae8-Bjjtgo3G3bVmJEAatA', '7fwgh97mfEsWhEawPfpWxQ', 'ynZXoam-BA6ge0q5g94AHQ', 'R-uS8ZljTV1fGvjG3h81kA', 'h3Jn5ekFuinbmJGjofzSVA', 'abKpDwKh2eQsbstsWKevdA', 'El8uVtEempq8a_Rf0j5u_w', '9bfPazKboz5xjEavyUmYpw', 'poPJi7HTo3iV-Iox6DQPnw', 'w78-hnhY2xXA2q4YWqGj0w', '2V526ny3gf_oZHMyZEECOA', '5JysHuJ5XSJA6oPsQ3yHQw', '4wbsvHWtUIxCLoblM9jqiw', 'avoDrLawu6ESwc_fvRLVJw', '3mjgTu-kUPWzmdxRv1iBgA', 'cGr9sA3VeeuQGkH9qo5Hsw', 'GgQXZdfYxsq781GEzWNWPg', 'Cu1YqStR4_XM6daVim2CKA', 'qnt0ePMJ4WmdqiGR5oK_BA', 'RrcJft4UsFpVcpL1lBGu2g', 'YJOZl12xuBoh7iIOwhj2cg', 'zXZ_zSFe-NsnqRVae8148Q', 'HzHACEb51Iu-DnstSLCxfg', 'AasSaKCqVu5WgVjhovQ7QQ', 'PyulJEnHzdsH44pZB0iCXA', 'PuwV6hSdpnFceAxK8UpICg', 'hbHrxaKs8nflCYj7Vnt9Lw', 'er-sIT2H3rhJEMGRzQ3X-Q', 'BqHTL8hoxXHO8mz6cgPKPA', '0c1vOZ-_trV8ksVDRf8vfQ', 'qsA5fdoHexGd3KN_P0rzfg', 'ZDVk4XeVPCdLT1bjoMoh5Q', '6B9eqR4Jxq1aYdKvdUo5Nw', '836Vrb1C783CXFDGnpkFyA', 'PwSdXTPwNYYgkpnv4IiYPw', '0Rhoov2EwzCsTj1UdSVS3g', 'r9CZYjQjJ-ZfQFPak19CHQ', 'DCvH8AmuPVNq0kgNO-YIXQ', 'NXnXPGMJqdz3LLIIzoyctg', 'wLuGm65oS_kYzBnpkElL8w', 'L7juOqCx2nBEGezMKozYmw', 'ZAerX_0tu2TKwKjRXsXFfg', '2hEcPIhOrc2ZMf82cETdpw', 'CWNVm68T6rH23onridHP1Q', 'bVMdeNhUhY0QjDuz87KdJw', 'DeWJJ3NVe_MsC3J4z83SAg', 'K6aqfGfxD6d5T8UqYW2fpA', 'hdLzU46K73LVybnE-EO6Gw', '65Riupxl2M_JFnewKkkRjQ', '8ff5AIdqtd7CZ2MckAkpeg', 'TXSd9zCHDKrOeHOhuwEiYg', '5Blitz4y_tJeHclmkKjemQ', 'fYdoC1v4EhkBeuR5DZ2h2A', 'HnwH5TW11OMcMSBY-NGSKw', 'pKp4Nvw9furcMxgYOiZLYw', 'sgZ6gl0a6MxaaqXXLzBh1g', '_9rL6LUOPtyJ5cFop0m7Bw', '_IocWNXbsZIfd02pzmPxqw', '5H57GdGXVwBZ3eL0GjHMvw', '3daLOsCfY00xUpj5lO0oeQ', 'nZ6TNXmXOWTynafYAOwe_Q', 'IRCP9k4QOg7x0mGij9F6OA', 'ZxNODssnExIU_dRwi47kaw', 'EOpNGCa5MbdDAr27p5paRA', 'BqkmGdVzM4IrkHGyj39AZg', '9q4aji3c2NYCb1APXCE1BQ', '9YrjBDf6EYvBTFKO1SqbNg', 'NJrk6sV2ucBvzXCiifqPIA', '4rYv6Y4N3peku9ACNCfYfg', '_alYGeY8-qb7xhKFWZsyQg', 't0bSNqfElzdvNJSfmiBBgg', 'Y-OIdjj7fTn6HZEHFXTAPA', 'n1KC6-j_Wui_dDyWl77E-A', 'vjhh17MHm9DmYlj-ZGivQA', 'nDc5xeDZdRELvblEacl64A', 'ExGzf9rB3WN4hNqffWy7pQ', 's-bYDXNK3jD6oelOwHIEVQ', 'ZNQFh90E6rMTbUux9NTYoQ', 'c2B1P6wA871xH4Uslr8XLg', 'KN39RLiKqtEZSrUOTJ9z1w', 'CGserCOGO1Wv8QImBmgDvw', '83ZSKstffN_of9h0QLk0nQ', 'kV9xPkKNV6k2dU8MjZmz4w', 'dy7k8jYn8bZuiq6Oo-Np5w', '3IVQKPcVy38-V0Nso3xgXw', '_1DoZQd6ZcPrsFmMcL-Efw', 'd5fBDBH_EbBFrhJ-yiNmrQ', 'qfjkvP_ZneEu4cr411xRrg', 'IF0nVUGw7KY1gD08QdNvBw', '9VXP85h4t5Z_ExcyiDmY8Q', 'mRTZOb5hRAeYsvLFlYBd3Q', '63kXQqHcFY-UHi5XooMRnA', 'SsMVT8ltFkSR8nijHdYwhg', 'KOyYaVGcU4F2dSXkvVTPBA', 'WoxvEXqm3dQTe-EvWEG3kg', '6FjB4CHM46IRO6HiDUHSMA', 'W4JBPh9iRYO0kAYDB7Onzw', 'zzj2PZfZlf7XHSSIpLFEKw', 'QSctdCqC7STYLy1o_DuSOQ', 'nz9_I_HVG-OC-MRc7bkppA', '9HkNiayn2GCX7CrBXzEB7Q', 'g56aLIoIOpCXwtoG2EvxWA', 'mDFrS_0684T2lc8FOOYafQ', 'sc7RJgWt0ii-wBpKIoPnXg', 'EbOPigEiiCjaUv8OS1wZcQ', 'ZvfY_Mb_ji5sOzVx055adA', 'Z_DC_neifVRJajZMGJg2hQ', 'kQkqXOP7xb7wpaP1XTg47w', 'L14LLeBDz-Ur-UVC4Y1L3g', 'cbwQwmenhZUv4Xcr8ITCvQ', 'YjSuLH49JIJRqSO2aPedYw', '7I0hVog3tbe1ngHLajEPaw', '-EmKa3uHlMGFXDl2o4-sww', 'syIyfQ9dgNBMOO4Vsiu2sg', 'xeMJNw6H_cUBez2IV3xpkw', 'EHdr5IlFdIsChYCd0gar_Q', 'KLy_ern0IAIMlEBe_X4nxw', 'kYopkZ_iBGK4VfrDGbwk4g', '75sOkS_Ln2cjZrDFeTLqYA', 'fPCHZ3mZYm_7dymemow6dg', 'MKKTwu6KXL-YBpq4KVrt8w', 'faP0pRG70IEqrIrUYO6GhQ', '1lpkkE5ukeNlJK7x52ie5A', 'vSwKN_L_sQOPjBlQv3nP9w', '7nCco-862vIoKvtc7OdZXg', 'HdlK_MR5_zgcrKTmrSa2dA', 'DGPCJfq9nUtYYGj-Np1jpw', 'yIrfGROJ-42xy3Qj68RcTA', 'oTCqUHuCnnaRvHYxupxk-A', 'R2cThLyuqll7VycP2rXqdA', 'yn1voNW280obnJp7TNX2KA', 'ZBGn6HBOrwYCtNd9PqUzQA', 'P-54HVyjfRiM5sXYjFwFtA', 'ubydtqjZbx7ncFvvdplAmQ', 'AdItaRFVhjIGNut92v5l6Q', 'rLmkJamfO5xMfGxeh1UWyw', 'wRoceuF-erzAJ0JnR35vYg', 'nnvTjUMbilQIGhMAK9DnFA', 'YQ4n9zoMthF93N5Sj_ZfUg', 'FxYu2oqR5CNF167LYL2aoQ', 'nTTP1OEiGuXX_VoVcJpkHg', 'kTw6-o8bBkT6v3oVbmHunA', 'N4VYPxJkWqEjG9TPOF3Q6Q', 'qcPilnm0ktNzFXIU5bP18A', 'GUFut-jKqhPTZiiTlYBxnQ', '0YFqUfescuH9Kne66rLDNg', 'aO7VLTkPpPDesd9a1VlgTQ', 'Til_DeY4Dm7qnj2kedQjpA', 'oItjNMyCxb56omSlrMQwCQ', 'LoUwLOv_t2j5TgosTbOjsg', 'pIxPUP3qwhq8X5O-utJTQA', 'o9VR7NF_IsvXw35YXb2ZuA', 'f8PHyknyyHzLaHERoZqdGg', 'diQRsrZBkYCt8HZsbj06ug', 'Bx7SouMMiWG5jsTPUUFfBA', 'kaonRir7whW_3LoH55L4zg', 'cKwVZSDaD1JF9fKzypSsyg', 'aTAkqq75vCwm784zFrfU8g', 'wlBs01_sGO4mMBQDPITsvw', 'KNQVClZ_swKXhAespsmC9g', 'Vrl9arzUnYTDDiwBna4SMQ', 'e1m2ZZvlW4x5lJ-IFcpcXw', '8uFG5UNOAI7bhHBJEQJrcw', '21GLthIrE0UcbaZWOOvnbw', 'GwTwKe2CVf2Xgka2liGMmQ', 'y-UsV5eE_DWOz_ayvoyijg', 'QHjJxepeZwUw0V22mZbGVw', 'LupykdlfI0nlYnmlxvzFSA', 'YA9w6xNW0DyLmDMhgXa6_w', 'QUhYu3dCsDT4wYFV5ZFtrg', 'xmBeEv9Mo8mOGC3WLO11Iw', 'VEJDmHxOX7kMMHAW-k4VFA', 'zGvW5BhjSWYJClB59YP1jw', 'Tx6s86e4YAsOoDmVl0qsFg', 'j3fGqxyw3dzi6KtVYhpeWQ', '4B8vw9tBer9O-4t9CuZ5MQ', 'M7ox7d3cPr5ghKdHG--97g', 'vBP5-tHBlfsdzye6Ni3Z8A', 'ycggEQ8L4M1xJ7Ws_bdtTg', 'LKthZwI7pzimn8vN1VSrpw', 'ek7g6o3QF4Vi9uy493GU_g', 'Flag4hnw3CiTiGOIK02NsQ', 'zPsGgOwr7Du3BwlBmoxqCw', 'tbL47vaYLhI2NhpZspeRaQ', 'A_3m6ngmaX9_9UetAiVkFw', 'PWFixgI2652Ky_2wkHrZnw', 'BgkmhJEnbga1ZHbAe1XGGA', 'MZU043tv83X1lK5MgVslHA', 'bJFsqPMcbXWXRq8cs8STew', 'Q181jRz6gsjK3UaJ-2j4MA', '1KAOR-Gkq8CkXim1GOiMDg', 'G0Wc6sj9EI75xmTN-B_G6Q', 'yp1_BIJ9XQPlVe4BvbY-wg', 'AarigxZQjVY8Il2j37citA', 'OcP6E2tO62KiW7FdoRPXWA', '3Uvp8tgBKImIkC2vvGdDyA', '5loNMf1xX4dl-hIf6I1Kcg', 'UEtqayFulfPea0vvxoAv2A', 'pCn5_mvxP0ec1L0A4YAgrw', 'LwU_iMGo20tpHs4Se19ONQ', 'yLiT6wbla4Agf4n6tDlE-g', 'yw5By0BHZJeAtdhN9XFeHg', 'uunWGIVv3xhK_X4MvX0A_g', '1UiGDxhZI3Vxa4zRrE5v4g', 'i-MpSFqF360kLnXMfd8VTg', 'xX-mfSPnWXYs23H_EIJKCQ', 'X54e4kP-5upZ1HBkhurJsA', 'yrunHb_92Kj2rRa4Nxu_kg', 'qxMVg2KFDdGPNEuYTaZdvQ', 'DVtfW-TniUBhbSSXQTNCwg', 'eINJExZx8DUiDqMdwQ_pHg', 'saoVAMbuh1MVWnl9Zh2fpQ', '4hENvTtfKMW-LGH5JJRAfQ', 'ujQxK8PVx2_8Kzi9SfIfsw', 'GrgI4ZiuEbPJFFuH3r7knw', 'HdX44lbWndMdKzyqHLFJxQ', 'R6f-GErNJDVf3Eq6sv0iZQ', 'LZlrbFfF3kVWTpGm83nPUQ', 'tgykFPlQWcY_u9wO2UQBKw', 'j7mvgmKmZI-q-AxP7kQlUQ', 'a1OTcI7eLGnWCis8fUZFwQ', '4SPE6VezISxvk8CaldPDyQ', 'puvcnB9s0iKkW8ncnJsv1g', '-E0rqoiJQeN64HYcCy4bkA', '6jRKZItBWCn3kWvDIjvmHQ', 'XgC0XWGTkaycNXboxIbV_g', 'eMiOkvneTOVOFyKmJ7b0eg', 'yqEAk8SkfFPdH8_U4eyUWg', 'ygACZDobaGLTwqIW4eRBTA', 'r3xrPLflBr3fvJPZdlvjPA', 'IvD8ViKMCfuCbvyffRw-fQ', 'gTRZrWXNy4PMr06wjq5dkw', 'vAphHKmV4RKB_fJIOzlk7A', 'PqPwuyVXCr1o2rZHpkDI7g', 'EKFKIDnpUquZlqoNYAxJPA', '-3BkxM_g6EID8ECLWEJKPg', 'eITptkv8Xh0FvUi_W2mhgQ', 'SYbxzc1GjbJJh7dorEtvtg', 'khngUWgj0dJRn7l2R_B69w', 'jig7wEG1ASKjDjcR1nlVRg', 'XJOKiHXoM2w-4gzdfCMcnw', 'Uqyi1aEfxqj9ifDYBOUCdA', 'QG5Gl7K_tkOwXEiIuD8XYg', 'hxIbJx1cXjbEPArV-TpvVw', 'Fmqo4SLlwzxSTo9ULOzA1Q', 'nmP6kaI7qsC6lfFEANj42A', 'YEARpxk0aKKsdjP5JQHb2Q', 'tw_ggiyQ6Xz5mPt_Ez3mbg', 'cg7xbw0FtIKKjVIC3cO0JA', 'hVJb3rBQu7fNyhX_psXqVA', 'CgsaI7_s3rRU06C86Aizsg', 'wZ8QyQcRJO_U1dSckJR1uQ', 'SeT_aTIDgHXo1W2iAxRpeA', 'iWUeXAeykrT91eHIryg6lw', 'umE2Vrvdjj9DsISu93J0cw', 'Rqa-LPjCECCGfZSKU0ZJgQ', '3hVz-1MC4QCHj2l__5Vbdw', 'p8l2HizVpo8NSJ0Je8yPPw', 'iJVa4kp-erTPRYw7i1vnFg', '52_zs5EXYyZ9YBeyyYw-5g', 'q3Xa6Z2TkmKfrYxtNbTkag', 'K_S0vhpNjjRUyXYaN08ZCw', 'qfTsoz1KvxIbhVrwZNwVGg', 'GbnseqqexlHCFYtra-4bKA', 'WyXiWQ2xeOKgJ_UiIiA2vw', 'p6M2EjTXAhtkovlmAmRrBg', '5Bl9m7Vul8NHjgqnsuw86g', '9O0Ey_XWx2LqjKjv5wvnwA', '0lTDwAhjUpkDtlJgzBQ1GA', 'ZgZlsOpN9s7JNpP3kIfwIQ', 'b4uEghqvsrcTouUQIpfAWA', '7XBOHQUNwll0Fz8dMwAphg', 'gO062Gw7TRljLSdp9xdD5w', 'h-OV7HvpdnkLbVnjRao6ug', 'sNnPLj8Qr47aSO3Eci3p4g', 'V6litNCCbK47xefJe6VVzQ', '3YoA_9iMC2D10MfIr-xTWw', 'Uzm2qh4Tgph3kxKt8GS56w', 'vTtKt0vjO1zJsd1pw30--g', 'UhTvMGhecFSPSqZLE9tDfA', 'evt65cp2v5-RsLJQXAMvWA', 'r6NaJi8r6cX8RmfZHfXB4w', 'NTPs0l1vTWcDaHgI9tXyAQ', 'DgvmXYFxMWx0mDYRHYeU6Q', 'm9KYc24oqkuywnotiiuttQ', '9y_vhoZulYJih5YH9Bq6cw', 'gmVlxSCsGjyt0qFBmFKLaA', 'd2zPgwR9O6a0lpg-8BMSQQ', 'baxWsKhwPvKbdvxAOTzy7Q', 'qZuKhlZKDGEDHNzZoTYsdA', 'r2x6Zl7ayNKgEgR2_jfEyw', 'y3E0Rid9ZGB5-F58nXdl9g', 'QdZAT7U1aoU2MhOfj_5jvQ', '7gC7BgwM40XxL0UQtj9J5g', 'x4Za9ZFL4F38B3AWkzfZ7A', 'aH4vYiCoKEIPMO6BCKBTSw', 'c0-xcXg2ZRpc8Wl2lQEjqg', '8YG76WSyo0gD9eX2EsQqOw', 'GbSyqtuhSMSIo7Ahp_t9zw', 'Lxrz8wWupricv02AYue71Q', '_wR9CtA99xps1ZDFGqFp8g', '4TvuxOygl2iorNFbnxdtfQ', 'qbq6iGounN2XWU6jJAVjOA', 'l9Fel8zUjNxM156aectehA', 'LZYFnE0d8Pbw16wDWtxwQg', 'qdbB__oz-M5JMv-rWnkGZQ', '_wPBNYsDRwCuZrr_SJkv1w', 'Zch5xcXaD4I76DCw7KUMwg', '1V8UtcwusihJcz_oofqkmA', '6KOrFr4xsjNqISWd_eadpg', 'ncfJRhbMbBm_SAVkM7M-hw', '8KqHEQjf38cT8MoJJsD1zw', 'T50ylmi7tpAXQNb0p2lbrA', 'DDWB4qyDTluNNL0BMS90MQ', 'dKrAvboXY3Ln5v23mqknvg', 'aAghONNEHcqTpZYscCMvrw', 'F5sW7ozRrg7SvGMfuZfjdw', '2-J4s2kvzNGKwoL0GIZ9BA', 'ftc2wDfpNSapUR3qnnJoOw', '-uJYWEQ7JrvoVLjij20srg', 'aabVv0L2LEKrJTkPZ0wL7g', 'jurkrzSXImkc5PBS05zOCg', 'ZCK6WqLgZsUqqXfTZ4FOAQ', 'B03FOtySxLrZL2VVbuHkXQ', 'iZaBxsvZWOMRzgWCULigjA', 'DzuajH0PoblIWWR5x5Tf-g', 'y7ALXxyfBVRnQ5Z5mdV-FQ', 'gJcrge-ziRhnH713DDXJmQ', 'GRzzJVNuN2kReUqV9C-f6g', 'M7s-Ny9NpLRRZKHK2qaOVg', 'p2g8U34xiS0BKcC-HcRsQg', 'mLsUDsF3SuC0wuZmIOjG_g', '_zXGP2469ghrL6qhhX5w5Q', 'BOJUeRpVRfBT8vb-DAsFaQ', 'fn2i2HISSEu4lcCDhiLz2A', 'gPjdqM9wnJcx3lH0BjCGAg', 'zOlZdJVfcZFiDA9IZrjAuA', '2kQuGN379kMVxvx63m9d6g', 'DfUuH43BkxaYxkXGCRsnfg', 'xyYs0K6ORNDgGMD3ee_niA', 'DyxfbMinM7LmJAkPahjJPg', 'dJHvjiRK8f3CABAx6o_KYA', 'KgBYwocsHebAT28eM5h83Q', 'hzgRvMFYf8ynr2NrwxcSGA', '8pE6Pc6scXUe8_SVc9iQqQ', '4bS8KOSR_0DE2I5ujFBj8g', 'PqiiF1lzHEJHDMRvOppQ4Q', 'shAnJats1Q--8Q81q2kVdA', 'iimccfcL6LstAqf3y51FNA', 'E8ysDG0yf1GoDjoTERTDmg', 'xaYNkToTH0OkNGNFxtDvOw', '6g50ZtOKyH6v0s4WvqW7bA', 'sn5Bv6zsbQxY0QKSM90y8w', 'dZ4QJDX5Wigz5V0nc0lbAQ', 'L0e8I-Dsw5uP9Fgsp0ityQ', 'ZSG6C1dvu6f8DXmgBsMASQ', 'eYYtYl0q8XwKg3Sk33B_Dg', 'J1xItDCe9NKe8HBkIGyqhw', 'z7M6AAm6rZaqaUbCdp1luQ', '-2Y4RMGgxzbcuKsHdoqaKQ', 'xAEItHOKpZUOILx_TgAH3A', 'RzsuyRUZZ8PqwVlO2hUILQ', '3x_wFR3zHrTtCznM3ueUvw', 'wx32W7PMf0lBybLzt5h54A', 'OxdJz-B4b04rdlbyNWIK1A', 'IY530cRUe7UxXWhL_HTUpw', 'RwYUj6x6HM-pmki7eE4MQA', 'k0Ab3216SdFCHHbRdQkynw', 'VKZXcfLMX_RNKAyC0fk-vQ', 'GOEGV3xmsJU06yASAtKD6A', 'BV8dd3SCw6ihbgHxDkxuJA', 'OkaLrM-m7LRWtKDFv-6JjQ', 'fhg4kHGr5ZdiJ_3aZesMcQ', 'aDzm_jmG9MiL7yBMSNNLfQ', 'fvG2179Uf-_DHM0G4-M95Q', 'bPCiI624CyYirVoAcszXjQ', 'cyqF6RphWOFvoil4kSVhWA', 'pOQIZWnjITM4ZUPCoiavwA', 'L7_9dY3vMlkrIVZOuoNTmA', 'dshp5EKDbq3ZOqg5StvkVQ', 'ltYCvomyEp3KGou-jcxRmA', 'rhWaYitTCuh80PazQ9XaYg', 'zAemzOxBP5uMl1Yvq6KFlg', 'WMdeeCLu1hC0AcMrYIgK-A', 'AOl1ZwAe8psD9ZciqAzZOw', '6YBIQpFpn_SXB950N58jGQ', 'kPL8IsaaMek_BeyL2bZZkw', '6EsrfluOFwV59zMKyu4osg', '4_egG8bMeohOTRsB4rJViA', 'q_3HAc1EFRelCX_8mR9dXw', 'Qv1W7IMiDbocNEyS3Qb0Rw', 'al_3K77ZWeRTlmaEbb5gnw', 'CO3RwXnjV4B8cIsHxBf-rQ', 'eTtFR7IICPUuAakj8H1MmQ', 'zWi24S-Q3lksWfSDhmNyCQ', 'RfYbpxLAahPIm2mToLRvqQ', 'Fzj9mpBVXZNzoujiQ5BF0g', '8bpekWMHjhGvoYIs1TBIFg', 'zQ_13TEuJpOT19LSoXPYYA', 'UfGwQvEFTwW7pBWupXgMjg', 'rw5uZkyyWW4E5lzCZ-Gnvg', 'r4i4-yoiyK9fmliVxO7SpA', 'Z293MEvRqkRplGnt02J-QA', 'dVPqkgjLodU4xuBt-GmJvg', 'GllCU0Qfp8bc7uv6BdG0Iw', 'w_mSZQ_P0yLvQxHdiCsA1w', 'hmASMxONfSX5CWVo4tZxmg', 'aVlwp1V_3BuLlqIkhGJLmA', '5AbJ5K63bUzFyV3-IoOkCw', '801QEtjG0fPsmA6e8ijqzA', '4MntDQZOtvZ5BQ3aggmP3A', 'SEYvDnvNZgTT9e87b9kFRA', 'PorO0B_V8yBOhlX0gHNprw', 'xAMkngIU2VoU3q3rlddP4w', 'rPxD3Akf6xuurGqLDxItsQ', 'n6oYi3MD0ckxMi5LJ2KBXQ', 'eogbe6YZ_2Ly7xKItre8pA', '44U1sj5n2ANgLc4ChoIgNw', '5THXV2XWYGzRvbkFIuEGwQ', 'jsSpGpBMoU1QOjNkl-JOLw', 'jZiZpRn2BgkIBuhG75lGqQ', 'OoXDDKTWs737Y3HXy3TlHA', 'BacdHh60A9E_0j7G-oZ7iQ', 'QXK-VxqJLfQuefkg0tbM5w', 'BmBYWfvOfoQPdibr2cSfuw', 'eGcNDKFJkEBzLNBtGidHag', 'hASr6BHj8BAYrdekdbi79g', 'QUBxqDqdF0Bw_irsWbP0cw', 'D262gRmdeju8c6aqD1AaSg', 'm7BVoYeBBdbze6OBvfGENg', 'xevuOWXTs7OaNyHjfu-Pdw', 't4CuTdAPSKb4LhBygbBQzw', 'xBMgG2QS9YKGbYDPnq3MLw', 'wt-6EZUaT3L_miv-o-LzXQ', 'AwGo1UsAdhl0optkDNM82g', 'wtkxJczFXWbIMR2Gx_VgQA', '3fxuTgC2LyOyoIQ14uG9Bw', 'dgcvXzTYanvX9XBQD6E64A', 'xp_Coy7GZMNiVBZyLgM8Cg', '8_g7ujHG5Wjk6ZzYWA2UFQ', 'ubH216hLtJM_LHXE-XjTsg', 'WCUFUuRwZlXGy-h608p6JQ', '1_sHfGHXMFrRf2LhYWJqcQ', 'aPf9woqV9gXtEASzPOBJkA', 'SM-IEZIixktQvBfakUGSNA', 'bNl9c4mkiNHwV-vAbAopYQ', 'egWQi1Du5Ce4s3v0jDeQlA', 'upiNyVGolnvdxW7S-oxdCg', 'his5tjdfrht25ssCIU5boA', 'ml5HFmwDOn_P0-b_tOvayA', 'jLnDzGE8sBuQOwlN5v87JQ', 'CC5E6l1ddMLfwYN5OHW3Uw', 'JLw6J7h1n25YLWwF9UzCNg', 'jJpaSc5GyYtMCX3EWSOy0w', 'M2htUAuawGoWtlk3onBCaQ', 'jOB6yNvhkEkzkmbGcaVPvw', 'i3m0fuCqpyMqQKDXxpfVrg', '0FsZrLUn3Kp9LMy6gMZm2w', 'InN__1wzWys3w1t5FFXclQ', 'pRp0ZVvQa2H8nr4xwU-bmQ', 'YxtnHOVZJxWppqND-PZX3g', '02b1Ky_xgoD-1xfPu7zF3A', '3zxOlHT6letN-KljxfQw2g', 'YMRJ5krkQO9fmGLaNc4Ojw', 'pqhuyxqs7rie40y9yn_BCQ', 'zh_fKB0ExbV4Bnzov3s9wQ', '_NxleFY8hXKqSMaKYT5vgQ', 'DiAebRxL0Ga-CbbkRRsT1w', 'NgrpxCigcQpToce0U-0vHw', 'IXy6RHbLKxNOHys4xOWpLA', '35qZ76YsD4ZTY2lSTsE9EA', 'ALSW66CPzpFsYEh5LKEr_w', 'YB_p6GdvIEELJmrYI2Jn7w', 'dkVK8OFsm-FHdSECtnG3TA', 'c_8aK7HkvLGdJxaHyk99Xg', 'jMyvupcSxq5YeiPNU7mS2g', 'YCLyfJ_TP4xrZPAKsXIE8w', 'iMjmeDUZERCGkwiZZKO0_g', '2zUj18AZXKz8DETH0AV35g', 'WPViUILna5WLcnbWA1O-yg', 'dOBvvD9d26iCC7-47LlTpA', 'SjInmYRP6E9lX9srzd-rjw', 'rZpDjofRi0KXPbgbW5jMDg', 'CEkf3eHxponhF_KHAbEH0Q', 'X97DyHdBdm7qvvudIwRpaQ', 'vYnEUNT2ZJ1KzcPvxgsygg', '0LKw4QvtJ4k4tWa_jjIYAg', 'xxRSxLozJF4ROpXNuu4k_w', 's2lPQJKjhUUg3t3KPbAK-A', 'uhvT2QJ_llUYvQXQy0zVfA', 'Ko5T-uJANaOB2fqHE19qmw', 'mS_QNrwLNDR2UnyjhjCsBg', 'QVz_hDgkwyhp21O397dUFg', 'Ly507VycXCaGhK38cF3iNA', 'JCSNHwk9Ul46WFua0J15lA', 'jY2C92uzUzD6PyUqzlBCOw', 'yO7_Ax97xuJLNhMk1uqFNw', 'FJFDIOQIFTjN12MfuXqyTQ', 'XckwOvTTnXw3MYBFfAfnlQ', 'Y7gupSIbSThX-g9JRdrPHQ', 'hKS9O44ylX0tPEfXhfZarg', 'gr8tlXyxsH1sso3GMfvhog', 'Yx0BMwrud1B_NYpT1YdaDg', '-99RGFyI6GotCLkNguXeLw', '2Wn_q8m4Q36g93S6fWGmQA', 'cUQChV6oWD-BMXfl8DGcdw', 'KB9hjaXQtIaXcbdM5MSS9w', '0mu-q-Vwu4neFkX87YoemQ', 'KWw6LFnMF2ZRhFIi4eB-eQ', '79XMDYpfJtevzwcijEr7Xg', 'zAEUCcL5AXQgyVwGmtOaQw', 'I3KhoTTyvjgSqUI-7AColw', 'iEPPqDWxquLcazt_3f0G3w', 'PZkniFooJM8EJ7Fyk_IxVA', 'LQ-9rOg8sAZ6b90U1lMOYA', 'Cgm6Gu0m1yBEDpCALsrnmQ', '_5xwGrD5-GzHXHL27jV8gw', '-XZ3ZUpHaTKkS8EH8iVv4g', '0areRvr_Hj-SxrWSPpb1LA', 'i3qs0px3dpCX9DgCY1Vgew', 'SXdy02AyrTV7MbVvAj7Q2w', 'HvZzxwSjE26RCTcY3rbnyw', 'vLl6ZY0RbBX2Rh_PDIywmw', '31LX-F9P59rYEBfg9cSZJQ', 'DBIzpl_BRW5Ozzf5KDsTQA', '1fDqtkndk22P-HpQ6ih2XQ', 'SXUVJ39uyT7PER2bTT0gQg', '8dwDscWb2lzlJZ9A4LOIvQ', 'MJobZRqfkrSYTd9WevB2AA', 'JJT68nKqxs3RrF_wrLAlJQ', 'caP6pRu_7bHTjsDhi_qOjQ', 'xiL0xhBOQuee_8uUXyfsJw', 'wIU2JrfchZjFpMrBMFMQGw', 'jmgf5cp_4za8mm6PhGaY5g', '4n0cNAlKf7VLo-PlpBqpmw', 'HhB1H8bnItq3m0nEq9H8dw', '6CUtePhC7-AxP2QeZgBCGA', 'CMWBBxgfQfZnfXHrllm9LA', 'g6GixTJLoqNvh-bXGk6gDA', 'fg7ZyyOCkHhwMDsOXst8YA', 'pnbs4xGCle-Cj5Nzgyyzdw', 'OXYuHJv6yyU24pDNfARBFA', 'WiyNIfyuy2ueze-ziI29iQ', 'e_nf7uB_VfiVNO8i02gwqw', 'fTdMrQ5LO_CIahPnH8MQmg', 'xg3eyLqXYrb3jKt_Z29bXA', 'jjflxEt5zcOL2GMcMIWuJg', 'mO5pvtYGpBniysRkIQCJLg', 'w69Ii-wgT9RwzD0wSJEHAQ', 'nHkC3vA2RhaiGxQhZzS7oQ', 'ccLP2Rr1071mJcUErAfqmQ', 'kMCSjIeEtNr6A24zP6ChIQ', 'ReGcwBTwer25GbpPXOCdPQ', 'gSus0wHNMGViKHlJD294xQ', 'U45MrvrOPj3PXqnRCF5_Yg', 'x7YwX2iquNeTz8QQaWmHIQ', '4FMoFkcnlAwsrzUnNZXyXw', 'kIgGzv01w0uKSDIF3yippw', 'b0GQrs1iPGBRWY-Ceyo01A', 'y7UBlZjOeSd1mrZMidktig', 'sCTuyd4WZLscGus8JKRzyg', '2jH9gaboJjleb69utaHOLQ', '4cLUq6ORZnRY2kYmnYhbAA', 'IW8h3zFeta4hrUMpttZF-A', 'mG4bg1grvhklj3F-RCa_1w', '-TDELQMMQd-koa04G1eyuA', 'QXPdRi3O0Mu6x4nu5WlLaw', 'ljb53rHBZVwmKY9Vu_xIaA', 'z1xJBY_8cz4ahA6RabFg2A', 'NLQLfpkXYeKklFr1rjCb4g', 'TLyczJD1-jKa27XsJwX_Dw', 'vMrYFlQpD2jIwcZHXZzVzA', 'mgOuyb26kSYGfqmOnSswqA', 'FGEGryFJJVWcn6T7AZfdkg', '8LNQ6ihqoIFsEiY0rOPeIw', 'NLlYMhT51T8X4niEzBTJ0w', 'Omj9buQVHVjLcqwdPR1nzA', 'poiJO3i38NfUyXx8B8j1Mg', 'aMgpxGmoBNrUU__v4uAUTw', 'x6gHGz8MgWFm6pK0Gbi5MA', 'TNxfJaM3EuRQ9b7UD1WNMA', 'Kesvs9F09Fe6rs7RbjdZvg', '0rscMHdaK3tUO08RxX_h-Q', '4ORXx_zdwHzCfKoU3XJV7w', 'Vn0GMrHoZqCCmpinqCK7Ng', 'dwtC6L7bE-IsxqWUF116uA', 'awJmpHkO2AovRhQTWwMxYA', '3chbhSkS_VZx4bBe0rNaTQ', '_Kf8nB0kdKJK3UPJjWcEZQ', '921H55kYkP_dGfZm6NGnIg', 'U0rlK-gSOz5MCMJI6eMpmg', 'RRVs4VcfSfGxiZq0mnuRsA', '72lZciJbq4zchH1uTNURFw', 'qQS7Qk74qAn8L1Xj7wolHg', 'dDLyzdO1f3nxc7-e40loXQ', '-mQaWsUMXmdSyUeYoStPMw', '4Lsb2TqbisNZRR5zaB7Meg', 'KGJUY2Y6DS6BO4klA-Lcwg', 'JfAAonlwLjeVap6fe4wgzA', 'gBHbUnKtTMGadXaaxOWXIw', '3qYhxBIV15Afya1NMfiQIQ', '-CFK7OQWYAm8W7PIjX7_DA', 'EXDm3MZtOPekzjVWSuo8BQ', 'P2C9po2Vph3h0gNF9MFLSA', 'sbz8aXaU_jX-vW2ZMadrMg', '6nDRxfUqlzStUO7X6pLCNA', '-E7gejVx4MyWy5jdkRK-WQ', '6Vc04BOk-hMmEtToK2w28Q', 'F0col7wFFzB4djhnTMmCSg', 'aZ3ShEjcD7rqs4gN85PCDg', 'iVIJggPEqJx6ziCSGArBwQ', 'PUIqlMJHOX7HNt5f616vJw', 'dgJBQx7umfJ4oyMezlirkg', 'k6mk5KKN5QxtxY8BBMLu7A', 'aPbvuzElx227xE49SDN9jA', 'czRbJW-_LY5j250ECOHe2Q', 'm4yKuw1JiMm3njiwNyjLqg', 'DorAunwzkMK8LJvhWlHmeg', '5f1QyJDx0vh6fCUuRFuEjQ', 'zWy9OV55c0iC1diD_NyOtw', 'JzTLm-ct_kD8c_sCXBm82A', 'nNbYuTuDtj0IIbAtWxk-ew', 'qYVeXvnK86OwLvHXkNqBFQ', 'jdNBR_cpSXiT23DJUUWrRw', 'NaTfux9EEGYKTe-hK_BjSQ', '5IK-VDoGdzuVpvCETsYHbA', 'uXgV0AFWImhRu2nPBXn15A', '0_237z7qKXUnzClE75xlDA', 'iuUBQTN7i9nJxQj-snbHqg', 'M2s87rnBrygeO4UfEzdYLg', '8CJVNUcMI3mNzxKOuEXF9Q', 'HtwTTDeHp8Marwx9XBg8rg', 'fF1ho0At17lbVaas9jzfxA', '1yPfxgiNpA2EztbNrJx91Q', 'GAThQrZWsFRx9yGSeuI5ww', 'zst1_yr4z8XeV9ZR6O7l5Q', '-hA2PVOs2WralnA5zatT6w', '-OlUhviY-M3olgxaUp8qMQ', 'vMR0zkk2aPqn_fJxO7HNYg', 'd_IrwxEyert-CZsj5NQqOQ', 'UTQkPFyuSXyMwV1egvhTeg', 'XjnDNwfIUwKuKiUS8CMWmw', 'sBYG8Hn0iJ1Jpu1dJgrvjA', '_944xfH8IvzDqGbcoqe2rA', '6cJaBzg-rljnBMSJhW92NA', 'jdhrDUN4UGqtYQeLu0D3OQ', 'JCAyDJ353iTNkXNc40yqNw', 'gCBVErTen-SKeJ6sIIQoGA', 'JAWZ6kx6yoftpBdzYn6J6Q', 'MEpLb8FexAbRQTTO0PJy2A', 'bRKyTjNmaLHp-Cr9ZQp7kw', 'yszho8tWZSohAFWPxba2bQ', '0yYq6dgOx3z_th0g5GwFSQ', 'sjIIFUFAL4qPYcszBGheTw', 'xELFRVA_iyaj89mNnTvNwg', 'KZ34M4L1lWdXmkSe-phYwQ', 'P9bp1NHWxVDzTUxjCvkrzw', 'lQ9f6pByc4ZQ16LrFV9B2w', 'teZIBMvFIcSWWf1zfxLzEA', 'CoK6-miwwPESbkhBg6UmyQ', 'dqjrWF_ahMIaHgBdqvH5ew', 'hCdA1x0glB2RcOp_WoNf3A', 'w-xZQjtOKiN85WnplFW43w', '5ARA79pnbTiYhSJ0hpUV9g', 'Xw1R9hxocDOHGX1w073eWQ', 'fDpCa1ZiRBgU2lfEig-pIg', 'Vv7A_DNZe2d81tQWmDVtOg', '1nxRvbtwcxSao2Vm-JMQ_w', 'u7yP8cbDn3py8y4iWt2y3A', 'pOK_AxtP7wRhg9qCYnNvPg', 'W1Qz6rlMT0yGnuWBDGH0ng', '41olW9Bpc-NZDTX9gsiKpQ', 'sGQe3jfKwDZhAtbgPwpspg', 'iTT6i0xfh1OCtkfGEo09rw', '-8ghyKCdKpAWJtLL8LRiyQ', 'RrR2P-3A-CwuUfeiRAn3-Q', 'dLpp1P_AUedsSmpLGBF8aQ', 'vlOp6txIc5LdTnuFEJFeLg', 'pxCULg0T-B6jr4y_mRKPTw', 'pYK9nP91j41BgOgL_vTxEA', 'shIlRTBL3M5eJ-cmVRCq2Q', '8nrH9ZEHvf1m8fYIE24cyw', 'R1zJetPzjzARmn-kSfhw4g', 'Q6ZU0GoUad8BGsdM8EYuQA', 'vGwUPuDtJ2XqJvN1utxYxg', 'x6M48_Ht5Ug71LzwL7rKfw', 'ZNva3YcEzcEEgSpOZR4LOA', 'I2cATAzPfI6N8RW9MJV0bA', 'Xjww000TBFWsWL88jwn_Qg', '-HPV6qtIwAZ7QPoqrICFeg', 'Nk4ryhY5dXyb5pttIROO3w', 'HOQomdo5x9y__cV56PFOCA', 'X2uoI7wHtO634toqssSSww', '3wMzKGp0R986dUsCOANdLA', 'V0QrLlWtkoUQKQsD4Bg2GQ', '5J4kQI27P_5btip46aR4EQ', 'qeOOE0w6LySUlVuVO3bwDA', 'i1XmMJKx-ZNNq8d7OMj6Rg', 'nzz6XKKF2qu5PJGoYk8Tlg', 'd7bLvuzo2AYOqbiM_ihQTw', '8BJP8UDH3w4BUeoEyxrrwA', 'BfHtqbMpq3JAO1mO6gmfFA', 'ODB_knOv9JZ_E4o1xQC9hQ', 'CASpwizXDJ2nuJ3p3g1MAw', 'P8s5cJESx18qECBVcgkskQ', 'OxDMzupX7mZXGg0EiIpsIA', 'TdPLrvA-YvRLT3I-fXELaw', 'TaxLVHSkSzf2-p39uJvTmA', 'X_SuY3xD0kuYAU6A1o_sjw', '4NoMOHIHRYI2P-AqKuYPhA', 'GQjIgZpLELOqLndy5znt9A', 'Y-aPqP1SeXc6Mh1heKEXtg', 'qA84WHpkBKXWjCWZQEg5BQ', 'uRp-JL8BPG0ioR7VYi1T3Q', 'mk3tbsMgJtJhYaOt55UFTQ', 'o1Lxr-nGFVSFm_MrezoCYQ', 't9Jnjkju6iIuq_95N7LwJQ', 'lm-slWEm8tstVKkm5_NutA', 'mpabr_30H8UMSZ8S-eEAAQ', 'z2rIMnfKEDXuR4FMWEsM5w', 'c_fs69VOoIvtH1ZWa8mPSQ', 'TYdHJpr7hWU3GOwAF5qRcw', '2og4z_NZvLOaPqEMPklOGA', '2Z2ish2M35AQnfF-w0mgCQ', 'qf7APeo0qc7ScbrslK3TtQ', 'k8oVmD7C2H9aD2EIRtmQ9g', '9YrZp-LVEkqZJ59tiIKdWw', 'CHFi-gUUXo6moQHWQi05zA', 'h14SMu82cqI7QAkYkB3OPQ', '2JcnlV3it44nTDsjYNt4EQ', 'Q-mkp2HvtlwcBnUp73zp4g', 'JIaDJM-7pwohxHGjg0gN0A', 'UQHuNsy6KswvpjEGo-SA9g', '1y5Ode9BEPcE37jJEae_Hg', 'FnpjjHaSydCoMlhdWzPtKw', 'xYjnYq_u7QspPkr7tG3XjQ', 'zAqcEKkKNSwu5uNaOV7m4A', 'ro1JiKwunHk6TvdyTGFNsA', 'maWGahHgFwA6rUXXDpFDPA', 'WnaGUpCQcRi4Za6hN2e8ug', 'tDoyT1cOw-VpqQ5LYxv54w', '7eAWvO6V3l__uAjM65qF7A', 'VLaoLLxdvyiEX_cq3_dUXw', 'JVpP1Oj9G3eBWZ2U4SJx5w', 'yDS-H6q6OX4FWUFaNW-SQg', '-bdEnoXT46buQ8ntX6t5bg', 'ETkHN51iY4gmd5WhDG0QVw', 'GTCl__GlqYV58qrvWqSDmg', 'PKu5wIm5cNkdr8RVYIwH1Q', 'XTqSzQgTEEVOh0ZMHkqFEw', '7lX93Tx917IdGypdXsT5tA', 'KV80xTigDk12Bwm7eRps6Q', 'PsrBDnnCJCbPm5z9X-D5PQ', 'zjO7Ll3wKzrCO2_3XvyAZw', '5wOD1QsQgxvlMUAffNSj5w', 'HWDyuRaJf1HDYIorP_fbsg', '12Nu11yWaKd8cVQdPxGFrQ', '-t5OT-YlxIOyfaAYLPfnsw', 'p6sKKIxSl_AgMG3pvn6MdQ', 'kxxf3ZotHt0DDyDcXh-dQw', 'OyulWq1o7NVi2REwFUJToA', '36ebE9vvVv8kbwFoPNYUeg', 'S7QShfQJ1VFp9dDplvYKXA', 'WSMYbBQDXcvlYNvfmct24A', 'bIUdlKsuhsoQ8xW0IOpHYQ', '8W3RYRVvVqOWUU06VKi6zg', 'Eot3_D7ETxNBUge7xd20zQ', 'q0r8Mo_6XAcZnQYMlBVVzw', 'FY3tKsGskugc7wndUwUQlA', 'VUelCbRFZBMwBoQvlKpO5g', 'o2zUhs-0yr0mISIhBpWZ4Q', 'dQ_O6ugDysYDorj8fCwfkQ', '-mZopWztpYvqotyS9sDTMQ', 'k1fs8wSecZcLl6ttANWK-g', '8l_1KBxAzIJfUsE1N-IwWA', 'pPmsRTQ2HhimJLTKa7GD4g', 'M3kllGswWWeatVQbwqbUzA', 'KkUA0Ml7TnVXSYCtOyT_zA', '_oygKycIzvi6gvadMvlyVQ', '8NY0rePagu-temCqXQKY2A', 'd20MlqcAW2kCrrJZ0pcm3A', 'Fz0lItXfu3ooQXEb3Jqveg', 'wug-JO5C4N2AHsiyO3VHdg', 'SGUPPHiz7wxEi0bRnbonwQ', 'fg5hH83Kz1V7edxdZ4v6zw', '3VDgJ9Zr5cfOCVllJiUTCg', 'QxMUOsK1fbkfQuta4qfWyg', 'srpTFcXKZWNrJVdRjiuuPA', 'm515i2AMRL8xXgPgwV7abQ', 'LUkMxzKUcLrCMZzG-FVeRg', '5mZORjjEl0i3fF_8eoKaEg', 'zRD6BV6yAkqSCGZ7oDgneQ', 'aXmK8fXpfIvDNLi853z5qg', 'VY9ZrCTBHckiv6j3LoAx6w', 'Z_KaCUNNfSV_tDxuEjkyMA', 'TUMTWOcIL2IIJGJ0Am0MrQ', '3Q-Lcu4uKHimPgXFLcMe1g', 'K2cHhDj78NTHGJBxGWEi9g', 'p_EnqClphX_v95NvLwu4_g', '_muXQma7pJ0XDlRc3MlodA', '58E2hwDdmEq4GX6vTcuGTA', 'n_5Mbbi8K3F_MBnAP7CRlw', 'Q_tQnBXSNQ15VnZrIDotqw', 'e92M9aS73OGN4TSl7c_DAg', 'uLungMiJj3qvf1EsLXg7BA', 'ksKVBjC9PEpb5bLnhjBb-Q', 'jM6AUHoTEVIeZ6P8WXUDhw', 'RyOOg_XDgMVMHABzfsvB_A', 'eajvJzTHxELw2eRA51mtKA', '79YxuHAonx9faSmJDYZgSQ', 'S3kbMwlHau3-5FNeYq9sWQ', 'lT3m_S7X0RHiwOvdqVEamA', 'N7rwrxZBOj2jvivOvkWXVA', 'z_0eDiO29gJhFa4Me2VKMg', 'hdbFtBcsDNrFhDmzhDOajg', '3GahkbEkxZenHo6-lc5rSQ', 'fVMHNLVkpiXEu0_X6nco9g', 'ukPc8wSxmAxEui2PpB6bWg', 'zEzpW7B4gsgEqpvFK75fcA', 'S_ZDD8pya16c7OX7qWoBeA', 'kECgqBIAzhLlk9bjeHerXA', 'IEV5kcQYvmotmDyGT0K-sQ', '6k8iAbEW9sUjipvnCiujig', '94ogQN9xaegZb1DBRwM8cg', 'm7YUlf08zDHAhz8Msoaw6Q', 'bqR55AqsFjB8IJD9XEY5Rw', 'NNd6c19eHf8KxxcjsDRASw', 'tu3Q5pWSLqqrhT_LSHKSMA', '1YVcGKgykuzJChVkyX_mMA', 'mUlAEtdI2GBau51vM4gweQ', 'XKMfSZN74FLfjdRbTz_k3A', 'dJITqI4aV4zJZH2cXlmrmA', '3MF85LmfBZJmIW_J69l71w', 'OcNeykmlMUzRpXs3cdxnAg', 'nxsmEHp6PFh_xNXAcpgXqQ', 'nqpPkudxH-XJTb_32EtXsA', 'BcGk8ffqWSuZ9_JHRSepXA', '2FhJoVx2h-lm7iGcNNcueA', '5DE0Hm9wk6OHYir_izXh6Q', 'RVALoFAMqYrCrgnezkdiHg', 'wEsOZ7OOgMw4YUj8MZBHDA', 'fDCCqT4XVigm9o-g2vVxFQ', 'hKDG3kznHQlPnAntey1BTQ', 'C2MVl9Hfk_NnlTittNv1qg', 'ZLWfJiQHKA7BjYMjkLcAcQ', 'gtZLTyc8aIBtHdmCDaOCPw', 'U7cCgOAegexpSc2Vv63zsg', 'wAMrLcSNM-bw_aCyi_NY-g', 'FQG_DuE1dgGmKI8pqZmLDQ', 'SDM-E4T5AiIcqYskpZckmw', 'h-gV2mMvCICd5GuS-2HkjQ', 'kWub_8C7wjg1LipxXsnJWg', '8sfgN9c5Oh6kdfkz3R2Ndw', '0O-yo9MqFgZkLh9VH3Ndlg', '2-olK0JAMpGT_ge3uSsVPg', 's9P8icen-HFG_lzzJRTdww', '93GO50ym-3-HLN9LTuqPjQ', 'qkA7N47ChnNSJQ9eXDzHkA', 'KSjURXy2IXsoD9h0xg9RaA', '0Vs6IpwojgjMbsJShhPwow', 'BXhwLGScqg8wpMB-5MsSGw', 'j9ZZ7ACkwbjSa00FCDhapQ', 'BjSEbg11jMitZUPNJSpVRg', 'sgrKgoJG9Xuc_7Dyg_3sBw', 'MXjIuqw1yAoT-0F2dypuCg', 'O9oPSr0KhOs-Wo9kuv_DCQ', '1OZK45NMVdzhW58U8jdtHA', 'fkQZXgnEY6bKucxzUopx0A', 'zjh_s3e-Br07t9tt972KAw', 'HFSMPDk249EeFX_rOzRnYQ', 'IZS1FddjYwsIjs9lrQF5Kg', 'CStTGqpUArOCvI6AuqPO_A', 'HE2v7FLqf_GZ7OMOeyMRmw', 'r7jovfHRV6SGs3b3dD4zLw', 'SY5Dgk-xIzM94ECMKxxCSA', 'BiFeB1YyoEEDdNJXOep4ZA', '7-01ACLQWiB4jF4V9YTLGQ', 'u5QWmL7_r_SS2v0AX2ntYA', '7i1E66An4z1xwFwLKXcWXA', 'VjYa7uOV7I8zK5HRUi3J6w', 'MHmdsp5IHYjXRbm7sMEIPw', '85RoZgvB9Ye_uvDv-laCtg', 'wJs8fwPSQ0rDcBeAu90Vyw', 'ynf6P6wk0qVeLaEOOBfHlg', 'h2xDbEtAO1YHTJ-y1zo--w', '8PZP_j0u5TU_a7nB-SrAWQ', 'VEjZP4_VReA3yD1Rpg3nNg', 'WRLHHqHVHRCnAlQgaUDZcg', 'YaMxb1dfWBsx9Bd9QMy47g', 'JT7IuagTwpcRDvzozjwbbA', 'c0eEYK3g7DRgpd4j-zcheA', 'HrN41cd-z3q-CpJf-sOdFw', 'tMfqybmmrnw1tPnKRParDQ', 'YfpA-Ftt2-la7Q1JUSo53w', 'uisTdvofEVqjEaOw-9mWXg', 'pjFgMugEXSSTly1naz1Mww', 'GAse7ckBmXBIyeJLAKPSOA', 'qMlh6WnM5I1acYuTeW9feQ', '744EtxjdyjIn1wvg7IGNgg', 'GcCnT0B3JxEKTPIMygEshw', 'Ta2TGnJMm1fxtqx_1AXBBA', 'A8LdxTtYebgsvp59420UPA', 'fTIeyfdeznVEjFGvf4dZhg', 'UMV2lAPBRGj-PvBzWw94BQ', 'padj-fAZJd4b01PG_kIwuw', '9iZatM3YD6WGaGmUo5R-sw', 'xT9IzByWNiE0gFNQO_ibqg', '-mJwet3VyMPazVuVUPIS3w', 'Ara9kbHnH_kiwWf03Nr-dA', '1wC8LmakgU-FDEnjPpHaGQ', '1l1EXTnlOegNhJlurgpaoQ', 'OM1xX5x9hKZajHbRFkkzGg', '9Rxd4nL3jpmvoql3gAAcNQ', 'N6JlXc4PnybkcD47sHnPyw', 'gHcHCKZcdv-ZZ478nG37mA', 'mLuhNbPsVVx39GB3wUZ28g', 'Q0WRskOuddC0mYW2MOmstQ', 'NH3K5TDJew6g4yz1Wn00dg', 'bScPwCn587yvrjb4IMxXZA', 'F_U7RNSPVgyUsrUlewbVwg', 'CzC7wZKqBaM9JgvKYjLQIQ', 'EL0pAd-1KpKdVeIX2NNZRg', 'm40dog8W-kqXL1RZOEyjRQ', 'x5p47ujOqC4uwXdRhdIAUw', 'i8vfCVFWGCQQ0D1zGDNAzg', 'nwQnj07sbhYOs6WidDppvg', 'cb7asw9yrITE5mfMMfDxyQ', 'kagAaSqHN_u6yuRFxChbFA', 'nn1v3nEuDeMtqFm_j-b2dQ', 'TCca8dglCglOmo7CYLQHjw', '1TNfzfy9cdNy8ezV0gUcWA', '86qwo2JH1W-cI-9xy_GOdg', '-TN1sN8wicHTPV-NhNilNQ', '1vhZ_xpoyP0NQBSbaUB8ZQ', 'TmGKKOGgUZIbVzI74EbtTw', 'JbMjz1GT5PJJCnlNuhPaNw', '1jAEAo64lG68kFHG_Yz6bQ', 'jXCejWcGUhroD_6aULxk-A', 'FjiGpUclL1PL6vLErDBkNA', 'T5trX0BSMCFsSMJQt3RhLg', 'o1EeIA73ArdFcJQQKbplgw', 'oQrkjfGDZhRtPEbpBc7FuA', 'oA_JM4l3_RS9ia7LKEb0DQ', 'faNlxkCxvVCjMMonuVwhHA', 'D3BL3ywAwnC6sHYRnYmf_A', 'Rywb-o1ct9MOS52_lodWwQ', 'b199GQma3Lfwo6aVwZ3_Eg', 'RimiXiy8nfq_IxAqj1mIcw', 'aWtrjIPHU8w4D-KzODrANA', '31ZoDyh_pUNJdYoiXou1NA', 'GAOGiRR_hleBo5_yheI58A', '8oo6KqMj0ZfxCZICJJRI3A', 'svfYPXWtMfazxVdh4_Pkbw', 'ENf6VJqTMg56kfVwLSAO7Q', 'w6ELKXe--mD0a5bpkSqbvQ', 'mQu-Bg5Y1GnQDTaDc4nyTg', 'Mf5FVjfndL_qb2hd27GVCQ', '7ewjHZzKTpdBd5zLTaZO1w', 'BXjcrc5ylaVPEWrwdRqbSQ', '1PsMGIk34-6RDclZ5FkNLg', '-P-UHxJTA6wjZGuVf70UZQ', 'U7WEjoPWSmJcDqeo8Ro84Q', '54qcOGR58GFG2B3UAxi9gw', 'ZzYHBEZ6SXGvFoz96DF3ng', 'MJc0lBh7jY62Zrrp10DUpw', 'FxkocsXTU6OUW-fSQG8MwQ', 'Kc6jYHt-AaMVp9_mEQ9xsw', 'zyWwva-79vlPt8RTZ4_Axw', 'UUjdQGudh9C3z5tXiijsfA', 'oooLkjp3Eqo4RcuxhhGiPw', 'lZeJ49rUHt_0c1SBV7OsNg', '_vpqWWz26Ggh94Wy_Ve_vQ', 'WJU1qSBW86xa2GfhcHO9qw', '5iWyKLdxdEVLs8WZGpFuYw', 'STr_vAqgHum7LK4z2do4QA', '1Oz0TKtfAzuAkqCgFEGA1Q', 'BAEpH7FB3PeD5_z-YTUBPQ', 'NL9NumhHVh4pYsfjs5FidQ', '8FYAWlliv6q2C5d9d-zaIA', 'xnLVmkaToBTHgHErO-B6fw', 'zZqcyeJoHCHszfTbMlLLHA', 'THv5b08qmhtmwS26tOotUw', 'IX-9WT3_Tg_bSXJa_JD8Xw', 'kh0YGM_RrqyBnmIbWTJsYA', 'Oc88Ytb-P4WSMngB0UW_Ew', 'Kf6Qj676oFDMPLRlXjeVvw', 'H5zMoFWAs-8xVaRB06X-DQ', 'jBJhtjAfHbE-BaTuGJ4zmg', 'gcDYe2CJ28EjmwT1QLZOPQ', 'AxTnToc7h2C0HPVOZtBT9w', '8z4_wxfJpR43RisOVvBztw', 'PPdz_AqEUo11-eb3Pi4QUQ', 'cWuI760ya7MEovLzMsFckg', '8hOa-q973uqaL0ifCGixBA', 'g-BLHG-u-bWLqNV6waJyhw', '9LYTjP6D00I4bVOEniYMSg', 'WKohCmQk9K8wd630OTy5DA', 'hcErG9vtnyYwvV2O8EcKvw', 'QMqF1I2PAGtSCMHl1PyOuw', 'VuPGV7_ps4Y1PnjjI4w8kw', 'gnfeT-cIO_1bBxB7i_BMxQ', '7d2rWANt19hhhr4bR4mt6w', 'GLLXS45nR2oUVL6DWJvtnA', 'VC9CPVOYqFndkVt5AsstrQ', 'm8hr00xl9RVBgkcTggRr2Q', 'py_OOcfjAtfkeSKBpqzulw', 'UCHuLnkhLyV-Qq9FgXI53w', 'mQsQSmiwFZGXkRYVY-a5xQ', 'YPB6WzVL5_eEm1QcJA6kvQ', '3nyuvfFb7qb2PMTLzlKZPg', 'HzT53C5SdF_ukJ2HN8p8DQ', 'Coja7HSTXJHhENTx9AzgpA', '-hfCRKFxSIKdSgou-q3Uvw', '2HtSSrap_s7g3o6u9PW5kw', 'pn1iX4ZfabeuDrl4T4lCtQ', 'c8nb6cwfhTEIX54rAVKLGA', '3DSvqg1Vd9kMrlXE8hXi-w', 'XEYUSPQFHrZ0WDEXmyzFoQ', 'GUj17v0oHP96WSRLD53Nvg', 'o3ppFlKeYupsDvjHh_gLvA', '0DMGlicjxBP46kvNDibpFg', 'fCvrixp7aLItX7bue94Dyg', 'tI_-SNn9ZdVHmmBYR30WKg', 'ApuTGBD1E-qM6m2PQKoolA', 'FWgq5eOcEyIa6iUwdrKd5A', 'Zya-xFC5cODkDYdhk3sUcA', 'GjRxlkVgjfScxLUlGUnMvQ', 'K1kpKr_NsPxBplxE-nmZpA', 'f3z5_vMugqyv8JG2lhC0aw', 'YF2-nXObceinva-pTLvsFQ', 'RRAqCmX-Qp_LIgfBvxBBRA', 'cY4uoLQjkyqVubugJAcdCg', 'VvYPsYriZYDJdGE1JD_3_Q', '_KpPZkEF68tf45au0Vf7Ow', 'Dpslj0SNkln7Jgl4iNQoHQ', '-EtaQtBwIZNd2kumuSOnXA', 'SpxxK6YhJdPMVl9xseU-9w', 'QH_hEvYXYtEk9fUtbRrIXA', 'mH8VOLiOOy2sd9NYnvD-_g', 'HBMcCP63Weq8rN01kM2FdA', 'CjhKGdUXzopAjj09RmbyyA', '98BMpn3HbdtbV5WrAoKkxQ', '33nedOK-MEWzSyaWv3nlTg', '67TzlmIa_6qfQAX3gOJZcQ', 'f1vyQxgWJP-lGCJ_ZiAfYg', 'bD9WDrmt4M2T8BqzG7t4vw', 'vP3qQ9OnxpJ-O94Sl_CPfQ', 'lNZdRW8QqAKvtn5zZEJZTQ', 'Gj5tEALZ6zbgOF0omQQzdA', 'BFAzwN_sGBIJLvoXyZWTkw', 'VMncgak8Y1kFYRua780bYQ', 'qnNGkSZmtopLm_WrIrs9wg', 'Vzp0EJgA-5CGxg63cQrsUA', 'eW6Ps0c4R6CLR5LwZn7jog', 'qfMXc82zcFzh8xskgmqWRg', 'PSBheLsyQ-6hoR8APKASkA', 'PWwFHeOxU6-Z6e4x2DTd-Q', 'me4-PWfuQJ-PMRXT-zLfjQ', 'lohFi8JwRvUAfcTqwi597w', 'O58U9cTLUMzrQORJU22sEg', 'D_qPg_9KsPbMNWOT8XtOGg', '4aMNd3ZwsU2Y_bkiWpyyzQ', 'Cpg1RzNhdOQNH6QNFHLZqg', 'eavLWOl394-xLIihiCkdyA', 'prSCjRC9DSWXoW9YSEQJZg', 'BHGTwgkqI3RoREB0sEsNeg', '6ub5dsymy2uIlb0A19DJMg', 'tv3Et34OyBawBTcBN4j7Tg', 'ERA5AVZcRHbbTPc12wAp4w', '0FP1hfY7BOsByqRMknk89Q', 'v4uyqJ5Km5kU0VaRKb0thQ', 'EXQPwEiazhhUsGGGPfIJ8A', 'N4bTQQer5C_EEJGhIsT08g', 'Ls3jkABQ8tUOCqU2ixwJTQ', 'LX9pVGjt3nQ1c_PA5xYjUg', 'jgmIsYVvP4wbcw7qkGSWzw', 'ZELwmcr7KW1MNqMkAN9E2Q', 'YvKb-HK6kiJoOduR3GCJIg', 'ObYsXqurXUfhZrOlCGqB3A', 'yBqzUsqhwm-4byo6oDHtHA', 'tYz-4Ryl-it8jivgbrIlMw', 'AN_vOfPw7ivngrZYaCSaHg', '6zwmNnhUgaz77L8kCK264Q', 'IrCggm0299YnaHTXIVQSjw', 'gw8HueHVGZBK9FODmsmWrw', 'rBcI0O7fkBZtQLtrvEJlKg', 'LLJ4aUk-vCfszyk2UfZNrg', 'xILk73SzMkGy_mw2adDL-w', '1r4tTyJBwrErBu7XYDws4A', '2-Bo4Y0J_8HMAJtF39TP0A', 'RZZomHGe4Ee6gsgdLDO1eg', 'xRREa4ahgBm-VeqR9U_epg', 'a5QRSffI35WZLuOQug1viA', 'Nfd51P68oHCV6Q5oU6Oung', 'o7BYPoN9uQ6JzQ07dqtvxg', 'idaPwRUtcP5CkL5LxgchvA', 'wd851wXK6RbuICmOU0c7JA', 'KyiU2tVDlT_Kh6CuUCFXcw', 'CYSlhpN49ceZxmUnKl1XyA', 'AaaG1TFouyNYGZUvlbpNzQ', 'sM7fD7nAie-fUWy5xG2KOQ', 'zybDBnOI3hzM-z35YjnMHA', 'fh-wpJ2UA9NSYsWZFucN5w', 'jHbCy05KNGHRVLlpHUrzyg', 'nFbKzAE8g2IJNdmzKxyQxA', 'a68YgwEID_ahOP9y2pSelg', '4B_2GEhUEzTRywlGBGo28A', 'BXOnGDrAr4M0KdCPFxuEow', 'RJCzOIvjW2RqJvYWqXPcNQ', '0_Atf_hM1sT9AaV0MQZrGg', 'oNs_ca0morGgJ79FnQ6jcQ', '4Wx2a-3rA8X_lAzMtSND4Q', 'NiyyfgeS9OJff7v_3mVDyA', 'VIeMOJo3-NxLRS1cF2yVWA', 'CbuO4E7znZz-LDZDpI2RuQ', 'Cy69EKbywmnNCQmGvy6p7A', 'JcJ-ZYIdOYIERH41-rLppg', 'FIaMBCfmwKP_T1QrwaG2cg', 'E-2fCI9jloKrtzQrVQQEyA', '5QBtv-b1rpXjWoh2dHFfcw', 'qWc1MF4-hkm69fILgGtIjQ', '71cS5kLd7AGsymM4hfMCog', 'a3uuBc96zf0DMO1RG22_Pg', 'G7s4VvNF-l12PjHjPjGe2A', 'V5TzGC4CAXJKa3XauRja6w', 'rkIB5PRB1T6qp7VUHzjBHQ', 'TnpL7avVUY9lavfUEz4Llw', '7tmd5qTlCpqfFTOYz5Kj-Q', 'xolZhSyKmMzR7AM6sKHjLw', 'r8oGQX_K3ddQy1Ex934Igg', '2trd34N-PqYvvhNLDYmIhQ', '1apOInuTKfWm9ROk6n06Sw', '6X9-e9u5gq1G90l9pVP8nw', 'ZUk22OpqHN6_O0AGcKIcVQ', 'Ad_OLZj0gGvozBLCaD6yGw', 'IAF4xco-G4qSAwwEVl3wLQ', 'IOKtfs_qwDzifzOvR1id_Q', 'SI88uk27ZtshqDnQM4syQA', '9xswl0_sPiMOBQVQFLOVqA', '9vbISBJToSAGvbyhfUlT1g', '-tvRXW0BzKJHgFwy17ifqQ', '6-w25wbAorz9sAWO4qI0tA', 'gUfigkgd1K-bplv3txeAWw', 'go5Om3Xutf5WLxIPrljxxg', '3zCYTh08K4SVxufWGdPk9A', 'ST57n93PeUoYivCfRIVtmg', '8B23SU1nk35vJTXLu6ZvjQ', 'L9wVxqxLkga_f6owD5PUMQ', 'CDQVZl7M9ms7fxhuFcCM7g', '6XKkVLlCUB175nJ3BUGV1g', 'C_S-FxvRERkR8xkOnR9ZIA', 'rQjN8WFL3eioJCz0kQGClQ', 'rYqzDBxw8i-_Bdv4MUqzPA', 'pHXmeLBum0khN9zFjEopzA', 'Kh1P-QB9oYnC1OEIM1zbwg', 'CfDCLpX_iu8xis1EavCcTg', 'wzcVDyX_g9coXrCie61wUQ', 'CtUdeSHzkx1U0ZUs8aWlBg', 'NzgoM0DjPrUOWH-J_V6Mxw', 'Y3w7P2tQun5Iy3pyCakOVg', 'SkY9JlDpSzu5UdW0utDWOg', 'Dx_ycwy0Ag1hC02DeGBX5Q', 'GycEetq4LMAlIcSINoNlLg', 'jJ0KqBVtMsT8-aldWepzxg', '0HnJB20TDGaQ5lK9TalYbA', 'K_tVtXZawmrlp14fcfZROQ', 'PNAdh0njgUAOltXlHu4tAw', 'zenejTkKHrYrpT0JN_V3Xw', 'MWYZpJyijir6TL8HGwuyuw', 'clEfM2DKUzZ9K6Ijoe58hw', '-o3rY0nMbO-6nAim9VbLsg', 'wDCD6t8KSeMgtfj4lpMIgA', 'lNjk8tNiNKRw_VtRaCbkUg', 'FgiIKKgZExD9KEjT0pro3g', 'QHzh_siI-97_Hankz_2oUw', 'OUXLJLmJDPw08Q1YNpjqpw', 'MTzs3QClvGUjhvntY8xngQ', 'Bc7JLKmBh7yRkrDO4pk6sw', '9wdv3nHUjRzRIZDGjaLX1w', 'TdlEx6yQPSxr1yU5mlqjgQ', 'GCTAwoNdHa1ZHDNUYu-NUw', 'XmjTAmdfn4UlGpLJCJEIJg', 'UfmLsoKwGjXRAifXix_euA', 'T87GzJubsYAXyhDCP-f5qA', 'hYNa8y5wjz02eWJPUrpIkw', 'V_gxW1HMtoNwe7b_4FYgmg', 'gnfW7lN4mZF8JAc69fy7lA', 'sH9cJQWXkDzdPaRKXwF_Kw', 'Cuy_VS4234YTeSX491Hc_A', 'HxTbzesul1XPI7pcrsQgQQ', 'NGS9cnE6QlJJrMk1LAYrHw', 'flLjT2k7SPBx-LjxyKedrg', 'iCUWdw1cHgT6nxlIZSJlzA', 'WilYBN1Oeob9p7C7idoR_w', '7Tdb4K4ZvSyjeDWccoCRzw', 'eKzUp_yBujnPzYr4bPyuPg', 'uIMKRFS6uYJb0lzqD5sbuA', '8pG3BJBpEyHQEY77IsuV3w', 'edOBoxkr9kjNOEsZ-nndvg', 'tAKfQ-vnvbOw4ETW4IgOlA', 'NypG34FdFquTB63AdeGTNg', 'CHo4jhi3HrkP0oqT2IF6bg', 'PEat5xHn249wUKX6CJueJg', 'rGm_rS59osp4yjM-35BbnA', '0VzfCEfO6hgzLW6LGGTbDA', 'OhjEdaDjhAHSG6DI-Lqngg', '6WHIA5H-iUE2f0T4Rg6lSQ', 'zEjK8W9Hj4saqoO8tUsN4Q', 'TVvyymZVhrXGmU7oFLFF9Q', 'Hb9ZXdLSKLUYXHbkFlP4Fg', 'KO8dp17DVYqT8XHjpgRJ8A', 'CtPvf6s8AcA85tv4qdodYg', 'sqdbNk2hf6l6qDyy40kAew', 'xoDWZxfAFflV4godWyAtrg', 'EA5o93Hliz64-Y5NezSkRA', 'S8m6Ugli3PwTmNZsnAadKw', 'Rm92cgDGb-c37jEnjn7TBg', 'ZTZPyA7Wb-0X9ePn-MplkA', 'UlclYAQ7bnH2sUiG8Ctwfg', 'f9lagQGOEX9aRRt6B21zzA', 'AhEy0JmSQNxOHZDH23iJWQ', '6Lv2dLRYoBRzKap4IYWMfw', 'pIRhvFpR85IWZrLVz2g0vA', 'mTlAbZpHEoGKM1MwjXUSsQ', '-y-DjjHtV4gF41XNhm5edQ', 'Hsli17soQlrQpSJhf3mDwg', 'pj_eb26HIHA_DAF3IW9ArQ', '-hWOmhZQ-0HxnvGooyjT6g', 'F3u8Glyul8e-_1bHB2lT3A', 'dD1Y6y0eOjFw1ol79W20rw', 'sPYWt08akgdKWuMdnduJag', 'w2rER9YhSuACvwcU_wwlLQ', 'CB1squDTtzzyOtnnjPVNgg', 'xr-jmbt4GgGFmCaCewu7lA', '9r_8IlFLNAFLgupIf2xLAQ', 'CyrLlpOv1p7RFuIuedkUug', 'tJE7Mbq9GALGqBG73rFYLg', 'nRCwmDiVqQ5QE2sc39Jm3A', '9Lw1JoUEFp19KMU5k9LrmQ', 'Y-RjIIDkAZcQvQVMPFvxlg', 'j0FqWSr6H4ThsHZmpkxNCg', 'O6ZGKBBSl93RoggRiKvqSg', 'dLuJE2iiPP-O77QzO-Ao7Q', 'UZOOnWowukZXZQkIGgewDA', 'ZmEXSFzrLbCu1YcWiKlNew', 'muPwxzDMqNXlXRYpwbvKVg', 'vm1chxFrIOM77vrADyFnog', 'lnqq0K6aKTBU9ofs7UJ9ag', 'Cp2N0PpODt2XqlF1RTgFOg', 'L8GvbnKfV3zrYX70mFh1oA', 'Tu10HlwxLWJpJWg1qb8kyA', '6pfBohhxCvOHorjbq1qJTw', 'aPtgYWTjBVm1T_zGxPpQDA', 'oOWHGe6wqzanvOBpSNRhcg', 'aCTINMfeBmXpneZx3gQd-A', 'nDCiEofaHSyzDW0PkFiAxg', 'VzcEFEVC1fCkpo0-kfd7fw', 'tn58ieiiIvFES7Pzxoy5pQ', 'o_-zP4MLVekTzHRjXRasgQ', '0lDKguXqgvQ2NEtyCGGBAA', '8SOSps6ZBNfwNeS2fEDgfA', 'Jzyi_BUaZcU1oObBPqXJAA', 'Ei1Gb3zIr-DdVLCwv5AdGQ', 'EF9mQD4KRhBH3cgphZMPlw', 'srJzsWuyFnKl3ikQ5mPYqA', 'Z1KQa8dd7tl7NptlCfXOIA', 'YStjup58iqf8II-tI3K1Qw', 'r37KHScZtf3PYgTBwVH6jA', 'hG2T6oeBSDpvQR359nehuw', 'hieLuVgf7cNwZG-MVJo4DA', 'dYxeiG0XBAuACZXdlXcN4Q', 'DvMB4nvt-iGCrGe6S3z_-w', 'ROJItJWB-UfGErZtnYY8FA', 'u3ejKPcfhPT4LMfmKbTE5Q', 'spKhWgu2nfDeWL14MLjgLQ', '0UGcPxp_Jv2mUAhkXRcomQ', 'HeysogSBDdrQvKvMO80MWw', 'Gxf-EyKhaGDicncVp1pKTQ', 'a-ocai-WrKqAFvCdjuUhpQ', '0C2p4LI7vL6jFP5ZachGlQ', 'd4MI3nEv2AyeO2PeLruIdw', 'SUq_ynsp8ogRx6mr_IBJIw', 'c5XRvOZXQ9-5PT_wOv6H1g', 'EVNRU0VXkjnOlQq9zjWZQg', 'JLFViAzGn4H1bAYLosemgQ', 'mXY7MSvv14eMsNmwpSjWhg', '84a1NvqAEsf4D-aC3x1wow', 'fOOQLIc2ZKJAqBB6959qcA', 'h5KNyRJ9nhy15yG4rJD2nw', 'gOeNtOVxGv3N1PMAUXhZgw', 'ql1cnvjTZznz-IwBFG-Meg', 'MyTgKCRBMmoSAw1U5lGCVQ', 'XxjrqA5jrzLH0EdCKUG9Mw', 'u83HsiStupgxkcqE9b9AsA', 'EffoE73E6DlQLa2nkE21XA', 'FC2opiY5PgeYlVXxCILnLQ', 'nRvy6CNo8_t7AL_2q8AbSw', '2Px1l-rDFxqLlEK8tgqXlw', 'LlOlxHu1-n7Wj5YS2Go1Hg', 'B02x-1eoz57dTFZyk_fe_Q', 'JTXiXFZQ1X_dgHlOH4vRrw', '1JsV0nEcMjMJCd6pcAyfjA', '9tD2zSR9P5Iq2__F3FcM-Q', 'NXg_g1NCV_Cmk6awqhzXxQ', 'usZIWjYjtX_PqpLtYuMUOw', 'u97vVTmS-vvg_qdVQ7OyFg', 'NTwgYe5soQaKpXLyKfBS7w', 'rr_Z47ZU8MFZYg1CFInUTQ', 'Efwlme8vucBRv37P7hRbBw', 'uQFQOFgCY1kEuhSLVf6ZuA', 'Z9ZoBFFrzgGFJqsVOTx2MQ', 'EtMzm2bL5bmrSl3DqsvYcQ', 't51PRYA--tRBRDjAE_Yoxw', 'cnW0b3bezMR3go2IMYB7xw', 'nG1_xlVWA8PxYicKg4kTvw', 'n7mULUN-RPqBcaU2o79sIg', 'IZr9l24nCAbLe2yiaHybvg', 'GKdKgauzGgjAxaBFygszTA', '5Z5i1KHXiaFZJrC-H1KCLw', 'xLeFBFKWBP9B2ZUdOmHHNQ', 'kZ1pXieDIowzUHBQ6OHNfg', 'ZvVGiRE0mnY3jt4IM32RkA', 'gb6V1aAIxorjlnWrFEE6GQ', '_GGFdhTh9GoOneJa0nMPHw', 'E0Mg0zplcEURxm5RY83Mzw', 'ytg2V39RWkuBWA2LnKfoLg', 'T3xk1thyoQioVImUlaE5ww', 'ybtsnPo5-mUTJcrge9RzkA', 'qoJTeFO8fIrl75Soy9347Q', '9ucwBzdVM5kyEJ2cuamChg', 's6-J64s_Clr-OhKn2QSZcg', 'Y_B4Pcqpwxvt303KC1G_mA', '7NPX2TMeFxE0OdLf8BaHIg', 'N2cBzlVPAD-DbFTQ1oX7oQ', '3-e55gcpPoMJrwTy0nzHtg', 'Bp0Jq7pILkimUCNrAjdNbg', '3lFuXE4-5gMUvb0Cs7Kefw', 'MiAJ4uBxEkkW4DEdnMXGew', 'v5QW05Y54sp3JalqpI9P1A', 'cZAwgA1OeBlDl1HqC5kT-w', 'pdO1cd8MlPRAkgHHAONTKA', '_jxvRUzDfJsVN8WJvKPnFg', 'XBdZMy23hF0dU4nNGpWzAw', 'J5we04tJqg-WsqFuhJRl_Q', 'Gjd5dYLjkmdfF0XbzwgGIA', 'sRc1Tk1Bf_r4bq-QIkXaVw', 'nG4igAsHl9Io0e1YxJdkVw', 'JsWeD6vxecUZ-jiXIa1DqA', '7c7bn1sbCHRkCBo0ueJ1Uw', '1H5FLWhvRnOdjFT7NpPKTQ', 'Gs11etQpYegWc1ZMV8Himw', 'UEaoS6QgqmqsqYII0lxiFA', '13cBuaGKKZmu5eJLSbR6sA', '2UrKSwkL0MQ1HRAc1FNC8w', '59bBjFAlI4Du8ZvmYwCPSA', 'BW_3cMKcr_NxtV3oXOJTkA', 'BmKZtOLnccydU4D3wHcaeQ', '62Y33buggW1FlKoB3MgwBA', 'nlnOaZTKY0KM7i1tW5Hu_Q', 'uzlYUNmuT6-L346y174o1w', 'WS1zT-37TamfertvmPt-5w', '2i4twIQPsM0jGc4vbadstA', 'Fz8_tDO7kZKd4pP1WY4FpQ', 'wMjV8jcUUkUoJYZjT5pt8w', 'UTK2loADrHRayjKwyJDIRQ', 'kzLBmChlt9XkvwZAVaR06A', 'yLYVB6KP_8JecGxfg192Mw', '1zg5RaJKU8AH09sDTVOAYg', 'W8jBWL16udZ2ii0e06uRuQ', '0FYOU5nklrEkgtXPJsNw5A', 'FXqL-WMVH1Y8zQELw8VAKQ', 'uqoki1QBntjmOT5E4DY16w', 'GJAQvoSvE27pZBIpgP2dxg', 'tn3urkRdhpdbN9L4bQsatQ', 'pIXbrWbuKX_QTN-rws0caQ', 'ih9a_byR9-UwKXiLGO4KUA', '6JfNJCNj-fM_D_RjGJwhIw', 'utDm-7eoGyKRJs2vykPOwQ', '78LLvJu1J-sziW1BdAaosA', 'EmlOrf9M6FOmt_bIxsdUnA', 'ZaZtPlFamXijZ_PXRu17oQ', 'SybuLPxT2DG5qz_jmwwPIA', 'xcgndi4FfQRq9iYcV8EevA', 'NWptVnzWwWjT-K73n03RSA', 'UxxqXFszON8rG_oeFxNv4Q', 'FWmqIeN-OE-2AtMlldCIPA', 'tN2zjThypmWDIJaI_iu24A', 'p5dkK518NiSjpP_r60-MTg', 'CLfNnp1bMTNknINrCsBOOA', 'viSDbrF1XgmMeQBdEKP1mA', 'pm88yU2Amh3-TV_uu2_pvA', 'LKj5AD8NQFw40iBiCWDnWg', 'b-mjD9uhuffbsa24tfOfbQ', 'Crv_qt9pAQXzr_ZvMWU7JQ', 'wXmYFdHE-6FvERVcY5vT3g', 'lNAQJYaCvNT6PzJLsb06yw', 'Z3OAWG5EyYbDgIKmiCV_MQ', 'Q3HoYb2zdxQEdNYGMl0gVQ', 'yE8IzVpjN5wxkplyNgTiog', 'BNxaVs3JL1WW0R-253-0uA', 'TfMkDoGV9CyEZWxfTNyuBw', 'ovLreuIAkOLWmfN3m_19tQ', 'VF1SW9Fx5q3xrAthz0Pl8Q', 'EHoKFvCYS0Qw0Q6DX1yZ1A', 'KicEjr6jVdjuSK_DULST8g', '5j8Ub0jpcvFT71PaXssLGw', 'wkHCtsvxQJLq69nfNbWVnQ', '6OEyV-QstxU7DC8LGPLKfw', 'MnOOC72bPJFCQh6F2q_S5A', '2fVo2HJyMPudCiviP95LYg', 'JI0OSf2CnI3SKL2ZSUDmbA', 'ALLXauQ2gam3uJjQIKde2Q', 'uxH53rRSCRe2xGvghrbXhg', 'H1mDrNU7keRBeEC89EEfNA', 'RpRPoEtNAWlbmohqHyjeRg', '7ERkdMLGJsHzIRhM72-PQw', 'JV5dk-wEz3BtMWAt8FIHWQ', 'A9P3XkW0g4A9GJ0eo9OSDw', 'QG5Pz2B1wWCNS7DxoSB5fA', 'fKD1X1LUwZrQV6pv-VrKNQ', '38uxXEDRXa7LwKWhCyP98w', 'DryWkgatbd6-gCCxeJts9A', 'X6Bo_Iv2dO1r14Y-aUh2iA', '9YHGOnCtNYaYG40QSKALgQ', '_zBIAWWuhtydZKK005jlgw', 'JY_SfWd6A7BZ-LVqN6Px1w', 'lSrqtwbbpvCVXFI5h_EVBQ', 'f3LKp4wSuu9soAwIJ2ZSLA', 'sKzRHMi-BDHwR9t68m6stw', 'ICrXWdJPKfZYaEW0dtJeOQ', 'Re6kdLBCg_vxFCX5yhDr8g', 'y7qRYUXU2uxXxaiSs1eWfg', 'bhE2vDLhb264WdcqCcuYdg', '91Hx1RkkmLGSCr82eVtKKw', 'MdHjiaqWqnHbk2mCei7y0w', 'VCTSUugb6EVobL0FTnRX-w', 'CnKDRfB_sFyMyp9Fgey11Q', 'nxR8z8c-9RIvzWiO-URXMw', 'jAvP36wpZXuI3ws9W8rHZQ', 'qPLVm2GvpVXb9EsW076pcw', 'AC__ZVkaewGfvugJwx8PLw', 'Or2j2o-h8UaBeITjKxckDA', 'WY0_9VBiJVzi3bDV3_LyEA', '0YMeRHlh9rt2xdbyDFfkFQ', 'HWFK0AyhbSdm-VdY-BPQ5A', 'BwlW0aSZVwXVmZBt4Xy6Jw', 'QeYbShravB3yBQ3FFzQjuA', 'Fw9WWK2HAsON6jha9vjJbg', 'OSQ8DMe2_b6r_XYgcCsSrQ', 'Dzcwf6Y46q6GkwAD_afgZA', 'c8UZXsG7CiA-YLFgEX_qfA', '03zzwdofSO2ReFgJbpL5JQ', 'eQs6irf3XIbhDfHvx0P3WA', 'IMymGtI-SiVavQG8CL35qQ', 'eWpkHNNgET5tkKucV4m-ew', '2ivHlDCctxPNhESy0GEKxQ', 'laYc4C8Qwnabo6Qu6OS4uw', 'J9s8IR1qYezepcr2SZBXIw', '7_idY-3JZTxiKtoN0i-Mjw', '5KLkTTS-h0sd_y3w1KSsXg', 'tae2iAKdO09AhNHS6mkYrA', 'iGaXBL2j-aP__5AQCV72nQ', 'HcKxiAtf5epYT-h1NdDvXQ', '9VXaDx7fnbSu8zJmewZs7A', 'hGuUYXrlV8SPjUbuprIbjA', 'LBZy_sAL-ysGbcBlDXu9bQ', 'EHWC-jPQdcjyttSDFAsqfA', 'key4rpZ0sUwKnX-1FCGrXg', '2Lyq9I2TXcZUemC186yBCg', '6Lu4hvI-vaJyjKOPw_PPOA', '8-mqKqKN8xaoqUWatm-jUw', 'ZTaTub9a_9ZrQxJVu5raXg', 'gqKMlVUI3uuDgWduBNEW2w', 'Uk4xQHeejVQDOKE6o52CXQ', 'oAWgNuA14Ji_uWV4Jmjn-g', 'Mybl6fc3OmdyQhxm_rPIdw', 'PKPI8V6jSIm9TD3sFpXqhw', 'OFD8BOLFq4YrguOBK_ptAQ', 'jKfZbIblk4kgg8-6fPrl4g', 'FrsK1hIWk9Dfgye2fU76fw', 'AYCWIeUvSV_qgrql53LP7Q', 'BSvAnWGkwnz2Z9mVx8amCw', 'l0zj35soi4xWkqOn1LpFjg', 'XQMMSTKzT1mcsm2g31TGug', '7veT43IHVVA55bNn4K8ZnQ', 'ruLi0FFBuBCsuKK2rDc16Q', 'cToK6T2o1TIrNHWLDz1jmw', 'JboMn8998EZcdOOh28GWqg', 'yd0xyYYnz2NwRZriUmmFaw', 'W8kkuKQK3lGSEGh3ArTkhg', 'Bv6qLCDtLwfId9XkfA0t4w', 'YGdCxTWad8AeqDHUcjeayw', 'stvv31a5l4GF62kUfooS-g', 'LReCfpPWuV23mA69-06Pdw', '4vzU7DkI1Ti4YrjypW0BYw', 'qDTFonZjB0sChcxxuwXQpQ', 'gsxtS3R31y-6MialNGxRZg', 'BjdbwZl2OMOcAvEP7XmzNA', 'birQ0mTdnv4ar4TKCPJy1A', 't6QmEOcoV3cOLW8GtIBgtQ', 'rTmsrNRaRBNhCPC2Mxng4Q', 'rnLGvQSJ_rD1tasfr_En0Q', 'xstj2exrm5V_CWCNTAZCIQ', 'FxnmWAc35wB_cLaNFfOSUA', 'AgZjkgPYY4uWNcFN6-myOA', 'ayGu6RjFD5LY6hpR-rAcWQ', '7Sb41tTtjQmXTV3_SI-9DA', 'FOXm2f8TsBm3VYHcYVpU5w', 'z1D0GhMm7dlpnx9K_MJ-8w', 'lLaorGGxmm6m125si0lnbg', 'eFHwgoMkmaXmdLdNvXWijw', 'bpQxAqUAc5LBtMuE3-GdiA', 'HjVulHuNngXPQ7xxzpRfYg', 'U3kaaYSQZ5RleTWuFGpOIQ', 'DUG7qf31KDci7TUUE-ieww', 'ylw-Wphzk_vVkpMyhzdwZQ', '0OXE76Udfeww_2IkeFR63A', 'sClo5QTAW1bY_bwTwojbNw', 'hWxU7BvbthcbXI_FxFfT8w', '5431dSTAlB0-iUUpmxGkag', '7l1H5YnkA5FS3qyX0wIj2w', 'MpMLZZ2zv-5a5ShSH0TIRQ', 'urOoUmZZVXN3W9klCeIOEw', 'yW0AS0ifWmMhR63KboOsKQ', 'JJ2uynDKKbvUfA1qiySuuA', 'oN4_oQJVS8HgnHz-u7Sjtg', 'SwVQ4gn9-EytDpu3rB38qA', '0gGAq7DEKcdNhoY1bidvEA', 'LtLNncpj8vRf4SttV3mR4Q', 'xeT-PxnN9CCvJW0HVF7ISQ', '0pVmMc-TxJCHu8FqEdCZnQ', 'Zk0mOsRr-7uPfjFs5Q937Q', 'iOSW3NZs_zBpRepvToCqkg', 'oU0B5nMU0XJc6AQIz-DV1w', '7tQcb7tq4cGI-HdkDf7mWA', 'cLiaTLZAgRmaTm4H5LWKKA', 'KfyzoYdDutfITQQM6crbKQ', 'JuUru3voCOY-ScQW2Agyig', 'IIrIDBa9AoZwo7bsWy889A', 'iIhvZWRg6DZYE-9l2xpR4g', 'yOJHOvRtmDL7YpkYljffdg', 'l1yY9tr33ng3ad_ETkAbQQ', 'vVPrAhcor5dWbhr-b0qxGg', '5qCL-J9VQIZwcyLmFwYNVQ', '_UitGmeLW_pux7Dkm89EXg', 'lemAG1-s9SxFo7tkNuJnPg', 'It3C8jsbmgnoyXKJ7HwNOA', 'GTVXWrzHn9qNLolMGC9G0g', 'jLuZPx2mSu_uHnWFN_xJ4Q', 'GvPskeHT4ugypZytVXzvyA', '9f-5vAlSB8S8taUoJS3rUA', '0Ib9KDbHF-0l7MxtEa-p9A', 'g9R3rc3IGTHZbySQ89xlGA', '_nfhDZsvJC2iSBlISNaw_A', 'IPxVEGgWT3uuM0MEKbjJ3w', 'ja8vjorDND1wjFM9Sd6IlQ', 'QzZ9m1pKURDN7LMbQIYOaA', '-LAt9vCfo7iOZrFKWaa8Yw', 'ogh07mMqpe1ejlwH67x66g', '1v8t096Uo7LuQNWF-qnuiA', 'h9v0ovk70KGDJUtj8FZbgg', 'IvHK98m3JsZqToN9B1BI4w', '0IV4CR-yLhervjCKRSHT_g', 'BSmfIQycTTEgFxn52w9P9A', 'fQ-tCsGX8tZnZDl4lQKEHQ', 'q7n_NCYz_dsxVDNhis_R3Q', 'DDWhIDGO_NIfZrli6dpRmw', 'wF4NXkmcT40uaoesT4xipg', 'rNGrwVO34II7SbMFAIQ1Wg', 'htn4XRQ4o00J65qjTKZZ7A', 'Phj-dOoJxddcR0b8rErjpw', 'ua9vBZXiLZdaSALSTE-anA', 'Bx9l70YLwRgFYGNM9sJhCg', 'ptxzPWQoDzFc4umwtXg6iA', 'PQaM9MCVYfy5G-BItywltA', 's7Xc2ICH9po6ujzSxYuhIg', 'n_B5v3duqokTTyuGFgNiDA', 'x7bYD2rzcnVKzIz-Ou8PxA', '-yP2FI5p9R4XvaB9iImQZQ', 'KU1L4AOnYYwFoGtDb9LZuQ', 'EUifAVqw6W7VFt-JZGSSVQ', 'sji8jLenoIwDOoJHKCyT4A', 'DCxwJOIgWXSPTHv8hmydEg', 'KuaqyFgTAE6i7Xfv3pc2Og', 'ejRITlrYFHv782-PJlHCAg', '5sXkCFO53kMEIR-6ShkhWA', 'KU6EgjPuLGESX0srQkcjTQ', 'ddSuWNkTkprZId2AwSuz4A', 'eM5Y2DOYaVPuIS_CsgLmiQ', '3-F-A0oS_i-LEcflVCz3Ow', 'Mlte0NW--SKkUcp7NoHVpw', '2Hrp_8Hi8y1upBQI6hDZmA', 'i-3bseVyOqQ3dC2TnkkdtA', 'C5T-u4-MqOyKZeLDliY2Vw', 'UAQgiglMiSV7udCIyn16iQ', 'hQXkACN2x7ytkQh-AYAA6g', 'lB7d2JUGofWrAyFjb8T7qA', '0zdwfycNX6auWCPU9wqEYA', 'RMnP0-Spth7b7y6SV5KVwQ', 'm6GDS7IPoUPwyLM9O76Kvw', 'uqK3wEy_CF6tvIViL1eHwA', '9kVdBkGWcKfCFzSwUXjQyw', '8ZzTe4u95idPlVAbDxI0Tw', 'nLssfCuZfBvI7SMLWzP2cg', 'nSYNtNNk2l_jSgcO6rVaQg', 'C3Y7lwJmJAXmXXLEk_b5RQ', '1ZLZVDamG4_qca_-8zjLfg', '653x-zvHgXt-Ao_A238LRQ', 'i7VGBBsL0qO5FeLdugb4qQ', 'UG0bosmIo_hTv1Hj9oX_cw', '7g2PkNzcbDEyEPs_hFivaw', 'Ay0JnZogvOULiN7fRsllcw', 'yVNltwB3St-J-0CGcDK-mw', 'BKhTmYO5KI8GNboy-K7htw', 'heZF5LrQN13BfgefBzCvFg', '4Z4CAQ3jY6Jvvy-YISf8Fw', 'MLvWrk4SqkZ8pIJAgbtMNw', 'chWe5eML7RMI4DYcQ0QZgA', 'D-7GhuymSJ0SERehtpGCNA', 'Xx5djG4ybsZj1UPtSXpjAw', 'lhS6RKxWNdgV4o6P5gLF6w', 'Gy7QrzRs7u_SXIgjZin_8Q', 'oT5SDG3DQo229Xd3wvPwBg', '6zvhrxMVfNCrYUgdNDrU-g', '0N8fLAcMVKzjDoFRlkXPtQ', '277IBVDJkgfplO9_wDPrxw', 'CRhE8O9nqjZ_A0I9o-S8jg', 'qAXNLatkvwPproncF8NZTQ', '3nBvO092IAadFtMifaP4EA', 'uQUV5sVojlpK2aPvnIzgNg', '_68by-21aE3RDSBNG2rQCw', 'xQssoy5oRXh4d1YMz2nRQw', 'vs2kLTcHpJ1AH16316RijA', 'c6kw3j80n_U7DpNv58Lo5g', 'Kfv5X0XHghhb_31X8sBdNA', 'KRPqv3GOlb7Q3wR41e5WwQ', 'KhoXV1bEYz5eE7mMLpycfA', 'AUbrfZMYb3tr2ldoBdZ--A', '7fuvGV0RsAgXYfGcATHl5A', 'KC3VjqRkGe1Yw3kDqBVKrw', 'hREytbhY9V_PfBJ0zRf17w', 'MDO4wJB2hi81dInX5OTzig', 'Hbfyj4EkWVnYWKJJL7zyIw', 'HOq9FZndEzA4Q1viTwjvrA', '_l2FvhU-WHdUefiW_47F1A', 'ML_uNET39mUnqD2UqJiqCw', 'qxxoSN0HsLQ9h3O980DqAQ', '_znUb8lBp7FAsXLoKq0OYw', 'y1Q-adoo51YionMLQIovWw', '4gH--qsbJ2K_Bab_zDuQJA', 'eNooUbSFS0_DP8G6IslVkQ', '31O-jLtuH2M65Q19S0-bHw', 'n2fV2hJqUPG4t077uCkoYA', 'qev0zrF-_W420O6cmra_tA', 'YmrqxDHl_vavofV6oQZYnQ', 'H5UROt4HeEVYcORWF7U0RQ', 'T2ogg2Q4eJOMVfii6z3r0g', 'CsJ7toSlakPKAwkhUhnfGA', '6EFgi_G-CylWGO4Ck5P3pg', 'KCEmu-cVqsRLqj7sB61VUA', 'LnMXVKwejX8HfPyVvJKBvg', 'g6vRJOy04dwKiY2fk6l_5A', 'M4XjasQadwRx5XxArA176g', '9fc5ciIZ79qd2aWZbaSyHg', '2GSyy4dP-8weUI7-1-c4Hw', '34GaVoTMykdTkGzMhqjntg', '3IzbshbOLmT4CyIS81_MWw', 'lB37lJSXjLuOe-wsEM3ykQ', 'jsF-MLZmfy9UeFX9ydyEWw', 'snILK_rjWY2mC-AJ-w5HcA', 'AXYk_HZjZAtrRXkOHoP03Q', '3T0OM0LSgasX3988tJM6vg', 'ATsz34ad87-smBHL8SOqFg', '0VYsv_9fvNnW4K2NJvKrbQ', 'R_di7yNUlzg2KV1SgqI1sw', 'kbhHeOESbdOB4HqsAe5frA', 'uKBLsR2IBBDJk8WTdGxs3g', 'MaTqCa_6OhxLw1Mawkw8gg', 'Sq6wkJrNfUSYU79JVX6rGw', 'nesuD6V6XW8oO2tXdNeWiA', 'sLUQw-C4_evUTsF2Uu0scg', 'iaHBXw6vKO2BS7mYznb_Og', 'jnNkY14y3kG-PJNk6jQqXg', 'PrQIIWgW59f-AHqBzndpow', 'i7yTNT_7x-IcD-98NhhGGQ', 'oDV6O2AKr6LsUGtFclMPxQ', 'D4WTS-HxLNWg8fYhlNJ_RA', '9vMmvkCHmp5GJfW8P02z8w', 'kp6zcDiihPposVwq2uROGg', 'KQ85RAiQlQybmmIUWOok9w', '7FCV75YPVNQsj53syXTvwA', 'Y30mTgjTwml5bdM5YZoy4A', 'X9KlTHs2goq8yURwNt66nQ', 'SBnKuWIUjAvWKI5dwZztYA', 'W_7xNizBA1KXQnPq2kmVqg', '75-x5QeiQoboraoawQsKiw', 'QSVPrWlZYbgUJIAl8aMejw', 'L9Qf3QJlaf8CB05z9yiBQA', 'oppbz4LR78dJEM42YPD-Dw', 'iUAbgwPr6ji9Rdkb84OTWw', 'HH7KNxnHqELmioKcbZCrig', 'a6oqYbEOrNSAGZEmQTZ_Ew', 'kgFc_LREaknb3M4RTFqA2Q', '4hbQoLH8P_KLMSkNzw778g', 'RJKE_9g1cbnL6RGYJscKpA', 'yKUHPCDdn_0DG01xJgM3pg', 'cX2C9Ge20w6XN6n2-p_TGw', 'Aps5H0P0nXrd8GDKdYg11A', 'c7q1vrCLE6Ma0LFVXD16Pg', '4Mmt5ZAPOavaatDphbX9LA', '4LX4ILjcYBxUOv7Tf9kRTA', 'tTm0yqkXz47VcK0WsbFPAA', 'FgM1nlUlW-C2Sr0XApdJ8Q', 'Us2FQHkh45nVj1yW0ZjEYw', 'kJ6-chXflxnCW32XUCEL1w', 'wpFiCscWrY8hYNZW_ulFpA', 'BfSA_JAsyOlyaoj_H-RRnA', 'IIcDd5siiNquBhGEYsmVew', 'J1ZJ0nGpqb-FSH2o7r4zQw', 'dGcMmrIMxwiJySquxpbkmQ', 'OfWdR1AYNugCWg7CLQPZlA', 'sDjsd8t6KZTp_oBXsxF65Q', 'BmJKtj1xa6jNf9eoQWEdHw', 'AEtxfbLJxZs2bM_uTkMFuQ', '1g9yLKexxnIvEKI7oDpkwQ', 'SmODTv3zY1vEuhieYKnBag', 'IaHuE5fFYDunbv62YwnzSg', 'jJ4xT-dbPhT4waGfjU0mwg', '3oqG3BzA0eDn-Im7prL3Mw', 'Hdiy2jP67kqh8vhBMsV0JQ', '3VS5C9iD-YT1P7FWZKPIfw', '53nRPUy9PGxE5P7DaR25Pw', 'e4awKWoIKPk5iTULdO3q8Q', 'lsS9saaL3W5fBJ0nZwL8KQ', 'pe2wSoUptBf2vl8VhjHzMg', 'LenD1aab7OPny14jh04lPA', 'mMGSpL0xSg8oRtYl51LkMQ', 's5XeMqtlCKfBWBQr81ZYJg', 'ujDaHnE7ZcWEMJhE8NPLxA', '-5IILOdL2rQfaV33RC_ykQ', 'iARQolIrLUTecw4EUH8Y1A', 't8HA-_nc4-IhUrJ3gsgcug', 'kvwcTVQjOaZbGSx7fRJY2w', 'I9p2EIZs4lxqI0RlKGVE2w', 'RWNBW1Mim8GuxXZWGgtFRg', 'GNJCv_gYF-Zax4vJNPfKHg', 'QsmHHGen10DPA5NLIBPRVg', '856iFZDqNIIQpGzSH_pbXg', 'LLUCS8a0WDsW74cwE9GgZw', 'hezdtNR0W5qlOruTYX79qg', 'e42CP7KSZwKKybQT9v7fRw', 'iqX0iQ60x5tqwwuLlg1roQ', 'HIDnnYVaG22Bk3gxYqv0Lw', '6bwfX48pcKQ5g7Iz9DnjeA', 'fBE_UAwzkrppGLRlb7N46A', '6lIthQBckhN6x4aGBaCxgw', 'fdyPdVh7dM_p_mefPK75Lg', 'pepvJtenADU1aG6i0eSuQw', 'E-WWXeXD4vqrjKoSDemreQ', 'ATGSG7kpz-g4bkoWKXT1NQ', 'CuXUxY_G5eLCN1RbD0ApWw', 'KlB2wfynGEpNPbb879trdA', 'e_pFjTJdSh8LVBtMwWnw7g', '0qPC4_kGbJwcWC6nKxK6EQ', 'AhbGF-PHMXHvWeNECeruqA', 'p2v_rp_BWFDStvAidss4QQ', 'ql9Q3KHiOLYrEOL41ZfdEg', 'RnyOYj1e6sq99RZDtPbMtQ', 'irRaLTvySGgG6_6iKeeYpg', 'xl-OMQl0bmbXSvmAfz14NA', 'r0RWFq0KJcZknRyxr1LQZg', 'mPbDjyOPJckQrsx5uV_UOg', '7IAFhK-jYKPC0hQDacxlrQ', 'nXJ38hcPAAxI_CFvkVz4ww', 'JwT8iDOmSLASv0x2kxsDJA', 'cSYiDyU5Xgt3itJMykQvYQ', 'iEF6s-T2IdZbo3goGWJiJw', 'FJP4HuUsEo6Fd94D-KyOpQ', 'T8gpg3gs_i1Sm9Swtstyqw', 'MH8TOl42TQ3nOoZ3DBAmkg', '_cSZOdKbmpIBNLEw9TtuAA', 'UDDh9MDT2qyyQ8quW-fb7w', 'Y6Q51nYMaAnXRxSWhYGrvQ', 'f0wXKGWHulh64M3IdDEPsg', '1iqODB7g1veZKDIWpOz5rg', 'dQv2GGIFbo_jqIEoIzhprw', 'Te4IdPxTqkR6ahsH5w-X7Q', '2wiMr4Ml3YRWXkCe1b8tkg', 'aWLUQi1yEieVAJC1WNg_Hw', 'U4e9KYP8Nc6H5DIxvbdVbw', '6FS1Rlrx6waKqhPGPkUrkg', 'rQe9IfDMEkYAm__ZTbr8Gw', 'shAzPl5xtkywRc4EaqBQSw', 'Uf_QEO7mK_y2yAGnln-xXg', 'MIFq6ORwxe-J1AVvYxzruA', 'aXL8XEvTst-O8_bleEy9Yw', '4CH0ku8d8kQG-xv9xVIgHg', 'Wc8wPL2xwPj7y1MHvGpXvQ', 'Sz9AJinIC6-aC0UDQj5YOw', 'iRwSFllKWMTA8D7xz7Ahzw', 'f2jpvjRWnJASZ7hyL5HbMg', 'GEo5YGuXrdH1wpNrb1ID6A', 'SvDogyYECuVITsM8DKN_7g', 'wiw0-IEcrk3GU6KNDm5Rhg', 'EvhCQoUbwxDVeFSHchyS3w', 'VXnkN9UvFipUc2nnvxpQxw', 'ZgnktMMbuhirrjtOcUhfrQ', 'W1AzKyITXngSXzcOoxMObA', 'tp6yJ5rcwHrjDlX3r6ERZw', 's9XNVPdECynNB5f296w-lA', '9Wkj-Vl5EYLS6OIy4EYigw', 'nm1--saE5E0aAu0jXg0RRg', 'T4g32BCr0lzTIMrfrbH7uQ', 'x2X8KaAexztLHt8DKGhFTA', 'RYRBoMmIzMJj5wjUFpjL9g', 'JhcTwke83ONi97f4ceFwVA', 'AqgUEoUl6pl8V3M5STAMVA', 'nNKkjGtmDb1FRkroQE_SvA', 'ZNofbJF_MNbQ45ILHgMwVw', 'Dk0Wh5FqPq_IaGCyoFG0Ug', 'Z9j-opNMoOB-3oQ32eJLGA', '3HIDw67-_BMp_U7fXbIfzw', 'skCcUFx_bjI-KJRXF6w1rg', 'UX9UpOzu-K92n5Cj2SGvjg', 'xZ32popI0-aVSNIOz2Ajtw', 'TxT9zATaa3Uwkv4dGXhdHA', 'i-Q9ifH79ZLWloxBe0dGeQ', '9QYDSKANSYY6G2XQEKTTmQ', 'L7TeXuq5PWyQuaRanQRHsQ', '4dZkarB-u3P2EycDuJ5KFw', 'p7I5P7HIGMP6xZk_gfgEMQ', 'BCWHnKltU1tR--5QKqDmfQ', '-jP5ToTzCNY0VK4WBbXN3A', 'pHxAdTt28MfVvF1uAqEZbg', 'g1-fzIjqBPHnv8Y_C1-P3A', 'st9mU-lg7Jirw9j7V_qnOQ', '0VxCwlAYsRogAYX2mjZTzg', 'FNa6BU7CFIlaAJfyNkKU2g', 'kXL17t6gxx0p7vJse24feQ', 'YDlGN9LO_w8t17PLr4k4Yg', 'uPz9liIGZ-yT_SF6QTB8ZA', 'Ll9eJYQZzv6jFs-8vUliug', '_Fl96pon4EWMsosDgCn2Ww', '-iZE9rMnzqU_U0BJPb7DnA', 'FCMrR4m7sKPhnyS5h3vJNg', '0RjyiMGTgX4jpxSUf3dnCg', 'KwlSRwdDc0LxCGyvyxrXsw', 'Ra6uP9VqNVi0mw7HP6jcvA', 'R0u4YucoNWvmF4YreR9TaQ', 'no9u8l4H2VSgqiE4d_fZxQ', 'MDm-A-dVHfCJo7lLOFZSBw', 'b4OPn2EyGs6eJcXqI86vig', 'jX2a4ZiH-l_XBvVwlIhFpw', 'nPN_51lcDxAN62zuX-zi0g', 'ZYUh_82owMwTE6sxkFt6HA', 'VQXFsL0gUnRmVdoHQsM5PA', 'Si1bkdnLZuff51YFAYHd9A', 'hTSySCgVuytri_ttbmvDfQ', 'MwFuYPQQ07G2tYRpb1XdGw', 'jrXcNaRoxqAb7bPSxJGu4A', 'fTPTnSm366mLZ6Rwl_Pu0A', 'ITHs2km2UvvsDlJVFmnsgA', 'a60KXeNdxSGpbMchN-4kGg', 'JVovFKVeIA0faqDM4Oe93g', 'nfqkmD--lQehbUjmLZ6WBQ', 'ihZ4yKfqMz_MErFQ55RVwA', 'u3gkkXfsOHUqzgOG7bOfWA', '7Y6DZsLCiZiFtKyQ08EMmg', 'jFD0qGYNeDE8NAgiRnp1Aw', 'wNXhzu2xYmg2Hh7TmJDGPQ', 'uRyq7P2e6RnXvKyejgaHPw', 'Sa0ladYBuYcuRggqpyYoAA', 'S8S5nnvgJW4qEk5Oym06sQ', 'bN_Kvi9_zc3ym15YOLGA2g', 'CzpPSbXC3eP3mLEAilyz8w', '9xucDkkii9XMYcOv7w4p2w', 'updY5oa5zAb0zU0VOkxNYQ', 'FE_v1SianXyArdLW8QEWtA', 'vNUFgBuLOmXxb86HyvmyuQ', 'KuEZ3yTDJKynTS91HeQ4RQ', 'K8Bv_KbCSXR2-F8yfm-CHw', 'MjunxkY-X-_JsgtLE7hYEA', 'KceE_8V3T_cDbIi-1Hrqsg', 'jYMLwc0YCB6iC7KKZvbMsA', 'TOoU7iZeOgtHMOkJPeH50w', 'v6KQHwDZYI1wv1-cQCk1bg', '_VRWUFvOETuiHykb1DZr3w', '-xNUSVJjrWq7yyPDypgpxA', 'Zbk06A8xMDdh2OqPXSPMaQ', 'yidw1oA63gI8TOtjJRh9IQ', '_CvzesWoguv-UpJTY-if4g', 'cgzDwoHO1uGYMqA_N8qfEQ', 'bfFrjiyAMWRXYNaYV8VNPw', 'oLMNkwQCqifbmMf2IJ2bow', 'YsbCpdPaUx9RgGpd1TPLvg', 'PUkbJ2o_JMywTITMKKiuag', 'p4qvpDZRazl3F0zxZ6XKrA', 't72jO4nxTuensp837d6-LQ', 'SXGjuwiALM2DBZHjcQWezg', 'K38BZcg86tZtOdm_C98pcA', 'MG8UcG-RG1PY6idrurcyuA', 'VZpS6vibaa5HcZ9JROfKkQ', '-l-5I5169-w9xbb7Z755Yg', '9AvFByNcy2bgWEPxkxOioA', 'mEZas_kmsv5Gmzwp7yL6wg', 'RXxTI9MUzygOVShX09SGzA', 'WyNy6O57HQgKF8z8YtKh7A', 'r6CcrtKaoICQestrKhMj2g', 'XiuPYgsWCnfylaAQtEyz0Q', 'h081ZZFr80xipbthwasaZw', 'Som5hN8DSyDvOoXGnaAsig', 'tI-g3RH6UFpeDXnFsk5ZkA', 'ui7eFGNHzvKJAdf8TWOoXA', 'hKj5EzD7BY-NTh0wqbWKoA', 'beyYk5lWnuC_f4XO-jPqSg', 'xhwQhFbApqoxYxAGK5743g', 'lK_XaW_Yoh-Edpd_J4t2mA', 'pqHACpRn_090IJoVNx8csg', 'WCmWjLHvgcqJkxRadh33oQ', 'U11o_4QOrzl7DTGzuE_b2Q', 'rXoSHhIbSudcScdZt5dX4g', 'o-2ZF2gcRJyGYgw9Ep4Eyw', 'EXT7YOWaoNfApEVAh27rcQ', 'Jf8_0njLvzfSpPDmNvCxJg', 'VCIigQT-kSI0cEqXzD7iow', '8QPqj8YBD5M3QihpjLoewQ', 'T65MS1mHvccJOBCDMknNXg', 'Z5Zx6E4ohq3gWDvM7My_ng', 'vYgNUoj_aOHCpQthWtzaDg', 'riDvTPZyuZDUqcQ7wd-Axg', 'YyFBRviOLoXj6ng1ykpGaw', 'BLhtK4KnmKKGvLN4Cxd7_Q', 'DetmLzU478JAIPVXLBAFAQ', '6rQHD4Bsbpe9UI7m4awAJQ', 'ixfTIVFHE8u5QxmzC4bKiw', '37r3RqKiM97iITpcF3B0oQ', 'ZHljbDOcwkdQoMK2QWbJUA', '1_Zy1vUV7bFNQw8FOy4dnA', 'pXHL8F2ztf4OG5Ic_hY0eA', 'RzXOPnWmFrZ-j11wf_hzow', 'Yut4pZX_C5e5BTH3sAFTUA', 'LavwQ-Ano1I9DB_xM25GfQ', 'QAQNZqDgRGiLq722Y_oaMw', 'tPgFjndMLRvlXuKc39lgwQ', 'zzTYN02CwE5NSZZxGM9CGg', 'Oy8_SwqIOsyEt0qGGNe2Pw', '6Uz8lhaEJ35QDFYqsHnyNw', 'unQo1u7n7kjCowaNlgSmUw', '8avJyGw0dCyUX4LxGi_sTg', 'cRQvnCPmgGJoTLTilc3Jqg', 'i62ZC0jeU4tl7bF7bfsJHQ', 'CTjoZrYZ_YDhdaFgwYAtKw', 'c25BrH36a6aIJnZEmZnJzQ', 'FFHOx5aLIFQ2mQtksX-Kow', 'GmZA9WRmeZ6w_xkwnZcb5w', 'LbDcBJUORulsg55re_0AWA', 'WZmB-ct6XeTVFGqR2xxBxQ', 'uHuD30dqKZvputbfDrh3Bw', 'glPAZoWnzcDbFRDqqbqc8Q', '0qc-wrjLnHyhPyGeg3UeTg', 'go3zc7dEm1OkD3yk1OJwDQ', 'UIF4UEybSgueHs6u8SL5AA', 'wJKesQazZlh5pINx-J3ATQ', 'bF68QnnLguF9Rlh-mphomw', 'G6MQ8Qgylovr7euHX517LA', 'nhlPrcZrPwzniCBlTQZuzQ', 'gCppK2S9ABdDB2YDlFv_Lg', 'sw221-QuM7J74JLU-erjmg', '_10E6yIUTVJ-poJ1FpBxRQ', 'Wm0VqnXrPqs9C7hhRa-EZg', 'vj9yC9-1z8s_ZnyrFS-ctQ', '-VPZdPytBEvDB6mh-lhI7w', 'WmduD0Rgc3f9NMhvAMWZqg', 'IzOLPtBIq4WdzuHlOyZUlA', 'PiH3EHXflRujf9tvbP7ITg', 'LA9hYviWuEtoWNkw1GdncA', 'sT_JL6PnVUY2ihqVym4YCA', 'pKKHL9AcDJICuPU5BtPpjQ', 'IhK0jJFdmp6-qKjSB5CgZg', 'gTHiHjUBrLYKOJ-HqaMcPQ', 'aBcvnWuSUzWt01Ft1qRlBQ', 'N-ggzyNraPZhOnPbRcbXPA', 'COQaRHuQXR-o2nGIpnTYYw', '0OhHIB0NNdSMkEFYGSQpxw', 'pByg4vy8reoaTDMsfkpoUQ', '-qmuYafs7QlkB5OW463siQ', 'p0tAco-oQ--CjhnedBpgHQ', 'abKSMonacD0BmWjRbD1Dug', '1sLLJQhL88LmJs2uH4pBbQ', 'K40XIeBIBlo7qlNSokBdpA', 'KWlP6_qdSF1j7clYPkQgIw', '0t2ELQC38JAz3b98l96EIA', 'Phou-Fehn4CVakWrFhdo1w', 'YG8bSdOBa8rads27tYbc9g', 'S0OioDOBTj5_vbCGiIBcww', 'rsRYsyftkD8By3B0KuyHhg', 'qOQmWNk5xb6-Gtc9mfmEvQ', 'Ex-4BUltWZm36vzmEVEJ8Q', 'MLskhjUi9t4cNV3M3LJIEQ', 'Mi7f8LRjPhqV7rskEXJQoA', 'wyfsQBHdo9RUc0TUNeKn2w', 'JaFYzVGjTevF4-pUVqeR9A', '0ldAinql-RIe-3zchM5Xzg', '28R61nUNAdhoUIJwCR6lqw', 'T3WakSwOs46caW48nbIZMg', 'X-AfbTsGg6poqmQt6NzT_g', 'siv0WyBcoy9qbaQMYbwJWQ', 'z1xi648D6Ufu1u98_mTbPA', 'qZ9owYDmAz63yI9CdOoQ0Q', 'RQ0-hpOj1Tc76ZqAcrTCVA', 'oqbvDg2THwdw_zSRe45JxA', 'AXdFoyQv3DC1izASmMfTGA', 'TJXiSTXT65ezCUtXITqPPA', 'Dglsc9yq3kE3G6gFEKip1A', 'CKIil5dBIQ1WfiUtRFSEgw', 'omkDSMrNJUcMeUlXFeh2kg', 'S-ARySA_iqoYEmPp6noAdw', 'O1GoaC7dvopV0JpoKOJ7GQ', 'j6kxTbbqT9kGMm2700Xwbw', 'VgaVIWtQfPDmEp5LhnJ4wQ', 'qmp0pC4BN46O5zW5QGhrgg', '7VJLjrHS4dG6Ukwc0HtrKQ', 'dxLhRCYqQdg5TL_Ig7AViw', '_gWbsSuqOXQrHWDn1ZldqA', '6A529JOFXlaRrGMkN9-Ztw', 'd1MLzl8l5B9s8CXr0Xgbpw', 'RnWZqGL65dYUqvGrkCWXlw', 'fgq-LWWOgbyMfv1x2psrtQ', 'TcRBY-MYAukw5JMFP_tkLg', '9tbZR34jUz7Xhgec-JhPXg', 'b4tTtSkI1owgjGs5CA-jTw', '7k8AOb9PpbV2Yi7TuFyL-g', 'FBcor7DQij_fsE2aOlAaIw', 'eC68ZUwSn9PbvFI5Db665g', '8AzRTJ6Vi16C7Z3In7b9-Q', 'HLxmHBcjX7Lo1cNIkzcgvg', 'TPiBKvLj7WCkk4aR-GGA5g', 'Ph_Y3O2Gck_2MDpNb5tZ1Q', 'owNQHisGCHgI0umu6y0blw', 'XGCgjQcNkCqZ2qxd7zumZQ', 'eSOkD7P16l32C2ScjjHdkg', 'y_vjYvRlSZ90obBn0e-HBw', '4ZMFtTtj12RMFOuaU2ob2A', 'EWQQGTGI9JcBU6yylUe4TQ', '_a3WEJekn06jvHUuChO6aQ', 'S2Nn6PvQoANSMHui8YJoZg', '2rpuW1luhhHlgkf6DSqs3g', 'JBePHoKEmmolvwmubh0S_A', 'fYb2bB3ehhwKLpb2xuddxw', 'FKocJqf-CFR0nEWj3NsOHA', 'IYjhwiJpX6cuMaX46N08QQ', 'IWDGoIsZZc062rTeVcvY5w', 'QjdGiEnlbifhW0x8dUqmKw', 'tjRtiY1odA_P-y1Rz_1pUQ', 'QaRhG3V-CUPSrst2vB-jTg', 'XAOe0CVRIneusQenv8gCaA', 'g9wYLEc7Fcf5_mqc90uj2w', 'Y6ca2aViKH8ZR7WfJXspAw', 'Sze6prQooTFai39OlW1OpQ', 'qzy5qnPYMeROu02bC00fLA', 'N5nt6K8u9ZylNgiWrvlvVA', 'EBIb2VGQG6voJlPN_rf_Ww', 'PfFVczw6CiruouRIKD4MOA', '2a9uVALoPZ7z10u0qDHolA', 'JPlxKVTQuVnYLVBTA9-11Q', 'Qrvm107FqMO-utrv8_s2Jg', 'Kj0x9rBvfTBVYjUCTfEu0A', 'C61Q5ovRv18yRI6jHQkHHQ', '2EyJIQuQ9a9VF5Wr9iKMVw', 'qV2e5842If1FHsrfVG-uCQ', 'AmikwxlasZy3P4QV64d8Ag', '0EnEcJyAz8PZoGsTHLEqxA', 'iXRR4pQ6BnnQaFk-tnymog', 'D2gJbr_lk9roBCEkFtq41Q', 'ZNIBTltJHsHs77XHCvjTIw', 'OCP9ibFyu49ywBcLdbd_fQ', '-GIYUjlr5CmCZaXiXK27EA', '7k5PzkfhjqafS9phhwr6NA', 'eYozRPY1mSB-Ku7x5YzoJQ', 'JRGdJguYEN8ToszRJVKT0w', 'e9YGkLG6bKmHfOdxFPTpiw', 'hbXOq28jP_pwpvEfkNeWhw', 'YRrwQGJZOAHY10cdamFg_A', 'k7xEnqPIEt1aXh-jpqeSVA', '-YqLBYUV85l0eug88jZe5g', 'rHtQmlRjdG_pwU9WySBRRA', 'Kc-E_hs5RFDy_sKZ4WAiQQ', 'bPhGhBcEgr8HCHrsWUKOFA', 'pTZQRnS9CrTYeIjTfUT04w', 'fm1rDWdKcsfBb4g3QDKLzg', 'qK8--EUAeDfRcEtgZW12ag', 'G6F1C322qmA9y-NqPYl_mQ', 'e73wmziUuSAaF3AfkasF6g', '2A56A2GnxWRxxWHk6xQGDg', 'qZSyUxHppVTIVAyZcVDmwA', '-H-bKhuVSlDFBJ0AvvWXPw', 'Tjfy3ebJuAktYjI0CO1iLA', 'oOtK9Pq-xrlipq2bHRIE0Q', 'oAVC7RCZM_S9imDbb8bcmQ', 'Id_OhDmj76wVP2SL-UpNdw', 'p7eLGtcNXeKR7IMbxeZzFQ', 'p5ympzj0ByP4bLRFqgca0g', '8XCPXIjW0ALguG6P6XCeoQ', 'K3srY__fIm15ydHD7otX6Q', '3N80fhUnDPCxIL49AnAAcg', 'hecCnl2INnADT9PaYUbY7Q', 'MfXm3OCmmi9Yk1cudZxV5g', 'DCTFXWaw3bCV9Slr_nYlyA', 'pYhli3aPTYFjV9rablBtcg', 'jn9JdszAB12-lL2aBeADaA', 'qEH8RISQij65KxxXoh-fzA', 'EhNMZGp-xdmdvUIAnuBrfg', 'lb6lcyl96tGPKJ4poQUiMw', '7nIb0wntuGos9Q3eDiHjdw', 'Sk3iE11HO5XHAv5LFHp3NA', 'icAcwP-Vty2PY9oUSnbRfA', 'vXX5CyULWgtzMaqPhWMq6A', 'LSwJv6cmN0GfubAgsh0YWA', 'c-YHlI6gSDiJ9s3TzipKZg', 'ouRbtFrGgE9Gf6X-JC5a5Q', '4gZ1nkTB0p7iPNoqHRrFUQ', '_c-Hd1LBtCBESIPYKW426g', 'BCgbMdlLj3JQJ1pfzArOSA', 'PzldT0Ze8-q_BciGim-rUQ', 'tUCmvo8fOrJVhcHvFZ43CQ', 'Ua_d-oS9Snh9AF7xYfeAow', 'JNnMJ3Em1N8JYvMDoY69UQ', 'V2yfXQHN6pPUSf35pfxVZQ', 'EkpWgZmEqd13IoKqiLeJMQ', 'weoehcWWf0yIrmYMSIhXfQ', 'XSdGflVMWbN_TN2grPRGcg', 'ryc1dbcXw7_4udJSiYXKMg', 'VUcXM5bKj8mzmhVTb5TkwQ', 'fxRtwRCVql4y41NO_vqrJw', 'qZ2UTrko75KT3UkJkx3mZg', 'I-qAQ0NJ5QUu0wjOOgBY5w', 'g_BCFYteP5IYr0s7Xuy3iA', '6gLvpmQoZSPB_Rr0tyx3Qw', '2rDIHZFJ0ScVhEfKyK_oUw', 'KOBjQ23CNNssOztI4RFvCg', 'sgAexRrh2EnEb5gdXWlNcQ', '4-d135m6kik96ZdFffFIIQ', '_jhOSyL6esRZIH588b7Aaw', 'PJ14FVI_h8AYiU8ReM7kVg', 'yLesCdJeC1cr4ZE6QWyG_g', '5tpSanrDFnEZRuP0Id-bUg', 'YYm1LQlCz_TFwZBUmMB9Vw', '2nERDzo5vW-J65A8LWutOg', 'XXjXIGMYz-Ig3ajYjr5S1Q', 'fvRyVp_Ed2_1kHZKTvIc3w', 'uKef91oDGQaGf8kx_-LJ2A', '72UwCuFsBKPvucop4pGSPw', '71Mg2BTTc6xxsGyzBF3JPA', 'KoDgRTWVOQDe67mndBs6oQ', 'NPxaRt3MNLMf_U3EKfsmiA', 'tNMiVhvyj5yG5kzCD2lc2w', 'xX9-hvPFc7K_UurFBygwEw', '5s-aovv3OFbTwV04hbqAMQ', '0LyANxP84WqWdRnQilRIaQ', 'Ui4V5GW_HJstgO0Ck55Q3g', 'WYARX-ZkKeHMyys6MBaXZw', 'EhYHAKO1DoeaKOjBSQl-2g', '_srGl4fbYXF52S1NL8fKHQ', 'CBFnJNydRVtknyJgs1-3RQ', 'EnxkM6WouQS21tzX1pfT-w', 'oqDxwKp7zE3uAH7aufuDIw', 'NL6TN_pV-9vnv_WetvInrQ', 'Oe3ZbublGjaXLK6WUUVuLA', 'lsciw4UQhqm8Jih4kq_J2w', 'WYQj6cS8s9XbZIhNsE9PQA', '0cat-4sr-9Pl7qhFJN-Rqg', 'u64Q_AiuE9X1-w8sf5q93Q', 'cdvcPHb0SNztEGGB7l7TsA', 'TlszJMCguwhOa1J8-8LLhw', 'ykoUko6PLSWrREz1ylT_WQ', 'ZABu3nIhM5sVCCLb67nHPw', 'xRptrOIn54-80LXo10tiow', 'a4bCXxrwG0tilykcmEGZ0w', '6bMm6YqEICkapI0eRIKLWw', 'wKJCKKJi3AR_3rWPZAcaAg', 'cVGts8YTZ-g0nwaQT6UNyA', 'lrd7Q4Vd_c5LLZ_OkFR-Ew', 'BtNImzaVtSj2s1P3UJq5aQ', '9ai4H8Pgp-2PIA6cmw0IIw', 'k0kxQzrOE3-wbptLybw-Iw', 'gHyEbn8hBrL2oKo-QMZmug', 'x0eNc92P1_e7MGIAiuz1uw', '0LH8Crnn5nAD4zMjQPFYlw', 'kWHOIUSOm4lPx-eI4or4Aw', 'Gj5Lf3EM4ZCgnNnWi7NFoQ', 'c25ws9zjulsYP5AmgaeQRw', 'b9bUavV_QeBp2ifHaI_LVA', 'sKyeVjW6B40MgbodpetEQQ', 'kkVoLbYJkG2vo5StFa2p2g', 'oUIb34QfYj6VAsSq17X9gA', 'iE01pOmck7_1KKo5H46xDA', 'XYlHjVGWsi9HEV1RG41rHg', 'i_xDmVqAQb6Ght2GDClWXA', 'q_DeVIzdAdN-zRVCKYHaLA', 'QPvn5pdWZz1YG4DvBtlXoA', 'DUWM_-RbGSRRCA_g2TKKbA', '7k6ljKgSb5YEhXJB3Nk99g', 'RY_nSna0muttMf_nwZEA4g', 'W97e1ueM4zbRiz6Wu1El-A', 'fnyqyMOzGp7w41tS9E3k6A', 'X7zaRytx-Pavce4meXSj7Q', '--Kofko5jy33_vPJOEt4Ow', 'vNr4LsUjBzgJHTrZPwlOIw', 'glXK7zyVH4zjAAhYbcko6w', '988VpTn6D_k5SM-mLvclbg', 'gQippyxQyDhyNLMOjGCofg', 'sYaM6tO9AZVYI-6S4plrUw', 'OlyF9dGSCS8XEL7OHl-0Ug', 'ZasTCO2Z60cGrxhqLt8fcg', 'WdWM0hQcaQXXxS70b9Q_EA', 'N84ivCPGtuZO8f5BYL_z5A', 'HmYjOw_ojuxlXrz9SsHE9Q', 'CHiiCWM8p6DdZEkhCJustw', 'hKx0grJ77BUGqYzQ02VlrA', 'yqIRRx6aLRQysCTbUgd2rw', 'UWqcLFzhPAjzS6k5bSJfRQ', 'nyPpGKs1Od2mrmmK_yiLUA', 'K-hpxGvzzjA-vvjGQDzigQ', 's-VIF9x_62GrxrVMhs3Ngg', 'NlIDRBgn42m40jW-F_Wy4w', '8Vm_lhvnLzVteMzOQgamog', 'ZgBqMMB3YVflQva0hAjkZQ', 'qurx1CLkbdYhzMgYxhBNNQ', 'hMv9FQlHJE-4HXh3x-vYeQ', 'sACVYCtxOm5eN1bfyRIVxQ', 'DgsdSpeGBYNK8fG8joyAyg', '4FTNuCv3Cd73dbz56vpfEA', '9lXHc7GJ-3VY7d1GFMXjKw', '5NaJrw2cbzjF4LC1ssLKmQ', 'BljMHoZEVLVhybN8xZCC4A', 'UC2Cq2kRxuFDzuzKs7LWig', 'y5Yp-NTx4-GDo8Vtwtpd-g', 'DqP0zugBjgVSmWs6VaU4Bg', 'Jg2aJwEjW2_wevWoGPxzbg', 'aOJZLgM6o4MscDo81Butpw', 'tqCunoiDITk_IcwLZPCAYw', 'bfQMTPaQ16gdDHxXU8oHwQ', 'kelyRltvagjRXZDNDBH2EQ', 'OxVv-4D9bk41rx-YtnPQBQ', 'DXwkK0yzqD4WC8yOGrDPYw', 'MR8RrKaHwAArpVC2inc5fw', 'QQkYzbgqzWCCG1BT8ru9Qw', 'aKdGu7-kSLiRGjLK8LPvSw', 'cWblo4j3bc-3swI5QjiIVw', 'GDJnr71xeXTZ-ZCuie85EQ', 'wE2R8PIGvY3xK-f_e1n7Ew', '7Tc1JTNHGc3VYL2NQnjtAQ', 'Szsc0lF_I7VD7qSWoMuXIA', 'F-hQJNCkll9Hxbg3iq067g', '1wVUAL7viRjP-DWzkEWzQA', 'FfqrydwV6Aez1gUDUBrIGA', '57DNDPfUknr3l65yedpNig', 'bQj7vQ5AQ6ozfm2_Nt9fKA', 'wXjP5CH9UPVNnzgEWqAujQ', '5OIysyNIAQT5dwbc0RcOng', 'vcb-5-Vddsa6BhiiHcy_VA', 'gMORy24FDt_xlAQOtxke-g', '-LarWAWoQbw9ZKuTqg_b7Q', 'I33GZ7tAxBO2Ye1-48T13w', 'VYU-HckvFEW9a6WvTz8tSQ', 'CtnC9XBxe843FbZPmle1Hg', 'HaPwBBriIz9M3RNLLOF4Ug', 'm9-H2Dd8eTgx6WKirIj8hQ', 'ZgGDbLJUcu18_6fxeovewg', 'EknCGlglbHLAFOo2sQ_s8A', 'Nood9KtPF7TrVBCjE2VKRA', 'YqpVDIlCYGzOaUN1c9RKhw', 'BIt-e3nSNs92tDpR0n7Bxg', 'zCc-b2VZNhrm5TcBRo-mIw', 'C0OSEaLBGY_syIe8KwFR7A', '00g6HAGJeGB_jnpk3-co6A', 'RwQ39Dgo3nbSho6DMCORnA', 'U0ZMY4_zEoj66sGhR0yXfA', 'quEitlVHfue0mUJ_-4QqJQ', 'fWr_YcwmvFA-M-J0wjhORw', 'Ndtqxovv2zqKt0onhAIo8w', 'P-ea5xTs6TCwKS6Qh9zpUQ', 'N3ljMYdABPgq5X6yeZkTpg', '6O-sGLO1AQtebYFZxDEjZg', 'uDwiDLwWPowABTNUlEYuog', 'nmsLv256RABvAy_uXnG4vw', '6bQE1Qu1-fILv31ISKjA9w', 'f9C45u7D698eTHtYIswqdA', '5vyLuMLj5sXCAo0WaIUqlA', 'K3YxikzR8ShRb6hMQHBY5w', 'yrq4Yeoawv5M41zIlRcThg', '5UpTznYH4znVPmd6lOtwmQ', 'D_NnRD_PVLb5Qv4929GDpw', 'QQQrcsYdeOipZNdNl1FuuA', '5fZuDiBgw0L3wXWWA29nBQ', 'WsWmqr6tNKlip5Hu-dyFgg', '6U2x01QUex2TILDHPwKBTQ', 'RjEHrIPWTxiMpoeHFg5fKw', 'hA78HCv6bfzvN-jBgsxmPQ', 'loa1DMdRUVg71xskXq-30w', 'EW4sUhHfRLkTMXKSbOEDTg', 'unXD5DtPJ0JduIZyk99TfQ', '7awlb5gWz_s8Is0-Y4XY0g', 'WGAEfhr4JKbTXiy-K9ayuA', 'wDMWQUNqTyLzaB1QudznJw', 'MSs3AwmMGhKfWtsFgG8-ug', 'ltAlszDu9eRdn1YdT84fDg', '6CR5lUPYGtOdCmcBthjVgQ', 'AbV43Nfa8A5Y128bJvobWQ', '4PgzXrdV7-wyCbHpk3zUtQ', 'DhxY2oARZ3OKJCnt6FRE0w', 'yvQ7NQ4miavkW7ej9wjuwA', 'jgcD3XIGfKGjjMOz26m3gQ', 'ZAh-prZMw6qhWx8GwNiAHQ', 'ZhN2b56WY9TeqrGQ6WVb9A', '-VEae14BwEcY6ZcCe5AKew', 'vPbb-tv_LJBtePfFJXFOOg', 'gMuz-BRdYEMnMl1OBD6IjQ', 'ytw1BTzp1xb7VnpRTKO6Lw', '7mUuT4j9k6ENN45XO_yccQ', 'McUjwbWs8X70QpM0MxZBNg', '920ApAlhxx8dKO82UCBwJg', 'tMWKjgc4LgsIBPoMqMs3Ng', 'c6N6YGogFKEQUo358U63UA', 'M6amDRRXqK4mZMA85GDeXQ', 's9RUuimAM9B2RGLScPkW0g', 'f8gqOm-1fOMeFl42Ci3fWQ', 'rRMjyEmsacPuhlDPpgr74Q', '3cjH545_q3tOEkz-Lg6i0g', 'ohbYDkZ5e6HTTvFV0MqMig', 'CK-aWboKeVtV5Y_QM9VN-w', 'QtnhdgKcjxJvFGVMpzDFhw', 'LJk4zjHjPCk36I3dau2-XA', 'CfAJ6lHrymKUiJrs90w4Bg', '9vFUAPpzjlEKUTOiN55CkQ', 'yYcHxv9_vNylwxnNInRrDQ', '070iQvcGfVkfv2qFr_dJ1Q', 'AFzvmqeHjPA-6HDmhHQduQ', 'ubnfPZTk-xXpgi8l7u2V8A', '2KOMrJb3mKuijLJcv0_A3Q', 'CrRT3ynLA1DUkZ8lbV1fUA', 'YRINl7YxLg0ixq6_nLYYjA', 'cazSV2C17ANWiIIa4-0X0A', 'vLU0nzvcM4aZmBX9mje89w', 'tDZw61plDaof6YECTA5Tbg', 'hCmzqVloEGzHOvl2_EUcwg', '3FH3oZIGu6k8tgpMJ971Bw', 'oOisFyH7EHCsNLo9nChcFQ', 'hziEKnXsbBeTbpmqeR3yYw', '9MBK-NMju8xDwhCOjpClpg', 'fZ-u2tgHrRYeNSZvujHv1A', 'yl4qAfSLbHLqHYpsNaeKcQ', 'dWPfWIyrfN-uL3CmFUFh9g', 'BuJQZER96lwkd-y04Nlq5w', 'NgdLHbAKqbpb7lmRnwDuRg', 'H24XO4KhciB894RK-GKiQA', 'Z7E_-Sx4kJl8PARFODdHuQ', '6JYaVOIl1qvrdwIQBViH1Q', 'ERI73pTdWlpv8AD32Blxiw', '9DKENaiRgHzlEj9WZVK93g', 'hfeh9ad9Q2iH8hzgfx1e6A', 'lOg1JsG1LPQbCeU1VMOw0A', 'g_JmW5q9dnlCO6VT_ef2Jw', 'cp64hQ60h8OG8YFP-cXEQQ', 'RL0fOSOXyAFsq34GVkVCcQ', 'bgknEnC2TR6Qq-uuocokFw', 'RTbiFwnAp3FPUi2MC6OlDA', 'RgC5cKpUbKie8R_K86zwpQ', 'hxMkQJLLgDCDhZAoFY7Org', 'HwSdVlEjKCg2hprqTT7mrw', 'pX5_dzTZDVno2ApTwC5gQw', 'KAwxyfd9djciS8mG-IHdvA', 'OgpxYjR53UL5vhI6ErCoUA', 'NPo8e6k_fLMRsH_asBQ1Jw', '3a0V2tGQkjl_MjW3m587ow', '_lJWGfUG7amtkZjlgB8OkA', '03dZ9hQl9JG-KxNkzNuiPA', 'qdVh_PcSBBcf8x_cK1n-WQ', 'mmv6eRjw1DGviy9nCYz98w', 'eSLY40JfMJh7SmA_r1Y8wg', 'wSfsk-y1MhbY1T0Ru8H3eg', 'YztoL9SKbfN0IIZlJhkoOQ', 'DPd1AxfKcLRFbokuFI59KQ', 'hE5PgTmbSgVMnCs6CXXQXA', 'NO2l9GEyec-cQG6EujBJeA', 'ZTHIzzS7F4yTATcIfkswgg', 'QRTssVIcFyd8v2fvXRn5fg', 'Lx4jJWowI0K49ZtRAlxPHQ', 'M9Xb7LoGHo43rwUxmg-3tg', 't8YAaYgfisfODua2g-jshA', 'ENejR5WKn__nQu6eZ6X1UQ', 'VsTS_WmMBXqKbs-6mYjPNw', 'XnQTzkJU64x0ZDNu_bDYeg', '5akm2kCSzOPvjnijTOOrZw', '0hU2D8LpO8sfnyE4VH-8jg', 'j5dQk3HKi1POZc6ukcjORw', '29ekFSjt_C0EDa7s1DWGxg', 'G0Z7bNyCeiIoDduEnSyMkQ', 'gspL7mmeVW9dBnzaTi8CUw', 'vo2eEkQ2fRiuN-1G6iCz_g', 'pUuL8XIxxv5hSXImz6uDaA', 'QttrpRsNfrZcomiLypopIQ', 'IO8o_F_u8eOAkgptTf1_Sg', '4yRAq9rxBni_xqjxfNmlyQ', 'PrSPGwcUnFt2ZpPZZzwx1w', 'y8p4K9x93Lwf4LYQmCNqnA', '0IvnF_6lKMyPlqhmIwWEig', 'w_JSFPA47JfS4cntAOFt1w', 'xFrz9P2OX9O_35TdQ6ASCw', 'bPL8tFkHJVhlv7AW5KG6WA', 'XlkTMtU9VT_FNhju62JrTQ', 'gNBWZhi_QjdjnTm4ufP7jg', 'dWWlYPF4y9zy5VqBzwQ_EQ', 'P5KCqpVZWbXSx-dHUGjcdQ', 'bopwpCIL84Sp1jQQGHe9Lg', 'TOHvSmYNEt16wmy9ccRRaw', 'u7h0OhGs3J63bhSNE3Q55w', 'OlxUmHixH8xEfXhHi4xPuQ', 'SzYSftYkranuJhk1IkJ6jA', 'D4fdhobY7uGIcblsmrV2mg', 'iZvnGoAOwVw0SOY4cOOyBg', 'jjjlMRoXmW7QI1pnvdO6Ng', 'y3dwELQws8MQ-J31F0PP1g', 'hkZCXqsrWI384fpoSJ4iGQ', '5vVcHGwH8jXXqVfK1thlYQ', '2SRP5srM8N2jqEmmw62AUg', 'ZJP4HmmMcuyQ0XV5qYVt_Q', 'qjt8GZ-tf6WzKvYKESc-Ug', 'Trx6kCaHtkbhill4lclIOw', 'rpS2-Ber3t6kSsrOcGsBdA', 'eoSBYFnTK4OuW1AM-Qmfsg', 's8N7W1YiRcqFra2hg_dvpA', 's34E89MMp4CPU657-tN6MQ', 'OBYQjjDb8MyBPjOBVcolTA', 'dTj6V9zp2JbA7XCtfWnLMg', '2wq_eNJoHUceBKV5HoMc9w', 'oaVWHee4Hz4AFV2r9r3vzQ', 'ZUvvDsxDN58tVH-7JQDYqg', 'Gw761DlcG41Z2TxNssYBKQ', 'gv_FE7W5i_AYy6z4rHvcHQ', '0Cn3mxz8Iwgl164EVvSDpw', 'W5vhm6ebIJBs3wo29x4O2Q', 'tFqvCm73unO9j9trpcMfPQ', 'zFhVPJTaaenlO2bQz6MY_A', 'sMayCuV5SvGY7egKGynxGA', 'rED4MGgCSxw96G9402er5w', 'I6F9XJC5Ngda9oqkpJFXTg', 'LLUOvHbwhtBZ0jSeT2Em7g', 'C3-pPJ29Km4yBqRabdnchw', '1B8oFNJapLNtZXSFx-GKgA', 'JOfPIkKuOwBr0ASFRn_Kpg', 'GOQRU5CBmWc9bDehrC0ehg', '1Oj-Eoj2tkxrhTfGBxx54g', 'W1Hdm6N9KEkgVf1fzwj5Qw', 'SxBrIOohI29j68UkNeZkbQ', 'u6XuO0aKrHgMIok11zARpg', '3mkuRkOH_kTlhl-VpM8-kQ', 'bTk_C8UnK_sRvfE3rmQfBw', 'OkseoAeT8pxOSxJQXfHs3w', 'eY7DkpISnKX2Bp_skVe7gA', 'tyVJXjMKyXqvJOajDBuD9g', 'KmY19ETF5k3HpORWIUaK1w', '4nLszYny1aK5Xk23AHzcUA', 'qOPmWMUXPOq4xvf8hCFuKg', 'e05PQ49wpqbOf8gohsW8qA', '3OvVqEWexyVmhYHUwgEKvg', '1319ZxnOaFkUZaRZ2eXb4g', '0Oqjd7bI7qaldQB-UWqdDA', 'sn0D5jF9z6dQFKdn2zNjyg', 'HO73gS7C9nQsocZNRrcC_g', 'maWjXDHr_tr7-6g6uLnI_g', 'tklQZg27obBW8ooyPg6oDA', 'ucrx78GDPDwzMZucTiHYyA', 'WNuQ39KAnkgBlOckGxU_9A', 'i12bdheyXPyaWx07hbXtuA', '-iQlLJFgsJsINGC3YS-84w', 'yjJ2pCqCLcRBihrLPJjGMg', 'RK5oOKZ6okKzux5X5njV0Q', 'fHCX3-24b2fkRUQBs78ezA', '-oy839PvhnZSUjpgVOOQIw', 'mucSPdMowr4Xt0WQKFNd9A', '0CLAbYOIdjzr-WqZSFrQng', 'u8aAgQc7L15Z5rtyHz41Ow', '6PWyacfuP_bVb6pwHFFnaQ', 'GEia1_KpHfgx96_ZwIsuNQ', 'B83WWHuzjBapcgBH-ylrzw', 'z-nJwVnO9fyDl94thYNLLA', 'nCbe9qqtHcwT6FrgpSvwpg', '7ncpb2dHOFQ9b80vFZlvHg', 'cebiiwiEpt3moQQBxTDCjQ', 'MJe0TxE8k_EHd4xf3Pfieg', 'lWwKfmS2x5tzoLK8UezeFQ', '8V2q8q2N0StHS2Hk5hBftg', 'JMnN1m9c7aE1Z3HPHYgjkA', 'AOf9cFJoZNa8MAJhIOVwAw', 'Hk_X7CBms9h7HmF0BnfSow', 'KbZESTIx1lIgCkiTL2uExA', 'uXIqaUOAKyn6AobdrwE0kg', 'tXqa5Jo2ZXd8T8TjWumZmg', 'XNNZtnLFpAwp6mXCH8DH8Q', 'dV6yhlbXCr03bFghNqdwvw', 'E3GdZVOBeTdbF73c7ghscA', 'YeD69ngEmDwWY0WtBja5vg', 'CzRqXv_ktgyxeCoxT8uAIg', '1rIIGGLI7CHcnRMgE6NY4w', 'mzMUgeaKHif8cRdjyD0bjg', 'j1og6F-B-Fh5yESignUwkw', 'vegPkQSffGyuVqwoHC2KOQ', '8olooPPxeM-kMwIXN5jibg', 'J6wG5ZMwPhVNGcp-5Ry01Q', '5EypLBwNeiYDjMvDBaYtOA', 'KgYLMvhF1Kviskd7K1f0gw', '5XmMDE7wGMP9Vql_j12tGw', 'PvglF3Zs8mEpl64Wyf8t8Q', 'YiMXJ2ikjlu6yv7cuv3_TA', 'taWkP_Syc78L_h8JYeZUEQ', 'OTkXFUe0UvxIXNDeaMWqlA', 'TwNxcFMGOIuf33_siNxBxg', '_pfymSBvrtL8Q-BHdsEviQ', 'j39km7yNDhDXkBKTZgHYnw', 'TJpqlzmpbU2g9IFueuSLmg', 'OoXq7cCoFPkMjX7P1uNR7g', 'C8cnPiKOJSSLC92WxBUI2A', 'WVSszZ57kAytH9_WDpieoQ', 'Ap2A4SlesA113Ocz4s2YUg', '5NnT5lDQYYqs9eO-HLAORg', 'FAFPE3g0pvfEzPmvBd9zyw', 'mcXz-ehm2P9hTxUsIrLgFA', '3bZyUOeyKWZP0QYv_t5uFw', 'UJsWr2pneUQR0dY3ukCT3g', 'AZVK76FDoV0iKq-NDtpH0A', '407l8ZY77e78GKB1rPwTNQ', 'VwUiIVmWjtuKUEWgOL-cZw', '_wlNIcj5Ot2hZi2TI5AlYg', 'Z18Sb9Chgl2uH_mdVxDY9g', 'yGa7oaFtEstsaQRsxMP64A', 'qhdHLc9rAOxxYRWiObA7DQ', 'CWRvAECkjgRBml56QcvN4Q', 'AQm_Rdh9A5VGJOfHMyZvQg', '-xv5c5z2Y70RVEg2iFmr4Q', '9yZnfw7Y5ltntaC_DUiLgw', 'f7HkfwX1hUJMYtKismJDug', 'UurzSjQnF-2AXbw8_3Hi-Q', 'ftiA54jaLE8uJMSvqmfA4Q', 'zBJS5eNRiov8XgMCs-hsoA', '256xoORVuL3M340iT9yzHQ', 'fir8X0Ul5tlKh07h0O1y-w', 'HBRraXOhzSUkk11aJTocSw', 'eKY2aE6BH6pvHAu6oeZang', 'qgut0L-HCj9if_uLoEwrog', 'vkAKsmNAYyU6TtGFRprK7Q', 'Nf3ifKB-5M9azoS1Z5HG9Q', 'Cis38gRKQcIduQ4ccRjHCA', 'iFtaAf7eHXisvvhqnZqKaQ', '26_x1Y2rjgqm2MIFB18izA', 'TLm2gDFCOlosx17oqLrkrw', '3CL6UW5q5TgQC47poOfgkA', '4y83uVxY09jDV1w-NlxI_g', 'dWZK2bLHoDtfRIKbOq_XTA', 'pdhSTBbBiB-1zHvldzvaig', '0wE9Pf-U2XZOj0gys8TMnA', 'NKpVh8ZJbHDTDPTAJnO_oQ', 'D5wic9L8GWBgD15GFSHjqA', 'fCdhjB6VLlF0bbSRNOS_wg', 'K1tKCQTWxsT_CYmPcowjbw', 'hINFatcxpMWWApuIXK8t-A', 'PKv70dBrRyKDaEGqUOQtQg', 'p13DE8-1JQwsDfn0tZNK2Q', 'ZOiMAGcEwsMoYpIZG6nyfw', 'A5lgu2T-NS-UJbk28HLbWw', 'RH1rIFvq_-520i9ZL6_ODQ', 'Vqd3_W4ltL2pxBiOtlDEyg', 'tiOU6R1j5hy0e2u2vqulnA', 'jFdKSvjVCjN4mQTWUtaCYQ', 'veuruOKTFfkDC7BtTYEn5Q', 'dGKZAhEvUjo26UBvJx-tZw', 'cZidSNZ74JWOSvBblJqukg', 'xRGsOTgK1Un6agX6KVj7vw', 'yHIWdsRhSZkLV0-J_7wMqA', 'zJ6K8Otf8eWcjDXg2F-tOg', 'raoXmgPgxro_di3F1BfUrg', 'XAlJJXILmkGPMnNYQ-tBCw', '4ugwWe1cc9uSV7YMgbFfgA', 'NdgT5bndZv_b8b-vxgxYuA', 'tILVuS5DJR2o-CJ3mhGtYA', 'fQFcLMR0yjXR8MsEeBlH3A', 'nYZLerR7CPG-r8JULuj4sA', 'hDVxQ4BofpCy5KjqsCR2kA', 's0W19QOPjb57ejJn9ogUSw', 'fMz5sfYiiJvvID6izuXLBA', 'McNBNd2Bu2_sMr5OnHGKFA', 'WXctd0ElVEbJLBI_HTwi_g', 'xJiNUaidyIDmsfC_D9EqVg', 'zcrzFYwqclfP1gYSbiSP6Q', 'OnYdeMA8V-gPmd2f3Vl_jA', 'XTr3pEFX0dvQAram0G8iQQ', 'kIynLZCh75N4FwcrRMcEGg', '-mrZYUV-1c4sw_FNSXOmjg', '4y6xKKMxSJjWdj_QUsR5UQ', 'mtBYpaW-1LEO5FFfzQV-GQ', '_S1K1Mpeix_pnkUEOrHbnw', 'q2chGfkYW4aZKoIK4DDoog', 'ldzICAnVviltZIQigCJ3rg', '01iE2Af6jyFTLUJC1v7rsg', '92yUZ8UzKlyJaEgCItK1Cw', 'iWcqTWJ3T3k9qYiNrm16RQ', 'ivWgFWiSHY1HtmcYyt1riw', 'hS7I-F55-wrjdraPOxjK7A', '3fNFW7JgDoFi9OSGyvgdyA', 'jvToTo0AA4bltSNlM6Rizg', 'Wt6Y817QRm84Ppy8QhhSng', 'SME3-cyrofj7XNu1Yf23VA', 'Of-Q9EgQdtRtrKwFzo6Deg', 'unPmbMKcwnBcS67a_L0yzQ', 'hmcjs9r-6bemx5wJ2bwrmg', 'Q1qEUPydrDj-1UO4vKrrmg', 'hGX2Nj1POckwrFXR6oGJ9g', 'Tngh5gHe_yq16t9ipRaq5Q', 'rUvBVZn8O3kCNsulFeqLdQ', 'cXSNtC5N1GNdTVCtEQdUjQ', 'Sa8Dot_liS197HEXbkjLkQ', 'WMjax1Ug0aj70Prpyjznbw', 'ZfB6cbvPd9K_v5zU-g9BWg', 'dJG7C8kccvLsVSRNrilRMw', 'wzabKweYU8estQosWletVA', 'A1yvQFblZtP5q7fDliO97g', 'jY4kFg2Ldq4dQISYdeIV1A', 'qEz6vtpf3_s3jrofVwYU0Q', 'Bwseo4uDSLmCA5SV6mlYIw', 'pgd8FAqC8AiDXHyGxo1RGg', '61rk7Liwwzu4GMYea5L_5Q', 'mGjSZK8yKRLp0uXGoHIs5w', 'huAJjF_gEwlrQnLDMCujcw', 'ZizwKWzawgqzuw02DmpqxA', 'ydNlVFpz7I0q8oISomukSg', '12APDTZm-eIvpOhQygQUIQ', 'mhjk4bV7SP4pFxZk1250Zg', 'VWFwbW67xVRxYHFQLVJRKQ', 'sWeyQAImRs3d-AxwexvFrA', 'M1YP4EgSMB6xP_STbIptVA', 'DBk7dkE1DgnaXvrj_d8wSg', 'D7My93qWrLlgvJm1hoVQsg', '6ggcCWy8pMVgwgOVvzhN6A', '7l1jVhcZCsxjICUpEoa1Kg', 'Tzxu8fQFxfgqz1CdunCXUg', 'BcZLjJ521NQRagIklhNNIQ', 'pymcgVNR3WUM3L__52Z7Iw', 'FEzFPca7s8ftZKtbywKfaw', 'Q5D4A-r8wK3R8GVsNXPB3A', '6ayRtga8VMsDYhQdN1EAiQ', 'zkTDFBoDVDUq79eUqc0Crg', 'sYf0eu-j-upaeTzMaw8iGQ', 'or9cATBSLUCMjhi8aBaQsQ', 'kyehWMaeqiyqEG-kkBibjw', 'h9nDV8tBjvPoXpa7Kns4FA', 'GNwIsK3LW08gPRz03Z2ywg', '74YyTlxycDeN9K5QrFA0ZA', 'XR8YxeWMVpF1SeM1_p4zUw', '6NxJB1WPEeMindp-CBCzmA', '3GmfzusFcz4KEIkzDOdKjA', 'tgoT6dvek6XJoZLNXUpH6Q', 'uup2vDKFmBjyAFSZFzK57A', 'ZQh0H_3xKORCAMXIumvmbQ', 'dIBS8IN2OmlDth07AESXAg', 'Y-nzXwFZFJzcgLEeIJbPFA', 'Cw6jIR0GKOqnn_DW5cY-Dw', '9_2feObKCVIy2503_WhXkg', 'FQb7XRIYUK_SLD3MbSe-XQ', '0x1qg3MvKEsRlQW1huE13g', 'XgoSS-p9u5FuCbRqvXFgag', 'h1iEJ36N87ZeFu7kmEItBw', 'whguDTUc9lhzBOakDAgpCw', 'Zj8EigqmOkaT2gcIWLp_hg', 'z8IMQP2CaEy3zxv7Ej1ZCg', 'zSnKq96gjU65ZNIuqcCm4w', 'w-c6FghS2qOhAlO62WMUvA', '3VTQmlseM0j5X1pdfpqKcw', 'PRNSYWGynmRopaEhMSCbfA', 'uZzaUG7kJ40FI85Ok20E6Q', 'kqDHl9LOf1kPUrQ0k6lYTw', 'l7BHS7lh3w8oirwGt_tfrA', 'ZEMoZlJDoO9P_eizh6cD3g', '0hjr3qrE5A8i0XgVND27hw', 'vmqnUUDDUhwhTAgLkz0ONA', 'jlCDR7yl__6mofXo4NsOmw', 'G6IkEaZQTvdliybCHURoeQ', 'fjzjn0QKh5791HQJkoBo0Q', 'XHNa_D8O38v8G3zA4gSC_w', 'sPLEYFrk1qVLv-hH3lAEgg', 'Km6a4gzt8UUZWNFE8Q7KPg', 'M9soPzJKiCs1G0bOac0o1Q', 'OfOfpypi9J-27tLtYQxyRQ', '-L4KxuFKX5A8dWVq7SXnRg', 'SRZ9gDraE9GjPBLxH73soQ', 'MISCLNxFcYNH7-5PYSRhfw', 'dp90nqg4eZo7RZCm8JxHvw', 'j09_7fcNCmxGz3WhP5XGQg', 'WgWdCMOkrF7bfOrYjcGQvQ', '5skzKb8rMvvYKpZvx2pkkg', 'fCjgeIQQHfnuUDCAKL-VuQ', 'nOCQiwbiOi7Kc9FNzAGO1A', 'r9urgaK8wFAp8QNBNjhSig', 'f2XvImxZrVc9O9Tb0EtZkg', 'SxmoOHXvNMX10qB2jvXwUQ', 'ot7_PrH4qQkahhuUQ3Hq7Q', 'JdclEJQ3jMOYqCV8pqxZXw', '400NwS5qXEedLW2LdSNQWQ', '_DXQ4loEdcYF2y9tZ85fvg', 'EYCOD2LYkzWaR2zKYAFVEw', 'lKoXFPLAyEr3p1IATk3aDA', '5rzVG2iV0DHkJrxrsoF2Ag', 'NJ_NNjJPNFMcQzD9AhLjWQ', 'EFwYxlLgAtORJOtjqZiUpg', 'qH1ag9xaFAxjPS2L6jJeuw', '0RmgMYZud7xfG1-QfmENYw', '1TWCb3gHTr8kaHu_E_tprA', '9Iw8RsMUQdpXSj1aTLsuyQ', '9R0vxOvxSXZLnhjQdwGB3g', 'VegFSbLh2c9Lh9TCTBtrQA', '-W3pMmgtwVpwMkHzgaA5_A', 'bDiREYJUr-kN1OrbcZw74g', '7GRlAqp0LL2Dnt-GtFsb8Q', 'eveUnkcInz3x2pNpWQqKFA', 'N6BWQ4QNt4LubfdWYqUg_Q', 'kQL4EMCbZTI54Ty6rYhNkQ', 'aXH_mHKsXpscJJDiOE5wQA', 'TzA0LMgvfxEf2lQk5rY4NQ', 'X_IxpUdUqXLyvPT5ILit3Q', 'rgzfLABjXNaN_NK_nFPXcg', 'NVIG_arHp3rNla9TE9fu9Q', 'z16Qi1KVh51uTxNx2tvi3Q', '05GHxlpcvYX71f_tSYV-5g', 'Eqk_ZzwhsXWgYyv4L9onMQ', 'a7eHAIdRVJl71e8gaj8ekw', '6EzKYeBv2RRWSLkuApOR-A', 'DpGFEfxdG762wg7WIiEffQ', 'g7khQ10Hzf-DtUCrRJ1a5A', 'na8iCzezs448G--Ka7NaBA', 'eD2LWVYWxbN2AdvSUtJsDg', 'tixdV8e2EECZe9XezoNMEA', 'mk0OyaubHQ1vPqs6v7dUBg', 'qCn0wzlHySQ8LdLsnz_mWw', 'VXMTN6Z-H1JPaCvA83l-iA', 'Q73Vy7wdTIiWtHtSJcFyew', 'D04OU0p3nXFLjdvT2UUU3g', 'VlK1So5J-Ubis1ecNvaToQ', 'pq-exXZ4u05Fpgp67hTiKQ', 'aXx3oTBbZk4L8l-drYPapw', 'ovZwafc08u79iOaOrGgwYg', 'yZCBmw9kGFrUR1cSpWHhSg', '_oqwEqDPPwpUr2oSPA3ybA', 'znWBc70YNTvoJt9tTji-AA', 'qlm2MHqxCQ0A0biIjpYRgQ', 'GQkNW5YJgG68q5HVMKWhJw', 'UisayhRj10pivbz2PHaaVQ', 'xF6yC1YD2pq8uWXowjKFJw', 'wvSUhMr_fWJy84jNzQWchQ', '1aAmcL3s6lFceilOa0XxFw', 'IGGhDTVhP8YBMbPe93cQ3A', 'exMMB6Kza5hNe0A5mdAH9A', 'Joir_L193vPBAosmRtoVNw', 'a_xUC5WupVctXaSvtrCqTw', 'pBP-NbQtvons6yx8EhGIyQ', 'Gxmk05gAHzCyyTDSM6m7UA', 'wRGNEZKsudRCnlIoT4R6wQ', 'Zhy8QetMRoyqGwN2Eb10fA', 'nWdYDw6Wa9hzyBaJEo2HNA', 'T3iAeHt02HT-9M6RM5WOGQ', 'zZ2J_NcJkKt4yzQZVpMEnw', 'A-odydK2E4l_-pKOb6uHuw', 'QYPjw8gklADF56pisksptQ', 'QM2eNVREzNhjQ0RK21_ILQ', 'sUwrH5E3fgVmKKvtSrOXJw', 'mcoxaOkEx6P04P5bxYQNHw', '5PqtatSVwyCnpeo59Mrk-Q', 'OhIK5wxY6psCWugrv9HnJQ', '37Ccrd9eMgc0bxCFhbysEQ', 'umj2cKCFWXUMiFatVc-8sA', 'j0b-tg9AjlUBCqTDu_aTPw', 'vMMLzmFDYUkSjRDmEYI4yA', 'TkeoGgRD_XPQhHrQldl7xg', 'WtVfkkFv1e3ftCVnQ_D6gw', 'gFkjr8qwovWngVykHCVU4w', '0qcSj7op7htGkulHLbULvg', 'kFXyaVYFaiX5vgA7mM7eqg', 'JYnNawDXguAglvW7HO-KGA', 'pVOomvGw6PkZ1EVcM4Jz2Q', 'GEkvcjBLfRE9d3CdSUPisw', '-ftEUR_newxikJGj8-ga2w', 'XyvZzW8ya0elXH7TtnXF4A', 'Qzxydku6Rm7ly_Pal_RMHA', '-ePKaz53aWEXlNnOKriybw', '76p1dZLVLwWEKVuP9VhVLg', 'LYUIB0U4S3pa4q2al2LVcw', 'jsDOjbp9w7SpJKbsYYyZog', 'qww35Wx5P6OxND97iodOOA', 'UX1s8eFzGypSTJ6NlPuNCA', 'A1yymyvq8b_wzT4La__RCg', 'vbmaaLPB8k4b1FRbMdWCQg', '2iVb6e8hrl7o9r34KNbI0Q', 'TwaFUO7ekc7YDs53b_XIZQ', 'ldtYPldi9SXfLqYlb0ehlA', 'DHgvCyXAh4fpYhb8erCgLw', '2jaN03seAKSnQPWdz1vBAQ', 'lqBSSX7zQuNZQsi0-qxvPw', 'E_tK5XDWTvlsgCZZklNPSQ', 'pbq0r25mJzIO-Bh-KM9kaA', 'VB-QpSA6RAvCSPI--lyosQ', 'pHYYMkmJ_XUfTajWE8dDMw', 'hiTAvuvBB97yLIqE9vVdNg', 'RQ1TshwSCBR23VADELgwUw', 'JV7xE_tP3w3eAm97cXBXgA', 'gmc5txtgv0ZNds0kMz4HEA', 'AryQCXI6CqGScT32KMDreQ', 'eaRScFOeQvLl4Yryqz8Kgw', 'JVeVvHu7MNSR2uJdVa0zDw', 'MsWLI2mofKzOy74kr0sgpA', 'hespRUWpHFmZ7nBgGhOMOA', 'Yd1JZQePGomjM3sevkNl0w', 'QQPsPCDhMUpXUnGm_fcJMw', 'c9b6g9MNOchLc8lALark9Q', '_u96oSSAZMvLNU_01Dy7bg', 'U4Gf25xFklytP3YV2L4n2A', '2ei_3xu8H3UxV4NE4vxWRA', 'Jc8uFMSVnSVIb8xm5aJghA', 'o1DRYYi9yHUzZcwCktBx5A', '_GvvjcBcp2ztnuXhFW2wqg', 'p2ylqPMIZcC1saZuxPxRDA', '8y-6KzzFq5-VMTAcu5cleA', 'sClCvZ_uwDvM0Q6TA2mIQw', 'PNdMImcTdPY5cl-kiwWwXg', '0rcmCOz5YzTmrq_fMgtkQw', 'wzALfawQfrKLQNxRYMGVaQ', '1W193IDdolsGGST_rN7Jtw', '6w9xxyt2CSr0DZ1PQq24yQ', 'nwqeXb5LRROOHJHw2VhGYg', 'YTHgrCt4AyyM97jwC8TiiQ', 'JLuX-rXS2aNwHqpmq4Nppw', 'gViOogY5svqu1AzSvKJxqA', 'MWru90hH0JlOpK-9ayVfJw', 'KE2UpRcMbTBo9X_R7GNVzQ', 'Qjf1MwdZXWc-kiJ_dFLVcQ', '8RapCW1l4-HH1jCO8mx9Tw', 'JkEQ5h99kic74AMkX2BM6Q', 'Ep75g5VKgUrOS-wa35ty3Q', 'ihP-GmP5JQzDjU4xG-MLZA', 'lFe2ZEfok6bwRjRvC0WS8w', 'nSoPpxN9cHz92D8AV6Rm2g', 'iuj3TBatfJCpVdYCscom6Q', 'bF3eFyIdlQjGNKIv9sLkLg', 'TcXiontn3kuTlUmcSNBIkw', 'tXXjBBl1NbTFeZ2PedpOvA', 'VFvwvIsjUmq2NKNlFHI72g', 'CAcwnwAWoiyiAOO1ZYdDbQ', 'V17mIh0vDB-oZ34wfw-p9A', 'z3pf36zdnfsTwbhBX8MXtQ', 'MZBNklFjMc_ryJVyg4Uwrw', 'eWm-Zs9ny3J53fq6LLTCLQ', 'r7NiwDq_uhuQ8DOhU5WIBA', 'd9WMwYAvSCXRCNVS4GHruA', '42BbfFPeo6MaJaujWIJpDw', '52pT3BCgUTbQBR4oNM3Nww', 'NQDFVFhJDc_EUaSgQqx2Cg', '6zszT4qyxc4p6HjFbf8fHg', 'cHytkfL-7ZicXQACkElfQw', 'SoA11CodW5RK3tpysSMagg', 'mmGfhsoRg-Ve4G6HpdlUbQ', 'LtI8uVbCCWdhUeZ2cL-anw', 'KOpVJYzpcbscMHrVib7IXQ', 'OPpsr9fBq2RPsQFi56lbyQ', 'DKi6IHJn0_w6ny4OV5yUOw', 'qWPK3WjHW1qKsNHX4MeXvw', 'VQuUq2TAL2u18YcPce_-_A', 'cmaAE9MkOFpiBHG3zh1BQQ', 'U79vnNrL9Dh7YgaslTTlYA', 'P8x8SWmr5Y5nBhnc9paogA', 'm28eTD2dwEhIPdto33gPlw', 'eO-g-HKYH43IC8tRutv5iQ', 'OJgQH2dHPAoVvdPFrC3Bug', 'BVUiAR5VH-tO_QEnrChUbw', 'ruCmrM-wgn3eIYptohehgg', 'MuvGPCPLxIumauWhs28sxQ', 'wyb0LETWVw3P84n352UFsg', 'iHaBS00OhLpvEg5QCDLcUQ', 'vk_F4LsT9b21TdiyCl79lA', 'vp5HXHpxOqjd3Ht60zefuw', 'u_7WS5HNrexty2M1jffdVw', 'M9Ouxc6TuXr-LG-a1nHsDQ']\n"
     ]
    }
   ],
   "source": [
    "lista2 = list(df_final[df_final.reclass_label == 'food'].photo_id)\n",
    "print(lista2)"
   ]
  },
  {
   "cell_type": "code",
   "execution_count": null,
   "metadata": {
    "colab": {
     "base_uri": "https://localhost:8080/",
     "height": 424
    },
    "executionInfo": {
     "elapsed": 283,
     "status": "ok",
     "timestamp": 1662997414999,
     "user": {
      "displayName": "Carlos Cejas",
      "userId": "14504320149228723836"
     },
     "user_tz": -120
    },
    "id": "6OrcdGoXXHUX",
    "outputId": "a3e44ab8-3879-4030-a3c1-ecc7538125cf"
   },
   "outputs": [
    {
     "data": {
      "text/html": [
       "\n",
       "  <div id=\"df-ffa6d70d-c1f6-4417-874c-b9a2357356c0\">\n",
       "    <div class=\"colab-df-container\">\n",
       "      <div>\n",
       "<style scoped>\n",
       "    .dataframe tbody tr th:only-of-type {\n",
       "        vertical-align: middle;\n",
       "    }\n",
       "\n",
       "    .dataframe tbody tr th {\n",
       "        vertical-align: top;\n",
       "    }\n",
       "\n",
       "    .dataframe thead th {\n",
       "        text-align: right;\n",
       "    }\n",
       "</style>\n",
       "<table border=\"1\" class=\"dataframe\">\n",
       "  <thead>\n",
       "    <tr style=\"text-align: right;\">\n",
       "      <th></th>\n",
       "      <th>photo_id</th>\n",
       "      <th>reclass_label</th>\n",
       "      <th>x_size</th>\n",
       "      <th>y_size</th>\n",
       "      <th>mode</th>\n",
       "      <th>pixels</th>\n",
       "    </tr>\n",
       "  </thead>\n",
       "  <tbody>\n",
       "    <tr>\n",
       "      <th>0</th>\n",
       "      <td>fB-J1F60DgMRoc8eI0z0Ew</td>\n",
       "      <td>food</td>\n",
       "      <td>533</td>\n",
       "      <td>400</td>\n",
       "      <td>RGB</td>\n",
       "      <td>213200.0</td>\n",
       "    </tr>\n",
       "    <tr>\n",
       "      <th>1</th>\n",
       "      <td>n2hdfzYgxL0twgfSDbro1w</td>\n",
       "      <td>food</td>\n",
       "      <td>425</td>\n",
       "      <td>282</td>\n",
       "      <td>RGB</td>\n",
       "      <td>119850.0</td>\n",
       "    </tr>\n",
       "    <tr>\n",
       "      <th>2</th>\n",
       "      <td>Z77aLYI_SvAl7PaJ62umJQ</td>\n",
       "      <td>food</td>\n",
       "      <td>300</td>\n",
       "      <td>400</td>\n",
       "      <td>RGB</td>\n",
       "      <td>120000.0</td>\n",
       "    </tr>\n",
       "    <tr>\n",
       "      <th>3</th>\n",
       "      <td>tBdw-FR8aNZcJLa5bX-SdA</td>\n",
       "      <td>food</td>\n",
       "      <td>300</td>\n",
       "      <td>400</td>\n",
       "      <td>RGB</td>\n",
       "      <td>120000.0</td>\n",
       "    </tr>\n",
       "    <tr>\n",
       "      <th>4</th>\n",
       "      <td>z-ftfswcyAAERjoMzKFJ5A</td>\n",
       "      <td>food</td>\n",
       "      <td>470</td>\n",
       "      <td>295</td>\n",
       "      <td>RGB</td>\n",
       "      <td>138650.0</td>\n",
       "    </tr>\n",
       "    <tr>\n",
       "      <th>...</th>\n",
       "      <td>...</td>\n",
       "      <td>...</td>\n",
       "      <td>...</td>\n",
       "      <td>...</td>\n",
       "      <td>...</td>\n",
       "      <td>...</td>\n",
       "    </tr>\n",
       "    <tr>\n",
       "      <th>8200</th>\n",
       "      <td>6dFTuMn4DCaMFslCGzRkJw</td>\n",
       "      <td>menu</td>\n",
       "      <td>600</td>\n",
       "      <td>337</td>\n",
       "      <td>RGB</td>\n",
       "      <td>202200.0</td>\n",
       "    </tr>\n",
       "    <tr>\n",
       "      <th>8201</th>\n",
       "      <td>pYrAKf1qGlgoFnJ_3xqoSw</td>\n",
       "      <td>menu</td>\n",
       "      <td>600</td>\n",
       "      <td>337</td>\n",
       "      <td>RGB</td>\n",
       "      <td>202200.0</td>\n",
       "    </tr>\n",
       "    <tr>\n",
       "      <th>8202</th>\n",
       "      <td>w8rX2hgdiYF0LSGLx5n6GQ</td>\n",
       "      <td>menu</td>\n",
       "      <td>550</td>\n",
       "      <td>400</td>\n",
       "      <td>RGB</td>\n",
       "      <td>220000.0</td>\n",
       "    </tr>\n",
       "    <tr>\n",
       "      <th>8203</th>\n",
       "      <td>RhJXvYqAbeM5ELIzvYJSYQ</td>\n",
       "      <td>menu</td>\n",
       "      <td>300</td>\n",
       "      <td>400</td>\n",
       "      <td>RGB</td>\n",
       "      <td>120000.0</td>\n",
       "    </tr>\n",
       "    <tr>\n",
       "      <th>8204</th>\n",
       "      <td>1QOJhbOLw_Df4VCEx8ALFg</td>\n",
       "      <td>menu</td>\n",
       "      <td>309</td>\n",
       "      <td>400</td>\n",
       "      <td>RGB</td>\n",
       "      <td>123600.0</td>\n",
       "    </tr>\n",
       "  </tbody>\n",
       "</table>\n",
       "<p>8205 rows × 6 columns</p>\n",
       "</div>\n",
       "      <button class=\"colab-df-convert\" onclick=\"convertToInteractive('df-ffa6d70d-c1f6-4417-874c-b9a2357356c0')\"\n",
       "              title=\"Convert this dataframe to an interactive table.\"\n",
       "              style=\"display:none;\">\n",
       "        \n",
       "  <svg xmlns=\"http://www.w3.org/2000/svg\" height=\"24px\"viewBox=\"0 0 24 24\"\n",
       "       width=\"24px\">\n",
       "    <path d=\"M0 0h24v24H0V0z\" fill=\"none\"/>\n",
       "    <path d=\"M18.56 5.44l.94 2.06.94-2.06 2.06-.94-2.06-.94-.94-2.06-.94 2.06-2.06.94zm-11 1L8.5 8.5l.94-2.06 2.06-.94-2.06-.94L8.5 2.5l-.94 2.06-2.06.94zm10 10l.94 2.06.94-2.06 2.06-.94-2.06-.94-.94-2.06-.94 2.06-2.06.94z\"/><path d=\"M17.41 7.96l-1.37-1.37c-.4-.4-.92-.59-1.43-.59-.52 0-1.04.2-1.43.59L10.3 9.45l-7.72 7.72c-.78.78-.78 2.05 0 2.83L4 21.41c.39.39.9.59 1.41.59.51 0 1.02-.2 1.41-.59l7.78-7.78 2.81-2.81c.8-.78.8-2.07 0-2.86zM5.41 20L4 18.59l7.72-7.72 1.47 1.35L5.41 20z\"/>\n",
       "  </svg>\n",
       "      </button>\n",
       "      \n",
       "  <style>\n",
       "    .colab-df-container {\n",
       "      display:flex;\n",
       "      flex-wrap:wrap;\n",
       "      gap: 12px;\n",
       "    }\n",
       "\n",
       "    .colab-df-convert {\n",
       "      background-color: #E8F0FE;\n",
       "      border: none;\n",
       "      border-radius: 50%;\n",
       "      cursor: pointer;\n",
       "      display: none;\n",
       "      fill: #1967D2;\n",
       "      height: 32px;\n",
       "      padding: 0 0 0 0;\n",
       "      width: 32px;\n",
       "    }\n",
       "\n",
       "    .colab-df-convert:hover {\n",
       "      background-color: #E2EBFA;\n",
       "      box-shadow: 0px 1px 2px rgba(60, 64, 67, 0.3), 0px 1px 3px 1px rgba(60, 64, 67, 0.15);\n",
       "      fill: #174EA6;\n",
       "    }\n",
       "\n",
       "    [theme=dark] .colab-df-convert {\n",
       "      background-color: #3B4455;\n",
       "      fill: #D2E3FC;\n",
       "    }\n",
       "\n",
       "    [theme=dark] .colab-df-convert:hover {\n",
       "      background-color: #434B5C;\n",
       "      box-shadow: 0px 1px 3px 1px rgba(0, 0, 0, 0.15);\n",
       "      filter: drop-shadow(0px 1px 2px rgba(0, 0, 0, 0.3));\n",
       "      fill: #FFFFFF;\n",
       "    }\n",
       "  </style>\n",
       "\n",
       "      <script>\n",
       "        const buttonEl =\n",
       "          document.querySelector('#df-ffa6d70d-c1f6-4417-874c-b9a2357356c0 button.colab-df-convert');\n",
       "        buttonEl.style.display =\n",
       "          google.colab.kernel.accessAllowed ? 'block' : 'none';\n",
       "\n",
       "        async function convertToInteractive(key) {\n",
       "          const element = document.querySelector('#df-ffa6d70d-c1f6-4417-874c-b9a2357356c0');\n",
       "          const dataTable =\n",
       "            await google.colab.kernel.invokeFunction('convertToInteractive',\n",
       "                                                     [key], {});\n",
       "          if (!dataTable) return;\n",
       "\n",
       "          const docLinkHtml = 'Like what you see? Visit the ' +\n",
       "            '<a target=\"_blank\" href=https://colab.research.google.com/notebooks/data_table.ipynb>data table notebook</a>'\n",
       "            + ' to learn more about interactive tables.';\n",
       "          element.innerHTML = '';\n",
       "          dataTable['output_type'] = 'display_data';\n",
       "          await google.colab.output.renderOutput(dataTable, element);\n",
       "          const docLink = document.createElement('div');\n",
       "          docLink.innerHTML = docLinkHtml;\n",
       "          element.appendChild(docLink);\n",
       "        }\n",
       "      </script>\n",
       "    </div>\n",
       "  </div>\n",
       "  "
      ],
      "text/plain": [
       "                    photo_id reclass_label x_size y_size mode    pixels\n",
       "0     fB-J1F60DgMRoc8eI0z0Ew          food    533    400  RGB  213200.0\n",
       "1     n2hdfzYgxL0twgfSDbro1w          food    425    282  RGB  119850.0\n",
       "2     Z77aLYI_SvAl7PaJ62umJQ          food    300    400  RGB  120000.0\n",
       "3     tBdw-FR8aNZcJLa5bX-SdA          food    300    400  RGB  120000.0\n",
       "4     z-ftfswcyAAERjoMzKFJ5A          food    470    295  RGB  138650.0\n",
       "...                      ...           ...    ...    ...  ...       ...\n",
       "8200  6dFTuMn4DCaMFslCGzRkJw          menu    600    337  RGB  202200.0\n",
       "8201  pYrAKf1qGlgoFnJ_3xqoSw          menu    600    337  RGB  202200.0\n",
       "8202  w8rX2hgdiYF0LSGLx5n6GQ          menu    550    400  RGB  220000.0\n",
       "8203  RhJXvYqAbeM5ELIzvYJSYQ          menu    300    400  RGB  120000.0\n",
       "8204  1QOJhbOLw_Df4VCEx8ALFg          menu    309    400  RGB  123600.0\n",
       "\n",
       "[8205 rows x 6 columns]"
      ]
     },
     "execution_count": 63,
     "metadata": {},
     "output_type": "execute_result"
    }
   ],
   "source": [
    "df_final"
   ]
  },
  {
   "cell_type": "code",
   "execution_count": null,
   "metadata": {
    "colab": {
     "base_uri": "https://localhost:8080/",
     "height": 265
    },
    "executionInfo": {
     "elapsed": 938,
     "status": "ok",
     "timestamp": 1663000282915,
     "user": {
      "displayName": "Carlos Cejas",
      "userId": "14504320149228723836"
     },
     "user_tz": -120
    },
    "id": "y325KMEZVd23",
    "outputId": "497a870f-5b29-4c9d-cd57-ba95ee0316a9"
   },
   "outputs": [
    {
     "data": {
      "image/png": "[encoded data removed]",
      "text/plain": [
       "<Figure size 432x288 with 1 Axes>"
      ]
     },
     "metadata": {
      "needs_background": "light"
     },
     "output_type": "display_data"
    }
   ],
   "source": [
    "plt.scatter(df_final['x_size'],df_final['y_size'])\n",
    "plt.show()"
   ]
  },
  {
   "cell_type": "code",
   "execution_count": null,
   "metadata": {
    "colab": {
     "base_uri": "https://localhost:8080/",
     "height": 282
    },
    "executionInfo": {
     "elapsed": 813,
     "status": "ok",
     "timestamp": 1662997592782,
     "user": {
      "displayName": "Carlos Cejas",
      "userId": "14504320149228723836"
     },
     "user_tz": -120
    },
    "id": "oJ_CpopMYR6o",
    "outputId": "02af9053-a8b9-45c4-b92f-de7a1cd15f0b"
   },
   "outputs": [
    {
     "data": {
      "text/plain": [
       "<matplotlib.axes._subplots.AxesSubplot at 0x7fbd78272ed0>"
      ]
     },
     "execution_count": 67,
     "metadata": {},
     "output_type": "execute_result"
    },
    {
     "data": {
      "image/png": "[encoded data removed]",
      "text/plain": [
       "<Figure size 432x288 with 1 Axes>"
      ]
     },
     "metadata": {
      "needs_background": "light"
     },
     "output_type": "display_data"
    }
   ],
   "source": [
    "df_final.x_size.plot(kind='hist')"
   ]
  },
  {
   "cell_type": "code",
   "execution_count": null,
   "metadata": {
    "colab": {
     "base_uri": "https://localhost:8080/",
     "height": 282
    },
    "executionInfo": {
     "elapsed": 296,
     "status": "ok",
     "timestamp": 1662997613880,
     "user": {
      "displayName": "Carlos Cejas",
      "userId": "14504320149228723836"
     },
     "user_tz": -120
    },
    "id": "1ttXP87cYa6s",
    "outputId": "cac912ef-a4da-4c07-b480-d89509d88280"
   },
   "outputs": [
    {
     "data": {
      "text/plain": [
       "<matplotlib.axes._subplots.AxesSubplot at 0x7fbd7818a790>"
      ]
     },
     "execution_count": 68,
     "metadata": {},
     "output_type": "execute_result"
    },
    {
     "data": {
      "image/png": "[encoded data removed]",
      "text/plain": [
       "<Figure size 432x288 with 1 Axes>"
      ]
     },
     "metadata": {
      "needs_background": "light"
     },
     "output_type": "display_data"
    }
   ],
   "source": [
    "df_final.y_size.plot(kind='hist')"
   ]
  },
  {
   "cell_type": "code",
   "execution_count": null,
   "metadata": {
    "colab": {
     "base_uri": "https://localhost:8080/",
     "height": 300
    },
    "executionInfo": {
     "elapsed": 244,
     "status": "ok",
     "timestamp": 1662999727541,
     "user": {
      "displayName": "Carlos Cejas",
      "userId": "14504320149228723836"
     },
     "user_tz": -120
    },
    "id": "1nm4Bx5EgbF4",
    "outputId": "eb9ff776-553d-4c45-a51b-1c211da48ea4"
   },
   "outputs": [
    {
     "data": {
      "text/html": [
       "\n",
       "  <div id=\"df-fb8cfc2e-f2e1-4b86-82c6-99003cb0067c\">\n",
       "    <div class=\"colab-df-container\">\n",
       "      <div>\n",
       "<style scoped>\n",
       "    .dataframe tbody tr th:only-of-type {\n",
       "        vertical-align: middle;\n",
       "    }\n",
       "\n",
       "    .dataframe tbody tr th {\n",
       "        vertical-align: top;\n",
       "    }\n",
       "\n",
       "    .dataframe thead th {\n",
       "        text-align: right;\n",
       "    }\n",
       "</style>\n",
       "<table border=\"1\" class=\"dataframe\">\n",
       "  <thead>\n",
       "    <tr style=\"text-align: right;\">\n",
       "      <th></th>\n",
       "      <th>pixels</th>\n",
       "    </tr>\n",
       "  </thead>\n",
       "  <tbody>\n",
       "    <tr>\n",
       "      <th>count</th>\n",
       "      <td>8205.000000</td>\n",
       "    </tr>\n",
       "    <tr>\n",
       "      <th>mean</th>\n",
       "      <td>180526.751859</td>\n",
       "    </tr>\n",
       "    <tr>\n",
       "      <th>std</th>\n",
       "      <td>50126.884536</td>\n",
       "    </tr>\n",
       "    <tr>\n",
       "      <th>min</th>\n",
       "      <td>13536.000000</td>\n",
       "    </tr>\n",
       "    <tr>\n",
       "      <th>25%</th>\n",
       "      <td>120000.000000</td>\n",
       "    </tr>\n",
       "    <tr>\n",
       "      <th>50%</th>\n",
       "      <td>202200.000000</td>\n",
       "    </tr>\n",
       "    <tr>\n",
       "      <th>75%</th>\n",
       "      <td>213600.000000</td>\n",
       "    </tr>\n",
       "    <tr>\n",
       "      <th>max</th>\n",
       "      <td>240000.000000</td>\n",
       "    </tr>\n",
       "  </tbody>\n",
       "</table>\n",
       "</div>\n",
       "      <button class=\"colab-df-convert\" onclick=\"convertToInteractive('df-fb8cfc2e-f2e1-4b86-82c6-99003cb0067c')\"\n",
       "              title=\"Convert this dataframe to an interactive table.\"\n",
       "              style=\"display:none;\">\n",
       "        \n",
       "  <svg xmlns=\"http://www.w3.org/2000/svg\" height=\"24px\"viewBox=\"0 0 24 24\"\n",
       "       width=\"24px\">\n",
       "    <path d=\"M0 0h24v24H0V0z\" fill=\"none\"/>\n",
       "    <path d=\"M18.56 5.44l.94 2.06.94-2.06 2.06-.94-2.06-.94-.94-2.06-.94 2.06-2.06.94zm-11 1L8.5 8.5l.94-2.06 2.06-.94-2.06-.94L8.5 2.5l-.94 2.06-2.06.94zm10 10l.94 2.06.94-2.06 2.06-.94-2.06-.94-.94-2.06-.94 2.06-2.06.94z\"/><path d=\"M17.41 7.96l-1.37-1.37c-.4-.4-.92-.59-1.43-.59-.52 0-1.04.2-1.43.59L10.3 9.45l-7.72 7.72c-.78.78-.78 2.05 0 2.83L4 21.41c.39.39.9.59 1.41.59.51 0 1.02-.2 1.41-.59l7.78-7.78 2.81-2.81c.8-.78.8-2.07 0-2.86zM5.41 20L4 18.59l7.72-7.72 1.47 1.35L5.41 20z\"/>\n",
       "  </svg>\n",
       "      </button>\n",
       "      \n",
       "  <style>\n",
       "    .colab-df-container {\n",
       "      display:flex;\n",
       "      flex-wrap:wrap;\n",
       "      gap: 12px;\n",
       "    }\n",
       "\n",
       "    .colab-df-convert {\n",
       "      background-color: #E8F0FE;\n",
       "      border: none;\n",
       "      border-radius: 50%;\n",
       "      cursor: pointer;\n",
       "      display: none;\n",
       "      fill: #1967D2;\n",
       "      height: 32px;\n",
       "      padding: 0 0 0 0;\n",
       "      width: 32px;\n",
       "    }\n",
       "\n",
       "    .colab-df-convert:hover {\n",
       "      background-color: #E2EBFA;\n",
       "      box-shadow: 0px 1px 2px rgba(60, 64, 67, 0.3), 0px 1px 3px 1px rgba(60, 64, 67, 0.15);\n",
       "      fill: #174EA6;\n",
       "    }\n",
       "\n",
       "    [theme=dark] .colab-df-convert {\n",
       "      background-color: #3B4455;\n",
       "      fill: #D2E3FC;\n",
       "    }\n",
       "\n",
       "    [theme=dark] .colab-df-convert:hover {\n",
       "      background-color: #434B5C;\n",
       "      box-shadow: 0px 1px 3px 1px rgba(0, 0, 0, 0.15);\n",
       "      filter: drop-shadow(0px 1px 2px rgba(0, 0, 0, 0.3));\n",
       "      fill: #FFFFFF;\n",
       "    }\n",
       "  </style>\n",
       "\n",
       "      <script>\n",
       "        const buttonEl =\n",
       "          document.querySelector('#df-fb8cfc2e-f2e1-4b86-82c6-99003cb0067c button.colab-df-convert');\n",
       "        buttonEl.style.display =\n",
       "          google.colab.kernel.accessAllowed ? 'block' : 'none';\n",
       "\n",
       "        async function convertToInteractive(key) {\n",
       "          const element = document.querySelector('#df-fb8cfc2e-f2e1-4b86-82c6-99003cb0067c');\n",
       "          const dataTable =\n",
       "            await google.colab.kernel.invokeFunction('convertToInteractive',\n",
       "                                                     [key], {});\n",
       "          if (!dataTable) return;\n",
       "\n",
       "          const docLinkHtml = 'Like what you see? Visit the ' +\n",
       "            '<a target=\"_blank\" href=https://colab.research.google.com/notebooks/data_table.ipynb>data table notebook</a>'\n",
       "            + ' to learn more about interactive tables.';\n",
       "          element.innerHTML = '';\n",
       "          dataTable['output_type'] = 'display_data';\n",
       "          await google.colab.output.renderOutput(dataTable, element);\n",
       "          const docLink = document.createElement('div');\n",
       "          docLink.innerHTML = docLinkHtml;\n",
       "          element.appendChild(docLink);\n",
       "        }\n",
       "      </script>\n",
       "    </div>\n",
       "  </div>\n",
       "  "
      ],
      "text/plain": [
       "              pixels\n",
       "count    8205.000000\n",
       "mean   180526.751859\n",
       "std     50126.884536\n",
       "min     13536.000000\n",
       "25%    120000.000000\n",
       "50%    202200.000000\n",
       "75%    213600.000000\n",
       "max    240000.000000"
      ]
     },
     "execution_count": 78,
     "metadata": {},
     "output_type": "execute_result"
    }
   ],
   "source": [
    "df_final.describe()"
   ]
  },
  {
   "cell_type": "code",
   "execution_count": null,
   "metadata": {
    "colab": {
     "base_uri": "https://localhost:8080/",
     "height": 424
    },
    "executionInfo": {
     "elapsed": 5,
     "status": "ok",
     "timestamp": 1662999797496,
     "user": {
      "displayName": "Carlos Cejas",
      "userId": "14504320149228723836"
     },
     "user_tz": -120
    },
    "id": "i800cgjPggo-",
    "outputId": "61d5bac4-8ee8-41c8-a1b7-fa0ad925a949"
   },
   "outputs": [
    {
     "data": {
      "text/html": [
       "\n",
       "  <div id=\"df-5d55bd9e-f069-44a7-9268-3d8926fede57\">\n",
       "    <div class=\"colab-df-container\">\n",
       "      <div>\n",
       "<style scoped>\n",
       "    .dataframe tbody tr th:only-of-type {\n",
       "        vertical-align: middle;\n",
       "    }\n",
       "\n",
       "    .dataframe tbody tr th {\n",
       "        vertical-align: top;\n",
       "    }\n",
       "\n",
       "    .dataframe thead th {\n",
       "        text-align: right;\n",
       "    }\n",
       "</style>\n",
       "<table border=\"1\" class=\"dataframe\">\n",
       "  <thead>\n",
       "    <tr style=\"text-align: right;\">\n",
       "      <th></th>\n",
       "      <th>photo_id</th>\n",
       "      <th>reclass_label</th>\n",
       "      <th>x_size</th>\n",
       "      <th>y_size</th>\n",
       "      <th>mode</th>\n",
       "      <th>pixels</th>\n",
       "    </tr>\n",
       "  </thead>\n",
       "  <tbody>\n",
       "    <tr>\n",
       "      <th>0</th>\n",
       "      <td>fB-J1F60DgMRoc8eI0z0Ew</td>\n",
       "      <td>food</td>\n",
       "      <td>533</td>\n",
       "      <td>400</td>\n",
       "      <td>RGB</td>\n",
       "      <td>213200.0</td>\n",
       "    </tr>\n",
       "    <tr>\n",
       "      <th>1</th>\n",
       "      <td>n2hdfzYgxL0twgfSDbro1w</td>\n",
       "      <td>food</td>\n",
       "      <td>425</td>\n",
       "      <td>282</td>\n",
       "      <td>RGB</td>\n",
       "      <td>119850.0</td>\n",
       "    </tr>\n",
       "    <tr>\n",
       "      <th>2</th>\n",
       "      <td>Z77aLYI_SvAl7PaJ62umJQ</td>\n",
       "      <td>food</td>\n",
       "      <td>300</td>\n",
       "      <td>400</td>\n",
       "      <td>RGB</td>\n",
       "      <td>120000.0</td>\n",
       "    </tr>\n",
       "    <tr>\n",
       "      <th>3</th>\n",
       "      <td>tBdw-FR8aNZcJLa5bX-SdA</td>\n",
       "      <td>food</td>\n",
       "      <td>300</td>\n",
       "      <td>400</td>\n",
       "      <td>RGB</td>\n",
       "      <td>120000.0</td>\n",
       "    </tr>\n",
       "    <tr>\n",
       "      <th>4</th>\n",
       "      <td>z-ftfswcyAAERjoMzKFJ5A</td>\n",
       "      <td>food</td>\n",
       "      <td>470</td>\n",
       "      <td>295</td>\n",
       "      <td>RGB</td>\n",
       "      <td>138650.0</td>\n",
       "    </tr>\n",
       "    <tr>\n",
       "      <th>...</th>\n",
       "      <td>...</td>\n",
       "      <td>...</td>\n",
       "      <td>...</td>\n",
       "      <td>...</td>\n",
       "      <td>...</td>\n",
       "      <td>...</td>\n",
       "    </tr>\n",
       "    <tr>\n",
       "      <th>8200</th>\n",
       "      <td>6dFTuMn4DCaMFslCGzRkJw</td>\n",
       "      <td>menu</td>\n",
       "      <td>600</td>\n",
       "      <td>337</td>\n",
       "      <td>RGB</td>\n",
       "      <td>202200.0</td>\n",
       "    </tr>\n",
       "    <tr>\n",
       "      <th>8201</th>\n",
       "      <td>pYrAKf1qGlgoFnJ_3xqoSw</td>\n",
       "      <td>menu</td>\n",
       "      <td>600</td>\n",
       "      <td>337</td>\n",
       "      <td>RGB</td>\n",
       "      <td>202200.0</td>\n",
       "    </tr>\n",
       "    <tr>\n",
       "      <th>8202</th>\n",
       "      <td>w8rX2hgdiYF0LSGLx5n6GQ</td>\n",
       "      <td>menu</td>\n",
       "      <td>550</td>\n",
       "      <td>400</td>\n",
       "      <td>RGB</td>\n",
       "      <td>220000.0</td>\n",
       "    </tr>\n",
       "    <tr>\n",
       "      <th>8203</th>\n",
       "      <td>RhJXvYqAbeM5ELIzvYJSYQ</td>\n",
       "      <td>menu</td>\n",
       "      <td>300</td>\n",
       "      <td>400</td>\n",
       "      <td>RGB</td>\n",
       "      <td>120000.0</td>\n",
       "    </tr>\n",
       "    <tr>\n",
       "      <th>8204</th>\n",
       "      <td>1QOJhbOLw_Df4VCEx8ALFg</td>\n",
       "      <td>menu</td>\n",
       "      <td>309</td>\n",
       "      <td>400</td>\n",
       "      <td>RGB</td>\n",
       "      <td>123600.0</td>\n",
       "    </tr>\n",
       "  </tbody>\n",
       "</table>\n",
       "<p>8205 rows × 6 columns</p>\n",
       "</div>\n",
       "      <button class=\"colab-df-convert\" onclick=\"convertToInteractive('df-5d55bd9e-f069-44a7-9268-3d8926fede57')\"\n",
       "              title=\"Convert this dataframe to an interactive table.\"\n",
       "              style=\"display:none;\">\n",
       "        \n",
       "  <svg xmlns=\"http://www.w3.org/2000/svg\" height=\"24px\"viewBox=\"0 0 24 24\"\n",
       "       width=\"24px\">\n",
       "    <path d=\"M0 0h24v24H0V0z\" fill=\"none\"/>\n",
       "    <path d=\"M18.56 5.44l.94 2.06.94-2.06 2.06-.94-2.06-.94-.94-2.06-.94 2.06-2.06.94zm-11 1L8.5 8.5l.94-2.06 2.06-.94-2.06-.94L8.5 2.5l-.94 2.06-2.06.94zm10 10l.94 2.06.94-2.06 2.06-.94-2.06-.94-.94-2.06-.94 2.06-2.06.94z\"/><path d=\"M17.41 7.96l-1.37-1.37c-.4-.4-.92-.59-1.43-.59-.52 0-1.04.2-1.43.59L10.3 9.45l-7.72 7.72c-.78.78-.78 2.05 0 2.83L4 21.41c.39.39.9.59 1.41.59.51 0 1.02-.2 1.41-.59l7.78-7.78 2.81-2.81c.8-.78.8-2.07 0-2.86zM5.41 20L4 18.59l7.72-7.72 1.47 1.35L5.41 20z\"/>\n",
       "  </svg>\n",
       "      </button>\n",
       "      \n",
       "  <style>\n",
       "    .colab-df-container {\n",
       "      display:flex;\n",
       "      flex-wrap:wrap;\n",
       "      gap: 12px;\n",
       "    }\n",
       "\n",
       "    .colab-df-convert {\n",
       "      background-color: #E8F0FE;\n",
       "      border: none;\n",
       "      border-radius: 50%;\n",
       "      cursor: pointer;\n",
       "      display: none;\n",
       "      fill: #1967D2;\n",
       "      height: 32px;\n",
       "      padding: 0 0 0 0;\n",
       "      width: 32px;\n",
       "    }\n",
       "\n",
       "    .colab-df-convert:hover {\n",
       "      background-color: #E2EBFA;\n",
       "      box-shadow: 0px 1px 2px rgba(60, 64, 67, 0.3), 0px 1px 3px 1px rgba(60, 64, 67, 0.15);\n",
       "      fill: #174EA6;\n",
       "    }\n",
       "\n",
       "    [theme=dark] .colab-df-convert {\n",
       "      background-color: #3B4455;\n",
       "      fill: #D2E3FC;\n",
       "    }\n",
       "\n",
       "    [theme=dark] .colab-df-convert:hover {\n",
       "      background-color: #434B5C;\n",
       "      box-shadow: 0px 1px 3px 1px rgba(0, 0, 0, 0.15);\n",
       "      filter: drop-shadow(0px 1px 2px rgba(0, 0, 0, 0.3));\n",
       "      fill: #FFFFFF;\n",
       "    }\n",
       "  </style>\n",
       "\n",
       "      <script>\n",
       "        const buttonEl =\n",
       "          document.querySelector('#df-5d55bd9e-f069-44a7-9268-3d8926fede57 button.colab-df-convert');\n",
       "        buttonEl.style.display =\n",
       "          google.colab.kernel.accessAllowed ? 'block' : 'none';\n",
       "\n",
       "        async function convertToInteractive(key) {\n",
       "          const element = document.querySelector('#df-5d55bd9e-f069-44a7-9268-3d8926fede57');\n",
       "          const dataTable =\n",
       "            await google.colab.kernel.invokeFunction('convertToInteractive',\n",
       "                                                     [key], {});\n",
       "          if (!dataTable) return;\n",
       "\n",
       "          const docLinkHtml = 'Like what you see? Visit the ' +\n",
       "            '<a target=\"_blank\" href=https://colab.research.google.com/notebooks/data_table.ipynb>data table notebook</a>'\n",
       "            + ' to learn more about interactive tables.';\n",
       "          element.innerHTML = '';\n",
       "          dataTable['output_type'] = 'display_data';\n",
       "          await google.colab.output.renderOutput(dataTable, element);\n",
       "          const docLink = document.createElement('div');\n",
       "          docLink.innerHTML = docLinkHtml;\n",
       "          element.appendChild(docLink);\n",
       "        }\n",
       "      </script>\n",
       "    </div>\n",
       "  </div>\n",
       "  "
      ],
      "text/plain": [
       "                    photo_id reclass_label x_size y_size mode    pixels\n",
       "0     fB-J1F60DgMRoc8eI0z0Ew          food    533    400  RGB  213200.0\n",
       "1     n2hdfzYgxL0twgfSDbro1w          food    425    282  RGB  119850.0\n",
       "2     Z77aLYI_SvAl7PaJ62umJQ          food    300    400  RGB  120000.0\n",
       "3     tBdw-FR8aNZcJLa5bX-SdA          food    300    400  RGB  120000.0\n",
       "4     z-ftfswcyAAERjoMzKFJ5A          food    470    295  RGB  138650.0\n",
       "...                      ...           ...    ...    ...  ...       ...\n",
       "8200  6dFTuMn4DCaMFslCGzRkJw          menu    600    337  RGB  202200.0\n",
       "8201  pYrAKf1qGlgoFnJ_3xqoSw          menu    600    337  RGB  202200.0\n",
       "8202  w8rX2hgdiYF0LSGLx5n6GQ          menu    550    400  RGB  220000.0\n",
       "8203  RhJXvYqAbeM5ELIzvYJSYQ          menu    300    400  RGB  120000.0\n",
       "8204  1QOJhbOLw_Df4VCEx8ALFg          menu    309    400  RGB  123600.0\n",
       "\n",
       "[8205 rows x 6 columns]"
      ]
     },
     "execution_count": 80,
     "metadata": {},
     "output_type": "execute_result"
    }
   ],
   "source": [
    "df_final"
   ]
  }
 ],
 "metadata": {
  "colab": {
   "collapsed_sections": [],
   "provenance": []
  },
  "kernelspec": {
   "display_name": "Python 3 (ipykernel)",
   "language": "python",
   "name": "python3"
  },
  "language_info": {
   "codemirror_mode": {
    "name": "ipython",
    "version": 3
   },
   "file_extension": ".py",
   "mimetype": "text/x-python",
   "name": "python",
   "nbconvert_exporter": "python",
   "pygments_lexer": "ipython3",
   "version": "3.8.10"
  }
 },
 "nbformat": 4,
 "nbformat_minor": 1
}
