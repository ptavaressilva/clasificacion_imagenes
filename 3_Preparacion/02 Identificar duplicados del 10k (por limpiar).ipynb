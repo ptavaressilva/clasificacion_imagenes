{
 "cells": [
  {
   "cell_type": "code",
   "execution_count": null,
   "metadata": {
    "id": "9NEeD2JE2qTV"
   },
   "outputs": [],
   "source": [
    "!pip install difPy"
   ]
  },
  {
   "cell_type": "code",
   "execution_count": null,
   "metadata": {
    "id": "zBWEbGw82qTY"
   },
   "outputs": [],
   "source": [
    "import os\n",
    "import json\n",
    "import shutil\n",
    "import pandas as pd\n",
    "\n",
    "from difPy import dif\n"
   ]
  },
  {
   "cell_type": "code",
   "execution_count": null,
   "metadata": {
    "id": "54CY9f5e2qTZ",
    "outputId": "d461d193-9cb4-4cc8-c663-a3a121cfbc77"
   },
   "outputs": [
    {
     "data": {
      "text/html": [
       "<div>\n",
       "<style scoped>\n",
       "    .dataframe tbody tr th:only-of-type {\n",
       "        vertical-align: middle;\n",
       "    }\n",
       "\n",
       "    .dataframe tbody tr th {\n",
       "        vertical-align: top;\n",
       "    }\n",
       "\n",
       "    .dataframe thead th {\n",
       "        text-align: right;\n",
       "    }\n",
       "</style>\n",
       "<table border=\"1\" class=\"dataframe\">\n",
       "  <thead>\n",
       "    <tr style=\"text-align: right;\">\n",
       "      <th></th>\n",
       "      <th>photo_id</th>\n",
       "      <th>business_id</th>\n",
       "      <th>caption</th>\n",
       "      <th>label</th>\n",
       "    </tr>\n",
       "  </thead>\n",
       "  <tbody>\n",
       "    <tr>\n",
       "      <th>0</th>\n",
       "      <td>fB-J1F60DgMRoc8eI0z0Ew</td>\n",
       "      <td>JHRlwxxKY0JJcU97rJ-Bug</td>\n",
       "      <td></td>\n",
       "      <td>food</td>\n",
       "    </tr>\n",
       "    <tr>\n",
       "      <th>1</th>\n",
       "      <td>f1t6JY4lclKHOru7CTwC6g</td>\n",
       "      <td>qiWD-qUrHYJ7xRHla68xiQ</td>\n",
       "      <td></td>\n",
       "      <td>food</td>\n",
       "    </tr>\n",
       "    <tr>\n",
       "      <th>2</th>\n",
       "      <td>n2hdfzYgxL0twgfSDbro1w</td>\n",
       "      <td>6Y61FisC5lEVxLEaMzyUUQ</td>\n",
       "      <td></td>\n",
       "      <td>food</td>\n",
       "    </tr>\n",
       "    <tr>\n",
       "      <th>3</th>\n",
       "      <td>Z77aLYI_SvAl7PaJ62umJQ</td>\n",
       "      <td>jar_5KMQZtgOseRdUN3L0w</td>\n",
       "      <td>Hazelnut gelato</td>\n",
       "      <td>food</td>\n",
       "    </tr>\n",
       "    <tr>\n",
       "      <th>4</th>\n",
       "      <td>tBdw-FR8aNZcJLa5bX-SdA</td>\n",
       "      <td>UB8sxbUN7kPZum22U2O9kg</td>\n",
       "      <td>Mushroom Cheesesteak</td>\n",
       "      <td>food</td>\n",
       "    </tr>\n",
       "  </tbody>\n",
       "</table>\n",
       "</div>"
      ],
      "text/plain": [
       "                 photo_id             business_id               caption label\n",
       "0  fB-J1F60DgMRoc8eI0z0Ew  JHRlwxxKY0JJcU97rJ-Bug                        food\n",
       "1  f1t6JY4lclKHOru7CTwC6g  qiWD-qUrHYJ7xRHla68xiQ                        food\n",
       "2  n2hdfzYgxL0twgfSDbro1w  6Y61FisC5lEVxLEaMzyUUQ                        food\n",
       "3  Z77aLYI_SvAl7PaJ62umJQ  jar_5KMQZtgOseRdUN3L0w       Hazelnut gelato  food\n",
       "4  tBdw-FR8aNZcJLa5bX-SdA  UB8sxbUN7kPZum22U2O9kg  Mushroom Cheesesteak  food"
      ]
     },
     "execution_count": 3,
     "metadata": {},
     "output_type": "execute_result"
    }
   ],
   "source": [
    "json_path = '/Users/tonivila/Downloads/df_10k.json'\n",
    "\n",
    "df = pd.read_json(json_path)\n",
    "df.head()"
   ]
  },
  {
   "cell_type": "code",
   "execution_count": null,
   "metadata": {
    "id": "uMKZZtiB2qTa"
   },
   "outputs": [],
   "source": [
    "def duplicates_finder(label, dir_ori, dir_dest, save_dir):\n",
    "    pic_ids = list(df[df['label'] == label].photo_id)\n",
    "\n",
    "    for i in pic_ids:\n",
    "        try:\n",
    "            shutil.copy(dir_ori + '/' + i + '.jpg', dir_dest)\n",
    "\n",
    "        except:\n",
    "            pass\n",
    "\n",
    "    search = dif(dir_dest, show_progress=True)\n",
    "    results = search.result\n",
    "\n",
    "    with open(save_dir + f'{label}_duplicates.json', 'w') as sv:\n",
    "        json.dump(results, sv)\n",
    "    \n",
    "    return results\n",
    "\n",
    "\n"
   ]
  },
  {
   "cell_type": "code",
   "execution_count": null,
   "metadata": {
    "id": "YvT6hKTG2qTa"
   },
   "outputs": [],
   "source": [
    "origin = '/Users/tonivila/Downloads/imagenes_negocios'\n",
    "destination = '/Users/tonivila/Downloads/menu'\n",
    "save = '/Users/tonivila/Downloads/duplicates_json'\n",
    "\n",
    "\n",
    "duplicates_finder('menu', \n",
    "                    origin,\n",
    "                    destination,\n",
    "                    save)"
   ]
  }
 ],
 "metadata": {
  "colab": {
   "provenance": []
  },
  "kernelspec": {
   "display_name": "Python 3 (ipykernel)",
   "language": "python",
   "name": "python3"
  },
  "language_info": {
   "codemirror_mode": {
    "name": "ipython",
    "version": 3
   },
   "file_extension": ".py",
   "mimetype": "text/x-python",
   "name": "python",
   "nbconvert_exporter": "python",
   "pygments_lexer": "ipython3",
   "version": "3.8.10"
  },
  "vscode": {
   "interpreter": {
    "hash": "19fd21a1cc564c879aae519d3b36fb725b0dcbc2ac33546468e0d6f97f280e7f"
   }
  }
 },
 "nbformat": 4,
 "nbformat_minor": 1
}
