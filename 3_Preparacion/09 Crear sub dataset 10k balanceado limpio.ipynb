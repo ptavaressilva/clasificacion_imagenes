{
 "cells": [
  {
   "cell_type": "markdown",
   "metadata": {},
   "source": [
    "**Función:** crear un sub dataset 10k balanceado limpio combinando 5 ficheros de fotos reclasificadas\n",
    "\n",
    "**Requiere:**\n",
    "- ../datasets/food_rev.json\n",
    "- ../datasets/inside_rev.json\n",
    "- ../datasets/outside_rev.json\n",
    "- ../datasets/drink_rev.json\n",
    "- ../datasets/menu_rev.json\n",
    "- ../datasets/final_rev_menu.json\n",
    "- ../datasets/final_rev_outside.json\n",
    "- ../datasets/final_rev_drink.json\n",
    "\n",
    "**Crea:**\n",
    "- ../datasets/df_final_bal.pkl"
   ]
  },
  {
   "cell_type": "code",
   "execution_count": 1,
   "metadata": {
    "executionInfo": {
     "elapsed": 6,
     "status": "ok",
     "timestamp": 1663176370930,
     "user": {
      "displayName": "Toni Vila",
      "userId": "16769261626805193360"
     },
     "user_tz": -120
    },
    "id": "L8HXdKSXeOys"
   },
   "outputs": [],
   "source": [
    "import pandas as pd\n",
    "import pickle"
   ]
  },
  {
   "cell_type": "code",
   "execution_count": null,
   "metadata": {},
   "outputs": [],
   "source": [
    "ejecutadoEnGoogleDrive = False # True si se ejecuta en Google Drive"
   ]
  },
  {
   "cell_type": "code",
   "execution_count": null,
   "metadata": {},
   "outputs": [],
   "source": [
    "if ejecutadoEnGoogleDrive:\n",
    "    from google.colab import drive\n",
    "    drive.mount('/content/drive')\n",
    "    PATH = '/content/drive/clasificacion_imagenes'\n",
    "else:\n",
    "    PATH = '../'"
   ]
  },
  {
   "cell_type": "code",
   "execution_count": 3,
   "metadata": {
    "executionInfo": {
     "elapsed": 268,
     "status": "ok",
     "timestamp": 1663176410319,
     "user": {
      "displayName": "Toni Vila",
      "userId": "16769261626805193360"
     },
     "user_tz": -120
    },
    "id": "tkFukn57hgOC"
   },
   "outputs": [],
   "source": [
    "food_1 = 'food_rev.json'\n",
    "inside_1 = 'inside_rev.json'\n",
    "outside_1 = 'outside_rev.json'\n",
    "drink_1 = 'drink_rev.json'\n",
    "menu_1 = 'menu_rev.json'\n",
    "# fotos adicionales que no estaban en 10k (para incrementar labels menos representadas)\n",
    "menu_2 = 'final_rev_menu.json'\n",
    "outside_2 = 'final_rev_outside.json'\n",
    "drink_2 = 'final_rev_drink.json'"
   ]
  },
  {
   "cell_type": "code",
   "execution_count": 4,
   "metadata": {
    "colab": {
     "base_uri": "https://localhost:8080/",
     "height": 206
    },
    "executionInfo": {
     "elapsed": 3367,
     "status": "ok",
     "timestamp": 1663176416783,
     "user": {
      "displayName": "Toni Vila",
      "userId": "16769261626805193360"
     },
     "user_tz": -120
    },
    "id": "D_H4_sAcitwc",
    "outputId": "d6355db2-0ffb-435b-9d00-9f34bdebe9ab",
    "scrolled": true
   },
   "outputs": [
    {
     "data": {
      "text/html": [
       "<div>\n",
       "<style scoped>\n",
       "    .dataframe tbody tr th:only-of-type {\n",
       "        vertical-align: middle;\n",
       "    }\n",
       "\n",
       "    .dataframe tbody tr th {\n",
       "        vertical-align: top;\n",
       "    }\n",
       "\n",
       "    .dataframe thead th {\n",
       "        text-align: right;\n",
       "    }\n",
       "</style>\n",
       "<table border=\"1\" class=\"dataframe\">\n",
       "  <thead>\n",
       "    <tr style=\"text-align: right;\">\n",
       "      <th></th>\n",
       "      <th>photo_id</th>\n",
       "      <th>original_label</th>\n",
       "      <th>reclass_label</th>\n",
       "      <th>status</th>\n",
       "    </tr>\n",
       "  </thead>\n",
       "  <tbody>\n",
       "    <tr>\n",
       "      <th>0</th>\n",
       "      <td>H1T4jXaxP4Hpg_zZ7ckWvA</td>\n",
       "      <td>menu</td>\n",
       "      <td>menu</td>\n",
       "      <td>OK</td>\n",
       "    </tr>\n",
       "    <tr>\n",
       "      <th>1</th>\n",
       "      <td>ockFtmG4btt1bf9GgVRNSg</td>\n",
       "      <td>menu</td>\n",
       "      <td>menu</td>\n",
       "      <td>OK</td>\n",
       "    </tr>\n",
       "  </tbody>\n",
       "</table>\n",
       "</div>"
      ],
      "text/plain": [
       "                 photo_id original_label reclass_label status\n",
       "0  H1T4jXaxP4Hpg_zZ7ckWvA           menu          menu     OK\n",
       "1  ockFtmG4btt1bf9GgVRNSg           menu          menu     OK"
      ]
     },
     "execution_count": 4,
     "metadata": {},
     "output_type": "execute_result"
    }
   ],
   "source": [
    "df_food_1 = pd.read_json(PATH + 'datasets/' + food_1)\n",
    "df_inside_1 = pd.read_json(PATH + 'datasets/'+ inside_1)\n",
    "df_outside_1 = pd.read_json(PATH + 'datasets/'+ outside_1)\n",
    "df_drink_1 = pd.read_json(PATH + 'datasets/'+ drink_1)\n",
    "df_menu_1 = pd.read_json(PATH + 'datasets/'+ menu_1)\n",
    "df_menu_1.head(2)"
   ]
  },
  {
   "cell_type": "code",
   "execution_count": 5,
   "metadata": {},
   "outputs": [
    {
     "data": {
      "text/html": [
       "<div>\n",
       "<style scoped>\n",
       "    .dataframe tbody tr th:only-of-type {\n",
       "        vertical-align: middle;\n",
       "    }\n",
       "\n",
       "    .dataframe tbody tr th {\n",
       "        vertical-align: top;\n",
       "    }\n",
       "\n",
       "    .dataframe thead th {\n",
       "        text-align: right;\n",
       "    }\n",
       "</style>\n",
       "<table border=\"1\" class=\"dataframe\">\n",
       "  <thead>\n",
       "    <tr style=\"text-align: right;\">\n",
       "      <th></th>\n",
       "      <th>photo_id</th>\n",
       "      <th>original_label</th>\n",
       "      <th>reclass_label</th>\n",
       "      <th>status</th>\n",
       "    </tr>\n",
       "  </thead>\n",
       "  <tbody>\n",
       "    <tr>\n",
       "      <th>0</th>\n",
       "      <td>6LJa8QZOGBjt9maE5miLhw</td>\n",
       "      <td>menu</td>\n",
       "      <td>menu</td>\n",
       "      <td>OK</td>\n",
       "    </tr>\n",
       "    <tr>\n",
       "      <th>1</th>\n",
       "      <td>DtsfhqhqUB-tjs5XbwJfXw</td>\n",
       "      <td>menu</td>\n",
       "      <td>menu</td>\n",
       "      <td>OK</td>\n",
       "    </tr>\n",
       "  </tbody>\n",
       "</table>\n",
       "</div>"
      ],
      "text/plain": [
       "                 photo_id original_label reclass_label status\n",
       "0  6LJa8QZOGBjt9maE5miLhw           menu          menu     OK\n",
       "1  DtsfhqhqUB-tjs5XbwJfXw           menu          menu     OK"
      ]
     },
     "execution_count": 5,
     "metadata": {},
     "output_type": "execute_result"
    }
   ],
   "source": [
    "df_outside_2 = pd.read_json(PATH + 'datasets/' outside_2, orient='index').reset_index(drop=False).rename(columns=\n",
    "                                                                                               {'index': 'photo_id',\n",
    "                                                                                                0: 'original_label',\n",
    "                                                                                                1: 'reclass_label',\n",
    "                                                                                                2: 'status'})\n",
    "df_drink_2 = pd.read_json(PATH + 'datasets/' + drink_2, orient='index').reset_index(drop=False).rename(columns=\n",
    "                                                                                           {'index': 'photo_id',\n",
    "                                                                                                0: 'original_label',\n",
    "                                                                                                1: 'reclass_label',\n",
    "                                                                                                2: 'status'})\n",
    "df_menu_2 = pd.read_json(PATH + 'datasets/' + menu_2, orient='index').reset_index(drop=False).rename(columns=\n",
    "                                                                                        {'index': 'photo_id',\n",
    "                                                                                                0: 'original_label',\n",
    "                                                                                                1: 'reclass_label',\n",
    "                                                                                                2: 'status'})\n",
    "df_menu_2.head(2)"
   ]
  },
  {
   "cell_type": "code",
   "execution_count": 6,
   "metadata": {},
   "outputs": [
    {
     "data": {
      "text/plain": [
       "Index(['photo_id', 'original_label', 'reclass_label', 'status'], dtype='object')"
      ]
     },
     "execution_count": 6,
     "metadata": {},
     "output_type": "execute_result"
    }
   ],
   "source": [
    "df_menu_1.columns"
   ]
  },
  {
   "cell_type": "code",
   "execution_count": 7,
   "metadata": {},
   "outputs": [
    {
     "data": {
      "text/plain": [
       "Index(['photo_id', 'original_label', 'reclass_label', 'status'], dtype='object')"
      ]
     },
     "execution_count": 7,
     "metadata": {},
     "output_type": "execute_result"
    }
   ],
   "source": [
    "df_menu_2.columns"
   ]
  },
  {
   "cell_type": "code",
   "execution_count": 8,
   "metadata": {},
   "outputs": [
    {
     "data": {
      "text/html": [
       "<div>\n",
       "<style scoped>\n",
       "    .dataframe tbody tr th:only-of-type {\n",
       "        vertical-align: middle;\n",
       "    }\n",
       "\n",
       "    .dataframe tbody tr th {\n",
       "        vertical-align: top;\n",
       "    }\n",
       "\n",
       "    .dataframe thead th {\n",
       "        text-align: right;\n",
       "    }\n",
       "</style>\n",
       "<table border=\"1\" class=\"dataframe\">\n",
       "  <thead>\n",
       "    <tr style=\"text-align: right;\">\n",
       "      <th></th>\n",
       "      <th>photo_id</th>\n",
       "      <th>original_label</th>\n",
       "      <th>reclass_label</th>\n",
       "      <th>status</th>\n",
       "    </tr>\n",
       "  </thead>\n",
       "  <tbody>\n",
       "    <tr>\n",
       "      <th>0</th>\n",
       "      <td>fB-J1F60DgMRoc8eI0z0Ew</td>\n",
       "      <td>food</td>\n",
       "      <td>food</td>\n",
       "      <td>OK</td>\n",
       "    </tr>\n",
       "    <tr>\n",
       "      <th>1</th>\n",
       "      <td>n2hdfzYgxL0twgfSDbro1w</td>\n",
       "      <td>food</td>\n",
       "      <td>food</td>\n",
       "      <td>OK</td>\n",
       "    </tr>\n",
       "  </tbody>\n",
       "</table>\n",
       "</div>"
      ],
      "text/plain": [
       "                 photo_id original_label reclass_label status\n",
       "0  fB-J1F60DgMRoc8eI0z0Ew           food          food     OK\n",
       "1  n2hdfzYgxL0twgfSDbro1w           food          food     OK"
      ]
     },
     "execution_count": 8,
     "metadata": {},
     "output_type": "execute_result"
    }
   ],
   "source": [
    "df_revisado = pd.concat([df_food_1,\n",
    "                         df_inside_1,\n",
    "                         df_outside_1,\n",
    "                         df_drink_1,\n",
    "                         df_menu_1,\n",
    "                         df_outside_2,\n",
    "                         df_drink_2,\n",
    "                         df_menu_2], axis=0)\n",
    "df_revisado.head(2)"
   ]
  },
  {
   "cell_type": "code",
   "execution_count": 9,
   "metadata": {
    "executionInfo": {
     "elapsed": 294,
     "status": "ok",
     "timestamp": 1663176492879,
     "user": {
      "displayName": "Toni Vila",
      "userId": "16769261626805193360"
     },
     "user_tz": -120
    },
    "id": "UQbD5euyCkiZ"
   },
   "outputs": [],
   "source": [
    "# df_revisado = df_revisado.to_json('/content/drive/Shareddrives/The Valley - TFM/Ejercicio clasificación imagenes/Ejercicio 2 - Balanced/df_clean_withKO.json', orient='records')"
   ]
  },
  {
   "cell_type": "code",
   "execution_count": 10,
   "metadata": {
    "colab": {
     "base_uri": "https://localhost:8080/"
    },
    "executionInfo": {
     "elapsed": 216,
     "status": "ok",
     "timestamp": 1663094027852,
     "user": {
      "displayName": "Toni Vila",
      "userId": "16769261626805193360"
     },
     "user_tz": -120
    },
    "id": "Ghfub1xZi0Md",
    "outputId": "f28b7358-9ba8-4e7d-858f-e8087f83466a"
   },
   "outputs": [
    {
     "data": {
      "text/plain": [
       "food       4807\n",
       "inside     2170\n",
       "KO         1649\n",
       "drink      1580\n",
       "outside    1485\n",
       "menu       1375\n",
       "Name: reclass_label, dtype: int64"
      ]
     },
     "execution_count": 10,
     "metadata": {},
     "output_type": "execute_result"
    }
   ],
   "source": [
    "df_revisado.reclass_label.value_counts()"
   ]
  },
  {
   "cell_type": "code",
   "execution_count": 11,
   "metadata": {},
   "outputs": [],
   "source": [
    "df_limpias = df_revisado[df_revisado.reclass_label != 'KO']"
   ]
  },
  {
   "cell_type": "code",
   "execution_count": 12,
   "metadata": {
    "colab": {
     "base_uri": "https://localhost:8080/",
     "height": 206
    },
    "executionInfo": {
     "elapsed": 9,
     "status": "ok",
     "timestamp": 1663094030649,
     "user": {
      "displayName": "Toni Vila",
      "userId": "16769261626805193360"
     },
     "user_tz": -120
    },
    "id": "_x7pX-bGkfyp",
    "outputId": "e2ff8c03-b3d4-47ee-99df-562f605e9954"
   },
   "outputs": [
    {
     "data": {
      "text/html": [
       "<div>\n",
       "<style scoped>\n",
       "    .dataframe tbody tr th:only-of-type {\n",
       "        vertical-align: middle;\n",
       "    }\n",
       "\n",
       "    .dataframe tbody tr th {\n",
       "        vertical-align: top;\n",
       "    }\n",
       "\n",
       "    .dataframe thead th {\n",
       "        text-align: right;\n",
       "    }\n",
       "</style>\n",
       "<table border=\"1\" class=\"dataframe\">\n",
       "  <thead>\n",
       "    <tr style=\"text-align: right;\">\n",
       "      <th></th>\n",
       "      <th>photo_id</th>\n",
       "      <th>original_label</th>\n",
       "      <th>reclass_label</th>\n",
       "      <th>status</th>\n",
       "    </tr>\n",
       "  </thead>\n",
       "  <tbody>\n",
       "    <tr>\n",
       "      <th>1392</th>\n",
       "      <td>OFHzlQEuitFAE_ICfdsQhQ</td>\n",
       "      <td>menu</td>\n",
       "      <td>menu</td>\n",
       "      <td>OK</td>\n",
       "    </tr>\n",
       "    <tr>\n",
       "      <th>1393</th>\n",
       "      <td>x4acVHke3X7o6hrVaulmQA</td>\n",
       "      <td>menu</td>\n",
       "      <td>menu</td>\n",
       "      <td>OK</td>\n",
       "    </tr>\n",
       "    <tr>\n",
       "      <th>1394</th>\n",
       "      <td>8ZldnphijLWEvWWX6Y57Lg</td>\n",
       "      <td>menu</td>\n",
       "      <td>menu</td>\n",
       "      <td>OK</td>\n",
       "    </tr>\n",
       "    <tr>\n",
       "      <th>1395</th>\n",
       "      <td>wq2E-d6NuiCP5_DCC_6e6g</td>\n",
       "      <td>menu</td>\n",
       "      <td>menu</td>\n",
       "      <td>OK</td>\n",
       "    </tr>\n",
       "    <tr>\n",
       "      <th>1396</th>\n",
       "      <td>ZtuEsa-qc7gfy7m5UnfaZw</td>\n",
       "      <td>menu</td>\n",
       "      <td>menu</td>\n",
       "      <td>OK</td>\n",
       "    </tr>\n",
       "  </tbody>\n",
       "</table>\n",
       "</div>"
      ],
      "text/plain": [
       "                    photo_id original_label reclass_label status\n",
       "1392  OFHzlQEuitFAE_ICfdsQhQ           menu          menu     OK\n",
       "1393  x4acVHke3X7o6hrVaulmQA           menu          menu     OK\n",
       "1394  8ZldnphijLWEvWWX6Y57Lg           menu          menu     OK\n",
       "1395  wq2E-d6NuiCP5_DCC_6e6g           menu          menu     OK\n",
       "1396  ZtuEsa-qc7gfy7m5UnfaZw           menu          menu     OK"
      ]
     },
     "execution_count": 12,
     "metadata": {},
     "output_type": "execute_result"
    }
   ],
   "source": [
    "df_limpias.tail()"
   ]
  },
  {
   "cell_type": "code",
   "execution_count": 13,
   "metadata": {
    "colab": {
     "base_uri": "https://localhost:8080/"
    },
    "executionInfo": {
     "elapsed": 211,
     "status": "ok",
     "timestamp": 1663094035029,
     "user": {
      "displayName": "Toni Vila",
      "userId": "16769261626805193360"
     },
     "user_tz": -120
    },
    "id": "AJRSB8QhFLl3",
    "outputId": "a34af6b7-9b20-4e29-9a1e-f255ef75d57d"
   },
   "outputs": [
    {
     "data": {
      "text/plain": [
       "food       4807\n",
       "inside     2170\n",
       "drink      1580\n",
       "outside    1485\n",
       "menu       1375\n",
       "Name: reclass_label, dtype: int64"
      ]
     },
     "execution_count": 13,
     "metadata": {},
     "output_type": "execute_result"
    }
   ],
   "source": [
    "df_limpias.reclass_label.value_counts()"
   ]
  },
  {
   "cell_type": "code",
   "execution_count": 14,
   "metadata": {
    "id": "RuKi_Oktk3Dd"
   },
   "outputs": [],
   "source": [
    "df_limpias = df_limpias[['photo_id', 'reclass_label']]"
   ]
  },
  {
   "cell_type": "code",
   "execution_count": 15,
   "metadata": {
    "colab": {
     "base_uri": "https://localhost:8080/",
     "height": 424
    },
    "executionInfo": {
     "elapsed": 215,
     "status": "ok",
     "timestamp": 1663094041610,
     "user": {
      "displayName": "Toni Vila",
      "userId": "16769261626805193360"
     },
     "user_tz": -120
    },
    "id": "qzra6jSUktKE",
    "outputId": "f22b07bf-b675-48f9-d04f-0ef17f1211f3"
   },
   "outputs": [
    {
     "data": {
      "text/html": [
       "<div>\n",
       "<style scoped>\n",
       "    .dataframe tbody tr th:only-of-type {\n",
       "        vertical-align: middle;\n",
       "    }\n",
       "\n",
       "    .dataframe tbody tr th {\n",
       "        vertical-align: top;\n",
       "    }\n",
       "\n",
       "    .dataframe thead th {\n",
       "        text-align: right;\n",
       "    }\n",
       "</style>\n",
       "<table border=\"1\" class=\"dataframe\">\n",
       "  <thead>\n",
       "    <tr style=\"text-align: right;\">\n",
       "      <th></th>\n",
       "      <th>photo_id</th>\n",
       "      <th>reclass_label</th>\n",
       "    </tr>\n",
       "  </thead>\n",
       "  <tbody>\n",
       "    <tr>\n",
       "      <th>0</th>\n",
       "      <td>fB-J1F60DgMRoc8eI0z0Ew</td>\n",
       "      <td>food</td>\n",
       "    </tr>\n",
       "    <tr>\n",
       "      <th>1</th>\n",
       "      <td>n2hdfzYgxL0twgfSDbro1w</td>\n",
       "      <td>food</td>\n",
       "    </tr>\n",
       "    <tr>\n",
       "      <th>2</th>\n",
       "      <td>Z77aLYI_SvAl7PaJ62umJQ</td>\n",
       "      <td>food</td>\n",
       "    </tr>\n",
       "    <tr>\n",
       "      <th>3</th>\n",
       "      <td>tBdw-FR8aNZcJLa5bX-SdA</td>\n",
       "      <td>food</td>\n",
       "    </tr>\n",
       "    <tr>\n",
       "      <th>4</th>\n",
       "      <td>z-ftfswcyAAERjoMzKFJ5A</td>\n",
       "      <td>food</td>\n",
       "    </tr>\n",
       "    <tr>\n",
       "      <th>...</th>\n",
       "      <td>...</td>\n",
       "      <td>...</td>\n",
       "    </tr>\n",
       "    <tr>\n",
       "      <th>1392</th>\n",
       "      <td>OFHzlQEuitFAE_ICfdsQhQ</td>\n",
       "      <td>menu</td>\n",
       "    </tr>\n",
       "    <tr>\n",
       "      <th>1393</th>\n",
       "      <td>x4acVHke3X7o6hrVaulmQA</td>\n",
       "      <td>menu</td>\n",
       "    </tr>\n",
       "    <tr>\n",
       "      <th>1394</th>\n",
       "      <td>8ZldnphijLWEvWWX6Y57Lg</td>\n",
       "      <td>menu</td>\n",
       "    </tr>\n",
       "    <tr>\n",
       "      <th>1395</th>\n",
       "      <td>wq2E-d6NuiCP5_DCC_6e6g</td>\n",
       "      <td>menu</td>\n",
       "    </tr>\n",
       "    <tr>\n",
       "      <th>1396</th>\n",
       "      <td>ZtuEsa-qc7gfy7m5UnfaZw</td>\n",
       "      <td>menu</td>\n",
       "    </tr>\n",
       "  </tbody>\n",
       "</table>\n",
       "<p>11417 rows × 2 columns</p>\n",
       "</div>"
      ],
      "text/plain": [
       "                    photo_id reclass_label\n",
       "0     fB-J1F60DgMRoc8eI0z0Ew          food\n",
       "1     n2hdfzYgxL0twgfSDbro1w          food\n",
       "2     Z77aLYI_SvAl7PaJ62umJQ          food\n",
       "3     tBdw-FR8aNZcJLa5bX-SdA          food\n",
       "4     z-ftfswcyAAERjoMzKFJ5A          food\n",
       "...                      ...           ...\n",
       "1392  OFHzlQEuitFAE_ICfdsQhQ          menu\n",
       "1393  x4acVHke3X7o6hrVaulmQA          menu\n",
       "1394  8ZldnphijLWEvWWX6Y57Lg          menu\n",
       "1395  wq2E-d6NuiCP5_DCC_6e6g          menu\n",
       "1396  ZtuEsa-qc7gfy7m5UnfaZw          menu\n",
       "\n",
       "[11417 rows x 2 columns]"
      ]
     },
     "execution_count": 15,
     "metadata": {},
     "output_type": "execute_result"
    }
   ],
   "source": [
    "df_limpias"
   ]
  },
  {
   "cell_type": "code",
   "execution_count": 16,
   "metadata": {},
   "outputs": [],
   "source": [
    "categorias = ['food', 'inside', 'drink', 'outside']"
   ]
  },
  {
   "cell_type": "code",
   "execution_count": 17,
   "metadata": {},
   "outputs": [
    {
     "data": {
      "text/plain": [
       "menu       1375\n",
       "food       1375\n",
       "inside     1375\n",
       "drink      1375\n",
       "outside    1375\n",
       "Name: reclass_label, dtype: int64"
      ]
     },
     "execution_count": 17,
     "metadata": {},
     "output_type": "execute_result"
    }
   ],
   "source": [
    "balanced = df_limpias.loc[df_limpias.reclass_label == 'menu']\n",
    "num_photos = len(balanced)\n",
    "for cat in categorias:\n",
    "    balanced = pd.concat([balanced, df_limpias.loc[df_limpias.reclass_label == cat].sample(n=num_photos,\n",
    "                                                                                           replace=False)])\n",
    "balanced.reclass_label.value_counts()"
   ]
  },
  {
   "cell_type": "code",
   "execution_count": 19,
   "metadata": {
    "id": "4OMdrISJlOI8"
   },
   "outputs": [],
   "source": [
    "pickle.dump(balanced, open(PATH + 'datasets/df_final_bal.pkl','wb'))"
   ]
  }
 ],
 "metadata": {
  "colab": {
   "authorship_tag": "ABX9TyMNiqIeAmQctD8y4FRUhurJ",
   "collapsed_sections": [],
   "provenance": []
  },
  "kernelspec": {
   "display_name": "Python 3 (ipykernel)",
   "language": "python",
   "name": "python3"
  },
  "language_info": {
   "codemirror_mode": {
    "name": "ipython",
    "version": 3
   },
   "file_extension": ".py",
   "mimetype": "text/x-python",
   "name": "python",
   "nbconvert_exporter": "python",
   "pygments_lexer": "ipython3",
   "version": "3.8.10"
  }
 },
 "nbformat": 4,
 "nbformat_minor": 1
}
