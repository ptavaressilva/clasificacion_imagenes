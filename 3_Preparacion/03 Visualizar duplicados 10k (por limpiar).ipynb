{
 "cells": [
  {
   "cell_type": "markdown",
   "metadata": {},
   "source": [
    "**Función:** visualiza duplicados de la label 'drink' del dataset 10k (por limpiar)\n",
    "\n",
    "**Requiere:**\n",
    "- ../datasets/drinks_duplicates.json\n",
    "\n",
    "**Crea:** (no crea ficheros)"
   ]
  },
  {
   "cell_type": "code",
   "execution_count": null,
   "metadata": {
    "executionInfo": {
     "elapsed": 362,
     "status": "ok",
     "timestamp": 1664295814034,
     "user": {
      "displayName": "Carlos Huguet Soriano",
      "userId": "02773419815299509321"
     },
     "user_tz": -120
    },
    "id": "VtMzx-0NgxY8"
   },
   "outputs": [],
   "source": [
    "import os\n",
    "import time\n",
    "import json\n",
    "from time import sleep\n",
    "import pandas as pd\n",
    "import matplotlib.pyplot as plt\n",
    "import pickl\n",
    "from PIL import Image\n",
    "from IPython.display import clear_output"
   ]
  },
  {
   "cell_type": "code",
   "execution_count": null,
   "metadata": {},
   "outputs": [],
   "source": [
    "CATEGORIA = 'drink' # label a revisar"
   ]
  },
  {
   "cell_type": "code",
   "execution_count": null,
   "metadata": {},
   "outputs": [],
   "source": [
    "ejecutadoEnGoogleDrive = False # True si se ejecuta en Google Drive"
   ]
  },
  {
   "cell_type": "code",
   "execution_count": null,
   "metadata": {
    "colab": {
     "base_uri": "https://localhost:8080/"
    },
    "executionInfo": {
     "elapsed": 19293,
     "status": "ok",
     "timestamp": 1664295836762,
     "user": {
      "displayName": "Carlos Huguet Soriano",
      "userId": "02773419815299509321"
     },
     "user_tz": -120
    },
    "id": "0st3jhdSkzcs",
    "outputId": "7bad8f35-a999-450f-b2e1-beaeb180bb57"
   },
   "outputs": [],
   "source": [
    "if ejecutadoEnGoogleDrive:\n",
    "    from google.colab import drive\n",
    "    drive.mount('/content/drive')\n",
    "    PATH = '/content/drive/clasificacion_imagenes'\n",
    "else:\n",
    "    PATH = '../'"
   ]
  },
  {
   "cell_type": "code",
   "execution_count": null,
   "metadata": {
    "id": "7Y-c2tifJbsJ"
   },
   "outputs": [],
   "source": [
    "drink_duplicated = PATH + 'datasets/drinks_duplicates.json'"
   ]
  },
  {
   "cell_type": "code",
   "execution_count": null,
   "metadata": {
    "id": "vmvO3T7dJl7U"
   },
   "outputs": [],
   "source": [
    "df_duplicated = pd.read_json(drink_duplicated, orient='index')\n",
    "df_duplicated['location_clean'] = df_duplicated['location'].apply(lambda x: x.split('/')[-1])\n",
    "df_duplicated['duplicates_clean'] = df_duplicated['duplicates'].apply(lambda x: str(x).split('/')[-1][:-2])\n"
   ]
  },
  {
   "cell_type": "code",
   "execution_count": null,
   "metadata": {
    "id": "F8s9nJZ2QEbG"
   },
   "outputs": [],
   "source": [
    "df = df_duplicated[['filename', 'duplicates_clean']].reset_index(drop=True)"
   ]
  },
  {
   "cell_type": "code",
   "execution_count": null,
   "metadata": {
    "colab": {
     "base_uri": "https://localhost:8080/",
     "height": 206
    },
    "executionInfo": {
     "elapsed": 388,
     "status": "ok",
     "timestamp": 1662728510639,
     "user": {
      "displayName": "Toni Vila",
      "userId": "16769261626805193360"
     },
     "user_tz": -120
    },
    "id": "UIOIPoLTTmf0",
    "outputId": "212d4500-e69a-409a-a1a9-b360f0a7fd66"
   },
   "outputs": [],
   "source": [
    "df.head()"
   ]
  },
  {
   "cell_type": "code",
   "execution_count": null,
   "metadata": {
    "colab": {
     "base_uri": "https://localhost:8080/"
    },
    "executionInfo": {
     "elapsed": 235,
     "status": "ok",
     "timestamp": 1662727956819,
     "user": {
      "displayName": "Toni Vila",
      "userId": "16769261626805193360"
     },
     "user_tz": -120
    },
    "id": "NNraKjhXSv_S",
    "outputId": "66903c48-b0e1-4ee0-940b-508470861d0e"
   },
   "outputs": [],
   "source": [
    "df.filename.nunique() - df.duplicates_clean.nunique() "
   ]
  },
  {
   "cell_type": "code",
   "execution_count": null,
   "metadata": {
    "colab": {
     "base_uri": "https://localhost:8080/"
    },
    "executionInfo": {
     "elapsed": 6,
     "status": "ok",
     "timestamp": 1662728415733,
     "user": {
      "displayName": "Toni Vila",
      "userId": "16769261626805193360"
     },
     "user_tz": -120
    },
    "id": "oEBHoBE0VdqY",
    "outputId": "39207317-6ada-439f-a7b7-a878507c8e27"
   },
   "outputs": [],
   "source": [
    "df.duplicates_clean.value_counts()"
   ]
  },
  {
   "cell_type": "code",
   "execution_count": null,
   "metadata": {
    "colab": {
     "base_uri": "https://localhost:8080/",
     "height": 520
    },
    "executionInfo": {
     "elapsed": 384,
     "status": "ok",
     "timestamp": 1662728544191,
     "user": {
      "displayName": "Toni Vila",
      "userId": "16769261626805193360"
     },
     "user_tz": -120
    },
    "id": "XXEAekPFVwWD",
    "outputId": "cf3e8c06-4f58-4c98-df4c-e4a0312ab510"
   },
   "outputs": [],
   "source": [
    "df[df['duplicates_clean'] == 'PUn1BLjRf1Go5wfCltqk1w.jpg']"
   ]
  },
  {
   "cell_type": "code",
   "execution_count": null,
   "metadata": {
    "colab": {
     "base_uri": "https://localhost:8080/",
     "height": 81
    },
    "executionInfo": {
     "elapsed": 367,
     "status": "ok",
     "timestamp": 1662728711504,
     "user": {
      "displayName": "Toni Vila",
      "userId": "16769261626805193360"
     },
     "user_tz": -120
    },
    "id": "oJbCLMFlWlQP",
    "outputId": "5c02d996-0e7c-450e-bcc0-c042638aaff4"
   },
   "outputs": [],
   "source": [
    "df[df['duplicates_clean'] == '8aFn30vJyWkpsGYPSTSFDg.jpg']"
   ]
  },
  {
   "cell_type": "code",
   "execution_count": null,
   "metadata": {
    "colab": {
     "base_uri": "https://localhost:8080/"
    },
    "executionInfo": {
     "elapsed": 513,
     "status": "ok",
     "timestamp": 1662728879082,
     "user": {
      "displayName": "Toni Vila",
      "userId": "16769261626805193360"
     },
     "user_tz": -120
    },
    "id": "U8Pgyo4AWM1S",
    "outputId": "d13c3463-4f5d-4e3c-e08e-34bd5212e4c6"
   },
   "outputs": [],
   "source": [
    "example = list(df[df['duplicates_clean'] == 'PUn1BLjRf1Go5wfCltqk1w.jpg'].filename)\n",
    "print(example)"
   ]
  },
  {
   "cell_type": "code",
   "execution_count": null,
   "metadata": {},
   "outputs": [],
   "source": [
    "folder = PATH + 'datasets/photos'"
   ]
  },
  {
   "cell_type": "code",
   "execution_count": null,
   "metadata": {
    "colab": {
     "base_uri": "https://localhost:8080/",
     "height": 1000
    },
    "executionInfo": {
     "elapsed": 4341,
     "status": "ok",
     "timestamp": 1662728934405,
     "user": {
      "displayName": "Toni Vila",
      "userId": "16769261626805193360"
     },
     "user_tz": -120
    },
    "id": "1Im3lPPhXYkg",
    "outputId": "acb341b5-dfca-4587-b7f8-21a7d9b13b02"
   },
   "outputs": [],
   "source": [
    "fig = plt.figure(figsize=(10, 20))\n",
    "position = 1\n",
    "for i in example:\n",
    "    fig.add_subplot(5, 3, position)\n",
    "    im = Image.open(folder + '/' + i)\n",
    "    plt.title(i)\n",
    "    plt.imshow(im)\n",
    "    position += 1"
   ]
  },
  {
   "cell_type": "code",
   "execution_count": null,
   "metadata": {
    "colab": {
     "base_uri": "https://localhost:8080/"
    },
    "executionInfo": {
     "elapsed": 6,
     "status": "ok",
     "timestamp": 1662725955297,
     "user": {
      "displayName": "Toni Vila",
      "userId": "16769261626805193360"
     },
     "user_tz": -120
    },
    "id": "v8pdGCXsJuui",
    "outputId": "cbf7e6ca-3cf2-429b-853f-eeb43ff38ed9"
   },
   "outputs": [],
   "source": [
    "list_duplicated = list(df_duplicated.filename)\n",
    "print(len(list_duplicated))"
   ]
  },
  {
   "cell_type": "code",
   "execution_count": null,
   "metadata": {
    "colab": {
     "base_uri": "https://localhost:8080/",
     "height": 1000,
     "output_embedded_package_id": "1N1u7bRVF858hwHJ3WBPmh5tbxM6o6mUw"
    },
    "executionInfo": {
     "elapsed": 20640,
     "status": "ok",
     "timestamp": 1662725766673,
     "user": {
      "displayName": "Toni Vila",
      "userId": "16769261626805193360"
     },
     "user_tz": -120
    },
    "id": "-2lWlvbiKNYp",
    "outputId": "b754d22a-cef3-4152-cd11-b48896301bae"
   },
   "outputs": [],
   "source": [
    "fig = plt.figure(figsize=(10, 120))\n",
    "position = 1\n",
    "for i in list_duplicated:\n",
    "    fig.add_subplot(35, 3, position)\n",
    "    im = Image.open(folder + '/' + i)\n",
    "    plt.title(i)\n",
    "    plt.imshow(im)\n",
    "    position += 1"
   ]
  }
 ],
 "metadata": {
  "colab": {
   "collapsed_sections": [],
   "name": "",
   "version": ""
  },
  "kernelspec": {
   "display_name": "Python 3 (ipykernel)",
   "language": "python",
   "name": "python3"
  },
  "language_info": {
   "codemirror_mode": {
    "name": "ipython",
    "version": 3
   },
   "file_extension": ".py",
   "mimetype": "text/x-python",
   "name": "python",
   "nbconvert_exporter": "python",
   "pygments_lexer": "ipython3",
   "version": "3.8.10"
  },
  "vscode": {
   "interpreter": {
    "hash": "45094651f2a0e557b8c690629d7dc7600e86dbff1eed6559db87eda57c968262"
   }
  }
 },
 "nbformat": 4,
 "nbformat_minor": 1
}
