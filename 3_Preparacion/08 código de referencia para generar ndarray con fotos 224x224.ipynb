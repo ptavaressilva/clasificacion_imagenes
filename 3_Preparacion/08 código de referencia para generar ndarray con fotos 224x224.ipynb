{
 "cells": [
  {
   "cell_type": "markdown",
   "metadata": {},
   "source": [
    "**Función:** crea ndarray con versiones 224x224 de las fotos del dsub dataset 10k.\n",
    "\n",
    "**Requiere:**\n",
    "- ../datasets/df_clean_run1.json\n",
    "- ../datasets/photos (con todas las fotos del dataset)\n",
    "\n",
    "**Crea:**\n",
    "(demo, no genera output)"
   ]
  },
  {
   "cell_type": "code",
   "execution_count": 10,
   "metadata": {
    "executionInfo": {
     "elapsed": 270,
     "status": "ok",
     "timestamp": 1663094471881,
     "user": {
      "displayName": "Toni Vila",
      "userId": "16769261626805193360"
     },
     "user_tz": -120
    },
    "id": "0UsqAoH5bPX_"
   },
   "outputs": [],
   "source": [
    "import pandas as pd\n",
    "import numpy as np\n",
    "import shutil\n",
    "import math\n",
    "import torchvision.transforms as T\n",
    "from tqdm.notebook import trange, tqdm\n",
    "from keras.utils import np_utils\n",
    "from PIL import Image"
   ]
  },
  {
   "cell_type": "code",
   "execution_count": null,
   "metadata": {},
   "outputs": [],
   "source": [
    "ejecutadoEnGoogleDrive = False # True si se ejecuta en Google Drive"
   ]
  },
  {
   "cell_type": "code",
   "execution_count": null,
   "metadata": {
    "colab": {
     "base_uri": "https://localhost:8080/"
    },
    "executionInfo": {
     "elapsed": 1980,
     "status": "ok",
     "timestamp": 1663092175997,
     "user": {
      "displayName": "Toni Vila",
      "userId": "16769261626805193360"
     },
     "user_tz": -120
    },
    "id": "Bk6KnT-TiFxq",
    "outputId": "2c6d2012-fad4-48ce-8a8b-be913a991ca4"
   },
   "outputs": [],
   "source": [
    "if ejecutadoEnGoogleDrive:\n",
    "    from google.colab import drive\n",
    "    drive.mount('/content/drive')\n",
    "    PATH = '/content/drive/clasificacion_imagenes'\n",
    "else:\n",
    "    PATH = '../'"
   ]
  },
  {
   "cell_type": "markdown",
   "metadata": {
    "id": "c-T3ABapjRlW"
   },
   "source": [
    "# Create Train Test DFs. "
   ]
  },
  {
   "cell_type": "code",
   "execution_count": 11,
   "metadata": {
    "executionInfo": {
     "elapsed": 895,
     "status": "ok",
     "timestamp": 1663094499625,
     "user": {
      "displayName": "Toni Vila",
      "userId": "16769261626805193360"
     },
     "user_tz": -120
    },
    "id": "1uOCTKSH39ly"
   },
   "outputs": [],
   "source": [
    "df = pd.read_json(PATH + \"datasets/df_clean.json\")"
   ]
  },
  {
   "cell_type": "code",
   "execution_count": 12,
   "metadata": {
    "executionInfo": {
     "elapsed": 4,
     "status": "ok",
     "timestamp": 1663094500887,
     "user": {
      "displayName": "Toni Vila",
      "userId": "16769261626805193360"
     },
     "user_tz": -120
    },
    "id": "dshYcX5mMdRv"
   },
   "outputs": [],
   "source": [
    "df.columns=['photo_id', 'label']"
   ]
  },
  {
   "cell_type": "code",
   "execution_count": 13,
   "metadata": {
    "colab": {
     "base_uri": "https://localhost:8080/",
     "height": 206
    },
    "executionInfo": {
     "elapsed": 10,
     "status": "ok",
     "timestamp": 1663094501357,
     "user": {
      "displayName": "Toni Vila",
      "userId": "16769261626805193360"
     },
     "user_tz": -120
    },
    "id": "XL_xaeg7K8ht",
    "outputId": "28caac95-0f5e-4c0d-a9dd-cd2dfb0319f5"
   },
   "outputs": [
    {
     "data": {
      "text/html": [
       "\n",
       "  <div id=\"df-7e60fc0b-78ef-46c5-a15f-73ed1ceca9b2\">\n",
       "    <div class=\"colab-df-container\">\n",
       "      <div>\n",
       "<style scoped>\n",
       "    .dataframe tbody tr th:only-of-type {\n",
       "        vertical-align: middle;\n",
       "    }\n",
       "\n",
       "    .dataframe tbody tr th {\n",
       "        vertical-align: top;\n",
       "    }\n",
       "\n",
       "    .dataframe thead th {\n",
       "        text-align: right;\n",
       "    }\n",
       "</style>\n",
       "<table border=\"1\" class=\"dataframe\">\n",
       "  <thead>\n",
       "    <tr style=\"text-align: right;\">\n",
       "      <th></th>\n",
       "      <th>photo_id</th>\n",
       "      <th>label</th>\n",
       "    </tr>\n",
       "  </thead>\n",
       "  <tbody>\n",
       "    <tr>\n",
       "      <th>0</th>\n",
       "      <td>fB-J1F60DgMRoc8eI0z0Ew</td>\n",
       "      <td>food</td>\n",
       "    </tr>\n",
       "    <tr>\n",
       "      <th>1</th>\n",
       "      <td>n2hdfzYgxL0twgfSDbro1w</td>\n",
       "      <td>food</td>\n",
       "    </tr>\n",
       "    <tr>\n",
       "      <th>2</th>\n",
       "      <td>Z77aLYI_SvAl7PaJ62umJQ</td>\n",
       "      <td>food</td>\n",
       "    </tr>\n",
       "    <tr>\n",
       "      <th>3</th>\n",
       "      <td>tBdw-FR8aNZcJLa5bX-SdA</td>\n",
       "      <td>food</td>\n",
       "    </tr>\n",
       "    <tr>\n",
       "      <th>4</th>\n",
       "      <td>z-ftfswcyAAERjoMzKFJ5A</td>\n",
       "      <td>food</td>\n",
       "    </tr>\n",
       "  </tbody>\n",
       "</table>\n",
       "</div>\n",
       "      <button class=\"colab-df-convert\" onclick=\"convertToInteractive('df-7e60fc0b-78ef-46c5-a15f-73ed1ceca9b2')\"\n",
       "              title=\"Convert this dataframe to an interactive table.\"\n",
       "              style=\"display:none;\">\n",
       "        \n",
       "  <svg xmlns=\"http://www.w3.org/2000/svg\" height=\"24px\"viewBox=\"0 0 24 24\"\n",
       "       width=\"24px\">\n",
       "    <path d=\"M0 0h24v24H0V0z\" fill=\"none\"/>\n",
       "    <path d=\"M18.56 5.44l.94 2.06.94-2.06 2.06-.94-2.06-.94-.94-2.06-.94 2.06-2.06.94zm-11 1L8.5 8.5l.94-2.06 2.06-.94-2.06-.94L8.5 2.5l-.94 2.06-2.06.94zm10 10l.94 2.06.94-2.06 2.06-.94-2.06-.94-.94-2.06-.94 2.06-2.06.94z\"/><path d=\"M17.41 7.96l-1.37-1.37c-.4-.4-.92-.59-1.43-.59-.52 0-1.04.2-1.43.59L10.3 9.45l-7.72 7.72c-.78.78-.78 2.05 0 2.83L4 21.41c.39.39.9.59 1.41.59.51 0 1.02-.2 1.41-.59l7.78-7.78 2.81-2.81c.8-.78.8-2.07 0-2.86zM5.41 20L4 18.59l7.72-7.72 1.47 1.35L5.41 20z\"/>\n",
       "  </svg>\n",
       "      </button>\n",
       "      \n",
       "  <style>\n",
       "    .colab-df-container {\n",
       "      display:flex;\n",
       "      flex-wrap:wrap;\n",
       "      gap: 12px;\n",
       "    }\n",
       "\n",
       "    .colab-df-convert {\n",
       "      background-color: #E8F0FE;\n",
       "      border: none;\n",
       "      border-radius: 50%;\n",
       "      cursor: pointer;\n",
       "      display: none;\n",
       "      fill: #1967D2;\n",
       "      height: 32px;\n",
       "      padding: 0 0 0 0;\n",
       "      width: 32px;\n",
       "    }\n",
       "\n",
       "    .colab-df-convert:hover {\n",
       "      background-color: #E2EBFA;\n",
       "      box-shadow: 0px 1px 2px rgba(60, 64, 67, 0.3), 0px 1px 3px 1px rgba(60, 64, 67, 0.15);\n",
       "      fill: #174EA6;\n",
       "    }\n",
       "\n",
       "    [theme=dark] .colab-df-convert {\n",
       "      background-color: #3B4455;\n",
       "      fill: #D2E3FC;\n",
       "    }\n",
       "\n",
       "    [theme=dark] .colab-df-convert:hover {\n",
       "      background-color: #434B5C;\n",
       "      box-shadow: 0px 1px 3px 1px rgba(0, 0, 0, 0.15);\n",
       "      filter: drop-shadow(0px 1px 2px rgba(0, 0, 0, 0.3));\n",
       "      fill: #FFFFFF;\n",
       "    }\n",
       "  </style>\n",
       "\n",
       "      <script>\n",
       "        const buttonEl =\n",
       "          document.querySelector('#df-7e60fc0b-78ef-46c5-a15f-73ed1ceca9b2 button.colab-df-convert');\n",
       "        buttonEl.style.display =\n",
       "          google.colab.kernel.accessAllowed ? 'block' : 'none';\n",
       "\n",
       "        async function convertToInteractive(key) {\n",
       "          const element = document.querySelector('#df-7e60fc0b-78ef-46c5-a15f-73ed1ceca9b2');\n",
       "          const dataTable =\n",
       "            await google.colab.kernel.invokeFunction('convertToInteractive',\n",
       "                                                     [key], {});\n",
       "          if (!dataTable) return;\n",
       "\n",
       "          const docLinkHtml = 'Like what you see? Visit the ' +\n",
       "            '<a target=\"_blank\" href=https://colab.research.google.com/notebooks/data_table.ipynb>data table notebook</a>'\n",
       "            + ' to learn more about interactive tables.';\n",
       "          element.innerHTML = '';\n",
       "          dataTable['output_type'] = 'display_data';\n",
       "          await google.colab.output.renderOutput(dataTable, element);\n",
       "          const docLink = document.createElement('div');\n",
       "          docLink.innerHTML = docLinkHtml;\n",
       "          element.appendChild(docLink);\n",
       "        }\n",
       "      </script>\n",
       "    </div>\n",
       "  </div>\n",
       "  "
      ],
      "text/plain": [
       "                 photo_id label\n",
       "0  fB-J1F60DgMRoc8eI0z0Ew  food\n",
       "1  n2hdfzYgxL0twgfSDbro1w  food\n",
       "2  Z77aLYI_SvAl7PaJ62umJQ  food\n",
       "3  tBdw-FR8aNZcJLa5bX-SdA  food\n",
       "4  z-ftfswcyAAERjoMzKFJ5A  food"
      ]
     },
     "execution_count": 13,
     "metadata": {},
     "output_type": "execute_result"
    }
   ],
   "source": [
    "df.head()"
   ]
  },
  {
   "cell_type": "code",
   "execution_count": 14,
   "metadata": {
    "colab": {
     "base_uri": "https://localhost:8080/"
    },
    "executionInfo": {
     "elapsed": 352,
     "status": "ok",
     "timestamp": 1663094504165,
     "user": {
      "displayName": "Toni Vila",
      "userId": "16769261626805193360"
     },
     "user_tz": -120
    },
    "id": "K2_XbcKPK9tE",
    "outputId": "e981e73c-50a6-4160-d518-a80f57f49122"
   },
   "outputs": [
    {
     "data": {
      "text/plain": [
       "food       4786\n",
       "inside     2150\n",
       "drink       677\n",
       "outside     611\n",
       "menu         88\n",
       "Name: label, dtype: int64"
      ]
     },
     "execution_count": 14,
     "metadata": {},
     "output_type": "execute_result"
    }
   ],
   "source": [
    "df.label.value_counts()"
   ]
  },
  {
   "cell_type": "code",
   "execution_count": 15,
   "metadata": {
    "colab": {
     "base_uri": "https://localhost:8080/"
    },
    "executionInfo": {
     "elapsed": 527,
     "status": "ok",
     "timestamp": 1663094507441,
     "user": {
      "displayName": "Toni Vila",
      "userId": "16769261626805193360"
     },
     "user_tz": -120
    },
    "id": "yu7m-hq6LI_l",
    "outputId": "d5e809aa-0b0a-4ff7-d6db-0b95efc2a2e5"
   },
   "outputs": [
    {
     "data": {
      "text/plain": [
       "food       3829.0\n",
       "inside     1720.0\n",
       "drink       542.0\n",
       "outside     489.0\n",
       "menu         70.0\n",
       "Name: label, dtype: float64"
      ]
     },
     "execution_count": 15,
     "metadata": {},
     "output_type": "execute_result"
    }
   ],
   "source": [
    "round(df.label.value_counts() * 0.8, 0)"
   ]
  },
  {
   "cell_type": "code",
   "execution_count": 11,
   "metadata": {
    "executionInfo": {
     "elapsed": 231,
     "status": "ok",
     "timestamp": 1663090591494,
     "user": {
      "displayName": "Toni Vila",
      "userId": "16769261626805193360"
     },
     "user_tz": -120
    },
    "id": "JlEf8nIZLUZI"
   },
   "outputs": [],
   "source": [
    "def create_df(num_samples, dataframe):\n",
    "    labels = list(df.label.value_counts().reset_index()['index'])\n",
    "    proportion = list(df.label.value_counts() / df.shape[0])\n",
    "    \n",
    "    dict_samples = {}\n",
    "    \n",
    "    for (i, j) in zip(labels, proportion):\n",
    "        dict_samples[i] = int(round(j * num_samples, 0))\n",
    "\n",
    "    df_short = pd.DataFrame()\n",
    "\n",
    "    for i in dict_samples.keys():\n",
    "        df_temp = dataframe[dataframe['label'] == i].sample(dict_samples[i])\n",
    "        df_short = pd.concat([df_short, df_temp], axis=0)\n",
    "\n",
    "    return df_short\n"
   ]
  },
  {
   "cell_type": "code",
   "execution_count": 12,
   "metadata": {
    "executionInfo": {
     "elapsed": 253,
     "status": "ok",
     "timestamp": 1663090594017,
     "user": {
      "displayName": "Toni Vila",
      "userId": "16769261626805193360"
     },
     "user_tz": -120
    },
    "id": "Kuj8LAPdLtSe"
   },
   "outputs": [],
   "source": [
    "train_num = round(df.shape[0] * 0.8, 0)\n",
    "df_train = create_df(train_num, df)"
   ]
  },
  {
   "cell_type": "code",
   "execution_count": 13,
   "metadata": {
    "colab": {
     "base_uri": "https://localhost:8080/",
     "height": 206
    },
    "executionInfo": {
     "elapsed": 14,
     "status": "ok",
     "timestamp": 1663090595174,
     "user": {
      "displayName": "Toni Vila",
      "userId": "16769261626805193360"
     },
     "user_tz": -120
    },
    "id": "zirjKNWuL4Pt",
    "outputId": "1180994d-083d-4fb5-b437-dd5e44c33f82"
   },
   "outputs": [
    {
     "data": {
      "text/html": [
       "\n",
       "  <div id=\"df-f051099e-431e-4c3c-9044-9799353eb726\">\n",
       "    <div class=\"colab-df-container\">\n",
       "      <div>\n",
       "<style scoped>\n",
       "    .dataframe tbody tr th:only-of-type {\n",
       "        vertical-align: middle;\n",
       "    }\n",
       "\n",
       "    .dataframe tbody tr th {\n",
       "        vertical-align: top;\n",
       "    }\n",
       "\n",
       "    .dataframe thead th {\n",
       "        text-align: right;\n",
       "    }\n",
       "</style>\n",
       "<table border=\"1\" class=\"dataframe\">\n",
       "  <thead>\n",
       "    <tr style=\"text-align: right;\">\n",
       "      <th></th>\n",
       "      <th>photo_id</th>\n",
       "      <th>label</th>\n",
       "    </tr>\n",
       "  </thead>\n",
       "  <tbody>\n",
       "    <tr>\n",
       "      <th>6559</th>\n",
       "      <td>v1brBS7juhaP1YkXLp7ZQA</td>\n",
       "      <td>menu</td>\n",
       "    </tr>\n",
       "    <tr>\n",
       "      <th>6560</th>\n",
       "      <td>ockFtmG4btt1bf9GgVRNSg</td>\n",
       "      <td>menu</td>\n",
       "    </tr>\n",
       "    <tr>\n",
       "      <th>6561</th>\n",
       "      <td>86f7GiUFQsOtZ6_KZaJLYw</td>\n",
       "      <td>menu</td>\n",
       "    </tr>\n",
       "    <tr>\n",
       "      <th>6562</th>\n",
       "      <td>rv8yDNDmK6YibyKQMtUp7g</td>\n",
       "      <td>menu</td>\n",
       "    </tr>\n",
       "    <tr>\n",
       "      <th>6563</th>\n",
       "      <td>P2H9Uyem-pc1b2WUn6F24Q</td>\n",
       "      <td>menu</td>\n",
       "    </tr>\n",
       "  </tbody>\n",
       "</table>\n",
       "</div>\n",
       "      <button class=\"colab-df-convert\" onclick=\"convertToInteractive('df-f051099e-431e-4c3c-9044-9799353eb726')\"\n",
       "              title=\"Convert this dataframe to an interactive table.\"\n",
       "              style=\"display:none;\">\n",
       "        \n",
       "  <svg xmlns=\"http://www.w3.org/2000/svg\" height=\"24px\"viewBox=\"0 0 24 24\"\n",
       "       width=\"24px\">\n",
       "    <path d=\"M0 0h24v24H0V0z\" fill=\"none\"/>\n",
       "    <path d=\"M18.56 5.44l.94 2.06.94-2.06 2.06-.94-2.06-.94-.94-2.06-.94 2.06-2.06.94zm-11 1L8.5 8.5l.94-2.06 2.06-.94-2.06-.94L8.5 2.5l-.94 2.06-2.06.94zm10 10l.94 2.06.94-2.06 2.06-.94-2.06-.94-.94-2.06-.94 2.06-2.06.94z\"/><path d=\"M17.41 7.96l-1.37-1.37c-.4-.4-.92-.59-1.43-.59-.52 0-1.04.2-1.43.59L10.3 9.45l-7.72 7.72c-.78.78-.78 2.05 0 2.83L4 21.41c.39.39.9.59 1.41.59.51 0 1.02-.2 1.41-.59l7.78-7.78 2.81-2.81c.8-.78.8-2.07 0-2.86zM5.41 20L4 18.59l7.72-7.72 1.47 1.35L5.41 20z\"/>\n",
       "  </svg>\n",
       "      </button>\n",
       "      \n",
       "  <style>\n",
       "    .colab-df-container {\n",
       "      display:flex;\n",
       "      flex-wrap:wrap;\n",
       "      gap: 12px;\n",
       "    }\n",
       "\n",
       "    .colab-df-convert {\n",
       "      background-color: #E8F0FE;\n",
       "      border: none;\n",
       "      border-radius: 50%;\n",
       "      cursor: pointer;\n",
       "      display: none;\n",
       "      fill: #1967D2;\n",
       "      height: 32px;\n",
       "      padding: 0 0 0 0;\n",
       "      width: 32px;\n",
       "    }\n",
       "\n",
       "    .colab-df-convert:hover {\n",
       "      background-color: #E2EBFA;\n",
       "      box-shadow: 0px 1px 2px rgba(60, 64, 67, 0.3), 0px 1px 3px 1px rgba(60, 64, 67, 0.15);\n",
       "      fill: #174EA6;\n",
       "    }\n",
       "\n",
       "    [theme=dark] .colab-df-convert {\n",
       "      background-color: #3B4455;\n",
       "      fill: #D2E3FC;\n",
       "    }\n",
       "\n",
       "    [theme=dark] .colab-df-convert:hover {\n",
       "      background-color: #434B5C;\n",
       "      box-shadow: 0px 1px 3px 1px rgba(0, 0, 0, 0.15);\n",
       "      filter: drop-shadow(0px 1px 2px rgba(0, 0, 0, 0.3));\n",
       "      fill: #FFFFFF;\n",
       "    }\n",
       "  </style>\n",
       "\n",
       "      <script>\n",
       "        const buttonEl =\n",
       "          document.querySelector('#df-f051099e-431e-4c3c-9044-9799353eb726 button.colab-df-convert');\n",
       "        buttonEl.style.display =\n",
       "          google.colab.kernel.accessAllowed ? 'block' : 'none';\n",
       "\n",
       "        async function convertToInteractive(key) {\n",
       "          const element = document.querySelector('#df-f051099e-431e-4c3c-9044-9799353eb726');\n",
       "          const dataTable =\n",
       "            await google.colab.kernel.invokeFunction('convertToInteractive',\n",
       "                                                     [key], {});\n",
       "          if (!dataTable) return;\n",
       "\n",
       "          const docLinkHtml = 'Like what you see? Visit the ' +\n",
       "            '<a target=\"_blank\" href=https://colab.research.google.com/notebooks/data_table.ipynb>data table notebook</a>'\n",
       "            + ' to learn more about interactive tables.';\n",
       "          element.innerHTML = '';\n",
       "          dataTable['output_type'] = 'display_data';\n",
       "          await google.colab.output.renderOutput(dataTable, element);\n",
       "          const docLink = document.createElement('div');\n",
       "          docLink.innerHTML = docLinkHtml;\n",
       "          element.appendChild(docLink);\n",
       "        }\n",
       "      </script>\n",
       "    </div>\n",
       "  </div>\n",
       "  "
      ],
      "text/plain": [
       "                    photo_id label\n",
       "6559  v1brBS7juhaP1YkXLp7ZQA  menu\n",
       "6560  ockFtmG4btt1bf9GgVRNSg  menu\n",
       "6561  86f7GiUFQsOtZ6_KZaJLYw  menu\n",
       "6562  rv8yDNDmK6YibyKQMtUp7g  menu\n",
       "6563  P2H9Uyem-pc1b2WUn6F24Q  menu"
      ]
     },
     "execution_count": 13,
     "metadata": {},
     "output_type": "execute_result"
    }
   ],
   "source": [
    "df_train.reset_index(drop=True, inplace=True)\n",
    "df_train.tail()"
   ]
  },
  {
   "cell_type": "code",
   "execution_count": 14,
   "metadata": {
    "colab": {
     "base_uri": "https://localhost:8080/"
    },
    "executionInfo": {
     "elapsed": 669,
     "status": "ok",
     "timestamp": 1663090597353,
     "user": {
      "displayName": "Toni Vila",
      "userId": "16769261626805193360"
     },
     "user_tz": -120
    },
    "id": "IQi7rrYWN1Tp",
    "outputId": "f10e650b-138e-496b-c323-21e3192d0461"
   },
   "outputs": [
    {
     "name": "stdout",
     "output_type": "stream",
     "text": [
      "['tklQZg27obBW8ooyPg6oDA', '31ZoDyh_pUNJdYoiXou1NA', 'Sk3iE11HO5XHAv5LFHp3NA', 'mgOuyb26kSYGfqmOnSswqA', 'bYVCG_M51tuyBXVNqIqn8g', '3HIDw67-_BMp_U7fXbIfzw', '4SGHzIDFqneNz28xY2QDIg', '-bdOahUmzaI2v4gPc9lA0Q', '5NaJrw2cbzjF4LC1ssLKmQ', 'rRMjyEmsacPuhlDPpgr74Q', '4tH0fMB_hYWN058nPKd7mg', 'W1Hdm6N9KEkgVf1fzwj5Qw', '7ZR1zKDUBK2Y-vaTLFXHCw', 'R0pC1fXUkD1Xic7Faxl4wg', '0OXE76Udfeww_2IkeFR63A', 'c0-xcXg2ZRpc8Wl2lQEjqg', 'nlnOaZTKY0KM7i1tW5Hu_Q', '--Kofko5jy33_vPJOEt4Ow', 'wF4NXkmcT40uaoesT4xipg', '9y9yDGVs1Tw4XQNL1hEOEg', 'jLuZPx2mSu_uHnWFN_xJ4Q', 'D3BL3ywAwnC6sHYRnYmf_A', 'm4yKuw1JiMm3njiwNyjLqg', 's9RUuimAM9B2RGLScPkW0g', 'GCd0IN30JOu-_bkBaskleg', 'DoQN1PBsZfjauLSCIidnVQ', 'xxRSxLozJF4ROpXNuu4k_w', '3HQNPlakdPdOY5Kbo68_VQ', 'vTtKt0vjO1zJsd1pw30--g', 'RK2meU8ubOTYGL6zlUxRLw', 'MJc0lBh7jY62Zrrp10DUpw', 'aabVv0L2LEKrJTkPZ0wL7g', 'a3uuBc96zf0DMO1RG22_Pg', 'PBLOR1dEJtrU3sYX6PsuVg', '6CR5lUPYGtOdCmcBthjVgQ', 'UX9UpOzu-K92n5Cj2SGvjg', 'ZizwKWzawgqzuw02DmpqxA', 'WRLHHqHVHRCnAlQgaUDZcg', 'tEYD9BckqQh2sHAMkAZUUg', 'dqjrWF_ahMIaHgBdqvH5ew', 'kukXtNi725xJC8vC5cXbtA', '5V3sgbQbOo0PcNWlnJzyCA', 't51PRYA--tRBRDjAE_Yoxw', '3TUeWQojTXy1YCXpsgPTcQ', 'BcGk8ffqWSuZ9_JHRSepXA', 'QIPou22TfoIpYT7VzO9BIw', 'TXSd9zCHDKrOeHOhuwEiYg', 'lsS9saaL3W5fBJ0nZwL8KQ', 'UDDh9MDT2qyyQ8quW-fb7w', 'Xha_tZRJiaOki0dTP-hJfg', 'fCjgeIQQHfnuUDCAKL-VuQ', 'AOl1ZwAe8psD9ZciqAzZOw', '4LX4ILjcYBxUOv7Tf9kRTA', 'KTDZmQ68oMFuFW2SHqOIng', 'igIgjZqGz5Czpryfy83w7A', 'BLhtK4KnmKKGvLN4Cxd7_Q', 'lemAG1-s9SxFo7tkNuJnPg', 'vGwUPuDtJ2XqJvN1utxYxg', 'DVtfW-TniUBhbSSXQTNCwg', 'dQ_O6ugDysYDorj8fCwfkQ', '27mCQcFbb7xcueEegEmBpQ', 'kTw6-o8bBkT6v3oVbmHunA', 'DuRflYkP2atQuNLim1OpYA', '-tvRXW0BzKJHgFwy17ifqQ', 'jg7siWwPBaT7MOx619eXzg', 'BOOEtmVybB_RcfEU34LTiQ', 'HtwTTDeHp8Marwx9XBg8rg', 'xX-mfSPnWXYs23H_EIJKCQ', '1_sHfGHXMFrRf2LhYWJqcQ', 'Z293MEvRqkRplGnt02J-QA', 'nRCwmDiVqQ5QE2sc39Jm3A', 'srFDMjxYm2vvO-oBF78wMw', '6YBIQpFpn_SXB950N58jGQ', 'PQG-428-_El7ZAJXRIthYA', 'fQ-tCsGX8tZnZDl4lQKEHQ', 'ZGb3h-7_Reji1yLf26EgNA', 'UG0bosmIo_hTv1Hj9oX_cw', 'uhvT2QJ_llUYvQXQy0zVfA', 'QHzh_siI-97_Hankz_2oUw', '5QBtv-b1rpXjWoh2dHFfcw', 'S8m6Ugli3PwTmNZsnAadKw', 'VEVCIKW_vN-Wmf5cd6Gs1w', 'IOKtfs_qwDzifzOvR1id_Q', '3FH3oZIGu6k8tgpMJ971Bw', 'lrd7Q4Vd_c5LLZ_OkFR-Ew', 'flLjT2k7SPBx-LjxyKedrg', 'jZiZpRn2BgkIBuhG75lGqQ', 'Uu2tpEoQB2MCJ8zyFpL8oA', 'IWDGoIsZZc062rTeVcvY5w', 'qdbB__oz-M5JMv-rWnkGZQ', 'T65MS1mHvccJOBCDMknNXg', 'JsWeD6vxecUZ-jiXIa1DqA', '9Hgylh66NfJXo8ICKVm4rQ', 'K1tKCQTWxsT_CYmPcowjbw', 'mKwefXGSTAqmYE8C9hvQTg', 'yl4qAfSLbHLqHYpsNaeKcQ', 'nmP6kaI7qsC6lfFEANj42A', 'JlJY-euAV6lhf6BNyeXg4Q', '4TvuxOygl2iorNFbnxdtfQ', 'GAse7ckBmXBIyeJLAKPSOA', 'qQS7Qk74qAn8L1Xj7wolHg', 'aCm428BN-sWXV4R8O79Bww', 'lsciw4UQhqm8Jih4kq_J2w', 'sBYG8Hn0iJ1Jpu1dJgrvjA', 'w2rER9YhSuACvwcU_wwlLQ', 'FJP4HuUsEo6Fd94D-KyOpQ', 'qQY92wf6x6W4Z1DqcUKbOw', '5rzVG2iV0DHkJrxrsoF2Ag', '_wPBNYsDRwCuZrr_SJkv1w', 'InVnClBEvxSLxnF3YAh0HQ', 'u7yP8cbDn3py8y4iWt2y3A', 'qH1ag9xaFAxjPS2L6jJeuw', 'EUifAVqw6W7VFt-JZGSSVQ', 'KWzV50vfln0_ag5qs989OQ', 'mgQzaywu3ZG9RFLpCAAltw', '0_4YLHgVikRvRQQScyQEmg', 'eS9lTBLv3aphRO3jfSkNiA', 'F5X8ftrdGDDZA3ReKCuAYw', 'yVNltwB3St-J-0CGcDK-mw', 'MIFq6ORwxe-J1AVvYxzruA', 'GCTAwoNdHa1ZHDNUYu-NUw', 'eYoVl2osivqAe0GNZXdCvA', 'A-odydK2E4l_-pKOb6uHuw', 'zJzxgmgMeKSubuJJYT_rLQ', 'dLO9WY9s7_hg25qBeeXodg', 'LZYFnE0d8Pbw16wDWtxwQg', 'qlm2MHqxCQ0A0biIjpYRgQ', 'QG5Pz2B1wWCNS7DxoSB5fA', 'a4bCXxrwG0tilykcmEGZ0w', '8pG3BJBpEyHQEY77IsuV3w', 'MiinKO500EbZ-s5rplcLug', 'AhEy0JmSQNxOHZDH23iJWQ', 'cLiaTLZAgRmaTm4H5LWKKA', 'CaQnLLL8XpWwYYyxQdiGzQ', 'hfeh9ad9Q2iH8hzgfx1e6A', 'nE5xLY-5EAEv8wwSJj2-iQ', 'BOJUeRpVRfBT8vb-DAsFaQ', 'x5LW2bnCU-H9LneYwzM6bw', '72UwCuFsBKPvucop4pGSPw', 'VVVadHoPtH6gX3OkiEwcpw', '8AzRTJ6Vi16C7Z3In7b9-Q', 'dQv2GGIFbo_jqIEoIzhprw', 'LnMXVKwejX8HfPyVvJKBvg', 'o_kM3cepWVhVJ70RZcESCw', 'k8oVmD7C2H9aD2EIRtmQ9g', '7c7bn1sbCHRkCBo0ueJ1Uw', '3NKXEzsAMb05GdsPro7BMQ', '4FMoFkcnlAwsrzUnNZXyXw', 'yLiT6wbla4Agf4n6tDlE-g', 'Gs11etQpYegWc1ZMV8Himw', 'LX9pVGjt3nQ1c_PA5xYjUg', 'f7HkfwX1hUJMYtKismJDug', 'Kf6Qj676oFDMPLRlXjeVvw', 'AN_vOfPw7ivngrZYaCSaHg', '9BNa3SqcizwRnIpKOEQfBw', 'ZQiDJVW6hYu3015rsGHesg', 'P-ea5xTs6TCwKS6Qh9zpUQ', '4GkFhJfbDgmEcj6bFiE4-g', 'hzgRvMFYf8ynr2NrwxcSGA', '7OC6SPjfkkxWB5vuLW2ZlA', 'ehkb5eel_C-qLc2aXwFsVw', 'ilA-qujdTGAcEXRvqLFkSA', '4ugwWe1cc9uSV7YMgbFfgA', 'uunWGIVv3xhK_X4MvX0A_g', 'R6f-GErNJDVf3Eq6sv0iZQ', 'BqkmGdVzM4IrkHGyj39AZg', 'bPCiI624CyYirVoAcszXjQ', 'm8hr00xl9RVBgkcTggRr2Q', '_CDhRGOy9_rVlaKTXplDVw', 'BCWHnKltU1tR--5QKqDmfQ', 'kzLBmChlt9XkvwZAVaR06A', 'iDprd7QOrzoFvzDysn2tcQ', 'JRGdJguYEN8ToszRJVKT0w', '7FCV75YPVNQsj53syXTvwA', '7Tdb4K4ZvSyjeDWccoCRzw', 'm40dog8W-kqXL1RZOEyjRQ', 'kU7eDS4z53wR1gzI8jkOkg', '6VJRyOIjrHxUCGqK-OGZDw', 'SLv7oqjb--lvbsZD_R2p5Q', '-a6M9O6dtvYOkvUPb2aB-Q', '5i6Rw_9JMcW9VtQClyRFgg', 'UisayhRj10pivbz2PHaaVQ', 'yqEAk8SkfFPdH8_U4eyUWg', '53nRPUy9PGxE5P7DaR25Pw', 'zPsGgOwr7Du3BwlBmoxqCw', 'O_WlffI-fKi7ecvAel9SgA', 'eYTrOQNVlMiuDgUMoumFMA', 'iwndOLESzY-DhUOO7zs9ZA', '834n1q-sCYfuOZnxIqPPPQ', 'NGCBfFNYgA0zCuVC6Qm1Jg', 'tMWKjgc4LgsIBPoMqMs3Ng', 'lpVGbwQD1eUl5S0m6tZ3sQ', 'OxDMzupX7mZXGg0EiIpsIA', 'wNXhzu2xYmg2Hh7TmJDGPQ', '6ggcCWy8pMVgwgOVvzhN6A', 'FbSo8R5VqzmcH7MEKeqJdg', 'e3u3THsTeCj75m8B4q--gA', 'gv_FE7W5i_AYy6z4rHvcHQ', 'p7I5P7HIGMP6xZk_gfgEMQ', 'ZmEXSFzrLbCu1YcWiKlNew', 'dKrAvboXY3Ln5v23mqknvg', 'y8p4K9x93Lwf4LYQmCNqnA', 'rfRPNaQDLfSMZAWdHRtwLg', 'PUkbJ2o_JMywTITMKKiuag', 'baxWsKhwPvKbdvxAOTzy7Q', 'tjRtiY1odA_P-y1Rz_1pUQ', 'sBaC-Knww3kxddU3bIPwvg', 'ML_uNET39mUnqD2UqJiqCw', 'LrdDQdTFmezVzH38oniGKg', 'bTk_C8UnK_sRvfE3rmQfBw', 'r3xrPLflBr3fvJPZdlvjPA', 'Sq6wkJrNfUSYU79JVX6rGw', 'PfFVczw6CiruouRIKD4MOA', '3x9Y0KDOvZGYaqckPi3IJQ', 'UxxqXFszON8rG_oeFxNv4Q', '2zUj18AZXKz8DETH0AV35g', 'KOBjQ23CNNssOztI4RFvCg', '54PuNZRD5psJCDUz3O-O4g', '5ZPrLAa9tbQtZmowt7Bf0w', '3ZiC4KIdpbasT_56H6FwCg', 'ZaZtPlFamXijZ_PXRu17oQ', 'qHT8yEqZaEt8cP_CgkcPRw', 'r9CZYjQjJ-ZfQFPak19CHQ', 'k8pQhHoLdpjk3X0WUblbfQ', 'qfTsoz1KvxIbhVrwZNwVGg', '-UwN4CfYvHgespC9HqnIfg', 'frZ_FJDVOVTjGaZCtIkXOg', '1BCuVpYk6MU-5EFuXNG5yg', '_gotPrVOj3xJndOkb2Uyjg', 'uauKKOdqeTNs0YuPAOHbXg', 'McUjwbWs8X70QpM0MxZBNg', 'JV5dk-wEz3BtMWAt8FIHWQ', 'oAWgNuA14Ji_uWV4Jmjn-g', 'Ei1Gb3zIr-DdVLCwv5AdGQ', 'tguImH2pgplIUrKPe4ED6w', 'tn3urkRdhpdbN9L4bQsatQ', 'KlB2wfynGEpNPbb879trdA', '6zZPBj-GvzS_2vELpj8Vlg', 'oGqnvoONJvHjUCI-YZCvPw', 'ParmbTReuX3bS2NJmRFMuA', 'v4uyqJ5Km5kU0VaRKb0thQ', '5H57GdGXVwBZ3eL0GjHMvw', 'nTTP1OEiGuXX_VoVcJpkHg', 'XFFmHTi5GWlj2O3z_wKVfA', 'jmVeIjWHb2nW6SQPYnEVLg', '3oqG3BzA0eDn-Im7prL3Mw', 'uKef91oDGQaGf8kx_-LJ2A', '5Bl9m7Vul8NHjgqnsuw86g', 'UCAdNyCFgT_TJkmepXQugQ', 'ftiA54jaLE8uJMSvqmfA4Q', 'l0zj35soi4xWkqOn1LpFjg', 'Q6ZU0GoUad8BGsdM8EYuQA', 'IzOLPtBIq4WdzuHlOyZUlA', '5tpSanrDFnEZRuP0Id-bUg', 'El8uVtEempq8a_Rf0j5u_w', 'YTHgrCt4AyyM97jwC8TiiQ', 'HeysogSBDdrQvKvMO80MWw', 'pymcgVNR3WUM3L__52Z7Iw', 'IAwT3pRxqv9259mOPrknXg', 'chWe5eML7RMI4DYcQ0QZgA', 'EYCOD2LYkzWaR2zKYAFVEw', 'lrugBgpJlwKGFDfkkm3gag', '3RaaWVwvdeMrJ_OllfZLDw', 'ohbYDkZ5e6HTTvFV0MqMig', 'q_DeVIzdAdN-zRVCKYHaLA', 'zBJS5eNRiov8XgMCs-hsoA', 'hxMkQJLLgDCDhZAoFY7Org', '93_3fB1maOwriYQgfggCXQ', 'o1Lxr-nGFVSFm_MrezoCYQ', 'D5wic9L8GWBgD15GFSHjqA', 'o-2ZF2gcRJyGYgw9Ep4Eyw', '8dwDscWb2lzlJZ9A4LOIvQ', 'nSYNtNNk2l_jSgcO6rVaQg', 'AEk4ZD0R5noeK6hCjeQNIw', 'oAVC7RCZM_S9imDbb8bcmQ', 'Tngh5gHe_yq16t9ipRaq5Q', 'PEat5xHn249wUKX6CJueJg', '5431dSTAlB0-iUUpmxGkag', '9kVdBkGWcKfCFzSwUXjQyw', 'LBZy_sAL-ysGbcBlDXu9bQ', 'vbmaaLPB8k4b1FRbMdWCQg', 'Vms3XM7YaKyJT5pAU9rTWw', 'AQm_Rdh9A5VGJOfHMyZvQg', 'bstBsNb-I1qcC6e4vadBRg', 'SoA11CodW5RK3tpysSMagg', 'Ay0JnZogvOULiN7fRsllcw', 'A8LdxTtYebgsvp59420UPA', 'eXKv1ge-KHeKBhPncL8_cA', 'lKoXFPLAyEr3p1IATk3aDA', 'Pyd4IsrirJ98zamwIYkZow', 'FMO7XxSFP3D3qPqdOf2nRA', 'EtMzm2bL5bmrSl3DqsvYcQ', '3_H5BEXtjXufjhnNO8CHig', 'KN39RLiKqtEZSrUOTJ9z1w', 'BCgbMdlLj3JQJ1pfzArOSA', 'SmODTv3zY1vEuhieYKnBag', 'sNnPLj8Qr47aSO3Eci3p4g', 'D4vriBP7c7IpK_JtsTq2lA', 'tKVFtt4FuTpUR7Tm1-gxKg', 'QAQNZqDgRGiLq722Y_oaMw', 'j3fGqxyw3dzi6KtVYhpeWQ', '_8o42Z4SyrAtI_bAYW4TIQ', 'E3GdZVOBeTdbF73c7ghscA', 'Z9AGpzh1BrMKk1BaQMnDAw', 'QVz_hDgkwyhp21O397dUFg', 'S4m3d9PKdCAEtEHzgz50Bw', 'cebiiwiEpt3moQQBxTDCjQ', 'Q-i9e8O9EXhJthWZvOXAwA', 'VTyaMr9bytjmlY53BlJ4sw', '4fpBBedrSRDKKJTb1kR8mA', 'kelyRltvagjRXZDNDBH2EQ', 'KeMF571c6_ABKoVV17HJlA', 'UVO6t1mMaK_HLCduAR62OA', 'yIrfGROJ-42xy3Qj68RcTA', 'p13DE8-1JQwsDfn0tZNK2Q', 'xW6d7vui-j8sJfYby6ko2w', 'Y6ca2aViKH8ZR7WfJXspAw', 'muPwxzDMqNXlXRYpwbvKVg', 'sACVYCtxOm5eN1bfyRIVxQ', '5vVcHGwH8jXXqVfK1thlYQ', 'VYU-HckvFEW9a6WvTz8tSQ', '5ARA79pnbTiYhSJ0hpUV9g', 'hkZCXqsrWI384fpoSJ4iGQ', 'wdd3IaO4-vIWHQLu1ksG4Q', 'hGuUYXrlV8SPjUbuprIbjA', '4y6xKKMxSJjWdj_QUsR5UQ', 'YlTJoNY-5rEUnHmV4F_LQA', '_10E6yIUTVJ-poJ1FpBxRQ', 'SM-IEZIixktQvBfakUGSNA', 'r5Kf1PhVTd6xXdkFiVTNGg', 'sAalak1nc8_ofCwunjLgyg', 'fK-hOf-SKrHVddufVcjXHw', '8avJyGw0dCyUX4LxGi_sTg', '00FHtwGl5wm3Zz_uDwBWKg', 'aH7z2Cy6vy8yT0GPZRLmJg', 'Nz_W52cPbZ8dRHLKTj6tAQ', '2QasB7EagfELN1UY3HqnWA', '8ZzTe4u95idPlVAbDxI0Tw', '16EpElotJX-10qKM6ss7kA', 'FfqrydwV6Aez1gUDUBrIGA', '6zvhrxMVfNCrYUgdNDrU-g', 'm_WMxp4Z9H8NZ4Cxc5tO0A', 'iRwSFllKWMTA8D7xz7Ahzw', 'RGgynpfzMIokz--mTAdbiw', 'p8l2HizVpo8NSJ0Je8yPPw', 'QzZ9m1pKURDN7LMbQIYOaA', '7awlb5gWz_s8Is0-Y4XY0g', 'W_T_uDNYDMmXdw3PmLqGdg', 'Cbm9SPNLkrVFTYZeS_eQaQ', 'mH8VOLiOOy2sd9NYnvD-_g', 'M9soPzJKiCs1G0bOac0o1Q', '5Z5i1KHXiaFZJrC-H1KCLw', 'KmSNap0RUp31Pgo1zWlXMQ', 'uqK3wEy_CF6tvIViL1eHwA', 'uRyq7P2e6RnXvKyejgaHPw', 'birQ0mTdnv4ar4TKCPJy1A', '6ayRtga8VMsDYhQdN1EAiQ', '5XmMDE7wGMP9Vql_j12tGw', 'WfhxmCyKU9Yu_jO12MDknw', 'l0FU8fOL7jRDCv6Vk033Ng', 'p5ympzj0ByP4bLRFqgca0g', 'EW4sUhHfRLkTMXKSbOEDTg', 'z0HmqPz8FJ_HOEHnlMdEFQ', 'nxsmEHp6PFh_xNXAcpgXqQ', 'zsbaPrpQNqqEK5b-nZE9-A', 'qPxJaZAJLlrgTK1MUKE9Aw', 'bopwpCIL84Sp1jQQGHe9Lg', 'hE5PgTmbSgVMnCs6CXXQXA', '5skzKb8rMvvYKpZvx2pkkg', 'Uy1czbR2P2gcQ1dIvLauzw', 'ubH216hLtJM_LHXE-XjTsg', 'Ph_Y3O2Gck_2MDpNb5tZ1Q', 'gzsQjD4m-myeiJwJVhWhjA', 'k7xEnqPIEt1aXh-jpqeSVA', 'nNbYuTuDtj0IIbAtWxk-ew', '3NFitg4XuIH7ZbfwjyeUrA', 'IrCggm0299YnaHTXIVQSjw', 'DfajJJF-QNhIa019psK5bQ', 'c8nb6cwfhTEIX54rAVKLGA', 'BNxaVs3JL1WW0R-253-0uA', 'b0InW4DbzvmbE4lE4prVCg', 'MKKTwu6KXL-YBpq4KVrt8w', '28R61nUNAdhoUIJwCR6lqw', 'oVeeyohFK1GVkLbYtfF1sg', '1pOohUtupoUjGFVLSkgr-g', 'p2v_rp_BWFDStvAidss4QQ', 'IX-9WT3_Tg_bSXJa_JD8Xw', 'prSCjRC9DSWXoW9YSEQJZg', 'zcrzFYwqclfP1gYSbiSP6Q', 'tu3Q5pWSLqqrhT_LSHKSMA', 'iXm2_qx5_DwfuwKwlehENQ', 'z8IMQP2CaEy3zxv7Ej1ZCg', 'RrcJft4UsFpVcpL1lBGu2g', 'xgs01-DlbqxTQKLugkop5w', 'AOf9cFJoZNa8MAJhIOVwAw', 'kDRw2Xd8Qse5SxDcSXLNFA', 'zAqcEKkKNSwu5uNaOV7m4A', '4k86CBb6Q4e8XfznDKfd5g', 'E5cQW3LYmsATAMzIj2rlZg', 'XgC0XWGTkaycNXboxIbV_g', 'L6U4poxFGrHVXVnWMMKQnw', 'yidw1oA63gI8TOtjJRh9IQ', '_muXQma7pJ0XDlRc3MlodA', 'Z18Sb9Chgl2uH_mdVxDY9g', 'rqnr_jJkiN79c87ZNma_zA', 'MjunxkY-X-_JsgtLE7hYEA', 'XHNa_D8O38v8G3zA4gSC_w', 'ahmgbQbplXwbPaCk9dpNCw', 'IPqHB6rFyI1NOyRt0cJoTQ', 'xRREa4ahgBm-VeqR9U_epg', 'OeWHZtgm7QdLNkABvsEGLw', '8ZK4tMapPArg3zZeybvaAA', '-VPZdPytBEvDB6mh-lhI7w', 'gw4f1l-PFQy_MDveqkso1A', 'FPV3jRdIGUAoW51-9zErvQ', '5vyLuMLj5sXCAo0WaIUqlA', 'RzsuyRUZZ8PqwVlO2hUILQ', 'z9y7DdnK-Emdc_r6rX9gLw', 'sN-a2Q5Y6RF-qKIA5tNgnA', 'ALSW66CPzpFsYEh5LKEr_w', 'Ex-4BUltWZm36vzmEVEJ8Q', '5AbJ5K63bUzFyV3-IoOkCw', '_cSZOdKbmpIBNLEw9TtuAA', 'v7wnVfWeD-ZR0XkQX625TA', 'TPFOUPEblKeHIy32zl25dA', 'EaBiw7_mgEUltdFFkviFjg', 'KkUA0Ml7TnVXSYCtOyT_zA', 'jBJhtjAfHbE-BaTuGJ4zmg', 'zU3AwLy80pgIDxhXwu8VFA', 'N84ivCPGtuZO8f5BYL_z5A', 'ih9a_byR9-UwKXiLGO4KUA', 'j6kxTbbqT9kGMm2700Xwbw', 'cyqF6RphWOFvoil4kSVhWA', 'VgaVIWtQfPDmEp5LhnJ4wQ', 'AXdFoyQv3DC1izASmMfTGA', 'Fzj9mpBVXZNzoujiQ5BF0g', 'jJ4xT-dbPhT4waGfjU0mwg', 'COQaRHuQXR-o2nGIpnTYYw', 'lQgwu8jf-QSUQnAmDyiCPw', 'aKdGu7-kSLiRGjLK8LPvSw', '_alYGeY8-qb7xhKFWZsyQg', 'wXjP5CH9UPVNnzgEWqAujQ', 'cQkohCq2k-5LbO4_2TLefg', 'tN2zjThypmWDIJaI_iu24A', 'YSsB2oGsboPjpBZq4FosaA', '3Zr3plNB35L69ILtaz7s9A', '6WHIA5H-iUE2f0T4Rg6lSQ', 'sLUQw-C4_evUTsF2Uu0scg', '3DSvqg1Vd9kMrlXE8hXi-w', '1V8UtcwusihJcz_oofqkmA', 'RNfjcnr5G0V3tUmPaWnnyw', 'jFdKSvjVCjN4mQTWUtaCYQ', 'oUT7vew0O0YSrMGHrFY3Bg', 'zkTDFBoDVDUq79eUqc0Crg', '8l_1KBxAzIJfUsE1N-IwWA', 'Lpjovk5nlAwnizPgCO5P_w', 'ljb53rHBZVwmKY9Vu_xIaA', '-iZE9rMnzqU_U0BJPb7DnA', 'QXK-VxqJLfQuefkg0tbM5w', '8n-Mm7zRXx7Qjq29d14Aiw', 'JVpP1Oj9G3eBWZ2U4SJx5w', 'g9R3rc3IGTHZbySQ89xlGA', 'taWkP_Syc78L_h8JYeZUEQ', 'Bwseo4uDSLmCA5SV6mlYIw', 'x7YwX2iquNeTz8QQaWmHIQ', '1v8t096Uo7LuQNWF-qnuiA', '1wC8LmakgU-FDEnjPpHaGQ', '-l-5I5169-w9xbb7Z755Yg', 'rr_Z47ZU8MFZYg1CFInUTQ', 'yDS-H6q6OX4FWUFaNW-SQg', 'czRbJW-_LY5j250ECOHe2Q', 'mEZas_kmsv5Gmzwp7yL6wg', 'JLw6J7h1n25YLWwF9UzCNg', 'zNNkxnLDflnRNknPMB2YZA', 'd_IrwxEyert-CZsj5NQqOQ', 'aVOMlSY9-6Ec3EZfbh7nIA', 'Y01tG_EMVCeqwUPrSdEQrA', 'utDm-7eoGyKRJs2vykPOwQ', 'AryQCXI6CqGScT32KMDreQ', 'GKfmn9yu7cvOuUjTZXQj3A', 'QMcf7vbvOPPA2fkpdhl28w', 'Km6a4gzt8UUZWNFE8Q7KPg', 'GwTwKe2CVf2Xgka2liGMmQ', 'dfcjlOHVL8fipjmEu1gnMQ', '3zpi3o8pjIbrTWCLMTtu1w', 'AmTN5-rMA-yeSCYiUSCRLw', 'OSQ8DMe2_b6r_XYgcCsSrQ', '18QFn1dGhZQyLulgv_Vf0g', '5akm2kCSzOPvjnijTOOrZw', 't0bSNqfElzdvNJSfmiBBgg', 'Vn0GMrHoZqCCmpinqCK7Ng', 'q5ghNz4UHbOwd_TqUSa8Eg', 'ReGcwBTwer25GbpPXOCdPQ', 'ihP-GmP5JQzDjU4xG-MLZA', 'qPLVm2GvpVXb9EsW076pcw', 'hWxU7BvbthcbXI_FxFfT8w', 'XqYdjJ6Y4wtfOZksZeAo7w', 'IkvB4tIr5c7VWXj0XIDeyg', 'LavwQ-Ano1I9DB_xM25GfQ', 'x69Z_NYhxtHAX8cEnjdRVw', 'zjO7Ll3wKzrCO2_3XvyAZw', 'D_i_olPTzJHLDjiagqiCTg', 'cSxIKgTXvmlnx2kDSpvLTA', 'N5nt6K8u9ZylNgiWrvlvVA', 'PWW2CQcvnllLJKF3uWw4zw', 'FrsK1hIWk9Dfgye2fU76fw', 'RCy9as4FSHFwq98pViBMKQ', '8ff5AIdqtd7CZ2MckAkpeg', '025FUZpXEwwkj9WbMbgYOQ', 'X_SuY3xD0kuYAU6A1o_sjw', 'nYZLerR7CPG-r8JULuj4sA', 'ZHljbDOcwkdQoMK2QWbJUA', 'Gy7QrzRs7u_SXIgjZin_8Q', 'pIRhvFpR85IWZrLVz2g0vA', '-H-bKhuVSlDFBJ0AvvWXPw', 'OA9yjA5SJRmgd6yl_Belaw', 'yx7-w94nUOdK8JvCBp6pxA', 'fVMHNLVkpiXEu0_X6nco9g', 'twA_Jb1nVaRPvF7sZ-9K1A', 'TPiBKvLj7WCkk4aR-GGA5g', 'KyiU2tVDlT_Kh6CuUCFXcw', 'K_KCThH5O0s7csj-doFodA', 'IYjhwiJpX6cuMaX46N08QQ', 'Ra6uP9VqNVi0mw7HP6jcvA', 'TJXiSTXT65ezCUtXITqPPA', '5-E_YMVPaiR4wlnAWgL3fg', 'nn1v3nEuDeMtqFm_j-b2dQ', '1GHN4E-uRSDlLJH0_WUGfA', 'uisTdvofEVqjEaOw-9mWXg', 'srJzsWuyFnKl3ikQ5mPYqA', 'SIcf4NceGgKJsdTCY0VJ7g', 'qZ2UTrko75KT3UkJkx3mZg', 'QHjJxepeZwUw0V22mZbGVw', 'vYgNUoj_aOHCpQthWtzaDg', 'key4rpZ0sUwKnX-1FCGrXg', '-cWjI2heWmLszz-oPHbnyg', '1TNfzfy9cdNy8ezV0gUcWA', 'sCTuyd4WZLscGus8JKRzyg', 'ZHvVrwmpg9w71RVA4qktRA', 'J5we04tJqg-WsqFuhJRl_Q', '6CUtePhC7-AxP2QeZgBCGA', 'Cpg1RzNhdOQNH6QNFHLZqg', '8W3RYRVvVqOWUU06VKi6zg', '8VoRRZ8Eg9E0sxB1wZpktA', 'K-hpxGvzzjA-vvjGQDzigQ', 'xRptrOIn54-80LXo10tiow', 'VY9ZrCTBHckiv6j3LoAx6w', 'qev0zrF-_W420O6cmra_tA', 'OcP6E2tO62KiW7FdoRPXWA', 'MzMooJm9Qv16leNPU2rUAA', 'T0sA31VKD3Gglk0gcRYigg', 'kQL4EMCbZTI54Ty6rYhNkQ', 'G6IkEaZQTvdliybCHURoeQ', '-LqzrLSWyLWrFXa8QaXfUw', 'fDCCqT4XVigm9o-g2vVxFQ', 'tbdDI96lA1e9P4B39ZQ4ZA', 'b-mjD9uhuffbsa24tfOfbQ', 'UlclYAQ7bnH2sUiG8Ctwfg', 'or9cATBSLUCMjhi8aBaQsQ', 'zo6_N56gClnM3FI0hPG8UQ', '0UGcPxp_Jv2mUAhkXRcomQ', 'PZkniFooJM8EJ7Fyk_IxVA', 'ayGu6RjFD5LY6hpR-rAcWQ', 'gO062Gw7TRljLSdp9xdD5w', 'tbb-bn__yl_Pof59Gg2fKg', 'Sa8Dot_liS197HEXbkjLkQ', 'xPyt2Vkrne31xRoR89Bs6w', 'pjFgMugEXSSTly1naz1Mww', 'f8gqOm-1fOMeFl42Ci3fWQ', 'MXjIuqw1yAoT-0F2dypuCg', 'xPB6SUN5BKhTxmNKIgbIZw', 'DLNnog5BlQNqIa0_8BtiEw', 'HWFK0AyhbSdm-VdY-BPQ5A', 'ac92cZ7oGB36Am2NfAZ_2A', 'yniKbqoXucqXLYP2vVBIQg', '1YVcGKgykuzJChVkyX_mMA', '3mjgTu-kUPWzmdxRv1iBgA', 'Ara9kbHnH_kiwWf03Nr-dA', 'sji8jLenoIwDOoJHKCyT4A', 'Owedp2TQYuxKN7WHi-On3Q', 'NvxenkFWUYrx9GmEUZfiTQ', 'eHGkN3ysA87AZ12SjoJ4Dg', '22xWQ1n_PXyNSQmxQPDESA', 'ql9Q3KHiOLYrEOL41ZfdEg', 'ovLreuIAkOLWmfN3m_19tQ', 'XYlHjVGWsi9HEV1RG41rHg', 'fdyPdVh7dM_p_mefPK75Lg', 'Z1e5Lbn9mAPHpe_nbGLM_A', 'usZIWjYjtX_PqpLtYuMUOw', 'V_gxW1HMtoNwe7b_4FYgmg', '0qc-wrjLnHyhPyGeg3UeTg', 'ZBGn6HBOrwYCtNd9PqUzQA', 'atRtZMOWUnqGgI2CLa8czw', 'cWblo4j3bc-3swI5QjiIVw', 'WtVfkkFv1e3ftCVnQ_D6gw', 'LtLNncpj8vRf4SttV3mR4Q', 'AA1esucMuhE4MPtTe8kHtg', 'EKFKIDnpUquZlqoNYAxJPA', 'XQhv6xymLpa1jLNnMiTkcw', 'MaTqCa_6OhxLw1Mawkw8gg', 'Or2j2o-h8UaBeITjKxckDA', '5VAMD51lJ5YeCPjQharK5w', 'uLungMiJj3qvf1EsLXg7BA', 'OJgQH2dHPAoVvdPFrC3Bug', 'gHkKDyOLmy1yhRlzL8dXUw', 'yLesCdJeC1cr4ZE6QWyG_g', 'PKu5wIm5cNkdr8RVYIwH1Q', 'hWm6WUBniQ0_UlsabHg-Ow', 'yYcHxv9_vNylwxnNInRrDQ', 'fgq-LWWOgbyMfv1x2psrtQ', 'd9YWEKf2z_XE2G39M4y9jw', 'AfNPhu0wN0AWNQq_YyeYow', 'US9Ut7owGXnuD4KLLbuRag', 'i-3bseVyOqQ3dC2TnkkdtA', 'J1ZJ0nGpqb-FSH2o7r4zQw', '6EFgi_G-CylWGO4Ck5P3pg', 'CgsaI7_s3rRU06C86Aizsg', 'AMLThhHzXs-xvzHzny7_6A', 'pTZQRnS9CrTYeIjTfUT04w', '9yZnfw7Y5ltntaC_DUiLgw', 'YV4jqq9B28cecrklGb5Dyw', 'LSwJv6cmN0GfubAgsh0YWA', '_srGl4fbYXF52S1NL8fKHQ', 'U45MrvrOPj3PXqnRCF5_Yg', 'yoSagdkwfbE_YlM5wqdQWg', 'xevuOWXTs7OaNyHjfu-Pdw', '37Ccrd9eMgc0bxCFhbysEQ', 'fqfl7QzBdcc6HULE0fvoRw', 'jY8HFv2IbMvomO5ihhENcw', '6J5GpxW8ySU1Fbi4jjhBJQ', 'ASJZoIQd7yYKKDJBrySAqg', '3OvVqEWexyVmhYHUwgEKvg', 'ouRbtFrGgE9Gf6X-JC5a5Q', 'jjflxEt5zcOL2GMcMIWuJg', 'teZIBMvFIcSWWf1zfxLzEA', '-uJYWEQ7JrvoVLjij20srg', '7Sb41tTtjQmXTV3_SI-9DA', 'vm9UP1ER0v_1Ikmj4wSWNw', 'ygACZDobaGLTwqIW4eRBTA', 'spKhWgu2nfDeWL14MLjgLQ', '_S1K1Mpeix_pnkUEOrHbnw', '_Kf8nB0kdKJK3UPJjWcEZQ', 'OMa1lUv5Dtiooy9HZoI3AQ', 'CBFnJNydRVtknyJgs1-3RQ', 'jOB6yNvhkEkzkmbGcaVPvw', '-PalNDmCnBNO3lo-kAm-1w', '_DXQ4loEdcYF2y9tZ85fvg', 'KRPqv3GOlb7Q3wR41e5WwQ', 'snILK_rjWY2mC-AJ-w5HcA', 'c7zH7fTOo0DRome8SzyOGw', 'D0h9nqH2T1PFjdyESa_cFQ', '-vnqCCBU2v-e996dtU-KHw', '1yPfxgiNpA2EztbNrJx91Q', '2-Bo4Y0J_8HMAJtF39TP0A', 'rGm_rS59osp4yjM-35BbnA', 'vUmnDD4EiWKVmqpfAyoZ_Q', 'o4ShISq7T1ICfeaRsxVRyg', 'G6MQ8Qgylovr7euHX517LA', 'vv-cIlLQDx-qM25j-KFhhQ', 'HIDnnYVaG22Bk3gxYqv0Lw', 'fYdoC1v4EhkBeuR5DZ2h2A', 'kPL8IsaaMek_BeyL2bZZkw', 'sHzq4IYjthf_4h0v47mf-g', '-ftEUR_newxikJGj8-ga2w', '3ptB4UkjPEvP9Dn0_mKi6A', 'sqdbNk2hf6l6qDyy40kAew', 'BtNImzaVtSj2s1P3UJq5aQ', 'T5trX0BSMCFsSMJQt3RhLg', 'xFrz9P2OX9O_35TdQ6ASCw', 'xvb5eP1VZoWZHS7yro9wBg', '9tD2zSR9P5Iq2__F3FcM-Q', 'cwJXWbQF3DVeajHvmY2qXw', 'I3KhoTTyvjgSqUI-7AColw', 'oU0B5nMU0XJc6AQIz-DV1w', '-reBWpQuxw9dcIJy6V-T2Q', 'okYcdVlJvNSPwPcENLGvDg', 'n99CZPAPS_Z5J_2-KGgtgg', '9yYSxpD1S1ohOksQLRi6lA', 'OX9pUgAMYqm30ZMW-U27Rg', 'iEF6s-T2IdZbo3goGWJiJw', 'DBk7dkE1DgnaXvrj_d8wSg', 'xiL0xhBOQuee_8uUXyfsJw', 'cRQvnCPmgGJoTLTilc3Jqg', 'Ba820GHL8e62SdemNN3qHA', 'eKzUp_yBujnPzYr4bPyuPg', 'cvS2GH7gqfFb2U1kHMN36Q', 'LNb-vlkSKoGVcmHcR2nrtA', '42BbfFPeo6MaJaujWIJpDw', 'K-Yf6VVFarwivJ0CCKEFzQ', 'Mybl6fc3OmdyQhxm_rPIdw', 'gHyEbn8hBrL2oKo-QMZmug', '_jxvRUzDfJsVN8WJvKPnFg', '4y83uVxY09jDV1w-NlxI_g', 'DorAunwzkMK8LJvhWlHmeg', '4eDzwSuAi_gHSCaXyS2fkg', 'DCxwJOIgWXSPTHv8hmydEg', '_sarm2NBRtWljYEwLVlkLA', 'a-YlsTqwX5KB_etEVTkxew', 'dU7wiWoasrfG_M52yIKC0A', 'XckwOvTTnXw3MYBFfAfnlQ', 'GqddXKJZ-K6dPBl_jRiAgw', 'HYS3moEC0cA8WvHnj7_dyQ', 'SkY9JlDpSzu5UdW0utDWOg', 'D7ePe3RmMHIVGNP1sGifiw', 'IGGhDTVhP8YBMbPe93cQ3A', '490DLmGwACqw_a8b2uoP8w', 'zGvW5BhjSWYJClB59YP1jw', 'oQrkjfGDZhRtPEbpBc7FuA', 'go5Om3Xutf5WLxIPrljxxg', 'VegFSbLh2c9Lh9TCTBtrQA', 'xBMgG2QS9YKGbYDPnq3MLw', 'qvyPCdVGhxqt9rNKfJFNCg', 'L9wVxqxLkga_f6owD5PUMQ', 'cazSV2C17ANWiIIa4-0X0A', 'Hbfyj4EkWVnYWKJJL7zyIw', 'GVjmMash0QdBm0PZiG8FDg', 'eTtFR7IICPUuAakj8H1MmQ', '1N9tE5m3sfEhQIlWgPilpw', 'mlyMdLBzYF_XbSAlW7dc3g', 'WPViUILna5WLcnbWA1O-yg', 'zBc3z5Co45x-7NwPyCU9gw', '-3BkxM_g6EID8ECLWEJKPg', '2rpuW1luhhHlgkf6DSqs3g', '1zg5RaJKU8AH09sDTVOAYg', 'Z1KQa8dd7tl7NptlCfXOIA', '5rBqWm-Uc-zjPQUABTmQHA', 'pBP-NbQtvons6yx8EhGIyQ', 'dZL7UEJ6PsJRqVWtJctlGA', '0DMGlicjxBP46kvNDibpFg', 'o-UQfBY7QlQC10b3o_fM0A', 'uZzaUG7kJ40FI85Ok20E6Q', 'WS1zT-37TamfertvmPt-5w', 'dD1Y6y0eOjFw1ol79W20rw', 'p4qvpDZRazl3F0zxZ6XKrA', 'Q1HmaahT-YHNmNbe10L5Eg', 'ycggEQ8L4M1xJ7Ws_bdtTg', 'WiQBUIW7X05r4tjuXmIEfQ', '4N2jJUajtMS6q4Lgi29x_w', 'TJuJkTMCJDRc932YpG4YLw', 'qK8--EUAeDfRcEtgZW12ag', 'CtPvf6s8AcA85tv4qdodYg', '2jaN03seAKSnQPWdz1vBAQ', 'bgxzcmbqW60AGHwC3dGnPg', 'swm2-m_i4iUY27p_7DqpeA', '4B_2GEhUEzTRywlGBGo28A', '30ZUqAJlLFiz0llr9qm4kw', 'DyxfbMinM7LmJAkPahjJPg', '5RwAmMhiK1zUhsUq25Fblg', 'hziEKnXsbBeTbpmqeR3yYw', '1pvLqCg4UXBPgDJ5GIS0Ng', 'hrBH9yDvLkuMxmj26Y7HNg', '5qCL-J9VQIZwcyLmFwYNVQ', '-GIYUjlr5CmCZaXiXK27EA', 'pgd8FAqC8AiDXHyGxo1RGg', 'uLcXDhXhMEpFpeKcXYyiOQ', 'vYnEUNT2ZJ1KzcPvxgsygg', '4FTNuCv3Cd73dbz56vpfEA', 'CFKCCTkfcg_AEJxLsJwbLQ', '2nERDzo5vW-J65A8LWutOg', 'FV7i18U97M71gF7wZFJxbw', '4fDBHlvvXD9EIeSQIR9lHg', 'vNUBmxHzM97kBSRjnzM3Ow', 'ZlG6B-W4V2bXr8Qxe7I6wQ', '-ePKaz53aWEXlNnOKriybw', '58E2hwDdmEq4GX6vTcuGTA', 'BmJKtj1xa6jNf9eoQWEdHw', '0LyANxP84WqWdRnQilRIaQ', 'L8jf3wdaoGJ6z9ScYG74GA', 'iZvnGoAOwVw0SOY4cOOyBg', 'T2ogg2Q4eJOMVfii6z3r0g', 'rrUEOymYMlt3xETY9-KyWQ', 'nnvTjUMbilQIGhMAK9DnFA', 'qfMXc82zcFzh8xskgmqWRg', 'YQ4n9zoMthF93N5Sj_ZfUg', 'riDvTPZyuZDUqcQ7wd-Axg', 'ucrx78GDPDwzMZucTiHYyA', 'D15eJU5xyNBS-GnogHV_fA', 'C-d-pGLDxaqoN-1NRfFdwA', 'VXMTN6Z-H1JPaCvA83l-iA', '0hjr3qrE5A8i0XgVND27hw', 'zh_fKB0ExbV4Bnzov3s9wQ', 'lNjk8tNiNKRw_VtRaCbkUg', 'AzvnlftFm4DtZ06GdE9bHg', 'hQXkACN2x7ytkQh-AYAA6g', 'dZ4QJDX5Wigz5V0nc0lbAQ', 'QgSCxWycKXZlqpd9_Ye7OA', 'owNQHisGCHgI0umu6y0blw', 'QQQrcsYdeOipZNdNl1FuuA', 'a9tM74E0ePxlyj2YMGa7-A', 'unXD5DtPJ0JduIZyk99TfQ', 'QsmHHGen10DPA5NLIBPRVg', 'urW9o8FESlMTKHHIU7s-OQ', '71cS5kLd7AGsymM4hfMCog', 'HxTbzesul1XPI7pcrsQgQQ', 'RfYbpxLAahPIm2mToLRvqQ', 'bD9WDrmt4M2T8BqzG7t4vw', 'cbuU15gZDB8T9u5joMW5BA', 'ObYsXqurXUfhZrOlCGqB3A', 'oOqTyNPbVEGjIdr7a22lfA', 'Z3OAWG5EyYbDgIKmiCV_MQ', '76p1dZLVLwWEKVuP9VhVLg', 'zJ6K8Otf8eWcjDXg2F-tOg', '2uVX4E9hY7wQ20F6BhK7_Q', '0oM5r4OI7cplTSaSCzTmNw', 'eujQtaqxe-ELvsdH4ghgYQ', 'J6wG5ZMwPhVNGcp-5Ry01Q', 'tAYLoyQSo9NVu91FTcK8Tg', '6JYaVOIl1qvrdwIQBViH1Q', 'WtyE9GudKDrfSQBHSsI_rA', 'VF1SW9Fx5q3xrAthz0Pl8Q', 'FiJmsepQTI_SmHiUD3CCYA', 'wJs8fwPSQ0rDcBeAu90Vyw', 'ocmW2d6oXycOkJwoG2cX8g', 'uRyWHMOqCzimW7dFR636Rg', '74YyTlxycDeN9K5QrFA0ZA', 'fh-wpJ2UA9NSYsWZFucN5w', '856iFZDqNIIQpGzSH_pbXg', 'XSdGflVMWbN_TN2grPRGcg', 'OhIK5wxY6psCWugrv9HnJQ', 'ybtsnPo5-mUTJcrge9RzkA', 'oT5SDG3DQo229Xd3wvPwBg', 'py_OOcfjAtfkeSKBpqzulw', 'xeT-PxnN9CCvJW0HVF7ISQ', 'o1DRYYi9yHUzZcwCktBx5A', 'IEV5kcQYvmotmDyGT0K-sQ', 'rvWkpD6L0OCoS9bCyqQfZA', 'rZpDjofRi0KXPbgbW5jMDg', 'WGPoFw_y7jd9q71E4yDNEw', 'VlK1So5J-Ubis1ecNvaToQ', 'av7_34ZgoBj5O6BgJIsJtQ', '4Wx2a-3rA8X_lAzMtSND4Q', 'ZUk22OpqHN6_O0AGcKIcVQ', 'RJCzOIvjW2RqJvYWqXPcNQ', 'Flag4hnw3CiTiGOIK02NsQ', 'FnpjjHaSydCoMlhdWzPtKw', 'TPdP24SjQ4UqG7y1lK7xuw', 'NO2l9GEyec-cQG6EujBJeA', 'Cy69EKbywmnNCQmGvy6p7A', '1Oj-Eoj2tkxrhTfGBxx54g', '_IocWNXbsZIfd02pzmPxqw', 'SY5Dgk-xIzM94ECMKxxCSA', 'fnpM_QvtxiKID8twzCPfaQ', 'W5vhm6ebIJBs3wo29x4O2Q', '6ppz6NzOyaWEd9mjLINV4g', '3Uvp8tgBKImIkC2vvGdDyA', 'XyvZzW8ya0elXH7TtnXF4A', 'aPGE-uZ6eEl6uKnIVLkLZw', 'i-Q9ifH79ZLWloxBe0dGeQ', 'Vv7A_DNZe2d81tQWmDVtOg', 'LE1ALRC7yrE5iZsj1IDJKQ', 'Lx4jJWowI0K49ZtRAlxPHQ', 'lbXpD4dM5G21YOIMJQQ1AQ', '856OzVx-WdhQOgY3wNcYfA', 'zEjK8W9Hj4saqoO8tUsN4Q', 'PNdMImcTdPY5cl-kiwWwXg', 'sYaM6tO9AZVYI-6S4plrUw', 'vm1chxFrIOM77vrADyFnog', 'o1EeIA73ArdFcJQQKbplgw', 'FXqL-WMVH1Y8zQELw8VAKQ', '_PHj2K1YJGiuQbq-9F7l5A', 'hMv9FQlHJE-4HXh3x-vYeQ', 'FpkA3YpoJAJW2UPdHovpnA', 'EhYHAKO1DoeaKOjBSQl-2g', 'Spiq94aTD7Qs3hDW2XhLqQ', 'yd0xyYYnz2NwRZriUmmFaw', 'ykL0r6UAOrPYL1UWhE9rgg', 'wiw0-IEcrk3GU6KNDm5Rhg', 'hGX2Nj1POckwrFXR6oGJ9g', 'bQj7vQ5AQ6ozfm2_Nt9fKA', '1Oz0TKtfAzuAkqCgFEGA1Q', 'EmlOrf9M6FOmt_bIxsdUnA', 'BW_3cMKcr_NxtV3oXOJTkA', 'CtUdeSHzkx1U0ZUs8aWlBg', 'Ad_OLZj0gGvozBLCaD6yGw', 'NzgoM0DjPrUOWH-J_V6Mxw', 'wZ8QyQcRJO_U1dSckJR1uQ', 'TnpL7avVUY9lavfUEz4Llw', 't72jO4nxTuensp837d6-LQ', '5MaecWEa-ycBIq9mxZ7C5w', 'UOTwywSPzPTyJhQVvitkag', 'Us2FQHkh45nVj1yW0ZjEYw', '1W193IDdolsGGST_rN7Jtw', 'JboMn8998EZcdOOh28GWqg', '3NqjSpMSITGhrkHPREmIrg', '8IXZUm9kk4bpvDXQJxnQlA', 'VUelCbRFZBMwBoQvlKpO5g', '5DE0Hm9wk6OHYir_izXh6Q', 'a1OTcI7eLGnWCis8fUZFwQ', '5loNMf1xX4dl-hIf6I1Kcg', 'xUZw25xGlSaDX9mVLIpMfA', 'rpwXCF4jL4hK62Mewh9-Ug', 'tcFeDbr_rkAy6y24XONhlg', '1aqYUCprrqvaLPcTYq9x6w', '0VxCwlAYsRogAYX2mjZTzg', 'OoYNtCnAeeLQFAofSVnx3w', 'TlszJMCguwhOa1J8-8LLhw', 'zSUdfaGQ9oZc5mDnMcfE1Q', '21GLthIrE0UcbaZWOOvnbw', 'iqX0iQ60x5tqwwuLlg1roQ', 'AxTnToc7h2C0HPVOZtBT9w', 'PKv70dBrRyKDaEGqUOQtQg', '7nIb0wntuGos9Q3eDiHjdw', 'Cp2N0PpODt2XqlF1RTgFOg', 'Aps5H0P0nXrd8GDKdYg11A', 's9XNVPdECynNB5f296w-lA', 'R3Wvf3qCio1FvQU7CY7fkA', 'vMMLzmFDYUkSjRDmEYI4yA', 'wkHCtsvxQJLq69nfNbWVnQ', 'rlq__AC1UO7uMjtZBN_63g', 'fm4IuIQh5LetSyRE8giasw', 'MG8UcG-RG1PY6idrurcyuA', '8PZP_j0u5TU_a7nB-SrAWQ', 'yW0AS0ifWmMhR63KboOsKQ', 'oooLkjp3Eqo4RcuxhhGiPw', '6cJaBzg-rljnBMSJhW92NA', 'f0wXKGWHulh64M3IdDEPsg', 'Cis38gRKQcIduQ4ccRjHCA', 'ROJItJWB-UfGErZtnYY8FA', 'CbuO4E7znZz-LDZDpI2RuQ', 'Byhef2--ZA2PU9r1kqRCtg', 'IaWsQB-Ed65-Fx-KXiaxLg', 'wyxvWuVbG-WRGs7qV-Jcxw', 'vPbb-tv_LJBtePfFJXFOOg', 'IIrIDBa9AoZwo7bsWy889A', 'y5Yp-NTx4-GDo8Vtwtpd-g', 'DGPCJfq9nUtYYGj-Np1jpw', 'S5PyYk3JHrH2i_aVIgUghA', 'f3z5_vMugqyv8JG2lhC0aw', 'bV4rErC0MFzTPIwPA-Whng', 'KCEmu-cVqsRLqj7sB61VUA', 'BwlW0aSZVwXVmZBt4Xy6Jw', 'mLsUDsF3SuC0wuZmIOjG_g', '9O0Ey_XWx2LqjKjv5wvnwA', 'BKhTmYO5KI8GNboy-K7htw', 'ScT6yETrts9jh7oAMlg8xg', 'c5vxKWjmADfufJkaWrOw1w', 'WnwzuZyc7xxRUpjJFL6E3g', 'btVmKLbbaq5bKAF4Qvs5lw', 'IvD8ViKMCfuCbvyffRw-fQ', 'r_w3sS2FWD34SAQF7HFYag', 'fTIeyfdeznVEjFGvf4dZhg', 'JVeVvHu7MNSR2uJdVa0zDw', '-nXqtjhyYbyIwJW99KG0TQ', 'yBqzUsqhwm-4byo6oDHtHA', 'Som5hN8DSyDvOoXGnaAsig', 'E_mfp2qv6jklYPG_KxTb-w', 'oMCmTfR-tFdcPp8IzTH8tA', 'jQjnindg3uKEEHnx0-Wh9Q', '65Riupxl2M_JFnewKkkRjQ', 'rw5uZkyyWW4E5lzCZ-Gnvg', 'clEfM2DKUzZ9K6Ijoe58hw', 'YYIlgzs0SQ4J8IbRcqsMaA', 'GY6mVs_qiZLyxpikoAr5RA', 'qxMVg2KFDdGPNEuYTaZdvQ', 'JcJ-ZYIdOYIERH41-rLppg', 'NruqPzixxyLILSlTKls6gg', '-DwULbTje0JK7GC6wbXn_Q', 'ubydtqjZbx7ncFvvdplAmQ', '4bS8KOSR_0DE2I5ujFBj8g', '_hTsDVmBqGjLObmWcP0P9w', 'pXHL8F2ztf4OG5Ic_hY0eA', 'qtRYpTVOf7Ww6CxUux51OQ', 'B03FOtySxLrZL2VVbuHkXQ', '4wbsvHWtUIxCLoblM9jqiw', 'iVedVBvpN1JPATKO-5flWg', 'JdclEJQ3jMOYqCV8pqxZXw', 'ZvVGiRE0mnY3jt4IM32RkA', 'ITHs2km2UvvsDlJVFmnsgA', 'ExGzf9rB3WN4hNqffWy7pQ', 'mcoxaOkEx6P04P5bxYQNHw', '75sOkS_Ln2cjZrDFeTLqYA', '3N80fhUnDPCxIL49AnAAcg', 'ySo_bLRnoKtGlLZ56nUr9A', 'jghaWGfzlQBg0UoTGlRkoA', 'YqpVDIlCYGzOaUN1c9RKhw', 'L9tVJ05rMCBzzZbeShJ-Pg', 'V46OwHpqy5atmRFlrQAmUQ', 'Mf5FVjfndL_qb2hd27GVCQ', 'VCTSUugb6EVobL0FTnRX-w', 'xyYs0K6ORNDgGMD3ee_niA', 'Nroz-phrBw1-TjaWIRBbMA', 'X9hJkd_Kh5fyRVGvC2PH9g', 'NJrk6sV2ucBvzXCiifqPIA', 'yKUHPCDdn_0DG01xJgM3pg', 'MyTgKCRBMmoSAw1U5lGCVQ', 'bfQMTPaQ16gdDHxXU8oHwQ', 'WR9Pel6nCQaeoRFZFzjwBw', 'F_U7RNSPVgyUsrUlewbVwg', 'jKfZbIblk4kgg8-6fPrl4g', 'XGCgjQcNkCqZ2qxd7zumZQ', 'WVkGB6JhFK6CMew5hktChQ', 'qbxJR2EB5JpjKXE3_pexGQ', 'hYNa8y5wjz02eWJPUrpIkw', 'YJOZl12xuBoh7iIOwhj2cg', '9bfPazKboz5xjEavyUmYpw', 'fhg4kHGr5ZdiJ_3aZesMcQ', 'EA5o93Hliz64-Y5NezSkRA', 'lQW3vBGBeIgSmP3-kkML3w', 'NNd6c19eHf8KxxcjsDRASw', 'vegPkQSffGyuVqwoHC2KOQ', 'JT7IuagTwpcRDvzozjwbbA', 'ftyLrzgfrPEcfFFXwev2xQ', '7I0hVog3tbe1ngHLajEPaw', 'mIKvA4hWyzNiqjLoDeKQHQ', '8Vm_lhvnLzVteMzOQgamog', 'pdO1cd8MlPRAkgHHAONTKA', 'AC__ZVkaewGfvugJwx8PLw', 'iuUBQTN7i9nJxQj-snbHqg', 'EXQPwEiazhhUsGGGPfIJ8A', 'KoDgRTWVOQDe67mndBs6oQ', 'jqRXH38PtAWvHI87OgbhZw', 'dll2K0UG1PHMIjvvXTRLZw', 'RK5oOKZ6okKzux5X5njV0Q', '8nQFyeJUHx4oaKfeucjO2A', '0_Atf_hM1sT9AaV0MQZrGg', 'oOtK9Pq-xrlipq2bHRIE0Q', 'kf9Oenh99wJknkP8GvHYJg', '_wlNIcj5Ot2hZi2TI5AlYg', 'nXJ38hcPAAxI_CFvkVz4ww', 'oaVWHee4Hz4AFV2r9r3vzQ', 'R_5O0h6Nozw-bnse2KEQ3Q', 'JJT68nKqxs3RrF_wrLAlJQ', '9wdv3nHUjRzRIZDGjaLX1w', 'TK1dC1e8QqVWi4kkiLkj-A', '-mJwet3VyMPazVuVUPIS3w', 'POSgH5MrDTb_ieZi_Pk97g', 'IvHK98m3JsZqToN9B1BI4w', 'Mka1aYv6ywtMztS2CHI-5w', 'f-3a2hJ7qHJGsLXNjAdybw', '7gC7BgwM40XxL0UQtj9J5g', '_wR9CtA99xps1ZDFGqFp8g', 'z1xJBY_8cz4ahA6RabFg2A', 'FxYu2oqR5CNF167LYL2aoQ', '3fxuTgC2LyOyoIQ14uG9Bw', 'gw8HueHVGZBK9FODmsmWrw', 'RY_nSna0muttMf_nwZEA4g', 'Hsli17soQlrQpSJhf3mDwg', 'xfoNj0HzkW_ENDhRDKtz2g', 'NXg_g1NCV_Cmk6awqhzXxQ', '4rYv6Y4N3peku9ACNCfYfg', 'xnLVmkaToBTHgHErO-B6fw', '83jq81UTt8a9jkv6FwfLsA', 'cgzDwoHO1uGYMqA_N8qfEQ', 'fV_TXshTmf7rtvXS6osnYw', 'JCSNHwk9Ul46WFua0J15lA', '2FhJoVx2h-lm7iGcNNcueA', 'RkTekz4EieZpO7qB7_QSeg', 'tbL47vaYLhI2NhpZspeRaQ', 'hieLuVgf7cNwZG-MVJo4DA', 'x-dPmrZVw93KBoMbOGN3LA', 'AqgUEoUl6pl8V3M5STAMVA', 'DHgvCyXAh4fpYhb8erCgLw', '-oy839PvhnZSUjpgVOOQIw', '070iQvcGfVkfv2qFr_dJ1Q', 'g_JmW5q9dnlCO6VT_ef2Jw', '_znUb8lBp7FAsXLoKq0OYw', 'RQ0-hpOj1Tc76ZqAcrTCVA', 'Ttg3lDNjLLfvkWzK2GuwCA', 'HwSdVlEjKCg2hprqTT7mrw', 's1febwy4AVpv6_V2DrCkUA', 'V8L7TmYApW4Qt_tUqfn2jg', 'WMdeeCLu1hC0AcMrYIgK-A', 'j5dQk3HKi1POZc6ukcjORw', 'A5lgu2T-NS-UJbk28HLbWw', '-yP2FI5p9R4XvaB9iImQZQ', '7x-rAldlqUvbXxKEAOojPQ', 'g9wYLEc7Fcf5_mqc90uj2w', 'n_B5v3duqokTTyuGFgNiDA', 'rTmsrNRaRBNhCPC2Mxng4Q', 'jKjsaKBJ6kYfBi6DDra2Cw', 'tA4JNulwMiDRtpJxcJyndg', 'N6BWQ4QNt4LubfdWYqUg_Q', 'JrpmuSbvJ9ZarXVsaKaFIA', 'PpUmdzoAJnvXhwYuLtKfGA', 'gOeNtOVxGv3N1PMAUXhZgw', 'ME4oyABN8Xo6yNw3VlsXaQ', 'JbMjz1GT5PJJCnlNuhPaNw', '3FiuN9Byq8khYCbBEVYU9A', '_1fKJ20KVgdyimohft94Yw', 'kV9xPkKNV6k2dU8MjZmz4w', '_jHIvpak46QP3NlefYEqiQ', 'J4LQB413uwLcWZoapwprfA', 'bN_Kvi9_zc3ym15YOLGA2g', 'fF1ho0At17lbVaas9jzfxA', 'mQsQSmiwFZGXkRYVY-a5xQ', 'NaTfux9EEGYKTe-hK_BjSQ', 'ZWg-4tG-Tv4F2qrEYu1rrA', 'Px5UShscj6VrD1DyaHYUUQ', 'ZLWfJiQHKA7BjYMjkLcAcQ', '9K52KLdJ5sPvv0w_ZBCheA', 'N4bTQQer5C_EEJGhIsT08g', 'b9bUavV_QeBp2ifHaI_LVA', 'zQ_13TEuJpOT19LSoXPYYA', 'aPtgYWTjBVm1T_zGxPpQDA', '7amZn1qsWJ8wVuxAbZckZg', 'CK-aWboKeVtV5Y_QM9VN-w', '2kQuGN379kMVxvx63m9d6g', 'PiH3EHXflRujf9tvbP7ITg', 'k5XXTDV_5twHxVSpZYqpEA', 'wo1dU7PqAlc2R3LRwZAKKQ', 'kaonRir7whW_3LoH55L4zg', '0c1vOZ-_trV8ksVDRf8vfQ', 'EbCnkgISbX9Rpg0X5XmidQ', 'OSa4kLxJcT05AuEde3nhRg', 'Muxs8fQ3b9SDkTE6IJyUag', 'aMgpxGmoBNrUU__v4uAUTw', 'hJCDdKV4o2uCpMQGgIgQDA', 'veuruOKTFfkDC7BtTYEn5Q', 'd7bLvuzo2AYOqbiM_ihQTw', 'SBnKuWIUjAvWKI5dwZztYA', 'fvRyVp_Ed2_1kHZKTvIc3w', 'xuyW90lrif2o8-jDWbgRRQ', 'FxkocsXTU6OUW-fSQG8MwQ', 's5XeMqtlCKfBWBQr81ZYJg', 'TRoGFfbcu0SVuTCMVMk8QA', 'ydnsOMx4cRyPfJnvijL8iw', 'L9Qf3QJlaf8CB05z9yiBQA', 'C1S9OsobDZK6FAHDHuwvgQ', 'AyPMhi2tijYiv92aOk2CNw', 'hfkxhtZjRDUOEYQb4Gk3tA', 'DqP0zugBjgVSmWs6VaU4Bg', 'ssd6sL2vKEHoZbY06dIkLw', 'rhKA3TBTUDwp4WBLZJ4-RA', '0rscMHdaK3tUO08RxX_h-Q', 'B1EIE5pzw5BGspZV3wTGqg', 'b0EZ1ixIAErAxs7X4M0y1w', 'xaZlt8rJanu8DcY9hNrP9g', 'vp5HXHpxOqjd3Ht60zefuw', 't4CuTdAPSKb4LhBygbBQzw', 'sBuEclrZxR4uzS_88bFBAA', 'U79vnNrL9Dh7YgaslTTlYA', 'pc-3CAPuX-blqQVKKNznSA', 'jvOCJhOtyt2azFkZNdvDdg', '-5IILOdL2rQfaV33RC_ykQ', 'FxnmWAc35wB_cLaNFfOSUA', 'F-hQJNCkll9Hxbg3iq067g', 'uKBLsR2IBBDJk8WTdGxs3g', 'cwuzp7DOhL6uh70FN0iJAA', 'ywpGbEONgzLNHb-8agKiEg', 'HUBK8iIQ4ZTVX2wxn5TLZw', 'BC4jTHsVaYckkG9Cual5Yw', 'l9Fel8zUjNxM156aectehA', 'v6KQHwDZYI1wv1-cQCk1bg', 'oItjNMyCxb56omSlrMQwCQ', 'hinNoK2t9WiL1nIkag0rBQ', 'KvNhWk2RaXM3d1WSPbfrAg', 'STr_vAqgHum7LK4z2do4QA', 'qYVeXvnK86OwLvHXkNqBFQ', 'jgcD3XIGfKGjjMOz26m3gQ', '63kXQqHcFY-UHi5XooMRnA', '-t5OT-YlxIOyfaAYLPfnsw', '_5xwGrD5-GzHXHL27jV8gw', 'C5T-u4-MqOyKZeLDliY2Vw', 'oOWHGe6wqzanvOBpSNRhcg', '79YxuHAonx9faSmJDYZgSQ', 'X6Bo_Iv2dO1r14Y-aUh2iA', 'H_3RcHGMTIhXHr8XShQ7XA', 'ERA5AVZcRHbbTPc12wAp4w', 'NmnlP0j5CpG3SwXw62kI9Q', 'NX_VKASsU59RXiPOUio0Lw', 'yjJ2pCqCLcRBihrLPJjGMg', 'CYSlhpN49ceZxmUnKl1XyA', 'H6FQPgHXsaFvOFZsVfQbwQ', 'PQaM9MCVYfy5G-BItywltA', 'QUhYu3dCsDT4wYFV5ZFtrg', 'vAphHKmV4RKB_fJIOzlk7A', 'mPbDjyOPJckQrsx5uV_UOg', 'sgZ6gl0a6MxaaqXXLzBh1g', '-QiVg6NTfN21sXdQ_F_2og', 'VUA62n7KtayIaloGmuSchA', 'kOQX3tiH-d-Dg15RXbOgvw', 'YaMxb1dfWBsx9Bd9QMy47g', 'lWwKfmS2x5tzoLK8UezeFQ', '5f1QyJDx0vh6fCUuRFuEjQ', 'qZuKhlZKDGEDHNzZoTYsdA', 'i62ZC0jeU4tl7bF7bfsJHQ', 'y1Q-adoo51YionMLQIovWw', 'b39I27RaL2MPM8i4Asl8Ew', 'Bu9AsSeUWaJHv3MGHeMVZw', 'eGAaQ6EaudCzIP1JSDpHEg', 'pqhuyxqs7rie40y9yn_BCQ', 'RRAqCmX-Qp_LIgfBvxBBRA', 'fm1rDWdKcsfBb4g3QDKLzg', 'cnDF3wX0lzCA2jxzUWfd8w', 'KLy_ern0IAIMlEBe_X4nxw', 'arQXyskcz80UNekHUIm6vw', '_HVzAzWx5kDmJlxl5UpTEw', '_rTosmWSa7BOqPnT_2gxaQ', 'X0N7VcjFt-TC3VCe0X7txA', 'wXmYFdHE-6FvERVcY5vT3g', 'lOg1JsG1LPQbCeU1VMOw0A', 'QMhK5VLnpaszbKoOYW2uxQ', 'RmIgzMB-DR1XFoU4j5jL6A', 'u_7WS5HNrexty2M1jffdVw', '58TtCAPGc5dOJQGi9N2Omg', '4SiPUpXuT58Mm8W71CFR0w', 'rq_umVVW8i0EZdCxwP4MJA', '02b1Ky_xgoD-1xfPu7zF3A', 'mzMUgeaKHif8cRdjyD0bjg', 'YCLyfJ_TP4xrZPAKsXIE8w', 'H1mDrNU7keRBeEC89EEfNA', 'tP_xu7o1jikbbDxMI8pJLg', 'f8PHyknyyHzLaHERoZqdGg', 'cVGts8YTZ-g0nwaQT6UNyA', '9MEF-KnqSRHoTPTItlXwEg', 'DXHC2RIO3IZssxxhk_k9XQ', 'K_S0vhpNjjRUyXYaN08ZCw', '13cBuaGKKZmu5eJLSbR6sA', 'tNMiVhvyj5yG5kzCD2lc2w', 'N8i3K8uRiHjeUrLCkA7Ixw', 'K3srY__fIm15ydHD7otX6Q', 'ZuiT89DoMS4Idxxkdl6UEQ', 'Mf5MopDA1Djx3vPUgcA9pg', 'fQFcLMR0yjXR8MsEeBlH3A', 'JPlxKVTQuVnYLVBTA9-11Q', 'ZNNHcqY2B5AgUB945k3CRQ', 'N2cBzlVPAD-DbFTQ1oX7oQ', 'vwbWXnUNJnIdQItIRPKaZQ', 'Gj5tEALZ6zbgOF0omQQzdA', 'C8cnPiKOJSSLC92WxBUI2A', 'VJaKn8PgfPS47LZ4vHpiKA', 'pyc5Snsq_rBiFbdgn2qbpA', 'oN4_oQJVS8HgnHz-u7Sjtg', 'KE2UpRcMbTBo9X_R7GNVzQ', '0-o7598KclfjtgKEGneU2Q', 'bPL8tFkHJVhlv7AW5KG6WA', 'dPiPwyPDvwlx7SDv90w8FA', 'bM1G6ZEnuc_KPUNgiVPU3Q', 'UTQkPFyuSXyMwV1egvhTeg', '1onuNBJkDKANHKVSaHpMjw', 'YRINl7YxLg0ixq6_nLYYjA', 'cp64hQ60h8OG8YFP-cXEQQ', 'N3ljMYdABPgq5X6yeZkTpg', 'RrR2P-3A-CwuUfeiRAn3-Q', 'nUcJNd6G3SHZ3A2yCcGoJA', 'Bib5t1fFnfue8vmszP93TA', 'Xw1R9hxocDOHGX1w073eWQ', 'HOq9FZndEzA4Q1viTwjvrA', '0VzfCEfO6hgzLW6LGGTbDA', 'Jg2aJwEjW2_wevWoGPxzbg', 'Y7BgLQEGLToVALSI8NQ0KA', 'DVt99As5YrmLqQoN6uAeTA', 'nFbKzAE8g2IJNdmzKxyQxA', 'vSbJ5JLuaLjUVG22aQna_Q', '-EmKa3uHlMGFXDl2o4-sww', 'uqoki1QBntjmOT5E4DY16w', 'HBRraXOhzSUkk11aJTocSw', '1vhZ_xpoyP0NQBSbaUB8ZQ', 'Wt6Y817QRm84Ppy8QhhSng', '_zXGP2469ghrL6qhhX5w5Q', 'q0r8Mo_6XAcZnQYMlBVVzw', 'mG4bg1grvhklj3F-RCa_1w', 'OoXDDKTWs737Y3HXy3TlHA', 'Ui4V5GW_HJstgO0Ck55Q3g', '-bdEnoXT46buQ8ntX6t5bg', 'QWhjKEg0-5eCZANIlWcUgA', 'xp_Coy7GZMNiVBZyLgM8Cg', 'ZasTCO2Z60cGrxhqLt8fcg', '_LwJhGch0WhIhS4goRxayw', 'XgWlamZQ68Ves2cUHyPRZQ', 'LGsxuEHJLzmi50k2XGpokA', '4AGq-1MAxvZMj1Q1pYIdIw', 'bUBeVevgBIfUzSp5ZltlFw', 'iO_UhJVZ-UYTxO-l6v1GlQ', 'CHo4jhi3HrkP0oqT2IF6bg', '4Z4CAQ3jY6Jvvy-YISf8Fw', '7NjxCmFttMmb73haYqEa0A', 'QMqF1I2PAGtSCMHl1PyOuw', 'yE8IzVpjN5wxkplyNgTiog', '-OlUhviY-M3olgxaUp8qMQ', 'WSMYbBQDXcvlYNvfmct24A', 'hiTAvuvBB97yLIqE9vVdNg', 'pcNlw_pRGi0YTZxvzq9rTg', 'jVsBStKuyXIrxF1ivodw6g', 'GjsTj_63Ay4_WTg1H0R1yA', 'M9Ouxc6TuXr-LG-a1nHsDQ', 'aAh5RRoFU7TeHvAX6ECx4g', 'eW6Ps0c4R6CLR5LwZn7jog', 'nesuD6V6XW8oO2tXdNeWiA', 'zst1_yr4z8XeV9ZR6O7l5Q', 'qIfoZ7C-uCxDdfBvQBzejQ', 'wpFiCscWrY8hYNZW_ulFpA', 'xsHf7-WBkiGIyVS5xn1C-A', 'BjSEbg11jMitZUPNJSpVRg', 'D04OU0p3nXFLjdvT2UUU3g', 'vmqnUUDDUhwhTAgLkz0ONA', 'KWw6LFnMF2ZRhFIi4eB-eQ', 'jTc7IinplzuOccwF3i6WIQ', 'yOJHOvRtmDL7YpkYljffdg', 'LLUCS8a0WDsW74cwE9GgZw', 'FblmA503vGhKMfbvmusIjg', 'htn4XRQ4o00J65qjTKZZ7A', 'DT_o-On5g43GU4AcbGCaUw', '_m1kZxcvPSDHZ-zd5pfL-A', 'mUlAEtdI2GBau51vM4gweQ', 'oLMNkwQCqifbmMf2IJ2bow', 'kFXyaVYFaiX5vgA7mM7eqg', 'WilYBN1Oeob9p7C7idoR_w', '5DuNUIq52rHG73b1xqagKA', 'T_FXIRHKYE1_0h2cYW_b4Q', 'fO8tmyx9oMgiGJgJ3ciyfA', 'M1YP4EgSMB6xP_STbIptVA', '1N18ahqQLvUcd4aPwbJ3CA', 'fqDVAQadMSLI9I3wI3V3Tw', 'Ua_d-oS9Snh9AF7xYfeAow', 'PPdz_AqEUo11-eb3Pi4QUQ', 'iDMUOtGumL0Ree71TfZpNA', '84B7ZqgyGhwFzRngR6eu-A', 'VWYifBVioWV6hnGUbW1KvQ', 'VjYa7uOV7I8zK5HRUi3J6w', 'y9ouG7YhWsrPeCUsMBwgng', '05GHxlpcvYX71f_tSYV-5g', 'PrQIIWgW59f-AHqBzndpow', '_gWbsSuqOXQrHWDn1ZldqA', '8nrH9ZEHvf1m8fYIE24cyw', '3zxOlHT6letN-KljxfQw2g', 'R7cbQGZuAxjgQoVNGClz5w', 'tv3Et34OyBawBTcBN4j7Tg', 'WCmWjLHvgcqJkxRadh33oQ', 'W_7xNizBA1KXQnPq2kmVqg', 'kWE3SQB1feIWadxnb2zukg', 'roDVymnJyYKAjDLTTASPFQ', 'pnbs4xGCle-Cj5Nzgyyzdw', 'lm-slWEm8tstVKkm5_NutA', 'dskUJxraN_Y73E_zu-ZTFw', 'q_05uHxhlE4uF1RzbgZ5Qw', 'sJ_6vzFDx_u9WxRakQhVdQ', 'dOBvvD9d26iCC7-47LlTpA', 'tfh-PA94Lp00Kd2gVhrX3w', 'kIkFn4b1RpvL7hN6lOcw7A', 'E_tK5XDWTvlsgCZZklNPSQ', 'xSWVlSu7TVvWs9wcZxA6QA', 'Z7E_-Sx4kJl8PARFODdHuQ', 'Lq0gcYwjckiyb59ztb-9iw', '4nLszYny1aK5Xk23AHzcUA', 'DpGFEfxdG762wg7WIiEffQ', '6EzKYeBv2RRWSLkuApOR-A', 'XO_cLZjL0v9GMymVuH9QKg', '-8ghyKCdKpAWJtLL8LRiyQ', 'z5vGSHnaB7JGO6jBITRQRQ', 'LKj5AD8NQFw40iBiCWDnWg', '1Rv4s3oFCZC3qI7czNjWmA', 'm7YUlf08zDHAhz8Msoaw6Q', 'FC2opiY5PgeYlVXxCILnLQ', 'zZ2J_NcJkKt4yzQZVpMEnw', 'z4FlRasTIejS9ucGPgu4cQ', 'jHIexmH9lLkk93o7aNvhwQ', 'w69Ii-wgT9RwzD0wSJEHAQ', '_u96oSSAZMvLNU_01Dy7bg', 'FEzFPca7s8ftZKtbywKfaw', 'lOIMPZGTZFp2bnc96nR1aA', 'y7ALXxyfBVRnQ5Z5mdV-FQ', 'Q_tQnBXSNQ15VnZrIDotqw', 'PVFBKlrAKgeMHvtjkMRQqg', 'ihZ4yKfqMz_MErFQ55RVwA', '2-J4s2kvzNGKwoL0GIZ9BA', 'CWNVm68T6rH23onridHP1Q', 'S2Nn6PvQoANSMHui8YJoZg', '7eAWvO6V3l__uAjM65qF7A', 'BfSA_JAsyOlyaoj_H-RRnA', 'p6sKKIxSl_AgMG3pvn6MdQ', 'e1m2ZZvlW4x5lJ-IFcpcXw', 'Q8wYefHlXobHEa1u-8Popw', 'ddSuWNkTkprZId2AwSuz4A', 'Kfv5X0XHghhb_31X8sBdNA', 'VKZXcfLMX_RNKAyC0fk-vQ', '2trd34N-PqYvvhNLDYmIhQ', 'hxz1ZsBx6PgRgXTCvEtR3g', '8OAa9KNAtnv1PxpY3skv6g', 'iCUWdw1cHgT6nxlIZSJlzA', 'ktogpKsJNxP5Syq7dhrmXA', 'G1YYf5pXsmZp0SAbxexw0w', 'JTXiXFZQ1X_dgHlOH4vRrw', 'iOSW3NZs_zBpRepvToCqkg', 'BC3rGUdGfjMOluvN0M1Z_A', 'GZYU2uR0eAkKXkaLpaC3tw', 'wt-6EZUaT3L_miv-o-LzXQ', '5iWyKLdxdEVLs8WZGpFuYw', 'O6ZGKBBSl93RoggRiKvqSg', '1eBoOfL2khlIfDIfawimDQ', 'fDpCa1ZiRBgU2lfEig-pIg', 'Rb_eXa8wfUp_7c-yn6t5MQ', 'gb6V1aAIxorjlnWrFEE6GQ', 'QRTssVIcFyd8v2fvXRn5fg', 'e73wmziUuSAaF3AfkasF6g', 'JwT8iDOmSLASv0x2kxsDJA', 'CC5E6l1ddMLfwYN5OHW3Uw', 'uux0Nh2fgoDTrl1OO0aAwA', 'Sw0X97JK4XQsgphEcs3V9Q', 'vLU0nzvcM4aZmBX9mje89w', 'GllCU0Qfp8bc7uv6BdG0Iw', 'hDVxQ4BofpCy5KjqsCR2kA', 'Te4IdPxTqkR6ahsH5w-X7Q', 'bJFsqPMcbXWXRq8cs8STew', 'hNh57N8WG5LDq5BbkJ8tYg', '5THXV2XWYGzRvbkFIuEGwQ', 'Nood9KtPF7TrVBCjE2VKRA', 'liz6CM762RKBX-7N9swJtg', 'QhLWrbkGQXyyhbBccH8rzQ', 'eQs6irf3XIbhDfHvx0P3WA', 'I3FVR-Os3Gjmkar_V6IlnQ', 'nG4igAsHl9Io0e1YxJdkVw', 'kh0YGM_RrqyBnmIbWTJsYA', 'XJOKiHXoM2w-4gzdfCMcnw', 'nxR8z8c-9RIvzWiO-URXMw', 'hKx0grJ77BUGqYzQ02VlrA', 'XR8YxeWMVpF1SeM1_p4zUw', 'jFD0qGYNeDE8NAgiRnp1Aw', 'YwyYPo3pF4CCvWmpufm-JA', 'fWr_YcwmvFA-M-J0wjhORw', '8SOSps6ZBNfwNeS2fEDgfA', 'z-ftfswcyAAERjoMzKFJ5A', 'sn0D5jF9z6dQFKdn2zNjyg', 'V5TzGC4CAXJKa3XauRja6w', '4SPE6VezISxvk8CaldPDyQ', 'IYcil1BluLdDEcBTssEjFw', 'Ny7zbTnG-XxwZntIRBJLww', '-iQlLJFgsJsINGC3YS-84w', 'WMjax1Ug0aj70Prpyjznbw', '3bZyUOeyKWZP0QYv_t5uFw', 'GTCl__GlqYV58qrvWqSDmg', 'gBHbUnKtTMGadXaaxOWXIw', 'aTAkqq75vCwm784zFrfU8g', '2AldoOvcOh8N-DiJnoV15A', 'yw5By0BHZJeAtdhN9XFeHg', 'PBWiHCTWLb34NTO6rOgtfQ', 'UxNzsculkfl-eao9DTZSgw', 'OsZJJITSW2jcOg2I_d1BVg', 'n6oYi3MD0ckxMi5LJ2KBXQ', 'VtiBm3b32nfQr3_Prwzqgg', 'aCZ3jHtq_BXLHn2UpyWDSw', 'BSmfIQycTTEgFxn52w9P9A', 'THv5b08qmhtmwS26tOotUw', 'xX9-hvPFc7K_UurFBygwEw', '88JMCwpT8pdMDcqoHV33mw', '_a3WEJekn06jvHUuChO6aQ', 'k0Ab3216SdFCHHbRdQkynw', 'D-EDLl9-WnhUFZkkM3uPcw', 'eveUnkcInz3x2pNpWQqKFA', 'Q5D4A-r8wK3R8GVsNXPB3A', 'ZYhvsJ9pGCvEXQ_N7espzg', 's2hv3gU--3mqARx6b3n1_g', 'k1fs8wSecZcLl6ttANWK-g', 'LJk4zjHjPCk36I3dau2-XA', '6XKkVLlCUB175nJ3BUGV1g', 'iVIJggPEqJx6ziCSGArBwQ', 'lAy9wVWBm754rkro_R4fKg', '3gcoSYICW0L1t7bJ_Dy99Q', 'dJITqI4aV4zJZH2cXlmrmA', '1apOInuTKfWm9ROk6n06Sw', 'Q0WRskOuddC0mYW2MOmstQ', 'gQippyxQyDhyNLMOjGCofg', 'BV8dd3SCw6ihbgHxDkxuJA', '3MF85LmfBZJmIW_J69l71w', 'zEzpW7B4gsgEqpvFK75fcA', '5jj_cWq6FXrxIsln-_4Jmg', 'XTr3pEFX0dvQAram0G8iQQ', 'IuDQ5zWxkTHAygKz48g7Sg', 'qfjkvP_ZneEu4cr411xRrg', 'JVSAdAO9EgPliexpm9c3mQ', 'd-5BaUxztV9rH9spFxVFPg', 'EZcTEA8Z26XWQRKPtmmCkw', 'VhGLupRB9K1HXiXHVIN5rQ', 'r4i4-yoiyK9fmliVxO7SpA', 'a60KXeNdxSGpbMchN-4kGg', 'Cuy_VS4234YTeSX491Hc_A', 'oDZ7uVpYldv7A69wy9cceQ', 'nAxb_yNZdnH4YaZ3CEGm-g', '06dVD8hQrsFR3heUr1vUJw', 's8N7W1YiRcqFra2hg_dvpA', 'GYeyKLx2cDtkA29AcLJQig', 'RjEHrIPWTxiMpoeHFg5fKw', 'It3C8jsbmgnoyXKJ7HwNOA', 'Hdiy2jP67kqh8vhBMsV0JQ', 'Zw3P27_SngxtyeZxE345-Q', 'MfXm3OCmmi9Yk1cudZxV5g', 'Hhe9qRgElpkqVQph59uh6g', 'x-iCH9MttS_Lmu7JlkWRFQ', 'Yut4pZX_C5e5BTH3sAFTUA', 'jq7nL0HGrSxmiaBWQCWjhQ', 'AHdERIEZTfKzqOBdd3cwqg', '-2Y4RMGgxzbcuKsHdoqaKQ', 'sDjsd8t6KZTp_oBXsxF65Q', 'ud0ArppWrcj_A7a7OzoOvQ', 'L5Aa7sAn1AZVcyqJYwcdMw', 'j_x2C24PgL94PaRCyJBgkw', '85RoZgvB9Ye_uvDv-laCtg', 'zUPeNnT5HyHg_KY2Dy4BIw', 'PKPI8V6jSIm9TD3sFpXqhw', 'Y30mTgjTwml5bdM5YZoy4A', '4gNwb9ZC4QAutLny5vfc5Q', 'OH2QhsG8nPkJp6YnluSaxA', 'emFV9RjBm1kNOuZeyDedKw', 'Phj-dOoJxddcR0b8rErjpw', '38uxXEDRXa7LwKWhCyP98w', 'GsPvxqN0D2-MhtuswqO7zw', 'd2zPgwR9O6a0lpg-8BMSQQ', '1fDqtkndk22P-HpQ6ih2XQ', 'YB_p6GdvIEELJmrYI2Jn7w', 'AjeLNuOxakaTncvRiz1dAw', 'H5zMoFWAs-8xVaRB06X-DQ', 'NdJLA3wFe-7BjJ9fks25Yw', 'Oc88Ytb-P4WSMngB0UW_Ew', 'QSVPrWlZYbgUJIAl8aMejw', '0Dl-rWmtjzM8bAElwFC3Gg', 'Ps4ids03JSopKLxzniOkCw', 'PrSPGwcUnFt2ZpPZZzwx1w', 'wDUbXb2hT42ljX8RAUjQFg', 'N3S-z5wUCXxw4h_29y8XjA', 'wvSUhMr_fWJy84jNzQWchQ', 'ODMZ93OnLS1KHhDMEni-Vg', 'VxSjakkkOrqglyPzCS2Hlw', '3fNFW7JgDoFi9OSGyvgdyA', '6KOrFr4xsjNqISWd_eadpg', 'N6fW8Zr2qDQtmKhHG8_RFQ', 'Y1Q75Mr53Fbs3dOfkjhTLg', 'o3ppFlKeYupsDvjHh_gLvA', 'siv0WyBcoy9qbaQMYbwJWQ', '-E7gejVx4MyWy5jdkRK-WQ', 'X_IxpUdUqXLyvPT5ILit3Q', 'ZhN2b56WY9TeqrGQ6WVb9A', '4PgzXrdV7-wyCbHpk3zUtQ', 'I-qAQ0NJ5QUu0wjOOgBY5w', 'ciKdJEyTFLEqiN-T9X-PDQ', 'drFtxjc30Run7tP0zhT-hw', 'tdBgCG_y3k4H6r2bSsCN1g', 'TdPLrvA-YvRLT3I-fXELaw', 'AZ9wl1FtY4t24tG7HAMiXw', 'PHMCJLGkVGpr70vnfodWqw', 'ruCmrM-wgn3eIYptohehgg', 'eVWiU5FDtoIz06diJOubLA', 'xT9IzByWNiE0gFNQO_ibqg', 'Zu3ueuYT0416HvWau5XJ8g', 'XnQTzkJU64x0ZDNu_bDYeg', 'SPscw47dJvslecqQuLMWaQ', 'Vqd3_W4ltL2pxBiOtlDEyg', 'OZTjESWAk0mu_OCOI7zuHg', 'mhjk4bV7SP4pFxZk1250Zg', '0qPC4_kGbJwcWC6nKxK6EQ', 'Jzyi_BUaZcU1oObBPqXJAA', 'DmIJ7f_XoACPLYwuXR7IMw', '7fuvGV0RsAgXYfGcATHl5A', 'aU45F0t1nAxtlBGMb4De-w', 'lK_XaW_Yoh-Edpd_J4t2mA', '1_Zy1vUV7bFNQw8FOy4dnA', 'oUIb34QfYj6VAsSq17X9gA', 'w10rnii7GNkQo7kifHjBEQ', '7l1jVhcZCsxjICUpEoa1Kg', 'ETkHN51iY4gmd5WhDG0QVw', 'a__Ycgh8l_Zk-H4QDiIA8g', '6ysTjxXYgHiEj9IuSVJZ2w', 'AaaG1TFouyNYGZUvlbpNzQ', 'oTJym99W2vzFjtSuycJgVg', 'DgvmXYFxMWx0mDYRHYeU6Q', 'rgzfLABjXNaN_NK_nFPXcg', 'OfOfpypi9J-27tLtYQxyRQ', 'Szsc0lF_I7VD7qSWoMuXIA', 'DCTFXWaw3bCV9Slr_nYlyA', 'AcsuSfsxbMQ75TtM1APdAw', 'ukPc8wSxmAxEui2PpB6bWg', '9a0ASmOZ4JPqkmUfHODHpQ', '6Lu4hvI-vaJyjKOPw_PPOA', 'iIvedCrsZKSZylyUF0ovUA', 'TLyczJD1-jKa27XsJwX_Dw', 'DRB_ibjlue5jnf0LqYAQDg', 'sONLDB2piZeaJbScJF0q2w', 'aeC0YdJzmQOit0c5q0ym_A', 'c8UZXsG7CiA-YLFgEX_qfA', '_J9gZ0pfE1wLatLJlypO1w', 's-bYDXNK3jD6oelOwHIEVQ', '6NYniae-NGmsb4Me94M6bw', 'd5fBDBH_EbBFrhJ-yiNmrQ', 't9Jnjkju6iIuq_95N7LwJQ', 'QeYbShravB3yBQ3FFzQjuA', 'qww35Wx5P6OxND97iodOOA', 'YGdCxTWad8AeqDHUcjeayw', '2BauxEa26mRjhtHchwaQYw', 'QzKQjnazwjxn0Rro_G0KGA', 'JzpVbwzMeRtEZ2LWboETfg', 'HBMcCP63Weq8rN01kM2FdA', 'uKHc57WW1m4fj-2fJu22qA', '9vu-7YtUQgg166Ulj2-Hug', 'cy0vv8M1OStdsdDkhYrmmQ', 'NmTJ5Z72O5hwHlo9vQK_6g', 'IvV5ptcGUSpbw8IcrCHMfw', '54qcOGR58GFG2B3UAxi9gw', 'bF68QnnLguF9Rlh-mphomw', 'OyulWq1o7NVi2REwFUJToA', '0gGAq7DEKcdNhoY1bidvEA', '_68by-21aE3RDSBNG2rQCw', 'YKjUuUa_hGMJ0TxZcAkkqA', 'FRAv-E7noAp3WpbbNoFltg', 'jgOdtTre7ie7aSFEs4tluA', 'tFqvCm73unO9j9trpcMfPQ', 'FJ-TfxJ16gcIpB2wwQiOMg', 'N0uEsCJz8AeiMisb3q5VJg', 'ERI73pTdWlpv8AD32Blxiw', 'pm88yU2Amh3-TV_uu2_pvA', 'QkiczcefVuMlgBYThHOXcw', 'Qrvm107FqMO-utrv8_s2Jg', '7ERkdMLGJsHzIRhM72-PQw', 'sn5Bv6zsbQxY0QKSM90y8w', 'nu0NKOpjrPOepnZV21H7Fw', 'hLfzGyAw6qMBqE7FTFXWCA', 'FZwvqaQoqn82uv8qdFerUA', 'BuJQZER96lwkd-y04Nlq5w', 'zOlZdJVfcZFiDA9IZrjAuA', 'XxjrqA5jrzLH0EdCKUG9Mw', 'Tzxu8fQFxfgqz1CdunCXUg', 'BIt-e3nSNs92tDpR0n7Bxg', 'f9dfVowXMFInIMGq3DAwTA', 'lohFi8JwRvUAfcTqwi597w', '02-vIdIn6dFjtMEasEV0qQ', 'F5sW7ozRrg7SvGMfuZfjdw', '7jn-9Q-qAPvepGJNWOcrLw', 'UJsWr2pneUQR0dY3ukCT3g', '3VTQmlseM0j5X1pdfpqKcw', 'dWuw3O-IkYs4qV4VKoD46Q', 'xt1iejg8f59le5fIDtyCeg', 'RTbiFwnAp3FPUi2MC6OlDA', '9f-5vAlSB8S8taUoJS3rUA', '9VXP85h4t5Z_ExcyiDmY8Q', 'GaRA1nNmbjnA_jSEwwWOLQ', 'VF0Z4dxhlPE1OikfXronTg', 'yy2HSDIYPYZAyl_yYGGJVQ', 'k6mk5KKN5QxtxY8BBMLu7A', '-VECfmIB9g5UrxmzZiyXvg', 'QQPsPCDhMUpXUnGm_fcJMw', 'DMazn2HOuHXywIuSThJtbg', 'wVqgTotmq2oVgX39CHGoLA', '-LarWAWoQbw9ZKuTqg_b7Q', 'oTCqUHuCnnaRvHYxupxk-A', 'q905zwBFo1b5_JrHGSTfSA', 'RimiXiy8nfq_IxAqj1mIcw', 'DCvH8AmuPVNq0kgNO-YIXQ', 'DDWhIDGO_NIfZrli6dpRmw', 'FWmqIeN-OE-2AtMlldCIPA', 'vsIge895Il-QGwKQfhn09A', 'JDAcAu6iIgdBdrpZYK7l1Q', '1rIIGGLI7CHcnRMgE6NY4w', 'bNl9c4mkiNHwV-vAbAopYQ', 'i8vfCVFWGCQQ0D1zGDNAzg', 'YfpA-Ftt2-la7Q1JUSo53w', 'nPN_51lcDxAN62zuX-zi0g', '0Vs6IpwojgjMbsJShhPwow', 'kECgqBIAzhLlk9bjeHerXA', '9_BslP8QhfNw0DMFkJCTpQ', 'j09_7fcNCmxGz3WhP5XGQg', 'ynf6P6wk0qVeLaEOOBfHlg', 'PsrBDnnCJCbPm5z9X-D5PQ', 'D4WTS-HxLNWg8fYhlNJ_RA', 'x7bYD2rzcnVKzIz-Ou8PxA', 'w-BC3tIrVcF7CqEYlTnQsQ', 'SeopfRH_Izqug3ByxsUarw', '7k5PzkfhjqafS9phhwr6NA', 'I9p2EIZs4lxqI0RlKGVE2w', 'HeDa6Ng7rEmXaBeLzZzQeA', 'JY0RDCQpHyMxiVxuWRiuZg', '5ujk8Nso1pxNDro8GfuRUg', 'PhWARVNsDH6wbYdfQPcMfw', '3D7x8hk6Zte0mvV7t0snKg', 'HnznSNhoq_Vz9JK4jdDV1g', 'hNav3CxiaK5BsG-uSBYRug', 'GvPskeHT4ugypZytVXzvyA', 'HfSMVLFeUpBlnYEtpmvDyA', 'p7eLGtcNXeKR7IMbxeZzFQ', 'FAFPE3g0pvfEzPmvBd9zyw', 'FNa6BU7CFIlaAJfyNkKU2g', 'Bx9l70YLwRgFYGNM9sJhCg', 'j7mvgmKmZI-q-AxP7kQlUQ', '-sHcVTlgT4pXMazU4upksA', 'in5kDueFI28UOe4wOT7_7Q', 'qV2e5842If1FHsrfVG-uCQ', '9vbISBJToSAGvbyhfUlT1g', '0LKw4QvtJ4k4tWa_jjIYAg', '1jAEAo64lG68kFHG_Yz6bQ', '3QSZJF7_vZOZpfCZUfYzXw', 'mmv6eRjw1DGviy9nCYz98w', '4Lsb2TqbisNZRR5zaB7Meg', 'rPxD3Akf6xuurGqLDxItsQ', 'Gxf-EyKhaGDicncVp1pKTQ', '62Y33buggW1FlKoB3MgwBA', '2jH9gaboJjleb69utaHOLQ', 'RAsleFWoEEhtC2PCneM6mg', 'wLuGm65oS_kYzBnpkElL8w', 'PBfI_P3JB4EflNydcv1MrA', 'FvvAGHmtvB32sLNFBuFuWg', '03zzwdofSO2ReFgJbpL5JQ', 'qxqGU14MHsG2D_vRkfIvnw', 'yBI54WUPbCExthf5NgC-Sw', '0Oqjd7bI7qaldQB-UWqdDA', 'FBwI2UE7hydOA_aEJhevQA', '4NoMOHIHRYI2P-AqKuYPhA', 'gViOogY5svqu1AzSvKJxqA', 'Nf3ifKB-5M9azoS1Z5HG9Q', 'ZiV0gfaXfr1b5TG1cfFPnw', '_GGFdhTh9GoOneJa0nMPHw', 'SFfJFGqyDo9cKrsQFuO3zQ', 'GEia1_KpHfgx96_ZwIsuNQ', '-EQTPPVuQxWMjRHutOMrAg', '5mZORjjEl0i3fF_8eoKaEg', 'chxVhDjAJdG1bS1kiEyKTA', '3tRdinbWsIurMb2IG8upPg', 'jIL4jcCJeUOJa9YUDDSxlQ', 'BmKZtOLnccydU4D3wHcaeQ', '84a1NvqAEsf4D-aC3x1wow', 'Lxrz8wWupricv02AYue71Q', 'SybuLPxT2DG5qz_jmwwPIA', 'BYJPcaKKIYMSqCmqv9ZsDg', '0bJOHnB6kOwAA8dhFK5J_g', 'bVQhyjhRqnaE863r8y6kSQ', 'r5_Tg_w08xRQWspzqUAOWg', 'E8lkIVi9WGZz8TTeUObw7A', 'wzALfawQfrKLQNxRYMGVaQ', 'kgFc_LREaknb3M4RTFqA2Q', 'BmZNiDjzQtq53W0QiMT-GQ', 'pKp4Nvw9furcMxgYOiZLYw', '8QNIE7Vw0G-SmdauZ8Yo_Q', 'fOOQLIc2ZKJAqBB6959qcA', 'Ta2TGnJMm1fxtqx_1AXBBA', '7tmd5qTlCpqfFTOYz5Kj-Q', 'M2htUAuawGoWtlk3onBCaQ', 'updY5oa5zAb0zU0VOkxNYQ', '-mX-tOBwocZ__wRtqurUIg', '0areRvr_Hj-SxrWSPpb1LA', '2GSyy4dP-8weUI7-1-c4Hw', 'Ke1tLaly_9xNqv9AVfI1zA', 'jmowV8RmbyMs12kkwOF0Sw', 'tygy_eLJCsjs3aqMOP4Y4w', 'RyOOg_XDgMVMHABzfsvB_A', 'rBcI0O7fkBZtQLtrvEJlKg', 'ME3fGS5knKLngnHLl5a1kQ', 'HUAuk_ltLRwwtXiPw-EnAw', 'iTT6i0xfh1OCtkfGEo09rw', 'Y-aPqP1SeXc6Mh1heKEXtg', '7d2rWANt19hhhr4bR4mt6w', 'lv1hbiQ5TUDtTjYZ0hk6GQ', 'VFvwvIsjUmq2NKNlFHI72g', '0Cn3mxz8Iwgl164EVvSDpw', 'st9mU-lg7Jirw9j7V_qnOQ', '5POqIrJ7N5X3pxYCwIvGqQ', 'B02x-1eoz57dTFZyk_fe_Q', 'DbAzaojtxKrZw5Pq2lK0gg', 'vjhh17MHm9DmYlj-ZGivQA', '8YG76WSyo0gD9eX2EsQqOw', '1EdP7OJvuETo3P-5fu8zEA', 'xeMJNw6H_cUBez2IV3xpkw', '6fq2-4fbn0q6vk7hV_PFXA', 'KDA-QCbVeD9MGhox3zd2GA', 'ATsz34ad87-smBHL8SOqFg', 'YF2-nXObceinva-pTLvsFQ', 'Ll9eJYQZzv6jFs-8vUliug', '_eo6tpAu6U8VbwO3hxncgw', 'wAMrLcSNM-bw_aCyi_NY-g', 'PDDPPKUmhFGjf9IbQORTBA', 'xXwv6w2kCOyYja7jqhPf4A', 'z2rIMnfKEDXuR4FMWEsM5w', 'gM1gChXW8pWIEJpc_atdNw', 'UdshSEfHnAO9Dq8DN1KT3g', 'uRp-JL8BPG0ioR7VYi1T3Q', 'AGsfLfBVraZ02QZHfOc50A', 'poPJi7HTo3iV-Iox6DQPnw', 'cToK6T2o1TIrNHWLDz1jmw', 'QaRhG3V-CUPSrst2vB-jTg', 'hREytbhY9V_PfBJ0zRf17w', 'ZlacWqzvfKaCo8ZuM3RNoQ', 'bhE2vDLhb264WdcqCcuYdg', 'jMjsFc0CmlTOUQuwV6M1ww', 'O3_OKPuxSYUuiDDK0Nwbmg', 'vNUFgBuLOmXxb86HyvmyuQ', 'x6M48_Ht5Ug71LzwL7rKfw', 'Hk_X7CBms9h7HmF0BnfSow', '01iE2Af6jyFTLUJC1v7rsg', 'SDM-E4T5AiIcqYskpZckmw', 'a7eHAIdRVJl71e8gaj8ekw', 'RRVs4VcfSfGxiZq0mnuRsA', 'SblKEknTTDtJ9ca_vrcwxw', 'VXKozIbB2b6gdF6UU9v0iQ', 'nmsLv256RABvAy_uXnG4vw', 'CdmMUVfCd_QgQMAwCmi9Kw', 'AXYk_HZjZAtrRXkOHoP03Q', 'EFwYxlLgAtORJOtjqZiUpg', 'zAEUCcL5AXQgyVwGmtOaQw', 'vp1nAKlPOsiP-B1S58efrQ', 'Ho4WtQKr2jHmQbR7kQ65VQ', 'pPmsRTQ2HhimJLTKa7GD4g', 'RJKE_9g1cbnL6RGYJscKpA', 'sbz8aXaU_jX-vW2ZMadrMg', 'yvQ7NQ4miavkW7ej9wjuwA', '1nxRvbtwcxSao2Vm-JMQ_w', 'JY_SfWd6A7BZ-LVqN6Px1w', 'YDlGN9LO_w8t17PLr4k4Yg', 'gSus0wHNMGViKHlJD294xQ', '7fwgh97mfEsWhEawPfpWxQ', 'CASpwizXDJ2nuJ3p3g1MAw', 'aC0EVb1J-7CSnOkmv3b0yA', 'h14SMu82cqI7QAkYkB3OPQ', 'g-BLHG-u-bWLqNV6waJyhw', 'HocAUZaSdU8nWAb4PCqMUw', 'ZTaTub9a_9ZrQxJVu5raXg', 'T5WWkyeMSYKiBmXGwVgb0A', 'idaPwRUtcP5CkL5LxgchvA', 'y7qRYUXU2uxXxaiSs1eWfg', '83ZSKstffN_of9h0QLk0nQ', '3VDgJ9Zr5cfOCVllJiUTCg', '8KqHEQjf38cT8MoJJsD1zw', '6JfNJCNj-fM_D_RjGJwhIw', 'YA9w6xNW0DyLmDMhgXa6_w', 'QUBxqDqdF0Bw_irsWbP0cw', 'KAzi0spEROsJR8aWKM5-Rw', 'BezWNAlVoc2FjT1fQYIJaA', 'NlIDRBgn42m40jW-F_Wy4w', '5OIysyNIAQT5dwbc0RcOng', 'jJpaSc5GyYtMCX3EWSOy0w', '4B8vw9tBer9O-4t9CuZ5MQ', 'Zbk06A8xMDdh2OqPXSPMaQ', 'aH4vYiCoKEIPMO6BCKBTSw', '0qcSj7op7htGkulHLbULvg', 'TtpHvSFKFW3ETqc7zZcwZw', 'Y3qitEPXt9F52jpUTV9R9w', 'eMiOkvneTOVOFyKmJ7b0eg', 'NQQoPz85Z2UJB6Z2oxF5sQ', 'hTGps7zgmwf9JH3O7pgEsA', 'RnWZqGL65dYUqvGrkCWXlw', 'fg5hH83Kz1V7edxdZ4v6zw', '_zBIAWWuhtydZKK005jlgw', 'D4fdhobY7uGIcblsmrV2mg', 'hezdtNR0W5qlOruTYX79qg', 'oWDSnNCu-xhP9Kzt46oA6w', '9Rxd4nL3jpmvoql3gAAcNQ', '6-w25wbAorz9sAWO4qI0tA', 'V9h8DxwGrWZ0kVG_nBNPkA', 'R-uS8ZljTV1fGvjG3h81kA', 'jmgf5cp_4za8mm6PhGaY5g', 'MuvGPCPLxIumauWhs28sxQ', '_vpqWWz26Ggh94Wy_Ve_vQ', '7Br3zEdX-EwtSnJF9M-Zjw', 'iEPPqDWxquLcazt_3f0G3w', 'V0QrLlWtkoUQKQsD4Bg2GQ', 'OMxrFlkpYt41eR4KAVaoHQ', '00g6HAGJeGB_jnpk3-co6A', 'RL0fOSOXyAFsq34GVkVCcQ', 'hxIbJx1cXjbEPArV-TpvVw', 'K8Bv_KbCSXR2-F8yfm-CHw', 'jHnhOpwVPN4OIPsAQcp55w', 'waJfVSjqShPL9Rx4bNdyCg', '9DKENaiRgHzlEj9WZVK93g', 'unPmbMKcwnBcS67a_L0yzQ', 'eNooUbSFS0_DP8G6IslVkQ', 'mpabr_30H8UMSZ8S-eEAAQ', 'gihTVrpngd3kScFZAiBZVg', 'UEaoS6QgqmqsqYII0lxiFA', 'tB2AEGTzjDyIcLtjRirm4g', 'ddScKkqlX85egRrJyZgNrg', 'Z_DC_neifVRJajZMGJg2hQ', 'a68YgwEID_ahOP9y2pSelg', 'CrRT3ynLA1DUkZ8lbV1fUA', 'K38BZcg86tZtOdm_C98pcA', 'fPCHZ3mZYm_7dymemow6dg', '9q4aji3c2NYCb1APXCE1BQ', '26_x1Y2rjgqm2MIFB18izA', 'xcgndi4FfQRq9iYcV8EevA', '5sXkCFO53kMEIR-6ShkhWA', '6Lv2dLRYoBRzKap4IYWMfw', 'HjVulHuNngXPQ7xxzpRfYg', 'bUWshYR03EoUXY4SCrq5UQ', 'DBIzpl_BRW5Ozzf5KDsTQA', 'bF3eFyIdlQjGNKIv9sLkLg', 'tXXjBBl1NbTFeZ2PedpOvA', 'K2cHhDj78NTHGJBxGWEi9g', 'x2X8KaAexztLHt8DKGhFTA', 'CtnC9XBxe843FbZPmle1Hg', 'jY4kFg2Ldq4dQISYdeIV1A', '9ai4H8Pgp-2PIA6cmw0IIw', 's-VIF9x_62GrxrVMhs3Ngg', 'EXT7YOWaoNfApEVAh27rcQ', '5Blitz4y_tJeHclmkKjemQ', 'fjUO2iuiU7DxgPpVImp4ZQ', 'SI88uk27ZtshqDnQM4syQA', '9vFUAPpzjlEKUTOiN55CkQ', 'LUkMxzKUcLrCMZzG-FVeRg', '8_g7ujHG5Wjk6ZzYWA2UFQ', 'uzrDo6zzQ3xYVvbVujrQQg', '4Mmt5ZAPOavaatDphbX9LA', '1i4nK-40Up5m6HHii83MRg', '8AgxlSuD0TKLEWD3-ROA9w', 'VqX3u7446rqhpEjjCXX97w', 'L7TeXuq5PWyQuaRanQRHsQ', 'G6F1C322qmA9y-NqPYl_mQ', '3UkWGJk9LRT3TqqxzPIyrQ', '5s-aovv3OFbTwV04hbqAMQ', 'Z2weug2ECL2jpU7k4bIGWg', '30iD7z_GN5XPDW7-ttDV3w', 'f748Q3gnSXkaHnz8iIOdjA', 'UWqcLFzhPAjzS6k5bSJfRQ', 'vUJ8feJwcB09bRUGYZ8akA', 'aBx8OmEln8OBfitGlC5siA', 'r6NaJi8r6cX8RmfZHfXB4w', 'tI_-SNn9ZdVHmmBYR30WKg', '57lDSeDzsg6Qt3WO99TZ7w', 'bIUdlKsuhsoQ8xW0IOpHYQ', 'al_3K77ZWeRTlmaEbb5gnw', 'u5QWmL7_r_SS2v0AX2ntYA', '9xswl0_sPiMOBQVQFLOVqA', 'WmduD0Rgc3f9NMhvAMWZqg', '5SS5pW_aUDUxoO_UO9s45g', 'ua9vBZXiLZdaSALSTE-anA', 'PJLPVcZrwUufIKcff8ijhQ', 'BVUiAR5VH-tO_QEnrChUbw', 'U11o_4QOrzl7DTGzuE_b2Q', 'LA9hYviWuEtoWNkw1GdncA', 'xoDWZxfAFflV4godWyAtrg', 'mk0OyaubHQ1vPqs6v7dUBg', 'VEjZP4_VReA3yD1Rpg3nNg', 'FGEGryFJJVWcn6T7AZfdkg', 'H9OADHKIqersnLZVYFqBzA', '6OEyV-QstxU7DC8LGPLKfw', 'PeOkGDeaqrAH0jO4RjyRtw', 'CFIagT2qtscl_HOcH7f0ug', 'fPm3R0H5JrPeDpote84YWA', 'vYGqePN9pFlZ9_kbeiRmpg', 'An_K-F7o8V8eIReeB2e84w', 'C_q1qESwvedUWZ9OdZk_mg', 'wzcVDyX_g9coXrCie61wUQ', 'gnfW7lN4mZF8JAc69fy7lA', '8QPqj8YBD5M3QihpjLoewQ', '0G8Fcb1xXz_p60hTargmpQ', '81idhkeS7-Bh5gdImZDKqA', 'BqHTL8hoxXHO8mz6cgPKPA', 'xYjnYq_u7QspPkr7tG3XjQ', 'X97DyHdBdm7qvvudIwRpaQ', 'sT_JL6PnVUY2ihqVym4YCA', 'sTTH8i-Vzm-zTthuJh5omw', 'WYQj6cS8s9XbZIhNsE9PQA', '3xxEcm6-samiljL-iv5VWQ', 'ta-gKFpquI_5XtTkCPVDEw', 'tae2iAKdO09AhNHS6mkYrA', 'DUG7qf31KDci7TUUE-ieww', 'Urb-uH0lt4tpGyrI4urtlg', 'y_vjYvRlSZ90obBn0e-HBw', 'ZqeeGTvvwzLtDkoGQbuqYA', 'WKa9q3_sBIJeq_xoqAGjIw', 'JkEQ5h99kic74AMkX2BM6Q', '3pp_EcoM3GR2vkHHFqBN8w', 'iqJA3sMeEVzGzni6f0jH7A', 'pCn5_mvxP0ec1L0A4YAgrw', 'aA2MQ4R14w3Kn-2kSBjQSw', 'VwUiIVmWjtuKUEWgOL-cZw', 'XWPVLs1j0Rpu50YLbS0rug', 'raoXmgPgxro_di3F1BfUrg', 'xg3eyLqXYrb3jKt_Z29bXA', 'jM6AUHoTEVIeZ6P8WXUDhw', 'qFlQWCKHdkbd_bFHxeC77g', 'DvMB4nvt-iGCrGe6S3z_-w', 'vcb-5-Vddsa6BhiiHcy_VA', 'gr8tlXyxsH1sso3GMfvhog', 'hKS9O44ylX0tPEfXhfZarg', 'rcTULoCtcUNOHSt2KtxEmQ', 'DYPhyt8EsIzo0_zgw8pjSQ', 'WYARX-ZkKeHMyys6MBaXZw', '0npIzrZ1N96tYJNC6sPKAA', 'CRhE8O9nqjZ_A0I9o-S8jg', 'ZYUh_82owMwTE6sxkFt6HA', 'KWlP6_qdSF1j7clYPkQgIw', 'Ak2AKGbXIe1uJvWsvYVPUw', 'fRC-ej6K1k_IdwjGxZLg7w', 'pYhli3aPTYFjV9rablBtcg', 'aCTINMfeBmXpneZx3gQd-A', 'QxMUOsK1fbkfQuta4qfWyg', 'K_vRmofzBl-HaxihFQpWcA', 'POqFIoitwjc4SkxuLtwoXg', 'uQUV5sVojlpK2aPvnIzgNg', 'K8dAFqKZLVuPauOE0fopkA', 'E3_0sVf0LvB5at26izY4PA', 'q7n_NCYz_dsxVDNhis_R3Q', 'HeiZqWqlfikGYoO8GaMDjQ', 'hdLzU46K73LVybnE-EO6Gw', 'jjjlMRoXmW7QI1pnvdO6Ng', 'E8ysDG0yf1GoDjoTERTDmg', 'mGjSZK8yKRLp0uXGoHIs5w', 'XBcz0qwcTB2M5ztkHFEfUg', 'ehCmH4CgpjHTJzGxDVN58g', 'GAvbQEBziOuC7tM1iWI7Wg', 'QttrpRsNfrZcomiLypopIQ', 'fvKI3eaTWaU9VD5O4PLuPw', 'KNQVClZ_swKXhAespsmC9g', 'rXoSHhIbSudcScdZt5dX4g', '2og4z_NZvLOaPqEMPklOGA', 'pdhSTBbBiB-1zHvldzvaig', '_VRWUFvOETuiHykb1DZr3w', 'bW_tQgwBsWmq_bLy_mD5Iw', 'aWtrjIPHU8w4D-KzODrANA', 'jsSpGpBMoU1QOjNkl-JOLw', 'Eot3_D7ETxNBUge7xd20zQ', '6spucSxxIgOjxEcYaeEpTQ', 'qeOOE0w6LySUlVuVO3bwDA', 'dTN-zcqlDYE55j794yvyaw', '_NxleFY8hXKqSMaKYT5vgQ', 'UfmLsoKwGjXRAifXix_euA', 'E0Mg0zplcEURxm5RY83Mzw', 'P-54HVyjfRiM5sXYjFwFtA', 'h8knX_Z3mPm47G7QPlaeZA', 'JLFViAzGn4H1bAYLosemgQ', 'Nfd51P68oHCV6Q5oU6Oung', 'eO-g-HKYH43IC8tRutv5iQ', 'ixfTIVFHE8u5QxmzC4bKiw', 'dzLsP3yQF2ZeeNviepy7Fg', '1I_CJlaRYYsG846wUfjFZg', 'b6DJeDoBAdbdXK9hVwI6tw', 'lX7_iWKqYU6_FNJMfRrszw', 'icAcwP-Vty2PY9oUSnbRfA', 'BykDOCDVYgTjbWWWf2JLAg', 'IXy6RHbLKxNOHys4xOWpLA', 'NWptVnzWwWjT-K73n03RSA', 'MH8TOl42TQ3nOoZ3DBAmkg', 'nhlPrcZrPwzniCBlTQZuzQ', 'Dpslj0SNkln7Jgl4iNQoHQ', 'rmfvsHKUjNKvQjp0F2Bb8A', '9VXaDx7fnbSu8zJmewZs7A', 'XNNZtnLFpAwp6mXCH8DH8Q', 'x5p47ujOqC4uwXdRhdIAUw', 'Bx7SouMMiWG5jsTPUUFfBA', 'SzYSftYkranuJhk1IkJ6jA', 'JV7xE_tP3w3eAm97cXBXgA', 'LjIXwR-tmWRHHD1Vf8ZPJQ', 'x9KP3N8AyrvC7m7gvl2cRw', 'QXPdRi3O0Mu6x4nu5WlLaw', '6Vc04BOk-hMmEtToK2w28Q', '6zwmNnhUgaz77L8kCK264Q', 'ie5IVnQJsOroIvUIttLoPA', 'Gj5Lf3EM4ZCgnNnWi7NFoQ', 'ltAlszDu9eRdn1YdT84fDg', '9Ew1nbkMBlXDHB17id_Mgw', 'WoxvEXqm3dQTe-EvWEG3kg', 'hA78HCv6bfzvN-jBgsxmPQ', 'fnyqyMOzGp7w41tS9E3k6A', 'SeT_aTIDgHXo1W2iAxRpeA', 'YvKb-HK6kiJoOduR3GCJIg', 'i5B3CGZbylvpKBcb6AYefQ', 'HMcJ7lW9xas1bKLHaM-Csw', '2iVb6e8hrl7o9r34KNbI0Q', 'rHtQmlRjdG_pwU9WySBRRA', 'bI6PcR98GMMgyv00WSVyZQ', 'xl-OMQl0bmbXSvmAfz14NA', 'IhK0jJFdmp6-qKjSB5CgZg', 'NiJN6wgicuTUQ9Id11f6ow', 'i1XmMJKx-ZNNq8d7OMj6Rg', 'P5KCqpVZWbXSx-dHUGjcdQ', 'pW8f4G5qHrMH2aebjaeC_A', 'laYc4C8Qwnabo6Qu6OS4uw', 'F97VCsyDkjJmjBsqQm1vzQ', '36ebE9vvVv8kbwFoPNYUeg', 'z16Qi1KVh51uTxNx2tvi3Q', 'PNAdh0njgUAOltXlHu4tAw', 'TukThvPk4EXaXJBCu1EApQ', 'NVIG_arHp3rNla9TE9fu9Q', 'h9v0ovk70KGDJUtj8FZbgg', 'nyPpGKs1Od2mrmmK_yiLUA', 'FWgq5eOcEyIa6iUwdrKd5A', 'ogYvKTlcWlMBXYYzZEKn5Q', '9boMh5JSeJDTzS-X801sQQ', 'YGlog6DHj-euhTuLxsoIcw', 'geSNARpL1AhGWXSmhY1A3g', '6nDRxfUqlzStUO7X6pLCNA', 'gmc5txtgv0ZNds0kMz4HEA', 'To7-J14Zq2teaXwMKQmAaA', '3qLJBIVMXNlOLcIOdNxrLA', 'W8jBWL16udZ2ii0e06uRuQ', 'upiNyVGolnvdxW7S-oxdCg', 'jYMLwc0YCB6iC7KKZvbMsA', 'BXOnGDrAr4M0KdCPFxuEow', '1B8oFNJapLNtZXSFx-GKgA', 'CyrLlpOv1p7RFuIuedkUug', 'MAFCY_riQZPwqyAWImN2uA', '7VJLjrHS4dG6Ukwc0HtrKQ', '7cVnNSjn7UHlcsdBgAfjSA', 'znWBc70YNTvoJt9tTji-AA', 'xELFRVA_iyaj89mNnTvNwg', 'qhdHLc9rAOxxYRWiObA7DQ', 'TNxfJaM3EuRQ9b7UD1WNMA', 'bAS98jdwPXEaMbqrPVls0g', 'pIXbrWbuKX_QTN-rws0caQ', 'h2K4pGToQxW3YpKkY3ayag', 'IWuhBilP3P3V3PykiAIcKw', 'NLQLfpkXYeKklFr1rjCb4g', 'G53tYwZnmV-m7mJMe70GGQ', 'WVSszZ57kAytH9_WDpieoQ', 'cdvcPHb0SNztEGGB7l7TsA', 'XmjTAmdfn4UlGpLJCJEIJg', 'JlYJ2TEd-n6t-_ypikARBA', 'Fz0lItXfu3ooQXEb3Jqveg', 'weoehcWWf0yIrmYMSIhXfQ', '5j8Ub0jpcvFT71PaXssLGw', 's9P8icen-HFG_lzzJRTdww', 'Sx-2XKRDHsDeBp0qEI8ldA', 'GQjIgZpLELOqLndy5znt9A', '74eXhB6gE_e6kIKOJAubQw', 'elXjVNmzmiIKVjZ8PInnXw', 'KOyYaVGcU4F2dSXkvVTPBA', 'L8uUATRIcfcGe8_XseOUYQ', 'PUIqlMJHOX7HNt5f616vJw', 'stVQw0h5yrrxae2NVca1SA', 'fB-J1F60DgMRoc8eI0z0Ew', '4aMNd3ZwsU2Y_bkiWpyyzQ', '0cat-4sr-9Pl7qhFJN-Rqg', 'sClCvZ_uwDvM0Q6TA2mIQw', 'lNAQJYaCvNT6PzJLsb06yw', 'npuYsryOyZkAawGqY3Vz-w', 'ZBWZ_6y5fl0E90SRrK9WOw', 'dgJBQx7umfJ4oyMezlirkg', '4rfiskF0s2v0YKfmodx7dA', '0YFqUfescuH9Kne66rLDNg', '-jP5ToTzCNY0VK4WBbXN3A', 'wkc32IP_ITWJ5ZC2cUlvlg', 'b89Ue1rptwlxWXuAFfDL3g', 'FBDrM8qZ0IN_EPpuqliH3A', 'EPhQVEMpb2WaL6iEDMLhag', 'YCcjRRQEZn0Ce7aPMYTYFw', 'jXCejWcGUhroD_6aULxk-A', '6AXc_pVgGGH41NDf7RuAgA', '92yUZ8UzKlyJaEgCItK1Cw', 'gJcrge-ziRhnH713DDXJmQ', 'EOpNGCa5MbdDAr27p5paRA', '7Tc1JTNHGc3VYL2NQnjtAQ', 'zSnKq96gjU65ZNIuqcCm4w', 'IW8h3zFeta4hrUMpttZF-A', '7ncpb2dHOFQ9b80vFZlvHg', 'bQV8OOcq4Bm-WtOGiA4nYA', 'p0tAco-oQ--CjhnedBpgHQ', 'mLuhNbPsVVx39GB3wUZ28g', '0Ib9KDbHF-0l7MxtEa-p9A', 'i5we18U7tm2Sv-ndSa2djg', 'HE2v7FLqf_GZ7OMOeyMRmw', 'Q181jRz6gsjK3UaJ-2j4MA', 'aPf9woqV9gXtEASzPOBJkA', 'fRBo0mCoctQPpaw4Us-N7w', 't8HA-_nc4-IhUrJ3gsgcug', 'rCDulfgcDl6-O2KdBLWsdw', 'q3Xa6Z2TkmKfrYxtNbTkag', 'MhyvQdTygS7ugT_mrbtSug', 'GeHIT-pO4amXf56WBo0a9g', 'TSR_hrn6J1Hzb_BzeNFBAA', 'fCdhjB6VLlF0bbSRNOS_wg', '0wE9Pf-U2XZOj0gys8TMnA', 'yfPTunRvAC2xbNOez1VDYQ', 'Bc7JLKmBh7yRkrDO4pk6sw', 's7kBrTMNvfpySihdYI-maQ', 'vMOtoHrO9qCJJIOISVWXAg', 'R-sA3Vr27Y9GgOJLetIK-Q', 'RRARjJqIGU0Y_sI64Qi6cQ', 'inTK_ApttCnU7C3X213fsQ', '4bdlIovwTLtqxWbWy2ebCA', '86N99T-_kRZvTMbHudNO6g', 'AU5bVrIhrQHRUkts99HWqA', 'HwU8GsFcAuOolOVyOczAaA', 'c25ws9zjulsYP5AmgaeQRw', 'My0gNv62YFadhzJU7EYoeQ', '4iLrS3ZObzge32UW5rjo_w', 'GOQRU5CBmWc9bDehrC0ehg', 'riXqRCv0RW3f7s6MDCt-Gg', 'vHmgIfiCNFBG4Z81-ODtEw', 'bm8nVYHHx84As2couexefw', 'V6litNCCbK47xefJe6VVzQ', '921H55kYkP_dGfZm6NGnIg', '9ucwBzdVM5kyEJ2cuamChg', 'bTgcvUJPAk2xSu_zjBcXxg', '-o3rY0nMbO-6nAim9VbLsg', 'wrI0BDdItlHHE1gH72uzAw', 'T50ylmi7tpAXQNb0p2lbrA', 'ZNofbJF_MNbQ45ILHgMwVw', 'OlxUmHixH8xEfXhHi4xPuQ', '2x2zsSUZbpigSjJ_zvhGig', '1319ZxnOaFkUZaRZ2eXb4g', 'DzuajH0PoblIWWR5x5Tf-g', '0FYOU5nklrEkgtXPJsNw5A', 'jdNBR_cpSXiT23DJUUWrRw', '-POC3Jknsac0ummGQ6Z6gw', 'KSjURXy2IXsoD9h0xg9RaA', 'NKpVh8ZJbHDTDPTAJnO_oQ', 'Tu10HlwxLWJpJWg1qb8kyA', 'CAcwnwAWoiyiAOO1ZYdDbQ', 'TcRBY-MYAukw5JMFP_tkLg', 'TaxLVHSkSzf2-p39uJvTmA', '0xxuTMvSl58I9eIp9SesFw', 'TTfcZd6wiDguiOw68z8vfw', 'xF6yC1YD2pq8uWXowjKFJw', '9r_8IlFLNAFLgupIf2xLAQ', 'GmZA9WRmeZ6w_xkwnZcb5w', 'e42CP7KSZwKKybQT9v7fRw', 'EkpWgZmEqd13IoKqiLeJMQ', 'myVS0xwPdXavN1YQ3fzAmQ', 'g1-fzIjqBPHnv8Y_C1-P3A', 'MZU043tv83X1lK5MgVslHA', 'JhcTwke83ONi97f4ceFwVA', 'T87GzJubsYAXyhDCP-f5qA', 'HWDyuRaJf1HDYIorP_fbsg', 'Y-OIdjj7fTn6HZEHFXTAPA', 'WgWdCMOkrF7bfOrYjcGQvQ', 'TzA0LMgvfxEf2lQk5rY4NQ', 'xL_Id66JkOd8KbdCSwcN5w', 'fn2i2HISSEu4lcCDhiLz2A', '9_2feObKCVIy2503_WhXkg', 'TmGKKOGgUZIbVzI74EbtTw', 'iHaBS00OhLpvEg5QCDLcUQ', 'SXdy02AyrTV7MbVvAj7Q2w', 'OaNaibX5O14X7SYGV-caLA', 'O-pYG7a3Dwbfm9yIH7QOoA', 'HnwH5TW11OMcMSBY-NGSKw', 'qzy5qnPYMeROu02bC00fLA', 'L8bpyxmKXv3tfdT4wj4t_g', 'O58U9cTLUMzrQORJU22sEg', 'iFtaAf7eHXisvvhqnZqKaQ', 'OUXLJLmJDPw08Q1YNpjqpw', 'heZF5LrQN13BfgefBzCvFg', 'oqDxwKp7zE3uAH7aufuDIw', 'CuXUxY_G5eLCN1RbD0ApWw', '4yRAq9rxBni_xqjxfNmlyQ', 'Kh1P-QB9oYnC1OEIM1zbwg', 'EwhEdCdZpuPRgOhYaZZuBQ', 'Dm08XIjd5KXlFqTgGfR6qg', 'U0rlK-gSOz5MCMJI6eMpmg', 'irRaLTvySGgG6_6iKeeYpg', 'glKEUO1eAWHaoyCuACAkUg', 'a5QRSffI35WZLuOQug1viA', 'pqHACpRn_090IJoVNx8csg', 'sc7RJgWt0ii-wBpKIoPnXg', 'ZfB6cbvPd9K_v5zU-g9BWg', '8bpekWMHjhGvoYIs1TBIFg', 'EToRtaY9ZJDaKSfg_GGUEQ', 'jig7wEG1ASKjDjcR1nlVRg', 'Trx6kCaHtkbhill4lclIOw', '_GvvjcBcp2ztnuXhFW2wqg', 'HOQomdo5x9y__cV56PFOCA', 'nLxYhwngJ_VhIoKcmrYK3Q', '8y-6KzzFq5-VMTAcu5cleA', 'WnaGUpCQcRi4Za6hN2e8ug', '9ZM7QfNI411pgyFEFvzNDQ', 'fKD1X1LUwZrQV6pv-VrKNQ', 'suLwPHWy7H-acGuXbUjDzg', 'KuEZ3yTDJKynTS91HeQ4RQ', 'AmikwxlasZy3P4QV64d8Ag', 'Fw9WWK2HAsON6jha9vjJbg', 'uzlYUNmuT6-L346y174o1w', 'g6GixTJLoqNvh-bXGk6gDA', 'Ls3jkABQ8tUOCqU2ixwJTQ', 'rYqzDBxw8i-_Bdv4MUqzPA', 'dT5fCPCjkDSxJLTxOubKEw', 'r0RWFq0KJcZknRyxr1LQZg', 'pqhM1PZqrzByUxD6w7hxgQ', 'YnsY0AXroiClyPUOwESEJA', 'zNABV85V-SpMGbBBbEK3LQ', 'wp4KoKqzCrjJnGrDnPbHag', 'bAvTdm6KUsG1k5NTmm3MTg', 'PWwFHeOxU6-Z6e4x2DTd-Q', 'EF9mQD4KRhBH3cgphZMPlw', 'AasSaKCqVu5WgVjhovQ7QQ', '33nedOK-MEWzSyaWv3nlTg', '3YoA_9iMC2D10MfIr-xTWw', 'Y87K6bZdKyeMPJkZ8QfjZg', '1g9yLKexxnIvEKI7oDpkwQ', 'WyXiWQ2xeOKgJ_UiIiA2vw', 'WKohCmQk9K8wd630OTy5DA', 'sKyeVjW6B40MgbodpetEQQ', '52pT3BCgUTbQBR4oNM3Nww', '0sk56i4WdMRAGpUMHVbg9Q', 'HaPwBBriIz9M3RNLLOF4Ug', 'HvZzxwSjE26RCTcY3rbnyw', 'NgdLHbAKqbpb7lmRnwDuRg', 'SbFpA7Jfu8GI63HIK6UpWA', 'TGjIKpZWOT-nGaylXZSLlg', 'NiC1XDcMpNgRFvFc5GHN0w', 'NGS9cnE6QlJJrMk1LAYrHw', 'qDTFonZjB0sChcxxuwXQpQ', 'NzlUf6u54HbGWK3gWKvZFg', '3nyuvfFb7qb2PMTLzlKZPg', 'KB9hjaXQtIaXcbdM5MSS9w', 'LH8VD5GhUkzUMsuVca2S-w', '7g2PkNzcbDEyEPs_hFivaw', 'r7NiwDq_uhuQ8DOhU5WIBA', 'NKb7zpteyUQU8Myvao8tDQ', 'dDLyzdO1f3nxc7-e40loXQ', 'nZ6TNXmXOWTynafYAOwe_Q', 'zybDBnOI3hzM-z35YjnMHA', 'qA84WHpkBKXWjCWZQEg5BQ', '6ub5dsymy2uIlb0A19DJMg', 'm8gzFvj0cAWnoDxLdytIRA', 'uecwM7-vRDg-W7gSaMT4OA', 'TYdHJpr7hWU3GOwAF5qRcw', 'YjSuLH49JIJRqSO2aPedYw', 'f9lagQGOEX9aRRt6B21zzA', 'lRyzVlW9lN5AczeyQPzDhg', 'w9_6F3dbq_2OF1D8r3ic6g', '-XZ3ZUpHaTKkS8EH8iVv4g', '7mUuT4j9k6ENN45XO_yccQ', 'zFhVPJTaaenlO2bQz6MY_A', 'YMRJ5krkQO9fmGLaNc4Ojw', 'sUwrH5E3fgVmKKvtSrOXJw', 'shAzPl5xtkywRc4EaqBQSw', 'LagnZ42XF8Gy0mqP4Uw-IA', 'pyqPLOQuYmwbVQWXZebweg', '0lVdra83jERXOrPlxZlmSQ', 'S_ZDD8pya16c7OX7qWoBeA', '3hVz-1MC4QCHj2l__5Vbdw', 'GbSyqtuhSMSIo7Ahp_t9zw', '4Br-EQRb-CYJWdBr_sr4Hw', 'eITptkv8Xh0FvUi_W2mhgQ', 'n2m6qZr2lxUpuBBsq7JAVw', 'yrG-elRjWl03W8nK9pCBbQ', 't3YOgnJ-L0cM7RYGAWan2A', 'UPxA6GPbLo1cjrZkYByV7g', '2UrKSwkL0MQ1HRAc1FNC8w', 'ydNlVFpz7I0q8oISomukSg', 'QG5Gl7K_tkOwXEiIuD8XYg', 'EF0F31jofOpZQq-FIe8iyA', 'bX-KW7QF0yinBkfEPIkwmg', 'A1yvQFblZtP5q7fDliO97g', 'maWjXDHr_tr7-6g6uLnI_g', 'NmwJ2jSlsZFc2_P20bXtwg', 'YpQz04L6FIeepAQwHBUqgQ', 'Jlzgmrr5oAbWBsNinwuLGA', 'jn9JdszAB12-lL2aBeADaA', 'IPxVEGgWT3uuM0MEKbjJ3w', 'TxT9zATaa3Uwkv4dGXhdHA', 'SUq_ynsp8ogRx6mr_IBJIw', 'kOYUW49oQ38CNTQheecwow', 'YRrwQGJZOAHY10cdamFg_A', '1aAmcL3s6lFceilOa0XxFw', 'tYr4HnP8hoRWtdfWDsKhRQ', 'ot7_PrH4qQkahhuUQ3Hq7Q', 'GDJnr71xeXTZ-ZCuie85EQ', 'P2C9po2Vph3h0gNF9MFLSA', 'GNJCv_gYF-Zax4vJNPfKHg', 'eSOkD7P16l32C2ScjjHdkg', 'dGG0X_AQwX4Z8d_ruhA3ng', 'kagAaSqHN_u6yuRFxChbFA', 'WGAEfhr4JKbTXiy-K9ayuA', 'aWLUQi1yEieVAJC1WNg_Hw', 'XQMMSTKzT1mcsm2g31TGug', 'pRp0ZVvQa2H8nr4xwU-bmQ', 'dWPfWIyrfN-uL3CmFUFh9g', 'ALLXauQ2gam3uJjQIKde2Q', 'WCUFUuRwZlXGy-h608p6JQ', '3T0OM0LSgasX3988tJM6vg', 'NE6dZCjs0vylFgShWeXyEA', 'F3PjpsT2ycmA3w7WE1pS-Q', 'x0eNc92P1_e7MGIAiuz1uw', 'Hekq6CMSCfp-e-X6zYCeVQ', 'umj2cKCFWXUMiFatVc-8sA', 'Phou-Fehn4CVakWrFhdo1w', 'HHP56w4X_3DbTqp9i42fTA', 'shIlRTBL3M5eJ-cmVRCq2Q', '2QOhCsT_FJJfSr87AJxy3A', '_Ac5215jLReBu-qE5H6t0A', 'CWGKflh0WUmTXdpxh_Qgow', 'EuwhoX1V2n2pkyJQ2ofHUQ', '3EEYWU6IvHWVjrcJGZKsdg', 'OM1xX5x9hKZajHbRFkkzGg', 'FrIDvATUJzRqO_9sXdQH-w', 'NypG34FdFquTB63AdeGTNg', 'hCmzqVloEGzHOvl2_EUcwg', 'Tr-l6tuv-tjnL3ghtnNN4w', '93GO50ym-3-HLN9LTuqPjQ', 'ui7eFGNHzvKJAdf8TWOoXA', 'OgpxYjR53UL5vhI6ErCoUA', 'Uqyi1aEfxqj9ifDYBOUCdA', 'MZBNklFjMc_ryJVyg4Uwrw', 'mgAx1C8OkkC2mXQ2Jh0ZPQ', 'qxKOSXMpIksL04pf5nCV-w', 'yT7k34ymkfWHzcrn8PWb1g', 'dy7k8jYn8bZuiq6Oo-Np5w', '6bfxihonpQlIWfgBzJ6V0w', 'rRXbk7vNw5gPuUKYE421mw', '2SRP5srM8N2jqEmmw62AUg', 'gdlITlAENgAaA6IQaZaUgA', '76kTZMO6Cpvmm-WWXWvp_A', 'OoXq7cCoFPkMjX7P1uNR7g', 'OjE8f3mbiIfPPqLTA9Ucgg', '2JcnlV3it44nTDsjYNt4EQ', '0C2p4LI7vL6jFP5ZachGlQ', '4L0fUjfJSY8GNhEO_3bA6Q', 'I33GZ7tAxBO2Ye1-48T13w', '4ZMFtTtj12RMFOuaU2ob2A', 'S3kbMwlHau3-5FNeYq9sWQ', 'H2g5S1qQjMsno7pTS9rEbg', '79XMDYpfJtevzwcijEr7Xg', 'gMuz-BRdYEMnMl1OBD6IjQ', 'qryTdQicH2MQVEWUEwCtvA', 'p5-MXsoG6Ffh59ism9z6nA', 'ouuaGwy7Dze8f9IPuXw2TA', 'eD2LWVYWxbN2AdvSUtJsDg', 'jHbCy05KNGHRVLlpHUrzyg', 'TfzHaIX6HIa6cz3iEuUoeg', 'mS1FnowZs7YOG1LKlipzMA', 'MWru90hH0JlOpK-9ayVfJw', 'wRoceuF-erzAJ0JnR35vYg', 'I1rMYwfVglxG7-ZQsdIPUQ', '0VYsv_9fvNnW4K2NJvKrbQ', 'VXnkN9UvFipUc2nnvxpQxw', 'r_MWXt40Jur6xgP2mhcV_Q', '_1DoZQd6ZcPrsFmMcL-Efw', 'mHZ_1NQzthTiz3pi3NXgew', 'ZS9mgtmqGJ1zpBIbxvfRhg', 'd4MI3nEv2AyeO2PeLruIdw', 's9H15esiMWJ18EIl2jCbIw', 'hASr6BHj8BAYrdekdbi79g', 'Yd1JZQePGomjM3sevkNl0w', '7l1H5YnkA5FS3qyX0wIj2w', 'nlI9UOP8VzJP3mlVfvAnvg', 'nDCiEofaHSyzDW0PkFiAxg', 'jGPZAJBn839Yboeu2TPJBA', 'uYQPXjmhcRLsOk454FFExw', 'ScxWM1V4HgH22on6wNOlXA', 'XjnDNwfIUwKuKiUS8CMWmw', 'fkQZXgnEY6bKucxzUopx0A', 'g56aLIoIOpCXwtoG2EvxWA', 'NXnXPGMJqdz3LLIIzoyctg', 'juSR8oD0lhvPtIMP-V4Q6w', 'NiyyfgeS9OJff7v_3mVDyA', '-SF3dcZb6VBxX2yysKsTRw', '3Fqkb2gNm-3yoSphzG-TnQ', '0_237z7qKXUnzClE75xlDA', 'HzsxfNMQITBlqzkxJVYIug', 'F9OmbSClqbIzwpJr7GZhNQ', 'BfHtqbMpq3JAO1mO6gmfFA', 'svfYPXWtMfazxVdh4_Pkbw', 'NdgT5bndZv_b8b-vxgxYuA', 'RXxTI9MUzygOVShX09SGzA', 'Y_B4Pcqpwxvt303KC1G_mA', 'HgNPRWizYgTeoKjzDS1Y5Q', 'qO_o_x1ashCG9yFcvhW94Q', 'FBcor7DQij_fsE2aOlAaIw', 'mXY7MSvv14eMsNmwpSjWhg', 'w_JSFPA47JfS4cntAOFt1w', 'JPFmq4_cXQLbgPUcV5RdxQ', '6zszT4qyxc4p6HjFbf8fHg', '0ldAinql-RIe-3zchM5Xzg', 'TO_hVmVbAe4slURj4tI0tg', 'cCzZjvtQ1byxgepWI9026w', 'eavLWOl394-xLIihiCkdyA', 'Sa0ladYBuYcuRggqpyYoAA', 'ZQh0H_3xKORCAMXIumvmbQ', 'YdP0MofnSYLK8J5Al_hzGQ', '6ErRcJnTHLa3wKTLmeDt0Q', 'A7JEJA-pFi42lX88n1exog', '1y5Ode9BEPcE37jJEae_Hg', 'da2L-Dgci_Y23tHf02PUrg', '523QBrDq5rykI2ISOd-A9Q', 'i3m0fuCqpyMqQKDXxpfVrg', 'L0e8I-Dsw5uP9Fgsp0ityQ', 'Mi7f8LRjPhqV7rskEXJQoA', 'moEcRsXKarnuDJHb0-2giw', 'xRGsOTgK1Un6agX6KVj7vw', '8NElRZyZeuISc74IIHuOrQ', 'z1D0GhMm7dlpnx9K_MJ-8w', 'edOBoxkr9kjNOEsZ-nndvg', 'sMkJ-CnhZi0BL0Ix5y5dCg', 'Fmqo4SLlwzxSTo9ULOzA1Q', 'qnNGkSZmtopLm_WrIrs9wg', 'EVNRU0VXkjnOlQq9zjWZQg', 'TVvyymZVhrXGmU7oFLFF9Q', 'Y40r7vetTT4Hj4wRDAqU_A', 'n7mULUN-RPqBcaU2o79sIg', 'uqsS1pVWvD-9ngTkg7kEZg', 'UAQgiglMiSV7udCIyn16iQ', 'evt65cp2v5-RsLJQXAMvWA', 'Lqma9aohiTSd2fpHOdtdSA', 'K1kpKr_NsPxBplxE-nmZpA', 'bPPQlwFvx1ozVp6rQJLg_Q', 'HVnHy4GuuxF5-ehPUtrswA', 'cudPY7bAvE1SriQV4-H_rA', 'JXqo-OYoe874798auc22hA', 'b4uEghqvsrcTouUQIpfAWA', 'DuAVelrNAloij_uL9UD5OQ', 'glXK7zyVH4zjAAhYbcko6w', 'wtkxJczFXWbIMR2Gx_VgQA', 'jMyvupcSxq5YeiPNU7mS2g', 'HzT53C5SdF_ukJ2HN8p8DQ', 'EL0pAd-1KpKdVeIX2NNZRg', '0PDd9Q1naJ5eRelE_VN-iA', '-lAEXr7Dzit9xOqao0CReg', 'xAEItHOKpZUOILx_TgAH3A', 'GUFut-jKqhPTZiiTlYBxnQ', '2Hrp_8Hi8y1upBQI6hDZmA', 'LaJyAui5eR71BP2EsfnJJA', 'r7jovfHRV6SGs3b3dD4zLw', 'dGKZAhEvUjo26UBvJx-tZw', 'xQssoy5oRXh4d1YMz2nRQw', 'SXUVJ39uyT7PER2bTT0gQg', 'JzTLm-ct_kD8c_sCXBm82A', '2yCJbR6H2VpeJMl10YRXuQ', 'k0kxQzrOE3-wbptLybw-Iw', '9JbYQ64tu6DOCUGRwq5ImA', 'U7cCgOAegexpSc2Vv63zsg', 'cHytkfL-7ZicXQACkElfQw', 'VvB47P8EaMRzmnqmyhDY1w', 'tILVuS5DJR2o-CJ3mhGtYA', 'C3-pPJ29Km4yBqRabdnchw', '7_idY-3JZTxiKtoN0i-Mjw', 'ZNIBTltJHsHs77XHCvjTIw', 'PHY-bx9fW0DwLdiY2CH-PQ', 'BHGTwgkqI3RoREB0sEsNeg', '34GaVoTMykdTkGzMhqjntg', 'tp6yJ5rcwHrjDlX3r6ERZw', 'BIWRBoclJFA-G6orCnHCkw', 'XBdZMy23hF0dU4nNGpWzAw', 'awJmpHkO2AovRhQTWwMxYA', '-FpqJGzR4y3W_-ZKXhzibw', '3Q-Lcu4uKHimPgXFLcMe1g', '_LPmIyA5b1bQoEMQLQmKxw', '0zIASjSHq7XLue3p0h3SHw', 'nCbe9qqtHcwT6FrgpSvwpg', 'Jsrtn-pByBF_tesdPCofuw', 'wGY-rNSwRXO_mHDrIkTSTg', 'TwNxcFMGOIuf33_siNxBxg', '4hENvTtfKMW-LGH5JJRAfQ', 'XEYUSPQFHrZ0WDEXmyzFoQ', '_Fl96pon4EWMsosDgCn2Ww', '12HVxbPgOT6X3MCp7yDo9w', 'X0dhfDEKFH3E4PMI5dT_oQ', 'GMdZiqdjCOYnoBzQ-S7sQg', 'nRvy6CNo8_t7AL_2q8AbSw', 'qmp0pC4BN46O5zW5QGhrgg', 'Ep75g5VKgUrOS-wa35ty3Q', 'zZZIec_b-snhzb3ZU3Os_g', 'ENf6VJqTMg56kfVwLSAO7Q', '5KLkTTS-h0sd_y3w1KSsXg', 'wgQp3Ec5sM2jcF6TfzUj1g', 'WrSmMlA8nTTl1vVG_gDa9g', 'uup2vDKFmBjyAFSZFzK57A', 'gUfigkgd1K-bplv3txeAWw', 'JOfPIkKuOwBr0ASFRn_Kpg', 'UIF4UEybSgueHs6u8SL5AA', 'lZeJ49rUHt_0c1SBV7OsNg', 'p-zzuQVoZ2uPu_abBoH65A', 'DjrebnQ4ryttV7aVqSJl2A', 'duUxDsCCRw3z1VcJS1pvhg', '920ApAlhxx8dKO82UCBwJg', 'PqPwuyVXCr1o2rZHpkDI7g', 'yGa7oaFtEstsaQRsxMP64A', 'GAOGiRR_hleBo5_yheI58A', '2Lyq9I2TXcZUemC186yBCg', 'ZL4FQ824ykR51Am1HAkrkw', 'U4Gf25xFklytP3YV2L4n2A', 'IPx9fMfh_PirbcDG-YLWJQ', 'LReCfpPWuV23mA69-06Pdw', 'yrq4Yeoawv5M41zIlRcThg', 'O_ix-dcLzX91TtXv83NWlg', 'wl0sBCGmcMUal8raYGTdRQ', 'eYozRPY1mSB-Ku7x5YzoJQ', 'ZOiMAGcEwsMoYpIZG6nyfw', '9Q36ylJvbi-ckSsnjZZNfA', 'ylw-Wphzk_vVkpMyhzdwZQ', 'n_5Mbbi8K3F_MBnAP7CRlw', 'j0FqWSr6H4ThsHZmpkxNCg', 'Xi0o5-O6awM_RDJ08TYMtg', 'XgoSS-p9u5FuCbRqvXFgag', '0N8fLAcMVKzjDoFRlkXPtQ', 'srpTFcXKZWNrJVdRjiuuPA', 'OKMnD02RPprMWIx99pZdiw', 'QzH617Tx5WMm0pr8sLT9XA', '-AuJxPaxgRRPg6AZXzP52g', '8xoBQPX2naw8XrDVW9ACTg', 'VzcEFEVC1fCkpo0-kfd7fw', 'zAemzOxBP5uMl1Yvq6KFlg', 's2lPQJKjhUUg3t3KPbAK-A', 'Zj8EigqmOkaT2gcIWLp_hg', 'FzvGCsY6mkXiH2W2_OEoCw', 'drF5KQyVikojIuRwv69R-g', 'BacdHh60A9E_0j7G-oZ7iQ', 'vMrYFlQpD2jIwcZHXZzVzA', '8hOa-q973uqaL0ifCGixBA', 'Ly507VycXCaGhK38cF3iNA', 'huAJjF_gEwlrQnLDMCujcw', 'WsWmqr6tNKlip5Hu-dyFgg', 'dkVK8OFsm-FHdSECtnG3TA', 'JAWZ6kx6yoftpBdzYn6J6Q', 'EZ1DH2iR42iPdhrfvnT7Rw', '2A56A2GnxWRxxWHk6xQGDg', 'c7q1vrCLE6Ma0LFVXD16Pg', 'BmBYWfvOfoQPdibr2cSfuw', 'p6_pdWCQnoqcpALOfgIdzQ', '3-F-A0oS_i-LEcflVCz3Ow', 'Bvjp4ZinQBuvghaHoFzQGA', 'lZl9CYskhhZJBg7wcKDRog', 'T-KMmT0bH8JkQ9bB9xDp1g', 'HxaedyyEDA-Vpu7DWmuX2Q', 'DXwkK0yzqD4WC8yOGrDPYw', 'U7WEjoPWSmJcDqeo8Ro84Q', '13AJ0lxoMZZSr3WmJCGpug', 'TdlEx6yQPSxr1yU5mlqjgQ', 'UKLhydrQt7AEhWgr05ygxg', '-99RGFyI6GotCLkNguXeLw', 'wDMWQUNqTyLzaB1QudznJw', 'An6pW6ouPC4C1xOGJinb2Q', '5j9Noj06FJXGU4LLbkO8XQ', 'pKKHL9AcDJICuPU5BtPpjQ', '-xv5c5z2Y70RVEg2iFmr4Q', 'FgM1nlUlW-C2Sr0XApdJ8Q', 'Pb1bW49aZ8xp85TmXP-jqQ', 'KZ34M4L1lWdXmkSe-phYwQ', 'loa1DMdRUVg71xskXq-30w', 'iR6CgIrfxB4AhZeDNs-vWA', '-xNUSVJjrWq7yyPDypgpxA', 'DKi6IHJn0_w6ny4OV5yUOw', 'YyFBRviOLoXj6ng1ykpGaw', '2ei_3xu8H3UxV4NE4vxWRA', 'OFD8BOLFq4YrguOBK_ptAQ', 'mkY1dTS6QV2NYKErOOiIqQ', 'eajvJzTHxELw2eRA51mtKA', '1r4tTyJBwrErBu7XYDws4A', 'tYhdqiDoXfcw5b5PE8QvwA', 'Jc8uFMSVnSVIb8xm5aJghA', 'ynZXoam-BA6ge0q5g94AHQ', '9vMmvkCHmp5GJfW8P02z8w', 'qxxoSN0HsLQ9h3O980DqAQ', 'O1GoaC7dvopV0JpoKOJ7GQ', 'du6_hi02534MNPpQF5czGw', '-CmlJ_7zbEA85t2KHSE7TA', 'Of2fpibK3qjY9bpUaREpbA', 'VMncgak8Y1kFYRua780bYQ', 'FEq13NHembVJgi0ZNNh0zA', 'voMvM9dpdW5zgaHLjOYwMQ', 'RH1rIFvq_-520i9ZL6_ODQ', 'H5UROt4HeEVYcORWF7U0RQ', 'vSdDj4BnpRTIbkdeNouDfw', 'Vpr1Tu0Vh8pFzf5tD4AQFg', 'gDepm9uEIxC6OXF6ISFLiw', '2EQNB-rt9et9ZKu6AgXBVA', 'z_0eDiO29gJhFa4Me2VKMg', 'mcXz-ehm2P9hTxUsIrLgFA', 'YtOpIBOo7-lzyWrMGe4QzA', '_8JfooaK9ycbHq-usWVkyQ', 'BCMjyap8MkFWi8DVn2zCPA', 'G0Z7bNyCeiIoDduEnSyMkQ', 'RnyOYj1e6sq99RZDtPbMtQ', 'mcFM9HO8KVi9tpdv_ibiSg', 'BXhwLGScqg8wpMB-5MsSGw', 'nlmggqVIrlDi3TQgRRmN9A', 'BFAzwN_sGBIJLvoXyZWTkw', '6rQHD4Bsbpe9UI7m4awAJQ', 'gVwtqAWjS9Sw3OKOJ5QRhw', 'abKSMonacD0BmWjRbD1Dug', '61rk7Liwwzu4GMYea5L_5Q', 'IF0nVUGw7KY1gD08QdNvBw', '7CAkgZIf0ii11H5OYB6ldQ', 'VCIigQT-kSI0cEqXzD7iow', '3qYhxBIV15Afya1NMfiQIQ', 'qapB_gHD3k-tjZmQh5k1Sg', 'X-AfbTsGg6poqmQt6NzT_g', '8-mqKqKN8xaoqUWatm-jUw', 'lQ9f6pByc4ZQ16LrFV9B2w', 'nqpPkudxH-XJTb_32EtXsA', 'S0OioDOBTj5_vbCGiIBcww', 'xGJsNOrlSQh4x9UqnKhE5Q', 'ICTAEmLTtlsswBMM8wKPRw', 'DlH-oI5t4QP4mF5bvhhmyg', 'UC2Cq2kRxuFDzuzKs7LWig', 'dJG7C8kccvLsVSRNrilRMw', 'Fp379h-DkTnJyww6S5GXUA', 'X7zaRytx-Pavce4meXSj7Q', '_CvzesWoguv-UpJTY-if4g', 'PRNSYWGynmRopaEhMSCbfA', 'vj9yC9-1z8s_ZnyrFS-ctQ', '7bE1eg9esY0G3ZNwbmRTrQ', '9H1OQYQ5WSrN2u4yStsnOg', '8BJP8UDH3w4BUeoEyxrrwA', 'EHoKFvCYS0Qw0Q6DX1yZ1A', '2QTYu3_T1IcEXPY0yGHyhA', 'ZELwmcr7KW1MNqMkAN9E2Q', 'hJ1VrBsQeOe2aEt9LuxN1A', 'nIZLvcZW7oaqxXTlS-4sBw', 'ncfJRhbMbBm_SAVkM7M-hw', 'kIgGzv01w0uKSDIF3yippw', 'J_ZT6_WwWpAYqvuMp0DMrw', 'K_tVtXZawmrlp14fcfZROQ', 'R0u4YucoNWvmF4YreR9TaQ', 'ZTZPyA7Wb-0X9ePn-MplkA', 'T3iAeHt02HT-9M6RM5WOGQ', 'VL97XbJWu6AuM-Kh00BM5A', 'sPYWt08akgdKWuMdnduJag', 'J3GuHHPmWfVjgudnFZSBzQ', 'K40XIeBIBlo7qlNSokBdpA', 'dJHvjiRK8f3CABAx6o_KYA', 'B83WWHuzjBapcgBH-ylrzw', 'UvqKUtiN5A0Gg9Dh2JUjZg', 'st53KH24GQgcZz2T-UeB9w', 'ql1cnvjTZznz-IwBFG-Meg', 'Tgmq-rlrw_os_wmqU9UQTA', 'HrN41cd-z3q-CpJf-sOdFw', 'fBE_UAwzkrppGLRlb7N46A', 'NxlSP5POMRPCv_LVmqdksw', '75-x5QeiQoboraoawQsKiw', 'fir8X0Ul5tlKh07h0O1y-w', 'HLxmHBcjX7Lo1cNIkzcgvg', 'wE2R8PIGvY3xK-f_e1n7Ew', '8YI9fd-Pi1aeaiqjpyqIXg', 'C05QB--oDgwy1G85Bhgnsw', 'NTwgYe5soQaKpXLyKfBS7w', '511eTRMC6F8DE_rQoC4B8w', 'eYwlhJPS-Z8jtZhwh9IfuQ', 'yp1_BIJ9XQPlVe4BvbY-wg', 'GQkNW5YJgG68q5HVMKWhJw', '5G3VHIAIYCmFPht4Wcf3xg', '2Z2ish2M35AQnfF-w0mgCQ', 'TUMTWOcIL2IIJGJ0Am0MrQ', 'UZOOnWowukZXZQkIGgewDA', 'u8aAgQc7L15Z5rtyHz41Ow', '_9rL6LUOPtyJ5cFop0m7Bw', '0O-yo9MqFgZkLh9VH3Ndlg', '6k8iAbEW9sUjipvnCiujig', '0HPNP9psF_LfA6sFOPxYBg', 'fj6By9q1PVpbx-OC4Hf6dw', '4nztENbDiR68vkQrVTu9gg', 'SxZzx5f5sdmRf7kCRfzD5Q', 'I6F9XJC5Ngda9oqkpJFXTg', 'qMlh6WnM5I1acYuTeW9feQ', 'BSpOzZAOu_4q12hOiujG1Q', '3t1TGDUM-b_8HbmQY3-C-Q', '91CodABk5GyRty8JURaO6Q', 'l7BHS7lh3w8oirwGt_tfrA', 'vOn3uP2i9q0nGm3rm5mgQA', 'PvglF3Zs8mEpl64Wyf8t8Q', 'Mlte0NW--SKkUcp7NoHVpw', 'xLeFBFKWBP9B2ZUdOmHHNQ', 'Z6eGYXv2mmo66ERWzJdYUw', 'Dzcwf6Y46q6GkwAD_afgZA', 'o_-zP4MLVekTzHRjXRasgQ', 'ipwxXmjjay6Xv0GMHLLPeg', 'asfV5pGqxIVZSsizDU7L_Q', 'm6GDS7IPoUPwyLM9O76Kvw', 'Y_5hAqAErtdbwr2zuc3z6Q', 'uPz9liIGZ-yT_SF6QTB8ZA', 'cS0XHftBk1_hBoYyG1aROA', 'f9C45u7D698eTHtYIswqdA', 'FBz2I7fsUiLV-VPTnDIBxQ', 'bDiREYJUr-kN1OrbcZw74g', 'VZpS6vibaa5HcZ9JROfKkQ', 'r9i-Xhaquh1rcYVCyVkeWA', 'pxCULg0T-B6jr4y_mRKPTw', 'oLyA57dQ32Yokn7gP0z_eQ', 'er-sIT2H3rhJEMGRzQ3X-Q', 'CKIil5dBIQ1WfiUtRFSEgw', 'wIU2JrfchZjFpMrBMFMQGw', 'Wz1bws5oYvVMsmMV0E3Lcw', 'Oy8_SwqIOsyEt0qGGNe2Pw', 'gqqfpf8YhCoiAIgJFQkqsw', 'Uk4xQHeejVQDOKE6o52CXQ', 'MEpLb8FexAbRQTTO0PJy2A', 'NWInwfMGuFnfSjc4wLGWvA', 'nfqkmD--lQehbUjmLZ6WBQ', '9Lw1JoUEFp19KMU5k9LrmQ', '2ivHlDCctxPNhESy0GEKxQ', 'wSfsk-y1MhbY1T0Ru8H3eg', 'nSoPpxN9cHz92D8AV6Rm2g', 'qbq6iGounN2XWU6jJAVjOA', 'AKfLoMZysesDLBiMPPUB2g', 'WNNivmykVsi68hxXCRi1Vg', 'SowcbWHaoz_RmmaPq9kCeA', 'PyulJEnHzdsH44pZB0iCXA', 'Bv0IO1NQu7VawdqxRb5rhg', 'TJZ3uM-K1IEreefdjE5UyA', 'S-ARySA_iqoYEmPp6noAdw', 'V17mIh0vDB-oZ34wfw-p9A', 'Jt--0JssdN981UrRskIfCg', 'IO8o_F_u8eOAkgptTf1_Sg', 'm9KYc24oqkuywnotiiuttQ', 'MwFuYPQQ07G2tYRpb1XdGw', 'y-UsV5eE_DWOz_ayvoyijg', 'y9L19Dp2OAfJOITNjtg9Rw', 'HcKxiAtf5epYT-h1NdDvXQ', '7NPX2TMeFxE0OdLf8BaHIg', '44U1sj5n2ANgLc4ChoIgNw', 'me4-PWfuQJ-PMRXT-zLfjQ', 'mq9ORTVHBOXY5VoDLgFgRA', 'NH3K5TDJew6g4yz1Wn00dg', '8sp2uwLn7oePal-pNY_N3A', 'St4qcdpXJRR4YGZCCj3CGg', 'Al7VEHZjl4IuzGkKSTmIzw', 'YStjup58iqf8II-tI3K1Qw', '6iVQ9_yW4XFmo3wGTObGlw', '1PsMGIk34-6RDclZ5FkNLg', '6jRKZItBWCn3kWvDIjvmHQ', '_pqukuwQt58z_1T_6E0ZTQ', 'CWRvAECkjgRBml56QcvN4Q', 'ytw1BTzp1xb7VnpRTKO6Lw', 'kKTR8MZ0AnBdAjYyFrvCUw', 'JMnN1m9c7aE1Z3HPHYgjkA', '0FP1hfY7BOsByqRMknk89Q', 'w78-hnhY2xXA2q4YWqGj0w', 'ZhiOXbcvwqJQMHzkAzabFA', 'i7VGBBsL0qO5FeLdugb4qQ', 'FgiIKKgZExD9KEjT0pro3g', '-E0rqoiJQeN64HYcCy4bkA', 'HlosHjp_WobPtaHSdkhBaA', 'Id_OhDmj76wVP2SL-UpNdw', 's7Xc2ICH9po6ujzSxYuhIg', 'UCVrKzBtifjt3K65o2bKAw', 'vMuFuVdfErCcbAdOXt67dg', 'neGu9bGs-iXyTJlzH9KQTA', 'diQRsrZBkYCt8HZsbj06ug', '5eETDT7uxCCyYxw8HVoFHA', 'ZgBqMMB3YVflQva0hAjkZQ', 'UMV2lAPBRGj-PvBzWw94BQ', '-79vbghTI4zviHi1aG9H6A', 'nyHVHMTWBpwUZL5j58z_yQ', 'SwVQ4gn9-EytDpu3rB38qA', 'O9oPSr0KhOs-Wo9kuv_DCQ', 'FQG_DuE1dgGmKI8pqZmLDQ', '5IjCF6x1lvCmIgT5ykpJKQ', 'DDWB4qyDTluNNL0BMS90MQ', 'XKMfSZN74FLfjdRbTz_k3A', 'XJ54mCydJ6dJS5irRADDtA', 'OkseoAeT8pxOSxJQXfHs3w', 'kyehWMaeqiyqEG-kkBibjw', 'Hb9ZXdLSKLUYXHbkFlP4Fg', 'ENejR5WKn__nQu6eZ6X1UQ', 'AyWqnDLIhzQocGyg1QORSA', 'tMfqybmmrnw1tPnKRParDQ', 'EX15x2CD5VAeSDZ8k-4TvA', 'e05PQ49wpqbOf8gohsW8qA', 'fbkfU-hc7ZJXXce5Wmc5ZA', 'ldtYPldi9SXfLqYlb0ehlA', 'MnOOC72bPJFCQh6F2q_S5A', 'KbZESTIx1lIgCkiTL2uExA', 'l1yY9tr33ng3ad_ETkAbQQ', 'c0L72hmv6ErFCi37a62iJA', 'ujDaHnE7ZcWEMJhE8NPLxA', 'Oe3ZbublGjaXLK6WUUVuLA', 'YsbCpdPaUx9RgGpd1TPLvg', 'faP0pRG70IEqrIrUYO6GhQ', 'dsULT84cqQmTB0SmXUbIUg', 'Uzm2qh4Tgph3kxKt8GS56w', 'RMmtTPgevOI-kiABgLpt8Q', 'PzldT0Ze8-q_BciGim-rUQ', 'JVovFKVeIA0faqDM4Oe93g', 'cZGbHvZiti7rhEnOIMTobQ', '3T1R__vZv-R1_Db_gdBHmw', 'RQ1TshwSCBR23VADELgwUw', '_lJWGfUG7amtkZjlgB8OkA', '6FjB4CHM46IRO6HiDUHSMA', 'b4tTtSkI1owgjGs5CA-jTw', 'Ccbl0Pph8xXMiG9f33AZKg', 'lmhH4HjjUW26Dt8lCnSryw', '1UkHFeIx0P0kR0htVwPpPg', '0wqJxI0-5ZYTGJWgAzdGVw', 'VVnLwfDqyKL1vCFsEERSgg', '4q4Zst1NPGKFuaszvu7WyA', 'jlCDR7yl__6mofXo4NsOmw', 'yrunHb_92Kj2rRa4Nxu_kg', '9IV_4dMVMLCfPDVk4zmXyA', 'vXX5CyULWgtzMaqPhWMq6A', 'I9e4sg58crHkW1ly3F8Dng', 'LupykdlfI0nlYnmlxvzFSA', 'UTK2loADrHRayjKwyJDIRQ', 'Ve86QIdteEhLu-zgMKNp-A', 'd9eBc9n9YymrqbKWcHMRsQ', 'H0y6I91t5jkv7GSYbo_eXQ', '3cjH545_q3tOEkz-Lg6i0g', 'o9_OgpkwmevJ4_IeB2SuhQ', 'vLKnODSx_rn7lQ2tWTCpzw', 'GJAQvoSvE27pZBIpgP2dxg', 'uQFQOFgCY1kEuhSLVf6ZuA', '52_zs5EXYyZ9YBeyyYw-5g', '6lIthQBckhN6x4aGBaCxgw', 'kWHOIUSOm4lPx-eI4or4Aw', 'dTj6V9zp2JbA7XCtfWnLMg', 's7BQRnkWOkoo6ClHYtTyRQ', 'V5aa_eyaAJGnfD07HKdQlg', 'bGLtoilU2IQxLAMOky4uig', 'Z9ZoBFFrzgGFJqsVOTx2MQ', '5EypLBwNeiYDjMvDBaYtOA', 'MVkzTakvYK0ypQjxoCsUkw', 'Kja6e-V9TWWQ7ibCu090CQ', '1wVUAL7viRjP-DWzkEWzQA', 'SLecrTtnvzl3lWHyttNN1A', 'M7ox7d3cPr5ghKdHG--97g', 'pOK_AxtP7wRhg9qCYnNvPg', 'eYYtYl0q8XwKg3Sk33B_Dg', 'cZidSNZ74JWOSvBblJqukg', 'qjvBgrCeJfyUyvipWG7BIQ', 'sdWHsQ5LoPIkLZ-e5D-hIQ', 'IFCLs4lJ6DLC0-JNZaHKBQ', 'yPxEld4fnPcgBbWqYbcj4w', 'TLjdgo__UT9rve4zTacbFQ', 'TNa1Ft9Nf19RVNJPMlruPQ', 'XAvLwnKqxMbZPV4MH-XDZg', 'qKQbUuALrgW2PQ5ZPGpSjA', 'k2qBkvEACsQFlKB1kdte0A', 'CzRqXv_ktgyxeCoxT8uAIg', 'ypBUShNbvs6QWHzhzcr5Aw', 'jurkrzSXImkc5PBS05zOCg', 'hCdA1x0glB2RcOp_WoNf3A', 'GEo5YGuXrdH1wpNrb1ID6A', 'eWpkHNNgET5tkKucV4m-ew', 'dMNWwxm4M2fQ1PKEeP-owQ', 'LwU_iMGo20tpHs4Se19ONQ', 'SPiCgX4vf1_6ejBJQT8uIA', 'cmaAE9MkOFpiBHG3zh1BQQ', 'ClF4lMC1YE0wRb2hEYSDRg', 'NL6TN_pV-9vnv_WetvInrQ', 'lD1g8N74AmIBULi1EBb1xA', 'VP5bTcz35PC7Uiek3mjUhA', 'Qpkgtvl1zMwhPpFYo_Qagw', 'oYhVDbmjQVWCEDbg0vlR1Q', 'PYyJz0_BW5eW_eN6EuGTvg', 'tyVJXjMKyXqvJOajDBuD9g', '4gZ1nkTB0p7iPNoqHRrFUQ', '_c-Hd1LBtCBESIPYKW426g', '7XBOHQUNwll0Fz8dMwAphg', '-CFK7OQWYAm8W7PIjX7_DA', 'l34FmXzFbYPFO8PMDauBtw', '_pfymSBvrtL8Q-BHdsEviQ', 'pUuL8XIxxv5hSXImz6uDaA', 'n2hdfzYgxL0twgfSDbro1w', 'CzpPSbXC3eP3mLEAilyz8w', 'D0KKcBhp303dePinzVXYCA', 'C2MVl9Hfk_NnlTittNv1qg', 'qGPZeWsucu1f77nZ1cK6ag', 'hS7I-F55-wrjdraPOxjK7A', 'u8RnEWPmIFzd4CL15B-XHQ', 'pHxAdTt28MfVvF1uAqEZbg', 'kvwcTVQjOaZbGSx7fRJY2w', '37r3RqKiM97iITpcF3B0oQ', 'SpxxK6YhJdPMVl9xseU-9w', 'E-WWXeXD4vqrjKoSDemreQ', 'OTkXFUe0UvxIXNDeaMWqlA', 'GUj17v0oHP96WSRLD53Nvg', 'EHdr5IlFdIsChYCd0gar_Q', 'h3xVuOCa5wx6xRD4WMLKZQ', '6V1kdOVUkP2KIfxHXrXykQ', 'F0col7wFFzB4djhnTMmCSg', 'QtnhdgKcjxJvFGVMpzDFhw', 'SGUPPHiz7wxEi0bRnbonwQ', 'sgAexRrh2EnEb5gdXWlNcQ', 'jA4ID-5--BVbhzfPSDQLrA', 'pj1csZ03vwrTpKJy4kKXMA', '98BMpn3HbdtbV5WrAoKkxQ', 'sNmNtyO5a8jGwTNWdtXPlA', 'eoSBYFnTK4OuW1AM-Qmfsg', 'A9P3XkW0g4A9GJ0eo9OSDw', 'gCppK2S9ABdDB2YDlFv_Lg', 'hecCnl2INnADT9PaYUbY7Q', 'ZJP4HmmMcuyQ0XV5qYVt_Q', 'AarigxZQjVY8Il2j37citA', '6PWyacfuP_bVb6pwHFFnaQ', '9fc5ciIZ79qd2aWZbaSyHg', 'RwYUj6x6HM-pmki7eE4MQA', '9a4xr1WSLpjXOrQlgKhrzA', 'dWWlYPF4y9zy5VqBzwQ_EQ', 'UtSDM_ngYcJ7t-9rC8yEog', '2wq_eNJoHUceBKV5HoMc9w', 'W8kkuKQK3lGSEGh3ArTkhg', 'R1zJetPzjzARmn-kSfhw4g', '801QEtjG0fPsmA6e8ijqzA', 'q84FzTxeVFZPwvEQoxA3zA', 'g7khQ10Hzf-DtUCrRJ1a5A', 'sn0Vo5XkzozTvluz7OsowA', 'C3Y7lwJmJAXmXXLEk_b5RQ', 'YTzAyOKk2FhIqITJRIz25A', 'enP96Dtr6Ahx9Bsbq_vhFg', 'ZzYHBEZ6SXGvFoz96DF3ng', 'SME3-cyrofj7XNu1Yf23VA', 'sgrKgoJG9Xuc_7Dyg_3sBw', 'Rhxjv7RcvyKnGDDqkS-w0A', 'R--B6lqpnjyhxbyVaZ53ww', 'Qzxydku6Rm7ly_Pal_RMHA', '8RapCW1l4-HH1jCO8mx9Tw', 'D262gRmdeju8c6aqD1AaSg', 'Xf912j-RY3VImM9B3NXW0A', 'h9nDV8tBjvPoXpa7Kns4FA', '3IzbshbOLmT4CyIS81_MWw', 'X6EcQOAPzA7n4hGumT870A', 'yszho8tWZSohAFWPxba2bQ', 'mMGSpL0xSg8oRtYl51LkMQ', 'GRzzJVNuN2kReUqV9C-f6g', 'NTPs0l1vTWcDaHgI9tXyAQ', 'ZFtvhzzdjPz6DMSsSBvINA', 'lT3m_S7X0RHiwOvdqVEamA', 'uXgV0AFWImhRu2nPBXn15A', 'LLJ4aUk-vCfszyk2UfZNrg', 'RYe8fjDjWQGGEouhgfWLIQ', 'CUxeMFptxNtV-oNLvnnXEg', 'aaRq-QWm_sNt7JrVwlsHFg', 'NIvWgAuJJsChJlTYIQK_yw', 'yJaZTbFXEVsSPdTzI1MSNw', 'o9VR7NF_IsvXw35YXb2ZuA', 'WNuQ39KAnkgBlOckGxU_9A', 'hN9MKpuFQ50pjoz7P7-4-Q', 'KfyzoYdDutfITQQM6crbKQ', 'dc1WJXrPirVlk6H8wzlXgw', 'CTEs8YdeOrrA-BB88SSDzw', 'dV6yhlbXCr03bFghNqdwvw', 'nLssfCuZfBvI7SMLWzP2cg', '4vzU7DkI1Ti4YrjypW0BYw', 'VwaNMfL0oMfHWJ-WsyeDPA', '0FsZrLUn3Kp9LMy6gMZm2w', 'I3_XOAk6HUVM_iqJVeDtAw', '4Sg1y2fQWbVKy-o_b7QgEg', 'aTnCpBUqM6acx71VppJ_Xg', 'iJVa4kp-erTPRYw7i1vnFg', 'UhTvMGhecFSPSqZLE9tDfA', 'eKY2aE6BH6pvHAu6oeZang', 'j92apEygHhM8c132AMzz4A', 'gTiC2xbvHZJxpzUVS897Fw', 'O-DbWGKamQS5y0aFQn_q2A', '3-e55gcpPoMJrwTy0nzHtg', '0RmgMYZud7xfG1-QfmENYw', 'dVPqkgjLodU4xuBt-GmJvg', 'ryc1dbcXw7_4udJSiYXKMg', 'm7BVoYeBBdbze6OBvfGENg', 'vs2kLTcHpJ1AH16316RijA', 'O4EmidF2DZKjAvCoRSan3w', 'b3ihYhfXvmMExrYOEFUzSg', '7-01ACLQWiB4jF4V9YTLGQ', 'gmyg_vxjKv0OR2oUjJJ3Vg', 'KNXVDntzW_EA2vWBYJaVWw', '72lZciJbq4zchH1uTNURFw', 'pQwFsJLN8Tad-ivqkpIjcg', 'x0FSM9cj-k_lG2sNMJg10Q', 'MEzLpdqMfsaloLbKGA-vFw', '0x1qg3MvKEsRlQW1huE13g', 'yDbDrqP8oh9wAQdpqRMPCg', 'n1KC6-j_Wui_dDyWl77E-A', 'VsTS_WmMBXqKbs-6mYjPNw', 'fZ-u2tgHrRYeNSZvujHv1A', '3fwMeu_Q5OZ_c-0cqSvzrA', 'XFtDfTmMtFluQ-4U2xj5qg', 'TT39BLg3umTJAFlqHqG35g', 'aju0LMGSrcaYh7KfbNqH3w', 'CF1_utR8KCrEpoJLu-GkTA', 'EqRo7MQ8nG5o1R4qoLTLow', '_UitGmeLW_pux7Dkm89EXg', 'Crv_qt9pAQXzr_ZvMWU7JQ', 'xKvYoDMdEfrEHMsHssPLGA', '-HPV6qtIwAZ7QPoqrICFeg', 'hbHQHUPTpg_4oSHrOAZV3Q', '9Ax7lDOZ4geSDjOm8JfAGQ', 'iuj3TBatfJCpVdYCscom6Q', 'fxRtwRCVql4y41NO_vqrJw', 'oA_JM4l3_RS9ia7LKEb0DQ', 'k_0uNYJTY2IRqXgm2eJ8vw', '8dsHr6IWBYCbL9FR6cZHwg', 'rtVLwiW2fVPvMjA2P0TDHA', 'YmrqxDHl_vavofV6oQZYnQ', 'ZABu3nIhM5sVCCLb67nHPw', 'ViRK5IM5AEknyf7nQfs0Mw', 'f2XvImxZrVc9O9Tb0EtZkg', 'G43ArKYu6imtH8CuHB_2sA', 'eM5Y2DOYaVPuIS_CsgLmiQ', 'MzMeltNWGlKKYAtZyiXrqA', 'iimccfcL6LstAqf3y51FNA', 'r6CcrtKaoICQestrKhMj2g', '8pE6Pc6scXUe8_SVc9iQqQ', 'b1UCNeumuxZAr3nR3IOgNA', 'QdtIjrMD9ek-FtS5gryr1g', 'dCaYNZuUQ6G2J6Z2G84BnA', 'e2wlflsoeWl5LMjJlGZ1Tg', 'gC4JvSeBECM6DbP5V17Vig', 'T3xk1thyoQioVImUlaE5ww', 'T8gpg3gs_i1Sm9Swtstyqw', 'M5ybnvvOcNtLdC8I64ZRsw', 'DgsdSpeGBYNK8fG8joyAyg', 'GgQXZdfYxsq781GEzWNWPg', 'vI4kSaVnL2zZECiOZ4KNFw', 'qZ9owYDmAz63yI9CdOoQ0Q', 'sjIIFUFAL4qPYcszBGheTw', 'M2s87rnBrygeO4UfEzdYLg', 'eC68ZUwSn9PbvFI5Db665g', 'nAOS1KTxIMckW1yS4ug3IQ', 'kZ1pXieDIowzUHBQ6OHNfg', 'IMLHFRrR_G7txQk0FJGonA', 'a2aNeHA-a3FKnOxRpPNA9g', 's0W19QOPjb57ejJn9ogUSw', '3Vwk8i-CItIMUHo7Eh7OBw', 'sYf0eu-j-upaeTzMaw8iGQ', 'yPi6ah2Inu8BlKJ1r1usPw', 'MTzs3QClvGUjhvntY8xngQ', 'gcDYe2CJ28EjmwT1QLZOPQ', 'FjiGpUclL1PL6vLErDBkNA', '8uFG5UNOAI7bhHBJEQJrcw', '0IV4CR-yLhervjCKRSHT_g', 'X9KlTHs2goq8yURwNt66nQ', 'VLaoLLxdvyiEX_cq3_dUXw', 'BgkmhJEnbga1ZHbAe1XGGA', 'Xx5djG4ybsZj1UPtSXpjAw', 'InN__1wzWys3w1t5FFXclQ', '0Pef3BtpCwqSzN358PNf2A', 'pe2wSoUptBf2vl8VhjHzMg', 'oYmsOxGjrlin5Z82102xKQ', 'NPxaRt3MNLMf_U3EKfsmiA', 'hKDG3kznHQlPnAntey1BTQ', 'lnqq0K6aKTBU9ofs7UJ9ag', '3ep7mCfnY_xH2Ua7cnhIKg', 'KW1NUws_PzqI7741LgP8IQ', 'PqiiF1lzHEJHDMRvOppQ4Q', 'TOoU7iZeOgtHMOkJPeH50w', 'jJjgDBq3HU2zdwWqARc-gg', 'tcCQScl6TNp-oWyafO0oHA', 'xdMzLG9uOF_iKsJd0VwzAA', 'dwtC6L7bE-IsxqWUF116uA', 'kWW3aX4caIzDRNusZTBmMw', 'zMrHxPnh3Nl5wBnENHM2VQ', 'u55oXTdLS8Ny6tIUckG2pw', 'jsDOjbp9w7SpJKbsYYyZog', 'Hhb1T-O1d3v-9sXkQDLTTw', 'mQu-Bg5Y1GnQDTaDc4nyTg', 'ezG8BtG1IjHWPTs0zGLCbg', 'Z9j-opNMoOB-3oQ32eJLGA', '8z4_wxfJpR43RisOVvBztw', 'NLlYMhT51T8X4niEzBTJ0w', '-YqLBYUV85l0eug88jZe5g', 'JxdCbS_wjTsyS6zO8b_C5g', 'JpH3J_i9hR08e4imnXoY4A', 'HzHACEb51Iu-DnstSLCxfg', 'qdVh_PcSBBcf8x_cK1n-WQ', 'kxxf3ZotHt0DDyDcXh-dQw', 'E0pnjLdAeFsDw3uidfHHmg', 'SEYvDnvNZgTT9e87b9kFRA', 'Ti97-dEQr7tRvzC5w1mi3g', 'M4o0aVOfViCnWy8-5iYg8Q', 'jeEOsHEtYQ3t0bbpsLs9oQ', 'dGcMmrIMxwiJySquxpbkmQ', 'Nv4K3DEhJ8JKDDA5cTX9OQ', 'Np3sUgrXm1mPYSuuGldOPA', 'D_YqChCh5Kna85GZFVV6Fg', 'HFSMPDk249EeFX_rOzRnYQ', 'EHWC-jPQdcjyttSDFAsqfA', 'Cw6jIR0GKOqnn_DW5cY-Dw', 'ZCK6WqLgZsUqqXfTZ4FOAQ', '-W3pMmgtwVpwMkHzgaA5_A', 'YqXOomLBFoB9v5xR94eyCA', 'xhwQhFbApqoxYxAGK5743g', '0pFg1D22MKeWOLO6J0A5RA', 'BlsFf81Kn7wwfeW20LEYng', 'qjt8GZ-tf6WzKvYKESc-Ug', 'mDFrS_0684T2lc8FOOYafQ', '2V526ny3gf_oZHMyZEECOA', 'FJFDIOQIFTjN12MfuXqyTQ', '0zdwfycNX6auWCPU9wqEYA', 'JaFYzVGjTevF4-pUVqeR9A', 'dgcvXzTYanvX9XBQD6E64A', 'jY2C92uzUzD6PyUqzlBCOw', '5bxSrZ4xle7nctYkm1x19g', 'N7rwrxZBOj2jvivOvkWXVA', '69kwFDY-cUKUW68_R3VkPQ', 'DetmLzU478JAIPVXLBAFAQ', 'E4JuHMzxvj0LMr3Bmh17Kw', 'ro1JiKwunHk6TvdyTGFNsA', 'oU35rSaHuDzwn8ifk0BgKw', 'liZgYbZo0yIFqerQmo2LQQ', 'rQe9IfDMEkYAm__ZTbr8Gw', 'Sl924vjICdXkOTfwUeL1lw', 'fUm1-8bqKuEMeKliM91OXg', 'C_S-FxvRERkR8xkOnR9ZIA', 'BXjcrc5ylaVPEWrwdRqbSQ', 'CzC7wZKqBaM9JgvKYjLQIQ', 'X54e4kP-5upZ1HBkhurJsA', 'Coja7HSTXJHhENTx9AzgpA', 'IRCP9k4QOg7x0mGij9F6OA', '5EvHQKw78jFySV_w3Dnpyg', 'gPjdqM9wnJcx3lH0BjCGAg', 'WTJjNYE3Fg7p8hkxeemOTQ', 'iUAbgwPr6ji9Rdkb84OTWw', 'ksKVBjC9PEpb5bLnhjBb-Q', 'stU2ePNWx6LqgizZHsAtWQ', 'J6ErPkgSOk1erYd9StNoyA', 'ebEfCsLExSbkXt43xP9sXQ', 'L7_9dY3vMlkrIVZOuoNTmA', 'pqgnHdDWeiYGBDvFepq8eg', 'JnCK8iDlgopRwbXeSRCIug', 'e_pFjTJdSh8LVBtMwWnw7g', 'ZAh-prZMw6qhWx8GwNiAHQ', 'JBePHoKEmmolvwmubh0S_A', 'S8S5nnvgJW4qEk5Oym06sQ', 'HNVuOR4ApPsh52CnWghqyQ', 'EbOPigEiiCjaUv8OS1wZcQ', 'hbHrxaKs8nflCYj7Vnt9Lw', 'ivWgFWiSHY1HtmcYyt1riw', '7ewjHZzKTpdBd5zLTaZO1w', 'Tx6s86e4YAsOoDmVl0qsFg', 'SHkvUopC7692dXrmDYQPJA', '41olW9Bpc-NZDTX9gsiKpQ', 'mazvgbIO_7CYx8EtKjp1kA', 'AUbrfZMYb3tr2ldoBdZ--A', 'OxVv-4D9bk41rx-YtnPQBQ', 't42M_m27kJHl02isXLbcuQ', '16gQKQKWUb-HaIIuqo9sdw', 'PdncdowfyZVmyJuPWkEd3A', 'f3LKp4wSuu9soAwIJ2ZSLA', 'YiMXJ2ikjlu6yv7cuv3_TA', 'bpQxAqUAc5LBtMuE3-GdiA', 'xJiNUaidyIDmsfC_D9EqVg', 'OCP9ibFyu49ywBcLdbd_fQ', 'C0OSEaLBGY_syIe8KwFR7A', 'LbDcBJUORulsg55re_0AWA', 'meR-f4md9p50saxqaelWpQ', '9y_vhoZulYJih5YH9Bq6cw', 'KgBYwocsHebAT28eM5h83Q', 'LoUwLOv_t2j5TgosTbOjsg', 'CJASQ4qezVxqqo9u-MeFCg', 'ZNt9WPbV0cDh2nuWE23zCQ', 'DhxY2oARZ3OKJCnt6FRE0w', '7i1E66An4z1xwFwLKXcWXA', 'kIPD4cjK9KZXUb0QUwufDQ', 'X9qj60pDql9OlawCzEE0Hw', '8oo6KqMj0ZfxCZICJJRI3A', 'gnfeT-cIO_1bBxB7i_BMxQ', 'Wg9-HMKfffoG0-iTKJb-FQ', 'IAF4xco-G4qSAwwEVl3wLQ', 'fhHnLJLfubnAlx0yL--JwA', 'ODB_knOv9JZ_E4o1xQC9hQ', 'iIhvZWRg6DZYE-9l2xpR4g', '_jhOSyL6esRZIH588b7Aaw', '_l2FvhU-WHdUefiW_47F1A', 'u6_WeGHtYwiGysYrfAiDCA', 'DPl_SGVABU_CHcA0guI-tw', 'PMLRf--RXPHpFlPJ7nU4kg', '0HnJB20TDGaQ5lK9TalYbA', 'CHiiCWM8p6DdZEkhCJustw', 'E-2fCI9jloKrtzQrVQQEyA', 'MJobZRqfkrSYTd9WevB2AA', 'ml5HFmwDOn_P0-b_tOvayA', 'K3zc4KuCUvQ84kYWAm7ZDA', 'EknCGlglbHLAFOo2sQ_s8A', 'bl5dE5ImGXCRFoj7Z155_w', 'K6aqfGfxD6d5T8UqYW2fpA', 'bfFrjiyAMWRXYNaYV8VNPw', 'GjRxlkVgjfScxLUlGUnMvQ', 'FCMrR4m7sKPhnyS5h3vJNg', '5UpTznYH4znVPmd6lOtwmQ', 'GLLXS45nR2oUVL6DWJvtnA', 'cGHmWozavX9XQB00ZYx59g', 'rkIB5PRB1T6qp7VUHzjBHQ', 'gTHiHjUBrLYKOJ-HqaMcPQ', 'tfdib2wlpCD_DGnaxRAVnw', 'pfEGbD01R-jyiLGWvR9B3A', 'gtZLTyc8aIBtHdmCDaOCPw', 'kp6zcDiihPposVwq2uROGg', 'Jy89Pjsd9Eq0BVKNZtUZZg', 'i-07Go-Eop5La5jK1AwceA', '72XrLG02ufR9eQCQr4ipag', 'aVlwp1V_3BuLlqIkhGJLmA', '9HkNiayn2GCX7CrBXzEB7Q', 'cUQChV6oWD-BMXfl8DGcdw', '9VgivNozn89_7xMr1KRJaw', 'kQ8OqPrkoyy2Lwf2jukjmw', 'c2B1P6wA871xH4Uslr8XLg', 'ZEMoZlJDoO9P_eizh6cD3g', 'Of-Q9EgQdtRtrKwFzo6Deg', 'Vzp0EJgA-5CGxg63cQrsUA', 'BjXGAVnYVytxcUQ17cdwUg', 'kXL17t6gxx0p7vJse24feQ', 'bFEhcoVhifP1gZc6r4Wbmw', 'HSXxBUDVJimldprApXPQ_g', '2a9uVALoPZ7z10u0qDHolA', 'fTdMrQ5LO_CIahPnH8MQmg', 'fHCX3-24b2fkRUQBs78ezA', 'nG1_xlVWA8PxYicKg4kTvw', 'hCV3uYNpQGgH6wjCaplpFg', 'FE_v1SianXyArdLW8QEWtA', '3ZtMuD2FC6mgo45gADLvWQ', 'IU2PhFyS_NgLQfSpuJK9Ow', '1pBgZW6NQDmSUXXl9AXAIw', '9nyO8Xz2L6jc1TxEmK5VCw', 'pFjvCsW2_6u3pVC14A6yiw', 'Vrl9arzUnYTDDiwBna4SMQ', 'hosgGf3A4BEtN-QXHAweZA', 'dLpp1P_AUedsSmpLGBF8aQ', 'AKrNXAKIpMQdiZKSqkrgeQ', 'WNQCGi9M_IxH81Tyk14t7A', 'GEkvcjBLfRE9d3CdSUPisw', 'KmY19ETF5k3HpORWIUaK1w', 'iXRR4pQ6BnnQaFk-tnymog', 'V2yfXQHN6pPUSf35pfxVZQ', 'omkDSMrNJUcMeUlXFeh2kg', 'Rm92cgDGb-c37jEnjn7TBg', 'jkaZjDLlZw6O6IOUwN9PyQ', 'FKocJqf-CFR0nEWj3NsOHA', 'oppbz4LR78dJEM42YPD-Dw', 'JIaDJM-7pwohxHGjg0gN0A', 's6-J64s_Clr-OhKn2QSZcg', '8FYAWlliv6q2C5d9d-zaIA', 'K1yOdbrWAnqKWNK3WkD17Q', 'fjq7a6o5_HxIzgZCctg6MA', '0-tgg_PDsC62Gpe_Rz3pOQ', 'QdZAT7U1aoU2MhOfj_5jvQ', 'og38neB-1xmFFEUyqRe4Kg', 'jLnDzGE8sBuQOwlN5v87JQ', '5Wn8ECSFnbEZAqhPGZFX4Q', 'EWQQGTGI9JcBU6yylUe4TQ', 'f2jpvjRWnJASZ7hyL5HbMg', 'JP9UyTFx_MrTO0FAopwyrA', 'LYUIB0U4S3pa4q2al2LVcw', 'y_0TA1YRkVgQvGQARM29gg', 'pVOomvGw6PkZ1EVcM4Jz2Q', 'ewnEcidBSbR0QInd86BkCg', 'b0DFEDAtEhjYJaKujUQ_5g', 'IKKTvONozsLhP1v8RgJ_hQ', 'N4VYPxJkWqEjG9TPOF3Q6Q', 'ZDVk4XeVPCdLT1bjoMoh5Q', 'bVMdeNhUhY0QjDuz87KdJw', 'FY3tKsGskugc7wndUwUQlA', 'qkA7N47ChnNSJQ9eXDzHkA', 'Tjfy3ebJuAktYjI0CO1iLA', 'R-LRRvwFrZVKcBOBAi-mCA', 'eogbe6YZ_2Ly7xKItre8pA', 'P9bp1NHWxVDzTUxjCvkrzw', 'quEitlVHfue0mUJ_-4QqJQ', 'jgmIsYVvP4wbcw7qkGSWzw', '1ZLZVDamG4_qca_-8zjLfg', 'zyWwva-79vlPt8RTZ4_Axw', '-P-UHxJTA6wjZGuVf70UZQ', 'NoplHrPLA7hvXzJpYV-Aiw', 'kIynLZCh75N4FwcrRMcEGg', 'SxBrIOohI29j68UkNeZkbQ', 'Gxmk05gAHzCyyTDSM6m7UA', '1bB7eLIUvFISGRnIaNrPHQ', '836Vrb1C783CXFDGnpkFyA', 'nwQnj07sbhYOs6WidDppvg', 'lB7d2JUGofWrAyFjb8T7qA', 'dqb66oBTRaa7goYP77gyig', '7dY1_RiyHbZf3H3_Jar0Iw', 'HO73gS7C9nQsocZNRrcC_g', 'XSd8qvbHrkeZF4gJ9rSLHw', 'c_8aK7HkvLGdJxaHyk99Xg', 'cSYiDyU5Xgt3itJMykQvYQ', 'CO2KTShStyK7i5pJsx3RZA', 'tgoT6dvek6XJoZLNXUpH6Q', '5insyKB4HcJrMMoayKUw-Q', '4gH--qsbJ2K_Bab_zDuQJA', 'EhNMZGp-xdmdvUIAnuBrfg', '9tbZR34jUz7Xhgec-JhPXg', 'WpIjpjVh0pyvodz8ziSrQQ', '-y-DjjHtV4gF41XNhm5edQ', 'IneqLyxzogkmdTxNfrQoPg', 'ybF-rvImPD8fp1_u6V5cpA', '9Ed2bLy9yKmRIaLpMbpqWw', 'CMWBBxgfQfZnfXHrllm9LA', 'x4sok3yOLBku54ZB9OruHA', 'qcPilnm0ktNzFXIU5bP18A', 'ubnfPZTk-xXpgi8l7u2V8A', 'qCn0wzlHySQ8LdLsnz_mWw', 'RVnE7JPCf-au-K4VEFczvA', 'qq1CxyPBKyOs_fwUTxUtpg', 'uXUbIlybPU2ZAABFRygeww', 'oqbvDg2THwdw_zSRe45JxA', 'j68aiEEZEJuOTr_egW8nVA', 'QjdGiEnlbifhW0x8dUqmKw', '-mZopWztpYvqotyS9sDTMQ', 'i7Rj81TJUs2kG0RntSwWNA', 'GOEGV3xmsJU06yASAtKD6A', 'mS_QNrwLNDR2UnyjhjCsBg', 'IaHuE5fFYDunbv62YwnzSg', 'uxH53rRSCRe2xGvghrbXhg', 'lFe2ZEfok6bwRjRvC0WS8w', 'jerq9lSGM7x5xMCcTp4A-Q', 'uysp4lreHUvUuLbINnTvrg', 'c6N6YGogFKEQUo358U63UA', '1yYxDEsr6bKEdxo6aq35zA', 'hmASMxONfSX5CWVo4tZxmg', 'CStTGqpUArOCvI6AuqPO_A', 'vBP5-tHBlfsdzye6Ni3Z8A', 'jOCJYHw-9doRz51vXgsSNg', 'fvG2179Uf-_DHM0G4-M95Q', 'GzaXUA5n2lzuFkBAuBmzNg', 'Gqu1SV-IlCSFY37rTW2xyw', 'Obsy1tVqNGk2Q-RRfbnJLw', 'c25BrH36a6aIJnZEmZnJzQ', '3VS5C9iD-YT1P7FWZKPIfw', 'cTfCovKw4ULGylO8Z7HtrA', 'aDzm_jmG9MiL7yBMSNNLfQ', 'qOPmWMUXPOq4xvf8hCFuKg', 'JCAyDJ353iTNkXNc40yqNw', 'EXDm3MZtOPekzjVWSuo8BQ', 'G0Wc6sj9EI75xmTN-B_G6Q', '9xucDkkii9XMYcOv7w4p2w', 'Fz8_tDO7kZKd4pP1WY4FpQ', 'AR42fwodAT9GD8AI3gSgDA', 'e6k3tuh-mcXDDUy1Qsa4mA', 'Xjww000TBFWsWL88jwn_Qg', 'YEe1hIJEVs0trTvreSSdkA', '7sxClnStI4y6dOCX0glDsA', 'pcPr7Lh8AUd-AL2a4IfzGw', 'xILk73SzMkGy_mw2adDL-w', 'UUjdQGudh9C3z5tXiijsfA', 'zjh_s3e-Br07t9tt972KAw', 'abKpDwKh2eQsbstsWKevdA', 'CjhKGdUXzopAjj09RmbyyA', 'b199GQma3Lfwo6aVwZ3_Eg', 'EBIb2VGQG6voJlPN_rf_Ww', 'sPLEYFrk1qVLv-hH3lAEgg', 'c6kw3j80n_U7DpNv58Lo5g', 'ek7g6o3QF4Vi9uy493GU_g', 'VShqTI1GPMmCcs15PjH2gQ', 'AEtxfbLJxZs2bM_uTkMFuQ', 'c-YHlI6gSDiJ9s3TzipKZg', '-L4KxuFKX5A8dWVq7SXnRg', 'XFyO1OKPVk5wEaCXJGDb3w', 'tI-g3RH6UFpeDXnFsk5ZkA', 'ZNQFh90E6rMTbUux9NTYoQ', 'UQHuNsy6KswvpjEGo-SA9g', 'NgrpxCigcQpToce0U-0vHw', '0hU2D8LpO8sfnyE4VH-8jg', 'SXGjuwiALM2DBZHjcQWezg', 'pbq0r25mJzIO-Bh-KM9kaA', 'Yx0BMwrud1B_NYpT1YdaDg', 'wKJCKKJi3AR_3rWPZAcaAg', 'OtBJYaaFnKLCXnkLU-ItAA', 'zzTYN02CwE5NSZZxGM9CGg', 'xr-jmbt4GgGFmCaCewu7lA', 'VvZxrbRNp9BjzzsFlTeeJg', '6X9-e9u5gq1G90l9pVP8nw', 'Kj0x9rBvfTBVYjUCTfEu0A', 'L_H1sZf3_fMqMPdDNYWFlA', 'EkL8hnM2bixvDM11Uta2Ng', 'LenD1aab7OPny14jh04lPA', 'Dk0Wh5FqPq_IaGCyoFG0Ug', 'NScfWPe7CPhVSeBIqAjxfg', 'N-ggzyNraPZhOnPbRcbXPA', '6pfBohhxCvOHorjbq1qJTw', 'QY4JakSZy1JqncAbQSeRBg', 'XpkdrvAOPW-EZ19swpQXFQ', 'LrG1DVoTXAFo2gq-YmqJqw', 'sWeyQAImRs3d-AxwexvFrA', 'DryWkgatbd6-gCCxeJts9A', 'ZkQBzuhimfQC2WaDvvhpMQ', 'JUsqqC6hcd-c16UKDOLaDg', 'XV-uNyX4c_5SGvgIIizyBw', 'zY21TIi_bva95aXtWb23AA', 'IIcDd5siiNquBhGEYsmVew', 'kJHio7iXzI1desF_Ynr17Q', '8K1dWqP3c7KbUGfnyN0TRg', 'WyNy6O57HQgKF8z8YtKh7A', 'ytg2V39RWkuBWA2LnKfoLg', 'CmqTPctr5w64LEPZBxiHAw', 'XlkdKYDep92B4SH3DdPJQQ', '3GahkbEkxZenHo6-lc5rSQ', 'p6M2EjTXAhtkovlmAmRrBg', 'PwSdXTPwNYYgkpnv4IiYPw', '3cSVHVXTKfwNg-Ua8NjYNA', 'oFeAQsD1j6peJFXsS6-Klw', '6EsrfluOFwV59zMKyu4osg', 'pMMrsaI2bAxr4J4IcbMzLg', 'SYfKt298HnWW_bn_tFl5cw', 'vo2eEkQ2fRiuN-1G6iCz_g', 'eaRScFOeQvLl4Yryqz8Kgw', 'OB3J2UB6Of2G31oM_C-K0w', 'ICBN6SW0W2Et8qKRqmS2ow', 'nWakQNeaO-O33YqLkzCxKQ', 'his5tjdfrht25ssCIU5boA', 'grJCDGiW1Q9Q5QINrRcf5w', 'Re6kdLBCg_vxFCX5yhDr8g', 'M7kFk6YGYW8EBKHj-x0e0w', 'vVPrAhcor5dWbhr-b0qxGg', 'oOisFyH7EHCsNLo9nChcFQ', 'vAH1qw0cyWyhIXy02Yppjw', 'ZgnktMMbuhirrjtOcUhfrQ', 'jMq3kxu4TJytAeBhwTIaVA', 'EvhCQoUbwxDVeFSHchyS3w', '1UiGDxhZI3Vxa4zRrE5v4g', 'Iri3_lDMFu6CGoaKI1wc2g', 'QHnW28RXkEoVVps9fIdUxQ', 'ujQxK8PVx2_8Kzi9SfIfsw', 'na8iCzezs448G--Ka7NaBA', 'KicEjr6jVdjuSK_DULST8g', 'D_qPg_9KsPbMNWOT8XtOGg', 'N0x00czb4WClVlKzTwQldQ', '988VpTn6D_k5SM-mLvclbg', 'w-xZQjtOKiN85WnplFW43w', 'vni9KcfvZvJTcLTPJbA-fA', '63DIH8RUBuyyt10rG80LYw', '3IVQKPcVy38-V0Nso3xgXw', '86qwo2JH1W-cI-9xy_GOdg', 'Fna9KPI_TYst9DWFBLg6GQ', 'IIKlWkqebQ8TqHUcaaE6ww', 'CqQ8OUFnCK1THvK4ettvyg', 'h3Jn5ekFuinbmJGjofzSVA', '0CLAbYOIdjzr-WqZSFrQng', 'U0ZMY4_zEoj66sGhR0yXfA', 'h1iEJ36N87ZeFu7kmEItBw', 'lB37lJSXjLuOe-wsEM3ykQ', 'YMI_P777nGAUug-KDvnGiw', 'hUS73SEVW7_ag5p4bnNkog', 'eSLY40JfMJh7SmA_r1Y8wg', 'kYopkZ_iBGK4VfrDGbwk4g', '82nC-8cjiNne3HTbgbSF2A', 'U1_6jEbsNX0lbQzCOKFIFQ', 'DzjjbO4XlAodBL46BO2_sA', 'caP6pRu_7bHTjsDhi_qOjQ', 'wyfsQBHdo9RUc0TUNeKn2w', 'XBOPJJsOScguxL7F-a471A', 'ccLP2Rr1071mJcUErAfqmQ', 'QQkYzbgqzWCCG1BT8ru9Qw', 'Kc-E_hs5RFDy_sKZ4WAiQQ', 'lzIjTj7qzscY9jZQARFx0w', 'a_xUC5WupVctXaSvtrCqTw', 'UAtPjqE-Fbv2hzibO7Az8w', '3zGmrlmC33uh1JQOMwbHkA', 'tMalQ_J-Am00tWWDi4WlwQ', '29ekFSjt_C0EDa7s1DWGxg', 'TfMkDoGV9CyEZWxfTNyuBw', '0_hm0ClgwDtO0dGczBoe8A', 'CfAJ6lHrymKUiJrs90w4Bg', 'U25KZe34Mk8NWN4HWycT0A', 'NJ_NNjJPNFMcQzD9AhLjWQ', 'ldzICAnVviltZIQigCJ3rg', 'MpMLZZ2zv-5a5ShSH0TIRQ', 'Q73Vy7wdTIiWtHtSJcFyew', 'RWNBW1Mim8GuxXZWGgtFRg', 'cUGkz0LWQGzJ1qDBMpumlw', '2bZnFbxXH3s57rV-rPvDUg', 'GQ7TXUftE1e4ghie-p-Gfw', 'rsRYsyftkD8By3B0KuyHhg', 'V4jOhcKS3V6X-45_DsGabw', '7N9ktlSryOe58bXbufEJ1Q', 'Ndtqxovv2zqKt0onhAIo8w', '407l8ZY77e78GKB1rPwTNQ', '56xko65soAjEk-SroVBg-w', 'UCHuLnkhLyV-Qq9FgXI53w', 'qoJTeFO8fIrl75Soy9347Q', 'zGWs_m9gos6RhgG2alBcIA', '3ONMTR07AN42oBOoevWztA', '_nfhDZsvJC2iSBlISNaw_A', 'dLuJE2iiPP-O77QzO-Ao7Q', 'tJE7Mbq9GALGqBG73rFYLg', 'R4w5j8NZRxY2QeK6RCxzww', 'AbV43Nfa8A5Y128bJvobWQ', 'qvOdVXcQhtS08KItYeug6g', 'QJmzxwJOj-qyhYO2Wb9X_w', 'Cu1YqStR4_XM6daVim2CKA', 'P61DMIluHFe6v12JwOthMA', 'VKUrCXiE9pOBiaUnyPuSeQ', 'ogh07mMqpe1ejlwH67x66g', 'aXx3oTBbZk4L8l-drYPapw', 'kvDw3Hw-SZ-MxjNyyFdrbQ', 'C61Q5ovRv18yRI6jHQkHHQ', '8PRWkr7u2RR_mSsAOpqjjQ', 'ZgZlsOpN9s7JNpP3kIfwIQ', 'tBCIgjnw4nRBoQqZmIY7Qg', 'sMayCuV5SvGY7egKGynxGA', 'Xja1qODeGWG5wzv7SBfkNg', 'jsF-MLZmfy9UeFX9ydyEWw', 'EmmNQrzC5QM1UqE8WbtNUw', 'DpnuPeJwvqe3sCCAraSmmA', 'CO3RwXnjV4B8cIsHxBf-rQ', 'e_nf7uB_VfiVNO8i02gwqw', 'R2cThLyuqll7VycP2rXqdA', 'v5QW05Y54sp3JalqpI9P1A', 'U4e9KYP8Nc6H5DIxvbdVbw', '9LYTjP6D00I4bVOEniYMSg', 'Gm3fa4-9TA51-NLRgfCRwg', 'FIaMBCfmwKP_T1QrwaG2cg', 'r2XtVb8koRexPEu8oc-9vQ', '3GmfzusFcz4KEIkzDOdKjA', '1sLLJQhL88LmJs2uH4pBbQ', 'tPgFjndMLRvlXuKc39lgwQ', '5NnT5lDQYYqs9eO-HLAORg', 'OenTCDtvu7gxv6ntJSuiWQ', 'xZ83ZfS_MNAVPzrNUopBRQ', 'OhjEdaDjhAHSG6DI-Lqngg', 'xolZhSyKmMzR7AM6sKHjLw', 'MGTNtRUnZ8_eplrDr4l2Ug', 'yZCBmw9kGFrUR1cSpWHhSg', '0LH8Crnn5nAD4zMjQPFYlw', '1JsV0nEcMjMJCd6pcAyfjA', 'MFuWhPeFk4upJ6JMesWWBQ', 'WXctd0ElVEbJLBI_HTwi_g', 'blkg1egfhrS8ipRB_rTMFQ', 'KceE_8V3T_cDbIi-1Hrqsg', 'gqKMlVUI3uuDgWduBNEW2w', 'KkoZJ4clAitnFN4yTTtWXw', 'Z_KaCUNNfSV_tDxuEjkyMA', 'iWUeU54QrnBTJcaDGJi7zg', 'u3gkkXfsOHUqzgOG7bOfWA', 'BtnOu1FJZkxCUhsMmO8bEg', 'j0XR9lG6bfaq12KAx1qRhw', 'FjFyk0_3fOxR5i_Xee0e6Q', 'NoqpZQBr4XUGtC4hYo96Ag', '9cF0UG1cPk9A6QuZt-rZmg', 'iuXIZZlbQchXQxTpr2bD3A', 'L_H97-0HypC7Dlk-ln3Rzg', 'N6JlXc4PnybkcD47sHnPyw', 'AhbGF-PHMXHvWeNECeruqA', 'I3LgXP2Op66obezY5oiQpg', 'neSDOnw2dJa_Pm18sn6C6g', '00IwNKer5iEw6hgwlitcmQ', 'erK4nboppPNth3GzIHRpzw', 'X2qxpWuhENqR-QgOQIpMPQ', 'wP6iY-APCQHPaK_QS5LDtQ', 'hmcjs9r-6bemx5wJ2bwrmg', '3EHk8AEaHE3adVN53XCuXw', '2rDIHZFJ0ScVhEfKyK_oUw', 'bRKyTjNmaLHp-Cr9ZQp7kw', 'PWFixgI2652Ky_2wkHrZnw', 'wzabKweYU8estQosWletVA', 'MDm-A-dVHfCJo7lLOFZSBw', 'qsA5fdoHexGd3KN_P0rzfg', '-TDELQMMQd-koa04G1eyuA', 'nhb7t5ZHCd4P9qM6v_oUwA', '9Gu3e0nkkDxsKIFcuctvMA', 'h5KNyRJ9nhy15yG4rJD2nw', 'V_teEKp-SsWPo4tUbbhtug', 'iGaXBL2j-aP__5AQCV72nQ', '1OZK45NMVdzhW58U8jdtHA', 'nOCQiwbiOi7Kc9FNzAGO1A', 'UVvWwcy0lZX9OJ6dryA2VQ', 'Wc8wPL2xwPj7y1MHvGpXvQ', 'YiJ7fGXkHPZ3NQrgOZBcjg', '7lX93Tx917IdGypdXsT5tA', 'zzj2PZfZlf7XHSSIpLFEKw', 'RgC5cKpUbKie8R_K86zwpQ', 'whguDTUc9lhzBOakDAgpCw', 'dYxeiG0XBAuACZXdlXcN4Q', '22LuFrbqzIzVZfiDCDKbPw', 'LpE2ll0_08q1w3FJAO0ntQ', 'RPCd2wxgl8RvyXEC6TJuHA', 'D7My93qWrLlgvJm1hoVQsg', 'DZMqMNXXPlGvxbAhMr8qsA', 'ovZwafc08u79iOaOrGgwYg', 'nzz6XKKF2qu5PJGoYk8Tlg', 'FOXm2f8TsBm3VYHcYVpU5w', 'uJ1mi5OUSmk2sik-AzQejA', '4ORXx_zdwHzCfKoU3XJV7w', 'AFzvmqeHjPA-6HDmhHQduQ', 'sRc1Tk1Bf_r4bq-QIkXaVw', '5fZuDiBgw0L3wXWWA29nBQ', 'Zch5xcXaD4I76DCw7KUMwg', '9YrZp-LVEkqZJ59tiIKdWw', '-hfCRKFxSIKdSgou-q3Uvw', '1iqODB7g1veZKDIWpOz5rg', 'KvNxErbSBOy0Qo6_95IxTA', '4hbQoLH8P_KLMSkNzw778g', 'GcCnT0B3JxEKTPIMygEshw', 'RNX8RpkhNtkmtms5XMLi_Q', 'nSgfXNtkgHDiwf18PFqdgQ', 'B6lOehDeoGsxgKctvFrCZw', 'h-gV2mMvCICd5GuS-2HkjQ', 'gHcHCKZcdv-ZZ478nG37mA', 'lNZdRW8QqAKvtn5zZEJZTQ', 'YG8bSdOBa8rads27tYbc9g', 'V2APMCAzodIGU-q9ZftO-Q', '8olooPPxeM-kMwIXN5jibg', '-hWOmhZQ-0HxnvGooyjT6g', 'hiR9kLi2x6_WeK1KIXlcDw', '0YMeRHlh9rt2xdbyDFfkFQ', 'a6oqYbEOrNSAGZEmQTZ_Ew', 'NdcF7i8Xm2d-FIYcKT3uug', 'tiOU6R1j5hy0e2u2vqulnA', 'myNC7fnaHYxLGWuVPKMVUQ', '12APDTZm-eIvpOhQygQUIQ', '3chbhSkS_VZx4bBe0rNaTQ', '9x2d_N-EIXK8aKo97n6kKA', 'vlOp6txIc5LdTnuFEJFeLg', 'GAThQrZWsFRx9yGSeuI5ww', 'yIN0AT3gCTSE_PLNGdt2tQ', 'ICrXWdJPKfZYaEW0dtJeOQ', 'K7Z1-xrHkGq_PBvkn0jJsQ', '0EnEcJyAz8PZoGsTHLEqxA', 'pY1ax8g_N63ZLp_nDEP50Q', '4vayrKHU7wlyXrBPjcxBTg', '9iZatM3YD6WGaGmUo5R-sw', 'i-Edb683Qrk63s0SWn7I_A', 'Sze6prQooTFai39OlW1OpQ', 'VQuUq2TAL2u18YcPce_-_A', '0lTDwAhjUpkDtlJgzBQ1GA', 'bA1dMhITfRKWmpiPfaBQYw', 'cXW7d24n6pUQ-srNCD_nmA', 'WJU1qSBW86xa2GfhcHO9qw', 'bgknEnC2TR6Qq-uuocokFw', 'NDuEn_6mycX1nrMLq4qNvA', 'DHuqYqaJqii5FH7a-PEbLg', '4CH0ku8d8kQG-xv9xVIgHg', 'g6vRJOy04dwKiY2fk6l_5A', 'PelSOijELLLHADVzOBH-ag', 'aXmK8fXpfIvDNLi853z5qg', 'u97vVTmS-vvg_qdVQ7OyFg', 'i3qs0px3dpCX9DgCY1Vgew', 'mUyh2s_-sSNW-KUHh6fSZg', 'Jf8_0njLvzfSpPDmNvCxJg', 'Y-RjIIDkAZcQvQVMPFvxlg', 'KkIkkL7vQ5WVF6AhY0V6fQ', 'CDQVZl7M9ms7fxhuFcCM7g', '3TcuF1p0zRZjcUl746zIzw', 'CHFi-gUUXo6moQHWQi05zA', 'phOTnI4RNBcUQeUkYpGORA', 'iE01pOmck7_1KKo5H46xDA', 'ZKO5gKiXcUYgx0dPo9JADQ', 'HmYjOw_ojuxlXrz9SsHE9Q', 'XAlJJXILmkGPMnNYQ-tBCw', '1KAOR-Gkq8CkXim1GOiMDg', 'xaYNkToTH0OkNGNFxtDvOw', '5J4kQI27P_5btip46aR4EQ', 'czujeAbDXoTf_Su78QtdYA', 'eZtTww3OeBAC2XtE8yYGCA', '-ECj5u97pC_8fPTisg6Wig', 'FoHWMqzO23BqXyWr_20aDQ', '0RjyiMGTgX4jpxSUf3dnCg', 'oNs_ca0morGgJ79FnQ6jcQ', 'SVN6bNn2UqTGWYNXyvGdIA', '7BtdPY6NEI5RmZ2hIqmw9Q', '3a0V2tGQkjl_MjW3m587ow', 'GNwIsK3LW08gPRz03Z2ywg', 'oCohiHiKyXarhiltVxrvew', 'TrqRypJyHrlfbENBs-P5_w', 'emPuIFqMyyQD-LrRf0d75A', '5upo6jZHzyxJ0lobwd4Lgw', 'lSrqtwbbpvCVXFI5h_EVBQ', 'AZVK76FDoV0iKq-NDtpH0A', 'P3WaYIapXaHNXbea7owMSw', 'nIzXU2Aes-snBCgQWV3JRA', 'ruLi0FFBuBCsuKK2rDc16Q', '1A0tPwrT0Wz0gk2YfEArew', 'LyDX7v6xI6jPCDIeKAtjHA', 'KuaqyFgTAE6i7Xfv3pc2Og', 'Gjd5dYLjkmdfF0XbzwgGIA', 'KgYLMvhF1Kviskd7K1f0gw', 'iaHBXw6vKO2BS7mYznb_Og', '0lDKguXqgvQ2NEtyCGGBAA', 'lyjlZP3lJ675P2vXKLpEfg', 'SrJ3zISAKWCFO2gtnR-U3A', 'V73HecKqQr_FA5227_O7dA', 'padj-fAZJd4b01PG_kIwuw', 'j_fjCB5McdXNWflx3WCNXQ', 'Saz4o0tkX5nQgIS0LhhuIQ', 'glPAZoWnzcDbFRDqqbqc8Q', 'IMymGtI-SiVavQG8CL35qQ', 'jJ0KqBVtMsT8-aldWepzxg', 'XPWmR6rt98Q2DHJMmo1tvA', 'WJvN7RCUvhVKNdNex_P0Tg', 'lx6wDlhYgBxLwt7-AZ1RaA', 'c0eEYK3g7DRgpd4j-zcheA', 'IW9A-ZjVOwuOhxt1fnMT-g', 'YCVtwseGlGFqPWmG2ziGsQ', 'hPlGRFJFWpe50f-NcSSf4A', 'ZMENfFo1BAf5stHlCv098w', 'MSs3AwmMGhKfWtsFgG8-ug', 'r6-ONR5ERjjuN80sPeoptQ', 'jKHULntyTt6Zq-CS9t_vnA', 'eh3v-xyu3AxpEq4_L9tRFQ', 'x4Za9ZFL4F38B3AWkzfZ7A', '7_85Rx4z9agrRxfGCMVBPA', 'IY530cRUe7UxXWhL_HTUpw', 'nRj1BNrbT3uGVQ-kVIKABw', '3daLOsCfY00xUpj5lO0oeQ', 'Zk7EeF2tPB8vlwuMbrxLvg', 'IoxviqN8vfLM6x3pKsuVkQ', 'Li28p8E1KaiEL8ZS_ybszQ', 'NAy6u45DjcKD8MpHvuXtGg', 'Rywb-o1ct9MOS52_lodWwQ', 'DfUuH43BkxaYxkXGCRsnfg', 'UQk6odiV4eUJJxVi6o_mPA', '2HtSSrap_s7g3o6u9PW5kw', 'dCsvHWVk5h-OWVlTW6MBlg', 'oDV6O2AKr6LsUGtFclMPxQ', 'r2x6Zl7ayNKgEgR2_jfEyw', 'nDc5xeDZdRELvblEacl64A', 'ST57n93PeUoYivCfRIVtmg', 'W_mDER6v2vpxzW9Uiiczgw', 'q_3HAc1EFRelCX_8mR9dXw', 'UEtqayFulfPea0vvxoAv2A', '5LRj9zq94mtZM3BrCJ0zYQ', 'zT1UhEddXtvmtsqhZSi5vg', 'OBYQjjDb8MyBPjOBVcolTA', '_KpPZkEF68tf45au0Vf7Ow', 'wlBs01_sGO4mMBQDPITsvw', 'b4OPn2EyGs6eJcXqI86vig', 'Q5HXCqbW87cDwL0XtnXJ8Q', 'Dx_ycwy0Ag1hC02DeGBX5Q', '1NlmrlbDAe98vAtiRkVVAQ', 'jdhrDUN4UGqtYQeLu0D3OQ', 'nz8MK8N9Af6qNwScQ9wO_g', 'hQ0GuO72LVI2ygpY6yW1UA', 'CZXjcDBA3wMgJom6aa7kbg', 'dKVsltTI9easDsW28AGVLA', 'IgvJOy3jMymraroOp_OPGg', 'A995Y677wBPLJkFfEKy0NA', 'XUCoopHKHIeNFbOw2phY3g', 'xaCAz0Q-QxC7xzHxwyv_3A', 'YcPBm-Gn6MC5SxCT4nXtpA', 'MJ7HWm0K4wh52pFWptqCCA', 'q_sSeOwFEH1R-OCnk3AY4g', '7fFjT0CbEcTxvABakg2HNw', '61zBKhFR19zrEPaBZ_5Lnw', '2t9GU0uIuK2J5bwK00rYZQ', 'VTjdwl3JMR9IfrYl0RXhBA', 'tcjNwt3MX6rbo36eUsu3Uw', 'txsKoVHGJ1bQU3zpvQtgKw', 'DjGE0Jf8MS-S6rLKVVmn_A', 'NPJhuaZWKMlrKSU8z9zRHA', 'fhB5hJufSVN_Igh81Jtdcg', 'ez_IWYql5EmFd1VAJVaUwg', 'neqH9A3wvPxf5txYiTalSg', 'Kmhc2xwHmkU6eHY56M-TzA', '4jKBv3wxkDDGXSvxglQ8rA', 'ZYc2MnKvfkZ_2bTuW2vv_Q', '35cwhOHBjl59-sp4GR2rHw', '_AasKPz6OYHxXBXM9GtBCA', 'w9CjGp2XCs922lCUlFU1Wg', 'QKljLx2uLa6pci-T-Fyjyg', '_8_u8D86ncjorJcTwML2Xw', 'JnMCY_L3PnzYX9a28l-D4g', '7700CsFsEMhX5qeU1Wg-tA', 'EiVU7_2dqXjD2xQ8rYBlMw', 'sIcg5D9Qh4bggECg3IHA2A', 'MWXq-tkZGPb51huFI0z6CQ', 'UcwipWWtma5Dektx2SIY2w', 'xxNhuTkuqMHlOsWOcMnRsg', 'phX1JmBWjJe_TiUR2WeHVA', 'Bg2oyLF9FUDfScR5MdeVew', 'D873-204vzmQ2l6Vn15UTg', 'PWwnIH4kXhJKOooK65Jw7A', 'msJcObITTMZ7wyp_bCX2qg', 'UNLgsZUan1WYtHEc52wJ5g', '3sduRxEQUHJMnQHyyrnL5Q', '1KlA_h0fF1FqelLXgy5YaQ', 'dfowyiEk7WcJ0EymINQKCg', '6TRybiJmEIiFupRigHj-Yw', 'Vobmw0kTv1rgoBt9sYuKuQ', 'TR5usbCQbFanWbLEjT3_nw', 'ECmwxSKuYhBL1_eYOoY4hA', 'yi-NVwMgzGt5wmXVZMgx1g', 'K40zD2j5Se73Nvg0JQJOfA', 'uRCgXo-_a_m9S4iixmq0-Q', 'xeb3Jtxyu8OvNE2QtAH7-g', 'A0E5wPPSNhOhZJ79N4FE0w', 'Hqh5j-W9DKRsKU4ZiUCRWA', 'WniVLCEDDKInPy7yDNa3rA', 'pQMwNUXNj0mms-Y8piqOcA', 'xK12n1lS3Td24GYxNyYTwg', 'lXBhb5JN-js69O6F02-GNg', 'UlhzDqN-1CZSbXmHFFaaFg', 'WqCa2Qhs5gORCf0u34I-8A', 'Jj1cFzCcmkR89kXslxGpLQ', 'Pr2wWZItovcsJQytYUE-bg', '3legy-mUDJuk3U6DulU-OQ', 'XBhnTHht85ANwwulbqurkg', '4jkYGELJXM4-g12YNR3M6w', 'fx8qxEDBCcYh9RljTOEgww', 'OD_QjTCnnAZgRey3qff8ZA', '6qIrWChR_ICwTn1hKyi4wQ', 'e4nL-WQ0oOdGhls_18Itug', '05USFUs4dX8LG6DCY2GNAA', 'roq81X11EvKOLyZVLFo1fQ', '18jxXe2qo6Ff5oaZkHXQ4A', 'WgdYPP3cKRQ1YFIQj_ILNg', 'vvF8D3DYTU2CoUtiaozXDg', 'fvWQsNPeDUiT36WKul3vXw', 'hGfWfArlfwJJwWGSkb7C0g', 'l791A11CPM9jvEB9j7X-WA', 'YZVHK4-rEMX_NmyyOKYn8A', '4wlk8c8QSJpiuczqVpX9jg', 'KZ8l-F5qj8ai7tD-VvwDEQ', 'veSRUM3pZYDpVt0HNTGt0g', 'csYCCUe500_1JXDn_Ka8Sw', 'RM9xFAOfoAPZxc90vybSUg', 'qz8x6S_Q_kaJ8pxlkPnEQw', '-4GrXwN_dr01WYxlkkv4bA', 'gxZzwJD1CheRUSDRMwtsPw', 'TDR_Iol6n4v1wInx2Iuf0Q', 'rLbVofX8rivVdSWAbWI4Dg', 'Op2xrD2o0-7Zfz4ae0L4AQ', 'Gq8BcE1jK8P8Kc91WWNsYQ', 'WDr19Lnl6kfm7vKhIq90cA', 'eNopklKwPfHOEkOJWazgAA', 'QHeT8160zNaXYMGRQ8O2sw', '_3rWfQ9RzF97-PXgjsU-fA', 'NPLMQiRA5CYlVnn_fUpajw', 'JV_dLjh_13BqMXHABGEqsg', '2BHOO6auOHM1eEtAYhUeFw', 'pG-hOu7GxLg6CUuthD13-A', 'wzUYa__btr3lFeXK7clkAg', '-p4ZJII3zxljhZvpbYTbbA', '0OuMW6fybnGrK9NZF6Fx1Q', 'LozwF-JiR6ibXK38VVyx_A', 'k9KocVMsKjm5ReS_SiAPNA', 'igifC3tKga7cLGskIdtInA', '_0FuSmoFAlOOHMm-YGBwNQ', 'LLrEPc5ZWYaVAL8yeaQ3hQ', 'QP4KrcKqdkok6v8k6g1lqQ', '3SOLbSlvT9igQpp2M5z00A', 'TvRpDwdlpkGYeBkl7vtTzQ', 'lbxG7EHcG-LxNdSh6nZamw', '8dtauT7KHFYPkmnDwQGS1g', 'LXK97pd5ecEANraK8vZjog', '0BxOkKwbHJWwht5WbOVDxA', 'kAXxsgO-3xZLfgKhdAZ-KQ', 'S7EFS49_VigfOY85OzAs5Q', 'l1NhCgh2RUQxlBh_SXLTHw', 'yUcrDwAN0-jYRjNFdCopmw', 'U1z5DI6XeIINx-B0w5D76Q', 'mT4DslZT-7yD3XzYwGfBjA', '_B-CIeBoURSEUCyWJPYcIA', '7S0qy1MvsDNfl_IfMSA8qg', 'yIuFU5_bfnRukcAiu6NLKQ', 'sySKcIF0Wdb8W_Hx-SOv-g', 'e5opD2rhns8-PKdMsFdD0w', '6uIW4rz0CiqRnJW-UYzeEw', 'Wl12IQnOyF8zsTjrJ1WUdQ', 'CKGkGra90BHrwxY1prJ6uQ', '4vbF51nuZjjPlRoy7-Xkww', 'ZpHK4spLTCNoz0iFuDyVww', 'eugWwmL-Vx4Sk0CDh_5eeg', 'PPAisCc_ceJTGh97wiZmDg', 'FHiRfsxwBaj73YvhmqwHrg', 'sWA33oDfBlM1ByB5XKeCzA', 'bN2bl_Ue5AkDf6kuDumDYA', '5UvSiMipl-BcXK1jIa0iuQ', 'VF1gb2F4pu6H9AMBpseebQ', 'zyMTYRqzMONPF0H94MPZVA', 'YXyYHeVhWPNVMRcjbsjLEw', 'ffXqECbGi-fOLVRqZzSn4A', 'FB6BEtYgT02yrb-rWSMztw', '7pk2Q_AgjIvZd1wPrf6cvQ', '2gO4ZwP7j5DaisRkdYZ8IQ', 'LX1UmZJHPzXofkHrKBczmw', 'yAfqquLAboEIawx4W9bqjA', 'uhvdEc9Z5LO6Xvla5FF2ZQ', 'ekDwpEMB6UqTcLg1TC6rvg', 'AQSpGQmYa1AeX7OwiNY3BA', 'm_4jkLEBzk3OF5po65EfyQ', 'eIOYI5C4GFIr1cUlpYvypA', '7Tn9K_C3jqEEBTt_JnacqA', '6hD_Y79oebD3MvTOUXDztw', 'D9Kptdg410ACoGmPSl-ufw', '2W-XF1iUb2Gpzja3GQztWA', 'Ft6mGtK9zvhFf4C5P99H2Q', '2vkHpwgysizmEbvtqTGAuA', 'mrItPHZIt3KQ3NSg72j4bg', 'Ce_bNcVhsHz5FVAG6s-mAQ', 'Xs_D9o-SVUGa__agGHSqbw', 'WZbIE5HsHShrckn_vCNQ9A', 'LT8ZF5VG99tQfHnU18Yimw', 'M9lJu2qRCLormvw702FfnQ', 'b36b0E1fV9iJ1mSQihvmpQ', '5pFFRHI5xDUXyiG2EquDXw', 'mbg1RnPDw2ZtZN94zZpJ5g', '5BNpHAl2yDsxh-yQ4t4qEw', 'RehsiCjZMtgMEi5q-2d-0Q', 'gihNipZ2p_IthEPBQaYpXw', '_vCk2Hs9sqHtV8jSW3D0hQ', 'RD7yh4Flzt2WaMXG_xjxew', 'ts2_MTykHXtGG9hTkIvvBQ', 'PbhOZ8K0VCmiL-9KSHTkXw', 'dzcNwQwzI-TxHqeuew-WAw', 'moRTC3omqNLkoqBbT269Mw', 'L8EXLUS1Dx4GhnRt1otnfg', 'ifV-MdTZOGaP6FfS7pBC9A', '7XhMBP2C2CWs5sPgTzRIOQ', 'xE2hZH6_KBHW0fnexdLPcw', 'z5prYjWf-cW0o0nK6_MtkA', '4l8ey0d9fPPvSGTdQtsKjA', 'Nw0pNggzYqZMtW0_U0cTTg', 'nrwchanCgxEJmmlTBtTUMw', 'pCVMf4OzUNfHWfaMtsAbPA', '5dr961Et14zVtc5eNFkbAA', '-NGf4GlYR-lFc1vacF8n1w', 'CXFimxqiAvvDf3bLIKs53Q', 'HFVRtHls51lPBmQMK5ZtmA', 'Z4Zwn3ftIDpKOF3JFyBoow', '7zmoxGyFWP7HBcRvtS9Zgw', 'xzMge_9JnvnQidI3sqjPSA', '-RvXTwAfbXFP_u5pvFYIjg', 'ed3bzweSPW7sSEauX-h0Yg', 'CzP2cCJdjIniNUCoU9tZnA', '5ag6Q-sUsiW2jt_E_cuKJw', '5THpyTMaSWrA3FPVMN_Yyg', 'bp0BmJPBbN80VFl6YgXTYw', '_jn_9flw_b6Os5Elh9PFlw', 'NRv3LWy8v-6YUzn0wErHxA', 'jqOvJcSc1wEZuYVREAZWEg', 'kb6o9Nvsv84P1IIAevSvsw', 'q9WnmHko_uYIrN5rsVpTnA', 'tow3vfMj3hJ8baP4wBU_cg', '-9J5G8jbB97ZwgyBf5qpCw', 'Db4BDY3gtN4qIRjWl5jGfA', 'QKFafXcmmsyEpCq1TwcsiQ', 'dXa6AlZghnmc4NIBGt13Ug', 'eqoGydwolww944o4zBmfdQ', 'QcSMAv-OTe3RpsiFsSJz0Q', 'HQDCkL8nct1L3C-lQZ74Ug', 'KRs58MYNzSUzaUHoXYwP2A', 'vNts-GvDPnOAeo9fJbuVNA', 'dGiqKA4JOhx_H3m0ctkmuA', 'faubvSybmirDNZRLQQfbtg', 'T_PUcdHyFcLtG0_U0rA9EQ', 'EtwJR7-1_0HQiT8F4t98XA', '2Uwa5qxnP93KGVsKZPyAVQ', 'NQDv5WknaA7F-3NgpwMF3A', 'jrOIiTiT7wklOzwpVLCfRg', 'xkclZowOo_kOG7qTaoA8tA', '6_9QyHmeI9Kbq0hhg88uqA', 'Ol1waE0XGT9NyK4j4rlNkw', '6hlEhBieCxAyLAAr2TEy1w', 'nobgHBjgthRclIevPD-6fA', 'hwNEAE1iN6oFYiKFV6Cy9Q', 'iAyBp65hjHY4Y1L-YSmEYA', 'HawF4oFB123P8sJCIl9hcg', 'vOwTf84IwLGEmdC4qDU97w', '_oYXChiDqcOvozlIjbv8mA', '0SUdc29WUDMinn0b8oNb3Q', 'sUYkWnfQ1zu9ceb2Nf0D0A', 'XG9hXNS6bFxzF5DpvwmJQQ', '1CSKbQ9z9StgyfsF6__Zlg', 'e1zmv-hwA77B2wOb84CptA', 'P02T_vG6MLBJVCxw_Tf5UA', 'saFEskuCjzShAqOLOMcuoA', 'rb6wR5B3EyL33Xx4nzsPgA', 'ig7sACL6gbslBzY6-K9lHQ', 'gdb--tpDFOl9n5xyMsw_xA', 'H8GGKNqNpBiOT25q-euN_w', '5v2UnlhpmHIsPLK5ab6Ymw', 'G5rOat8bLP453p4iNGh7_w', 'z4ZOGSta3uGJOlxdA1c6Qg', 'QPeDiff6OtWQKy6ORuTemA', 'R1O_J1n_BGTRDwUhOvgZAg', 'AKwG5gtE59x7663ZoaHLiQ', 'D89yORia43WZD8w7FPmVZQ', '3Zrnm1c8P3dS0I5j8pVsKQ', 'kuu99WGEDswcF9W5wBCfjg', '2ubDRmDEMGetGD80EUWRHA', 'lopwTEKAHjzX4wvEbcjgUA', 'JdzTXWtSpTnoRF0z2d53cw', 'z7NM9fgoW8WeseSi8KvEFA', 'sIxlIZ7VV74d30yqbHLtTA', 'fSDe8Vcml9SEHvyI5-jb0w', 'mEh5L71tygaVyEjRlvhyZA', 'uY8DpKtnA8ivw3RGfTu_Pg', 'XP-vOYK8Lr_hdoB-qZNPGQ', 'vdGUvKljZije2TdfdBjt3w', 'AQhp42hLlN4Odpmyi67rPw', 'QqN7JCc9KMZWaaZ4r8nvuA', 'LE9CozrXcPjMVSl2irZrgg', '95DjIfNbmwlIYO9-Miq_Rg', 'Wh5UWvGM4LGMKL5dJxmugQ', 'xbqmbbBjWwLVYEgD8msjaA', '1LLMoz67EMM0ocxau5ckXg', 'YwfHs5X1fCgj0kVI2DO8AQ', 'R4sSWuk3ls5Mbu-FKdAY6g', 'VcXai5ERFYBlkRC_79IXog', 'ZBD07Ko8qMLskdon1ImH5w', '89QQZ9yl4mE458SOZoN7xQ', 'LC0bnulDtPMPFaT8inmh9Q', 'nP4AdY2HJH5ver3rRMCyFg', '1UQwISs6P-bYE5oiobN5xw', 'UBvb2FwaPPLcD9KSW0V3_g', '6f-qL4sF6re1VP6mIpsU_A', 'Ri-PeWZFE5XgLwCdVy28dQ', 'b-es3ydP-F5QEenCghl9Eg', 'w2cO16tBMODxeI4fqJb5Pg', 'uOF-Im4kw2shSU9XDOc_hw', 'ShehcGJH43nH4JQTIzIUEw', 'TJeLb61wVGaKddf-Tbc8pg', 'xCDVxbujnUr-Le70Ka8L1g', 'Q2kpq8y_NbIWjOVyw0j01g', 'D38b4SDLwT3Amw3YA89O9A', 'Kq95nBIwYc8mn-wXCV2QBA', 'h3SOvOtFGKTh9s2OOV33hA', 'rmQPLlww9xu_2AF2Vj9eqQ', 'TzVHMsHi0M4K0B3HJDE91Q', 'E5mO8ALGYU0437M5rTOjJg', 'cBpe3Mi5-mS6HO1H8vIXqg', '5ZqlY0fTKEcRMXVC1-K1eQ', 'mKCySrQo7mZByrp4NdcBDA', 'oxRHncX6dXUNbiBfQIzHlg', 'Nj-_xw6ULxsVKEAsjh6KFA', 'OvHf4j04JjzkyRrgK7T8Ng', 'qChBpV46clpwax94RutnUw', 'LvqLIFUKiRVUPaqRC_sfXw', 'n3ITzpSCJPMEuURtnMcL_Q', 'NwZOBci6VnogdfqXkUkRvg', 'uiqepJDKBn1ZrRXdNpoeVA', 'qdBtPjqm_KZsC_cC9r-3Xg', '9O2QjehAr3ndnGkGyL2PFQ', 'EZ3lcktNQSqvgU5NZyRqhg', '6bo1tiGkHg7qM85DNYcgmw', '9Pm1c1zN_aVsHp5UGev-UQ', 'SLbAHmLIbI5CHQd9dDsLBA', 'lOrnhRxLKM1gEIT-X8lpzg', 'Pr98mMsEw2H81_RNwGxkyQ', 'J21XmPPgv7FpblL8F6Hxdg', 'RB-weMYlSi3gKe3abUiDnQ', 'mREFHAVCkuJANf-5UGoJxQ', '5zft-LhW4v0PLKxCXKG6lg', 'R3RsWMoXXjd7P2eZpGCkgA', '7lQvQR8vGLUGoHmspkcuQQ', 'MOW45tDOM9bBifGw485Rpw', '8dV3dLgJfoCRvvwOxVumOA', '5uApWKj-KCQuSVT0Ig8jDQ', 'MH3GzrY_EmU6vr1oQPDaOw', 'zvC6vE5NfTQd1zVmBOcc2A', 'V__tiWpdipIrbc5GQpG87w', 'wGfAgZZG_yF71hxSrgTu0Q', 'dClQC4FTKluFexyAGbUwCA', 'rrAwnpB4nmeIz7YpEDc5LA', 'rLLPNRj91IVEO3GjSxUiKw', 'dv2mt6V99dFL3TuupQEOAA', 'AX1amtMy9sXh4qPhQYJ-3w', '0bAS5ggV_8s6eqHTXzsYRw', 'uZKiv8geSJ55xUH-5GDKDQ', 'fZ0JIIGb9z4TNqdIXoHNOw', 'O_EdkJmls4sKtzlZv7qyrw', 'D081UYw2SEsha3GSy9zRew', 'Nuwf8Zxhy-xwbDDD1cdXfw', 'hQ7Er571PNM4bgOWsk6tHw', 'CurRY8NqwAEj9ENwEfehiQ', '0FkSxnXZ5H0c6yjzzprEQQ', 'BNVoQUcoZ8hnJ0fYs5mUUQ', 'woHBhFtUxeSkz23x14aF7A', 'vIsVKlx5sDgRZ_OgYC8j9Q', 'JdwDPQ7Oo9Da_XUiItrCEA', 'TfWNv3N65CjurMv-phYvcQ', '9SSmJ3P3JY0EFAZ6qT9S3Q', 'vaz61drU7KcL8UaoXAJtgg', 'NHPPfWxA42tpQJHfydehqg', 'ZL43e0AZkhfc_-Bt9UxMcQ', 'GkCnRq4aP3daen0rga3Nww', 'e8tWc2qWuM0oeKQCfa27cw', 'wzrIekIBsMo8ySrbZTWCWw', 'fFMr4cL4NcdrAg8e_1L6eQ', 'YSjciux-6-KLXEd21mw8WQ', 'htI0A7I_a9XTz77wiaqq3A', 'eKF7SfJRYhKJJ0KNNkySQA', 'qcKLvwYEkuiHUG-8ywXiQQ', '7Ukl_kmq_ALyxsVh7yCO0A', 'hgqOuxXhvb41ERIXMKN7Gw', 'p8NI1gbhY_AYn6Yu384zhA', '13PP-x_ouyu7ZwUoHo-oWA', 'ObD-KhfFwGXJ3M6BLi9dMA', 'YiMak8lMHDxS7I10M9SGYQ', 'NRQfWZMkm0ifv8woRooGHA', 'j03uZAV8uAyh81rwCfwqiA', 'ANm0yR47laiQ3Q4o-3KobQ', 'x47Q3kJgR1b4_rqO0iEL5Q', 'NxZwWVUAn9oEvfHtxZ2d0w', 'OtedOyJFIjZmvLJKiln2-A', 'w4HjF9cegsqB40lT1FpIkw', 'c2J464HaWShB-tFlcAMDhQ', 'LFHTTGppicMKn1ccySJMlg', '3CclcrQLUDVVRyOsyha0Zg', 'QVOq5Ul-nReKff0IC_kXqA', 'cQ0aCIGMYv-MNqevNYYMaA', 'yJzweBWvpmJRoUKUzmNmpg', 'L-I3EUiGza0f0s4cZee3Xg', '0tXIglUeEfnPbVJZomWZEA', 'F3QDm1q7MNCaIQxRtxtp7w', 'hI1958S-_wxmWNDmLXDnKA', 'yvnjAuS_TbUke1bn3KLjsg', 'DHxdBD750PltFFal2ydR1A', 'QWHAmoWVDrrNSM9W-6jExw', 'ksvmsW5_MWghBB-VlXExDA', 'EpqmHkO-uFLlYC-JSotiAQ', 'QkpEMn7-oVSVS0J1VgO3fg', '06F66f_T9dFalgx1CA5bfA', 'N-dQKaqEMww8iMn4eGom7Q', 'FFdPUhIEYtw9xGHazJHCRg', '6kFYua88c4CMovlCHqKTKw', '_yxiSj06zflKi2IVipTVqw', 'YCoEars-0ls4Ul3qiky_FA', 'JXafIXYr57uN07CoqFW0uA', 'Ppq9Mpxnh3E60JEhAwMVsw', 'hMKVpRZuLqaXY3Z-9Ek0WA', 'i4axlvCvOlSJ5v3xRTT1cw', 'LP7nI8ElOx14lZ-Sn5bgDQ', 'nvr21jqsu3CrcJMA8nGy3Q', 'qBRbuPSxYO_TMGcH1JPMWw', '1kZ18QYZGfbIoCsy4r2xEQ', 'QyTi3s7Unw_agDJ-EAvZoA', 'tkXHdEOa8dSLyWHQwoHtbg', 'itVRSfmpDudM7q9WxVUOgw', '6Y9f2aY4bS4e6nWI2-HrmQ', '9-KEvRpluUww61BcdoBzng', 'ldJVRD496LeS34-dZd0LPA', 'FL-wZ6kQqzg7lOQ5CO4Ozg', 'paZlKkv_2292cU0okIPhyQ', 'UhclbANPrC_HB3KIF-qzTg', 'VOj78lf4Pd_eamW1GS7zLA', 'maC5RnaPswceygKxsBt8EA', 'S0bc_zG1EptxjzF8ai821Q', 'Mg3a5FO-1wxaKMRk7RNaMg', '53PNmfZvSQ_itYjGJDlTCA', '8pQ9Osg0p3ZtwsDc95WhXA', 'limoA9BtEyv5YMd6Vbtrtw', 'sdphxGLzr6vpsX6BoGNr6g', '3c6XL6TCfRpIOaSrap-d1Q', 'vRW-_woOBogHDCYK4csviA', 'z9CuHj4BrOFsU6To_BYXAw', 'U_YD9zqUJRYjaflPoT6Grg', 'r2v-YylBlXMu1o3yYVUGjg', '4Z0ZFDr5C1r-K0DeE_RM6w', 'TJRjfiaD7ZzL2Yizpi3Spw', 'I0yWP9_Cvg2pXFytc9ZHRA', '7mAfgmyf3kIe9O9d-TdNzQ', 'y34AKd4JmMthutpO31fxcw', 'pl0Ieen7NjwDvbf3N3k5TQ', 'q5mklwyENWtkYX-HCMBrHg', 'a8MnLQIAjWrfA4Eq4wjEDQ', 'E8s5rGZn_hZAqnJa7Ayu4w', 'HqBBI6dOVlnfCPrrQ4AwOg', 'f5G2YKwxleb1PRgUyWdY9Q', 'ioOpnTVAuVjkZ5_t9TFkSw', 'KA_dNJ-XlO8hWoZDJ4at2A', 'ugQ_e7y2mZKyLuG71XnSHA', 'lQ1swlftkzYoBZuaJaY4Lw', 'AYbe1_2fV5qKQw5ZUCXoXg', 'yatH_Tot7J4Cs3MJa6-jaQ', 'go-27k7EeGzJ0vT8L8nJag', 'JDE-RTnWabkFf-f8LKCNtw', 'TMMkRw9g8mT6XG31EYjRRQ', 'UJviEDqF7bn0XIZkDQStvA', 'qmSpu66_27-GP0wBDUkC7A', '6O-uiqX7RtlmtCBV4zqd1A', 'v2QmX6rWInStgiJl9Hyzuw', '8w96MzZL0auygqOfPJPwvw', 'JVgG3wt2b27r73P2xRrLTg', 'WUXbFecn9sgX6Zmzysrybg', '-QAUdCthzUgPPtHhFqPMjQ', 'IoZX9pzd-rTFVBTB2WTs3w', 'Ywr96Xxm2tTIOm7jh7QqXA', 'iCo-Osci-gnLKhb3DUu1tQ', 'tTeuXJOvbxKgGdsEWJYyeg', 'FwPvC9i4TzfmAYKVNmsx1g', '1-RgiJUZ6jljNSklbHPxTg', 'E2Czx5nw1yasz7SHE8HwbA', 'Ag8cdPLsVZXWF1s6nm9nkg', 'oDe4Gv_2crBmzzephFwWRg', 'goa4QtqZtbiX_8kxYnpAvQ', 'AiqFq7ZxTux_Z824RxS87g', 'cyYfFVR7JJlL9X_rSHawtw', 'pENWMnBnpMlkzh6wYwE1sA', 'n0c9z4-w3K9Cg1USVukJxQ', 'CVQdSwuHTVfwPC2FodKM0Q', '6KghXNy_Hbi9EZ0R94S1XQ', 'AVa30Wj3pok_5g29J0VqiQ', 'OBpQ3JGaC9xDl8EVVs8xag', 'Cn4gGaieur6uNkC7hOjlGA', 'KDWMMzRZOgk6D4TuMhsWHA', 'fUxmK732TlrM9Mh7RG7_rg', 'K87j3GBN8qO1N4Xmw_zpzw', 'yTe1M37i3icOb9hL3w8qsg', 'yw3kuq_OuJsJSQfLzFlwmg', 'HiD77YV44hx7uT6NncOUdw', 'mY58T4yy8UiHAt5pPSB_AA', 'u8UNNz_1LziWdpEgGaTLvg', 'cRNuEZvQxtWYT0RmCHv4fw', 'CNtfj9533nzXdzyyYrpj4Q', 'ChsTv25sCUBZfT0niWJVBQ', 'Q6qG_jgAG48pNOruJIhZAw', 'hJE6FKrwAoxAmmwjZ4pfXg', 'G0rDsZnFP_rmkOwCfsMCeA', '2Py_aLjbCsDOkFUm0j7onw', '5vUgpXT1Ra2IO9dw-1ycdg', 'bTJq4kP8-TNrR2XY2_gmVQ', 'Rr7655nToQjE96M9AR-1OA', 'f4J22UpQfWyD-zF2pN2IbA', 'qKmPgoDwrOEJLEqzVdc1Rg', 'B4O_o41SgT8rb9rsQcVi0g', 'Gc2hP-BY_mCwHZvofmoCqQ', 'zSC_V3T3fs2hVoMjDWQT4Q', 'Q3709UtjGVdPqc5K1-Gu9g', 'Vqqib8Xlv9dkkMDgQdyBHQ', 'GGDrBvaHIb2ausTnFX4jKA', '76YAeB-g2RLJvPmJhSP-zQ', '7U98SD4b_86TyeGkwg2lJg', 'HxgWGnrhW6IJk3HCUZ3XPQ', 'NFoZ6auhg0B_6ZaZeeIt7A', 'uX8OG198wlnnCcVRKUG0lw', 'ZKKsUApFf2T1mEWSRkYBDA', 'hcvRrl8Q_t9cCCyMnOTCIg', 'KIsAZhDPhjrgaBD-MsZCEg', '_jF-MUHrkFOIb_2rLVJURg', '61sHBJ4gfthu0TEvE_fJww', '4unLq-ahwMr4g9FKXl1VQw', 'WamctCxFOTj6JCp6bh6WiQ', 'U49xy2YTI2TXm1sABmDevA', 'UEwMittQNRLc9956JjphpQ', 'xfxBjfDPSCgCID5wM462qA', 'Zehf3Ct12tpNay_CMXtnbw', 'Ct7WQ4PHa1hZKSicuJbgGg', 'mMbp0TlXzWv0BI_kx-NkIA', 'WhRDT6w8pMaHvsPNGPm9ng', 'DBP7yRPoCgHygAqA_8oKXg', 'rRuHVNBt7PXzaqFNGVM20g', 'xNn2bUUuctWevUOy19uafw', 'jc-f42kAyCFZKJphJxFiJg', 'IuD-lqb616rKkKvBHlPdYQ', 'ugD8D-9wYJs3Qh99dG5wdA', 'Y4LlA6l84aDw4bPM6EJYjQ', 'JdRARYDRZnrgr7nHD-1bIg', 'FftjzbEqSwhreQzUCZitbA', 'VTWP0RuipQtaXK0zLrgegw', 'c6pWFToidTD8BhxQvI7EOQ', 'wI47MFP6qMGmL93HI-K1aQ', 'B_yfugpEnq5gG_MsKMdENw', '5ytx2BJobRBbBnYwOhCcSQ', 'JBgz_iNvVVbOEGCA21K5lw', 'iJ8Uq_ozRqBEXOp8dnDtGA', 'W-VR6ttW4XLzdN2rzRcsXw', 'QL8Ic53avdVqGHfGY9_Ryg', 'i1U5uWRRz16gBGZyV54gYA', 'POqn8MAh5PGKJ8IgKcla-A', 'HfEfFbmZp6LsXcFQCrJOMA', 'ZvseP-bfvYP1HZIV-A61yQ', 'trIQbiLZo3keZbD-b75now', 'ByoSXWeDySUpVfx-B4Oapg', 'kUiVNrpN4cKpsDqcUrI7Xw', 'BTsWKVbHM2rhgywCYJul_Q', 'SL4Gf0JYw4T_xc8ubPPsSw', '-eoJQ8OKg8BkYW5V5MbxVw', 'wMsMj8kILZbZBT5aEDdwlA', 'rlL_BMaevqUqdKnDK2563Q', 'AAml-1oKZ9m5zuxR0UGQsA', 'jWQ4oqnwG2RZ4laxt7P6ow', 'Fi-NFeskXqtrdWySFzgGtg', 'u4oQ5V6lYWYoMzCi0_cUUg', 'dJ2jGY4YlN6qfkrveQhXKA', 'mMELihoHZXzwQUlp5s3gQA', 'I5dt8LBxEJsTfEojOoscsA', 'tSdN8wv9xJaAyd7MwFgbog', 'EK8MPUmLduyGfXtGxk-REg', 'j3MXtYGTTlVY1MbZHS-TeQ', 'UImo5k-StGZ7ThdvexJrqw', 'fzxNyLzCIZvKGJu1S5jtQQ', 'I_j-9zSYEwDyDhiTj_k7oQ', '9q16o9m7f2GSg9fvEN1kYg', 'k5UFrvwU0pmN4U4F2AwUYg', 'HbBcuivKvX0GkblYCAP5_Q', 'i4DjvhJuuODhoOUfgAgypg', 'T4aw992ptvXASUWFMdXhag', '5C9mJNTohWYM3cu_aKL7tw', 'EqnyXch0W9SrtknveOVT9g', 'W-9OZpFllvt2N0sIpoTyAw', 'Qew7AXntQDSXxWQOdRmf_w', 'H5gPwMO-zaG0ZGtbsMcfig', 'yWHX_VEa2BW2AsvgWFK4Sg', '-giM_Ipm4UzaciOX8GJfnQ', 'i6k5yMjtBFR5KmTDFmH9tQ', 'z3Hh26lHRA2FVSYlgueeFQ', 'expRIqhLVdlTmuSZQZL4Sg', 'rRc0oN8GxwlowOQaVm2ygg', '11yxNgeIrb_rAjIuGbNg7Q', 'ETfteTfJwbNxn7BpslWdDw', 'RgQJ2ZFwWCBnGBMakgO2eA', 'C64te9tSUw7oLgX-BYhTWA', 'mmDURAevSBJr4NcTarzF0g', 'kUZaMmTaNKHAC2oM7Z95RA', 'z4ACIIbmna96RvkRTRPvZA', 'P99fkgDR6-YDQMRfNdl_pA', 'Et8MRe1oEu03QwtHL8i68A', 'D5ab5mvbwtiBnlZboTSHAA', '2wv6qJAGfEVQeKA0D-qs2w', 'M3ORSjc5oF3HZscnEPCUFA', 'WP2KXbzp_DhgcWe34aLSpg', 'RnSaInjJBI-VYmaRVVgAtg', 'VVkidoGBoqcD8dHlhV6GOg', 'tpxy6d41k1xK8kYyO5QdiA', 'bOYqy60sPWQ8DX9CT4ozKQ', 'Pp9Ke4s6NxLDx8q-Xdye4A', '_Fg_ZGrkX6Y61DlT5_ieSQ', 'QgbpIde75GB0M6URqr7ZXw', '3vlFcTbTPLoLVfIHs-SJCQ', 'qAxXDR-UDSvE5A7lbKznGg', 'RMd3qXg1oT8YUeTHrVtFtw', 'C69_c1HTlMSelH9B5VTBOw', 'z0RFIST1kietMAnSflgENg', 'P0GBKeXF42I2XK-EtiXiIg', 'EqAv0V9Exl5S6d5CMDJbFQ', '0KTZ9S28q6ypHN9BXjaNrw', '6pOdcTwzraWwvNqjEl5e6Q', 'rVAhK7_G99ZAR9iQHVmGeQ', 'YO9hKYlx3z2ccFaYwNcz6g', '8BCTKJ2tvWBPXP6q-8PC_g', 'aMtS-bCsp52HfOuC9hbmhA', 'GB591uBJ6pF9PwvMHXkeMQ', 'ItsBJHFyb7jQTiTDEHfPBg', 'WOwCzq0eY22NTALyRuP1oA', 'p1Tkn05rTBL820MR17M2cg', 'fgey6sLbm1xb0sj0hTGe0Q', 'kxy7bJcFoVsr9e5zfHFL4A', 'ISR6PW0q0UcDxuQmMA8AWg', 'EjiXOtXhRJUjDcU-Wet8qw', 'GqoZQTxXwoL1aZAHP5uAcA', 'JMN2bZgqk4gpA4jy8b4hbA', 'OlhEVUUvMUOnfW8vVlIKZw', 'jqcSNWnnfHOUBocUBIED3A', 'RuVV1XLYpH7j5UZ5TEaWWw', 'r-E5QbRgWhRZUZRCQxdi-A', '00KM36C4yLJdf_rcKvc0Iw', 'srbocxMN8ykRV2wFvQdS6A', 'ILLdNd8zZ8KOHU3C3Js-EA', 'PHiOJ8m19APEfr3gjDxXRw', 'OoCfIJ4WDSyZxc2LIUbgAg', 'kBvF-Ql1_2rMQmTKDSB7Gw', 'qqB88X8G9AkZRuQ-Dwgt2Q', 'tMwMgtqcKQesJVLtSnOs4g', 'TNTwdB84PSB1GwcRRkvHhg', 'JKguUGxqs7QfTj2_K3FHyw', 'TjwgXWNAwGI7FDFayUhLIA', 'qaTcMbGzL7wXekL9Q9U1sA', 'ZNCQ4VN-jlXAvK_T_z2uOQ', 'tlvyrrKSmaM9h4GLR0RSBw', 'F-MNra_Bt5IPkW5v9mwnpw', '0pOHXKIBlstnpriJHEhupQ', 'aL8W_W9LOYkpMYecXr32-w', 'NjhfXwyTVX61rxNCgjCZ7A', 'Njs3pklI8BoZYdOfttx8pA', '5u74uyBpJL-mvAO0RKh43g', 'Ls1DGHHGSyg8xttAEjyjBQ', 'y5gH46Fqsa4jtszMkXtcEg', 'LX9MPa2AKKcHRWYJ3vxa4Q', 'x-O_1Rso-QLVJP4lVTLinQ', 'joCNtzIYbmjVfqYcnQeg3A', 'iVNeQTpvt48x76GnbA-LZw', 'mOsrN4IJZE9QywcoUyj2Aw', 'ixeMAqdS1dd4g3ymFG3FwQ', 'T5MQMDDr0E3XF9X_7-rdKw', 'OL-V8InzFpoGCV4HvIReLQ', 'R-Xho7nxpDp59lw6XBLuxQ', '8t0NK_Sup8urhOs9sHnvXw', 't4HQGxHJI4mkk1wZe3EFAw', 'VqyyZJYrVJNy_GnJUHnPnA', 'uYs66sWK5rO0_ym5FTWqSg', '8GVJu7on9iJy4wMVNUkC2Q', 'jOOABFJK9m7JPZSnO6bKkA', 'GuT8k3H0CRP-FAXpbj0zMQ', 'KsQDt3H9KbPu3TUoODIiDg', 'llIvPK71DxFdBP7XgdUfew', 'Jn9y42RW7a20BTtO_M8BaQ', 'q9P8VJWH0--3jxFclfnjTw', '8n3wJv35hzRDl7HN3DDyFw', 'MyyAxc4AYYAnMGlAAdWdBQ', 'vLQdlmQW4qaIgILmCHnXsw', 'njB-01cENpLUHUHkB4dXyA', 'thSg5LKprpxcdE-o9hwy5A', 'tX9Y8jn7A2TSRX1_SLgznA', 'AFtXRHeWCOmvbZBvGtAvgQ', 'By97Yxw5e4Ab5DfpEMQ6uw', 'ou3_aJewFuAie6zt20fr8w', '4Ak6dAMHzR9AXZwzycCK0w', 'o-XrqaKTx9o8czSAYg5URw', 'Hi8t4IBUeiWJy9DDZ8yxdg', '_DEc-3jiCiPDDdvMj4neiw', '18Q7uo6X9UYhZxcDZse9uw', 'IKVVguXZudZj7KVku787pg', 'jH03j81w_4eLX_6Zh6UnQw', 'CzFylSle9cQK1WS2T-em0Q', 'HStIT2XLzTjCpEte_li4qg', '6Z0ukNVfojEbJR4-Yj8bXA', 'wG7A15ROH13GGrE4iNk0Qg', 'wGcN7bx41AbqS0j1eLFgAA', 'xUktgS6kcHUox-lBNeliLg', '7JXoC1MTY6fFVdvsvDedsQ', 'Okhwxobpw2PZObuRPPi_Cw', '5Ng3PG6sINosnd5dh05xKA', 'GxANLp9l0qilY2HaH5U11Q', 'HN0kHk3K23LITPfYwFzbQg', 'Kxe0O01kOd-SjTEwo3I_8g', 'Tad7QTK4dgggPAg0oliEjA', 'ZJtWfWZzB0c9YpEyYOOE6Q', 'qopnK3q5tEQlC5nifcm1eg', 'qqdG4QSnvncXaIBl7rWEMw', 'jlGFywgxmPiGzn5lAMS5lQ', 'rEGBUYbFS3QVfDtT6HRv2A', 'wLfAuc360fVYi27Sq1E4Wg', 'MsJ4dYkzzCNmQiBCwaAUNA', 'nD1qmU4FEXZDJzEUf3szEg', 'NRAJXtH_nBO6iEHmbhfLAQ', '4Hpw-IhrrN8sjlxvNPpV8Q', 'nBG3YLRcWe40gHk2NZL8tQ', '41gC3ji3Ox8VAtGdR51yHA', 'vy8BcMeyPvCrwCn6hL2vKA', '7ZUYoFZRmijZKySmJhDZ7g', 'HiH_hzdNFD1BaYVkoNvjMw', 'gthDMjJNQcDMqM5luI6iLw', '3gMAAuieiFJ3gYMZaMY8CQ', 'mcjlyGuLFJ0t4vDixycCSg', 'Qjq7KBoKS97iLSebkpSJWg', 'A2-kfqApG81SbKJ1RCSBMQ', '4lwWqDlHDhQDZ9VnbAomAA', 'ey-Ovx7uHPBziPuMLG0a7Q', 'arfMqEXEL25pUn8O5OzQBA', 'HlqrMvV47vKRGdYA2uvYuQ', 'VjCEfFTXXYsXQGEy07LwJA', 'WBO2WRYC-KDI-kebeewp_A', 'y5HZCpYDUNa_dZrdp-I_Eg', '0roDUdgk8u5yKplQHGWaGQ', '3836vjjZVc5Rt6Gxu1d3bw', 'glse7sljQ5-gc7DEgghNfw', 'gnME21MiQ0lI6aNknr_jFg', 'Ww1r_03D63KHTiA00DOt4w', '7PbizmIifkDE9m5SU-02qQ', 'PB0vLHwCaA_rzUTtDWFzVg', 'o_3ugsKGvtTNpqA0jj5pIQ', 'VAjAnWbgXq1zio_S-NH2CA', 'Pet87l3aZNzUfgICJrYPHw', 'o3LIfbvoCFH8lsWsWFJMpA', 'chzjeeTh66Hxf64sf4hYRQ', '4D4WZvIC-5OsXDeDf5Gqsg', 'nf0mrPyn9r1oL3Ba7pZTbw', 'S5_aAPFQ5gLZWITFiy7Vyw', '7d8CBdS_S7nkOSrZiwtC7w', 'X2hoxjCPJmuYM89JPx6sxg', 'YMKzU0fXKUTBiN6L8qsdJQ', 'vEFjeWpx3QNYxvpV3B_Rrg', 'oHNxw89av6Qqd9GGR2rEKA', 'GRyn1kF-hyKkkbSkdNEEzA', 'lOJt_O9CHb9nlOybVDdZpQ', '8SY5psV6bfefjjbiydgHZQ', 'mzRGaWgcbxwNQU3eerH4_w', 'mR5opr5-uIXaGsv953spKA', 'VokNUUsRy3ygRemdyOzEXw', 'vgj0sPvqhAxW6b2YSkyCAw', 'MQEpylRmwkd-U3URK2fI3Q', 'UHGnwKXikzGGTupUN61cUg', '0BpPcweoVU751j3XqNZTiA', 'xSr0lr8pWpaQWoi-lQrX5Q', 'Ht-jJJ0TfWzZTCgPkRmypA', 'DCikvLPp67kv1y9_1tovBQ', 'Qd9SzDsf5h3VeILVbZjP9Q', 'EeT0NeFvndCTxgSRLMZ5XA', 'WPpA9Y5t82q9unOBKy0J6Q', 'kFKFD-AIAZ_iklTcz-1lZQ', 'v8G4a8XfZS5wN6hlz-uiwA', 'zOm4WbMFJXhE0lZebtzAMA', '2VFo1JpAdukiEuxNzYZrog', 'WxMoPCV_a7vu1wGVEqKyBA', '44a6ZAdWlOrbRFEIzHKMEw', 'oktvRPPpShyRJpTFhAzlXw', 'PaEvKLE8d2pLewCQGc8gKQ', 'SzPg_n6X7xI1vZ-Wr1kRgw', 'XZ8VUXYFQWdpKEM4-rBzOA', 'FR5P71ihBkfGn4LpHzMOng', 'N3FqbOw4lTaW5QvImjBNkg', 'uMknZRvaGy88KYtxW8rmIA', 'fk8kIY4Gs1qUQNeYfTFkcg', 'yxFYsjaRnTTlg1yGK2dCFw', 'Bqi3hbUfYlvrkyzzEkWJ8w', 'EgXuJaFU5CvaxWhnMS3rcw', 'X8XmvzCwPfQS-A2Ub0swWg', 'mxZc7pPMLDQ7BHn0mEWkDA', 'HlscgWAIotkZwPQxreMHSw', 'aHHRzaWKMijTpp5m9vhgOg', '57s77hI8EFWtjL7Q8TumsA', 'eSQWZPuk6KhAItqETWzYWQ', 'u6g75_MwDrfUVJhqchS_jw', 'C3hQ0vz3YeNIIVxVF7_V6w', 'a3leYJ-R1hdPFL4lG-MxnA', '7gEzRGWm13Bgg1rtBwTpCQ', 'orMtjPAbt1hVKODU_YAT7Q', 'imZ9XiMjr6QuexSlvHDiXQ', 'nbpTXvw6EV4x_b8r4T_UFA', 'zaHouISU4kZcgpa1kv0rhw', '0nOSioGxExBOXcbRpirmDA', 'xO0q5__WZpdmAlIjy9WPGA', 'omS6zixlgbaajv2lLiUQvA', 'wfrJ1V1R6CCUjlzHRgpjBQ', 'pMCJ6-HCWYYocDsV4tQlEQ', 'Qu3VvnrgpbUvqHDirO5zSQ', 'Uvxt4IckGthERLZBa8llSw', 'OewLvbV3-r_vm8xdXPZKCA', 'waQ2eG375Ln4EVnEZqI28A', 'VU9e_rKeV9QxrbLouNPKHg', 'i7ZYVoFe4uqwLjd36SslZA', 'gl64v2uzGXLTzKRo840l1w', 'hUUCfjvwHRMh7HiQi1opuQ', 'OnaznikyGNu6LTdqz1CoRA', 'zmVotRRvvYO4W7_D6OQn3A', 'Suov6OwtytVdGoiskoGx4Q', '-7Z1mIroHNK6IJKHMLfnJg', 'F4g-AovPdR-kEf79hi9R5Q', 'WDzvmvtxJH-PVj6UGEM5dw', 'JmcVr92mP0E9B7qKc6YBNg', '9Y7EK0J8drVm0iSZ33vUPA', 'qkxgU_FN-w2G2bSmGBCUWg', '2ICK3s6GJurPcwxxTAvSdQ', '_XJzhFbO8TzD6E_bvOh9RA', 'bB1VCRlmzylaLPWiob2B2g', 'l7sMunlfVKCRdDAPzvqneg', 'DTb8MwTTaEgeGkybKFQQRA', 'idUqp1WGwPO3kaE17VQ7bA', 'YC_jrq72iV4_-DtT0sVR3Q', 'AsXQNS1QQ09M0F5Fe_E4-A', 'q1v59Avd94V2TfQorG5RCA', 'uBqNikRJQqEHrC8u6JTung', 'HWNBI3qlAOogy-T5Sr01kA', 'Pq1F60tiDh6qf50s9XXl6g', 'vbiSut8Zlpg6wpOlU-bmiQ', 'GHWGzUEgTIXJOtx3q_DoQQ', 'v_dl0GHZnKn_IRrzXO_ymA', 'ophq_vrU0TrLrltPC_MSIw', '--dM6T1gVl050fS_vkV3Xg', 'f9stu2vlwM5xAI95OuJ8SQ', 'A0oGXwfOyiyOWcM58TEDfQ', '2dIuYiF-O0nTD8VAmS5PTw', 'Nsv0oIWBW1LBhr3WKdW0BQ', '9Uc7MTRlqvARuRvBFAVCPg', 'kQ3edkP03VTX_OuorXG_Jw', 'OIp8ldHu4V9tz0E2ggRmNA', 'c--gsJp9Np3Pba7EbQUjog', '2ftSlxS5Hv6hFjSaMkuflg', 'xTPS9D1nKeihvV8mgGsLXA', 'wV18ILvFvi-A3uPeyeEbhA', 'JTRYiP7BY0l7n0wCbjv2TQ', 'mBzR3IC-CDlIbPh2EFN3Dw', 'pVMWTPTuD63ts69A9AUwfg', 'oXTP0IV0qwtGIFcQGro0Yg', 'JPZN1aZx5oH7FTek_Jr9Iw', 'Z5VLsqcI_gBoHxnGplDhvA', '0kS8oYzd9NWojeb3_ni8sQ', 'BIqnTkeT8FlJZRqFhqTwoA', 'vJLbwhnH2smg-KRnHbBNBw', 'pjVeGX30BYzFKfDzotSaTQ', 'AliQvNGtdQrFdyqzeqYOtA', 'kHhLxmcVE0ahNy5bJBrOvQ', 'JSvXgCs3q262BhiykVTjGg', 'grssAGZaCLbswsNAnuiKqg', 'Mkz_pJ4zdcN0CH3Q4Es6dQ', '43xUWWcbKF4ZqteMdMpZMg', '7CDlnnU8O0hl3OzTPqbiig', 'VNRr_hFgioK-9aJHBzfZAg', 'rJ9ktEvcyTJJAgyjuIUgzA', 'ukWbtzNzqzLBgcQMc302jw', '2GVCiKPdxX_jQ3EQKfShzQ', 'f2Aojd5pUFbFD1bLmkKyzQ', 'ZCzk4uvkEakZS0GfmjnxfQ', 'DLT1gN7O9jvFvBhR8_HhnQ', 'XouLqGPT6p3AGUzrv7D6WA', 'B_XXuZDq6FOlQuQHfEIzzw', 'MaM4Zd-ayTUeZzJFQdqMnw', 'G0um7FRrh60_hTSpN2Q88w', 'QLB-nc8uzQMN7YweO_rq3w', 'bVyc4-5-k8S-6NnQ6mDbzw', 'jifuzvm6ctIzpiabOFIP0w', '-Kwua3U5HW7aOp6A9cqAeA', '2a-NMB8STEOe-H3rS8Zoig', 'Xk8jihd3NmPl1S4BPCzLxg', '8eBfarEZwq1iUvoSU6WyqQ', 'jbEr_UQx8WCMf-PFKyhJ9Q', 'QXdHpMly2Q6DzEFNvkZFyg', 'PYi553jOKEyibhOi_oAxGw', 'FGMwZzDliqxPCDNA20vtvQ', 'FvKpaBF-6_OpPRfhEa74fw', 'Qx66mZoXC380ZumEcb0dXw', 'jIb0zJzJk7yMhlnMF9TFAg', 'DlgTK-BzWuSMcPuLJ11Fzg', 'XrlHrVDmjj3yx4QJKlcUZQ', '6IGxd7xJ4ZFycJalknb_7w', 'O9I6VRgcaxwoeTnKO4g1Zw', 'qZSpQvdXyaGBHJirVppgfQ', 'ZxKmUxK_0YKqxgCRTr1S4A', 'szcwG_yAwp2YZzQleoigiQ', '6ZA6yn6rvuHzfeFGHtzK3Q', '8cx8HCOwLSDPvWxpYxRkpw', 'DvbNs8Udu7kXKUfZjhZssg', '1CKfpHx9i2ZALSMbBC_ABw', 'Qp1AsgRzIY0kdpaRm-n46g', 'q1Kmy8Jm8TlyGr_8Fi4-VA', 'ydYQjsRXoHx1UgB5OlFXpw', 'OCrkERyrl-yjSrywO2d5oA', 'jI10uM57MUJ4TUkGRSt78g', 'lj5fZ-kmcZOJ1JgZuL12ng', 'sTtoYlxidfNDxPDjy342qA', 'BFNbXJkf75C0F8MFLNrX5Q', 'km0gknrLAa-Jds8lyG08ww', 'IfVl0yVvi8oVMD1_k91oPA', '25Xr3Sg0A0aMfpTpfgLvkw', 'OWOgUZcLhHS49SH6z93hQA', 'fTcydd7gDsRvfVH_uNfvQQ', 'Hm7R2TXmAeLba_5NpNJKAA', 'DuRprPZMd57Ukw0ZaE43Wg', '5CfBC0hvqxmBFkXv35bCow', 'dpxHvogoo4KFOYJ_euoQQQ', '0NTuQShtX8k3vEvbO_K0kQ', 'zb7Zo2zocTEs7hTbFy0s9g', 'EaoAMGXuqZZvUxtl2YclOg', 'sARKApXTVkotn0GtvA000g', 'yQQR3Vb8ynh2j8Nw39Rmrg', 'VAXeHY-zE5PCAqiSuCjz3g', 'IdUNoKXnkBEW2P2lgHYvEg', 'OrFRogos478n_kuBIhQGAQ', 'DIuUj_vp_aNQGgb9SZL5LA', 'k3n5asVsX_1GF8dy_BfRfw', 'vub2FzEmnqEkKJJx375HrQ', 'moEi8mpL_XGNhu64vOmP2w', 'hNHCWR6pd6m4n4vxuXqVRA', '9TaiZQSMpuZ9_RyTJwUQQA', 'rI73Wpl_TZ0xoyMGAWgo_A', 'KJ1YNmhA-eIUQvePuAMcuA', 'k6hPcvI0pAIXMslWO3x2Ig', 'hdq79dD9BGrsGIXTukgsCA', 'C5_ojUFxRqR16rjc9vbvnQ', 'GFuqwdCQdyLbvLVAW3MMHw', 'T7lomXL4SpLaU5yvpgSscg', 'zDoh7qmaJS4_06RWW1RWOw', 'gYdTpS-ks96TF4VUuiLsfA', 'h1QoMrAI8RGmidGJLdZNNQ', 'lkSIJPOShfOJeWel4saFrQ', 'QXlDmMjjSmrSAoqeqdCO_A', 'ursD6AZbnORYzE8NpjDe8g', 'WTMBVoLOLFe6t_TLo8f5VA', 'SMtgYr23as3dwPhh4WerBg', '08l4PCxcdzmWBFR0alBZiw', 'MlGqBL1kLEXR_mBMKIj-7A', 'uJeyxbom0vSz1EruQnT7AA', '7Gy-b_qQCQHsSyA5DI5o_Q', '97CMO3E7AGDhsoZRgB9XpA', 'RNdpKXiRRlyZ-opZIfQWvw', 'WnXYn3tDSwJMlYPzw-9R1A', 'irG3Xe-FICE0O1EwGikC7g', 'jz2Mcx1_7SmtUd0DsLm9UA', 'BkI-u_zUFMudoVv1VpxnbQ', 'JJ6fgeMhFAunTyHKXcvS9Q', 'dqbEJ_mNM4fhXG2MMHwboA', '_fYsa4KzxakTvii5u9nLDA', '3Le5HOwgvSwkHrnxHXceSQ', '1f-5RKJGZaZKLSHjWb-7_w', 'DJZphOZBkohAHFKOyCfj0w', 'a-UBQe05Xb-bdy2gYR5lsg', '96YydWynu4o0uhLKcwwDtA', 'W2iNfGTcFKTMMmwhywXX_g', 'S5Zp28F3vZzoXJMOS7YWIg', 'TxkQ78CTcECfBMa0yaI6Cw', 'kCxfhuZTQNRTM_cGhvdrWg', 'I4NLcQ4T7_6Jc_-KfU6usg', 'QrlfLa8veFxLcxyGuEjhcQ', 'P_uPXMF5gzZAoECceIxvkw', '012BtDfqpWAr-GufLPYmCw', 'Vx-oCy9XzW6BGUQ_bg7PPA', 'HSqgapAQDywwil_gF1Rwbg', '0dfOk5osMqVFObi-_WYqww', 'A3js_gxgH48lU2qW13mR4g', '8yvI6V_u5HCo_8R_-5Pq9w', 'Y-rLVm74xeeCADGumKrDHw', 'VV4GjO5gmBCZN_jxku7FHw', 'sF2CG7Kp9LwkmXfjyjPI9A', 'GABSsYWYlhoI0G2yiGj1vQ', 'ncP3yxQmQuC2cqo6EwZj0A', 'OPAn9h9qAuVdIEoM8iInrQ', '9CL3K9n8AYCWHJAIsjs8Bg', 'ycNlbzp46cTBDW6_NLITBA', '5d3IZVYREGsWrlaIXjoXlA', 'kr92gL3xmUGKmbxoKK5b-w', 'nJK07NNskFIZArZIjoOO4g', 'Ccjwo9qZdNvvvWIOAk7ivQ', 'U98vOzcuJi5CkhFlApHZIw', 'uihmTGdtbXjF19iJKn_bSA', '9J39TXCQ_VdTQEPx2q-MaQ', 'yMsAtYdQF2GZHxVwwUiJaQ', 'QXj2F8bpjSfCYXt1KyewfA', 'sf19P8nHL48iC4An-TsPRg', 'q1QY39dm04klp_m8F9-Zrg', 'z5OVPobIlBY25C5OdNx1CA', 'nlNt7IUBE55WqRVbkXYjIw', 'aD3raS-2ZGkBtXNPwCJDZQ', '1ZvBoRZMtlWDP8Dl8y3myg', 'ZntCgEN5JB51Uc7hp6UDDg', 'imcd-viMGAwa8jnBlQNppQ', 'JtJcRmVXty6UpYgk8GYJoQ', 'WLHhUf7JABlk4YBoToqv7w', 'HSE4MJ4G-BZW4A6FPBPngQ', 'rLBMEXrYh7GhCp1na62F9g', 'WfOFf92ZWNYiXt6txlfgGA', 'yRPvdrD7075vaFNSXtPD6A', '6BFtzRHp3X4-xU_Ws0hUyQ', 'RygCVLhErXtavHdpbwGRXQ', 'XPodJWCqLOIT39g620L-pg', 'cLKpb61JUkiYSsGIIX0HEg', 'xkFVxJcgV3pcgNVsU3fAyQ', '6x2PCZuGVRL1qOTOJcQ1Wg', 'Lfh2FjgNhcPcBrLH01Z07g', '3JHKK5lPULX2HQqxr5Xyuw', 'izwaddB63EnLaUDl_HPGSw', 'x-Bnm0_r3Y3yB-D48c8v-Q', 'y_XM2QKz5F2q_wmMV4KZuQ', '3FCZoOSQ7Z4ScKnKDqORaQ', 'UviSrfTYTDaZtbqHnAAdQg', 'A2gO3QaoYvCzwkfZ8l-fpQ', 'h6Owz36hZLbwe4dmor_piA', 'Nss-ZRlax33-3JTMXk0U8w', 'JwoWGgsH6-WY1yyKsvF80w', 'kAkZroiZqhXN4OVm9EB6gA', 'WJL2eoAtlwyaxtOplR2-zg', 'yvGq084uX0_fZRgIvuGJWA', '8UtPLccwoRl8vztebKPaeQ', '9sp03yBXfuIYgWEYyJvBbA', 'NbZlyEFcGzh9aNXY_O-l7A', 'R5dBeQWFxxmWDwszfUaX_w', 'PblF2i19w96x6iJGiyjOZA', 'PEB1o01n7fXs_JXkOaWWzQ', 'ENyoXeOG_weiLVqiTKaopQ', 'n5sZNpj4rXUq8GnIBHjVTw', 'LeQ1HTiXq7hwYv7gseUKZw', 'CLxfF7p2V5anuFOcCRf7DA', '8Bcpy1OQeZhitn0H1fIHKQ', 'adC6XDt3ODVkUZsESG5LlA', 'UncbZ12mm0m4eRpbzjLIPw', '_a1APO35dNvXy84HlY-6LA', 'U5KCIYVqCrZ2tcToKMLZXg', 'D_8IGhGdsaK6l7xkTW-SRg', 'QOWO8hYS1Nx_slO2DA2nkQ', 'tYHrT_DJ0FB02_w-wCbv_A', 'u8GnKh24l0ycx9sUGsAgeA', 'Ejpbhv5nlT6rK26ppqAjRQ', 'TJWukPSLFM5_nVIVWrPRKQ', 'qeWpKqj_GqdaVQ07Tmkv8Q', 'KFYO84VH4UM3oRiImJLh-g', 'G6VYStF2Cp4uoLVk2_fTnQ', 'qsw3SvBzmeRdbqWWCesdNg', 'a13Nrm29a-WtdndnRfulNQ', '4gymD9-XdHjdeaQ3HxhzpQ', 'ujqLptX3fZIreeUu8rJjXA', 'pJv1UD3-lYRh6FbKS4SCRw', '288N9fvRdAI7nXQ69s-rWw', 'fn-j51tgWMnvLQIP5bqkHQ', 'RB1Sg0iBT9nwRO_6p_M79A', 'V-ocRoAkPWgTOZ6JZ9diAA', 'n4NUVxY_ecP9jwNH-Z7Ylw', 'gVV70hgf0aMaJ-pRSbUGBA', 'dt3zeyHx6a2LU006EfnpOQ', 'TmY1aSBXYtvFJufwgP6w2g', 'YLB5pvftkh3E0QZ8PN1b3Q', 'Nqw7fL5ez2vAd7FtnXLPeg', 'a8XiWGtGxdKeSbbRlfH0iw', 'Q6_5mUj8yL5Qt-pPU91qKw', 'KhHC0gEVrFNyNeJBHcvKfA', 'SeVp6ZpbHUhPU3U0wxyQdQ', 'mRQmOI5TKihmVKSBWTMlKA', 'RdIG9CrB3Sm7vilakAvfnw', 'AAoQPf81p-HvTq3oU-i-jA', 'rQGRI_JvoQApLo6FZuAqPQ', 'GW6-FBsOlOQFANezkGuYSA', 'cYJk85QynL8UOuWrlFSFrA', 'muvVuwefjHmuIID-R3LAIw', 'QSrQxN5JSQyOrGKu1stV_A', 'qZvnGkNVg75LKhb_QNfHig', 'bf7eqsK0x8jPhu5kf_xHgA', 'jbDNPIXIBn1Lkh5Xf11-7w', '9NRFjvfjBy-7wpt0Kw-4LA', '2yuhfbU-6KQUU5UMiGJGzw', '6CxBApLxecU2gtWOPT0Oew', 'HoT-QTW9L--6_GR0Y58kfg', '3WIw2eW5BMjBkJMLANLH3g', '42g0FNsagdigFg9Lb5-aCQ', 'XH4fSniC1bA_v9lPAZI2hg', 'pBBEhdZmpEVqocQL7gI_BA', 'DqDuPuuinaJyn3LL7VQTvw', '1hj7yHWjnS_iDSmacilmeA', 'VaQxSAFspYesGi_AnIKzPg', 'Lfyy9TnpQCLbp90uZ4rVIg', 'MH1xQkGHogSktYa1AZomUQ', 'V6XDYgIJeys-TPij_jk_qA', 'E4Ko6iUYM0uTZ-F1g_pkfw', 'QYZE0C085myYhfVkZNWNAQ', 'zV0uOudVRhjvuaU93JwNFg', 'LuJT1K_xAhyqDX-WHE3T1g', 'UWiuMHyy8CLKMDo7Nx9dBA', 'qOUhfhjGPtedzVl1sf6h0g', 'oY5ovzOuX7OrhTR9Huk5aQ', 'V32dnlIO5R3G5fcg-VzO1A', 'Z0ga3WwXmqM4YxeDhwCHPw', '5VUakyZK7_Xv2D2iRXOVtg', 'aAW6LNpG5-4wwBD-Tc8ODA', '01KyZx3VGk_d2oobEk-w4w', 'A5hRCDRVqQZBrUi6JL04rg', 'i6TPTURf4J3jtGgZNz9ygA', 'c5Wkk1ceD55X--Bn3S2J4w', 'qlAjqI6l2nKODSneanekAg', 'iLT_5NMpkGqoPg6QodoB9w', 'URZTw5vNqjgE1eg1cI9zvw', 'ICgIkBt7_MTYeNAKkWNUkg', 'hDnmvQUsakcltUbAmWM9Fg', 'f9_s6LHcShi0wwvaqQjrSw', 'ksLfUNwD8O2xg6-e0thVJA', 'SDTHYYKWG1ajQb6NwoZDrg', 'VjT-lcJWHIN26UbsR4ryBA', 'Op0VTU-iRxJS_PtLFatpaA', '_WC0xuf3QSu_kNhFlVUMMA', 'GOQJYLqkGz8jhydyjm9xMQ', 'X4mm21sn9qHXMG10InJN6w', 'SD-eFd8nwLlmTd7tj1SUnA', 'NcK_w1063RguBpc1HjPsBw', 'FX0I9X4nBTao4hlgrIg9tA', 'sySGoulP76urYi-r0GkHYQ', 'kWVed6shYCYF3IQiqQBX_A', 'ePXUDZd2rWohjOEZbdvs5w', 'HJPQVKmfniGvVIcf7Zeqgw', 'ft11W5IoM7lViB0hUbYSpg', 'Sb78e2-ZwfnnVtEo_vJ0lw', 'Mm8WnEh8vcG3wx_07751Iw', 'AyU2kJCinWlRhr3Ns72o-w', 'xsKngB8Dmt3FfmMy6RFDsg', 'v0Ab0_fDv46Yh6VhFrmh0A', 'Yq9-vMEGMcqFAOTAm3bYFA', 'WjP3baQxzLQdtloS89b-jg', 'QazNs6K8zgmOvM0RUHmHaA', 'Bd8JUXFYMESHZI0o77B8dg', '-aSQ2-152mKfU0L-UzWsnA', '1FOIihBGxlF1KLoMRBzOow', 'I3i3CfW-e-W2XIBPfyWWgA', 'r2OHyWst6GtaqDr1lmWbRw', 'ksfAIQ_zar3j0GylxKm8hA', '5J4o-cno6yboLnZZmjga8w', 'RkGTmcix_a0j9ULZtfacqQ', 'KcwSYBp9ZOxlJKGRXijNqw', '-yns3RsMWp9rQT5kThaf_Q', '5CxvU7UZI-HkQ0yAXeN2mA', 'UZN1qlVspb8VhkpN5XsUfg', 'mZabnBgGPS_egP283NEjjA', '3-E2SGaRyUGvv13m9Nz8BA', 'DmZzGN4egkC9lqaWlzzTDw', 'ddlXzmygie962ayRL8_RtQ', 'FTGZ99KQ_uuMMCH1ifr-BA', 'mlUYZR1-Y5VSY9_j8Je9Sg', 'ddT28p9izLo1KjuIQQaPgw', 'MHeLgYbBACl58HN3iOznig', 'c0pnsYdRLxCyvWB5gqXWfg', 'FRL642dkYqWDDalRtilWpQ', 'QjUVUJNLplHhXij9o_i4Yg', 'gRxZ6yMvMrRos7FUvQu4XA', 'WOoOLJjx3KWZ3-qsyREjNw', 'kpm2ni5FrhChLdWAwwiB_w', '93hviMaPGK3nQTcpsImF7g', 'bO6pE4mFJV5MS3iksX7-6w', 'DoQdvUsRsYBC-JvVI_6EXQ', 'ZMXS1AvL7ZgNiRSM4iv8tg', 'u09O1QMjvXLD6e0-AqU_UQ', 'eP1qQKzqX6Nj9OBNYbpJmA', 'h4bMJI2q83cTgwo5Ek6MBQ', 'x-DBVwDSDs0ALme46LkkOg', 'T8kgmHTmtb4pOLeONY3XGQ', 'cbtRGmZquN2t44YLP2P0TA', '_kfJgicpciSm8ZpryX-cbw', 'RjNh3otNq2X65t8ZaWiEBQ', 'kIqqi-XiU1aMI_vyvr7GgA', 'qehDs7QHMipxUcWtmu044A', 'btfZSKsmjBG2DkMjB5tEgg', '3HqWh7IMT6DQcnOrjtwYjw', 'TdJ_dtVEeAp8AOLEoq4GDw', '_RhL-deHORwkIbTPCPhhjQ', 'lwN6ImSvQonImYS5cR3VSQ', 'tlm3FqVnJujpe7Hl-tx4dg', 'WK7UGft6ELs-5vaPUyBgjg', 'jBaSTDf04rQJ5xkC2FTrFg', 'Jz9ZeXHBEoUa7sPzzLW2Pg', 'oMY30_QtTcSDa7tEFepmFQ', '_TTvEXY5LylIS4hlgwJQVg', 'C8xSVRKVm6ZO7Lug4npfUA', 'ZmlEVuz8OWWpcU8-ltKsww', 'K-Ge1lEEo5ufPwJcw-_0HQ', '45CDwfFUpFMjb0NMIBW1RQ', 'lrsxb5et7CqVz5eZ4P_pnQ', 'FyPstKy-HYtU_hIRZRdXpA', 'w2Rrkx3p2zEUrq9MfRX27Q', 'GT_6dNESonE9S1xPBdUQ-w', 'w9bnlrTpNPo8_3aLD-69AA', 'yijsaRirP_kcW9XIQM_lzg', 'YjQR_hDir8Q0fxUuWmjqqQ', 'Jl1baCepsIQrGLPBgHc2XQ', '8MusLJajLiUjCcBASxdCQg', 'yx-IW6jUv-l7LW_AngSVjQ', 'XX-TVmUyyGaCXyurOmF70Q', 'vIVOcTh8c9mU-Hxd2H_eBg', 'laXdnS5n7LUXaj8KL57Cvg', 'oTlnkIbRbikfT9nArQuLqA', '5JRa9MFurvf1W9l7lG-BVA', 'Bz9f8345JsZS1eaLE403EQ', 'p4M-arSxz6TOeynvUvy_jw', 'LLfbFaB6Ifc7eb2Xi_INjw', 'yApxespMGBEKuL9yAk9LVg', 'otuBO8tWLQ9cNWAuFoTgbg', 'l82d0uaUgzDo_r1af9-Erg', 'rQyhPSauJNnOitj72vzIpA', '0b_GLjsfqQkuv3AEsUbohg', 'n3dht2k91zeiG6MtxzXZ7w', 'yT9NKYYkyYD2vIUhLwwLTA', '8z9dT82GWpzw_tULWFzLYg', 'eoeHACLJ5G1ec9WpmULShQ', 'rremWQCsY9B5VzZ_zJ9fzw', 'TfYZ7qO8vzNWqqaN9HDVwg', 'Q9vjjKJv2Kron8lI6S4MRA', 'Do22usEllnfhhC2Cw-wS0g', 'QoFp9Nb57GKHRzV_JUbJMg', 'VbVvhFOCOk1XTsaoXipdUw', 'Kl-J0JrpanVxVG1qIsieXA', 'mxC4BVgtWWS-0U3JAownTg', 'zp0mwVpDESQA2ZwuQUSA6g', 'dhwl8JolloRgNx_lJNdbQQ', 'N89yjCiDmGX7DaPLCjdoIw', 'WI6RYilnZVeloYNy30R-ag', '981_gIzRBM4Wuvl-EyBzGQ', 'qkBiGDor3yRNV6uJprBm7A', 'rm1Xn8vx-pLPlemg6LCMJw', 'iGSUO0ELt8C8kXyZqvYJHw', '0N5wV7NgtHoEfP3ysNBMag', 'mwHEyS7hPSxfn9d6Be9Lng', 'ZxU1vhyTB8xuVxzJRSLaiA', 'w7QLldgTyz1iSpwP06LLQw', 'EmjWWTj7DFVE_z6zF_KvRg', '9bPRh0zDcF-L0ZCNGkHBQw', '6O6n6c_k6BxtQtdHKjiCyw', 'V15udxdbGX2b_wzKPf5cpA', 'eprtIzKJwZwh-2uYZp61gw', '0B0_nfciAL3zVX9oN3x2Dw', '-ZVucGwvan1F56XpVOaKUg', 'Q7mBKHKHkilQOwLh_BmFwg', '92Bli1BTpR6G-yYFFcFpog', 'Q2ZOYG1gOvtkWO82g7m5gg', '5nTH6O4XyR0-97V3kGsuBQ', 'ermUMyydHj9i_qRDlEnesw', '0nz0jCfjUW7gI3WfsaaDcg', 'YWN5IUK_1dPf4Mog5gqpkQ', 'mVNHlOf28PlYbDHXn4L8lw', '7ty5MIwvU3OBSGLewv1big', 'tzdCviR-S2EulLe-kPkFeA', 'rSn58qM4XZBRkjbYNsUjNg', 'FUPv8wT-alN_WjqZLmacag', 'ZApB2RgFw3ZM1SjZVeQZ2Q', 'Pk0k35pYqgskdma2U2z-xg', 'GyZVUJQoJecqHZK5fCBT1Q', 'qbP10dow4WEPl5XuVsVxUQ', '6EBwDwfVMU3jATorrZUFkQ', 'M036lDQ31swIWp3cbR-OVA', 'KBnAcCWJZdPVWxqF34LHQQ', 'CS_PW2784U_RhwZSXIZbzA', 'u6UVA5Od3oHQ-GHLjpy73A', 'll4q_KfamKKQnWepvwjHaw', 'hjs9pZNgFC4YFJ78gINnPw', '1N-KBFbeCHqkjD3roS0omw', 'VNnQPRNGGhaxFxoLwMjcwQ', 'ReNEqNG1Xu8GtiFGiWWIsQ', '6VTuQUOSYuAit5U-B0TT1w', 'kheaPdtRweZfXaFVGMRjPQ', 's9TCvr4RgZPWmfu7wa_bkQ', 'jYGhWhde9wh1sugmkwoEyA', 'O_0_vM7V3eLgjjc_iRWN0A', '7dqj5PmsjnsycdkoN37Y0A', 'zvacw8vwtu-PXKi7GPWwMQ', 'CKhSYy3-aRXFFjgpx27G2Q', 'dOLgPl5kddJJ6n2EkH4TYw', 'GOsk--Y9-fSnEs_qrqWmBQ', 'U2Qea9hshZzWCeMU3nOFjw', 'SH7Dnew6SBfc9oIKu8HPTw', 'mRA_8IYU_HgyxTIreLkOzg', 'rxuxiX0ry0gY3f-Pb9jslw', 'yLgo4OH_oq1cjBG1I02iFQ', 'a3JkyakaKhq2wDkVsDMadg', 'waJN6KffSNooteYFcZgO0g', 'hb-aeCsI99HlKWIdMYHvVQ', 'g0DPOuEbNXKalEg-j16kRg', '_0cYtdCQiiPUOMyVhmQExw', 'glT4-Oyxl8PpuAy3dgqWSQ', 'ovflrnvoGJIBLGKN1MQseA', 'OF7hN36VTcAGas3bFkeBbQ', 'WVq1AyrTT4r_JJEhX_PfSw', 'WuHYB8Hhc2prrWiUv_31aw', 'uf0hW7q6GJn311EluJMmgw', 'dah_jLjAX0fL7x1j-FyihQ', 'wT4tGchB0iAhFYZAunFFNg', 'uJlERht7Ytk46ZNSgGNREQ', 'CMqU4Y3BsBVOp7mtTmYxPA', 'k97Krnxr6hGr7dLjUmGszw', '1jMoN9OpR6_KVxnYPtCapA', 'Ac-U9RamzA6oJEiePKlqWQ', 'fm11E9jaQ8KS9Wl-d8bX5Q', 'rUxGjqp8-hxpWsWIZSJezQ', 'fFzHDRzvvlOkTw30S0hsIw', 'AHyF48YKlFQsgLYlN-h5aQ', 'k5BnNQv8j1zdAtQUPwsdrA', 'HedtcZonvvuuExJDvy7plg', 'u212QAp-v5Pybhvo4R_yhQ', '37iNpAF3iMB0Smlx09DSCg', 'Qan22QxFQN5-9VYvEVBtFg', 'xbaUSqxv4WV3SNSweu3UXQ', 'zCP2-IWTQiD3QQntuUAcPA', 'tE2gbI8p0_Yo8PfXVnlCmA', '6ZRUu7o4P8d2biSDjcjU0g', 'J0wLhzmJ9eIyzu2C4xuejg', 'rBp6n5HsfMPbUm3GwAhd9A', 's6k07mmG3uvzKzLPJyxiAw', 'VH6i-TXGme-BH9tghWeL-g', 'bELoKn2X1e5PH7P3z0QVyQ', '_XCOI5ukvOEz1eepGVHlNA', 'TmxV1DDpH0ekaWjwJ4gSiA', 'P5e3vLmhpj06T4PPnoNtLw', 'uLWdQ6UjkoGl7UTc3kfUbQ', 'JKijfKdK9Q8wDNWeGYggSg', 'M781wr0DWtV5AdMsUJN13Q', 'FDyKDwlO0jSsixUoK76Egg', 'roLFXaVf9ob2hzTsZjj3pA', 'eyA1CYg1DpCS2LeEzGKy1w', 'DJGW7-lWLoKcILObYiMZLw', 'pU4pzOPksp0OXjAbLyaBtw', 'P_fZHhoT6X0tZzQ3j-EJKg', '31Wql0PILGR2PAdskCxSgg', 'NOnlIR3NvZgaYJ1Ho3e3uQ', 'khWNgbZqODn73wsFMvAjcA', '9e2lVWObbop4EpMlI9kemw', 'Dvxc65OpWb6h28vbIJ2B_w', 'efAJE701BGPzKE_sbKsq1Q', '5_ImQnVP3fAhWgPCy4Nzew', 'AXI6Js6U50TaqjtNukCxVQ', 'dVHxU9Fe3MDbzmSqdTSIjA', 'g5buWS4IIw7X4TxVJVVEtA', 'uMUnsk7nLNVZEwL2ytzH7g', 'VXqsEPgF1sqwWr5olWIhZA', 'ZSIeWoZUTbHAHPKe34a8cQ', 'TO14xmCAgntyJZxGWMy4LQ', 'Ub8siSHQcwqFXn1NLoK19w', 'm7A-0hNSOteiLyZzczbt9g', 'yt5ZOTUNBHT-YMIqYm5O7A', 'KScoXtNXC2aBiLULKFKA7w', 'wgKCX6dHyVbfxVGHHcUM0A', 'UBcj0PWBaR8owEUoMdpTJg', 'Z4hlmRl2knoydkOrgCWMeQ', 'ZakUPOB5-rB_4p9AXJBQ5g', 'XT8EcPG_g5WD5Q_6GypbTA', 'YRXteVbPrBTfKF_Ibx3-gg', 'NH40YqSPmntizct4snY4sQ', '39CQQI2TufW1aq2iBmmjBw', '_4oUw-gB_ysa39a2ePDIXQ', 'Cuokb-uy0YtUYGaDeNeRwg', 'zTeIZ-xPF_oPMVwfn04M-g', 'ujrLDZ5FgGOhmL0mQRluTw', '855UKYveHkMwDmJQyo7h-w', 'AHvG-8l1OIHq0IxcOhysEg', 'Jy4p0qOHKaG2ocPvaL2VXw', 'BWMiG1arbWrw16J2F5ePMw', 'kPTH6XseOiqadkCMIAX75A', 'dvHNBg7ySImmjfGsmSKV2w', 'tkLixBUX53vxI2r_NKAQZQ', 'H3sVHeDp6Fbdqma6W7sv5Q', 'VT-5_5_zs1Ml6VNqgG9crA', 'a2xrM5DgSRFlFeAOGdUcKg', 'U1QxwFY-JgtEEb4qYGc4Ng', 'WE-2A6DTAEIgwdw9NcUq2Q', 'zXt5WhFQlY26jczZtB70_A', 'tnlyWU34_XldxRycpglpTQ', '9jCiHXOkrotz91PXf53T5Q', '3mhjM0RTH86diTVHHW6oQg', 'E8yAuPJio56t1p2-2LwGlg', 'Dm21IPVAyF4w2ACuY05A6Q', 'qPmEcR1N_4DQZEgW4wk4Qg', 'j7vgyLn81JgacgSa8PBdCA', 'AhQxFtDYSaFXitEwyE7a1w', 'yloO0StpdyMuHv9co7Ncdg', 'Wtw8XO55dId-C2PewKnRnQ', 'LfA8vbzEuNcKGAuaDfNrlw', 'EtlFJqJlLfkllE7gzg-hVg', 'bcraZ21OZaUuZHTkuSm1Sw', 'dTS7PKasGyVTK1GAKAO0HQ', '-wjP3pP0e5ra-0D88feJiA', 'W6_EiE1VHdMxDBFGlXxOaw', 't844_HNnrrXR0hyhJako3w', 'IjuyTslksOCNLYbKGv3C_Q', 'nOUwkhws-xb23rHxhJJerg', '3U9mpeA4fF5adnJgsiHJ1w', '0uVwfeYfN3NlZU0HfPtdxg', 'oRs0htQvSiqYi3AuyPBFXw', 'B9NJRASJXSbJF0OSTYPLWw', 'kPgG8rDzqCz6aNUkCGajWw', 'tJHNHNDnSUtbrz8btpMHhA', 'wb3_SzbEudEFBH3eKFvxaA', 'UPuJwJXdsPLxF0qhlsQM_Q', 'W3Gqs9WF9uW4I9nXs_IF7Q', 'fcEQZ-FD0lW28o79uyuXIQ', '_ZqbKgabJ6nXq-lOc7l8TA', 'W142zBUgenPxI0pSEFYsUQ', '2mnYys0UWHTA4DZI-Pcf6Q', '2yFz7cRiDOeCZh9TksbnhQ', 'Gt24hWgyTrJbgH5IXt3w8g', 'LeAJeXE1KXjsjp8zA4lSQA', '41rvgdOcj7WAu8dznx968A', 'K58eB0HZVbDsKrhYx-_60w', 'IIVt7dvcT3niR-7BH8LLIQ', 'qmBniBtCrU-nT5sszDQd5g', 'f6yRvA-hh5UiInUkRybamA', 'YmuvoSkVQX3zKEPzpaXH8g', '6E5PueomXjIunTrrdFynzA', 'cCkyPbOJEnREeWYM3t589Q', 'E_ooe_iT8y0aU0UNrEtPfg', 'hzyIEEHnB6zQphT-kWSymQ', 'OEr2y5vWiOp-wfVG94FJVg', '7TmEmHxcSFPs4P6Mh52tcw', 'dIPYePtf2MxBboiGeos10g', 'wVnIf4ea9VGW9nuY_wLCfg', '-Sq5MJejIW9XA0wftphIGQ', 'adssNV2ESBfFLtZJ-oOYZQ', '5AOT35WBvKYts-EEcvrURQ', 'jWRmCYfpJyeKo0q3N12CGw', 'L_1dN9Qvlek2cbbSHQshaw', 'zjmymyG5HcmeD7gKRPIE_A', 'HtviXEFLfYqxAo4XVoorFA', 'zm-49Bt2Z-OC7ptv64iXkQ', '7G3pvP45EZULcRwZOXhWeg', 'GP2En27-TUhPMbLvvMXXoA', 'ceTm28VptsFkBL9fjdoZtw', 'RxG5AenRkGb9h-DebjqrVg', 'FOTs9EnUCPHgJJuTcSwYFw', 's9Uj9dKgkZ5x_qRpiMOkUA', 'EdCQxskbi52VDjvlRU6iWQ', 'M7ZDDVUiiU7NoYT3fDL-1Q', '7JNUFSAhdtPeYft8WPnwaw', 'k84boU8Xr_1w59mqqVa8_g', 'Bqkwzy7VcNfmc8uoumjFhQ', 'ccio9roHpFFJiz_1qMSHpw', 'C4nxQdkp-MyZ5R5xinPquQ', '2ykW6tczU34R8xWTGLfkIA', 'n63nPfGHFPLKO5ULcRjdsg', '27yOGUx4pSIKOhsDzMxUNQ', 'ZZ9OKnpIyLK5HXjsmQL0_A', 'jZ8nV1KWDkxjS4hdseoNow', 'dPzkeTH-w6_9kCHQJFvFJg', 'rQtF1uwO7yPUbGTFHqPWtg', 'x79HkDOUNyOVw8JU3370ow', 'geTkMt-D9aTnYFbkItejzw', 'a2duxGUvWX4Lhx4zqbYqaQ', 'RWapg5EfmgIVIgRF3N_wGw', 'd_73rH9tkEydvDAzPKJJww', 'BVM-Tiup6YAs3ob5qI29wQ', 'PtKXqz2wBlBzvC8eVUHruw', 'KpNr0XPXkk6M_RV80y6yDQ', 'Se5SzIDdhpWPMd2aXvC65A', 'rLI8HYiF24egrSf6GdS3-g', 'YBV6tzcFCJhKFZq5l5Bh4g', 'o67UZGOQVpDoO-i18vroVA', 'dFAHxS3Obfjy6mT3n_3uQg', 'w5YdJ0owJBXxARfDmi5B9w', 'Ukpcj9qi76n_OLpmWWJeAw', 'ZrYxYEtPv6y87WBc_9dILA', 'wepK5vGBuNan5Ku_hlR42w', 'TKNxm2YOSnpYJGQc-daZbQ', 'JJKqUYWL4SS_Pt3fV-4BhA', 'dZhBxox0hqZV_LQZdv777g', 'cVdE5e9k4bP2kBUlVvMB0A', '49isKCfSGitQjRDviLw4JQ', '7aBGIdqktwxlP4h4MuCJuQ', 'lvAyVciOIZDrTWxnQKI68g', 'Gs5Ss1X98-820heybW0_tg', 'LHtkPvNgyrQQOxHhH4ywoQ', 'FCcAAVPUARvc-5ddAV3VaQ', 'Q-mH1Hzp4RSs1nWLNc3cjw', 'i9RdoTBrYX_VvD-GGfl0Vw', '6HmxnzNky2vzDMBOobXwRA', 'PmgA85fN6KEC0WLXmg7Pyw', 'j7xKHU4SCkz7neZw-z5mmQ', 'tdnPpvNJeKOr7fASjdgIRw', 'yMJKQyo1DNcEKC-5BuLr5g', 'RYNv2485vkD66jaZoNi8Zw', 'Zd9D3IQSWbHFRu5T-1yl2w', 'WhZVTGnTRamqHD_IflvJ3w', '6GxLVU4ieePQd9yRDfBRNg', 'nL5R_Zkt6msMRik2HFdw7A', 'a86VsF5CZ6wAk-A_gBcwyg', 'KiKwOE8XnWj581bGt1vRXg', 'rnRk74ZTs9WAwT3E1cZhrw', 'jKPfYOHZsdSrq19jJbrDyQ', 'zpdhuUnB-rw7rV9fAv_GxA', 'd2p4OXQ0z-QJNovT_Eyn8w', 'd224aDEJrUmvLCMgfhS3BA', '7vMR3LB04t5FFez3HZ-N9g', 'oT0_eCSySwo7q1q8ZkXCBQ', 'NSuxWdpJ_5NT5J8KFON3ng', 'HK32jSLAQMAOH2zYafY2AA', 'RVTgSG2b9Tccj-liiGEBRA', 'ElmjVpiZisMT3o0iXaV66Q', 'pD260kqh2oqqHgtcz71wTA', 'URtgCqLLsu7E8o1Mb4SBpA', 'HQpH-7b_qqClPhupHgKt4Q', 'ItG1PONMzCRKlGo_-wd1Jw', 'pIFGdsMxy-jPP64-d9if3g', 'lTM6eK1txcTLxspSFlruYQ', 'W5bs6W3U1S9QYEZVgzF_Aw', 'uNEo83nMjBZbfRmdPM1n-Q', 'GpszkJfmoxQn2ARuwiH-4A', 'YpKoojegJ2zorjNDgzv_WA', 'wFuTnEKU-MDljqgTagE9Nw', 'qAkrZNXiLMcSupOPyeiJVQ', 'NEa0S_Lkcnxca9fNPPc6FQ', 'Ekb3vqN7ADTC2MZj-6iAdA', 'w2TDa_qylg4WKDRLVIR_ug', 'A-A3Cg006luw_DJ04q16Jw', 'xReMTon71PWeV0LTHdr8Ww', 'OCnY9c3Sz1jt_3Edwva1_Q', '65pkR8QjQaNnOmRm5SYGQQ', 'P8JqYWbWDrqtZ2v6iISD3A', 'HJr8YCh3p5eh7C-dfvcouA', 'd6Y7FFNZ3TxMzvkcv9Afhw', 'KGxLUBiX3Vt2FPfE-LOuSg', 'R7XW21RTUMFKQzireZdw9A', 'yT9FufX1Fb5dqLaDwRPWNQ', 'zQ2zmb6Fqerbryj1TdLNeQ', '5qYv6FsALAZTUcmkgX7rcg', 'Qo_pERIMylFAIIbisqdPDQ', 'W_pZeDOP2Zehi-iRGODfQw', 'iZRNuMVP_u8vESubdcNJfQ', 'EfLty0MH33OoQBqGsPwcvg', 'Ml2tc6ESmDQqkg1AsgASng', 'sNoLIxDBDRnOsOItA6h1-w', 'R7RFoRwyGQY45Fj5MRi9Rg', 'sQEX-ICp0sxOZkfIlqkrdA', 'UoX_-imiaK9fi8BgZkYN4A', '6oSuMwo2mLGSjCSuakvaCg', '9QAopGer2wMccDGNTUm5fw', 'oXCbmWITEkCeaMhOtX7KPQ', 't6gtESn4E9y9JtaCQ6fPjA', 'V6vm1a3tt7BMwNSvu8KxKw', 'OYENHco-K65gSjc9YSQKdA', '4_JFiqUMccDZIFbQWyjyVA', 'SsUbcOUlBfaAUgS86OdzVw', 'L68A8r6K2DV4gHnCrXbQFQ', '4_L4W0Ke6iifs2sDCRx-bQ', '3uvGfpeddth6HW50ElFiWA', 'zKf2Sa6Hh81Ehz99O1-THw', 's0vWHwjaMompWi7WlE8vQQ', '3M7KNd7xWOvz13df-mVVCA', 'JwVOcx_3qAGRzRivsDchnw', 'sVg1sIaosTnXSPzIs3JIWQ', '6L5uvFEzmU7N-hUFtpBgsA', 'gc_dOxkxAqqaGydjyy-jPg', 'nsaUO2oIwJJWzuuuFBz1ng', 'JSUd8jPz2Ns5ZKom81h-1Q', 'zUzmuy0Rk3om5vMaIU-8OQ', 'fMcJnABn_ayUtLsJDrjgFA', 'e0ohaao4LH8bNvoUv3Q2_w', 'AQPdSme-AYvQ2hHlEGYtlg', 'YlBegjdcyLCyYxSlik_zWA', 'ZyIlQq7aA74egQ0m1w0OQQ', 'C2oSbO98c5q019vnrnz1NA', 'eR-oukf2bd0N-GTOIGftmw', 'cJx40AOOmLes-hlpfwFU8w', 'GkqeHoM-Babzil3oSmYGtg', 'cxTnldK0PVNbTxaw17NVgQ', 'tos2yyvpjLlf-5xrtxcFtg', '-ecJQYpmYC8KqSIlrjS7lg', 'r_wBSWtJ-zw5YZ56mr5YlA', 'GAS2iGPodiSUW4rcVJnEPw', '0wAjchhtkxi3k0-kwr1QJQ', 'aBkVRexN-a8mLQrBEkTILw', 'EHhhD_qwNQzgdp0e3E_aiw', '6wYFSyfab1TTTynQecdNfA', 'Y3nUCiAv07eOovK4W1Yytw', 'vzBsoc7beKNvT72Fl1sMPw', '2C7KHZhdF7AMUQhRnQTwQA', 'uA1-WpcVuPNtHnMYTXKPXw', 'jgZFLO4P_CU70-V0PMFGNw', 'YKV9lriS24xeBxqiiqBuig', 'YKgqq3JUa8MhfvzEPUtU6A', 'OjlGe6gKVZa4knYC5WYoaw', 'Y91D4DCt9OF-ZqpWNoW69A', 'S8zrS1yaPuYBteywq2UXbg', 'FDiKofQeRT1JvNDVSGg4Xw', 'xLI9BU82eN6Bq3zlDoSEPQ', 'UxVVEZGLQYzKuUxgDFBBcw', 'EGmheTNIhr1WqDwQccsivg', 'Cl_PtS0dqAVJwMaqnknu3w', '8x_bt1C21lRtbny0FLe3Pw', 'UktHovAez0Yik-6q6kG0Jg', 'zOgs_gacvaz_XV5zj9wYkA', 'Q8wElr8NWd00tQyaVNtQBA', 'MGBRPdMkVyCpLAHZoX3ZfA', 'l9DVGWCciCxMcXCyirBR0g', 'l2x0S-G05GVIc86-josROw', 'B5TA_w0-nm8_R-JsMlfaPg', 'Buc46mEdpneBmf_k7ukhmA', 'PPBPl3Bz-ggNo0VGA0eJWA', 'mZHVLZrZAKGFiUfzm6itMg', 'PDmLkftw_hU6mn0hTftciQ', 'jBS6Hul67l0MjidlUn0b5Q', '_am2Oyw8m-37JeAu1_GhgQ', 'NDbRv-5EmEcWld8pHzxODQ', 'yiYjZRw3oT1m_5Ws74_ZPg', 't1Xif8r2gQJ0SSKwdGt1iA', 'vjnSqFHk34RWWvGKgryGLA', '4gJ9oV33uEwYVo3UiPMT0g', 'gDjtX-ysPe127S3_-nnJAg', 'NTAyTg4bDm4MJRbkrC6wFw', 'nM4m83S3Jl-d_TFCZl7xWQ', 'MYvBWy4CtNwfVCtIwKbFzQ', 'b71S7JZti5LP5fovn9v75A', 'NM8jlbo8IoOhTZI10XBalw', 'g7mbYMRmVaMCLgOJgDyfLg', 'pNDV6uyd-r9VDRdZ-qzDkA', 'GZpflvLA8AvQ6zi8aerdHg', 'lIQJ72CRvf2z4lw6OSj3Aw', 'NH0W2purhzjKIvN-19uvtA', 'QPPdl8dNZ0_0J9LY3PkSHQ', 't5Wfa4U2eSFS_a_9tRR4RQ', '7s5D-Bd_yYg8be8-EbRUoQ', 'qxLmLjrkk617SGkUcF2ivw', 'C1ST4QAGT7VO_aKFNTWn8g', 'QcaNReRVzdsr58RhY87WNw', 'GFF3DKLB78bzFyh1_jbg5A', '-P9YNB2QHO-Zu_5zUsWGHw', 'ZTukb2Ajsa20xeqJSdK5Lw', 'rMki5zZLHcTKJlaKXUWy5Q', 'XHOV9RXBnp991bSlcliOvQ', 'nU4Pq-HZXY5aP-qt93N6Pg', 'O8-rjVDn1KpoGETAJ7wvwA', 'SU0q4TjkgnJIpgK1wHjPsg', 'bgg7zQmfOQG49SXvVhlVLw', 'YQezUXb_-q6KjlQwmLCMXQ', '7WjeTI85sGxqnh7ryYBHhA', 'XTi3S0kfA829aHJ1j4Bgmw', 'z-nQb7s2PUiUQyGlzb1s8Q', 'TnOQMRbzEafnUo7nYqC9zA', 'fUIIhrKBNiSU4kp9bFYt8Q', 'BX9UzJQlyATfraLZGJ1LNA', 'W2oIGRqpMAxlBxnp8ti1xA', 'XgoXDt9Eijfomv4hbBfqXw', 'IuMieO1rKfc-C-e18Rhgtw', '1JQw98NNx9rnPhcyQ7tV6A', 'HPi5_ReqcSVSzKwCpOeLKA', 'zNg38TctyAQMrWfwBx5LSw', 'a5_gvgOYkrbr1Q4Nj_8e6w', 'ZjgmMw7o6U9s3TLVpGST1Q', 'jFl1SfkkbEpaMEzgFXA5lg', 'KbjKaXcvwNeAhEio64zl9A', 'ZJgjXxSfd3CkoLBi8QG_ew', 'TZgLHnFKSFeVc1M1uhw8HA', 'KXHIhLvCDH7a4REiukPlEg', 'j0bSjU0C4LowgnC7HzDoHA', 'yyiCpgCkLhMrHCxHpRlm4A', 'djXzF6BRFePB4wdVpDog6A', '2ry34Rmvrz0o11VV0HrRKA', 'n7I8lk67QYbzwJo973VRsQ', 'EAXJUELfVNf2XTHzo6LUbw', 'XKAASYhs59m-mTUb8AE4bg', 'm8H_lrgtABCtRoCQEbpWVQ', 'ierm42lZcC5zWKwtoKc2tA', 'd5GKfzI_sMigl2axy3qpkQ', '0--gcb9IpN_K1RFYQcD2Hg', 'w3IoC3U1-dDEj1WMAo6tuA', '7Cvais3LMjcJiaR4VXKcoA', 'T1KCcFOeBnKw_ZHV2WlWug', '3SbSZ1c40RxioMcxmsjXuQ', 'CBEJlnw72Db1nz_XOhN-4A', 'uV5c-AIUNJ6xi9jGJv3R7g', 'vYVWgNhf2yqHnPsQ1gPapQ', 'Unq6QMYDvTaDIu8r7mlGdQ', 'dNF0CmWAsZJEWaORg_7C0Q', '6dM45k4jCIw6sulKk1HOXQ', 'YRrWmrEBMAAM1Z9TUWK7Ow', 'pZo1VW1l3upGrnF6KfKr1Q', 'yWvo0IMeQEhOtBz5xu9rZw', 'p9NdmY0RuIAIWr6UqNAzbg', 'zv5tSqE2-pzq1vunqwP__w', 'DtnhHZF6jJU5qg55GfV3LA', 'xpNmmN112MyjWRlxhDXPJw', 'J_gFDLtk_mVGJSgQMKLX_Q', 'KL1EdNSuOjTdGV3dUu84Mg', 'YAj_rKMPrPN3eYsf3EkVWg', 'xOUtiOF61Um8THBuLQvlbg', 'E2zCeFtZvqLpmiqLNIw_xA', 'BiOFc-ZbFAlmfZzCV6a_dA', 'uQPq840EPQ5JV3REkc1g7w', 'lxUkFuRTPdZAYskhlBd-2g', 'lAM_ST8C_dHKAN1AreJCjQ', 'mrqcZw4C4dja6mwYqwUttA', 'PGhG0widEvnL08iHGorsQQ', 'jMDw2VhQHPiNEpaqtseBRg', 'KvDYP2a9spB1ptr8W60GZQ', 'Xo1plbCPvG6O_FAW1c1AsA', 's0Mo6UxR-aVHswuic3nXYA', 'Ngx75iOqDAkDs5PUOGtAxA', 'YLaseke7yJNrqVKXhd7meg', 'qARs3C--_7OSrgZIwDT0kg', 'EnG_iw3c7m_ooynyCIPCyQ', 'mEEhLmydVwDKS30YLfA0WQ', '0-A0mngMoWxj9W8NsIBC5g', 's3nOYwYvp3Sey4goCkX5BA', 'BJGpO3rXQvE1uCAT7B2Kcw', 'BoQq3wvbfsWIzfGi8JYbOA', 'qZqDvALWlkm9FKmO7QZssQ', '8s0QsdBE5x5iA7LP-dEp9A', 'YfFez-tyXtBgVylBT6D-xg', '-joCVie3rsb9_2ltqcsjGw', 'TaBaxXlkI2FFQ7YmVA4bDA', 'iTLVlpfZm9YXAU7s0eHOTA', 'n-ghI8S2dYAxRWBhgSGKLQ', 'Lygy8p1IdO4mWtw14hKv2A', 'cFFWXXQihkP6N-xg6oy2vg', 'AIRGTWYSEm_ifFXD3Qe84g', 'mQcLDHNyD1wa45OUjrXgkg', 'j6dmsMm4Bxm2-BDNnVCu0A', 'yJ2ubHHlFzoJWJLo8w_7Zw', 'FvW_eLnPrKRuwr_XYIGWJA', 'KHD-j0iUnU60l-WJEtLDKw', 'AyvxDMFYjgUwNTK0w0z9NQ', '0dNFOlMGUTFDAMa06XYIaw', '3xElbw240kteCOUhDs9b-w', 'aqd4iEKYTLcEwjjJWJ8vYg', 'S3Ht0JVyCUhmsthYl3K6Xg', 'N7uVEonjm0XC584KJ3RoiQ', 'ZqnnjoEXz92Osefd3BRTkQ', 'xga8jFnDHK6if-Ro0wIDaQ', '-G6p0oTrI1Bf5SasiLlHRA', 'zQMPP7HeARmNe7wLM-POHA', 'nRI0UbHdXOxt182_q5jnuA', 'yL6EvUqD84Bi2RERd0qsEg', 'yR1v_WoBoAvcgrFNh7543g', 'RVj-V2m7mqlhBD9RlctVUQ', 'z16w4cSvXZhn3ca1P0Bttw', '3dDg1piV6g-6rVFjneAgSQ', '4SQDtbLfgGQnHURrVMe1Fg', 'oeSpnjzf2cMMkd1uPPvfcg', 'Zx92Pbgvhf5VDFWbAtZf0A', 'TjoEiztpC7of5NLmJNjcFg', '9EoKyiNY13Y2hNFvA0n_mQ', 'LyEdPTgWkRVAjnSHhQ0xOg', 'baGltmTON8JsN1i1IYFLnA', 'QNRXdUy-bRMMaN0GHLqiiA', 'xwx_pBrw6s27sZQR6mm5tg', 'F6RYPoSm3aX9ESamSruccQ', 'oXo3BdoGqYhY7FhdZk-7Pg', 'vtCALZxH3gdgl0h0j7k0EA', 'Mi3XBM517lGDDs4_RMnYEQ', 'jkiFV9tVFxoWM1Xnr2pvbA', 'i2PZxS2NMPzvOKMJzT2UUw', 'IIjfshbxVD7sun06O51R9A', 'lHWdtD-h2-ka-NtmDPt2tQ', 'GV9JGPPKETcKz98XNHccvg', '3qnDQfnD_NvXBtDhd9BwAA', 'IskWPFyj3Jqw3A80aom68Q', 'hq3_26T2M5pJe0ANpKRVPg', 'Rx8dkOz1Ha37VeJuX4LjYQ', 'FJzwbW3as9jgjmHdZ2Y9Bw', '_u-G-yK_BoE0EaD0tGnmFw', 'B8JSf_z6DLtaSeRquYaDqQ', '7YkMpfvDkOMT5isWqKK79w', '0H9SsYiYQ4gVv8VQ_AykAA', 'rICsG15Nz__s-yrKclCi6A', 'YfEDoNrr3PVfWaLYM7qDeQ', 'dte0aWNR2fyc-hKf8VOttA', 'ccyokYW2FmUvXyD4yJz6cg', 'lhJp9tSvSaIz2QVoIlW04Q', 'KnYsGJBZrG_h6rOUYy6VDA', 'QtFE9zjrUG-vShBETIOlgw', '3trqVsS2k1kegX7oiG8enA', 'yIawzQr0RxDXFCPonbpCeg', 'Hj6gtFrLRcusI9iqExuCog', 'YbRXJCThoq3VDIEcOw6vMg', 'BAUQ8PrsYzvU-vvz0GOn4g', '_NpRJINP2RKhydtgyobfOQ', 'ocLAdE4xoTPC6THNkP_m2g', 'zOMzj3KbJnqfB-5o3sXbmg', 'ilRh5sdPwfVjgQtr0r_SGQ', 'asisk_TxN-6mee2WISGc_w', 'lYnbjZHh8VjxWYQUHJGbCA', 'NoAlK_mu8L2bqfn8z52vag', '__r-HGJDl3tV3VWodl85LQ', 'MCPE30DUrUrbEg8n95WFnQ', 'RV1sVpyFd1TVV1eIp_rRTQ', 'MOtGSLozjg8lr0Zju-KgrA', 'CKti4pcWhjwIn2Z77-dEtg', 'KDvkqfQpZLtCGbgQgD0FSQ', '4tka_1q9IdaaWuc07aZC_A', 'N4zXXrDRRvyCjrZyozIYcg', 'pu7ja1Vmc-jiiAlDZm7YGA', 'LonWc0a1K9tUyt1utBr7pQ', 'OGQ4M9YadgTOZfwdz6MuaA', 'RUYXtPNtOJ-gN7Kysqf7xA', 'WK_zY0-KezShprDubhztFA', 'CKWbPzUCSM9nT4ZLT1j0kQ', 'Y3whhLhhp05nHX7LKgmkIQ', 'zLEeE1oXrv24_eT0zvkkGg', '-CHCc2rj2NoNa3EjBOqP_A', 'sGxunOjeS87yTZnAHPvfsA', 'sbeexN7LXDEWezekIj0LLw', 'wI-jTO80zLibXNqP7rplvQ', 'eCx8kpDYvsFefyvYw9P3mQ', 'lxFCWy4eF4FMOUyyoaRNlA', 'ZqsxSaR_Sa50DacZ42PyZg', 'A_JADHCiV3Jjz_OOH1Id8w', 'lTBiFEgFwlXeImbVCPweLw', 'uE_6PK5_R5HawNgLCYR33g', 'L_wmzG2Tii5aXo66t_DugA', 'JtFvHWdWNyUObBrD631TcA', 'KvhbsHwyNNYI2bYrqZT58g', 'wuvEU2GrzmcK1QQm3_tIeg', 'Dmb_5gQtUSoCR0DOg6k9IQ', 'aecHgXWegQDHHZAUorbZLQ', 'l1wcJyPEzQn54YMahVCCVw', 'DvT5dMGrPpC-mRFgDxcoaw', 'i3Mw_s_bOUyijPno6S9llg', '3TPeS65vFRfE41Y9tc2Evw', 'A0rl-0YW29yzbCqJQGonAA', '4uUrs5SSHdzWYYpOXVJQeQ', 'kwM6iyPVuT9aGS9tuqtklw', 'gXMYk6fVeS474NTI_oI1_Q', 'qjDPnP6tDgESYXa0ey-9CQ', 'mIE3vOeZ6fNpqbBGP59IKA', 'jx5by8ZaWHOaQ7xQRUD8mg', 'uDBsgFNnPcaW2s2nKhcQow', 'I8gZcIOJHixBHdWMsODgCw', '9CWQvRC5R_NXfbHbJ2ib8w', 'aHkcBVCgOz0FCENjp1H2wA', 'vOiI6YQ4q3OzWwdZmGVFKw', 'laIVSIZGnC8CkiXBpD8sxg', '5m-yPqZ98I45j44N4q_IQA', 'URV6uCLbS1IVqCd_7Pi-8g', 'jUxgnLBNRLdjKtxP-NUg3g', 'E6Qa9zeUVqyFIV1NdKHAJw', '2nfIBsg_y9hPBtNTKJigmw', 'IKpDLcWdxvHhiEuAfrhEUQ', 'GuToi42RIZO4Gft-2hkZkA', 'q-sRjIuFgx3FW9DUFH0keA', 'kEYq-jG9e3CJSJjSDdIP7w', 'Viiky2CbgZUOXtYV0Ypc7A', 'p5NT7RwJ7NMsFhgcTdGDUA', 'k70n6hd85-8vnt0WuLKu6A', '3baLSOa8i2xTJ4EphMkytQ', '4dhNo6J_KdSCDjkAgNw89w', 'anDkM5CwmT77ECTjVuFFqw', 'JP8PBr7VyKZeRZnJI6_ZWA', 'qus0jfgD3sbzY7sJ0j6h7Q', 'IYUk5cVmvYpqiw8PbVMDrA', 'MgDTTKAkuhX3WXGMHfJOIg', 'jq7jWcASobgVybqvPDDSAg', 'bkW-rx6iyiStEzzm2Ob1CA', 'O57B4RYw61rMJG1sjHTIsQ', 'wA3IlY2r5R7ihPi-m7HyzQ', 'oF1UdgZ4gh4h6-9M1dbabA', 'nsMJYgx5elZFkhziZL3sMA', 'RiZkNvXqawowBdUEhguNYA', 'gnAPnLVxoTcFpKSyVg18Jg', 'Of7gh8LxkHyATXcZwuUvRQ', 'KiE-8YBvKjwH5PaQRlvgJA', 'RSSDsemNJca0oAsACV1_cA', 'HMdLnjK2jenDBJWAGEeiXw', 'rPJoUW057TpRc4F-yus_6w', 'mz2v1LQLZilANGe4EOp9yw', 'CRPIQ0GL9SJJrLm63oTuVQ', 'nVep8B7CmqpNg6zYVLhUJw', 'oN7Gu_pdWNx9Pd0GxPExiA', 'ACnv7ZuSRkfPSc5Jt6TBnQ', '98b0ZYvQBqHUPbwhZHlfhQ', '5ToPXVDpCBfyOZH3xEWOrQ', 'zv7OgzInc1dKY-7w47P6sQ', 'siLEU31Z-9qUbrg8Mv17cA', 'oIClaa1aSgZCdMDSBGfKTQ', 'kQ8zFjPOcYQK-NZM7Gf1yg', 'jMoEhValVweOCK76jDTSiA', 'zEJIb1KSo1mIlpzVkjwF4Q', 'MW95IM0eudtsYeumYdJm-Q', 'ZKdpoBUQibkYcT-INBZ3jg', '5U_2NZ_D8V6630kh31zd3g', 'xA-lJ0Kbz36e3fNXFWJOug', 'rgkjMc41qJi1j27Ax1WX8g', 'T9TVHS3yGIsWrXbOkNUKFg', 'EI_OsKmA2_UAM4oJsRv_6A', 'lGYPavqwlhwCqRG0K5aKrA', '7JbnAGgV3iabxhQqDjQTtA', 'uHXeEvyy71pfVT1j8feIgQ', 'kegqtHEL-w72S7JhBVXohA', 'Uf6H1fwOFlBc-lN6BYKVwA', 'Y1dqSF6sUqv5A1AmV2RGGA', 'Dkfdrt2NS57Jx7a0CLTwnQ', 'MUNE7JJ24Y1SpY_7SD3fJw', 'U6odhIFCjsD2T0JvPiDUpw', 'vq6sFThHxGwlYTM5vWWu7A', 'yDOXeWidp3fOyvQiVi88tg', 'gx7hL8ntN-T4JdIpceDZ-A', 'HljJB5r2RiiEcrkXJGC6jg', '-GSFEmKQgGq62UcPRKpQRg', '3GXg0KTxABLow6GkoVBnaw', 'EJwvBa9Vnv5jeYdqeh3rcw', '7wgE_vnt58Er7TMfOqSqVQ', 'IeLbl_b4XSO-qDlSreU7CA', 'QQrZB8QnvVWt_43U2_nh_w', 'REEBOoSSnnLLcfT6hY5Fsw', 'zJ_JzBgnsA1wc1loAtghcA', 'BG_zrOwfmBVJXMzPfqr2Pw', 'k1wxo2AjhE51rMcrLJj2Cw', 'ioUj4_KnN_BhH3t6-u5Rig', 'hTDbJvhCSdRq7a6I50OD9A', 'mra2qxEnjXkiSm5jQAiS9A', 'jEJio-1PENLREdtySALH3A', 'nx2ZLfIvg7RdVCp3UOgGkg', 'nd4YgYM83Q4LVYjsjnhdxg', 'NdDz1HF8no4Z-qNVrh0o_g', 'fOhDD4nAkOh6D6PMYLickA', '2T6RJJaMWWOClUMZquo_3Q', 'l9FOfbUYRLQrvBnS2K3V9w', '0IGUEg6OQxvV99vozSMhFw', 'kHS936d_kSqs09yx4Vvc4A', '6ybpkh6cf50d4RGuj6KeMw', 'Ub8Fg6Y6KMkq0vq2-nriyA', '1dINCw0hF11imL4x955LSw', 'fp5YPiSQ16cvjBmxH6oofQ', 'jU5sCemxCA4z2vCyWbV9eg', 'or_rJzVEO06-MCBQp-NPoQ', 'TeSVHIde85WwNZrMGTZvhg', 'dmXHmoAKcML3LLIsuSQalw', 'zxc0FENeZLsBhc0Fwh1fKA', 'DHENzraXX0xka34Ww-onDQ', 'AvHxz0nN8tSugXjwvmNtBw', 'yLxaOBEeP1AlQfpAOdIrQA', 'z1ZyPYxYZa0Xn5Q7YM9dyw', 'gl1rUZm_a1QnSyYIv4Zr0g', '7NNjW-2mEFG3RztjSWNLjA', 'sAq8LkEn0_9ET5im5RrGPg', 'uMaE6vxAm8w5LRzIneVAxw', '1_i5_kUXiHDy4mXYUJDfAQ', 'QPb1ECJXsAonmtwN1WTphA', '46AeLXXHJRNnUwKjUSYskw', 'uiG-l3ibOmjlc04CcgHl1A', 'waySZB_iSrL7zLBU0vZlNg', 'JOiArqQVjpGkrsN369eI9w', 'zK2VBqE2USQaAZFb6n1p1w', 'Oycbj1o7LljKhJ7Q0CncWA', 'f5FMkCXR65q19XAnlYf49A', '6qqRxbjA2HquZZnNQrvxEQ', 'Nrrsh3pqDO1f38-7Y0w1lQ', 'F6jaNYQBumACXlaHAR4xEQ', '98vrtZlddIi9JJyxTojpbw', 'jTXujjJ9Kls97NJXbVZWdQ', 'Z5cOGcVyosmY7n0bPrdGOA', '7ATUTDwO83e4TPtu2J5uiQ', 'hNaM9bTby4t137AsUILAxw', '9mnH4Iz1G63rHCDx-zrrQw', 'HKZ2tleK5ZHxgpBdoA7Nnw', '6zB6BkCjziqHo3kAJFnR4g', 's_NFA3MIYd4hEybvQEUcnQ', '5xGvOJBIo9V31gRVPkLTeQ', '7vVobTqu7iG8wAAC3kjJYw', '0nl_JzLu1yd49XWDH5iTYg', 'KqdXTa5tdBijbp-nhekutw', 'H3iLQpCetymE3mLZL3S5nA', 'CsW8sgGdDlljfZpgZEld8g', 'p0Z8VSXuNwwlVb977moxwA', 'nOCoo2RrvfZlHYrIYsj4jw', 'KR-st748cBHPwyEDP8dgZg', 'rbowUnP4uOwqKWBr9hq1sQ', 'kxetSRBL7fYIm-n5r7F9ow', 'R_dK7ZuywcNR9kudTBUYhg', '3xU39oUPQh0-RdQ-4ud-ZA', 'YbtOH8DrINHBzGCvY7HNMA', 'gLWQIMiV6jIcP49rtws3EA', 'KlFvtBgYwOxDu9l8bCBJeQ', 'ZQFma7MIbFtrvJuM9aN9XA', 'ubz0VXYeFV0T3KxvDsXG1A', 't2LC693Knjv08xmqLjmJvg', 'QIin7naNjUgcZJ67XK3ycA', 'v_5G2sI3fBbAsFl5bpVUkQ', 'fHTfmaP0odEKexlByIcxXw', '7yqNtusDLf4yEPX_HSpRWA', 'miBl9qfpPKe9emDhGGyPdA', 't9HmKLYfbLqvXrligGT8EQ', 'RuwBzqDOxjRjKBLBlRDMeQ', 'u3lv-l9Xyrf5zet_QsEXTw', '2K2bbB7OpIv6l7itF7kKoQ', 'FXH94avdpf6IUtb5iA3aKw', 'EvnlkaX2fSjzzeFfTeb5uw', 'xE6u07HHdR-dkRWgaA-uRQ', 'vVsBrkF9HK_WwUW2lflWLA', 'TudK_6DV7BVkjx1qMTz-hw', 'HbksKpWALqEcbtsvhR8xiw', 'tjsZYitmFMlvuUdCG2H8Iw', '7e8-77YSdTwwjmdIFVjk0g', 'E0Q0u96bzu8hrPQpD_b7RA', 's964mYZ2dLmCE4euY_keAA', 'nmxKOTWS0N1T0InB_iu_ew', 't_S8xkMd7ZcCQuGpS3AIbg', 'LIi2wZtOZc49VFlgkDk65Q', 'b_ttH6gO-F5t9ZghljfJSA', '81bG-gCI8v_5wfIGSHa3qg', '6ZBDMCPMKMgLroDbo_-5hQ', '0oq7fJjh95KyVDxiDOAO_A', '0-FV2m87nfvZzMHFO-Pa-w', '4iUnyW07WmQgCh-K9ULsaQ', 'RWrGGWQODBuwnlKVDEajQA', 'b6rwAerr-aCe_-_Cw4hG0w', 'LcZNMiBhUr498xGcZDu5Dg', 'lxy_qV09JJy1b7-X2AhKsA', 'QdZUk65ZggeQG5X7Ze_MqA', '1KGkVAkBU15GlMrToKxxUg', 'nlwlAuJCciMHxTu440XYQQ', '1-OhCObX4w0U9mqsumC3eQ', 'MrDgDmPJ00gLkUWciKhohg', 'w_s6wn2qnMHnRBkdcmWkzg', 'mQan4xu9FZUB3EVvfXRpRQ', 'LtoFQVAxd20T9FmjOOxTsw', 'z-0HOBuzUvITxwDgDOK_8g', 'pnrrcIAsJZ7ca3mdcFKV9A', 'wV0pnmJxvhpHG1PHlI4v6w', '3QO7dmYUa_F_KzHiMhcTDw', 'wCVwMP2i8F0xK4irgSTy7Q', 'ild3IxLY5Y__1HWcLYllQg', 'nKQ0fMAosS0GehGgDQjtOw', 'xU_H7FwMUB4Di_3SDQxKKg', 't1jemox_6VMfTn1p4jTP0A', 'Fb3CS-5-k56GOemQPc4p1A', '_k6gsi7f_Kq5X3jCrv9H9w', 'vCk6aLfP-dUTIvCrUP9yEQ', 'EMlQUpa2zcNIadsqVhwKPA', '91q6N2q5arbqetqFOHpcbQ', 'qQuLOBJ6077EqKJYMj601Q', 'h6q0C4lJV58ssZz20fRh3Q', 'FDIMrWtOqFrJFWgMuYLw0g', 'bmnUeSZUpcZr4vPKGN7zhQ', 'CZt0DVwQECtWb_44N-htHg', 'wkbjxHpbgaSbVwm1xdRbfg', 'Nrqo8dP3e1DOL6X5edxA_g', '2nMXKMo3d9QvXyHdbRNjhw', 'dONTz2twGR-Srgy-A14I6A', 'HaLp-MJBBWZghWJRXiaC3g', 'SBo9WjDhoGY0zPXqVgdSKA', 'fRUwOWclQk0N8mfqA_PrfA', 'qphV6tEyDN50LXOAQueXVg', 'f-kQzobvl2igq0FLMr2GAQ', 'bgSnPAaHUY1CCwQZoDtS1g', 'W0O-l-mAIqNVBSdxcMjlkA', 'I_YQ04qMziEzJvONOlvYJQ', 'jiBKeLTWL_S5bBnz1wFhNg', 'attfcYASl59zb_545NsFnA', 'RFbXwbq7TOEPMAmvXNf22g', 'hnLc-dH8ba2prGDAQlEAUw', '-wuGIkT_ITm9kLe20efXog', 'XZFvf_exRe8b7O_i3_clPQ', 'svWzrxkhZoHYOIW3lvm7Og', '3dm4qcbOZRuA_rK_UiRGfg', 'MHK0-_-TAlJy8-agUi64fA', 'C-aaxWD01kF6ZWdwTZ4InQ', 'ysNjb1y8eroyq-quK9jUCA', 'b1NpXtCOSPscYHPrL6hxOA', '_TW1v0drBHKT7X8B2rB2mQ', 'enW5cv4W5LguCW02_7fN2A', '03EFnpnh8QW-0t0wz2i2oQ', 'mOrnpC2VRr9AFUBlkLv5FA', '6_R5NIxaHzwoTJWsf3wL4Q', 'PUn1BLjRf1Go5wfCltqk1w', 'MJqCeBJZn41qs8EMUJt1kw', 'Yy5NkH0xyPQ_LIynOiz4Xw', 'r93xwFyotR8dlJ5BJPDdKw', '2u1VIo-lcSm9j-GJjC-jGg', 'khrRIJp1BQJzX_Cc57U7NA', 'VOCKjANeL0QcsCkT3OFuDg', 'muF2Bnre6_X8o5EeUOjX_Q', 'fE3tLnuiQ8HMz8ZkR9Ld2Q', 'zB43Bp9DodAtWLnU6PxQvw', 'FNrZDZVM5cmmrP4Kb7YgRQ', 'Z5CqgKv_kjbS68ZBTV6LHg', 'zDFNUqUBJWkfFYpkyIOLZA', 'btDZdKxjDw0lUS-TMqqjtg', 'ZO_5m4-D9KQ1g9Hv-ZKGuw', 'miTv_tczFeFHSQU63OOhxA', 'LNEvSHW4zRJkzfJXZfL63Q', '__yta6wSJepme_v7VFmLcw', 'Zr_EOW4rfxeaH7yoUNnkrw', 'WolYBBpTF73QdK2b5jbuTQ', '1bwmk9l_L_ZlQPo2EMTrOA', 'WzgJVU4KCntG4OsNIBTgYw', 'nARtAKNnIaA04z-IdszpHQ', 'RZBj5Hv6jrPUwtEfqz4CLg', 'tjOM_QoeNpPe5sOJR6YFTw', 'ppOOvLdIO6KBhQamFXpj-g', 'k_PJ_efDFIX6HKTonJPxfQ', 'el1yauS8vkOQh8GKKSb51w', 'rvu3u68-JgFAw_WD0tyaRQ', 'yhbYqPRKDzG07Td8uE2QvQ', 'L6Ue68L12n6ytXIdytU7JQ', 'F86TvoBM-RWy9Mz6U_X3gg', 'xqNzP_whxKP2ZR_P4wy00Q', 'VClSi9iL0pJrZq0CjlueXg', '_WN4tZMCdwAdm73SXbA8JA', 'rxsi5yZYy6xLsNaRAo8RGw', 'WGEYdmrdLWmqkXc6_e7SYg', 'X5ybJ_DQsZ-0Qjqig-eSCA', 'y41EeDTX1_Qv55hWLzthVA', 'I0zuZQ9Xyvl7F1w5Ybb5Eg', 'c2czOA0VrLGHOho39XdNtQ', 'Q40J5-JV0kxP1GWQntTqMA', 'ztybS2nDoL32z3Kfb85Y5g', 'kCob6wOKqwm6hXQ-WLYCOA', 'n_zvatM5p_i0kbUyDrhFAQ', 'DkBYmhE5Gr09T5zs9UTCBA', '7_Os1tjnHfFueTX_fYVJQQ', 'Iqvp8mHhwz7Yl2D8n0WiXg', 'N4lSPEBoJkbG6Odiysx4Mw', '8g-Fcsys7JGWuXzDTf94Hw', 'LfflZS0Ny8LeN3hBCOawCA', 'ktAGaFld7y7_or5AanSeIg', 'ONbunZJxdVwQ3eduquq6fw', 'E8d2wYvNd2PQoAhGizN-Bg', 'A6kTTlL_I4HI_1l7ZpQDBA', 'XbjsaCj2vYMgxPnrGmrP8A', 'OuT3IW-ejn0Ya7BpYTpfsQ', 'xqhTCJu3Ot5SlIGUqsW3vA', 'aqYCg1Fpq-v0cNpfkfr9PA', 'kaFqVSeeBT-7av-Ti8yMmQ', '70ohcWi9jo4iBxchlLhvPg', 'zQ-i0M6t4Od3DJi15vwtBQ', 'vYS2UvmbZm2IdhTxPNctvQ', 'SdJxap4ZR48zLs2LpN98aA', 'XxCr1sk3JwCV1SUDtehQvg', 'RDAwX5yB51vuwXWH2vWYog', 'dMM0g2XjfH-nz-Kwfxv-UA', 'o5EsEsmxHERJEZuJLPyt8A', 'axD-MwYYFJ1xO2_pRHm7tQ', 'Ol4dLCql7eQBku_tT8UBow', '8izyn8Ege_h3rXqASfXswA', 'erV40dL8LpmF8NYANn0c5A', '8aFn30vJyWkpsGYPSTSFDg', 'lF7ykvv4hWqVfZyt0vJsrA', 'Qew_njUcIww4LXdT10BHvw', '0kLr42B0VrfWD34GYYtdoA', 'sfYecL5j1CLgjhWxPArxyg', 'nkDPwHtxO0cKjZtXpbD7mA', 'MLjVBML4TSd8JaYmReO5bA', 'nImuSBM3mzHcMEmJ_gnZdA', 'MR7ykX2p4jlyf2s9vq1nsQ', '9pD1PXPMt7sr9dBZyQOVGA', 'rvvisRcqSLo3d_VN_SA42Q', 'QwvG9GAV7oGVOizVVDXMKQ', 'pyUCzHgOBW381zjJMEnnGw', 'aN8PFUpPKTx_I6iMRJV93g', 'CYbUZmoiYxVL2Gb90PC8BQ', '1-eZNxmNJ8U597c7_WbcmQ', '_EA61NY3bg9TcN1QPaJEZw', 'H4_8IH_E61hEm8VLc2Wfwg', 'wNnnq4-C-7ijlzxa5ivZGg', 'Xx7ra_1f-q_wt0OTjxhl4w', '_PnG-gS1Gah6ppikt2cfMQ', 'myQNG2udV02XyqxeS8MfCQ', 'jcMo2EmIcAlrBO7bF9DY1A', 'qgRMd6pfewN9Q97thwkyeA', 'GSphRfIzr4PsvOT5y1_aag', 'g4uOCqGViXv0HvW8WYrmGg', '9usx31VCSdS0SiMLbRhpCw', 'ADNp61c1BEyDbumiXY0ILw', '197RZigxEbucEy2-GCTtbQ', 'LVrO6HGCkbNZUwoqFoG11Q', 'f0n_PqFHwcro0Hze-bdutQ', '3_BMQGK9WZZowOhJiV-uiA', 'vZe2_oQuVlRP-A5qDweB0A', 'wHnU-o0Zej_VIRyalrzG4g', 'tIU9IPe7lmozobeJO8sCdg', '0_qkRImFqQZCH7CaPdRq2Q', 'nzfogsHJI0uQQEdvGFL92g', 'Bc2ZEhTjFsI-qmiagd2bZA', 'jBJN586aylMDIC3PqzIKpg', 'frQKgRGRUxl7v8y99Hy0uA', '1ZnoTLVCihrJ2SgHimVXhA', 'yFgf68Vwfb09wNLak2zfBw', 'GXLkpFBcnUZp_yLJWB3lUQ', 'CAdzrssSjSc6yI8kkKjASg', '1zifdsYJW4XGcI3a9doEmw', 'i2cKxk6rlkxwosqsTSuq2A', 'OLxj_78CU1VK1L-axjKGDQ', 'fjhUT9gaKXNGyyrddCV4bg', 'UZRCNtWMD8YIz6aFaBN1tw', 'xtRJnn8W3Gx3MHGV3uQZUg', 'pbuIN7TnOyQWvsWuAqALJA', 'OHBFgWAVuwO8W7hDQ67s7w', 'TIxLtl4onikr3LwLNOxINA', 'poy7jeXa2zQRCwECWSVLiQ', 'BNXtzW6NWK9VeC8KEkofUA', 'tcT3bBE4htJn1L0XIGs_pw', 'dfb25IhSAlylx8rzbA7T1Q', 'g-50G2fxoXgf2r_YVwHACw', '8ktEyhgMl1P8QbFO2htPLA', 'ENExjpl30xyYqh3bCEgvYQ', 'Q9_yBPZ7Z4eiM61qShxUKA', 'bRVXAeSInicTY0w36hYuRQ', 'cay5qOlaMXMKIHAhwvn2fQ', 'VPEL68OsuYwsr9z3wtbmDQ', '-Jk_Yk7eDzJAi6zm9rzWTg', 'gVmRMIVOuZ-kI21x26mqtg', '_pQNXIUluB8RMuAI1b9qog', 'z5oNvYYE9cnwMaLlIsDNEg', 'wiqTOKwqUnvJNV_PXyB4eQ', 'Qou2dHZvRGv40k9-E5g4aw', '9tZOZgWqwg9IEwwHB6H_sA', 'XIL3vVkNX2wkqUfCLvKJNQ', 'tUBF_f4YBicg7DiPZEG29Q', '6XxnHK6IYbEMR5--QObTOQ', 'SkYsX-tZyk5fz5Ja9-VI_g', 'Xqd6JEMKA2yDMXiyCASb0g', 'RsWS-f_THCGZQ2n1Q1vZpw', 'Yd9bSwj6WMFt2HSz0lfOqg', 'ubCfuKGcv8iguFZWJkY9Ug', 'JYGJ1jpwPdCJ7Oladm1fEA', 'iQEynZZ0k0RhL7He6mTXKQ', 'kiJkk7A9Hc2xq4OG2kF8Pw', 'rOyfjF4N5tkoLLljDwUr5g', 'iHruUk6xUnWRfPae4m5-Kw', '3oWQFs55ThIf58L3dnBLjQ', 'QqjYTjs0EK-m-zQV3PkY_A', 'f4LHLMSldWhpjro_vJWK0g', 'RfFvSAoOfNYlOiFJQOA3LA', 'o15A2fGq7Nq3zAplOqtalg', 'nw5K6CcJ8E2cKxS_KoGKyg', 'XHvciZhDloDKplB17YlkiQ', 'lId7KuZe665XwVk6GKhfVw', 'i50ZCHZ03kM5GOl1evY0SA', 'NgrqmocCo9-NBWk7wKGX-w', 'M8EkBTVDJA24Iu3AKMpZZA', 'l2AgA6CKxfXarpqp0PgcRg', 'Va9Zo6Y6zrWzpm9iV4GXZw', 'rfe8114k9kVdvg8U-337Aw', 'In2e8OF2uI-THg-xhktBHg', 'UF1oFZw3ntG81FCYghL2Wg', 'OuZkU3z7lvOH4et02-LmTA', 'ze47otQV7xCgDZQDuCPg_Q', 'anmjMLmUWDRApAcJKF9yKA', 'FJEBE0LcJ5zP5pQDiB_NMw', 'DLQXuyOMB2fSLM-vRWy9gQ', 'Wx3xtW7cbCXvEbp_0bWi_Q', 'V3Qdbwv_99aOb-ZcmOjfRA', 'KWPbvTkXVGiEp8yEFpdI-A', 'gHVJsk3HHGRzSsqBAoNOhQ', 'IMITHjLIKBlL5S1_m6QHyw', '1-0XIPO_EwWWKVYZBxBIng', '3grMpu8U6tLjif42A7pG7w', 'yuis3hZ6PRJkj9zFP12zsQ', '9I8A3hj1uLdfMe5YaHsSfg', 'Rqe80sTrkytJVrbmxfkkBw', 'GLZ6YX_PkhehVowEi4z8gQ', 'K50XnJBXnBG_Uh3l2TxYJg', 'Oep5LOrhVB4vcO5M3KXmKA', 'sw0XAlQI0iq7vx1SDS8CqQ', 'GwyT8ig9XRfjf2mGa9ggzg', '-P67hNu_oYXefjJ2Bknfjg', '99wVYTPaCnyZTBFGYOcxrQ', 'UweFsp_EcmOMfGPgdIqD1g', 'cBmH5FT_r9efzYpw2r6tIg', 'Poln8GbzGv4J0iIcME_rxw', 'kYVptibGXE1GZ_FZ-PBjTw', '1Hgnm6Q-TJEQ-XKujWH6YA', 'OBJZTj7nVEC5VDZktPw1qg', 'A8_chIIaNL5ITE3767Mu7A', 'bg7LioJxXUPtIEG9Oq4HZg', 'fhpFo8ysB7-0gzILfMgTaQ', '72NHjVEvkMijayyIB6raHg', 'n7xMwDdvqv2JsQ3sLre_xA', 's4Nis94FQ-Vlu8rJpIfscA', 'Mn8QqGrDraK9hwomi6uRXg', '4PQqZTuoTMZkO14aNkuDng', 'VMUoo_sS8ePnO9sVPO2h9Q', '2pXelxZfyOiSxBZepE7-Hw', 'V1BNszCQl_Qd7reKn1BgBQ', 'Av9qkJ17Ak6N0RHghU-SHA', '8lqY7KqJeJ0gHXWVbUqX8A', 'OocESFk7bnofxAllldw5xg', 'cLdISWvNSRHVPijlBpNhZg', 'GjhfvrnASbU6j8QBIbhzaw', 'PLWB3njPNoe0VRMdp4gMnQ', 'gb_BpK8G5A8FPJ4hp08SKw', 'XJUsn8veN8EDoipapIMoVw', 'Lw9ULPTy8AzVDkawkThyXQ', '7RcDHkG-qdfKieYCDZky8w', 'PN33WshhXtP-jA4JSayMFg', 'Kq9ajpyF6jzo-Qcl5VSAXA', 'ctMc6QcNWG7rZoWJATbiZA', 'nWVGgHTfmbXTXekKntHu8Q', 'O0kuRINLarGmD10d2dRj7A', 'oN_ttB6Mvv8H43-lpnV1TQ', 'LKv2fso3FIsSrth1NfPOfw', '_x_Bd5TuGN2fN_aO_7aLEw', 'meflduhQUbY9KYrGmp8FYQ', 'kmKZmzofPDdr9aRrYXEDRQ', 'zjRFoWAQA_etSNag9CUkQw', 'tUhfYPHYSMJOYfaWJp17jQ', 'zuaLEVYSICNF1nKskQ2ruA', 'zeNWGQM4Cy9Sl_dddO_sHQ', 'kFZQiKjgVBu5RLCmwcfFLw', 'fF7k8Xyt5D9keGoblmt-gA', 'amvOLbJcr-7PcD4GrnOCQg', 'uUjV2WT-F8KwfSjyV2RyVQ', '_lP9K12Y_nFelImh8BjgVg', 'sMSh8ua-SqjykcVzu16ohA', 'tMsg2Cr3FBAbykvIoc2-jw', 'd2oUMearI5fnguzRBDzpZw', '9NE-aLstpPCRQOwHxO-9Ng', 'HGPIsME-P7q5p1_UPzS5rw', '39dBW3gYpBbeZu8eN4KIjw', 'KOmIx5gjF7SPPU_iXHTRTQ', 'vqSCF2evSr4jY8Eh65vNyg', 'v5lk2bWYgpIzZwqiZK2q8Q', 'PK5XBO8UnYa5nxpDfCS9Cg', 'MeLCziQpeRq95ApFubZaxw', 'Uj8Q-MRGNMutvDGB-USbIw', 'QRAGh9qYeQTOXMNyi_y4Ig', 'sad8KCnFw0BJFEZFOJnmPQ', 'pu7XBx9KAURnG0POviaykA', 'VP85Wpjs45l-bx-2f-14zA', 'viweikvVQErpzCv2IdCBBQ', 'cJ7_xLa01MSB1fyDvVkUpg', 'HI8YoN1_SnW3TqNHV4PGZg', 'NvoNtK2qoFNYHwNkBcZRuw', 'X-WmairqDIJZVeg3AE_Rbg', 'nvhpHMemWf8SoSgZnI543A', 'b89W6qvCm2zFJHrsQeoeaQ', 'BsI_wTwDVPejYTDeu8ouMw', 'O-FRfKA8gsm_DcaqNBORKw', 'ADAcPMdiUm53ozGXt45NLw', '-b9WtuajskiCygnXKL6I7w', 'm7VowYiYn-LKiXHpRjn0hA', 'LS9Kg1fWKUeYZ29juk9p1A', '2E23KY_1vQisQP9EU3-eSQ', '5LNUNp8lsTObF7MLXCwGNw', 'zONzAlvWCC3gRj5BwZpTvA', 'H5aAKVSgR2V6yzhj-pPw6g', 'dsH5gq_Yq4WQRy3sn6p4Bw', 'WlNVhp4lpZTXoMFE3U-BjQ', 'KK4k52CbDpg7RP_QL_kFBQ', 'TKx3KQR8UkHDHLf5iFT3CA', '4LTl8VzPiep5Gp3qZOabQA', 'yZOE4mhjWnJ99uScICRTjg', 'HIjymjQXzYQipt6Q9aD7lg', 'XswlAT5bh0z7Y__LF96lDA', 'Y13eGhTNjxabn1eVjhAChA', 'X69D3lx0SSCwCtj2ih4rXg', '8iMV6JkjIwRwcA8CaRmuvQ', 'KoavgXQO6xsiRzg3RrW49Q', 'knlvENfdNH69ax3MEDsVjQ', 'YWj1OGdd_KMZUwqDi-zbXw', '-GAq8VIF1xj3nZ7ZslGDcQ', 'Bk4LYqkwSAxwc7-x8D0HJw', 'OINdYEikzWoHnVPLlzmgnw', 'Ht-0vqKHAKObTBFQwqTSWQ', 'CJl7kjCCCxtbgi92wcCr-g', 'YGLjHGkI8VpyOA9OKmWwPg', 'jQ4yIqBO9R6RSNPCSsuKzQ', 'hqoxIdfBmZJuxeXarAClpQ', 'RgI3wulK9-R6-0OsN3SGLw', '_1gc3_o5AjCRkM7d9kfyUw', '2wStqNZWg-DXZwKa-VkkBw', 'vd5w8nXbuqgUpg_mYXnJ1A', 'ZFTz4yFxTf2XV8KDv4b0ig', 'Z9OX1VRdvWAA76PMjRFzLQ', 'jtOKECeEnpAlnFRfCoO49A', 'PuzoEqmQ2v0phxdepjKvhQ', '80l4HJ7B5AkcBrvqRvybbQ', '5Spf0IbvRPy3v6KhGTWy4g', '4z6rhGhcsM0HT2hVEOBK1g', '7BU2wwrkQ5VsE--HttADag', '5fs17rU2rJmOkN6irtFEkQ', 'ilEygdltD45_Wj8a8uFYhg', 'w51fb8mPp5ks2QlnHqaLmA', 'R6bSFTQOPFT7zhsaSSCtGw', 'RqQ9N12ivsXvi-X-4zTo3g', 'O3ChP3U01IfpX20a5xq0pg', 'Q1cWJ-yj6GSk7dKgFJfynw', 'p5sHHefeK2fkWd6DANCm5w', 'oEnQwJ9WuBoVkcrOp62AbA', 'rHBv4FTEgrNv9IWBNq9wSw', 'HUfOSUc1ESZoeH-nFvtEmw', 'EEIlziT6GJ3cFwnnW3l_Yg', 'IHDB38lcpulgwIQ1xOavPA', 'LICM-MfKQO-HkU5tipksRw', 'DslCIxlx4IGyzQmFtP2iGA', '31HoAT1Ko3xN6mCwouB-rw', '9E580mFn-poOa-CsoNI2XQ', 'qqcDrrnQybiHp-sOVJ2-Xw', 'AeWGgASVvZTcIheceYvSqQ', '7SVtITXBVuQY_Z2avvA6Ag', '-EiuXpS6weZJxevIHfJ2lw', 'j6F3bQ0S81crKdCqYu_H7Q', '10CUePH-YKjTlvaMZa5WTQ', 'vcF8oHIae_nfq7it5B75Jg', '1VM1qsdGVik1jHX2JasEbA', 'fE9UL0eyumnIkiBB-nO72w', 'bHwzC-FzeHsGr8KJK4oZlw', 'enRajFcBcHZR8hIS8A_MkA', '5lJ2g1WBPdnzdDF_-vVGig', 'P5YVQ_aca8BBEfZfx2m0_A', 'JziaPhFSQnNfHvFqRFjjnw', 'yo7qONFCKaJ9ypswBSa6XA', 'QybaYUVFOEJRvwle-koLng', '9H0YtbyzUF-o545WnediWg', 'FKxL3h7Erv2mHx-VU3UB6w', 'Bf_apIdx_AAgNQuiBGxswQ', 'lYwEDfH1XXjiqt68ERnDcg', '_h3e4upKUUnHJ-552tJpWQ', 'kdWVS04gZMZHlDrQjd-1aw', '0hDLC63JqX51gSg_piKcZw', '_m5iNQ8Osva-7Gt-__xqyg', 'nKLcQE_ZIl9fccCM-9tPww', '6xvusJezZ6Pj9ZPyE_MVNg', 'OfMFjs1cX3Ykf9ppRjYN_w', '-zv71n0XC5wk8bmgMMIP_A', 'vcYyitrm1s9qmMqr9CDpsw', 'NWkmFW3KZmou75A_nqfbsQ', 'FgD4-Wuk4MCQlfjoYwbKnw', 'djCRmtvycnrn-TDhezMDdg', 'n-cWVL1saISag56dUInQgA', 'BWFkCcpRgEbhINohccvsYA', 'izkPJDS3H__CC_BAG3CjUQ', 'cuBRAOuEvl9FvCKAwBbDcQ', 'yepFICTDCDbzwIPy4tFLMw', 'BmdeLaTuxOrI0oK3NAQ7oA', 'URsE167n81yx9PkbzU9hrA', 'zoVDnCj_X8IHxENjubvHqA', '8GbXUCRNPcIf_tVZHFoIrw', 'n17LmQG1HKPNInP5vHiWWQ', 'M6uF4tp4G_eph6oMyCwp3A', '1i-klcIoY9kgZaIUrvgrcA', '_oSPBWXeiY65jxNZAfjB4A', 'jhb88TZ3T6S5ikgtwvv-0w', 'y2DnHTu34MN3oYjO3VxGtw', 'DhDNbw0q3Bnlr1B97SN9LQ', 'e-giRj9rwTEGF8c6djSOXQ', '7L4V780bT2bqSJSuFLYh1Q', 'C04isPnZew0WlonnN5oK7g', 'aGHrzWpPYr4Xb-OnHVR4SQ', 'iB78PD9tVtTUH85SHCqZLA', 'UoDa4N-be4878uq26Y041A', 'KfXJWIbEXF8sKvVNzL_anA', 'K_tqjaKbjM6Qi13GrcAFug', 'bhyj8yPT-Wp609gKZzCXnw', '_Wh0ONQFDO5SO_KLKbkwrg', 'kCc5o0CmeMJv6m7dUWsqjw', 'nScCs1PYzTsk-fc068swgw', 'jJztOm57OcgvNN9CKUL2JQ', '0MRgOfHa57Z-TJ9d7v5gZA', 'lmiARNeX1IJTILX1JrxmhA', 'aDQWLRGuD3bgT4wrFyIyBw', 'rexz563nsDrVsep7gYv-rw', 'zKN4qjANq8c83W_KMBpdPw', 'qRnotzsq36pI1mRgZE4evA', 'bCyOn43Aw7upfeQbcYKSFg', 'KfsCodZQdxjBvEstVbbQPQ', 'VIgjdM0Vcz0PqyFXvYqbmw', 'b9T8-zkMY5agEs06j2Iknw', 'NA5SmEDQPoCPISzA0yVATw', '00Iim6bF_Lv_w6VacT0bpA', 'xPi-Gls6fK8NTrxDuYjQ8w', 'cwSUKisy6TQfgsLGm8Hu8w', 'QhWtsHZXCzw53it5qeRvsg', 'VmdrtbmgzF0hj4XwmUNmrg', 'PlQ-r-oEYpR-BgJzSANirg', 'nuw9bOLB6GDs6Z0A9HYpuw', 'Yny3dzBrNmEqnPxu0hHhgg', '8Tf0XpMgn5fRvFcfPFMFCA', 'FH6mPIa1425OuitPu6xjfQ', 'f5lgoJOlu6GIUrKZqbumUQ', 'PyRe5MzqeF9fs5PyphOzPg', 'NTCj3xqkFNSdbEh5U6kDeQ', 'mdyUzdx3C2Ce56fFqjBUzw', '-_rtkrhY4LikFKADxptifA', 'Tjzz5RWZcYn8u9obD0rLtQ', '8-Z481iIY2ykLmLjrHx50w', '9HaLYux3EFDpzddPE2J7lQ', '3Bk8I8cVFeDBzHsaGdhmWA', 'yNVARFVjtMujIwQnxyFcAw', 'Qy1Ir6GM9nywEpZP9a8R0Q', 'b5KZyiiTwJaX9RKKK3oxGw', 'ihenjqGHxQsDp0syZWcIlw', 'HvglctrPc6yJLKydEKJt8Q', 'JLy2PKZ-WIYMBCYUwuAx7g', 'TOo7sgIkrXhrEXVPvDm6Kg', '4_NfQgsfnKqCM4hagBomKw', 'ncR5hLepsTmaOKpH3OP9OQ', 'nqQT82JReWLAS_yp0sYzoQ', 'Oxq6GCbxuK6fjvnuA7eNGA', 'JWU-_jkTCmOVzCA9W7E2nA', '7eP-Fzf_cRuWekBtOKqhoA', 'C-93kUiEWV3vh3A1__L6lg', 'ux__dG5zqsQ85QthgwIaCA', 'SsuOI6hgruNblyb1279ENw', 'P1L-B3V1bTP9H7k7y36mxA', '84a9FcXPR41izvOf8X3z_Q', 'WqXtT1qB2mlobBFCHo7zCw', '_uGxiFB9zcJ3qf_iC-gjLw', 'kC9W87_bd38ioee7hQSw8w', 'EL0Hai5jKagBVG5ft8rvsQ', '5JJltv_2qZNfea4-MJIHBQ', 'TwsN38RWWCy9jMBDv7iQ5Q', '72HxrYgrgRoMnsWgT4L0ag', 'm-AjzvK3zv_2tcSS0H4KTA', 'EeNCSJxbe73P5Hre5aUV7g', 'iwWD24r4Xr5ZY06Q8xDImA', 'RizlnKSKXmyN4eYfgT3Kuw', 'OpQ6gBF0SOveR7EkkJa35w', 'UAnTzz9LTJppHbLy_9zMqg', '0LhXqYKkuiqsVWOrql0XKA', 'WL2bM6Gemb-Pik5stmaIiA', 'ReXwtrBY5P_BokO3k4CP4w', 'cnvmD6MXACrfeSln86j3lw', 'wZK0PJG46rKTyk7Eq-eXmg', '39SVA_4E6pzVMZ2c2UGHtA', 'YMAaBQ5b7p5K1RKPjwawYQ', 'ic0U--aXcpHlXyAZZqKwVg', 'hvGS5mi7a3o8gqyHN00_Ng', 'C4KYNlzknOOpsxj6--H6JA', 't5Yumpk5ofAwWFMKKDinbA', 'HlppwrclFHvBJaeaSIvfvw', 'nccv2AH-8fiG_Atj5SBdoA', 'xan6hnOYtvqcurbDcMcklw', 'C_qRnlVuo-WHPCrIac5IZQ', 'yOPcFiRIhsV8fPiAyq9uDw', '73oGVlx4G5M4fF-ORbkqfw', 'GyiWMy9HeiMLJl3yGKQuEA', 'MFp1RPjq-WCcnfHvfrGtaA', 'PRMfldlzuLg35W7TYnxKKA', '-GbasJ57TAzEavEy3Y8IbQ', 'Aqz9ldgQhX7oa3REuN8x8w', 'Oe0GOqQFjcnY8F4qqI1NZA', 'nt58IFJNzfhd5cELLlRgxA', 'BSwexVfM6iroFzvIMX3KCQ', 'WPPJJTwN72HQSP7BLGVsyg', 'CsftO148wAevSy4ftPYsLA', 'tjG88wH900Gd37UcLOccKA', 'Nj0rWcqbJXurBxbHZpL-Tg', '7bjrsr3qQCbo5Nw00nqRWQ', 'ljoFTbCk4hw_spo4l8ol_A', 'p9pO9joGuyKueFNjPfx5cA', 'coYNNKrO8jHIyIW2spUT9Q', 'r71biXak1trKYQG6oEULig', 'qwyfAsXqZ3Q00pqi8kRwrQ', 'cj66fifXUrIFEB-QG7KE8Q', 'DjSi2JAT5o5Yh-4I6Hz2iA', 'TShBkgQO84Q7zkmvv8r9sg', '75oPCKQVQEr5UBrf5X8ZLQ', 'zM2vFnTG9f5DWcpL3AcQHw', 'uMaDIW57UL3HWTXlsnh15g', '2GKcMMXTqBkk310w-1TThg', 'zFg7qMGVTeNbzsZKivDEEg', 'DxdnMa7x8R3UV4xSVhIYJw', 'GKYTEPTeK4OFgZcxUIrIkg', 'hPN83j6Nx8vMhOA1oDvb6w', 'sEM7xR2wOMbGcfrZXfD8gQ', 'wYhXHy0CQ_hELSjnYc-Jsw', 'h8IiocWQeSWEmbap9WkltA', '7tbMExoS2_Dz9jq3Tv-eZg', 'qP3SDGuvksqAF1PbZkvkzw', '9L64gr4uW9MRdjnv58ioKA', '8BjLBwHe_FJBni_ZaStktw', 'VvyCHXTiDkQDB1XBhn0tYQ', 'qIwcMqGmkUK89THQgtgonA', 'Svrnbg1EcaZSx3vvEHCx8w', 'hFnTwR0ftHaKj8DCXV9NkA', 'HwtRHOfZn5Bl914VOnXWaA', 'Dh39V4U_N5UTo5g81HfZ1w', 'uZAkz13yDLtJHSR4Jqhv1A', 'ghtW-CxNhG1u32cZk8YKOA', 'OlGJpDVtS5FnaDUJ2pZ1YA', '_hh3KsV9RPqJ8PbwO98opA', 'ru2J7lOxruImdROVKuUB-w', '6zcx9XCXHYnMvIqYq8BHsQ', 'Y4XDgblaZqJ1Hd5ZE7zfpQ', 'ePyHpdR7chcFMAPuid3gVA', 'W0R_3gNgtqhm48K_7Y5JRw', '-hsagK7qLgqa-dVgq2Go7Q', 'MSbgwiEM_FAKgH4Gpagl_w', 'EqNbu3xKnklzVGAb2GOBiA', 'IwZrVvhSoVlgJU35VGJZjg', 'C0IIdJDPjX6kI_70fMa9MQ', 'I6k9TC-GuiG9fgOwPFaKPg', 'gE63YnsKX_4_2kfDac2yPg', 'YTSB1W0e0w9C8LL1vt7QVQ', '3JfThjdxBvTral-YTZ66gg', 'YD2_EBV8aYS7zeADz9UnKw', 'piT7qcjqlD0N2Nx3miguiw', 'CjR1Xff2pjhi2xiFk_jV2Q', '2FX8-oqp7AdDfk3OOJAdag', 'EhYmKRLwiMDSXakHSCiGhw', '8wBOUyILXo1m005-78xG-Q', 'qLaAvuDNsOlD5wJ66bRG7Q', 'G5AlG5j2gqk_qXTgUP1K0A', '2zS0IOybCU9MAuGqDsveqA', 'Lo4ahLrW-WcW8c5VzHRt_w', '7GbAMIGxrk9eJBgHlFaXjA', 'kvjoLrSDdOCWnU6ttUIRrw', 'oUpf_Wn4b0WDRKt-dbWFIQ', 'TnS8aLI8kpPLHOOCW0qLWg', 'v5LiaFSoKRatVPdt-plpUg', 'D3EjUlgv6NQCisnFts3flg', 'aPDx-oQt6ZNgqHkymv8K2Q', 'rkT2f40894fm-rE7wxc9hQ', '1jzPkW_SONoprrKmIdsHVA', 'N47_H7aoDRppVM6sPJh0og', 'Qtw-TLX13HUyLEc6hk22rw', '2UvbaAqvBbCw8hSso2PjFQ', 'L1O3g43XvC4oOLbYOLdZPQ', '7_ZdoALoJcxXnzto0Hp0Sg', 'xB6NIvWV9hJgrUgcv44ZQQ', 'h0sDKXYtpfbl-WoMf50eyA', 'yNfGZFp3ETwtRSO9XM1NEw', 'obmiwqClOkDZ-wmK2-dnrA', 'wRXvQKW_GkNX4H6z6eXHpA', 'XzyRGcO4QI5OidJMh_eb8A', 'RIMQufgjmE2X39r5j_0o1A', 'xwb942qzmdH_TMxdVrn86g', 'PB7txzrNfs9nuGbS3LTLdg', 'YW609Ej7uYa5TTEVV8GSaQ', 'K7gG2KiMkwaGEVvh-AwMrw', 'wcS8L4BeBeZ6j2W1F5n27g', '3_YzOdIl20Y5-dV_qXWetw', 'a-0ewOevibXoGUsaJGFOyQ', 'A67JBndjaZ6lr_8JJNgfng', 'PTnvZTLwhZ3wYEYIgaTyFA', 'mkFCYA7JsMv4f7BReyzFkQ', 'Cii9w9zt4gQTsN5nrCeROw', 'd4YRrZGQkGAryZrldfDyHQ', '4vS75nSYOucOPsSmRmJZ9Q', '5L_q-HY1lUwpIIJWCZUYkw', 'PfjxQHCTyDVOZvtyBaWnuA', '9uXO6dUDULSMX_ujsS0IcA', 'RYEtoRx2MjpOLIyKnhXfKg', 'U6VX7ek93tAKjgdVzScyIQ', '97aUtOZ187vQvYH0vCofSQ', 'CGRcBeGlxBtSnDroG5QAOQ', 'xKTwsencegyyzu3xFmFIyQ', 'l9mbWLsfa7uzRTgDHvVHSw', 'OrYNOle9IlwQATh2CjG6GQ', 'StqkIJBO_2D6BQBVnXkWDA', 'Z-vKx7zDT6NI5AU-9RFaMA', '22SsqcJGfiOVH8gC_qSf4A', '-sredGMFDFVEZoLylOcSRQ', 'dU-LsQZ3QxDPOBoPHrBahw', 'syJvdLWagqxuqkPeVjRqCA', '3jhUQj24Sjm93lHyYNoUTQ', 'ljEWR6OQl54U7hqvJqKTjg', 'J0Q_Bo2vkA3dygzSw3K07g', 'lsrUfLUnmBKWqIkuI6VL0A', 'O5nj_aUSRYYbisPIpzbPnw', 'tt7Qpx_wPo-D-826b5C9Rg', 'mKLZRdWu9DAr0yHA4--tXg', 'oCMaUHPHenBhZFcXDAK2iA', '8BGxEJ0bIHP5ZqYOgeJuRQ', '7e8CaGonQ72TUJxfzAyLUA', 'afujkEjpoNcjC8CtKSDmLQ', 'XkV7LYxKe2vhmzwCI487Qg', '-DXHj_7ZUG62Ba4BIUuS1A', 'ADZ4F0KvheSwTIMYIad15Q', 'H5tceBuGURlcx0omAVPPKw', 'so10JadgcmH_3r0Up_lYcw', 'SdHobz_v44IOuI44TTpu1w', 'dYGibVds8TjNoMp6oInxIw', 'W2PGnGaxcuArklf2QlXEfQ', 'bRanrogX8x97IJn9Wl-NRA', 'LHTAXp5vlFnIVLJtozgShg', 'N8SvteE4Qqx5G65EXh97Cg', 'SiS9idmbHlT3rJP5cF-hDg', 'mpRcuMU0g7WEmj4Wxp_1PA', '1XoBQl5rINPJDvvu03nKNg', 'QJ0ItEFBXL8jB8nvH_SSgg', 'BlLO3tFHOS4HLNZAZJyhxg', '8ObhXSRqOuQbB-j2Wh6jng', 'PsnqhaNqpomBi9ElUQU2HQ', 'V5ITpwpqcF7Q9g7LxWgy4g', 'jI-U7juzlPSaEia3zX6Vpw', 'OsUrKrkHGCgC6bbRD9lGUA', 'v-ODSdVWrJv-uvBbd9MJjQ', 'dUcXb1kQ11R4dMEXZr3wAg', 'O-u1B9R8TeF1Qk243ut1ag', 'o_Z6zmgOB-Mkra_DEzh4Vw', 'pe14VdPfvjBPsmuO3JIFGw', 'Ugst16KLyZSaKfNYH2EciQ', 'iYQYP2k4p-xgyOsDeH07Ag', 'lv4kdY5Tfn0ZHTx9HJFYnQ', 'd4A2zF4PuvTy07AG-J0NpQ', 't0OmNsMU3aRWjtN8aUHsSw', '3jkMo9V_JRwC79ubTWDHEg', 'MNvCKHT7PrFl-v5PKGq_Zw', 'u9MelEddwEk3aGT4C-KHlQ', 'zv2TMZGAgOceQqWXjHmcbg', 'gjSdAbvwf0qwBYO6HbgvvA', 'xInMyZLPp_FiQ8JmzAArjQ', 't-dFgeX57z5c7vsvvlLpEQ', 'fjTR7tDzumO12iQg60WE_Q', 'slmqmxbY7qLNn-36lCO3Xw', '_tvt3zUbrVL109qH9TLxdw', '28cdL9rAA1IMVCroHguStg', 'Qv7JApO_VYZrMfGND9WkMQ', 'kdOloTRYF_ziyNq381hQuQ', 'cTVYMxmidDn9FYyfj3AlAQ', 'nq4RPHQ9bBqramJP18LlaQ', 'Am4W1hFK7k86PoOnOLltFg', 'hkSLUrXyBoeEMukZQL5s8A', 'BLD9kMLJNKLqB_TfZpQhtg', 'pnnQ8qF89_EZSEq75CzhRQ', 'KXYjyiUvxNioegoRSgHFXg', 'Ea1TTpNt0gV1W5dIIuYAOg', 'Kwk8Qq7aGB-nYsiEoaq9UQ', 'WtnA2jtd83iPS4MHfM6UXg', '8ZkQCcuHeYjX4NLjxvvTcg', 'm-6Nru5ZNzg530pEwXqc7w', '1V4r564t6q-zzkUabzFvOA', 'ygM4COQrVFWlNLSAsLDpqA', '76tE_h0nSC8CQAdtEN-bqg', 'CRvH5TaljqaPw-teGnxcKQ', '4WCiiGTy2IiJG8prLNfqxg', 'EOBQaUgj26ZgD7QgmmjDfA', 'GvTYsBq6Ttcrvl6msYNj7g', 'w5Do40-SyPHRIrYEfnPGdQ', 'WHgiHS97dvqKyuf2tZVn9w', 'oBsF9cxPbCCmdZ0Lb0SGOw', 'Fe3u8X8U4FqVhVK3CrCGag', 'OPLO5_2Q8Ff--pW38TlYCw', 'cUDzuw4wiox9e_CeDqCXOg', 'uPaU16mef6xkW3w3xjHSZQ', 'tLzpdMIhqGXBzRiOepAnNA', 'L95j5cKPv8fTgfH7j7Vzjw', 'l01KN1-IV-KLXgtLu5So6Q', '5PZPo0b5hzt1MKSrGfPOEw', 'R5WF0BPsemFHlpCO6_JCzA', 'NHKSmPGS3fFnyR2-cMr0Fg', 'B6M15zWDbRfE95GMEuVVDQ', 'ZarFCkmOzsA9MnxET_gu7A', 'JAITDPxUFvrkB8QUD7-z1Q', 'JrH5rmdHsdO8DgP90_6R0g', 'dIJuG0lLzHb5bD8pOMWDIQ', 'XQQfi-QX4epfaYePJKH4VQ', '4hDYXN8ox2xNxvyME5xC3w', '4XD70iodwvKTcxVLkOiFdw', 'C-pB7lGXxtKiK55NYWG7-w', 'qyWj_FqIvlQ0xa-gnBx3zQ', 'MNo21WQB8JwmkwjIWx0IpA', 'H1T4jXaxP4Hpg_zZ7ckWvA', 'D2G38X3sG5cvoLPLHChYPw', 'hTLBj8AIJ6fAPFAeyUZLXw', 'Pl34b6UnepWZKixEG69qQw', 'A-D9P52s4YN3SRT0tAMJyg', 'WrIGPW9oNmOef4vBMHV5yw', 'hBd5vor9ki8qTA5xU6E5xw', 'IPCFHtfmWnvB0GQIrvqM-Q', 'GDEXEAmSrojouEN_5O5ciw', 'OgVNOWXrQ2a3gGPoX_UJkQ', 'vzSpNJEG5ENjynqOtKNXFA', 'Y_DmDXWrfDtO8v-1RF92ng', '9G-wpa63peQ5KOmXQT-vSg', '1q2GjkgNbj-zCfy73kJoMA', 'a-TzUOd1Hm5gAfeouJP4mg', 'qiM0am9kaePl7n-e3hX58A', '7Jv6vqPooeAlq8pXWg0TGA', 'mOQ0MsUib33LtzPNXgnRgQ', 'D2KtJE6c8CGxdfs0Qo9BZQ', '7Mot-39vdCsjEjIxHvOsbg', 'IH0wIMQrwCLrSknoqxRDQw', 'r3lnUFryb5BBd-QRJXoHFA', '1QOJhbOLw_Df4VCEx8ALFg', '5Y6UfcHsmZa8GNpsqoEjww', 'Ggke1lxDy4Q-_DRLOD2FQQ', 'q4kIwHDbNgqEe9yLQ8YNGQ', 'gtZA97UJh2537-tOtVLmfQ', '2EjpNFhcxJ20IO7nSgG4iw', '6dFTuMn4DCaMFslCGzRkJw', 'edCm7enpxNk34mXAaquwzA', 'zR0wGam4XLvj3n_e_pJ62Q', 'V7B_G497leoMRdXS1ducQQ', 'kHfInHfX9HX04urIcwGNAQ', 'pYrAKf1qGlgoFnJ_3xqoSw', 'RhJXvYqAbeM5ELIzvYJSYQ', 'w8rX2hgdiYF0LSGLx5n6GQ', 'ORI7fozEGnD7miFv-2oZaA', 'mRZEuYufrpozzIyH_PoHOQ', '3kgP4g5PmMTr_neZzk1UKg', 'P7wFq130E0162ixPMy2vNg', 'H5zeEYFZm2STC-OlHgfUlw', 'mXC-AquWd3BQWo4geS4GUg', 'vx66gCZLYM2Be6H52Yjnng', 'DY8vLxIdZ0oLfy5ozm1Nsw', 'HboXWB0IlVBenLE7LEqOZA', 'Th8N5rsuToyPB5mW_pM8KA', 'hMd-LMsQ_idkDi5RET8xKw', 'VAdA1evQyEJSOIDiaZlM2Q', '9jwY0dliTtNamNmbQoMN4A', 'v1brBS7juhaP1YkXLp7ZQA', 'ockFtmG4btt1bf9GgVRNSg', '86f7GiUFQsOtZ6_KZaJLYw', 'rv8yDNDmK6YibyKQMtUp7g', 'P2H9Uyem-pc1b2WUn6F24Q']\n"
     ]
    }
   ],
   "source": [
    "train_ids = list(df_train.photo_id)\n",
    "print(train_ids)"
   ]
  },
  {
   "cell_type": "code",
   "execution_count": 15,
   "metadata": {
    "colab": {
     "base_uri": "https://localhost:8080/",
     "height": 206
    },
    "executionInfo": {
     "elapsed": 7,
     "status": "ok",
     "timestamp": 1663090597685,
     "user": {
      "displayName": "Toni Vila",
      "userId": "16769261626805193360"
     },
     "user_tz": -120
    },
    "id": "GSLX7BUyOlRX",
    "outputId": "615f435e-ff92-4072-854b-350c4897f032"
   },
   "outputs": [
    {
     "data": {
      "text/html": [
       "\n",
       "  <div id=\"df-02602baf-123e-418c-9daa-42ff6fb93118\">\n",
       "    <div class=\"colab-df-container\">\n",
       "      <div>\n",
       "<style scoped>\n",
       "    .dataframe tbody tr th:only-of-type {\n",
       "        vertical-align: middle;\n",
       "    }\n",
       "\n",
       "    .dataframe tbody tr th {\n",
       "        vertical-align: top;\n",
       "    }\n",
       "\n",
       "    .dataframe thead th {\n",
       "        text-align: right;\n",
       "    }\n",
       "</style>\n",
       "<table border=\"1\" class=\"dataframe\">\n",
       "  <thead>\n",
       "    <tr style=\"text-align: right;\">\n",
       "      <th></th>\n",
       "      <th>photo_id</th>\n",
       "      <th>label</th>\n",
       "    </tr>\n",
       "  </thead>\n",
       "  <tbody>\n",
       "    <tr>\n",
       "      <th>1636</th>\n",
       "      <td>jJ1vIFzo-soZsS9ej2D8_A</td>\n",
       "      <td>menu</td>\n",
       "    </tr>\n",
       "    <tr>\n",
       "      <th>1637</th>\n",
       "      <td>UN08a0LgT7eFCAKXDnCXeQ</td>\n",
       "      <td>menu</td>\n",
       "    </tr>\n",
       "    <tr>\n",
       "      <th>1638</th>\n",
       "      <td>bz8LOw9gzmCrfXdfj87aPw</td>\n",
       "      <td>menu</td>\n",
       "    </tr>\n",
       "    <tr>\n",
       "      <th>1639</th>\n",
       "      <td>sCcfOgqPgs3j7u_l3FfrzQ</td>\n",
       "      <td>menu</td>\n",
       "    </tr>\n",
       "    <tr>\n",
       "      <th>1640</th>\n",
       "      <td>uHmi8LQMOeU9hNuuc6-pqg</td>\n",
       "      <td>menu</td>\n",
       "    </tr>\n",
       "  </tbody>\n",
       "</table>\n",
       "</div>\n",
       "      <button class=\"colab-df-convert\" onclick=\"convertToInteractive('df-02602baf-123e-418c-9daa-42ff6fb93118')\"\n",
       "              title=\"Convert this dataframe to an interactive table.\"\n",
       "              style=\"display:none;\">\n",
       "        \n",
       "  <svg xmlns=\"http://www.w3.org/2000/svg\" height=\"24px\"viewBox=\"0 0 24 24\"\n",
       "       width=\"24px\">\n",
       "    <path d=\"M0 0h24v24H0V0z\" fill=\"none\"/>\n",
       "    <path d=\"M18.56 5.44l.94 2.06.94-2.06 2.06-.94-2.06-.94-.94-2.06-.94 2.06-2.06.94zm-11 1L8.5 8.5l.94-2.06 2.06-.94-2.06-.94L8.5 2.5l-.94 2.06-2.06.94zm10 10l.94 2.06.94-2.06 2.06-.94-2.06-.94-.94-2.06-.94 2.06-2.06.94z\"/><path d=\"M17.41 7.96l-1.37-1.37c-.4-.4-.92-.59-1.43-.59-.52 0-1.04.2-1.43.59L10.3 9.45l-7.72 7.72c-.78.78-.78 2.05 0 2.83L4 21.41c.39.39.9.59 1.41.59.51 0 1.02-.2 1.41-.59l7.78-7.78 2.81-2.81c.8-.78.8-2.07 0-2.86zM5.41 20L4 18.59l7.72-7.72 1.47 1.35L5.41 20z\"/>\n",
       "  </svg>\n",
       "      </button>\n",
       "      \n",
       "  <style>\n",
       "    .colab-df-container {\n",
       "      display:flex;\n",
       "      flex-wrap:wrap;\n",
       "      gap: 12px;\n",
       "    }\n",
       "\n",
       "    .colab-df-convert {\n",
       "      background-color: #E8F0FE;\n",
       "      border: none;\n",
       "      border-radius: 50%;\n",
       "      cursor: pointer;\n",
       "      display: none;\n",
       "      fill: #1967D2;\n",
       "      height: 32px;\n",
       "      padding: 0 0 0 0;\n",
       "      width: 32px;\n",
       "    }\n",
       "\n",
       "    .colab-df-convert:hover {\n",
       "      background-color: #E2EBFA;\n",
       "      box-shadow: 0px 1px 2px rgba(60, 64, 67, 0.3), 0px 1px 3px 1px rgba(60, 64, 67, 0.15);\n",
       "      fill: #174EA6;\n",
       "    }\n",
       "\n",
       "    [theme=dark] .colab-df-convert {\n",
       "      background-color: #3B4455;\n",
       "      fill: #D2E3FC;\n",
       "    }\n",
       "\n",
       "    [theme=dark] .colab-df-convert:hover {\n",
       "      background-color: #434B5C;\n",
       "      box-shadow: 0px 1px 3px 1px rgba(0, 0, 0, 0.15);\n",
       "      filter: drop-shadow(0px 1px 2px rgba(0, 0, 0, 0.3));\n",
       "      fill: #FFFFFF;\n",
       "    }\n",
       "  </style>\n",
       "\n",
       "      <script>\n",
       "        const buttonEl =\n",
       "          document.querySelector('#df-02602baf-123e-418c-9daa-42ff6fb93118 button.colab-df-convert');\n",
       "        buttonEl.style.display =\n",
       "          google.colab.kernel.accessAllowed ? 'block' : 'none';\n",
       "\n",
       "        async function convertToInteractive(key) {\n",
       "          const element = document.querySelector('#df-02602baf-123e-418c-9daa-42ff6fb93118');\n",
       "          const dataTable =\n",
       "            await google.colab.kernel.invokeFunction('convertToInteractive',\n",
       "                                                     [key], {});\n",
       "          if (!dataTable) return;\n",
       "\n",
       "          const docLinkHtml = 'Like what you see? Visit the ' +\n",
       "            '<a target=\"_blank\" href=https://colab.research.google.com/notebooks/data_table.ipynb>data table notebook</a>'\n",
       "            + ' to learn more about interactive tables.';\n",
       "          element.innerHTML = '';\n",
       "          dataTable['output_type'] = 'display_data';\n",
       "          await google.colab.output.renderOutput(dataTable, element);\n",
       "          const docLink = document.createElement('div');\n",
       "          docLink.innerHTML = docLinkHtml;\n",
       "          element.appendChild(docLink);\n",
       "        }\n",
       "      </script>\n",
       "    </div>\n",
       "  </div>\n",
       "  "
      ],
      "text/plain": [
       "                    photo_id label\n",
       "1636  jJ1vIFzo-soZsS9ej2D8_A  menu\n",
       "1637  UN08a0LgT7eFCAKXDnCXeQ  menu\n",
       "1638  bz8LOw9gzmCrfXdfj87aPw  menu\n",
       "1639  sCcfOgqPgs3j7u_l3FfrzQ  menu\n",
       "1640  uHmi8LQMOeU9hNuuc6-pqg  menu"
      ]
     },
     "execution_count": 15,
     "metadata": {},
     "output_type": "execute_result"
    }
   ],
   "source": [
    "df_test = df[df['photo_id'].isin(train_ids) == False]\n",
    "df_test.reset_index(drop=True, inplace=True)\n",
    "df_test.tail()\n"
   ]
  },
  {
   "cell_type": "code",
   "execution_count": 16,
   "metadata": {
    "colab": {
     "base_uri": "https://localhost:8080/"
    },
    "executionInfo": {
     "elapsed": 225,
     "status": "ok",
     "timestamp": 1663090599630,
     "user": {
      "displayName": "Toni Vila",
      "userId": "16769261626805193360"
     },
     "user_tz": -120
    },
    "id": "i7-cPVeFSh76",
    "outputId": "f93c5000-e068-4797-f76a-c7a7bfda204e"
   },
   "outputs": [
    {
     "name": "stdout",
     "output_type": "stream",
     "text": [
      "El tamaño de Train es de 6564 y el de Test es de 1641\n"
     ]
    }
   ],
   "source": [
    "print(f'El tamaño de Train es de {df_train.shape[0]} y el de Test es de {df_test.shape[0]}')"
   ]
  },
  {
   "cell_type": "markdown",
   "metadata": {
    "id": "Th4Ppc4PjMHX"
   },
   "source": [
    "# Reescalar"
   ]
  },
  {
   "cell_type": "code",
   "execution_count": 26,
   "metadata": {
    "executionInfo": {
     "elapsed": 259,
     "status": "ok",
     "timestamp": 1663091587477,
     "user": {
      "displayName": "Toni Vila",
      "userId": "16769261626805193360"
     },
     "user_tz": -120
    },
    "id": "g3S9oC-dXdz6"
   },
   "outputs": [],
   "source": [
    "def resize_pictures(dataframe, img_path, size_rescaled):\n",
    "    df_temp = dataframe.copy()\n",
    "    df_temp['image'] = ''\n",
    "    \n",
    "    for im_pos in tqdm(range(len(df_temp)), desc='Photos cropped', miniters=len(df_temp)//100):\n",
    "        \n",
    "        with Image.open('{}/{}.jpg'.format(img_path, df_temp.iloc[im_pos].photo_id)) as image:\n",
    "\n",
    "            width = image.size[0]\n",
    "            height = image.size[1]\n",
    "\n",
    "            # redimensionar\n",
    "            if (height < width): # imagen estrecha\n",
    "                height = int(size_rescaled)\n",
    "                height = math.floor(size_rescaled * width/height)\n",
    "            else: # imagen ancha\n",
    "                width = math.floor(size_rescaled * height/width)\n",
    "                height = int(size_rescaled)\n",
    "\n",
    "            resized = T.Resize((height, width))(image)\n",
    "            cropped = T.CenterCrop(size=int(size_rescaled))(resized)\n",
    "            df_temp.iloc[im_pos, 2] = cropped\n",
    "\n",
    "    return df_temp"
   ]
  },
  {
   "cell_type": "code",
   "execution_count": 27,
   "metadata": {
    "colab": {
     "base_uri": "https://localhost:8080/",
     "height": 81,
     "referenced_widgets": [
      "24aed5ac223a40819e75fe817e12b1c4",
      "a1228fb9dc1647bdad31122265f5082a",
      "dd31baa9c462484c87ecd14b3e46eb50",
      "6674fadc6a3e4b3ebc7f1de8ff00fe0b",
      "0b9c529cd5c64809a3cbd598fe171b85",
      "67ece11cfc0c4b9d8b4bed68f1a44df4",
      "dc53962a99bb4e3ab7497723fec5a9bb",
      "998ee8506d8e4ca1a0cae38501d6ed71",
      "f69f965935b04c3ca2e477a36f589029",
      "e6b67f4cbe1d484cb5b447a9db8dce0e",
      "d889dac4ecd8428fa53a1549767f1ee9",
      "92550f8691d64c4f885ed9b149815404",
      "5a41577893ee417694c17ac000ed803b",
      "528220ac7a4341099c37609e1d423383",
      "1721c6cd62ed43d6805127487b902afc",
      "7b755a294343456ab90aee4e9db5f752",
      "e175228d4d3e42caa4ecea14a66200a4",
      "93962eaf91574541892fc780ce20c526",
      "30512b2f6d9f4eaaba8348f7ae39f9ca",
      "d2cdaee2dd5d4ccd95757ae5fe1c0164",
      "2b8e5cdfaee744bfab235872134085f2",
      "c3436f7c5cb2496e818b4034095bedfe"
     ]
    },
    "executionInfo": {
     "elapsed": 88641,
     "status": "ok",
     "timestamp": 1663091678941,
     "user": {
      "displayName": "Toni Vila",
      "userId": "16769261626805193360"
     },
     "user_tz": -120
    },
    "id": "2gUM8y29kfQY",
    "outputId": "fa0c6beb-b6f3-4ce8-e6fa-61b5e0429d42"
   },
   "outputs": [
    {
     "data": {
      "application/vnd.jupyter.widget-view+json": {
       "model_id": "24aed5ac223a40819e75fe817e12b1c4",
       "version_major": 2,
       "version_minor": 0
      },
      "text/plain": [
       "Photos cropped:   0%|          | 0/6564 [00:00<?, ?it/s]"
      ]
     },
     "metadata": {},
     "output_type": "display_data"
    },
    {
     "data": {
      "application/vnd.jupyter.widget-view+json": {
       "model_id": "92550f8691d64c4f885ed9b149815404",
       "version_major": 2,
       "version_minor": 0
      },
      "text/plain": [
       "Photos cropped:   0%|          | 0/1641 [00:00<?, ?it/s]"
      ]
     },
     "metadata": {},
     "output_type": "display_data"
    }
   ],
   "source": [
    "img_path = PATH + 'datasets/photos'\n",
    "img_size = 224\n",
    "\n",
    "# Create new train DF\n",
    "df2_train = resize_pictures(df_train,\n",
    "                             img_path,\n",
    "                             img_size)\n",
    "\n",
    "# Create new Test DF\n",
    "df2_test = resize_pictures(df_test,\n",
    "                             img_path,\n",
    "                             img_size)"
   ]
  },
  {
   "cell_type": "code",
   "execution_count": 22,
   "metadata": {
    "colab": {
     "base_uri": "https://localhost:8080/"
    },
    "executionInfo": {
     "elapsed": 6,
     "status": "ok",
     "timestamp": 1663090779052,
     "user": {
      "displayName": "Toni Vila",
      "userId": "16769261626805193360"
     },
     "user_tz": -120
    },
    "id": "egKlag3A7rlV",
    "outputId": "e213cf55-7d17-441b-f499-50d2ec5ace73"
   },
   "outputs": [
    {
     "data": {
      "text/plain": [
       "(224, 224, 3)"
      ]
     },
     "execution_count": 22,
     "metadata": {},
     "output_type": "execute_result"
    }
   ],
   "source": [
    "np.array(df2_train.iloc[1, 2]).shape"
   ]
  },
  {
   "cell_type": "code",
   "execution_count": 64,
   "metadata": {
    "colab": {
     "base_uri": "https://localhost:8080/",
     "height": 395
    },
    "executionInfo": {
     "elapsed": 12,
     "status": "ok",
     "timestamp": 1663089373029,
     "user": {
      "displayName": "Toni Vila",
      "userId": "16769261626805193360"
     },
     "user_tz": -120
    },
    "id": "cBtfT2FG2ZtF",
    "outputId": "3b83f2d7-934e-4cae-9139-25320a0d4078"
   },
   "outputs": [
    {
     "data": {
      "text/html": [
       "\n",
       "  <div id=\"df-b07c8e24-df3c-4bf0-8924-3699fe5aa1f8\">\n",
       "    <div class=\"colab-df-container\">\n",
       "      <div>\n",
       "<style scoped>\n",
       "    .dataframe tbody tr th:only-of-type {\n",
       "        vertical-align: middle;\n",
       "    }\n",
       "\n",
       "    .dataframe tbody tr th {\n",
       "        vertical-align: top;\n",
       "    }\n",
       "\n",
       "    .dataframe thead th {\n",
       "        text-align: right;\n",
       "    }\n",
       "</style>\n",
       "<table border=\"1\" class=\"dataframe\">\n",
       "  <thead>\n",
       "    <tr style=\"text-align: right;\">\n",
       "      <th></th>\n",
       "      <th>photo_id</th>\n",
       "      <th>label</th>\n",
       "      <th>image</th>\n",
       "    </tr>\n",
       "  </thead>\n",
       "  <tbody>\n",
       "    <tr>\n",
       "      <th>0</th>\n",
       "      <td>qMlh6WnM5I1acYuTeW9feQ</td>\n",
       "      <td>food</td>\n",
       "      <td>&lt;PIL.Image.Image image mode=RGB size=224x224 a...</td>\n",
       "    </tr>\n",
       "    <tr>\n",
       "      <th>1</th>\n",
       "      <td>5s-aovv3OFbTwV04hbqAMQ</td>\n",
       "      <td>food</td>\n",
       "      <td>&lt;PIL.Image.Image image mode=RGB size=224x224 a...</td>\n",
       "    </tr>\n",
       "    <tr>\n",
       "      <th>2</th>\n",
       "      <td>Dpslj0SNkln7Jgl4iNQoHQ</td>\n",
       "      <td>food</td>\n",
       "      <td>&lt;PIL.Image.Image image mode=RGB size=224x224 a...</td>\n",
       "    </tr>\n",
       "    <tr>\n",
       "      <th>3</th>\n",
       "      <td>K_vRmofzBl-HaxihFQpWcA</td>\n",
       "      <td>food</td>\n",
       "      <td>&lt;PIL.Image.Image image mode=RGB size=224x224 a...</td>\n",
       "    </tr>\n",
       "    <tr>\n",
       "      <th>4</th>\n",
       "      <td>-POC3Jknsac0ummGQ6Z6gw</td>\n",
       "      <td>food</td>\n",
       "      <td>&lt;PIL.Image.Image image mode=RGB size=224x224 a...</td>\n",
       "    </tr>\n",
       "  </tbody>\n",
       "</table>\n",
       "</div>\n",
       "      <button class=\"colab-df-convert\" onclick=\"convertToInteractive('df-b07c8e24-df3c-4bf0-8924-3699fe5aa1f8')\"\n",
       "              title=\"Convert this dataframe to an interactive table.\"\n",
       "              style=\"display:none;\">\n",
       "        \n",
       "  <svg xmlns=\"http://www.w3.org/2000/svg\" height=\"24px\"viewBox=\"0 0 24 24\"\n",
       "       width=\"24px\">\n",
       "    <path d=\"M0 0h24v24H0V0z\" fill=\"none\"/>\n",
       "    <path d=\"M18.56 5.44l.94 2.06.94-2.06 2.06-.94-2.06-.94-.94-2.06-.94 2.06-2.06.94zm-11 1L8.5 8.5l.94-2.06 2.06-.94-2.06-.94L8.5 2.5l-.94 2.06-2.06.94zm10 10l.94 2.06.94-2.06 2.06-.94-2.06-.94-.94-2.06-.94 2.06-2.06.94z\"/><path d=\"M17.41 7.96l-1.37-1.37c-.4-.4-.92-.59-1.43-.59-.52 0-1.04.2-1.43.59L10.3 9.45l-7.72 7.72c-.78.78-.78 2.05 0 2.83L4 21.41c.39.39.9.59 1.41.59.51 0 1.02-.2 1.41-.59l7.78-7.78 2.81-2.81c.8-.78.8-2.07 0-2.86zM5.41 20L4 18.59l7.72-7.72 1.47 1.35L5.41 20z\"/>\n",
       "  </svg>\n",
       "      </button>\n",
       "      \n",
       "  <style>\n",
       "    .colab-df-container {\n",
       "      display:flex;\n",
       "      flex-wrap:wrap;\n",
       "      gap: 12px;\n",
       "    }\n",
       "\n",
       "    .colab-df-convert {\n",
       "      background-color: #E8F0FE;\n",
       "      border: none;\n",
       "      border-radius: 50%;\n",
       "      cursor: pointer;\n",
       "      display: none;\n",
       "      fill: #1967D2;\n",
       "      height: 32px;\n",
       "      padding: 0 0 0 0;\n",
       "      width: 32px;\n",
       "    }\n",
       "\n",
       "    .colab-df-convert:hover {\n",
       "      background-color: #E2EBFA;\n",
       "      box-shadow: 0px 1px 2px rgba(60, 64, 67, 0.3), 0px 1px 3px 1px rgba(60, 64, 67, 0.15);\n",
       "      fill: #174EA6;\n",
       "    }\n",
       "\n",
       "    [theme=dark] .colab-df-convert {\n",
       "      background-color: #3B4455;\n",
       "      fill: #D2E3FC;\n",
       "    }\n",
       "\n",
       "    [theme=dark] .colab-df-convert:hover {\n",
       "      background-color: #434B5C;\n",
       "      box-shadow: 0px 1px 3px 1px rgba(0, 0, 0, 0.15);\n",
       "      filter: drop-shadow(0px 1px 2px rgba(0, 0, 0, 0.3));\n",
       "      fill: #FFFFFF;\n",
       "    }\n",
       "  </style>\n",
       "\n",
       "      <script>\n",
       "        const buttonEl =\n",
       "          document.querySelector('#df-b07c8e24-df3c-4bf0-8924-3699fe5aa1f8 button.colab-df-convert');\n",
       "        buttonEl.style.display =\n",
       "          google.colab.kernel.accessAllowed ? 'block' : 'none';\n",
       "\n",
       "        async function convertToInteractive(key) {\n",
       "          const element = document.querySelector('#df-b07c8e24-df3c-4bf0-8924-3699fe5aa1f8');\n",
       "          const dataTable =\n",
       "            await google.colab.kernel.invokeFunction('convertToInteractive',\n",
       "                                                     [key], {});\n",
       "          if (!dataTable) return;\n",
       "\n",
       "          const docLinkHtml = 'Like what you see? Visit the ' +\n",
       "            '<a target=\"_blank\" href=https://colab.research.google.com/notebooks/data_table.ipynb>data table notebook</a>'\n",
       "            + ' to learn more about interactive tables.';\n",
       "          element.innerHTML = '';\n",
       "          dataTable['output_type'] = 'display_data';\n",
       "          await google.colab.output.renderOutput(dataTable, element);\n",
       "          const docLink = document.createElement('div');\n",
       "          docLink.innerHTML = docLinkHtml;\n",
       "          element.appendChild(docLink);\n",
       "        }\n",
       "      </script>\n",
       "    </div>\n",
       "  </div>\n",
       "  "
      ],
      "text/plain": [
       "                 photo_id label  \\\n",
       "0  qMlh6WnM5I1acYuTeW9feQ  food   \n",
       "1  5s-aovv3OFbTwV04hbqAMQ  food   \n",
       "2  Dpslj0SNkln7Jgl4iNQoHQ  food   \n",
       "3  K_vRmofzBl-HaxihFQpWcA  food   \n",
       "4  -POC3Jknsac0ummGQ6Z6gw  food   \n",
       "\n",
       "                                               image  \n",
       "0  <PIL.Image.Image image mode=RGB size=224x224 a...  \n",
       "1  <PIL.Image.Image image mode=RGB size=224x224 a...  \n",
       "2  <PIL.Image.Image image mode=RGB size=224x224 a...  \n",
       "3  <PIL.Image.Image image mode=RGB size=224x224 a...  \n",
       "4  <PIL.Image.Image image mode=RGB size=224x224 a...  "
      ]
     },
     "metadata": {},
     "output_type": "display_data"
    },
    {
     "data": {
      "text/html": [
       "\n",
       "  <div id=\"df-02f9d332-c339-4f33-9677-95d2af7dde5b\">\n",
       "    <div class=\"colab-df-container\">\n",
       "      <div>\n",
       "<style scoped>\n",
       "    .dataframe tbody tr th:only-of-type {\n",
       "        vertical-align: middle;\n",
       "    }\n",
       "\n",
       "    .dataframe tbody tr th {\n",
       "        vertical-align: top;\n",
       "    }\n",
       "\n",
       "    .dataframe thead th {\n",
       "        text-align: right;\n",
       "    }\n",
       "</style>\n",
       "<table border=\"1\" class=\"dataframe\">\n",
       "  <thead>\n",
       "    <tr style=\"text-align: right;\">\n",
       "      <th></th>\n",
       "      <th>photo_id</th>\n",
       "      <th>label</th>\n",
       "      <th>image</th>\n",
       "    </tr>\n",
       "  </thead>\n",
       "  <tbody>\n",
       "    <tr>\n",
       "      <th>0</th>\n",
       "      <td>fB-J1F60DgMRoc8eI0z0Ew</td>\n",
       "      <td>food</td>\n",
       "      <td>&lt;PIL.Image.Image image mode=RGB size=224x224 a...</td>\n",
       "    </tr>\n",
       "    <tr>\n",
       "      <th>1</th>\n",
       "      <td>z-ftfswcyAAERjoMzKFJ5A</td>\n",
       "      <td>food</td>\n",
       "      <td>&lt;PIL.Image.Image image mode=RGB size=224x224 a...</td>\n",
       "    </tr>\n",
       "    <tr>\n",
       "      <th>2</th>\n",
       "      <td>Pb1bW49aZ8xp85TmXP-jqQ</td>\n",
       "      <td>food</td>\n",
       "      <td>&lt;PIL.Image.Image image mode=RGB size=224x224 a...</td>\n",
       "    </tr>\n",
       "    <tr>\n",
       "      <th>3</th>\n",
       "      <td>PelSOijELLLHADVzOBH-ag</td>\n",
       "      <td>food</td>\n",
       "      <td>&lt;PIL.Image.Image image mode=RGB size=224x224 a...</td>\n",
       "    </tr>\n",
       "    <tr>\n",
       "      <th>4</th>\n",
       "      <td>VqX3u7446rqhpEjjCXX97w</td>\n",
       "      <td>food</td>\n",
       "      <td>&lt;PIL.Image.Image image mode=RGB size=224x224 a...</td>\n",
       "    </tr>\n",
       "  </tbody>\n",
       "</table>\n",
       "</div>\n",
       "      <button class=\"colab-df-convert\" onclick=\"convertToInteractive('df-02f9d332-c339-4f33-9677-95d2af7dde5b')\"\n",
       "              title=\"Convert this dataframe to an interactive table.\"\n",
       "              style=\"display:none;\">\n",
       "        \n",
       "  <svg xmlns=\"http://www.w3.org/2000/svg\" height=\"24px\"viewBox=\"0 0 24 24\"\n",
       "       width=\"24px\">\n",
       "    <path d=\"M0 0h24v24H0V0z\" fill=\"none\"/>\n",
       "    <path d=\"M18.56 5.44l.94 2.06.94-2.06 2.06-.94-2.06-.94-.94-2.06-.94 2.06-2.06.94zm-11 1L8.5 8.5l.94-2.06 2.06-.94-2.06-.94L8.5 2.5l-.94 2.06-2.06.94zm10 10l.94 2.06.94-2.06 2.06-.94-2.06-.94-.94-2.06-.94 2.06-2.06.94z\"/><path d=\"M17.41 7.96l-1.37-1.37c-.4-.4-.92-.59-1.43-.59-.52 0-1.04.2-1.43.59L10.3 9.45l-7.72 7.72c-.78.78-.78 2.05 0 2.83L4 21.41c.39.39.9.59 1.41.59.51 0 1.02-.2 1.41-.59l7.78-7.78 2.81-2.81c.8-.78.8-2.07 0-2.86zM5.41 20L4 18.59l7.72-7.72 1.47 1.35L5.41 20z\"/>\n",
       "  </svg>\n",
       "      </button>\n",
       "      \n",
       "  <style>\n",
       "    .colab-df-container {\n",
       "      display:flex;\n",
       "      flex-wrap:wrap;\n",
       "      gap: 12px;\n",
       "    }\n",
       "\n",
       "    .colab-df-convert {\n",
       "      background-color: #E8F0FE;\n",
       "      border: none;\n",
       "      border-radius: 50%;\n",
       "      cursor: pointer;\n",
       "      display: none;\n",
       "      fill: #1967D2;\n",
       "      height: 32px;\n",
       "      padding: 0 0 0 0;\n",
       "      width: 32px;\n",
       "    }\n",
       "\n",
       "    .colab-df-convert:hover {\n",
       "      background-color: #E2EBFA;\n",
       "      box-shadow: 0px 1px 2px rgba(60, 64, 67, 0.3), 0px 1px 3px 1px rgba(60, 64, 67, 0.15);\n",
       "      fill: #174EA6;\n",
       "    }\n",
       "\n",
       "    [theme=dark] .colab-df-convert {\n",
       "      background-color: #3B4455;\n",
       "      fill: #D2E3FC;\n",
       "    }\n",
       "\n",
       "    [theme=dark] .colab-df-convert:hover {\n",
       "      background-color: #434B5C;\n",
       "      box-shadow: 0px 1px 3px 1px rgba(0, 0, 0, 0.15);\n",
       "      filter: drop-shadow(0px 1px 2px rgba(0, 0, 0, 0.3));\n",
       "      fill: #FFFFFF;\n",
       "    }\n",
       "  </style>\n",
       "\n",
       "      <script>\n",
       "        const buttonEl =\n",
       "          document.querySelector('#df-02f9d332-c339-4f33-9677-95d2af7dde5b button.colab-df-convert');\n",
       "        buttonEl.style.display =\n",
       "          google.colab.kernel.accessAllowed ? 'block' : 'none';\n",
       "\n",
       "        async function convertToInteractive(key) {\n",
       "          const element = document.querySelector('#df-02f9d332-c339-4f33-9677-95d2af7dde5b');\n",
       "          const dataTable =\n",
       "            await google.colab.kernel.invokeFunction('convertToInteractive',\n",
       "                                                     [key], {});\n",
       "          if (!dataTable) return;\n",
       "\n",
       "          const docLinkHtml = 'Like what you see? Visit the ' +\n",
       "            '<a target=\"_blank\" href=https://colab.research.google.com/notebooks/data_table.ipynb>data table notebook</a>'\n",
       "            + ' to learn more about interactive tables.';\n",
       "          element.innerHTML = '';\n",
       "          dataTable['output_type'] = 'display_data';\n",
       "          await google.colab.output.renderOutput(dataTable, element);\n",
       "          const docLink = document.createElement('div');\n",
       "          docLink.innerHTML = docLinkHtml;\n",
       "          element.appendChild(docLink);\n",
       "        }\n",
       "      </script>\n",
       "    </div>\n",
       "  </div>\n",
       "  "
      ],
      "text/plain": [
       "                 photo_id label  \\\n",
       "0  fB-J1F60DgMRoc8eI0z0Ew  food   \n",
       "1  z-ftfswcyAAERjoMzKFJ5A  food   \n",
       "2  Pb1bW49aZ8xp85TmXP-jqQ  food   \n",
       "3  PelSOijELLLHADVzOBH-ag  food   \n",
       "4  VqX3u7446rqhpEjjCXX97w  food   \n",
       "\n",
       "                                               image  \n",
       "0  <PIL.Image.Image image mode=RGB size=224x224 a...  \n",
       "1  <PIL.Image.Image image mode=RGB size=224x224 a...  \n",
       "2  <PIL.Image.Image image mode=RGB size=224x224 a...  \n",
       "3  <PIL.Image.Image image mode=RGB size=224x224 a...  \n",
       "4  <PIL.Image.Image image mode=RGB size=224x224 a...  "
      ]
     },
     "metadata": {},
     "output_type": "display_data"
    }
   ],
   "source": [
    "display(df2_train.head())\n",
    "display(df2_test.head())"
   ]
  },
  {
   "cell_type": "code",
   "execution_count": 29,
   "metadata": {
    "colab": {
     "base_uri": "https://localhost:8080/"
    },
    "executionInfo": {
     "elapsed": 247,
     "status": "ok",
     "timestamp": 1663091776648,
     "user": {
      "displayName": "Toni Vila",
      "userId": "16769261626805193360"
     },
     "user_tz": -120
    },
    "id": "-xuhTHS32k0_",
    "outputId": "576b5dbd-ca87-47ea-9e2c-7146698149b9"
   },
   "outputs": [
    {
     "data": {
      "text/plain": [
       "array([[243, 236, 228],\n",
       "       [243, 236, 228],\n",
       "       [243, 236, 228],\n",
       "       ...,\n",
       "       [ 98, 135,  47],\n",
       "       [107, 142,  56],\n",
       "       [105, 142,  54]])"
      ]
     },
     "execution_count": 29,
     "metadata": {},
     "output_type": "execute_result"
    }
   ],
   "source": [
    "np.array(df2_train.iloc[1, 2].getdata())"
   ]
  },
  {
   "cell_type": "markdown",
   "metadata": {
    "id": "ADtIor-A2_Sl"
   },
   "source": [
    "# X train / test , y train / test"
   ]
  },
  {
   "cell_type": "code",
   "execution_count": null,
   "metadata": {
    "id": "XAV0tWjMdi0J"
   },
   "outputs": [],
   "source": [
    "series_X_train = df2_train.image.map(lambda img: np.array(img.getdata()).reshape(img_size, img_size, 3))\n",
    "X_train = np.stack(series_X_train.to_numpy(copy=True))\n",
    "X_train.shape"
   ]
  }
 ],
 "metadata": {
  "colab": {
   "authorship_tag": "ABX9TyMqMhMZ4M2V8A1AAsDQ1vnS",
   "provenance": []
  },
  "kernelspec": {
   "display_name": "Python 3 (ipykernel)",
   "language": "python",
   "name": "python3"
  },
  "language_info": {
   "codemirror_mode": {
    "name": "ipython",
    "version": 3
   },
   "file_extension": ".py",
   "mimetype": "text/x-python",
   "name": "python",
   "nbconvert_exporter": "python",
   "pygments_lexer": "ipython3",
   "version": "3.8.10"
  },
  "widgets": {
   "application/vnd.jupyter.widget-state+json": {
    "0b9c529cd5c64809a3cbd598fe171b85": {
     "model_module": "@jupyter-widgets/base",
     "model_module_version": "1.2.0",
     "model_name": "LayoutModel",
     "state": {
      "_model_module": "@jupyter-widgets/base",
      "_model_module_version": "1.2.0",
      "_model_name": "LayoutModel",
      "_view_count": null,
      "_view_module": "@jupyter-widgets/base",
      "_view_module_version": "1.2.0",
      "_view_name": "LayoutView",
      "align_content": null,
      "align_items": null,
      "align_self": null,
      "border": null,
      "bottom": null,
      "display": null,
      "flex": null,
      "flex_flow": null,
      "grid_area": null,
      "grid_auto_columns": null,
      "grid_auto_flow": null,
      "grid_auto_rows": null,
      "grid_column": null,
      "grid_gap": null,
      "grid_row": null,
      "grid_template_areas": null,
      "grid_template_columns": null,
      "grid_template_rows": null,
      "height": null,
      "justify_content": null,
      "justify_items": null,
      "left": null,
      "margin": null,
      "max_height": null,
      "max_width": null,
      "min_height": null,
      "min_width": null,
      "object_fit": null,
      "object_position": null,
      "order": null,
      "overflow": null,
      "overflow_x": null,
      "overflow_y": null,
      "padding": null,
      "right": null,
      "top": null,
      "visibility": null,
      "width": null
     }
    },
    "1721c6cd62ed43d6805127487b902afc": {
     "model_module": "@jupyter-widgets/controls",
     "model_module_version": "1.5.0",
     "model_name": "HTMLModel",
     "state": {
      "_dom_classes": [],
      "_model_module": "@jupyter-widgets/controls",
      "_model_module_version": "1.5.0",
      "_model_name": "HTMLModel",
      "_view_count": null,
      "_view_module": "@jupyter-widgets/controls",
      "_view_module_version": "1.5.0",
      "_view_name": "HTMLView",
      "description": "",
      "description_tooltip": null,
      "layout": "IPY_MODEL_2b8e5cdfaee744bfab235872134085f2",
      "placeholder": "​",
      "style": "IPY_MODEL_c3436f7c5cb2496e818b4034095bedfe",
      "value": " 1641/1641 [00:18&lt;00:00, 98.47it/s]"
     }
    },
    "24aed5ac223a40819e75fe817e12b1c4": {
     "model_module": "@jupyter-widgets/controls",
     "model_module_version": "1.5.0",
     "model_name": "HBoxModel",
     "state": {
      "_dom_classes": [],
      "_model_module": "@jupyter-widgets/controls",
      "_model_module_version": "1.5.0",
      "_model_name": "HBoxModel",
      "_view_count": null,
      "_view_module": "@jupyter-widgets/controls",
      "_view_module_version": "1.5.0",
      "_view_name": "HBoxView",
      "box_style": "",
      "children": [
       "IPY_MODEL_a1228fb9dc1647bdad31122265f5082a",
       "IPY_MODEL_dd31baa9c462484c87ecd14b3e46eb50",
       "IPY_MODEL_6674fadc6a3e4b3ebc7f1de8ff00fe0b"
      ],
      "layout": "IPY_MODEL_0b9c529cd5c64809a3cbd598fe171b85"
     }
    },
    "2b8e5cdfaee744bfab235872134085f2": {
     "model_module": "@jupyter-widgets/base",
     "model_module_version": "1.2.0",
     "model_name": "LayoutModel",
     "state": {
      "_model_module": "@jupyter-widgets/base",
      "_model_module_version": "1.2.0",
      "_model_name": "LayoutModel",
      "_view_count": null,
      "_view_module": "@jupyter-widgets/base",
      "_view_module_version": "1.2.0",
      "_view_name": "LayoutView",
      "align_content": null,
      "align_items": null,
      "align_self": null,
      "border": null,
      "bottom": null,
      "display": null,
      "flex": null,
      "flex_flow": null,
      "grid_area": null,
      "grid_auto_columns": null,
      "grid_auto_flow": null,
      "grid_auto_rows": null,
      "grid_column": null,
      "grid_gap": null,
      "grid_row": null,
      "grid_template_areas": null,
      "grid_template_columns": null,
      "grid_template_rows": null,
      "height": null,
      "justify_content": null,
      "justify_items": null,
      "left": null,
      "margin": null,
      "max_height": null,
      "max_width": null,
      "min_height": null,
      "min_width": null,
      "object_fit": null,
      "object_position": null,
      "order": null,
      "overflow": null,
      "overflow_x": null,
      "overflow_y": null,
      "padding": null,
      "right": null,
      "top": null,
      "visibility": null,
      "width": null
     }
    },
    "30512b2f6d9f4eaaba8348f7ae39f9ca": {
     "model_module": "@jupyter-widgets/base",
     "model_module_version": "1.2.0",
     "model_name": "LayoutModel",
     "state": {
      "_model_module": "@jupyter-widgets/base",
      "_model_module_version": "1.2.0",
      "_model_name": "LayoutModel",
      "_view_count": null,
      "_view_module": "@jupyter-widgets/base",
      "_view_module_version": "1.2.0",
      "_view_name": "LayoutView",
      "align_content": null,
      "align_items": null,
      "align_self": null,
      "border": null,
      "bottom": null,
      "display": null,
      "flex": null,
      "flex_flow": null,
      "grid_area": null,
      "grid_auto_columns": null,
      "grid_auto_flow": null,
      "grid_auto_rows": null,
      "grid_column": null,
      "grid_gap": null,
      "grid_row": null,
      "grid_template_areas": null,
      "grid_template_columns": null,
      "grid_template_rows": null,
      "height": null,
      "justify_content": null,
      "justify_items": null,
      "left": null,
      "margin": null,
      "max_height": null,
      "max_width": null,
      "min_height": null,
      "min_width": null,
      "object_fit": null,
      "object_position": null,
      "order": null,
      "overflow": null,
      "overflow_x": null,
      "overflow_y": null,
      "padding": null,
      "right": null,
      "top": null,
      "visibility": null,
      "width": null
     }
    },
    "528220ac7a4341099c37609e1d423383": {
     "model_module": "@jupyter-widgets/controls",
     "model_module_version": "1.5.0",
     "model_name": "FloatProgressModel",
     "state": {
      "_dom_classes": [],
      "_model_module": "@jupyter-widgets/controls",
      "_model_module_version": "1.5.0",
      "_model_name": "FloatProgressModel",
      "_view_count": null,
      "_view_module": "@jupyter-widgets/controls",
      "_view_module_version": "1.5.0",
      "_view_name": "ProgressView",
      "bar_style": "success",
      "description": "",
      "description_tooltip": null,
      "layout": "IPY_MODEL_30512b2f6d9f4eaaba8348f7ae39f9ca",
      "max": 1641,
      "min": 0,
      "orientation": "horizontal",
      "style": "IPY_MODEL_d2cdaee2dd5d4ccd95757ae5fe1c0164",
      "value": 1641
     }
    },
    "5a41577893ee417694c17ac000ed803b": {
     "model_module": "@jupyter-widgets/controls",
     "model_module_version": "1.5.0",
     "model_name": "HTMLModel",
     "state": {
      "_dom_classes": [],
      "_model_module": "@jupyter-widgets/controls",
      "_model_module_version": "1.5.0",
      "_model_name": "HTMLModel",
      "_view_count": null,
      "_view_module": "@jupyter-widgets/controls",
      "_view_module_version": "1.5.0",
      "_view_name": "HTMLView",
      "description": "",
      "description_tooltip": null,
      "layout": "IPY_MODEL_e175228d4d3e42caa4ecea14a66200a4",
      "placeholder": "​",
      "style": "IPY_MODEL_93962eaf91574541892fc780ce20c526",
      "value": "Photos cropped: 100%"
     }
    },
    "6674fadc6a3e4b3ebc7f1de8ff00fe0b": {
     "model_module": "@jupyter-widgets/controls",
     "model_module_version": "1.5.0",
     "model_name": "HTMLModel",
     "state": {
      "_dom_classes": [],
      "_model_module": "@jupyter-widgets/controls",
      "_model_module_version": "1.5.0",
      "_model_name": "HTMLModel",
      "_view_count": null,
      "_view_module": "@jupyter-widgets/controls",
      "_view_module_version": "1.5.0",
      "_view_name": "HTMLView",
      "description": "",
      "description_tooltip": null,
      "layout": "IPY_MODEL_e6b67f4cbe1d484cb5b447a9db8dce0e",
      "placeholder": "​",
      "style": "IPY_MODEL_d889dac4ecd8428fa53a1549767f1ee9",
      "value": " 6564/6564 [01:09&lt;00:00, 75.96it/s]"
     }
    },
    "67ece11cfc0c4b9d8b4bed68f1a44df4": {
     "model_module": "@jupyter-widgets/base",
     "model_module_version": "1.2.0",
     "model_name": "LayoutModel",
     "state": {
      "_model_module": "@jupyter-widgets/base",
      "_model_module_version": "1.2.0",
      "_model_name": "LayoutModel",
      "_view_count": null,
      "_view_module": "@jupyter-widgets/base",
      "_view_module_version": "1.2.0",
      "_view_name": "LayoutView",
      "align_content": null,
      "align_items": null,
      "align_self": null,
      "border": null,
      "bottom": null,
      "display": null,
      "flex": null,
      "flex_flow": null,
      "grid_area": null,
      "grid_auto_columns": null,
      "grid_auto_flow": null,
      "grid_auto_rows": null,
      "grid_column": null,
      "grid_gap": null,
      "grid_row": null,
      "grid_template_areas": null,
      "grid_template_columns": null,
      "grid_template_rows": null,
      "height": null,
      "justify_content": null,
      "justify_items": null,
      "left": null,
      "margin": null,
      "max_height": null,
      "max_width": null,
      "min_height": null,
      "min_width": null,
      "object_fit": null,
      "object_position": null,
      "order": null,
      "overflow": null,
      "overflow_x": null,
      "overflow_y": null,
      "padding": null,
      "right": null,
      "top": null,
      "visibility": null,
      "width": null
     }
    },
    "7b755a294343456ab90aee4e9db5f752": {
     "model_module": "@jupyter-widgets/base",
     "model_module_version": "1.2.0",
     "model_name": "LayoutModel",
     "state": {
      "_model_module": "@jupyter-widgets/base",
      "_model_module_version": "1.2.0",
      "_model_name": "LayoutModel",
      "_view_count": null,
      "_view_module": "@jupyter-widgets/base",
      "_view_module_version": "1.2.0",
      "_view_name": "LayoutView",
      "align_content": null,
      "align_items": null,
      "align_self": null,
      "border": null,
      "bottom": null,
      "display": null,
      "flex": null,
      "flex_flow": null,
      "grid_area": null,
      "grid_auto_columns": null,
      "grid_auto_flow": null,
      "grid_auto_rows": null,
      "grid_column": null,
      "grid_gap": null,
      "grid_row": null,
      "grid_template_areas": null,
      "grid_template_columns": null,
      "grid_template_rows": null,
      "height": null,
      "justify_content": null,
      "justify_items": null,
      "left": null,
      "margin": null,
      "max_height": null,
      "max_width": null,
      "min_height": null,
      "min_width": null,
      "object_fit": null,
      "object_position": null,
      "order": null,
      "overflow": null,
      "overflow_x": null,
      "overflow_y": null,
      "padding": null,
      "right": null,
      "top": null,
      "visibility": null,
      "width": null
     }
    },
    "92550f8691d64c4f885ed9b149815404": {
     "model_module": "@jupyter-widgets/controls",
     "model_module_version": "1.5.0",
     "model_name": "HBoxModel",
     "state": {
      "_dom_classes": [],
      "_model_module": "@jupyter-widgets/controls",
      "_model_module_version": "1.5.0",
      "_model_name": "HBoxModel",
      "_view_count": null,
      "_view_module": "@jupyter-widgets/controls",
      "_view_module_version": "1.5.0",
      "_view_name": "HBoxView",
      "box_style": "",
      "children": [
       "IPY_MODEL_5a41577893ee417694c17ac000ed803b",
       "IPY_MODEL_528220ac7a4341099c37609e1d423383",
       "IPY_MODEL_1721c6cd62ed43d6805127487b902afc"
      ],
      "layout": "IPY_MODEL_7b755a294343456ab90aee4e9db5f752"
     }
    },
    "93962eaf91574541892fc780ce20c526": {
     "model_module": "@jupyter-widgets/controls",
     "model_module_version": "1.5.0",
     "model_name": "DescriptionStyleModel",
     "state": {
      "_model_module": "@jupyter-widgets/controls",
      "_model_module_version": "1.5.0",
      "_model_name": "DescriptionStyleModel",
      "_view_count": null,
      "_view_module": "@jupyter-widgets/base",
      "_view_module_version": "1.2.0",
      "_view_name": "StyleView",
      "description_width": ""
     }
    },
    "998ee8506d8e4ca1a0cae38501d6ed71": {
     "model_module": "@jupyter-widgets/base",
     "model_module_version": "1.2.0",
     "model_name": "LayoutModel",
     "state": {
      "_model_module": "@jupyter-widgets/base",
      "_model_module_version": "1.2.0",
      "_model_name": "LayoutModel",
      "_view_count": null,
      "_view_module": "@jupyter-widgets/base",
      "_view_module_version": "1.2.0",
      "_view_name": "LayoutView",
      "align_content": null,
      "align_items": null,
      "align_self": null,
      "border": null,
      "bottom": null,
      "display": null,
      "flex": null,
      "flex_flow": null,
      "grid_area": null,
      "grid_auto_columns": null,
      "grid_auto_flow": null,
      "grid_auto_rows": null,
      "grid_column": null,
      "grid_gap": null,
      "grid_row": null,
      "grid_template_areas": null,
      "grid_template_columns": null,
      "grid_template_rows": null,
      "height": null,
      "justify_content": null,
      "justify_items": null,
      "left": null,
      "margin": null,
      "max_height": null,
      "max_width": null,
      "min_height": null,
      "min_width": null,
      "object_fit": null,
      "object_position": null,
      "order": null,
      "overflow": null,
      "overflow_x": null,
      "overflow_y": null,
      "padding": null,
      "right": null,
      "top": null,
      "visibility": null,
      "width": null
     }
    },
    "a1228fb9dc1647bdad31122265f5082a": {
     "model_module": "@jupyter-widgets/controls",
     "model_module_version": "1.5.0",
     "model_name": "HTMLModel",
     "state": {
      "_dom_classes": [],
      "_model_module": "@jupyter-widgets/controls",
      "_model_module_version": "1.5.0",
      "_model_name": "HTMLModel",
      "_view_count": null,
      "_view_module": "@jupyter-widgets/controls",
      "_view_module_version": "1.5.0",
      "_view_name": "HTMLView",
      "description": "",
      "description_tooltip": null,
      "layout": "IPY_MODEL_67ece11cfc0c4b9d8b4bed68f1a44df4",
      "placeholder": "​",
      "style": "IPY_MODEL_dc53962a99bb4e3ab7497723fec5a9bb",
      "value": "Photos cropped: 100%"
     }
    },
    "c3436f7c5cb2496e818b4034095bedfe": {
     "model_module": "@jupyter-widgets/controls",
     "model_module_version": "1.5.0",
     "model_name": "DescriptionStyleModel",
     "state": {
      "_model_module": "@jupyter-widgets/controls",
      "_model_module_version": "1.5.0",
      "_model_name": "DescriptionStyleModel",
      "_view_count": null,
      "_view_module": "@jupyter-widgets/base",
      "_view_module_version": "1.2.0",
      "_view_name": "StyleView",
      "description_width": ""
     }
    },
    "d2cdaee2dd5d4ccd95757ae5fe1c0164": {
     "model_module": "@jupyter-widgets/controls",
     "model_module_version": "1.5.0",
     "model_name": "ProgressStyleModel",
     "state": {
      "_model_module": "@jupyter-widgets/controls",
      "_model_module_version": "1.5.0",
      "_model_name": "ProgressStyleModel",
      "_view_count": null,
      "_view_module": "@jupyter-widgets/base",
      "_view_module_version": "1.2.0",
      "_view_name": "StyleView",
      "bar_color": null,
      "description_width": ""
     }
    },
    "d889dac4ecd8428fa53a1549767f1ee9": {
     "model_module": "@jupyter-widgets/controls",
     "model_module_version": "1.5.0",
     "model_name": "DescriptionStyleModel",
     "state": {
      "_model_module": "@jupyter-widgets/controls",
      "_model_module_version": "1.5.0",
      "_model_name": "DescriptionStyleModel",
      "_view_count": null,
      "_view_module": "@jupyter-widgets/base",
      "_view_module_version": "1.2.0",
      "_view_name": "StyleView",
      "description_width": ""
     }
    },
    "dc53962a99bb4e3ab7497723fec5a9bb": {
     "model_module": "@jupyter-widgets/controls",
     "model_module_version": "1.5.0",
     "model_name": "DescriptionStyleModel",
     "state": {
      "_model_module": "@jupyter-widgets/controls",
      "_model_module_version": "1.5.0",
      "_model_name": "DescriptionStyleModel",
      "_view_count": null,
      "_view_module": "@jupyter-widgets/base",
      "_view_module_version": "1.2.0",
      "_view_name": "StyleView",
      "description_width": ""
     }
    },
    "dd31baa9c462484c87ecd14b3e46eb50": {
     "model_module": "@jupyter-widgets/controls",
     "model_module_version": "1.5.0",
     "model_name": "FloatProgressModel",
     "state": {
      "_dom_classes": [],
      "_model_module": "@jupyter-widgets/controls",
      "_model_module_version": "1.5.0",
      "_model_name": "FloatProgressModel",
      "_view_count": null,
      "_view_module": "@jupyter-widgets/controls",
      "_view_module_version": "1.5.0",
      "_view_name": "ProgressView",
      "bar_style": "success",
      "description": "",
      "description_tooltip": null,
      "layout": "IPY_MODEL_998ee8506d8e4ca1a0cae38501d6ed71",
      "max": 6564,
      "min": 0,
      "orientation": "horizontal",
      "style": "IPY_MODEL_f69f965935b04c3ca2e477a36f589029",
      "value": 6564
     }
    },
    "e175228d4d3e42caa4ecea14a66200a4": {
     "model_module": "@jupyter-widgets/base",
     "model_module_version": "1.2.0",
     "model_name": "LayoutModel",
     "state": {
      "_model_module": "@jupyter-widgets/base",
      "_model_module_version": "1.2.0",
      "_model_name": "LayoutModel",
      "_view_count": null,
      "_view_module": "@jupyter-widgets/base",
      "_view_module_version": "1.2.0",
      "_view_name": "LayoutView",
      "align_content": null,
      "align_items": null,
      "align_self": null,
      "border": null,
      "bottom": null,
      "display": null,
      "flex": null,
      "flex_flow": null,
      "grid_area": null,
      "grid_auto_columns": null,
      "grid_auto_flow": null,
      "grid_auto_rows": null,
      "grid_column": null,
      "grid_gap": null,
      "grid_row": null,
      "grid_template_areas": null,
      "grid_template_columns": null,
      "grid_template_rows": null,
      "height": null,
      "justify_content": null,
      "justify_items": null,
      "left": null,
      "margin": null,
      "max_height": null,
      "max_width": null,
      "min_height": null,
      "min_width": null,
      "object_fit": null,
      "object_position": null,
      "order": null,
      "overflow": null,
      "overflow_x": null,
      "overflow_y": null,
      "padding": null,
      "right": null,
      "top": null,
      "visibility": null,
      "width": null
     }
    },
    "e6b67f4cbe1d484cb5b447a9db8dce0e": {
     "model_module": "@jupyter-widgets/base",
     "model_module_version": "1.2.0",
     "model_name": "LayoutModel",
     "state": {
      "_model_module": "@jupyter-widgets/base",
      "_model_module_version": "1.2.0",
      "_model_name": "LayoutModel",
      "_view_count": null,
      "_view_module": "@jupyter-widgets/base",
      "_view_module_version": "1.2.0",
      "_view_name": "LayoutView",
      "align_content": null,
      "align_items": null,
      "align_self": null,
      "border": null,
      "bottom": null,
      "display": null,
      "flex": null,
      "flex_flow": null,
      "grid_area": null,
      "grid_auto_columns": null,
      "grid_auto_flow": null,
      "grid_auto_rows": null,
      "grid_column": null,
      "grid_gap": null,
      "grid_row": null,
      "grid_template_areas": null,
      "grid_template_columns": null,
      "grid_template_rows": null,
      "height": null,
      "justify_content": null,
      "justify_items": null,
      "left": null,
      "margin": null,
      "max_height": null,
      "max_width": null,
      "min_height": null,
      "min_width": null,
      "object_fit": null,
      "object_position": null,
      "order": null,
      "overflow": null,
      "overflow_x": null,
      "overflow_y": null,
      "padding": null,
      "right": null,
      "top": null,
      "visibility": null,
      "width": null
     }
    },
    "f69f965935b04c3ca2e477a36f589029": {
     "model_module": "@jupyter-widgets/controls",
     "model_module_version": "1.5.0",
     "model_name": "ProgressStyleModel",
     "state": {
      "_model_module": "@jupyter-widgets/controls",
      "_model_module_version": "1.5.0",
      "_model_name": "ProgressStyleModel",
      "_view_count": null,
      "_view_module": "@jupyter-widgets/base",
      "_view_module_version": "1.2.0",
      "_view_name": "StyleView",
      "bar_color": null,
      "description_width": ""
     }
    }
   }
  }
 },
 "nbformat": 4,
 "nbformat_minor": 1
}
