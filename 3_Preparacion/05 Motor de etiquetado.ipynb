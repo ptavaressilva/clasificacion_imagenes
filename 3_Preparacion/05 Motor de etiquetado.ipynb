{
 "cells": [
  {
   "cell_type": "markdown",
   "metadata": {},
   "source": [
    "**Función:** visualiza y confirma la etiqueta de cada fotos de un label en el dataset 10k (por limpiar).\n",
    "\n",
    "**Requiere:**\n",
    "- ../datasets/labels_to_review.json\n",
    "\n",
    "**Crea:**\n",
    "- ../datasets/final_rev_food.json\n",
    "- ../datasets/final_rev_drink.json\n",
    "- ../datasets/final_rev_outside.json\n",
    "- ../datasets/final_rev_inside.json\n",
    "- ../datasets/final_rev_menu.json"
   ]
  },
  {
   "cell_type": "code",
   "execution_count": 1,
   "metadata": {
    "executionInfo": {
     "elapsed": 527,
     "status": "ok",
     "timestamp": 1663314702623,
     "user": {
      "displayName": "Carlos Huguet Soriano",
      "userId": "02773419815299509321"
     },
     "user_tz": -120
    },
    "id": "VtMzx-0NgxY8"
   },
   "outputs": [],
   "source": [
    "import os\n",
    "import time\n",
    "import json\n",
    "from time import sleep\n",
    "import pandas as pd\n",
    "import matplotlib.pyplot as plt\n",
    "import pickle\n",
    "from PIL import Image\n",
    "from IPython.display import clear_output"
   ]
  },
  {
   "cell_type": "code",
   "execution_count": null,
   "metadata": {},
   "outputs": [],
   "source": [
    "ejecutadoEnGoogleDrive = True # True si se ejecuta en Google Drive"
   ]
  },
  {
   "cell_type": "code",
   "execution_count": 2,
   "metadata": {
    "colab": {
     "base_uri": "https://localhost:8080/"
    },
    "executionInfo": {
     "elapsed": 22500,
     "status": "ok",
     "timestamp": 1663314730375,
     "user": {
      "displayName": "Carlos Huguet Soriano",
      "userId": "02773419815299509321"
     },
     "user_tz": -120
    },
    "id": "0st3jhdSkzcs",
    "outputId": "eb529fe1-ed3b-48b6-c14c-c8fbb9924f47"
   },
   "outputs": [
    {
     "name": "stdout",
     "output_type": "stream",
     "text": [
      "Mounted at /content/drive\n"
     ]
    }
   ],
   "source": [
    "if ejecutadoEnGoogleDrive:\n",
    "    from google.colab import drive\n",
    "    drive.mount('/content/drive')\n",
    "    PATH = '/content/drive/clasificacion_imagenes'\n",
    "else:\n",
    "    PATH = '../'"
   ]
  },
  {
   "cell_type": "code",
   "execution_count": 6,
   "metadata": {
    "colab": {
     "base_uri": "https://localhost:8080/"
    },
    "executionInfo": {
     "elapsed": 831,
     "status": "ok",
     "timestamp": 1663314881329,
     "user": {
      "displayName": "Carlos Huguet Soriano",
      "userId": "02773419815299509321"
     },
     "user_tz": -120
    },
    "id": "zdvNGDZGgxZA",
    "outputId": "f1b767dd-a3b5-41c1-8639-8a00e61c1f7d"
   },
   "outputs": [
    {
     "name": "stdout",
     "output_type": "stream",
     "text": [
      "CPU times: user 20.1 ms, sys: 1.94 ms, total: 22.1 ms\n",
      "Wall time: 624 ms\n"
     ]
    }
   ],
   "source": [
    "%%time\n",
    "json_path = PATH + 'datasets/labels_to_review.json' # tiene menu (1397), outside (1189) y drink (1026)\n",
    "df = pd.read_json(json_path, typ='frame')"
   ]
  },
  {
   "cell_type": "code",
   "execution_count": 7,
   "metadata": {
    "colab": {
     "base_uri": "https://localhost:8080/",
     "height": 112
    },
    "executionInfo": {
     "elapsed": 247,
     "status": "ok",
     "timestamp": 1663314885728,
     "user": {
      "displayName": "Carlos Huguet Soriano",
      "userId": "02773419815299509321"
     },
     "user_tz": -120
    },
    "id": "BsLHVoMPgxZB",
    "outputId": "3e46310a-e40d-47d2-ad6d-140faa1002cf"
   },
   "outputs": [
    {
     "data": {
      "text/html": [
       "\n",
       "  <div id=\"df-5a099ddb-6a2f-471a-91a8-903981d9205d\">\n",
       "    <div class=\"colab-df-container\">\n",
       "      <div>\n",
       "<style scoped>\n",
       "    .dataframe tbody tr th:only-of-type {\n",
       "        vertical-align: middle;\n",
       "    }\n",
       "\n",
       "    .dataframe tbody tr th {\n",
       "        vertical-align: top;\n",
       "    }\n",
       "\n",
       "    .dataframe thead th {\n",
       "        text-align: right;\n",
       "    }\n",
       "</style>\n",
       "<table border=\"1\" class=\"dataframe\">\n",
       "  <thead>\n",
       "    <tr style=\"text-align: right;\">\n",
       "      <th></th>\n",
       "      <th>photo_id</th>\n",
       "      <th>label</th>\n",
       "    </tr>\n",
       "  </thead>\n",
       "  <tbody>\n",
       "    <tr>\n",
       "      <th>0</th>\n",
       "      <td>FBqe1mLbOdaGYgnw0nuELw</td>\n",
       "      <td>drink</td>\n",
       "    </tr>\n",
       "    <tr>\n",
       "      <th>1</th>\n",
       "      <td>L_nNWMC7nA8YlxMmu_tGsQ</td>\n",
       "      <td>drink</td>\n",
       "    </tr>\n",
       "  </tbody>\n",
       "</table>\n",
       "</div>\n",
       "      <button class=\"colab-df-convert\" onclick=\"convertToInteractive('df-5a099ddb-6a2f-471a-91a8-903981d9205d')\"\n",
       "              title=\"Convert this dataframe to an interactive table.\"\n",
       "              style=\"display:none;\">\n",
       "        \n",
       "  <svg xmlns=\"http://www.w3.org/2000/svg\" height=\"24px\"viewBox=\"0 0 24 24\"\n",
       "       width=\"24px\">\n",
       "    <path d=\"M0 0h24v24H0V0z\" fill=\"none\"/>\n",
       "    <path d=\"M18.56 5.44l.94 2.06.94-2.06 2.06-.94-2.06-.94-.94-2.06-.94 2.06-2.06.94zm-11 1L8.5 8.5l.94-2.06 2.06-.94-2.06-.94L8.5 2.5l-.94 2.06-2.06.94zm10 10l.94 2.06.94-2.06 2.06-.94-2.06-.94-.94-2.06-.94 2.06-2.06.94z\"/><path d=\"M17.41 7.96l-1.37-1.37c-.4-.4-.92-.59-1.43-.59-.52 0-1.04.2-1.43.59L10.3 9.45l-7.72 7.72c-.78.78-.78 2.05 0 2.83L4 21.41c.39.39.9.59 1.41.59.51 0 1.02-.2 1.41-.59l7.78-7.78 2.81-2.81c.8-.78.8-2.07 0-2.86zM5.41 20L4 18.59l7.72-7.72 1.47 1.35L5.41 20z\"/>\n",
       "  </svg>\n",
       "      </button>\n",
       "      \n",
       "  <style>\n",
       "    .colab-df-container {\n",
       "      display:flex;\n",
       "      flex-wrap:wrap;\n",
       "      gap: 12px;\n",
       "    }\n",
       "\n",
       "    .colab-df-convert {\n",
       "      background-color: #E8F0FE;\n",
       "      border: none;\n",
       "      border-radius: 50%;\n",
       "      cursor: pointer;\n",
       "      display: none;\n",
       "      fill: #1967D2;\n",
       "      height: 32px;\n",
       "      padding: 0 0 0 0;\n",
       "      width: 32px;\n",
       "    }\n",
       "\n",
       "    .colab-df-convert:hover {\n",
       "      background-color: #E2EBFA;\n",
       "      box-shadow: 0px 1px 2px rgba(60, 64, 67, 0.3), 0px 1px 3px 1px rgba(60, 64, 67, 0.15);\n",
       "      fill: #174EA6;\n",
       "    }\n",
       "\n",
       "    [theme=dark] .colab-df-convert {\n",
       "      background-color: #3B4455;\n",
       "      fill: #D2E3FC;\n",
       "    }\n",
       "\n",
       "    [theme=dark] .colab-df-convert:hover {\n",
       "      background-color: #434B5C;\n",
       "      box-shadow: 0px 1px 3px 1px rgba(0, 0, 0, 0.15);\n",
       "      filter: drop-shadow(0px 1px 2px rgba(0, 0, 0, 0.3));\n",
       "      fill: #FFFFFF;\n",
       "    }\n",
       "  </style>\n",
       "\n",
       "      <script>\n",
       "        const buttonEl =\n",
       "          document.querySelector('#df-5a099ddb-6a2f-471a-91a8-903981d9205d button.colab-df-convert');\n",
       "        buttonEl.style.display =\n",
       "          google.colab.kernel.accessAllowed ? 'block' : 'none';\n",
       "\n",
       "        async function convertToInteractive(key) {\n",
       "          const element = document.querySelector('#df-5a099ddb-6a2f-471a-91a8-903981d9205d');\n",
       "          const dataTable =\n",
       "            await google.colab.kernel.invokeFunction('convertToInteractive',\n",
       "                                                     [key], {});\n",
       "          if (!dataTable) return;\n",
       "\n",
       "          const docLinkHtml = 'Like what you see? Visit the ' +\n",
       "            '<a target=\"_blank\" href=https://colab.research.google.com/notebooks/data_table.ipynb>data table notebook</a>'\n",
       "            + ' to learn more about interactive tables.';\n",
       "          element.innerHTML = '';\n",
       "          dataTable['output_type'] = 'display_data';\n",
       "          await google.colab.output.renderOutput(dataTable, element);\n",
       "          const docLink = document.createElement('div');\n",
       "          docLink.innerHTML = docLinkHtml;\n",
       "          element.appendChild(docLink);\n",
       "        }\n",
       "      </script>\n",
       "    </div>\n",
       "  </div>\n",
       "  "
      ],
      "text/plain": [
       "                 photo_id  label\n",
       "0  FBqe1mLbOdaGYgnw0nuELw  drink\n",
       "1  L_nNWMC7nA8YlxMmu_tGsQ  drink"
      ]
     },
     "execution_count": 7,
     "metadata": {},
     "output_type": "execute_result"
    }
   ],
   "source": [
    "df.head(2)"
   ]
  },
  {
   "cell_type": "code",
   "execution_count": 8,
   "metadata": {
    "colab": {
     "base_uri": "https://localhost:8080/"
    },
    "executionInfo": {
     "elapsed": 248,
     "status": "ok",
     "timestamp": 1663314916655,
     "user": {
      "displayName": "Carlos Huguet Soriano",
      "userId": "02773419815299509321"
     },
     "user_tz": -120
    },
    "id": "ODaapmkVgxZB",
    "outputId": "51525a71-e3f8-4306-82ba-7f3ce77ab249",
    "scrolled": true
   },
   "outputs": [
    {
     "data": {
      "text/plain": [
       "menu       1397\n",
       "outside    1189\n",
       "drink      1026\n",
       "Name: label, dtype: int64"
      ]
     },
     "execution_count": 8,
     "metadata": {},
     "output_type": "execute_result"
    }
   ],
   "source": [
    "df.label.value_counts()"
   ]
  },
  {
   "cell_type": "code",
   "execution_count": 9,
   "metadata": {
    "executionInfo": {
     "elapsed": 353,
     "status": "ok",
     "timestamp": 1663314920444,
     "user": {
      "displayName": "Carlos Huguet Soriano",
      "userId": "02773419815299509321"
     },
     "user_tz": -120
    },
    "id": "StcWZn4kgxZC"
   },
   "outputs": [],
   "source": [
    "# Image Classifier\n",
    "%matplotlib inline\n",
    "\n",
    "label = ['food', 'inside', 'outside', 'drink', 'menu', 'KO']\n",
    "range_ = list(range(1, 7))\n",
    "label_dict = dict(zip(range_, label))\n",
    "cat_dict = dict(zip(label, range_))\n",
    "\n",
    "def check_labels(category, img_folder, check_folder, checkpoint_number, dataframe, start=None, end=None):\n",
    "    while True:\n",
    "      b = input('Pulsa 1 para empzar a clasificar la CATEGORIA: {}'.format(category))\n",
    "      if b == '1':\n",
    "        break\n",
    "    ids_dict = {}\n",
    "\n",
    "    if start == None and end == None:\n",
    "        ids = list(dataframe[dataframe.label == category].photo_id)\n",
    "    else:\n",
    "        ids = list(dataframe[dataframe.label == category].photo_id)[start:end]\n",
    "\n",
    "    len_ = len(ids)\n",
    "    checkpoint = checkpoint_number\n",
    "\n",
    "    # Loop por los photo_id de la categoría definida. Visualización y clasificación.\n",
    "    i = 0\n",
    "    while i < len(ids):\n",
    "        current_label = list(dataframe[dataframe.photo_id == ids[i]].label)[0]\n",
    "\n",
    "        # Control en el caso de que haya una imagen corrupta y no se pueda cargar. \n",
    "        while True:\n",
    "            try:\n",
    "                im = Image.open(img_folder + '/' + ids[i] + '.jpg')\n",
    "                break\n",
    "\n",
    "            except:\n",
    "                ids_dict[ids[i]] = [current_label, 'Corrupt', 'KO']\n",
    "                continue\n",
    "        \n",
    "        plt.title(f'{current_label}. (Quedan {len_} fotos)')\n",
    "        plt.imshow(im)\n",
    "        plt.show()\n",
    "\n",
    "        print('¿Está bien tageada?')\n",
    "        print('Intro: Sí,   1: food,   2: inside,   3: outside,   4: drink,   5: menu,   6: KO,   7: << volver')\n",
    "\n",
    "        # Check si el valor está permitido y asignar las categorías.\n",
    "        while True:\n",
    "\n",
    "            # Guardar el diccionario en un json por seguridad\n",
    "            if checkpoint == 0:\n",
    "                json_name = f'checkpoint_{category}_v2.json'\n",
    "                with open(check_folder + '/' + json_name, 'w') as save_check:\n",
    "                    json.dump(ids_dict, save_check)\n",
    "                \n",
    "                print('Se ha grabado un checkpoint :)')\n",
    "                checkpoint = checkpoint_number\n",
    "                \n",
    "            \n",
    "            # Pedir opciones\n",
    "            sleep(0.2)\n",
    "            usr_input = input()\n",
    "            \n",
    "            if usr_input == '': # está bien etiquetada\n",
    "                ids_dict[ids[i]] = [current_label, current_label, 'OK']\n",
    "                checkpoint -= 1\n",
    "                len_ -= 1\n",
    "                i +=1 # avanzar\n",
    "                break\n",
    "\n",
    "            else:\n",
    "                try:\n",
    "                    if int(usr_input) == 7: # recular\n",
    "                        i -= 1\n",
    "                        len_ += 1\n",
    "                        break\n",
    "                    elif int(usr_input) == cat_dict[category]: # error. Misma categoria\n",
    "                        print('Has tageado la misma categoría. Selecciona otra :)')\n",
    "                        continue\n",
    "\n",
    "                    elif int(usr_input) in list(label_dict.keys()): # reclasificada\n",
    "                        ids_dict[ids[i]] = [current_label, label_dict[int(usr_input)], 'KO']\n",
    "                        checkpoint -= 1\n",
    "                        len_ -= 1\n",
    "                        i +=1 # avanzar\n",
    "                        break\n",
    "                    else:\n",
    "                        print('Valor equivocado :( Las opciones van del 1 al 6. Intenta otra vez.')\n",
    "                        continue\n",
    "\n",
    "                except:\n",
    "                    print('Valor equivocado :( No es un número. Intenta otra vez.')\n",
    "\n",
    "        clear_output(wait=True)\n",
    "    \n",
    "    json_name = f'final_rev_{category}.json'\n",
    "    with open(check_folder + '/' + json_name, 'w') as save_check:\n",
    "        json.dump(ids_dict, save_check)\n",
    "    print('Se ha guardado toda la revisión de {} en {}'.format(category, json_name))\n",
    "\n",
    "    return ids_dict"
   ]
  },
  {
   "cell_type": "code",
   "execution_count": 10,
   "metadata": {
    "cellView": "code",
    "colab": {
     "base_uri": "https://localhost:8080/",
     "height": 52
    },
    "executionInfo": {
     "elapsed": 4770600,
     "status": "ok",
     "timestamp": 1663319701313,
     "user": {
      "displayName": "Carlos Huguet Soriano",
      "userId": "02773419815299509321"
     },
     "user_tz": -120
    },
    "id": "E8M4MRJAgxZE",
    "outputId": "366c556d-7d7a-4b0c-ecd7-0f7787c0b4d9"
   },
   "outputs": [
    {
     "name": "stdout",
     "output_type": "stream",
     "text": [
      "Se ha guardado toda la revisión de drink en final_rev_drink.json\n",
      "Reclasificación completada. Gracias!\n"
     ]
    }
   ],
   "source": [
    "image_path = PATH + 'datasets/photos' # Ruta con las imagenes\n",
    "save_path = PATH + 'datasets'           # Ruta donde queremos que se guade el json\n",
    "\n",
    "label_a_revisar = ['food', 'drink','outside', 'inside','menu']\n",
    "\n",
    "for label in label_a_revisar:\n",
    "    check_labels(label,              # Categoria\n",
    "                 image_path,         # ruta imagenes\n",
    "                 save_path,          # ruta guardado checkpoint\n",
    "                 20,                 # Frecuencia con la que guarda el checkpoint\n",
    "                 df,                 # Dataframe de referencia                 \n",
    "                 None,               # Dónde empieza el DF. Si está a None se carga entero (por defecto)\n",
    "                 None)               # Dónde termona el DF. Start y end tiene que estar los dos a None o los dos con valor\n",
    "print('Reclasificación completada. Gracias!')"
   ]
  }
 ],
 "metadata": {
  "colab": {
   "collapsed_sections": [],
   "provenance": []
  },
  "kernelspec": {
   "display_name": "Python 3 (ipykernel)",
   "language": "python",
   "name": "python3"
  },
  "language_info": {
   "codemirror_mode": {
    "name": "ipython",
    "version": 3
   },
   "file_extension": ".py",
   "mimetype": "text/x-python",
   "name": "python",
   "nbconvert_exporter": "python",
   "pygments_lexer": "ipython3",
   "version": "3.8.10"
  },
  "vscode": {
   "interpreter": {
    "hash": "45094651f2a0e557b8c690629d7dc7600e86dbff1eed6559db87eda57c968262"
   }
  }
 },
 "nbformat": 4,
 "nbformat_minor": 1
}
