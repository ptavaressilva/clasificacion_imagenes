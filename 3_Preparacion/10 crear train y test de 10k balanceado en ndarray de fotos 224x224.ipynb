{
 "cells": [
  {
   "cell_type": "markdown",
   "metadata": {},
   "source": [
    "**Función:** crear un sub dataset 10k limpio balanceado, en formato ndarray.\n",
    "\n",
    "**Requiere:**\n",
    "- ../datasets/df_final_bal.pkl\n",
    "\n",
    "**Crea:**\n",
    "- ../datasets/X_train.pkl\n",
    "- ../datasets/X_test.pkl\n",
    "- ../datasets/y_train.pkl\n",
    "- ../datasets/y_test.pkl"
   ]
  },
  {
   "cell_type": "code",
   "execution_count": null,
   "metadata": {},
   "outputs": [],
   "source": [
    "ejecutadoEnGoogleDrive = False # True si se ejecuta en Google Drive"
   ]
  },
  {
   "cell_type": "code",
   "execution_count": null,
   "metadata": {},
   "outputs": [],
   "source": [
    "if ejecutadoEnGoogleDrive:\n",
    "    from google.colab import drive\n",
    "    drive.mount('/content/drive')\n",
    "    PATH = '/content/drive/clasificacion_imagenes'\n",
    "else:\n",
    "    PATH = '../'"
   ]
  },
  {
   "cell_type": "code",
   "execution_count": 1,
   "metadata": {
    "executionInfo": {
     "elapsed": 270,
     "status": "ok",
     "timestamp": 1663094471881,
     "user": {
      "displayName": "Toni Vila",
      "userId": "16769261626805193360"
     },
     "user_tz": -120
    },
    "id": "0UsqAoH5bPX_"
   },
   "outputs": [],
   "source": [
    "import pandas as pd\n",
    "import pickle\n",
    "import numpy as np\n",
    "import math\n",
    "import torchvision.transforms as T\n",
    "from sklearn.preprocessing import OneHotEncoder\n",
    "from tqdm.notebook import trange, tqdm\n",
    "from PIL import Image"
   ]
  },
  {
   "cell_type": "code",
   "execution_count": 2,
   "metadata": {},
   "outputs": [],
   "source": [
    "photo_path = PATH + 'dataset/photos'\n",
    "img_size = 224"
   ]
  },
  {
   "cell_type": "markdown",
   "metadata": {
    "id": "c-T3ABapjRlW"
   },
   "source": [
    "# Create Train Test DFs. "
   ]
  },
  {
   "cell_type": "code",
   "execution_count": 3,
   "metadata": {
    "executionInfo": {
     "elapsed": 895,
     "status": "ok",
     "timestamp": 1663094499625,
     "user": {
      "displayName": "Toni Vila",
      "userId": "16769261626805193360"
     },
     "user_tz": -120
    },
    "id": "1uOCTKSH39ly"
   },
   "outputs": [
    {
     "data": {
      "text/html": [
       "<div>\n",
       "<style scoped>\n",
       "    .dataframe tbody tr th:only-of-type {\n",
       "        vertical-align: middle;\n",
       "    }\n",
       "\n",
       "    .dataframe tbody tr th {\n",
       "        vertical-align: top;\n",
       "    }\n",
       "\n",
       "    .dataframe thead th {\n",
       "        text-align: right;\n",
       "    }\n",
       "</style>\n",
       "<table border=\"1\" class=\"dataframe\">\n",
       "  <thead>\n",
       "    <tr style=\"text-align: right;\">\n",
       "      <th></th>\n",
       "      <th>photo_id</th>\n",
       "      <th>label</th>\n",
       "    </tr>\n",
       "  </thead>\n",
       "  <tbody>\n",
       "    <tr>\n",
       "      <th>1416</th>\n",
       "      <td>sKR4OiR14nD4NqfZFAsaHA</td>\n",
       "      <td>menu</td>\n",
       "    </tr>\n",
       "    <tr>\n",
       "      <th>1509</th>\n",
       "      <td>V4tsc_w3NtKOin03WMVm1g</td>\n",
       "      <td>menu</td>\n",
       "    </tr>\n",
       "  </tbody>\n",
       "</table>\n",
       "</div>"
      ],
      "text/plain": [
       "                    photo_id label\n",
       "1416  sKR4OiR14nD4NqfZFAsaHA  menu\n",
       "1509  V4tsc_w3NtKOin03WMVm1g  menu"
      ]
     },
     "execution_count": 3,
     "metadata": {},
     "output_type": "execute_result"
    }
   ],
   "source": [
    "df = pickle.load(open(PATH + 'datasets/df_final_bal.pkl','rb')).rename(columns={'reclass_label': 'label'})\n",
    "df.head(2)"
   ]
  },
  {
   "cell_type": "code",
   "execution_count": 4,
   "metadata": {
    "colab": {
     "base_uri": "https://localhost:8080/"
    },
    "executionInfo": {
     "elapsed": 352,
     "status": "ok",
     "timestamp": 1663094504165,
     "user": {
      "displayName": "Toni Vila",
      "userId": "16769261626805193360"
     },
     "user_tz": -120
    },
    "id": "K2_XbcKPK9tE",
    "outputId": "e981e73c-50a6-4160-d518-a80f57f49122"
   },
   "outputs": [
    {
     "data": {
      "text/plain": [
       "menu       1375\n",
       "food       1375\n",
       "inside     1375\n",
       "drink      1375\n",
       "outside    1375\n",
       "Name: label, dtype: int64"
      ]
     },
     "execution_count": 4,
     "metadata": {},
     "output_type": "execute_result"
    }
   ],
   "source": [
    "df.label.value_counts()"
   ]
  },
  {
   "cell_type": "code",
   "execution_count": 5,
   "metadata": {
    "colab": {
     "base_uri": "https://localhost:8080/"
    },
    "executionInfo": {
     "elapsed": 527,
     "status": "ok",
     "timestamp": 1663094507441,
     "user": {
      "displayName": "Toni Vila",
      "userId": "16769261626805193360"
     },
     "user_tz": -120
    },
    "id": "yu7m-hq6LI_l",
    "outputId": "d5e809aa-0b0a-4ff7-d6db-0b95efc2a2e5"
   },
   "outputs": [
    {
     "data": {
      "text/plain": [
       "menu       1100.0\n",
       "food       1100.0\n",
       "inside     1100.0\n",
       "drink      1100.0\n",
       "outside    1100.0\n",
       "Name: label, dtype: float64"
      ]
     },
     "execution_count": 5,
     "metadata": {},
     "output_type": "execute_result"
    }
   ],
   "source": [
    "round(df.label.value_counts() * 0.8, 0)"
   ]
  },
  {
   "cell_type": "code",
   "execution_count": 6,
   "metadata": {
    "executionInfo": {
     "elapsed": 231,
     "status": "ok",
     "timestamp": 1663090591494,
     "user": {
      "displayName": "Toni Vila",
      "userId": "16769261626805193360"
     },
     "user_tz": -120
    },
    "id": "JlEf8nIZLUZI"
   },
   "outputs": [],
   "source": [
    "def create_df(num_samples, dataframe):\n",
    "    labels = list(df.label.value_counts().reset_index()['index'])\n",
    "    proportion = list(df.label.value_counts() / df.shape[0])\n",
    "    \n",
    "    dict_samples = {}\n",
    "    \n",
    "    for (i, j) in zip(labels, proportion):\n",
    "        dict_samples[i] = int(round(j * num_samples, 0))\n",
    "\n",
    "    df_short = pd.DataFrame()\n",
    "\n",
    "    for i in dict_samples.keys():\n",
    "        df_temp = dataframe[dataframe['label'] == i].sample(dict_samples[i])\n",
    "        df_short = pd.concat([df_short, df_temp], axis=0)\n",
    "\n",
    "    return df_short\n"
   ]
  },
  {
   "cell_type": "code",
   "execution_count": 7,
   "metadata": {
    "executionInfo": {
     "elapsed": 253,
     "status": "ok",
     "timestamp": 1663090594017,
     "user": {
      "displayName": "Toni Vila",
      "userId": "16769261626805193360"
     },
     "user_tz": -120
    },
    "id": "Kuj8LAPdLtSe"
   },
   "outputs": [],
   "source": [
    "train_num = round(df.shape[0] * 0.8, 0)\n",
    "df_train = create_df(train_num, df)"
   ]
  },
  {
   "cell_type": "code",
   "execution_count": 8,
   "metadata": {
    "colab": {
     "base_uri": "https://localhost:8080/",
     "height": 206
    },
    "executionInfo": {
     "elapsed": 14,
     "status": "ok",
     "timestamp": 1663090595174,
     "user": {
      "displayName": "Toni Vila",
      "userId": "16769261626805193360"
     },
     "user_tz": -120
    },
    "id": "zirjKNWuL4Pt",
    "outputId": "1180994d-083d-4fb5-b437-dd5e44c33f82"
   },
   "outputs": [
    {
     "data": {
      "text/html": [
       "<div>\n",
       "<style scoped>\n",
       "    .dataframe tbody tr th:only-of-type {\n",
       "        vertical-align: middle;\n",
       "    }\n",
       "\n",
       "    .dataframe tbody tr th {\n",
       "        vertical-align: top;\n",
       "    }\n",
       "\n",
       "    .dataframe thead th {\n",
       "        text-align: right;\n",
       "    }\n",
       "</style>\n",
       "<table border=\"1\" class=\"dataframe\">\n",
       "  <thead>\n",
       "    <tr style=\"text-align: right;\">\n",
       "      <th></th>\n",
       "      <th>photo_id</th>\n",
       "      <th>label</th>\n",
       "    </tr>\n",
       "  </thead>\n",
       "  <tbody>\n",
       "    <tr>\n",
       "      <th>5495</th>\n",
       "      <td>rZ_96jzHCaBIXHrsCVwQQg</td>\n",
       "      <td>outside</td>\n",
       "    </tr>\n",
       "    <tr>\n",
       "      <th>5496</th>\n",
       "      <td>ph0pihKLWOinxXfNR5J84w</td>\n",
       "      <td>outside</td>\n",
       "    </tr>\n",
       "    <tr>\n",
       "      <th>5497</th>\n",
       "      <td>G85boFMSAGOqxdX3OPjmJQ</td>\n",
       "      <td>outside</td>\n",
       "    </tr>\n",
       "    <tr>\n",
       "      <th>5498</th>\n",
       "      <td>SdHobz_v44IOuI44TTpu1w</td>\n",
       "      <td>outside</td>\n",
       "    </tr>\n",
       "    <tr>\n",
       "      <th>5499</th>\n",
       "      <td>5RoT372KtJ-Y2aTwz0jw7A</td>\n",
       "      <td>outside</td>\n",
       "    </tr>\n",
       "  </tbody>\n",
       "</table>\n",
       "</div>"
      ],
      "text/plain": [
       "                    photo_id    label\n",
       "5495  rZ_96jzHCaBIXHrsCVwQQg  outside\n",
       "5496  ph0pihKLWOinxXfNR5J84w  outside\n",
       "5497  G85boFMSAGOqxdX3OPjmJQ  outside\n",
       "5498  SdHobz_v44IOuI44TTpu1w  outside\n",
       "5499  5RoT372KtJ-Y2aTwz0jw7A  outside"
      ]
     },
     "execution_count": 8,
     "metadata": {},
     "output_type": "execute_result"
    }
   ],
   "source": [
    "df_train.reset_index(drop=True, inplace=True)\n",
    "df_train.tail()"
   ]
  },
  {
   "cell_type": "code",
   "execution_count": 9,
   "metadata": {},
   "outputs": [
    {
     "data": {
      "text/html": [
       "<div>\n",
       "<style scoped>\n",
       "    .dataframe tbody tr th:only-of-type {\n",
       "        vertical-align: middle;\n",
       "    }\n",
       "\n",
       "    .dataframe tbody tr th {\n",
       "        vertical-align: top;\n",
       "    }\n",
       "\n",
       "    .dataframe thead th {\n",
       "        text-align: right;\n",
       "    }\n",
       "</style>\n",
       "<table border=\"1\" class=\"dataframe\">\n",
       "  <thead>\n",
       "    <tr style=\"text-align: right;\">\n",
       "      <th></th>\n",
       "      <th>photo_id</th>\n",
       "      <th>label_x</th>\n",
       "      <th>label_y</th>\n",
       "      <th>_merge</th>\n",
       "    </tr>\n",
       "  </thead>\n",
       "  <tbody>\n",
       "    <tr>\n",
       "      <th>0</th>\n",
       "      <td>sKR4OiR14nD4NqfZFAsaHA</td>\n",
       "      <td>menu</td>\n",
       "      <td>menu</td>\n",
       "      <td>both</td>\n",
       "    </tr>\n",
       "    <tr>\n",
       "      <th>1</th>\n",
       "      <td>V4tsc_w3NtKOin03WMVm1g</td>\n",
       "      <td>menu</td>\n",
       "      <td>menu</td>\n",
       "      <td>both</td>\n",
       "    </tr>\n",
       "  </tbody>\n",
       "</table>\n",
       "</div>"
      ],
      "text/plain": [
       "                 photo_id label_x label_y _merge\n",
       "0  sKR4OiR14nD4NqfZFAsaHA    menu    menu   both\n",
       "1  V4tsc_w3NtKOin03WMVm1g    menu    menu   both"
      ]
     },
     "execution_count": 9,
     "metadata": {},
     "output_type": "execute_result"
    }
   ],
   "source": [
    "compared = df.merge(df_train.drop_duplicates(), on='photo_id', how='left', indicator=True)\n",
    "compared.head(2)"
   ]
  },
  {
   "cell_type": "code",
   "execution_count": 10,
   "metadata": {},
   "outputs": [
    {
     "data": {
      "text/html": [
       "<div>\n",
       "<style scoped>\n",
       "    .dataframe tbody tr th:only-of-type {\n",
       "        vertical-align: middle;\n",
       "    }\n",
       "\n",
       "    .dataframe tbody tr th {\n",
       "        vertical-align: top;\n",
       "    }\n",
       "\n",
       "    .dataframe thead th {\n",
       "        text-align: right;\n",
       "    }\n",
       "</style>\n",
       "<table border=\"1\" class=\"dataframe\">\n",
       "  <thead>\n",
       "    <tr style=\"text-align: right;\">\n",
       "      <th></th>\n",
       "      <th>photo_id</th>\n",
       "      <th>label</th>\n",
       "    </tr>\n",
       "  </thead>\n",
       "  <tbody>\n",
       "    <tr>\n",
       "      <th>8</th>\n",
       "      <td>lZhO_oA6JH6e5CSiBEUOjg</td>\n",
       "      <td>menu</td>\n",
       "    </tr>\n",
       "    <tr>\n",
       "      <th>10</th>\n",
       "      <td>ockFtmG4btt1bf9GgVRNSg</td>\n",
       "      <td>menu</td>\n",
       "    </tr>\n",
       "  </tbody>\n",
       "</table>\n",
       "</div>"
      ],
      "text/plain": [
       "                  photo_id label\n",
       "8   lZhO_oA6JH6e5CSiBEUOjg  menu\n",
       "10  ockFtmG4btt1bf9GgVRNSg  menu"
      ]
     },
     "execution_count": 10,
     "metadata": {},
     "output_type": "execute_result"
    }
   ],
   "source": [
    "df_test = compared.loc[compared._merge == 'left_only'].drop(columns=['_merge', 'label_y']).rename(columns={'label_x':'label'})\n",
    "df_test.head(2)"
   ]
  },
  {
   "cell_type": "code",
   "execution_count": 11,
   "metadata": {
    "colab": {
     "base_uri": "https://localhost:8080/"
    },
    "executionInfo": {
     "elapsed": 225,
     "status": "ok",
     "timestamp": 1663090599630,
     "user": {
      "displayName": "Toni Vila",
      "userId": "16769261626805193360"
     },
     "user_tz": -120
    },
    "id": "i7-cPVeFSh76",
    "outputId": "f93c5000-e068-4797-f76a-c7a7bfda204e"
   },
   "outputs": [
    {
     "name": "stdout",
     "output_type": "stream",
     "text": [
      "El tamaño de Train es de 5500 y el de Test es de 1375\n"
     ]
    }
   ],
   "source": [
    "print(f'El tamaño de Train es de {df_train.shape[0]} y el de Test es de {df_test.shape[0]}')"
   ]
  },
  {
   "cell_type": "markdown",
   "metadata": {
    "id": "Th4Ppc4PjMHX"
   },
   "source": [
    "# Reescalar"
   ]
  },
  {
   "cell_type": "code",
   "execution_count": 12,
   "metadata": {
    "executionInfo": {
     "elapsed": 259,
     "status": "ok",
     "timestamp": 1663091587477,
     "user": {
      "displayName": "Toni Vila",
      "userId": "16769261626805193360"
     },
     "user_tz": -120
    },
    "id": "g3S9oC-dXdz6"
   },
   "outputs": [],
   "source": [
    "def resize_pictures(dataframe, img_path, size_rescaled):\n",
    "    df_temp = dataframe.copy()\n",
    "    df_temp['image'] = ''\n",
    "    \n",
    "    for im_pos in tqdm(range(len(df_temp)), desc='Photos cropped', miniters=len(df_temp)//100):\n",
    "        \n",
    "        with Image.open('{}/{}.jpg'.format(img_path, df_temp.iloc[im_pos].photo_id)) as image:\n",
    "\n",
    "            width = image.size[0]\n",
    "            height = image.size[1]\n",
    "\n",
    "            # redimensionar\n",
    "            if (height < width): # imagen estrecha\n",
    "                height = int(size_rescaled)\n",
    "                height = math.floor(size_rescaled * width/height)\n",
    "            else: # imagen ancha\n",
    "                width = math.floor(size_rescaled * height/width)\n",
    "                height = int(size_rescaled)\n",
    "\n",
    "            resized = T.Resize((height, width))(image)\n",
    "            cropped = T.CenterCrop(size=int(size_rescaled))(resized)\n",
    "            df_temp.iloc[im_pos, 2] = cropped\n",
    "\n",
    "    return df_temp"
   ]
  },
  {
   "cell_type": "code",
   "execution_count": 13,
   "metadata": {
    "colab": {
     "base_uri": "https://localhost:8080/",
     "height": 81,
     "referenced_widgets": [
      "24aed5ac223a40819e75fe817e12b1c4",
      "a1228fb9dc1647bdad31122265f5082a",
      "dd31baa9c462484c87ecd14b3e46eb50",
      "6674fadc6a3e4b3ebc7f1de8ff00fe0b",
      "0b9c529cd5c64809a3cbd598fe171b85",
      "67ece11cfc0c4b9d8b4bed68f1a44df4",
      "dc53962a99bb4e3ab7497723fec5a9bb",
      "998ee8506d8e4ca1a0cae38501d6ed71",
      "f69f965935b04c3ca2e477a36f589029",
      "e6b67f4cbe1d484cb5b447a9db8dce0e",
      "d889dac4ecd8428fa53a1549767f1ee9",
      "92550f8691d64c4f885ed9b149815404",
      "5a41577893ee417694c17ac000ed803b",
      "528220ac7a4341099c37609e1d423383",
      "1721c6cd62ed43d6805127487b902afc",
      "7b755a294343456ab90aee4e9db5f752",
      "e175228d4d3e42caa4ecea14a66200a4",
      "93962eaf91574541892fc780ce20c526",
      "30512b2f6d9f4eaaba8348f7ae39f9ca",
      "d2cdaee2dd5d4ccd95757ae5fe1c0164",
      "2b8e5cdfaee744bfab235872134085f2",
      "c3436f7c5cb2496e818b4034095bedfe"
     ]
    },
    "executionInfo": {
     "elapsed": 88641,
     "status": "ok",
     "timestamp": 1663091678941,
     "user": {
      "displayName": "Toni Vila",
      "userId": "16769261626805193360"
     },
     "user_tz": -120
    },
    "id": "2gUM8y29kfQY",
    "outputId": "fa0c6beb-b6f3-4ce8-e6fa-61b5e0429d42"
   },
   "outputs": [
    {
     "data": {
      "application/vnd.jupyter.widget-view+json": {
       "model_id": "89f804e03f454256897f2da10bf7a315",
       "version_major": 2,
       "version_minor": 0
      },
      "text/plain": [
       "Photos cropped:   0%|          | 0/5500 [00:00<?, ?it/s]"
      ]
     },
     "metadata": {},
     "output_type": "display_data"
    },
    {
     "data": {
      "application/vnd.jupyter.widget-view+json": {
       "model_id": "74ee6dc0208d472abb4d97e6f45c1e98",
       "version_major": 2,
       "version_minor": 0
      },
      "text/plain": [
       "Photos cropped:   0%|          | 0/1375 [00:00<?, ?it/s]"
      ]
     },
     "metadata": {},
     "output_type": "display_data"
    }
   ],
   "source": [
    "# Create new train DF\n",
    "df2_train = resize_pictures(df_train, photo_path, img_size)\n",
    "\n",
    "# Create new Test DF\n",
    "df2_test = resize_pictures(df_test, photo_path, img_size)"
   ]
  },
  {
   "cell_type": "code",
   "execution_count": 14,
   "metadata": {
    "colab": {
     "base_uri": "https://localhost:8080/"
    },
    "executionInfo": {
     "elapsed": 6,
     "status": "ok",
     "timestamp": 1663090779052,
     "user": {
      "displayName": "Toni Vila",
      "userId": "16769261626805193360"
     },
     "user_tz": -120
    },
    "id": "egKlag3A7rlV",
    "outputId": "e213cf55-7d17-441b-f499-50d2ec5ace73"
   },
   "outputs": [
    {
     "data": {
      "text/plain": [
       "(224, 224, 3)"
      ]
     },
     "execution_count": 14,
     "metadata": {},
     "output_type": "execute_result"
    }
   ],
   "source": [
    "np.array(df2_train.iloc[1, 2]).shape"
   ]
  },
  {
   "cell_type": "code",
   "execution_count": 15,
   "metadata": {
    "colab": {
     "base_uri": "https://localhost:8080/",
     "height": 395
    },
    "executionInfo": {
     "elapsed": 12,
     "status": "ok",
     "timestamp": 1663089373029,
     "user": {
      "displayName": "Toni Vila",
      "userId": "16769261626805193360"
     },
     "user_tz": -120
    },
    "id": "cBtfT2FG2ZtF",
    "outputId": "3b83f2d7-934e-4cae-9139-25320a0d4078"
   },
   "outputs": [
    {
     "data": {
      "text/html": [
       "<div>\n",
       "<style scoped>\n",
       "    .dataframe tbody tr th:only-of-type {\n",
       "        vertical-align: middle;\n",
       "    }\n",
       "\n",
       "    .dataframe tbody tr th {\n",
       "        vertical-align: top;\n",
       "    }\n",
       "\n",
       "    .dataframe thead th {\n",
       "        text-align: right;\n",
       "    }\n",
       "</style>\n",
       "<table border=\"1\" class=\"dataframe\">\n",
       "  <thead>\n",
       "    <tr style=\"text-align: right;\">\n",
       "      <th></th>\n",
       "      <th>photo_id</th>\n",
       "      <th>label</th>\n",
       "      <th>image</th>\n",
       "    </tr>\n",
       "  </thead>\n",
       "  <tbody>\n",
       "    <tr>\n",
       "      <th>0</th>\n",
       "      <td>4ZFZhO1gtME2s_YD-uZWZg</td>\n",
       "      <td>menu</td>\n",
       "      <td>&lt;PIL.Image.Image image mode=RGB size=224x224 a...</td>\n",
       "    </tr>\n",
       "    <tr>\n",
       "      <th>1</th>\n",
       "      <td>hr8M8sHhxRwLnZiq_2MIEg</td>\n",
       "      <td>menu</td>\n",
       "      <td>&lt;PIL.Image.Image image mode=RGB size=224x224 a...</td>\n",
       "    </tr>\n",
       "  </tbody>\n",
       "</table>\n",
       "</div>"
      ],
      "text/plain": [
       "                 photo_id label  \\\n",
       "0  4ZFZhO1gtME2s_YD-uZWZg  menu   \n",
       "1  hr8M8sHhxRwLnZiq_2MIEg  menu   \n",
       "\n",
       "                                               image  \n",
       "0  <PIL.Image.Image image mode=RGB size=224x224 a...  \n",
       "1  <PIL.Image.Image image mode=RGB size=224x224 a...  "
      ]
     },
     "metadata": {},
     "output_type": "display_data"
    },
    {
     "data": {
      "text/html": [
       "<div>\n",
       "<style scoped>\n",
       "    .dataframe tbody tr th:only-of-type {\n",
       "        vertical-align: middle;\n",
       "    }\n",
       "\n",
       "    .dataframe tbody tr th {\n",
       "        vertical-align: top;\n",
       "    }\n",
       "\n",
       "    .dataframe thead th {\n",
       "        text-align: right;\n",
       "    }\n",
       "</style>\n",
       "<table border=\"1\" class=\"dataframe\">\n",
       "  <thead>\n",
       "    <tr style=\"text-align: right;\">\n",
       "      <th></th>\n",
       "      <th>photo_id</th>\n",
       "      <th>label</th>\n",
       "      <th>image</th>\n",
       "    </tr>\n",
       "  </thead>\n",
       "  <tbody>\n",
       "    <tr>\n",
       "      <th>8</th>\n",
       "      <td>lZhO_oA6JH6e5CSiBEUOjg</td>\n",
       "      <td>menu</td>\n",
       "      <td>&lt;PIL.Image.Image image mode=RGB size=224x224 a...</td>\n",
       "    </tr>\n",
       "    <tr>\n",
       "      <th>10</th>\n",
       "      <td>ockFtmG4btt1bf9GgVRNSg</td>\n",
       "      <td>menu</td>\n",
       "      <td>&lt;PIL.Image.Image image mode=RGB size=224x224 a...</td>\n",
       "    </tr>\n",
       "  </tbody>\n",
       "</table>\n",
       "</div>"
      ],
      "text/plain": [
       "                  photo_id label  \\\n",
       "8   lZhO_oA6JH6e5CSiBEUOjg  menu   \n",
       "10  ockFtmG4btt1bf9GgVRNSg  menu   \n",
       "\n",
       "                                                image  \n",
       "8   <PIL.Image.Image image mode=RGB size=224x224 a...  \n",
       "10  <PIL.Image.Image image mode=RGB size=224x224 a...  "
      ]
     },
     "metadata": {},
     "output_type": "display_data"
    }
   ],
   "source": [
    "display(df2_train.head(2))\n",
    "display(df2_test.head(2))"
   ]
  },
  {
   "cell_type": "code",
   "execution_count": 16,
   "metadata": {
    "colab": {
     "base_uri": "https://localhost:8080/"
    },
    "executionInfo": {
     "elapsed": 247,
     "status": "ok",
     "timestamp": 1663091776648,
     "user": {
      "displayName": "Toni Vila",
      "userId": "16769261626805193360"
     },
     "user_tz": -120
    },
    "id": "-xuhTHS32k0_",
    "outputId": "576b5dbd-ca87-47ea-9e2c-7146698149b9"
   },
   "outputs": [
    {
     "data": {
      "text/plain": [
       "array([[ 1, 45, 30],\n",
       "       [ 1, 45, 30],\n",
       "       [ 1, 45, 30],\n",
       "       ...,\n",
       "       [61, 57, 48],\n",
       "       [73, 69, 60],\n",
       "       [59, 55, 46]])"
      ]
     },
     "execution_count": 16,
     "metadata": {},
     "output_type": "execute_result"
    }
   ],
   "source": [
    "np.array(df2_train.iloc[1, 2].getdata())"
   ]
  },
  {
   "cell_type": "code",
   "execution_count": 17,
   "metadata": {
    "id": "XAV0tWjMdi0J"
   },
   "outputs": [
    {
     "data": {
      "text/plain": [
       "(5500, 224, 224, 3)"
      ]
     },
     "execution_count": 17,
     "metadata": {},
     "output_type": "execute_result"
    }
   ],
   "source": [
    "series_X_train = df2_train.image.map(lambda img: np.array(img.getdata()).reshape(img_size, img_size, 3))\n",
    "X_train = np.stack(series_X_train.to_numpy(copy=True))\n",
    "X_train.shape"
   ]
  },
  {
   "cell_type": "code",
   "execution_count": 18,
   "metadata": {
    "id": "u9N1CF1C_xHR"
   },
   "outputs": [],
   "source": [
    "X_train = X_train.astype('float32')\n",
    "X_train /= 255"
   ]
  },
  {
   "cell_type": "code",
   "execution_count": 19,
   "metadata": {},
   "outputs": [
    {
     "data": {
      "text/plain": [
       "(1375, 224, 224, 3)"
      ]
     },
     "execution_count": 19,
     "metadata": {},
     "output_type": "execute_result"
    }
   ],
   "source": [
    "series_X_test = df2_test.image.map(lambda img: np.array(img.getdata()).reshape(img_size, img_size, 3))\n",
    "X_test = np.stack(series_X_test.to_numpy(copy=True))\n",
    "X_test.shape"
   ]
  },
  {
   "cell_type": "code",
   "execution_count": 20,
   "metadata": {},
   "outputs": [],
   "source": [
    "X_test = X_test.astype('float32')\n",
    "X_test /= 255"
   ]
  },
  {
   "cell_type": "code",
   "execution_count": 23,
   "metadata": {},
   "outputs": [],
   "source": [
    "pickle.dump(X_test, open(output_path + 'X_test.pkl','wb'))"
   ]
  },
  {
   "cell_type": "code",
   "execution_count": 24,
   "metadata": {},
   "outputs": [],
   "source": [
    "categories = [['food', 'inside', 'outside', 'drink', 'menu']]\n",
    "enc = OneHotEncoder(categories=categories, drop=None)"
   ]
  },
  {
   "cell_type": "code",
   "execution_count": 25,
   "metadata": {},
   "outputs": [],
   "source": [
    "y_train = enc.fit_transform(df_train[['label']]).astype('float32').toarray()"
   ]
  },
  {
   "cell_type": "code",
   "execution_count": 26,
   "metadata": {},
   "outputs": [],
   "source": [
    "y_test = enc.fit_transform(df_test[['label']]).astype('float32').toarray()"
   ]
  },
  {
   "cell_type": "code",
   "execution_count": 27,
   "metadata": {},
   "outputs": [
    {
     "data": {
      "text/plain": [
       "numpy.ndarray"
      ]
     },
     "execution_count": 27,
     "metadata": {},
     "output_type": "execute_result"
    }
   ],
   "source": [
    "type(y_train)"
   ]
  },
  {
   "cell_type": "code",
   "execution_count": 28,
   "metadata": {},
   "outputs": [],
   "source": [
    "img_rows, img_cols, img_ch = 224, 224, 3\n",
    "num_labels = 5"
   ]
  },
  {
   "cell_type": "code",
   "execution_count": 29,
   "metadata": {},
   "outputs": [
    {
     "name": "stdout",
     "output_type": "stream",
     "text": [
      "El dataset tiene las dimensiones esperadas\n"
     ]
    }
   ],
   "source": [
    "# test de los datos de entrada\n",
    "if   (X_train.shape[1] != img_rows) \\\n",
    "  or (X_train.shape[2] != img_cols)\\\n",
    "  or (X_train.shape[3] != img_ch)\\\n",
    "  or (y_train.shape[1] != num_labels)\\\n",
    "  or (X_train.dtype != 'float32')\\\n",
    "  or (X_test.shape[1] != img_rows) \\\n",
    "  or (X_test.shape[2] != img_cols)\\\n",
    "  or (X_test.shape[3] != img_ch)\\\n",
    "  or (y_test.shape[1] != num_labels)\\\n",
    "  or (X_test.dtype != 'float32')\\\n",
    "  or (y_train.dtype != 'float32')\\\n",
    "  or (y_test.dtype != 'float32')\\\n",
    "  or (X_train.shape[0] != y_train.shape[0])\\\n",
    "  or (X_test.shape[0] != y_test.shape[0]\\\n",
    "  or type(X_train) != np.ndarray\\\n",
    "  or type(X_test) != np.ndarray\\\n",
    "  or type(y_train) != np.ndarray\\\n",
    "  or type(y_test) != np.ndarray):\n",
    "  raise Exception(\"El dataset no tiene las dimensiones esperadas!\")\n",
    "else:\n",
    "  print('El dataset tiene las dimensiones esperadas')"
   ]
  },
  {
   "cell_type": "code",
   "execution_count": 30,
   "metadata": {},
   "outputs": [],
   "source": [
    "pickle.dump(X_train, open(PATH + 'datasets/X_train.pkl','wb'))"
   ]
  },
  {
   "cell_type": "code",
   "execution_count": 31,
   "metadata": {},
   "outputs": [],
   "source": [
    "pickle.dump(X_test, open(PATH + 'datasets/X_test.pkl','wb'))"
   ]
  },
  {
   "cell_type": "code",
   "execution_count": 32,
   "metadata": {},
   "outputs": [],
   "source": [
    "pickle.dump(y_train, open(PATH + 'datasets/y_train.pkl','wb'))"
   ]
  },
  {
   "cell_type": "code",
   "execution_count": 33,
   "metadata": {},
   "outputs": [],
   "source": [
    "pickle.dump(y_test, open(PATH + 'datasets/y_test.pkl','wb'))"
   ]
  }
 ],
 "metadata": {
  "colab": {
   "authorship_tag": "ABX9TyMqMhMZ4M2V8A1AAsDQ1vnS",
   "provenance": []
  },
  "kernelspec": {
   "display_name": "Python 3 (ipykernel)",
   "language": "python",
   "name": "python3"
  },
  "language_info": {
   "codemirror_mode": {
    "name": "ipython",
    "version": 3
   },
   "file_extension": ".py",
   "mimetype": "text/x-python",
   "name": "python",
   "nbconvert_exporter": "python",
   "pygments_lexer": "ipython3",
   "version": "3.8.10"
  },
  "widgets": {
   "application/vnd.jupyter.widget-state+json": {
    "0b9c529cd5c64809a3cbd598fe171b85": {
     "model_module": "@jupyter-widgets/base",
     "model_module_version": "1.2.0",
     "model_name": "LayoutModel",
     "state": {
      "_model_module": "@jupyter-widgets/base",
      "_model_module_version": "1.2.0",
      "_model_name": "LayoutModel",
      "_view_count": null,
      "_view_module": "@jupyter-widgets/base",
      "_view_module_version": "1.2.0",
      "_view_name": "LayoutView",
      "align_content": null,
      "align_items": null,
      "align_self": null,
      "border": null,
      "bottom": null,
      "display": null,
      "flex": null,
      "flex_flow": null,
      "grid_area": null,
      "grid_auto_columns": null,
      "grid_auto_flow": null,
      "grid_auto_rows": null,
      "grid_column": null,
      "grid_gap": null,
      "grid_row": null,
      "grid_template_areas": null,
      "grid_template_columns": null,
      "grid_template_rows": null,
      "height": null,
      "justify_content": null,
      "justify_items": null,
      "left": null,
      "margin": null,
      "max_height": null,
      "max_width": null,
      "min_height": null,
      "min_width": null,
      "object_fit": null,
      "object_position": null,
      "order": null,
      "overflow": null,
      "overflow_x": null,
      "overflow_y": null,
      "padding": null,
      "right": null,
      "top": null,
      "visibility": null,
      "width": null
     }
    },
    "1721c6cd62ed43d6805127487b902afc": {
     "model_module": "@jupyter-widgets/controls",
     "model_module_version": "1.5.0",
     "model_name": "HTMLModel",
     "state": {
      "_dom_classes": [],
      "_model_module": "@jupyter-widgets/controls",
      "_model_module_version": "1.5.0",
      "_model_name": "HTMLModel",
      "_view_count": null,
      "_view_module": "@jupyter-widgets/controls",
      "_view_module_version": "1.5.0",
      "_view_name": "HTMLView",
      "description": "",
      "description_tooltip": null,
      "layout": "IPY_MODEL_2b8e5cdfaee744bfab235872134085f2",
      "placeholder": "​",
      "style": "IPY_MODEL_c3436f7c5cb2496e818b4034095bedfe",
      "value": " 1641/1641 [00:18&lt;00:00, 98.47it/s]"
     }
    },
    "24aed5ac223a40819e75fe817e12b1c4": {
     "model_module": "@jupyter-widgets/controls",
     "model_module_version": "1.5.0",
     "model_name": "HBoxModel",
     "state": {
      "_dom_classes": [],
      "_model_module": "@jupyter-widgets/controls",
      "_model_module_version": "1.5.0",
      "_model_name": "HBoxModel",
      "_view_count": null,
      "_view_module": "@jupyter-widgets/controls",
      "_view_module_version": "1.5.0",
      "_view_name": "HBoxView",
      "box_style": "",
      "children": [
       "IPY_MODEL_a1228fb9dc1647bdad31122265f5082a",
       "IPY_MODEL_dd31baa9c462484c87ecd14b3e46eb50",
       "IPY_MODEL_6674fadc6a3e4b3ebc7f1de8ff00fe0b"
      ],
      "layout": "IPY_MODEL_0b9c529cd5c64809a3cbd598fe171b85"
     }
    },
    "2b8e5cdfaee744bfab235872134085f2": {
     "model_module": "@jupyter-widgets/base",
     "model_module_version": "1.2.0",
     "model_name": "LayoutModel",
     "state": {
      "_model_module": "@jupyter-widgets/base",
      "_model_module_version": "1.2.0",
      "_model_name": "LayoutModel",
      "_view_count": null,
      "_view_module": "@jupyter-widgets/base",
      "_view_module_version": "1.2.0",
      "_view_name": "LayoutView",
      "align_content": null,
      "align_items": null,
      "align_self": null,
      "border": null,
      "bottom": null,
      "display": null,
      "flex": null,
      "flex_flow": null,
      "grid_area": null,
      "grid_auto_columns": null,
      "grid_auto_flow": null,
      "grid_auto_rows": null,
      "grid_column": null,
      "grid_gap": null,
      "grid_row": null,
      "grid_template_areas": null,
      "grid_template_columns": null,
      "grid_template_rows": null,
      "height": null,
      "justify_content": null,
      "justify_items": null,
      "left": null,
      "margin": null,
      "max_height": null,
      "max_width": null,
      "min_height": null,
      "min_width": null,
      "object_fit": null,
      "object_position": null,
      "order": null,
      "overflow": null,
      "overflow_x": null,
      "overflow_y": null,
      "padding": null,
      "right": null,
      "top": null,
      "visibility": null,
      "width": null
     }
    },
    "30512b2f6d9f4eaaba8348f7ae39f9ca": {
     "model_module": "@jupyter-widgets/base",
     "model_module_version": "1.2.0",
     "model_name": "LayoutModel",
     "state": {
      "_model_module": "@jupyter-widgets/base",
      "_model_module_version": "1.2.0",
      "_model_name": "LayoutModel",
      "_view_count": null,
      "_view_module": "@jupyter-widgets/base",
      "_view_module_version": "1.2.0",
      "_view_name": "LayoutView",
      "align_content": null,
      "align_items": null,
      "align_self": null,
      "border": null,
      "bottom": null,
      "display": null,
      "flex": null,
      "flex_flow": null,
      "grid_area": null,
      "grid_auto_columns": null,
      "grid_auto_flow": null,
      "grid_auto_rows": null,
      "grid_column": null,
      "grid_gap": null,
      "grid_row": null,
      "grid_template_areas": null,
      "grid_template_columns": null,
      "grid_template_rows": null,
      "height": null,
      "justify_content": null,
      "justify_items": null,
      "left": null,
      "margin": null,
      "max_height": null,
      "max_width": null,
      "min_height": null,
      "min_width": null,
      "object_fit": null,
      "object_position": null,
      "order": null,
      "overflow": null,
      "overflow_x": null,
      "overflow_y": null,
      "padding": null,
      "right": null,
      "top": null,
      "visibility": null,
      "width": null
     }
    },
    "528220ac7a4341099c37609e1d423383": {
     "model_module": "@jupyter-widgets/controls",
     "model_module_version": "1.5.0",
     "model_name": "FloatProgressModel",
     "state": {
      "_dom_classes": [],
      "_model_module": "@jupyter-widgets/controls",
      "_model_module_version": "1.5.0",
      "_model_name": "FloatProgressModel",
      "_view_count": null,
      "_view_module": "@jupyter-widgets/controls",
      "_view_module_version": "1.5.0",
      "_view_name": "ProgressView",
      "bar_style": "success",
      "description": "",
      "description_tooltip": null,
      "layout": "IPY_MODEL_30512b2f6d9f4eaaba8348f7ae39f9ca",
      "max": 1641,
      "min": 0,
      "orientation": "horizontal",
      "style": "IPY_MODEL_d2cdaee2dd5d4ccd95757ae5fe1c0164",
      "value": 1641
     }
    },
    "5a41577893ee417694c17ac000ed803b": {
     "model_module": "@jupyter-widgets/controls",
     "model_module_version": "1.5.0",
     "model_name": "HTMLModel",
     "state": {
      "_dom_classes": [],
      "_model_module": "@jupyter-widgets/controls",
      "_model_module_version": "1.5.0",
      "_model_name": "HTMLModel",
      "_view_count": null,
      "_view_module": "@jupyter-widgets/controls",
      "_view_module_version": "1.5.0",
      "_view_name": "HTMLView",
      "description": "",
      "description_tooltip": null,
      "layout": "IPY_MODEL_e175228d4d3e42caa4ecea14a66200a4",
      "placeholder": "​",
      "style": "IPY_MODEL_93962eaf91574541892fc780ce20c526",
      "value": "Photos cropped: 100%"
     }
    },
    "6674fadc6a3e4b3ebc7f1de8ff00fe0b": {
     "model_module": "@jupyter-widgets/controls",
     "model_module_version": "1.5.0",
     "model_name": "HTMLModel",
     "state": {
      "_dom_classes": [],
      "_model_module": "@jupyter-widgets/controls",
      "_model_module_version": "1.5.0",
      "_model_name": "HTMLModel",
      "_view_count": null,
      "_view_module": "@jupyter-widgets/controls",
      "_view_module_version": "1.5.0",
      "_view_name": "HTMLView",
      "description": "",
      "description_tooltip": null,
      "layout": "IPY_MODEL_e6b67f4cbe1d484cb5b447a9db8dce0e",
      "placeholder": "​",
      "style": "IPY_MODEL_d889dac4ecd8428fa53a1549767f1ee9",
      "value": " 6564/6564 [01:09&lt;00:00, 75.96it/s]"
     }
    },
    "67ece11cfc0c4b9d8b4bed68f1a44df4": {
     "model_module": "@jupyter-widgets/base",
     "model_module_version": "1.2.0",
     "model_name": "LayoutModel",
     "state": {
      "_model_module": "@jupyter-widgets/base",
      "_model_module_version": "1.2.0",
      "_model_name": "LayoutModel",
      "_view_count": null,
      "_view_module": "@jupyter-widgets/base",
      "_view_module_version": "1.2.0",
      "_view_name": "LayoutView",
      "align_content": null,
      "align_items": null,
      "align_self": null,
      "border": null,
      "bottom": null,
      "display": null,
      "flex": null,
      "flex_flow": null,
      "grid_area": null,
      "grid_auto_columns": null,
      "grid_auto_flow": null,
      "grid_auto_rows": null,
      "grid_column": null,
      "grid_gap": null,
      "grid_row": null,
      "grid_template_areas": null,
      "grid_template_columns": null,
      "grid_template_rows": null,
      "height": null,
      "justify_content": null,
      "justify_items": null,
      "left": null,
      "margin": null,
      "max_height": null,
      "max_width": null,
      "min_height": null,
      "min_width": null,
      "object_fit": null,
      "object_position": null,
      "order": null,
      "overflow": null,
      "overflow_x": null,
      "overflow_y": null,
      "padding": null,
      "right": null,
      "top": null,
      "visibility": null,
      "width": null
     }
    },
    "7b755a294343456ab90aee4e9db5f752": {
     "model_module": "@jupyter-widgets/base",
     "model_module_version": "1.2.0",
     "model_name": "LayoutModel",
     "state": {
      "_model_module": "@jupyter-widgets/base",
      "_model_module_version": "1.2.0",
      "_model_name": "LayoutModel",
      "_view_count": null,
      "_view_module": "@jupyter-widgets/base",
      "_view_module_version": "1.2.0",
      "_view_name": "LayoutView",
      "align_content": null,
      "align_items": null,
      "align_self": null,
      "border": null,
      "bottom": null,
      "display": null,
      "flex": null,
      "flex_flow": null,
      "grid_area": null,
      "grid_auto_columns": null,
      "grid_auto_flow": null,
      "grid_auto_rows": null,
      "grid_column": null,
      "grid_gap": null,
      "grid_row": null,
      "grid_template_areas": null,
      "grid_template_columns": null,
      "grid_template_rows": null,
      "height": null,
      "justify_content": null,
      "justify_items": null,
      "left": null,
      "margin": null,
      "max_height": null,
      "max_width": null,
      "min_height": null,
      "min_width": null,
      "object_fit": null,
      "object_position": null,
      "order": null,
      "overflow": null,
      "overflow_x": null,
      "overflow_y": null,
      "padding": null,
      "right": null,
      "top": null,
      "visibility": null,
      "width": null
     }
    },
    "92550f8691d64c4f885ed9b149815404": {
     "model_module": "@jupyter-widgets/controls",
     "model_module_version": "1.5.0",
     "model_name": "HBoxModel",
     "state": {
      "_dom_classes": [],
      "_model_module": "@jupyter-widgets/controls",
      "_model_module_version": "1.5.0",
      "_model_name": "HBoxModel",
      "_view_count": null,
      "_view_module": "@jupyter-widgets/controls",
      "_view_module_version": "1.5.0",
      "_view_name": "HBoxView",
      "box_style": "",
      "children": [
       "IPY_MODEL_5a41577893ee417694c17ac000ed803b",
       "IPY_MODEL_528220ac7a4341099c37609e1d423383",
       "IPY_MODEL_1721c6cd62ed43d6805127487b902afc"
      ],
      "layout": "IPY_MODEL_7b755a294343456ab90aee4e9db5f752"
     }
    },
    "93962eaf91574541892fc780ce20c526": {
     "model_module": "@jupyter-widgets/controls",
     "model_module_version": "1.5.0",
     "model_name": "DescriptionStyleModel",
     "state": {
      "_model_module": "@jupyter-widgets/controls",
      "_model_module_version": "1.5.0",
      "_model_name": "DescriptionStyleModel",
      "_view_count": null,
      "_view_module": "@jupyter-widgets/base",
      "_view_module_version": "1.2.0",
      "_view_name": "StyleView",
      "description_width": ""
     }
    },
    "998ee8506d8e4ca1a0cae38501d6ed71": {
     "model_module": "@jupyter-widgets/base",
     "model_module_version": "1.2.0",
     "model_name": "LayoutModel",
     "state": {
      "_model_module": "@jupyter-widgets/base",
      "_model_module_version": "1.2.0",
      "_model_name": "LayoutModel",
      "_view_count": null,
      "_view_module": "@jupyter-widgets/base",
      "_view_module_version": "1.2.0",
      "_view_name": "LayoutView",
      "align_content": null,
      "align_items": null,
      "align_self": null,
      "border": null,
      "bottom": null,
      "display": null,
      "flex": null,
      "flex_flow": null,
      "grid_area": null,
      "grid_auto_columns": null,
      "grid_auto_flow": null,
      "grid_auto_rows": null,
      "grid_column": null,
      "grid_gap": null,
      "grid_row": null,
      "grid_template_areas": null,
      "grid_template_columns": null,
      "grid_template_rows": null,
      "height": null,
      "justify_content": null,
      "justify_items": null,
      "left": null,
      "margin": null,
      "max_height": null,
      "max_width": null,
      "min_height": null,
      "min_width": null,
      "object_fit": null,
      "object_position": null,
      "order": null,
      "overflow": null,
      "overflow_x": null,
      "overflow_y": null,
      "padding": null,
      "right": null,
      "top": null,
      "visibility": null,
      "width": null
     }
    },
    "a1228fb9dc1647bdad31122265f5082a": {
     "model_module": "@jupyter-widgets/controls",
     "model_module_version": "1.5.0",
     "model_name": "HTMLModel",
     "state": {
      "_dom_classes": [],
      "_model_module": "@jupyter-widgets/controls",
      "_model_module_version": "1.5.0",
      "_model_name": "HTMLModel",
      "_view_count": null,
      "_view_module": "@jupyter-widgets/controls",
      "_view_module_version": "1.5.0",
      "_view_name": "HTMLView",
      "description": "",
      "description_tooltip": null,
      "layout": "IPY_MODEL_67ece11cfc0c4b9d8b4bed68f1a44df4",
      "placeholder": "​",
      "style": "IPY_MODEL_dc53962a99bb4e3ab7497723fec5a9bb",
      "value": "Photos cropped: 100%"
     }
    },
    "c3436f7c5cb2496e818b4034095bedfe": {
     "model_module": "@jupyter-widgets/controls",
     "model_module_version": "1.5.0",
     "model_name": "DescriptionStyleModel",
     "state": {
      "_model_module": "@jupyter-widgets/controls",
      "_model_module_version": "1.5.0",
      "_model_name": "DescriptionStyleModel",
      "_view_count": null,
      "_view_module": "@jupyter-widgets/base",
      "_view_module_version": "1.2.0",
      "_view_name": "StyleView",
      "description_width": ""
     }
    },
    "d2cdaee2dd5d4ccd95757ae5fe1c0164": {
     "model_module": "@jupyter-widgets/controls",
     "model_module_version": "1.5.0",
     "model_name": "ProgressStyleModel",
     "state": {
      "_model_module": "@jupyter-widgets/controls",
      "_model_module_version": "1.5.0",
      "_model_name": "ProgressStyleModel",
      "_view_count": null,
      "_view_module": "@jupyter-widgets/base",
      "_view_module_version": "1.2.0",
      "_view_name": "StyleView",
      "bar_color": null,
      "description_width": ""
     }
    },
    "d889dac4ecd8428fa53a1549767f1ee9": {
     "model_module": "@jupyter-widgets/controls",
     "model_module_version": "1.5.0",
     "model_name": "DescriptionStyleModel",
     "state": {
      "_model_module": "@jupyter-widgets/controls",
      "_model_module_version": "1.5.0",
      "_model_name": "DescriptionStyleModel",
      "_view_count": null,
      "_view_module": "@jupyter-widgets/base",
      "_view_module_version": "1.2.0",
      "_view_name": "StyleView",
      "description_width": ""
     }
    },
    "dc53962a99bb4e3ab7497723fec5a9bb": {
     "model_module": "@jupyter-widgets/controls",
     "model_module_version": "1.5.0",
     "model_name": "DescriptionStyleModel",
     "state": {
      "_model_module": "@jupyter-widgets/controls",
      "_model_module_version": "1.5.0",
      "_model_name": "DescriptionStyleModel",
      "_view_count": null,
      "_view_module": "@jupyter-widgets/base",
      "_view_module_version": "1.2.0",
      "_view_name": "StyleView",
      "description_width": ""
     }
    },
    "dd31baa9c462484c87ecd14b3e46eb50": {
     "model_module": "@jupyter-widgets/controls",
     "model_module_version": "1.5.0",
     "model_name": "FloatProgressModel",
     "state": {
      "_dom_classes": [],
      "_model_module": "@jupyter-widgets/controls",
      "_model_module_version": "1.5.0",
      "_model_name": "FloatProgressModel",
      "_view_count": null,
      "_view_module": "@jupyter-widgets/controls",
      "_view_module_version": "1.5.0",
      "_view_name": "ProgressView",
      "bar_style": "success",
      "description": "",
      "description_tooltip": null,
      "layout": "IPY_MODEL_998ee8506d8e4ca1a0cae38501d6ed71",
      "max": 6564,
      "min": 0,
      "orientation": "horizontal",
      "style": "IPY_MODEL_f69f965935b04c3ca2e477a36f589029",
      "value": 6564
     }
    },
    "e175228d4d3e42caa4ecea14a66200a4": {
     "model_module": "@jupyter-widgets/base",
     "model_module_version": "1.2.0",
     "model_name": "LayoutModel",
     "state": {
      "_model_module": "@jupyter-widgets/base",
      "_model_module_version": "1.2.0",
      "_model_name": "LayoutModel",
      "_view_count": null,
      "_view_module": "@jupyter-widgets/base",
      "_view_module_version": "1.2.0",
      "_view_name": "LayoutView",
      "align_content": null,
      "align_items": null,
      "align_self": null,
      "border": null,
      "bottom": null,
      "display": null,
      "flex": null,
      "flex_flow": null,
      "grid_area": null,
      "grid_auto_columns": null,
      "grid_auto_flow": null,
      "grid_auto_rows": null,
      "grid_column": null,
      "grid_gap": null,
      "grid_row": null,
      "grid_template_areas": null,
      "grid_template_columns": null,
      "grid_template_rows": null,
      "height": null,
      "justify_content": null,
      "justify_items": null,
      "left": null,
      "margin": null,
      "max_height": null,
      "max_width": null,
      "min_height": null,
      "min_width": null,
      "object_fit": null,
      "object_position": null,
      "order": null,
      "overflow": null,
      "overflow_x": null,
      "overflow_y": null,
      "padding": null,
      "right": null,
      "top": null,
      "visibility": null,
      "width": null
     }
    },
    "e6b67f4cbe1d484cb5b447a9db8dce0e": {
     "model_module": "@jupyter-widgets/base",
     "model_module_version": "1.2.0",
     "model_name": "LayoutModel",
     "state": {
      "_model_module": "@jupyter-widgets/base",
      "_model_module_version": "1.2.0",
      "_model_name": "LayoutModel",
      "_view_count": null,
      "_view_module": "@jupyter-widgets/base",
      "_view_module_version": "1.2.0",
      "_view_name": "LayoutView",
      "align_content": null,
      "align_items": null,
      "align_self": null,
      "border": null,
      "bottom": null,
      "display": null,
      "flex": null,
      "flex_flow": null,
      "grid_area": null,
      "grid_auto_columns": null,
      "grid_auto_flow": null,
      "grid_auto_rows": null,
      "grid_column": null,
      "grid_gap": null,
      "grid_row": null,
      "grid_template_areas": null,
      "grid_template_columns": null,
      "grid_template_rows": null,
      "height": null,
      "justify_content": null,
      "justify_items": null,
      "left": null,
      "margin": null,
      "max_height": null,
      "max_width": null,
      "min_height": null,
      "min_width": null,
      "object_fit": null,
      "object_position": null,
      "order": null,
      "overflow": null,
      "overflow_x": null,
      "overflow_y": null,
      "padding": null,
      "right": null,
      "top": null,
      "visibility": null,
      "width": null
     }
    },
    "f69f965935b04c3ca2e477a36f589029": {
     "model_module": "@jupyter-widgets/controls",
     "model_module_version": "1.5.0",
     "model_name": "ProgressStyleModel",
     "state": {
      "_model_module": "@jupyter-widgets/controls",
      "_model_module_version": "1.5.0",
      "_model_name": "ProgressStyleModel",
      "_view_count": null,
      "_view_module": "@jupyter-widgets/base",
      "_view_module_version": "1.2.0",
      "_view_name": "StyleView",
      "bar_color": null,
      "description_width": ""
     }
    }
   }
  }
 },
 "nbformat": 4,
 "nbformat_minor": 1
}
