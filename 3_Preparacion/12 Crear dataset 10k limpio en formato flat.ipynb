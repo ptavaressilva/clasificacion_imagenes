{
 "cells": [
  {
   "cell_type": "markdown",
   "id": "109a07e9",
   "metadata": {},
   "source": [
    "**Función:** crear un sub dataset 10k limpio en una carpeta que contiene una carpeta por label y las fotos ya recortadas.\n",
    "\n",
    "**Requiere:**\n",
    "\n",
    "**Crea:**\n",
    "- ../datasets/flat_10k_224"
   ]
  },
  {
   "cell_type": "code",
   "execution_count": null,
   "id": "d74e1569",
   "metadata": {},
   "outputs": [],
   "source": [
    "ejecutadoEnGoogleDrive = False # True si se ejecuta en Google Drive"
   ]
  },
  {
   "cell_type": "code",
   "execution_count": null,
   "id": "47cc8d40",
   "metadata": {},
   "outputs": [],
   "source": [
    "if ejecutadoEnGoogleDrive:\n",
    "    from google.colab import drive\n",
    "    drive.mount('/content/drive')\n",
    "    PATH = '/content/drive/clasificacion_imagenes'\n",
    "else:\n",
    "    PATH = '../'"
   ]
  },
  {
   "cell_type": "code",
   "execution_count": 27,
   "id": "42c1da28",
   "metadata": {},
   "outputs": [
    {
     "data": {
      "text/plain": [
       "<module 'recortar_flat' from '/drive/Experimento_5/recortar_flat.py'>"
      ]
     },
     "execution_count": 27,
     "metadata": {},
     "output_type": "execute_result"
    }
   ],
   "source": [
    "import importlib\n",
    "import recortar_flat\n",
    "importlib.reload(recortar_flat)"
   ]
  },
  {
   "cell_type": "code",
   "execution_count": 28,
   "id": "9bf7f6ea",
   "metadata": {},
   "outputs": [
    {
     "name": "stdout",
     "output_type": "stream",
     "text": [
      "Carpeta datasets/flat_10k_224 eliminada\n",
      "Carpeta datasets/flat_10k_224 creada\n",
      "Carpeta datasets/flat_10k_224 creada\n",
      "Carpeta datasets/flat_10k_224 creada\n",
      "Carpeta datasets/flat_10k_224 creada\n",
      "Carpeta datasets/flat_10k_224 creada\n"
     ]
    }
   ],
   "source": [
    "%run recortar_flat.py --dataset_origin_path {PATH}/dataset/flat_10k --dataset_output_path {PATH}/dataset/flat_10k_224"
   ]
  }
 ],
 "metadata": {
  "kernelspec": {
   "display_name": "Python 3 (ipykernel)",
   "language": "python",
   "name": "python3"
  },
  "language_info": {
   "codemirror_mode": {
    "name": "ipython",
    "version": 3
   },
   "file_extension": ".py",
   "mimetype": "text/x-python",
   "name": "python",
   "nbconvert_exporter": "python",
   "pygments_lexer": "ipython3",
   "version": "3.8.10"
  }
 },
 "nbformat": 4,
 "nbformat_minor": 5
}
