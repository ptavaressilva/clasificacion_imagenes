{
 "cells": [
  {
   "cell_type": "markdown",
   "metadata": {},
   "source": [
    "**Función:** crea listado de fotos para el sub dataset 10k (por limpiar). No incluye ficheros corruptos.\n",
    "\n",
    "**Requiere:**\n",
    "- ../datasets/photos (con todas las fotos del dataset)\n",
    "- ../datasets/photos_train.json (fichero json con labels de todas las fotos)\n",
    "\n",
    "**Crea:**\n",
    "- ../datasets/corrupt_ids.json\n",
    "- ../datasets/df_10k.json"
   ]
  },
  {
   "cell_type": "code",
   "execution_count": null,
   "metadata": {
    "id": "ZZvVfPnLx13i"
   },
   "outputs": [],
   "source": [
    "import pandas as pd\n",
    "import json\n",
    "import os\n",
    "from PIL import Image"
   ]
  },
  {
   "cell_type": "code",
   "execution_count": null,
   "metadata": {},
   "outputs": [],
   "source": [
    "ejecutadoEnGoogleDrive = False # True si se ejecuta en Google Drive"
   ]
  },
  {
   "cell_type": "code",
   "execution_count": null,
   "metadata": {
    "colab": {
     "base_uri": "https://localhost:8080/"
    },
    "executionInfo": {
     "elapsed": 18920,
     "status": "ok",
     "timestamp": 1662992556279,
     "user": {
      "displayName": "Carlos Cejas",
      "userId": "14504320149228723836"
     },
     "user_tz": -120
    },
    "id": "P1SbBSsbyJ25",
    "outputId": "75e0b136-68bd-4460-90ca-b205b801262b"
   },
   "outputs": [
    {
     "name": "stdout",
     "output_type": "stream",
     "text": [
      "Mounted at /content/drive\n"
     ]
    }
   ],
   "source": [
    "if ejecutadoEnGoogleDrive:\n",
    "    from google.colab import drive\n",
    "    drive.mount('/content/drive')\n",
    "    PATH = '/content/drive/clasificacion_imagenes'\n",
    "else:\n",
    "    PATH = '../'"
   ]
  },
  {
   "cell_type": "markdown",
   "metadata": {
    "id": "fRy3SX8aNcBA"
   },
   "source": [
    "# Detección de fotos corruptas"
   ]
  },
  {
   "cell_type": "code",
   "execution_count": null,
   "metadata": {
    "id": "zTyD2BAJGjxH"
   },
   "outputs": [],
   "source": [
    "# Loop por todas las fotos para ver IDs que no abren. \n",
    "folder = PATH + 'datasets/photos'\n",
    "item_list = os.listdir(folder)\n",
    "ok_ids = []\n",
    "corrupt_ids = []\n",
    "for i in item_list:\n",
    "    try:\n",
    "        im = Image.open(folder + \"/\" + i)\n",
    "    except:\n",
    "        splitter = i.split(\".\")[0]\n",
    "        corrupt_ids.append(splitter)"
   ]
  },
  {
   "cell_type": "code",
   "execution_count": null,
   "metadata": {
    "id": "7NN1Q3KyL8mw"
   },
   "outputs": [],
   "source": [
    "# Guardar los ids de fotos corruptas\n",
    "with open(PATH + 'datasets/corrupt_ids.json', 'w') as corrupt_json:\n",
    "    json.dump(corrupt_ids, corrupt_json)"
   ]
  },
  {
   "cell_type": "code",
   "execution_count": null,
   "metadata": {
    "colab": {
     "base_uri": "https://localhost:8080/"
    },
    "executionInfo": {
     "elapsed": 226,
     "status": "ok",
     "timestamp": 1662641990642,
     "user": {
      "displayName": "Toni Vila",
      "userId": "16769261626805193360"
     },
     "user_tz": -120
    },
    "id": "sqEE9BdqLstU",
    "outputId": "60ccd57e-d4c2-4a60-9604-ea63bed953dc"
   },
   "outputs": [
    {
     "name": "stdout",
     "output_type": "stream",
     "text": [
      "['74upe0h6XxwgzqpdnAh_7Q', '-BIybLxzoFt2d2zbYRcfHA', '-NGY_19QK2zq913HdiYc5A', 'm3oIKhKKCQD54y1E-dBKSw', 'feUGw0P5byOq4U40C77tyQ', 'AkiGRjaMKHdJyV7bdHsQjw', 'n6Q9vNuxz7786ESEfautxQ', '9BvYOtforBBP6MvvDogtmw', 'juDNZOOnkgG3QINFrulsAg', 'pY32hIagdxrL4Nsi959EQg', 'E7Wpzn-1fCnVJ8_zKpecPQ', 'ytJ4lihJrvyzMMRG-WwDNw', '0fac-NlXqfBO2pWRkmM9aw', 'NKEFWvRriK-LvagPz2QRxw', 'jU-dKl2Ye4L_5x602yoctQ', '0TpeNZPs3Gu8s30KVXudcg', '1MOGQBWogR8oJr1WgERi9g', 'qxSXsYMA3aWuAfigeqeOOQ', 'K6pfRNwGodm1m1gFVQlj-Q', 'rrfwGSwt3eHxxypfu5PGTA', '9X4YPM8nYFjf7hY8xUdc6Q', 'RIeulJUzgemFugkkgg4qgA', 'MZj64XNUN6Og178-6XYR6g', '9RDbbAZB0HnL4hndCWB58w', 'PFD3ykdI1WVhvZ8IX4PmLQ', 'hclqCX1FWcV_TtJJoI3BpQ', 'IExxMfr1h0bxw54jsanyKA', 'lrfy4UVIWtj0xwboLgUreQ', 'UG2JuFFa_WxhPEtMOtq-JQ', 'OK6HsALzFcBAUlrroKHZGg', 'JGpfPj8VEvnq1B-Xqr3w-A', 'c73YwNh1JsYR5Hz-u_bOrg', 'IB2ZjqjtS1W_DadQoPPdgg', 'O0bVFyP58TOEix6IjERXQA', 'DMCTwC3UT2w5QzHOQoqBPw', 'ke4ohxa93GJz0KH9H2kwsQ', 'MduVueqYTBlEkX-axrh1ug', 'WGmGujPl5BmR_fCUZnoe9w', 'W94rrCn0O5K1lkfD26m4tw', 'IUsKp87a-v9Yhx6Ftg1m5A', 'bf3ymV0YgP7B6rEoriaU2w', 'B7xR9CuhRpP52PoehQHVow', 'XX6ujA9CcB5s9y9wCy67-Q', 'TN4-gAea6ejAdZ-NzYXxng', 'hjEfal2a1DWRDu8_AUDLNg', '43fHlHSYQ_79OBJW1aVUxA', 'GPMWGVjuCsa6fadnZsEplw', 'TvD36_DdnyCJuXV1SSt3_Q', 'LhLfsQtYwJ5OmEzilubhXQ', 'QhATx1B1n8uf8C6siMNTfA', 'aUDiJhcFKt0exhyj4Q23Ow', 'VSekUmmsGZcX7KaPe_hXyw', 'yAf6R6OSgPo8-mmdDh8qIw', 't_sV6mI4oNvbvohhZAyeuA', 'YW1WMOkVbdFBrixDnKgoqA', 'NfayhoTudVJQsEF-XlPyjw', 'CA9z96gGA4y9QOes2Y9eGw', 'DB7BlUpO4LAmC1lCN62hqg', 'tlp6LCLDsvL1GjO_kW_plQ', 'AMSyCOP3-Eb_ivNA8w1Vhw', 'yFjqHyOaNFwzIWTV8EE9hg', 'IkGbGxI8IoOCuVsNB0VLrA', 'QRUo4vqUu3X9V4eIqBpY8A', 'zTzdu2QqLozHpW_qYWF84w', 'yhztPWh5IhaePpUQJNW-dQ', 'GWLmPwKeBnh2b_7Kv_LQ7w', 'LXT4hCf1lRyUeM4HDBaSvg', 'JZZ716oX6_MqH6L_MkWK-A', 'PjfJoBrEFgDrxiJy8nyatA', 'JoQ5xekjQUkj8rukJIzqgg', 'RhC7TNmFvbR9GWrlrl5dsA', '6bKuH4FOdaaPInF9NmlQHQ', 'l_rMdwgrvjm2PyHyXBcBTw', '9jBH61ndIcsheo6FtIHArA', 'rIhUkEmP-j4NcQVW3YuPYQ', 'pW1IPuTdLIUB61goirbXaA', '1wd_eyhMrTqUmicDmn4_Kw', 'amM65inTV6wvx0NNZN5qhg', 'gJH0d6Sut4eZDlbV0GCByg', 'CBxmBYD_5CXIL_F-2PDqmA', 'tSHz7RzlgceAItRejZ396A', 'kjMBhxBXOUE7SSUQb-YQbw', 'JG5s_bvRF1cSWf1fk9lTbw', 'hChXG-gGWxzGvalse3EYmw', '-YAvSvGUs2ugiJUvIRO6Jw', '-ZkmgGLJ7AJTjy96nocMNw', 'ydm3g1wUWSxJnMPgHk2JhQ', 'iX-8Xm2G7meRHUg8qhoL1A', '5q-sAvIPl0yNeuAbNBPM1g', 'N6hL8FQ84A2DznF2S2Lp7g', 'nKJ7yiPc0E_DJNtNxmCrhg', 'qMlGILrsrzhMDxajNYiyIA', '2S78q98b_VpBD7vkrDE5-A', 'C6n0nKVbgLbYmxSiQ_bFsg', 'cNkUV0sInfh_Py5PP8SHtQ', 'j5-4lzg23yGECBa6l1fyRQ', '_exWW0g4Svg1Eo2YWsGzbg', 'w5ABnSadHC8z1lthMQBaBQ', 'RLtBKD2rlfTaELWejmLBCA', 'Y3lA41pnMkQNGfyREkf6SA', '7xcWPjcE4mxoQ1AjvvKJZg', 'cwwoZcpqdu2MwdDusNyTdg', 'Pk87_8Yndygr4LRUD_H7Hg', 'rLafN9k3_AF5lZU0cs3LZg', 'ARwqGQZaT0p-XpYYjMXgQg', 'l2vR3PyVMF3pgIERdDEuiQ']\n"
     ]
    }
   ],
   "source": [
    "print(corrupt_ids)"
   ]
  },
  {
   "cell_type": "code",
   "execution_count": null,
   "metadata": {
    "colab": {
     "base_uri": "https://localhost:8080/"
    },
    "executionInfo": {
     "elapsed": 260,
     "status": "ok",
     "timestamp": 1662630053434,
     "user": {
      "displayName": "Toni Vila",
      "userId": "16769261626805193360"
     },
     "user_tz": -120
    },
    "id": "3EHOVkzreK_x",
    "outputId": "389ca090-140e-4fa2-d2ec-9e8d31d5b360"
   },
   "outputs": [
    {
     "name": "stdout",
     "output_type": "stream",
     "text": [
      "199992\n"
     ]
    }
   ],
   "source": [
    "print(len(item_list) - len(corrupt_ids))"
   ]
  },
  {
   "cell_type": "markdown",
   "metadata": {
    "id": "Yq-_a3yvNf7L"
   },
   "source": [
    "# Eliminación de corruptos"
   ]
  },
  {
   "cell_type": "code",
   "execution_count": null,
   "metadata": {
    "id": "T8giELPSyV8_"
   },
   "outputs": [],
   "source": [
    "# Read JSON\n",
    "json_train_path = PATH + 'datasets/photos_train.json'\n",
    "df = pd.read_json(json_train_path, lines=True)\n",
    "df.head()"
   ]
  },
  {
   "cell_type": "code",
   "execution_count": null,
   "metadata": {
    "colab": {
     "base_uri": "https://localhost:8080/"
    },
    "executionInfo": {
     "elapsed": 3,
     "status": "ok",
     "timestamp": 1662642821297,
     "user": {
      "displayName": "Toni Vila",
      "userId": "16769261626805193360"
     },
     "user_tz": -120
    },
    "id": "gYSwGMmEPAOw",
    "outputId": "a25c9619-58b6-4ae3-dbe0-612e0c5bead8"
   },
   "outputs": [
    {
     "name": "stdout",
     "output_type": "stream",
     "text": [
      "<class 'pandas.core.frame.DataFrame'>\n",
      "RangeIndex: 180090 entries, 0 to 180089\n",
      "Data columns (total 4 columns):\n",
      " #   Column       Non-Null Count   Dtype \n",
      "---  ------       --------------   ----- \n",
      " 0   photo_id     180090 non-null  object\n",
      " 1   business_id  180090 non-null  object\n",
      " 2   caption      180090 non-null  object\n",
      " 3   label        180090 non-null  object\n",
      "dtypes: object(4)\n",
      "memory usage: 5.5+ MB\n"
     ]
    }
   ],
   "source": [
    "df.info()"
   ]
  },
  {
   "cell_type": "code",
   "execution_count": null,
   "metadata": {
    "colab": {
     "base_uri": "https://localhost:8080/"
    },
    "executionInfo": {
     "elapsed": 356,
     "status": "ok",
     "timestamp": 1662642789808,
     "user": {
      "displayName": "Toni Vila",
      "userId": "16769261626805193360"
     },
     "user_tz": -120
    },
    "id": "icvoPPQ4NjjY",
    "outputId": "ec9989a2-a10f-4f48-b752-b3ba9bb90d16"
   },
   "outputs": [
    {
     "name": "stdout",
     "output_type": "stream",
     "text": [
      "<class 'pandas.core.frame.DataFrame'>\n",
      "Int64Index: 179997 entries, 0 to 180089\n",
      "Data columns (total 4 columns):\n",
      " #   Column       Non-Null Count   Dtype \n",
      "---  ------       --------------   ----- \n",
      " 0   photo_id     179997 non-null  object\n",
      " 1   business_id  179997 non-null  object\n",
      " 2   caption      179997 non-null  object\n",
      " 3   label        179997 non-null  object\n",
      "dtypes: object(4)\n",
      "memory usage: 6.9+ MB\n"
     ]
    }
   ],
   "source": [
    "df_clean = df[df['photo_id'].isin(corrupt_ids) == False]\n",
    "df_clean.info()\n"
   ]
  },
  {
   "cell_type": "code",
   "execution_count": null,
   "metadata": {
    "colab": {
     "base_uri": "https://localhost:8080/"
    },
    "executionInfo": {
     "elapsed": 4,
     "status": "ok",
     "timestamp": 1662642851549,
     "user": {
      "displayName": "Toni Vila",
      "userId": "16769261626805193360"
     },
     "user_tz": -120
    },
    "id": "W0KEJl1RPCwm",
    "outputId": "4ffbc844-cd5a-4860-9b68-8a55038e59df"
   },
   "outputs": [
    {
     "name": "stdout",
     "output_type": "stream",
     "text": [
      "93\n"
     ]
    }
   ],
   "source": [
    "print(df.shape[0] - df_clean.shape[0])"
   ]
  },
  {
   "cell_type": "markdown",
   "metadata": {
    "id": "Zxltsmc7NkGF"
   },
   "source": [
    "# Creación del sub dataset 10k (por limpiar)\n",
    "(misma proporción que el dataset completo)"
   ]
  },
  {
   "cell_type": "code",
   "execution_count": null,
   "metadata": {
    "colab": {
     "base_uri": "https://localhost:8080/"
    },
    "executionInfo": {
     "elapsed": 3,
     "status": "ok",
     "timestamp": 1662585329080,
     "user": {
      "displayName": "Toni Vila",
      "userId": "16769261626805193360"
     },
     "user_tz": -120
    },
    "id": "9JlpYcTlzrBH",
    "outputId": "60f791c0-45bf-4c5b-8248-641437e05c8f"
   },
   "outputs": [
    {
     "data": {
      "text/plain": [
       "food       0.540491\n",
       "inside     0.280016\n",
       "outside    0.092798\n",
       "drink      0.078311\n",
       "menu       0.008385\n",
       "Name: label, dtype: float64"
      ]
     },
     "execution_count": 14,
     "metadata": {},
     "output_type": "execute_result"
    }
   ],
   "source": [
    "df.label.value_counts() / df.shape[0]"
   ]
  },
  {
   "cell_type": "code",
   "execution_count": null,
   "metadata": {
    "colab": {
     "base_uri": "https://localhost:8080/"
    },
    "executionInfo": {
     "elapsed": 560,
     "status": "ok",
     "timestamp": 1662643008709,
     "user": {
      "displayName": "Toni Vila",
      "userId": "16769261626805193360"
     },
     "user_tz": -120
    },
    "id": "gt4C3ybL4Inj",
    "outputId": "8102c424-a700-41ce-b841-80e0859c7e16"
   },
   "outputs": [
    {
     "data": {
      "text/plain": [
       "food       5405\n",
       "inside     2800\n",
       "outside     928\n",
       "drink       783\n",
       "menu         84\n",
       "Name: label, dtype: int64"
      ]
     },
     "execution_count": 23,
     "metadata": {},
     "output_type": "execute_result"
    }
   ],
   "source": [
    "# Create a dataframe. No usar clean_df para no contar con archivos corruptos. \n",
    "def create_df(num_samples, dataframe):\n",
    "    labels = list(df.label.value_counts().reset_index()['index'])\n",
    "    proportion = list(df.label.value_counts() / df.shape[0])   \n",
    "    dict_samples = {}\n",
    "    for (i, j) in zip(labels, proportion):\n",
    "        dict_samples[i] = int(round(j * num_samples, 0))\n",
    "    df_short = pd.DataFrame()\n",
    "    for i in dict_samples.keys():\n",
    "        df_temp = dataframe[dataframe['label'] == i].sample(dict_samples[i])\n",
    "        df_short = pd.concat([df_short, df_temp], axis=0)\n",
    "    return df_short\n",
    "df_reduced = create_df(10000, df_clean)\n",
    "df_reduced.label.value_counts()"
   ]
  },
  {
   "cell_type": "code",
   "execution_count": null,
   "metadata": {
    "colab": {
     "base_uri": "https://localhost:8080/"
    },
    "executionInfo": {
     "elapsed": 206,
     "status": "ok",
     "timestamp": 1662643014272,
     "user": {
      "displayName": "Toni Vila",
      "userId": "16769261626805193360"
     },
     "user_tz": -120
    },
    "id": "MjKxsiKA8EW5",
    "outputId": "35cb8c20-6d52-4bc8-c8b9-a3c857d74dbc"
   },
   "outputs": [
    {
     "data": {
      "text/plain": [
       "10000"
      ]
     },
     "execution_count": 24,
     "metadata": {},
     "output_type": "execute_result"
    }
   ],
   "source": [
    "# Check archivos únicos\n",
    "df_reduced.photo_id.nunique()"
   ]
  },
  {
   "cell_type": "code",
   "execution_count": null,
   "metadata": {
    "id": "2Vneri2IS_8g"
   },
   "outputs": [],
   "source": [
    "df_clean_json = df_reduced.to_json(PATH + 'datasets/df_10k.json', orient = 'records')"
   ]
  },
  {
   "cell_type": "markdown",
   "metadata": {
    "id": "-81ravOrPdJj"
   },
   "source": [
    "# mini EDA del 10k"
   ]
  },
  {
   "cell_type": "code",
   "execution_count": null,
   "metadata": {
    "colab": {
     "base_uri": "https://localhost:8080/"
    },
    "executionInfo": {
     "elapsed": 6,
     "status": "ok",
     "timestamp": 1662587496129,
     "user": {
      "displayName": "Toni Vila",
      "userId": "16769261626805193360"
     },
     "user_tz": -120
    },
    "id": "e5k2OkBUzB_L",
    "outputId": "2794aa67-bf41-4fd7-8c94-b832f9e5b8b7"
   },
   "outputs": [
    {
     "name": "stdout",
     "output_type": "stream",
     "text": [
      "{'food': 5405.0, 'inside': 2800.0, 'outside': 928.0, 'drink': 783.0, 'menu': 84.0}\n",
      "10000.0\n"
     ]
    }
   ],
   "source": [
    "# Ejemplo numero de fotos por categoría\n",
    "labels = list(df.label.value_counts().reset_index()['index'])\n",
    "proportion = list(df.label.value_counts() / df.shape[0])\n",
    "fotos = 10000\n",
    "cummulative = []\n",
    "for i in proportion:\n",
    "    cummulative.append(round(i * fotos, 0))\n",
    "print(dict(zip(labels, cummulative)))\n",
    "print(sum(cummulative))"
   ]
  }
 ],
 "metadata": {
  "colab": {
   "collapsed_sections": [],
   "provenance": []
  },
  "kernelspec": {
   "display_name": "Python 3 (ipykernel)",
   "language": "python",
   "name": "python3"
  },
  "language_info": {
   "codemirror_mode": {
    "name": "ipython",
    "version": 3
   },
   "file_extension": ".py",
   "mimetype": "text/x-python",
   "name": "python",
   "nbconvert_exporter": "python",
   "pygments_lexer": "ipython3",
   "version": "3.8.10"
  }
 },
 "nbformat": 4,
 "nbformat_minor": 1
}
